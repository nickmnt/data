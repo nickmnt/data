{
  "nbformat": 4,
  "nbformat_minor": 0,
  "metadata": {
    "colab": {
      "name": "NeuralProject.ipynb",
      "provenance": [],
      "collapsed_sections": [],
      "toc_visible": true,
      "mount_file_id": "17h16pEu1mU9-x7yxEIrl6HqV2QxY3k9P",
      "authorship_tag": "ABX9TyPMc+vp53mKIMmWBKWpNaYu",
      "include_colab_link": true
    },
    "kernelspec": {
      "name": "python3",
      "display_name": "Python 3"
    },
    "language_info": {
      "name": "python"
    }
  },
  "cells": [
    {
      "cell_type": "markdown",
      "metadata": {
        "id": "view-in-github",
        "colab_type": "text"
      },
      "source": [
        "<a href=\"https://colab.research.google.com/github/nimamt/machine_learning/blob/master/Machine%20Learning/25-neural/NeuralProject.ipynb\" target=\"_parent\"><img src=\"https://colab.research.google.com/assets/colab-badge.svg\" alt=\"Open In Colab\"/></a>"
      ]
    },
    {
      "cell_type": "markdown",
      "metadata": {
        "id": "YCk8JWIRHhvB"
      },
      "source": [
        "# Keras API Project Exercise\n",
        "\n",
        "## The Data\n",
        "\n",
        "We will be using a subset of the LendingClub DataSet obtained from Kaggle: https://www.kaggle.com/wordsforthewise/lending-club\n",
        "\n",
        "## NOTE: Do not download the full zip from the link! We provide a special version of this file that has some extra feature engineering for you to do. You won't be able to follow along with the original file!\n",
        "\n",
        "LendingClub is a US peer-to-peer lending company, headquartered in San Francisco, California.[3] It was the first peer-to-peer lender to register its offerings as securities with the Securities and Exchange Commission (SEC), and to offer loan trading on a secondary market. LendingClub is the world's largest peer-to-peer lending platform.\n",
        "\n",
        "### Our Goal\n",
        "\n",
        "Given historical data on loans given out with information on whether or not the borrower defaulted (charge-off), can we build a model thatcan predict wether or nor a borrower will pay back their loan? This way in the future when we get a new potential customer we can assess whether or not they are likely to pay back the loan. Keep in mind classification metrics when evaluating the performance of your model!\n",
        "\n",
        "The \"loan_status\" column contains our label.\n",
        "\n",
        "### Data Overview"
      ]
    },
    {
      "cell_type": "markdown",
      "metadata": {
        "id": "vmR4RhaOHhvC"
      },
      "source": [
        "----\n",
        "-----\n",
        "There are many LendingClub data sets on Kaggle. Here is the information on this particular data set:\n",
        "\n",
        "<table border=\"1\" class=\"dataframe\">\n",
        "  <thead>\n",
        "    <tr style=\"text-align: right;\">\n",
        "      <th></th>\n",
        "      <th>LoanStatNew</th>\n",
        "      <th>Description</th>\n",
        "    </tr>\n",
        "  </thead>\n",
        "  <tbody>\n",
        "    <tr>\n",
        "      <th>0</th>\n",
        "      <td>loan_amnt</td>\n",
        "      <td>The listed amount of the loan applied for by the borrower. If at some point in time, the credit department reduces the loan amount, then it will be reflected in this value.</td>\n",
        "    </tr>\n",
        "    <tr>\n",
        "      <th>1</th>\n",
        "      <td>term</td>\n",
        "      <td>The number of payments on the loan. Values are in months and can be either 36 or 60.</td>\n",
        "    </tr>\n",
        "    <tr>\n",
        "      <th>2</th>\n",
        "      <td>int_rate</td>\n",
        "      <td>Interest Rate on the loan</td>\n",
        "    </tr>\n",
        "    <tr>\n",
        "      <th>3</th>\n",
        "      <td>installment</td>\n",
        "      <td>The monthly payment owed by the borrower if the loan originates.</td>\n",
        "    </tr>\n",
        "    <tr>\n",
        "      <th>4</th>\n",
        "      <td>grade</td>\n",
        "      <td>LC assigned loan grade</td>\n",
        "    </tr>\n",
        "    <tr>\n",
        "      <th>5</th>\n",
        "      <td>sub_grade</td>\n",
        "      <td>LC assigned loan subgrade</td>\n",
        "    </tr>\n",
        "    <tr>\n",
        "      <th>6</th>\n",
        "      <td>emp_title</td>\n",
        "      <td>The job title supplied by the Borrower when applying for the loan.*</td>\n",
        "    </tr>\n",
        "    <tr>\n",
        "      <th>7</th>\n",
        "      <td>emp_length</td>\n",
        "      <td>Employment length in years. Possible values are between 0 and 10 where 0 means less than one year and 10 means ten or more years.</td>\n",
        "    </tr>\n",
        "    <tr>\n",
        "      <th>8</th>\n",
        "      <td>home_ownership</td>\n",
        "      <td>The home ownership status provided by the borrower during registration or obtained from the credit report. Our values are: RENT, OWN, MORTGAGE, OTHER</td>\n",
        "    </tr>\n",
        "    <tr>\n",
        "      <th>9</th>\n",
        "      <td>annual_inc</td>\n",
        "      <td>The self-reported annual income provided by the borrower during registration.</td>\n",
        "    </tr>\n",
        "    <tr>\n",
        "      <th>10</th>\n",
        "      <td>verification_status</td>\n",
        "      <td>Indicates if income was verified by LC, not verified, or if the income source was verified</td>\n",
        "    </tr>\n",
        "    <tr>\n",
        "      <th>11</th>\n",
        "      <td>issue_d</td>\n",
        "      <td>The month which the loan was funded</td>\n",
        "    </tr>\n",
        "    <tr>\n",
        "      <th>12</th>\n",
        "      <td>loan_status</td>\n",
        "      <td>Current status of the loan</td>\n",
        "    </tr>\n",
        "    <tr>\n",
        "      <th>13</th>\n",
        "      <td>purpose</td>\n",
        "      <td>A category provided by the borrower for the loan request.</td>\n",
        "    </tr>\n",
        "    <tr>\n",
        "      <th>14</th>\n",
        "      <td>title</td>\n",
        "      <td>The loan title provided by the borrower</td>\n",
        "    </tr>\n",
        "    <tr>\n",
        "      <th>15</th>\n",
        "      <td>zip_code</td>\n",
        "      <td>The first 3 numbers of the zip code provided by the borrower in the loan application.</td>\n",
        "    </tr>\n",
        "    <tr>\n",
        "      <th>16</th>\n",
        "      <td>addr_state</td>\n",
        "      <td>The state provided by the borrower in the loan application</td>\n",
        "    </tr>\n",
        "    <tr>\n",
        "      <th>17</th>\n",
        "      <td>dti</td>\n",
        "      <td>A ratio calculated using the borrower’s total monthly debt payments on the total debt obligations, excluding mortgage and the requested LC loan, divided by the borrower’s self-reported monthly income.</td>\n",
        "    </tr>\n",
        "    <tr>\n",
        "      <th>18</th>\n",
        "      <td>earliest_cr_line</td>\n",
        "      <td>The month the borrower's earliest reported credit line was opened</td>\n",
        "    </tr>\n",
        "    <tr>\n",
        "      <th>19</th>\n",
        "      <td>open_acc</td>\n",
        "      <td>The number of open credit lines in the borrower's credit file.</td>\n",
        "    </tr>\n",
        "    <tr>\n",
        "      <th>20</th>\n",
        "      <td>pub_rec</td>\n",
        "      <td>Number of derogatory public records</td>\n",
        "    </tr>\n",
        "    <tr>\n",
        "      <th>21</th>\n",
        "      <td>revol_bal</td>\n",
        "      <td>Total credit revolving balance</td>\n",
        "    </tr>\n",
        "    <tr>\n",
        "      <th>22</th>\n",
        "      <td>revol_util</td>\n",
        "      <td>Revolving line utilization rate, or the amount of credit the borrower is using relative to all available revolving credit.</td>\n",
        "    </tr>\n",
        "    <tr>\n",
        "      <th>23</th>\n",
        "      <td>total_acc</td>\n",
        "      <td>The total number of credit lines currently in the borrower's credit file</td>\n",
        "    </tr>\n",
        "    <tr>\n",
        "      <th>24</th>\n",
        "      <td>initial_list_status</td>\n",
        "      <td>The initial listing status of the loan. Possible values are – W, F</td>\n",
        "    </tr>\n",
        "    <tr>\n",
        "      <th>25</th>\n",
        "      <td>application_type</td>\n",
        "      <td>Indicates whether the loan is an individual application or a joint application with two co-borrowers</td>\n",
        "    </tr>\n",
        "    <tr>\n",
        "      <th>26</th>\n",
        "      <td>mort_acc</td>\n",
        "      <td>Number of mortgage accounts.</td>\n",
        "    </tr>\n",
        "    <tr>\n",
        "      <th>27</th>\n",
        "      <td>pub_rec_bankruptcies</td>\n",
        "      <td>Number of public record bankruptcies</td>\n",
        "    </tr>\n",
        "  </tbody>\n",
        "</table>\n",
        "\n",
        "---\n",
        "----"
      ]
    },
    {
      "cell_type": "markdown",
      "source": [
        "##Data Analysis"
      ],
      "metadata": {
        "id": "eZNq0j-mcyuT"
      }
    },
    {
      "cell_type": "code",
      "source": [
        "import numpy as np\n",
        "import pandas as pd\n",
        "import matplotlib.pyplot as plt\n",
        "import seaborn as sns\n",
        "\n",
        "%matplotlib inline"
      ],
      "metadata": {
        "id": "u1hb-kA_TQs6"
      },
      "execution_count": 119,
      "outputs": []
    },
    {
      "cell_type": "code",
      "source": [
        "df = pd.read_csv('/content/drive/MyDrive/lending_club_loan_two.csv')"
      ],
      "metadata": {
        "id": "9jLICg-DTb0a"
      },
      "execution_count": 120,
      "outputs": []
    },
    {
      "cell_type": "code",
      "source": [
        "df.info()"
      ],
      "metadata": {
        "colab": {
          "base_uri": "https://localhost:8080/"
        },
        "id": "HtEQNnmMThuZ",
        "outputId": "89477207-e0a5-447f-91a7-5ba8131c9b91"
      },
      "execution_count": 121,
      "outputs": [
        {
          "output_type": "stream",
          "name": "stdout",
          "text": [
            "<class 'pandas.core.frame.DataFrame'>\n",
            "RangeIndex: 396030 entries, 0 to 396029\n",
            "Data columns (total 27 columns):\n",
            " #   Column                Non-Null Count   Dtype  \n",
            "---  ------                --------------   -----  \n",
            " 0   loan_amnt             396030 non-null  float64\n",
            " 1   term                  396030 non-null  object \n",
            " 2   int_rate              396030 non-null  float64\n",
            " 3   installment           396030 non-null  float64\n",
            " 4   grade                 396030 non-null  object \n",
            " 5   sub_grade             396030 non-null  object \n",
            " 6   emp_title             373103 non-null  object \n",
            " 7   emp_length            377729 non-null  object \n",
            " 8   home_ownership        396030 non-null  object \n",
            " 9   annual_inc            396030 non-null  float64\n",
            " 10  verification_status   396030 non-null  object \n",
            " 11  issue_d               396030 non-null  object \n",
            " 12  loan_status           396030 non-null  object \n",
            " 13  purpose               396030 non-null  object \n",
            " 14  title                 394275 non-null  object \n",
            " 15  dti                   396030 non-null  float64\n",
            " 16  earliest_cr_line      396030 non-null  object \n",
            " 17  open_acc              396030 non-null  float64\n",
            " 18  pub_rec               396030 non-null  float64\n",
            " 19  revol_bal             396030 non-null  float64\n",
            " 20  revol_util            395754 non-null  float64\n",
            " 21  total_acc             396030 non-null  float64\n",
            " 22  initial_list_status   396030 non-null  object \n",
            " 23  application_type      396030 non-null  object \n",
            " 24  mort_acc              358235 non-null  float64\n",
            " 25  pub_rec_bankruptcies  395495 non-null  float64\n",
            " 26  address               396030 non-null  object \n",
            "dtypes: float64(12), object(15)\n",
            "memory usage: 81.6+ MB\n"
          ]
        }
      ]
    },
    {
      "cell_type": "code",
      "source": [
        "df['loan_status'].value_counts()"
      ],
      "metadata": {
        "id": "rZD5OTrjTjT5",
        "colab": {
          "base_uri": "https://localhost:8080/"
        },
        "outputId": "98838f7d-fd59-41e9-f190-7ab2e6fbd42f"
      },
      "execution_count": 122,
      "outputs": [
        {
          "output_type": "execute_result",
          "data": {
            "text/plain": [
              "Fully Paid     318357\n",
              "Charged Off     77673\n",
              "Name: loan_status, dtype: int64"
            ]
          },
          "metadata": {},
          "execution_count": 122
        }
      ]
    },
    {
      "cell_type": "code",
      "source": [
        "paid_or_not = df['loan_status'].value_counts()\n",
        "sns.barplot(paid_or_not.index, paid_or_not.values)\n",
        "\n",
        "# sns.countplot(x='loan_status', data=df)"
      ],
      "metadata": {
        "colab": {
          "base_uri": "https://localhost:8080/",
          "height": 337
        },
        "id": "oQTqZLQnZwO1",
        "outputId": "583b21d8-9a36-4729-9565-cfeead2e4681"
      },
      "execution_count": 123,
      "outputs": [
        {
          "output_type": "stream",
          "name": "stderr",
          "text": [
            "/usr/local/lib/python3.7/dist-packages/seaborn/_decorators.py:43: FutureWarning: Pass the following variables as keyword args: x, y. From version 0.12, the only valid positional argument will be `data`, and passing other arguments without an explicit keyword will result in an error or misinterpretation.\n",
            "  FutureWarning\n"
          ]
        },
        {
          "output_type": "execute_result",
          "data": {
            "text/plain": [
              "<matplotlib.axes._subplots.AxesSubplot at 0x7fa8039051d0>"
            ]
          },
          "metadata": {},
          "execution_count": 123
        },
        {
          "output_type": "display_data",
          "data": {
            "text/plain": [
              "<Figure size 432x288 with 1 Axes>"
            ],
            "image/png": "[encoded data removed]"
          },
          "metadata": {
            "needs_background": "light"
          }
        }
      ]
    },
    {
      "cell_type": "code",
      "source": [
        "df.groupby('loan_status').count()"
      ],
      "metadata": {
        "colab": {
          "base_uri": "https://localhost:8080/",
          "height": 237
        },
        "id": "psQzZa1xaDeJ",
        "outputId": "2acacebb-174d-4b3d-940e-405a3ac64ad6"
      },
      "execution_count": 124,
      "outputs": [
        {
          "output_type": "execute_result",
          "data": {
            "text/plain": [
              "             loan_amnt    term  int_rate  installment   grade  sub_grade  \\\n",
              "loan_status                                                                \n",
              "Charged Off      77673   77673     77673        77673   77673      77673   \n",
              "Fully Paid      318357  318357    318357       318357  318357     318357   \n",
              "\n",
              "             emp_title  emp_length  home_ownership  annual_inc  ...  open_acc  \\\n",
              "loan_status                                                     ...             \n",
              "Charged Off      71730       72635           77673       77673  ...     77673   \n",
              "Fully Paid      301373      305094          318357      318357  ...    318357   \n",
              "\n",
              "             pub_rec  revol_bal  revol_util  total_acc  initial_list_status  \\\n",
              "loan_status                                                                   \n",
              "Charged Off    77673      77673       77610      77673                77673   \n",
              "Fully Paid    318357     318357      318144     318357               318357   \n",
              "\n",
              "             application_type  mort_acc  pub_rec_bankruptcies  address  \n",
              "loan_status                                                             \n",
              "Charged Off             77673     72123                 77586    77673  \n",
              "Fully Paid             318357    286112                317909   318357  \n",
              "\n",
              "[2 rows x 26 columns]"
            ],
            "text/html": [
              "\n",
              "  <div id=\"df-1f26ae31-54ee-4150-b878-9cce58c66d13\">\n",
              "    <div class=\"colab-df-container\">\n",
              "      <div>\n",
              "<style scoped>\n",
              "    .dataframe tbody tr th:only-of-type {\n",
              "        vertical-align: middle;\n",
              "    }\n",
              "\n",
              "    .dataframe tbody tr th {\n",
              "        vertical-align: top;\n",
              "    }\n",
              "\n",
              "    .dataframe thead th {\n",
              "        text-align: right;\n",
              "    }\n",
              "</style>\n",
              "<table border=\"1\" class=\"dataframe\">\n",
              "  <thead>\n",
              "    <tr style=\"text-align: right;\">\n",
              "      <th></th>\n",
              "      <th>loan_amnt</th>\n",
              "      <th>term</th>\n",
              "      <th>int_rate</th>\n",
              "      <th>installment</th>\n",
              "      <th>grade</th>\n",
              "      <th>sub_grade</th>\n",
              "      <th>emp_title</th>\n",
              "      <th>emp_length</th>\n",
              "      <th>home_ownership</th>\n",
              "      <th>annual_inc</th>\n",
              "      <th>...</th>\n",
              "      <th>open_acc</th>\n",
              "      <th>pub_rec</th>\n",
              "      <th>revol_bal</th>\n",
              "      <th>revol_util</th>\n",
              "      <th>total_acc</th>\n",
              "      <th>initial_list_status</th>\n",
              "      <th>application_type</th>\n",
              "      <th>mort_acc</th>\n",
              "      <th>pub_rec_bankruptcies</th>\n",
              "      <th>address</th>\n",
              "    </tr>\n",
              "    <tr>\n",
              "      <th>loan_status</th>\n",
              "      <th></th>\n",
              "      <th></th>\n",
              "      <th></th>\n",
              "      <th></th>\n",
              "      <th></th>\n",
              "      <th></th>\n",
              "      <th></th>\n",
              "      <th></th>\n",
              "      <th></th>\n",
              "      <th></th>\n",
              "      <th></th>\n",
              "      <th></th>\n",
              "      <th></th>\n",
              "      <th></th>\n",
              "      <th></th>\n",
              "      <th></th>\n",
              "      <th></th>\n",
              "      <th></th>\n",
              "      <th></th>\n",
              "      <th></th>\n",
              "      <th></th>\n",
              "    </tr>\n",
              "  </thead>\n",
              "  <tbody>\n",
              "    <tr>\n",
              "      <th>Charged Off</th>\n",
              "      <td>77673</td>\n",
              "      <td>77673</td>\n",
              "      <td>77673</td>\n",
              "      <td>77673</td>\n",
              "      <td>77673</td>\n",
              "      <td>77673</td>\n",
              "      <td>71730</td>\n",
              "      <td>72635</td>\n",
              "      <td>77673</td>\n",
              "      <td>77673</td>\n",
              "      <td>...</td>\n",
              "      <td>77673</td>\n",
              "      <td>77673</td>\n",
              "      <td>77673</td>\n",
              "      <td>77610</td>\n",
              "      <td>77673</td>\n",
              "      <td>77673</td>\n",
              "      <td>77673</td>\n",
              "      <td>72123</td>\n",
              "      <td>77586</td>\n",
              "      <td>77673</td>\n",
              "    </tr>\n",
              "    <tr>\n",
              "      <th>Fully Paid</th>\n",
              "      <td>318357</td>\n",
              "      <td>318357</td>\n",
              "      <td>318357</td>\n",
              "      <td>318357</td>\n",
              "      <td>318357</td>\n",
              "      <td>318357</td>\n",
              "      <td>301373</td>\n",
              "      <td>305094</td>\n",
              "      <td>318357</td>\n",
              "      <td>318357</td>\n",
              "      <td>...</td>\n",
              "      <td>318357</td>\n",
              "      <td>318357</td>\n",
              "      <td>318357</td>\n",
              "      <td>318144</td>\n",
              "      <td>318357</td>\n",
              "      <td>318357</td>\n",
              "      <td>318357</td>\n",
              "      <td>286112</td>\n",
              "      <td>317909</td>\n",
              "      <td>318357</td>\n",
              "    </tr>\n",
              "  </tbody>\n",
              "</table>\n",
              "<p>2 rows × 26 columns</p>\n",
              "</div>\n",
              "      <button class=\"colab-df-convert\" onclick=\"convertToInteractive('df-1f26ae31-54ee-4150-b878-9cce58c66d13')\"\n",
              "              title=\"Convert this dataframe to an interactive table.\"\n",
              "              style=\"display:none;\">\n",
              "        \n",
              "  <svg xmlns=\"http://www.w3.org/2000/svg\" height=\"24px\"viewBox=\"0 0 24 24\"\n",
              "       width=\"24px\">\n",
              "    <path d=\"M0 0h24v24H0V0z\" fill=\"none\"/>\n",
              "    <path d=\"M18.56 5.44l.94 2.06.94-2.06 2.06-.94-2.06-.94-.94-2.06-.94 2.06-2.06.94zm-11 1L8.5 8.5l.94-2.06 2.06-.94-2.06-.94L8.5 2.5l-.94 2.06-2.06.94zm10 10l.94 2.06.94-2.06 2.06-.94-2.06-.94-.94-2.06-.94 2.06-2.06.94z\"/><path d=\"M17.41 7.96l-1.37-1.37c-.4-.4-.92-.59-1.43-.59-.52 0-1.04.2-1.43.59L10.3 9.45l-7.72 7.72c-.78.78-.78 2.05 0 2.83L4 21.41c.39.39.9.59 1.41.59.51 0 1.02-.2 1.41-.59l7.78-7.78 2.81-2.81c.8-.78.8-2.07 0-2.86zM5.41 20L4 18.59l7.72-7.72 1.47 1.35L5.41 20z\"/>\n",
              "  </svg>\n",
              "      </button>\n",
              "      \n",
              "  <style>\n",
              "    .colab-df-container {\n",
              "      display:flex;\n",
              "      flex-wrap:wrap;\n",
              "      gap: 12px;\n",
              "    }\n",
              "\n",
              "    .colab-df-convert {\n",
              "      background-color: #E8F0FE;\n",
              "      border: none;\n",
              "      border-radius: 50%;\n",
              "      cursor: pointer;\n",
              "      display: none;\n",
              "      fill: #1967D2;\n",
              "      height: 32px;\n",
              "      padding: 0 0 0 0;\n",
              "      width: 32px;\n",
              "    }\n",
              "\n",
              "    .colab-df-convert:hover {\n",
              "      background-color: #E2EBFA;\n",
              "      box-shadow: 0px 1px 2px rgba(60, 64, 67, 0.3), 0px 1px 3px 1px rgba(60, 64, 67, 0.15);\n",
              "      fill: #174EA6;\n",
              "    }\n",
              "\n",
              "    [theme=dark] .colab-df-convert {\n",
              "      background-color: #3B4455;\n",
              "      fill: #D2E3FC;\n",
              "    }\n",
              "\n",
              "    [theme=dark] .colab-df-convert:hover {\n",
              "      background-color: #434B5C;\n",
              "      box-shadow: 0px 1px 3px 1px rgba(0, 0, 0, 0.15);\n",
              "      filter: drop-shadow(0px 1px 2px rgba(0, 0, 0, 0.3));\n",
              "      fill: #FFFFFF;\n",
              "    }\n",
              "  </style>\n",
              "\n",
              "      <script>\n",
              "        const buttonEl =\n",
              "          document.querySelector('#df-1f26ae31-54ee-4150-b878-9cce58c66d13 button.colab-df-convert');\n",
              "        buttonEl.style.display =\n",
              "          google.colab.kernel.accessAllowed ? 'block' : 'none';\n",
              "\n",
              "        async function convertToInteractive(key) {\n",
              "          const element = document.querySelector('#df-1f26ae31-54ee-4150-b878-9cce58c66d13');\n",
              "          const dataTable =\n",
              "            await google.colab.kernel.invokeFunction('convertToInteractive',\n",
              "                                                     [key], {});\n",
              "          if (!dataTable) return;\n",
              "\n",
              "          const docLinkHtml = 'Like what you see? Visit the ' +\n",
              "            '<a target=\"_blank\" href=https://colab.research.google.com/notebooks/data_table.ipynb>data table notebook</a>'\n",
              "            + ' to learn more about interactive tables.';\n",
              "          element.innerHTML = '';\n",
              "          dataTable['output_type'] = 'display_data';\n",
              "          await google.colab.output.renderOutput(dataTable, element);\n",
              "          const docLink = document.createElement('div');\n",
              "          docLink.innerHTML = docLinkHtml;\n",
              "          element.appendChild(docLink);\n",
              "        }\n",
              "      </script>\n",
              "    </div>\n",
              "  </div>\n",
              "  "
            ]
          },
          "metadata": {},
          "execution_count": 124
        }
      ]
    },
    {
      "cell_type": "code",
      "source": [
        "sns.barplot(x='loan_status',y='int_rate',data=df)"
      ],
      "metadata": {
        "colab": {
          "base_uri": "https://localhost:8080/",
          "height": 297
        },
        "id": "C5mExoGqaRJq",
        "outputId": "25880fde-5e12-4b7c-9c32-25a6ee9b70d2"
      },
      "execution_count": 125,
      "outputs": [
        {
          "output_type": "execute_result",
          "data": {
            "text/plain": [
              "<matplotlib.axes._subplots.AxesSubplot at 0x7fa7fb258c10>"
            ]
          },
          "metadata": {},
          "execution_count": 125
        },
        {
          "output_type": "display_data",
          "data": {
            "text/plain": [
              "<Figure size 432x288 with 1 Axes>"
            ],
            "image/png": "[encoded data removed]"
          },
          "metadata": {
            "needs_background": "light"
          }
        }
      ]
    },
    {
      "cell_type": "code",
      "source": [
        "sns.boxplot(x='loan_status',y='int_rate',data=df)"
      ],
      "metadata": {
        "colab": {
          "base_uri": "https://localhost:8080/",
          "height": 297
        },
        "id": "XEr4NeZ0bL4C",
        "outputId": "ac408a6d-33eb-478b-dcae-1a632a7a8785"
      },
      "execution_count": 126,
      "outputs": [
        {
          "output_type": "execute_result",
          "data": {
            "text/plain": [
              "<matplotlib.axes._subplots.AxesSubplot at 0x7fa7fb20dad0>"
            ]
          },
          "metadata": {},
          "execution_count": 126
        },
        {
          "output_type": "display_data",
          "data": {
            "text/plain": [
              "<Figure size 432x288 with 1 Axes>"
            ],
            "image/png": "[encoded data removed]"
          },
          "metadata": {
            "needs_background": "light"
          }
        }
      ]
    },
    {
      "cell_type": "code",
      "source": [
        "(pd.crosstab(df['grade'],df['loan_status'], \n",
        "             normalize='index')\n",
        "   .plot.bar(stacked=True)\n",
        ")"
      ],
      "metadata": {
        "colab": {
          "base_uri": "https://localhost:8080/",
          "height": 294
        },
        "id": "-7qqpodqcT8z",
        "outputId": "79feeae9-eca7-43c9-fb02-f047be4c9a5a"
      },
      "execution_count": 127,
      "outputs": [
        {
          "output_type": "execute_result",
          "data": {
            "text/plain": [
              "<matplotlib.axes._subplots.AxesSubplot at 0x7fa7fb1dbe10>"
            ]
          },
          "metadata": {},
          "execution_count": 127
        },
        {
          "output_type": "display_data",
          "data": {
            "text/plain": [
              "<Figure size 432x288 with 1 Axes>"
            ],
            "image/png": "[encoded data removed]"
          },
          "metadata": {
            "needs_background": "light"
          }
        }
      ]
    },
    {
      "cell_type": "code",
      "source": [
        "sns.boxplot(x='grade',y='int_rate',hue='loan_status', data=df)"
      ],
      "metadata": {
        "colab": {
          "base_uri": "https://localhost:8080/",
          "height": 296
        },
        "id": "hwV-5liedD8_",
        "outputId": "da6ec1d5-70d1-44e5-9a33-f4822fdbf79b"
      },
      "execution_count": 128,
      "outputs": [
        {
          "output_type": "execute_result",
          "data": {
            "text/plain": [
              "<matplotlib.axes._subplots.AxesSubplot at 0x7fa7fb1099d0>"
            ]
          },
          "metadata": {},
          "execution_count": 128
        },
        {
          "output_type": "display_data",
          "data": {
            "text/plain": [
              "<Figure size 432x288 with 1 Axes>"
            ],
            "image/png": "[encoded data removed]"
          },
          "metadata": {
            "needs_background": "light"
          }
        }
      ]
    },
    {
      "cell_type": "code",
      "source": [
        ""
      ],
      "metadata": {
        "id": "59xS02oseM1U"
      },
      "execution_count": 128,
      "outputs": []
    },
    {
      "cell_type": "code",
      "source": [
        "df.groupby('grade').mean()['int_rate']"
      ],
      "metadata": {
        "colab": {
          "base_uri": "https://localhost:8080/"
        },
        "id": "GppvKyCPeqAt",
        "outputId": "c21ad37c-3709-43f9-8b06-d40a25675925"
      },
      "execution_count": 129,
      "outputs": [
        {
          "output_type": "execute_result",
          "data": {
            "text/plain": [
              "grade\n",
              "A     7.392854\n",
              "B    11.223131\n",
              "C    14.317992\n",
              "D    17.484528\n",
              "E    20.283007\n",
              "F    23.701144\n",
              "G    25.904352\n",
              "Name: int_rate, dtype: float64"
            ]
          },
          "metadata": {},
          "execution_count": 129
        }
      ]
    },
    {
      "cell_type": "code",
      "source": [
        "pd.crosstab(df['grade'],df['loan_status'], \n",
        "             normalize='index')['Fully Paid']"
      ],
      "metadata": {
        "colab": {
          "base_uri": "https://localhost:8080/"
        },
        "id": "iXFT1lUYfd_O",
        "outputId": "470d703e-57fd-4098-ff07-3ffd4f27d886"
      },
      "execution_count": 130,
      "outputs": [
        {
          "output_type": "execute_result",
          "data": {
            "text/plain": [
              "grade\n",
              "A    0.937121\n",
              "B    0.874270\n",
              "C    0.788191\n",
              "D    0.711322\n",
              "E    0.626366\n",
              "F    0.572120\n",
              "G    0.521611\n",
              "Name: Fully Paid, dtype: float64"
            ]
          },
          "metadata": {},
          "execution_count": 130
        }
      ]
    },
    {
      "cell_type": "code",
      "source": [
        "pd.crosstab(df['grade'],df['loan_status'], \n",
        "             normalize='index')['Fully Paid'] * df.groupby('grade').mean()['int_rate']"
      ],
      "metadata": {
        "colab": {
          "base_uri": "https://localhost:8080/"
        },
        "id": "9nxdjFxKfjZM",
        "outputId": "a01dac62-34e2-47c7-ead5-8a5c3382cac9"
      },
      "execution_count": 131,
      "outputs": [
        {
          "output_type": "execute_result",
          "data": {
            "text/plain": [
              "grade\n",
              "A     6.928000\n",
              "B     9.812041\n",
              "C    11.285313\n",
              "D    12.437125\n",
              "E    12.704578\n",
              "F    13.559905\n",
              "G    13.511995\n",
              "dtype: float64"
            ]
          },
          "metadata": {},
          "execution_count": 131
        }
      ]
    },
    {
      "cell_type": "code",
      "source": [
        "plt.figure(figsize=(12,6))\n",
        "sns.histplot(x='loan_amnt', data=df)"
      ],
      "metadata": {
        "colab": {
          "base_uri": "https://localhost:8080/",
          "height": 406
        },
        "id": "yaePxjSxfmu1",
        "outputId": "243b1e5d-989c-44e6-e75f-3993d041d2b8"
      },
      "execution_count": 132,
      "outputs": [
        {
          "output_type": "execute_result",
          "data": {
            "text/plain": [
              "<matplotlib.axes._subplots.AxesSubplot at 0x7fa7fb1666d0>"
            ]
          },
          "metadata": {},
          "execution_count": 132
        },
        {
          "output_type": "display_data",
          "data": {
            "text/plain": [
              "<Figure size 864x432 with 1 Axes>"
            ],
            "image/png": "[encoded data removed]"
          },
          "metadata": {
            "needs_background": "light"
          }
        }
      ]
    },
    {
      "cell_type": "code",
      "source": [
        "df.corr()"
      ],
      "metadata": {
        "colab": {
          "base_uri": "https://localhost:8080/",
          "height": 490
        },
        "id": "2lgdZvRci22Q",
        "outputId": "a7f5beb8-3e05-4e83-a976-ac1e20700739"
      },
      "execution_count": 133,
      "outputs": [
        {
          "output_type": "execute_result",
          "data": {
            "text/plain": [
              "                      loan_amnt  int_rate  installment  annual_inc       dti  \\\n",
              "loan_amnt              1.000000  0.168921     0.953929    0.336887  0.016636   \n",
              "int_rate               0.168921  1.000000     0.162758   -0.056771  0.079038   \n",
              "installment            0.953929  0.162758     1.000000    0.330381  0.015786   \n",
              "annual_inc             0.336887 -0.056771     0.330381    1.000000 -0.081685   \n",
              "dti                    0.016636  0.079038     0.015786   -0.081685  1.000000   \n",
              "open_acc               0.198556  0.011649     0.188973    0.136150  0.136181   \n",
              "pub_rec               -0.077779  0.060986    -0.067892   -0.013720 -0.017639   \n",
              "revol_bal              0.328320 -0.011280     0.316455    0.299773  0.063571   \n",
              "revol_util             0.099911  0.293659     0.123915    0.027871  0.088375   \n",
              "total_acc              0.223886 -0.036404     0.202430    0.193023  0.102128   \n",
              "mort_acc               0.222315 -0.082583     0.193694    0.236320 -0.025439   \n",
              "pub_rec_bankruptcies  -0.106539  0.057450    -0.098628   -0.050162 -0.014558   \n",
              "\n",
              "                      open_acc   pub_rec  revol_bal  revol_util  total_acc  \\\n",
              "loan_amnt             0.198556 -0.077779   0.328320    0.099911   0.223886   \n",
              "int_rate              0.011649  0.060986  -0.011280    0.293659  -0.036404   \n",
              "installment           0.188973 -0.067892   0.316455    0.123915   0.202430   \n",
              "annual_inc            0.136150 -0.013720   0.299773    0.027871   0.193023   \n",
              "dti                   0.136181 -0.017639   0.063571    0.088375   0.102128   \n",
              "open_acc              1.000000 -0.018392   0.221192   -0.131420   0.680728   \n",
              "pub_rec              -0.018392  1.000000  -0.101664   -0.075910   0.019723   \n",
              "revol_bal             0.221192 -0.101664   1.000000    0.226346   0.191616   \n",
              "revol_util           -0.131420 -0.075910   0.226346    1.000000  -0.104273   \n",
              "total_acc             0.680728  0.019723   0.191616   -0.104273   1.000000   \n",
              "mort_acc              0.109205  0.011552   0.194925    0.007514   0.381072   \n",
              "pub_rec_bankruptcies -0.027732  0.699408  -0.124532   -0.086751   0.042035   \n",
              "\n",
              "                      mort_acc  pub_rec_bankruptcies  \n",
              "loan_amnt             0.222315             -0.106539  \n",
              "int_rate             -0.082583              0.057450  \n",
              "installment           0.193694             -0.098628  \n",
              "annual_inc            0.236320             -0.050162  \n",
              "dti                  -0.025439             -0.014558  \n",
              "open_acc              0.109205             -0.027732  \n",
              "pub_rec               0.011552              0.699408  \n",
              "revol_bal             0.194925             -0.124532  \n",
              "revol_util            0.007514             -0.086751  \n",
              "total_acc             0.381072              0.042035  \n",
              "mort_acc              1.000000              0.027239  \n",
              "pub_rec_bankruptcies  0.027239              1.000000  "
            ],
            "text/html": [
              "\n",
              "  <div id=\"df-3ff7070c-35c2-470a-a776-dd7fe0d36c49\">\n",
              "    <div class=\"colab-df-container\">\n",
              "      <div>\n",
              "<style scoped>\n",
              "    .dataframe tbody tr th:only-of-type {\n",
              "        vertical-align: middle;\n",
              "    }\n",
              "\n",
              "    .dataframe tbody tr th {\n",
              "        vertical-align: top;\n",
              "    }\n",
              "\n",
              "    .dataframe thead th {\n",
              "        text-align: right;\n",
              "    }\n",
              "</style>\n",
              "<table border=\"1\" class=\"dataframe\">\n",
              "  <thead>\n",
              "    <tr style=\"text-align: right;\">\n",
              "      <th></th>\n",
              "      <th>loan_amnt</th>\n",
              "      <th>int_rate</th>\n",
              "      <th>installment</th>\n",
              "      <th>annual_inc</th>\n",
              "      <th>dti</th>\n",
              "      <th>open_acc</th>\n",
              "      <th>pub_rec</th>\n",
              "      <th>revol_bal</th>\n",
              "      <th>revol_util</th>\n",
              "      <th>total_acc</th>\n",
              "      <th>mort_acc</th>\n",
              "      <th>pub_rec_bankruptcies</th>\n",
              "    </tr>\n",
              "  </thead>\n",
              "  <tbody>\n",
              "    <tr>\n",
              "      <th>loan_amnt</th>\n",
              "      <td>1.000000</td>\n",
              "      <td>0.168921</td>\n",
              "      <td>0.953929</td>\n",
              "      <td>0.336887</td>\n",
              "      <td>0.016636</td>\n",
              "      <td>0.198556</td>\n",
              "      <td>-0.077779</td>\n",
              "      <td>0.328320</td>\n",
              "      <td>0.099911</td>\n",
              "      <td>0.223886</td>\n",
              "      <td>0.222315</td>\n",
              "      <td>-0.106539</td>\n",
              "    </tr>\n",
              "    <tr>\n",
              "      <th>int_rate</th>\n",
              "      <td>0.168921</td>\n",
              "      <td>1.000000</td>\n",
              "      <td>0.162758</td>\n",
              "      <td>-0.056771</td>\n",
              "      <td>0.079038</td>\n",
              "      <td>0.011649</td>\n",
              "      <td>0.060986</td>\n",
              "      <td>-0.011280</td>\n",
              "      <td>0.293659</td>\n",
              "      <td>-0.036404</td>\n",
              "      <td>-0.082583</td>\n",
              "      <td>0.057450</td>\n",
              "    </tr>\n",
              "    <tr>\n",
              "      <th>installment</th>\n",
              "      <td>0.953929</td>\n",
              "      <td>0.162758</td>\n",
              "      <td>1.000000</td>\n",
              "      <td>0.330381</td>\n",
              "      <td>0.015786</td>\n",
              "      <td>0.188973</td>\n",
              "      <td>-0.067892</td>\n",
              "      <td>0.316455</td>\n",
              "      <td>0.123915</td>\n",
              "      <td>0.202430</td>\n",
              "      <td>0.193694</td>\n",
              "      <td>-0.098628</td>\n",
              "    </tr>\n",
              "    <tr>\n",
              "      <th>annual_inc</th>\n",
              "      <td>0.336887</td>\n",
              "      <td>-0.056771</td>\n",
              "      <td>0.330381</td>\n",
              "      <td>1.000000</td>\n",
              "      <td>-0.081685</td>\n",
              "      <td>0.136150</td>\n",
              "      <td>-0.013720</td>\n",
              "      <td>0.299773</td>\n",
              "      <td>0.027871</td>\n",
              "      <td>0.193023</td>\n",
              "      <td>0.236320</td>\n",
              "      <td>-0.050162</td>\n",
              "    </tr>\n",
              "    <tr>\n",
              "      <th>dti</th>\n",
              "      <td>0.016636</td>\n",
              "      <td>0.079038</td>\n",
              "      <td>0.015786</td>\n",
              "      <td>-0.081685</td>\n",
              "      <td>1.000000</td>\n",
              "      <td>0.136181</td>\n",
              "      <td>-0.017639</td>\n",
              "      <td>0.063571</td>\n",
              "      <td>0.088375</td>\n",
              "      <td>0.102128</td>\n",
              "      <td>-0.025439</td>\n",
              "      <td>-0.014558</td>\n",
              "    </tr>\n",
              "    <tr>\n",
              "      <th>open_acc</th>\n",
              "      <td>0.198556</td>\n",
              "      <td>0.011649</td>\n",
              "      <td>0.188973</td>\n",
              "      <td>0.136150</td>\n",
              "      <td>0.136181</td>\n",
              "      <td>1.000000</td>\n",
              "      <td>-0.018392</td>\n",
              "      <td>0.221192</td>\n",
              "      <td>-0.131420</td>\n",
              "      <td>0.680728</td>\n",
              "      <td>0.109205</td>\n",
              "      <td>-0.027732</td>\n",
              "    </tr>\n",
              "    <tr>\n",
              "      <th>pub_rec</th>\n",
              "      <td>-0.077779</td>\n",
              "      <td>0.060986</td>\n",
              "      <td>-0.067892</td>\n",
              "      <td>-0.013720</td>\n",
              "      <td>-0.017639</td>\n",
              "      <td>-0.018392</td>\n",
              "      <td>1.000000</td>\n",
              "      <td>-0.101664</td>\n",
              "      <td>-0.075910</td>\n",
              "      <td>0.019723</td>\n",
              "      <td>0.011552</td>\n",
              "      <td>0.699408</td>\n",
              "    </tr>\n",
              "    <tr>\n",
              "      <th>revol_bal</th>\n",
              "      <td>0.328320</td>\n",
              "      <td>-0.011280</td>\n",
              "      <td>0.316455</td>\n",
              "      <td>0.299773</td>\n",
              "      <td>0.063571</td>\n",
              "      <td>0.221192</td>\n",
              "      <td>-0.101664</td>\n",
              "      <td>1.000000</td>\n",
              "      <td>0.226346</td>\n",
              "      <td>0.191616</td>\n",
              "      <td>0.194925</td>\n",
              "      <td>-0.124532</td>\n",
              "    </tr>\n",
              "    <tr>\n",
              "      <th>revol_util</th>\n",
              "      <td>0.099911</td>\n",
              "      <td>0.293659</td>\n",
              "      <td>0.123915</td>\n",
              "      <td>0.027871</td>\n",
              "      <td>0.088375</td>\n",
              "      <td>-0.131420</td>\n",
              "      <td>-0.075910</td>\n",
              "      <td>0.226346</td>\n",
              "      <td>1.000000</td>\n",
              "      <td>-0.104273</td>\n",
              "      <td>0.007514</td>\n",
              "      <td>-0.086751</td>\n",
              "    </tr>\n",
              "    <tr>\n",
              "      <th>total_acc</th>\n",
              "      <td>0.223886</td>\n",
              "      <td>-0.036404</td>\n",
              "      <td>0.202430</td>\n",
              "      <td>0.193023</td>\n",
              "      <td>0.102128</td>\n",
              "      <td>0.680728</td>\n",
              "      <td>0.019723</td>\n",
              "      <td>0.191616</td>\n",
              "      <td>-0.104273</td>\n",
              "      <td>1.000000</td>\n",
              "      <td>0.381072</td>\n",
              "      <td>0.042035</td>\n",
              "    </tr>\n",
              "    <tr>\n",
              "      <th>mort_acc</th>\n",
              "      <td>0.222315</td>\n",
              "      <td>-0.082583</td>\n",
              "      <td>0.193694</td>\n",
              "      <td>0.236320</td>\n",
              "      <td>-0.025439</td>\n",
              "      <td>0.109205</td>\n",
              "      <td>0.011552</td>\n",
              "      <td>0.194925</td>\n",
              "      <td>0.007514</td>\n",
              "      <td>0.381072</td>\n",
              "      <td>1.000000</td>\n",
              "      <td>0.027239</td>\n",
              "    </tr>\n",
              "    <tr>\n",
              "      <th>pub_rec_bankruptcies</th>\n",
              "      <td>-0.106539</td>\n",
              "      <td>0.057450</td>\n",
              "      <td>-0.098628</td>\n",
              "      <td>-0.050162</td>\n",
              "      <td>-0.014558</td>\n",
              "      <td>-0.027732</td>\n",
              "      <td>0.699408</td>\n",
              "      <td>-0.124532</td>\n",
              "      <td>-0.086751</td>\n",
              "      <td>0.042035</td>\n",
              "      <td>0.027239</td>\n",
              "      <td>1.000000</td>\n",
              "    </tr>\n",
              "  </tbody>\n",
              "</table>\n",
              "</div>\n",
              "      <button class=\"colab-df-convert\" onclick=\"convertToInteractive('df-3ff7070c-35c2-470a-a776-dd7fe0d36c49')\"\n",
              "              title=\"Convert this dataframe to an interactive table.\"\n",
              "              style=\"display:none;\">\n",
              "        \n",
              "  <svg xmlns=\"http://www.w3.org/2000/svg\" height=\"24px\"viewBox=\"0 0 24 24\"\n",
              "       width=\"24px\">\n",
              "    <path d=\"M0 0h24v24H0V0z\" fill=\"none\"/>\n",
              "    <path d=\"M18.56 5.44l.94 2.06.94-2.06 2.06-.94-2.06-.94-.94-2.06-.94 2.06-2.06.94zm-11 1L8.5 8.5l.94-2.06 2.06-.94-2.06-.94L8.5 2.5l-.94 2.06-2.06.94zm10 10l.94 2.06.94-2.06 2.06-.94-2.06-.94-.94-2.06-.94 2.06-2.06.94z\"/><path d=\"M17.41 7.96l-1.37-1.37c-.4-.4-.92-.59-1.43-.59-.52 0-1.04.2-1.43.59L10.3 9.45l-7.72 7.72c-.78.78-.78 2.05 0 2.83L4 21.41c.39.39.9.59 1.41.59.51 0 1.02-.2 1.41-.59l7.78-7.78 2.81-2.81c.8-.78.8-2.07 0-2.86zM5.41 20L4 18.59l7.72-7.72 1.47 1.35L5.41 20z\"/>\n",
              "  </svg>\n",
              "      </button>\n",
              "      \n",
              "  <style>\n",
              "    .colab-df-container {\n",
              "      display:flex;\n",
              "      flex-wrap:wrap;\n",
              "      gap: 12px;\n",
              "    }\n",
              "\n",
              "    .colab-df-convert {\n",
              "      background-color: #E8F0FE;\n",
              "      border: none;\n",
              "      border-radius: 50%;\n",
              "      cursor: pointer;\n",
              "      display: none;\n",
              "      fill: #1967D2;\n",
              "      height: 32px;\n",
              "      padding: 0 0 0 0;\n",
              "      width: 32px;\n",
              "    }\n",
              "\n",
              "    .colab-df-convert:hover {\n",
              "      background-color: #E2EBFA;\n",
              "      box-shadow: 0px 1px 2px rgba(60, 64, 67, 0.3), 0px 1px 3px 1px rgba(60, 64, 67, 0.15);\n",
              "      fill: #174EA6;\n",
              "    }\n",
              "\n",
              "    [theme=dark] .colab-df-convert {\n",
              "      background-color: #3B4455;\n",
              "      fill: #D2E3FC;\n",
              "    }\n",
              "\n",
              "    [theme=dark] .colab-df-convert:hover {\n",
              "      background-color: #434B5C;\n",
              "      box-shadow: 0px 1px 3px 1px rgba(0, 0, 0, 0.15);\n",
              "      filter: drop-shadow(0px 1px 2px rgba(0, 0, 0, 0.3));\n",
              "      fill: #FFFFFF;\n",
              "    }\n",
              "  </style>\n",
              "\n",
              "      <script>\n",
              "        const buttonEl =\n",
              "          document.querySelector('#df-3ff7070c-35c2-470a-a776-dd7fe0d36c49 button.colab-df-convert');\n",
              "        buttonEl.style.display =\n",
              "          google.colab.kernel.accessAllowed ? 'block' : 'none';\n",
              "\n",
              "        async function convertToInteractive(key) {\n",
              "          const element = document.querySelector('#df-3ff7070c-35c2-470a-a776-dd7fe0d36c49');\n",
              "          const dataTable =\n",
              "            await google.colab.kernel.invokeFunction('convertToInteractive',\n",
              "                                                     [key], {});\n",
              "          if (!dataTable) return;\n",
              "\n",
              "          const docLinkHtml = 'Like what you see? Visit the ' +\n",
              "            '<a target=\"_blank\" href=https://colab.research.google.com/notebooks/data_table.ipynb>data table notebook</a>'\n",
              "            + ' to learn more about interactive tables.';\n",
              "          element.innerHTML = '';\n",
              "          dataTable['output_type'] = 'display_data';\n",
              "          await google.colab.output.renderOutput(dataTable, element);\n",
              "          const docLink = document.createElement('div');\n",
              "          docLink.innerHTML = docLinkHtml;\n",
              "          element.appendChild(docLink);\n",
              "        }\n",
              "      </script>\n",
              "    </div>\n",
              "  </div>\n",
              "  "
            ]
          },
          "metadata": {},
          "execution_count": 133
        }
      ]
    },
    {
      "cell_type": "code",
      "source": [
        "plt.figure(figsize=(12,6))\n",
        "sns.heatmap(df.corr(),annot=True,cmap='coolwarm')"
      ],
      "metadata": {
        "colab": {
          "base_uri": "https://localhost:8080/",
          "height": 494
        },
        "id": "2YNXkiANjlJT",
        "outputId": "4d658149-be2b-403f-8858-c12445fc0c10"
      },
      "execution_count": 134,
      "outputs": [
        {
          "output_type": "execute_result",
          "data": {
            "text/plain": [
              "<matplotlib.axes._subplots.AxesSubplot at 0x7fa7f7dae3d0>"
            ]
          },
          "metadata": {},
          "execution_count": 134
        },
        {
          "output_type": "display_data",
          "data": {
            "text/plain": [
              "<Figure size 864x432 with 2 Axes>"
            ],
            "image/png": "[encoded data removed]"
          },
          "metadata": {
            "needs_background": "light"
          }
        }
      ]
    },
    {
      "cell_type": "code",
      "source": [
        "sns.scatterplot(x='loan_amnt', y='installment', data=df)"
      ],
      "metadata": {
        "colab": {
          "base_uri": "https://localhost:8080/",
          "height": 300
        },
        "id": "jgmnypN5j55v",
        "outputId": "112435e2-c273-4b5b-f57d-188bce790a5d"
      },
      "execution_count": 135,
      "outputs": [
        {
          "output_type": "execute_result",
          "data": {
            "text/plain": [
              "<matplotlib.axes._subplots.AxesSubplot at 0x7fa7fb12b250>"
            ]
          },
          "metadata": {},
          "execution_count": 135
        },
        {
          "output_type": "display_data",
          "data": {
            "text/plain": [
              "<Figure size 432x288 with 1 Axes>"
            ],
            "image/png": "[encoded data removed]"
          },
          "metadata": {
            "needs_background": "light"
          }
        }
      ]
    },
    {
      "cell_type": "code",
      "source": [
        "sns.boxplot(x='loan_status',y='loan_amnt',data=df)"
      ],
      "metadata": {
        "colab": {
          "base_uri": "https://localhost:8080/",
          "height": 297
        },
        "outputId": "8d0b2ea8-e5db-4a58-da42-04f2b26bddb9",
        "id": "gv-Xs_z9qU52"
      },
      "execution_count": 136,
      "outputs": [
        {
          "output_type": "execute_result",
          "data": {
            "text/plain": [
              "<matplotlib.axes._subplots.AxesSubplot at 0x7fa7f7b69fd0>"
            ]
          },
          "metadata": {},
          "execution_count": 136
        },
        {
          "output_type": "display_data",
          "data": {
            "text/plain": [
              "<Figure size 432x288 with 1 Axes>"
            ],
            "image/png": "[encoded data removed]"
          },
          "metadata": {
            "needs_background": "light"
          }
        }
      ]
    },
    {
      "cell_type": "code",
      "source": [
        "df.groupby('loan_status')['loan_amnt'].describe()"
      ],
      "metadata": {
        "colab": {
          "base_uri": "https://localhost:8080/",
          "height": 143
        },
        "id": "1gf5YB9tqfMX",
        "outputId": "a5dd5af2-0c89-496b-c83e-c5d13bdbd58b"
      },
      "execution_count": 137,
      "outputs": [
        {
          "output_type": "execute_result",
          "data": {
            "text/plain": [
              "                count          mean          std     min     25%      50%  \\\n",
              "loan_status                                                                 \n",
              "Charged Off   77673.0  15126.300967  8505.090557  1000.0  8525.0  14000.0   \n",
              "Fully Paid   318357.0  13866.878771  8302.319699   500.0  7500.0  12000.0   \n",
              "\n",
              "                 75%      max  \n",
              "loan_status                    \n",
              "Charged Off  20000.0  40000.0  \n",
              "Fully Paid   19225.0  40000.0  "
            ],
            "text/html": [
              "\n",
              "  <div id=\"df-0abdba99-9805-4532-91a4-996f125fe5fe\">\n",
              "    <div class=\"colab-df-container\">\n",
              "      <div>\n",
              "<style scoped>\n",
              "    .dataframe tbody tr th:only-of-type {\n",
              "        vertical-align: middle;\n",
              "    }\n",
              "\n",
              "    .dataframe tbody tr th {\n",
              "        vertical-align: top;\n",
              "    }\n",
              "\n",
              "    .dataframe thead th {\n",
              "        text-align: right;\n",
              "    }\n",
              "</style>\n",
              "<table border=\"1\" class=\"dataframe\">\n",
              "  <thead>\n",
              "    <tr style=\"text-align: right;\">\n",
              "      <th></th>\n",
              "      <th>count</th>\n",
              "      <th>mean</th>\n",
              "      <th>std</th>\n",
              "      <th>min</th>\n",
              "      <th>25%</th>\n",
              "      <th>50%</th>\n",
              "      <th>75%</th>\n",
              "      <th>max</th>\n",
              "    </tr>\n",
              "    <tr>\n",
              "      <th>loan_status</th>\n",
              "      <th></th>\n",
              "      <th></th>\n",
              "      <th></th>\n",
              "      <th></th>\n",
              "      <th></th>\n",
              "      <th></th>\n",
              "      <th></th>\n",
              "      <th></th>\n",
              "    </tr>\n",
              "  </thead>\n",
              "  <tbody>\n",
              "    <tr>\n",
              "      <th>Charged Off</th>\n",
              "      <td>77673.0</td>\n",
              "      <td>15126.300967</td>\n",
              "      <td>8505.090557</td>\n",
              "      <td>1000.0</td>\n",
              "      <td>8525.0</td>\n",
              "      <td>14000.0</td>\n",
              "      <td>20000.0</td>\n",
              "      <td>40000.0</td>\n",
              "    </tr>\n",
              "    <tr>\n",
              "      <th>Fully Paid</th>\n",
              "      <td>318357.0</td>\n",
              "      <td>13866.878771</td>\n",
              "      <td>8302.319699</td>\n",
              "      <td>500.0</td>\n",
              "      <td>7500.0</td>\n",
              "      <td>12000.0</td>\n",
              "      <td>19225.0</td>\n",
              "      <td>40000.0</td>\n",
              "    </tr>\n",
              "  </tbody>\n",
              "</table>\n",
              "</div>\n",
              "      <button class=\"colab-df-convert\" onclick=\"convertToInteractive('df-0abdba99-9805-4532-91a4-996f125fe5fe')\"\n",
              "              title=\"Convert this dataframe to an interactive table.\"\n",
              "              style=\"display:none;\">\n",
              "        \n",
              "  <svg xmlns=\"http://www.w3.org/2000/svg\" height=\"24px\"viewBox=\"0 0 24 24\"\n",
              "       width=\"24px\">\n",
              "    <path d=\"M0 0h24v24H0V0z\" fill=\"none\"/>\n",
              "    <path d=\"M18.56 5.44l.94 2.06.94-2.06 2.06-.94-2.06-.94-.94-2.06-.94 2.06-2.06.94zm-11 1L8.5 8.5l.94-2.06 2.06-.94-2.06-.94L8.5 2.5l-.94 2.06-2.06.94zm10 10l.94 2.06.94-2.06 2.06-.94-2.06-.94-.94-2.06-.94 2.06-2.06.94z\"/><path d=\"M17.41 7.96l-1.37-1.37c-.4-.4-.92-.59-1.43-.59-.52 0-1.04.2-1.43.59L10.3 9.45l-7.72 7.72c-.78.78-.78 2.05 0 2.83L4 21.41c.39.39.9.59 1.41.59.51 0 1.02-.2 1.41-.59l7.78-7.78 2.81-2.81c.8-.78.8-2.07 0-2.86zM5.41 20L4 18.59l7.72-7.72 1.47 1.35L5.41 20z\"/>\n",
              "  </svg>\n",
              "      </button>\n",
              "      \n",
              "  <style>\n",
              "    .colab-df-container {\n",
              "      display:flex;\n",
              "      flex-wrap:wrap;\n",
              "      gap: 12px;\n",
              "    }\n",
              "\n",
              "    .colab-df-convert {\n",
              "      background-color: #E8F0FE;\n",
              "      border: none;\n",
              "      border-radius: 50%;\n",
              "      cursor: pointer;\n",
              "      display: none;\n",
              "      fill: #1967D2;\n",
              "      height: 32px;\n",
              "      padding: 0 0 0 0;\n",
              "      width: 32px;\n",
              "    }\n",
              "\n",
              "    .colab-df-convert:hover {\n",
              "      background-color: #E2EBFA;\n",
              "      box-shadow: 0px 1px 2px rgba(60, 64, 67, 0.3), 0px 1px 3px 1px rgba(60, 64, 67, 0.15);\n",
              "      fill: #174EA6;\n",
              "    }\n",
              "\n",
              "    [theme=dark] .colab-df-convert {\n",
              "      background-color: #3B4455;\n",
              "      fill: #D2E3FC;\n",
              "    }\n",
              "\n",
              "    [theme=dark] .colab-df-convert:hover {\n",
              "      background-color: #434B5C;\n",
              "      box-shadow: 0px 1px 3px 1px rgba(0, 0, 0, 0.15);\n",
              "      filter: drop-shadow(0px 1px 2px rgba(0, 0, 0, 0.3));\n",
              "      fill: #FFFFFF;\n",
              "    }\n",
              "  </style>\n",
              "\n",
              "      <script>\n",
              "        const buttonEl =\n",
              "          document.querySelector('#df-0abdba99-9805-4532-91a4-996f125fe5fe button.colab-df-convert');\n",
              "        buttonEl.style.display =\n",
              "          google.colab.kernel.accessAllowed ? 'block' : 'none';\n",
              "\n",
              "        async function convertToInteractive(key) {\n",
              "          const element = document.querySelector('#df-0abdba99-9805-4532-91a4-996f125fe5fe');\n",
              "          const dataTable =\n",
              "            await google.colab.kernel.invokeFunction('convertToInteractive',\n",
              "                                                     [key], {});\n",
              "          if (!dataTable) return;\n",
              "\n",
              "          const docLinkHtml = 'Like what you see? Visit the ' +\n",
              "            '<a target=\"_blank\" href=https://colab.research.google.com/notebooks/data_table.ipynb>data table notebook</a>'\n",
              "            + ' to learn more about interactive tables.';\n",
              "          element.innerHTML = '';\n",
              "          dataTable['output_type'] = 'display_data';\n",
              "          await google.colab.output.renderOutput(dataTable, element);\n",
              "          const docLink = document.createElement('div');\n",
              "          docLink.innerHTML = docLinkHtml;\n",
              "          element.appendChild(docLink);\n",
              "        }\n",
              "      </script>\n",
              "    </div>\n",
              "  </div>\n",
              "  "
            ]
          },
          "metadata": {},
          "execution_count": 137
        }
      ]
    },
    {
      "cell_type": "code",
      "source": [
        "df['grade'].unique()"
      ],
      "metadata": {
        "colab": {
          "base_uri": "https://localhost:8080/"
        },
        "id": "rOhf62MDq_56",
        "outputId": "96989737-1c18-4b07-edf8-14de745a1a3f"
      },
      "execution_count": 138,
      "outputs": [
        {
          "output_type": "execute_result",
          "data": {
            "text/plain": [
              "array(['B', 'A', 'C', 'E', 'D', 'F', 'G'], dtype=object)"
            ]
          },
          "metadata": {},
          "execution_count": 138
        }
      ]
    },
    {
      "cell_type": "code",
      "source": [
        "df['sub_grade'].unique()"
      ],
      "metadata": {
        "colab": {
          "base_uri": "https://localhost:8080/"
        },
        "id": "uv3cYwf7vV_n",
        "outputId": "eb085133-6ed1-4199-cedc-06ffe10c841f"
      },
      "execution_count": 139,
      "outputs": [
        {
          "output_type": "execute_result",
          "data": {
            "text/plain": [
              "array(['B4', 'B5', 'B3', 'A2', 'C5', 'C3', 'A1', 'B2', 'C1', 'A5', 'E4',\n",
              "       'A4', 'A3', 'D1', 'C2', 'B1', 'D3', 'D5', 'D2', 'E1', 'E2', 'E5',\n",
              "       'F4', 'E3', 'D4', 'G1', 'F5', 'G2', 'C4', 'F1', 'F3', 'G5', 'G4',\n",
              "       'F2', 'G3'], dtype=object)"
            ]
          },
          "metadata": {},
          "execution_count": 139
        }
      ]
    },
    {
      "cell_type": "code",
      "source": [
        "sns.countplot(x='grade', hue='loan_status', data=df)"
      ],
      "metadata": {
        "colab": {
          "base_uri": "https://localhost:8080/",
          "height": 296
        },
        "id": "7TE_V-NjvZRx",
        "outputId": "81988214-1bc5-47dc-c294-ae078e11ef75"
      },
      "execution_count": 140,
      "outputs": [
        {
          "output_type": "execute_result",
          "data": {
            "text/plain": [
              "<matplotlib.axes._subplots.AxesSubplot at 0x7fa7f7a387d0>"
            ]
          },
          "metadata": {},
          "execution_count": 140
        },
        {
          "output_type": "display_data",
          "data": {
            "text/plain": [
              "<Figure size 432x288 with 1 Axes>"
            ],
            "image/png": "[encoded data removed]"
          },
          "metadata": {
            "needs_background": "light"
          }
        }
      ]
    },
    {
      "cell_type": "code",
      "source": [
        "plt.figure(figsize=(12,4))\n",
        "sns.boxplot(x='loan_status',y='annual_inc', data=df)"
      ],
      "metadata": {
        "colab": {
          "base_uri": "https://localhost:8080/",
          "height": 308
        },
        "id": "z6sRZFbZYrRF",
        "outputId": "75b08cf7-1d6d-4b9e-8f09-367bece10d22"
      },
      "execution_count": 141,
      "outputs": [
        {
          "output_type": "execute_result",
          "data": {
            "text/plain": [
              "<matplotlib.axes._subplots.AxesSubplot at 0x7fa7f79da050>"
            ]
          },
          "metadata": {},
          "execution_count": 141
        },
        {
          "output_type": "display_data",
          "data": {
            "text/plain": [
              "<Figure size 864x288 with 1 Axes>"
            ],
            "image/png": "[encoded data removed]"
          },
          "metadata": {
            "needs_background": "light"
          }
        }
      ]
    },
    {
      "cell_type": "code",
      "source": [
        "plt.figure(figsize=(12,4))\n",
        "subgrade_order = sorted(df['sub_grade'].unique())\n",
        "sns.countplot(x='sub_grade', data=df, order=subgrade_order, palette='coolwarm',\n",
        "              hue='loan_status')"
      ],
      "metadata": {
        "colab": {
          "base_uri": "https://localhost:8080/",
          "height": 297
        },
        "id": "S_MGVlTgv2Hh",
        "outputId": "b8ae61a0-557f-4eff-efcc-647d2fe9fb41"
      },
      "execution_count": 23,
      "outputs": [
        {
          "output_type": "execute_result",
          "data": {
            "text/plain": [
              "<matplotlib.axes._subplots.AxesSubplot at 0x7fa87a2fc3d0>"
            ]
          },
          "metadata": {},
          "execution_count": 23
        },
        {
          "output_type": "display_data",
          "data": {
            "text/plain": [
              "<Figure size 864x288 with 1 Axes>"
            ],
            "image/png": "[encoded data removed]"
          },
          "metadata": {
            "needs_background": "light"
          }
        }
      ]
    },
    {
      "cell_type": "code",
      "source": [
        "df['loan_status'].unique()"
      ],
      "metadata": {
        "colab": {
          "base_uri": "https://localhost:8080/"
        },
        "id": "ESa2qB7aC_bf",
        "outputId": "7896da0f-9bc3-443e-fae4-4e7a6b869d44"
      },
      "execution_count": 24,
      "outputs": [
        {
          "output_type": "execute_result",
          "data": {
            "text/plain": [
              "array(['Fully Paid', 'Charged Off'], dtype=object)"
            ]
          },
          "metadata": {},
          "execution_count": 24
        }
      ]
    },
    {
      "cell_type": "code",
      "source": [
        "def transformation(x):\n",
        "    if x == 'Fully Paid':\n",
        "        return 1\n",
        "    elif x == 'Charged Off':\n",
        "        return 0\n",
        "\n",
        "new_col = df['loan_status'].apply(transformation)\n",
        "df['loan_repaid'] = new_col\n",
        "df[['loan_repaid','loan_status']]"
      ],
      "metadata": {
        "colab": {
          "base_uri": "https://localhost:8080/",
          "height": 424
        },
        "id": "VNOBFnD_Cvy6",
        "outputId": "113a76bc-01d4-4f2b-c6df-4438de1df2a6"
      },
      "execution_count": 25,
      "outputs": [
        {
          "output_type": "execute_result",
          "data": {
            "text/plain": [
              "        loan_repaid  loan_status\n",
              "0                 1   Fully Paid\n",
              "1                 1   Fully Paid\n",
              "2                 1   Fully Paid\n",
              "3                 1   Fully Paid\n",
              "4                 0  Charged Off\n",
              "...             ...          ...\n",
              "396025            1   Fully Paid\n",
              "396026            1   Fully Paid\n",
              "396027            1   Fully Paid\n",
              "396028            1   Fully Paid\n",
              "396029            1   Fully Paid\n",
              "\n",
              "[396030 rows x 2 columns]"
            ],
            "text/html": [
              "\n",
              "  <div id=\"df-7474a3e0-ba12-4081-b6f2-e7a00e6ef649\">\n",
              "    <div class=\"colab-df-container\">\n",
              "      <div>\n",
              "<style scoped>\n",
              "    .dataframe tbody tr th:only-of-type {\n",
              "        vertical-align: middle;\n",
              "    }\n",
              "\n",
              "    .dataframe tbody tr th {\n",
              "        vertical-align: top;\n",
              "    }\n",
              "\n",
              "    .dataframe thead th {\n",
              "        text-align: right;\n",
              "    }\n",
              "</style>\n",
              "<table border=\"1\" class=\"dataframe\">\n",
              "  <thead>\n",
              "    <tr style=\"text-align: right;\">\n",
              "      <th></th>\n",
              "      <th>loan_repaid</th>\n",
              "      <th>loan_status</th>\n",
              "    </tr>\n",
              "  </thead>\n",
              "  <tbody>\n",
              "    <tr>\n",
              "      <th>0</th>\n",
              "      <td>1</td>\n",
              "      <td>Fully Paid</td>\n",
              "    </tr>\n",
              "    <tr>\n",
              "      <th>1</th>\n",
              "      <td>1</td>\n",
              "      <td>Fully Paid</td>\n",
              "    </tr>\n",
              "    <tr>\n",
              "      <th>2</th>\n",
              "      <td>1</td>\n",
              "      <td>Fully Paid</td>\n",
              "    </tr>\n",
              "    <tr>\n",
              "      <th>3</th>\n",
              "      <td>1</td>\n",
              "      <td>Fully Paid</td>\n",
              "    </tr>\n",
              "    <tr>\n",
              "      <th>4</th>\n",
              "      <td>0</td>\n",
              "      <td>Charged Off</td>\n",
              "    </tr>\n",
              "    <tr>\n",
              "      <th>...</th>\n",
              "      <td>...</td>\n",
              "      <td>...</td>\n",
              "    </tr>\n",
              "    <tr>\n",
              "      <th>396025</th>\n",
              "      <td>1</td>\n",
              "      <td>Fully Paid</td>\n",
              "    </tr>\n",
              "    <tr>\n",
              "      <th>396026</th>\n",
              "      <td>1</td>\n",
              "      <td>Fully Paid</td>\n",
              "    </tr>\n",
              "    <tr>\n",
              "      <th>396027</th>\n",
              "      <td>1</td>\n",
              "      <td>Fully Paid</td>\n",
              "    </tr>\n",
              "    <tr>\n",
              "      <th>396028</th>\n",
              "      <td>1</td>\n",
              "      <td>Fully Paid</td>\n",
              "    </tr>\n",
              "    <tr>\n",
              "      <th>396029</th>\n",
              "      <td>1</td>\n",
              "      <td>Fully Paid</td>\n",
              "    </tr>\n",
              "  </tbody>\n",
              "</table>\n",
              "<p>396030 rows × 2 columns</p>\n",
              "</div>\n",
              "      <button class=\"colab-df-convert\" onclick=\"convertToInteractive('df-7474a3e0-ba12-4081-b6f2-e7a00e6ef649')\"\n",
              "              title=\"Convert this dataframe to an interactive table.\"\n",
              "              style=\"display:none;\">\n",
              "        \n",
              "  <svg xmlns=\"http://www.w3.org/2000/svg\" height=\"24px\"viewBox=\"0 0 24 24\"\n",
              "       width=\"24px\">\n",
              "    <path d=\"M0 0h24v24H0V0z\" fill=\"none\"/>\n",
              "    <path d=\"M18.56 5.44l.94 2.06.94-2.06 2.06-.94-2.06-.94-.94-2.06-.94 2.06-2.06.94zm-11 1L8.5 8.5l.94-2.06 2.06-.94-2.06-.94L8.5 2.5l-.94 2.06-2.06.94zm10 10l.94 2.06.94-2.06 2.06-.94-2.06-.94-.94-2.06-.94 2.06-2.06.94z\"/><path d=\"M17.41 7.96l-1.37-1.37c-.4-.4-.92-.59-1.43-.59-.52 0-1.04.2-1.43.59L10.3 9.45l-7.72 7.72c-.78.78-.78 2.05 0 2.83L4 21.41c.39.39.9.59 1.41.59.51 0 1.02-.2 1.41-.59l7.78-7.78 2.81-2.81c.8-.78.8-2.07 0-2.86zM5.41 20L4 18.59l7.72-7.72 1.47 1.35L5.41 20z\"/>\n",
              "  </svg>\n",
              "      </button>\n",
              "      \n",
              "  <style>\n",
              "    .colab-df-container {\n",
              "      display:flex;\n",
              "      flex-wrap:wrap;\n",
              "      gap: 12px;\n",
              "    }\n",
              "\n",
              "    .colab-df-convert {\n",
              "      background-color: #E8F0FE;\n",
              "      border: none;\n",
              "      border-radius: 50%;\n",
              "      cursor: pointer;\n",
              "      display: none;\n",
              "      fill: #1967D2;\n",
              "      height: 32px;\n",
              "      padding: 0 0 0 0;\n",
              "      width: 32px;\n",
              "    }\n",
              "\n",
              "    .colab-df-convert:hover {\n",
              "      background-color: #E2EBFA;\n",
              "      box-shadow: 0px 1px 2px rgba(60, 64, 67, 0.3), 0px 1px 3px 1px rgba(60, 64, 67, 0.15);\n",
              "      fill: #174EA6;\n",
              "    }\n",
              "\n",
              "    [theme=dark] .colab-df-convert {\n",
              "      background-color: #3B4455;\n",
              "      fill: #D2E3FC;\n",
              "    }\n",
              "\n",
              "    [theme=dark] .colab-df-convert:hover {\n",
              "      background-color: #434B5C;\n",
              "      box-shadow: 0px 1px 3px 1px rgba(0, 0, 0, 0.15);\n",
              "      filter: drop-shadow(0px 1px 2px rgba(0, 0, 0, 0.3));\n",
              "      fill: #FFFFFF;\n",
              "    }\n",
              "  </style>\n",
              "\n",
              "      <script>\n",
              "        const buttonEl =\n",
              "          document.querySelector('#df-7474a3e0-ba12-4081-b6f2-e7a00e6ef649 button.colab-df-convert');\n",
              "        buttonEl.style.display =\n",
              "          google.colab.kernel.accessAllowed ? 'block' : 'none';\n",
              "\n",
              "        async function convertToInteractive(key) {\n",
              "          const element = document.querySelector('#df-7474a3e0-ba12-4081-b6f2-e7a00e6ef649');\n",
              "          const dataTable =\n",
              "            await google.colab.kernel.invokeFunction('convertToInteractive',\n",
              "                                                     [key], {});\n",
              "          if (!dataTable) return;\n",
              "\n",
              "          const docLinkHtml = 'Like what you see? Visit the ' +\n",
              "            '<a target=\"_blank\" href=https://colab.research.google.com/notebooks/data_table.ipynb>data table notebook</a>'\n",
              "            + ' to learn more about interactive tables.';\n",
              "          element.innerHTML = '';\n",
              "          dataTable['output_type'] = 'display_data';\n",
              "          await google.colab.output.renderOutput(dataTable, element);\n",
              "          const docLink = document.createElement('div');\n",
              "          docLink.innerHTML = docLinkHtml;\n",
              "          element.appendChild(docLink);\n",
              "        }\n",
              "      </script>\n",
              "    </div>\n",
              "  </div>\n",
              "  "
            ]
          },
          "metadata": {},
          "execution_count": 25
        }
      ]
    },
    {
      "cell_type": "code",
      "source": [
        "#CODE HERE\n",
        "s = df.corr().sort_values(by='loan_repaid')[:-1]['loan_repaid'].plot(kind='bar')"
      ],
      "metadata": {
        "colab": {
          "base_uri": "https://localhost:8080/",
          "height": 365
        },
        "id": "_oFigNPVDEY2",
        "outputId": "aad5aa8c-e526-454e-8ecc-4964884c2a33"
      },
      "execution_count": 26,
      "outputs": [
        {
          "output_type": "display_data",
          "data": {
            "text/plain": [
              "<Figure size 432x288 with 1 Axes>"
            ],
            "image/png": "[encoded data removed]"
          },
          "metadata": {
            "needs_background": "light"
          }
        }
      ]
    },
    {
      "cell_type": "code",
      "source": [
        "len(df)"
      ],
      "metadata": {
        "id": "FydalLjfwRV6",
        "colab": {
          "base_uri": "https://localhost:8080/"
        },
        "outputId": "524431b8-9883-443c-a740-9111f0db6687"
      },
      "execution_count": 27,
      "outputs": [
        {
          "output_type": "execute_result",
          "data": {
            "text/plain": [
              "396030"
            ]
          },
          "metadata": {},
          "execution_count": 27
        }
      ]
    },
    {
      "cell_type": "code",
      "source": [
        "396030-df.count()"
      ],
      "metadata": {
        "colab": {
          "base_uri": "https://localhost:8080/"
        },
        "id": "KW8gJL14sGO0",
        "outputId": "1e369d02-277e-40f8-851d-3302369873e6"
      },
      "execution_count": 28,
      "outputs": [
        {
          "output_type": "execute_result",
          "data": {
            "text/plain": [
              "loan_amnt                   0\n",
              "term                        0\n",
              "int_rate                    0\n",
              "installment                 0\n",
              "grade                       0\n",
              "sub_grade                   0\n",
              "emp_title               22927\n",
              "emp_length              18301\n",
              "home_ownership              0\n",
              "annual_inc                  0\n",
              "verification_status         0\n",
              "issue_d                     0\n",
              "loan_status                 0\n",
              "purpose                     0\n",
              "title                    1755\n",
              "dti                         0\n",
              "earliest_cr_line            0\n",
              "open_acc                    0\n",
              "pub_rec                     0\n",
              "revol_bal                   0\n",
              "revol_util                276\n",
              "total_acc                   0\n",
              "initial_list_status         0\n",
              "application_type            0\n",
              "mort_acc                37795\n",
              "pub_rec_bankruptcies      535\n",
              "address                     0\n",
              "loan_repaid                 0\n",
              "dtype: int64"
            ]
          },
          "metadata": {},
          "execution_count": 28
        }
      ]
    },
    {
      "cell_type": "code",
      "source": [
        "(396030-df.count()) / 396030 * 100"
      ],
      "metadata": {
        "colab": {
          "base_uri": "https://localhost:8080/"
        },
        "id": "IN3WDOSYsKXj",
        "outputId": "af6e74f6-7a28-45bc-bc64-77fbe58410cf"
      },
      "execution_count": 29,
      "outputs": [
        {
          "output_type": "execute_result",
          "data": {
            "text/plain": [
              "loan_amnt               0.000000\n",
              "term                    0.000000\n",
              "int_rate                0.000000\n",
              "installment             0.000000\n",
              "grade                   0.000000\n",
              "sub_grade               0.000000\n",
              "emp_title               5.789208\n",
              "emp_length              4.621115\n",
              "home_ownership          0.000000\n",
              "annual_inc              0.000000\n",
              "verification_status     0.000000\n",
              "issue_d                 0.000000\n",
              "loan_status             0.000000\n",
              "purpose                 0.000000\n",
              "title                   0.443148\n",
              "dti                     0.000000\n",
              "earliest_cr_line        0.000000\n",
              "open_acc                0.000000\n",
              "pub_rec                 0.000000\n",
              "revol_bal               0.000000\n",
              "revol_util              0.069692\n",
              "total_acc               0.000000\n",
              "initial_list_status     0.000000\n",
              "application_type        0.000000\n",
              "mort_acc                9.543469\n",
              "pub_rec_bankruptcies    0.135091\n",
              "address                 0.000000\n",
              "loan_repaid             0.000000\n",
              "dtype: float64"
            ]
          },
          "metadata": {},
          "execution_count": 29
        }
      ]
    },
    {
      "cell_type": "code",
      "source": [
        "df = df.drop('emp_title', axis=1)"
      ],
      "metadata": {
        "id": "u-TbbeIcsNKr"
      },
      "execution_count": 30,
      "outputs": []
    },
    {
      "cell_type": "code",
      "source": [
        "sorted(df['emp_length'].dropna().unique())"
      ],
      "metadata": {
        "colab": {
          "base_uri": "https://localhost:8080/"
        },
        "id": "3sFVPmwwsc20",
        "outputId": "d3005aed-8526-405f-8e0b-c8bffe0ae507"
      },
      "execution_count": 31,
      "outputs": [
        {
          "output_type": "execute_result",
          "data": {
            "text/plain": [
              "['1 year',\n",
              " '10+ years',\n",
              " '2 years',\n",
              " '3 years',\n",
              " '4 years',\n",
              " '5 years',\n",
              " '6 years',\n",
              " '7 years',\n",
              " '8 years',\n",
              " '9 years',\n",
              " '< 1 year']"
            ]
          },
          "metadata": {},
          "execution_count": 31
        }
      ]
    },
    {
      "cell_type": "code",
      "source": [
        "emp_length_order = [\n",
        " '< 1 year',\n",
        " '1 year',\n",
        " '2 years',\n",
        " '3 years',\n",
        " '4 years',\n",
        " '5 years',\n",
        " '6 years',\n",
        " '7 years',\n",
        " '8 years',\n",
        " '9 years',\n",
        " '10+ years'\n",
        " ]"
      ],
      "metadata": {
        "id": "mmVgK1cHso_s"
      },
      "execution_count": 32,
      "outputs": []
    },
    {
      "cell_type": "code",
      "source": [
        "plt.figure(figsize=(12,4))\n",
        "sns.countplot(x='emp_length', data=df, order=emp_length_order, \n",
        "              hue='loan_status')"
      ],
      "metadata": {
        "colab": {
          "base_uri": "https://localhost:8080/",
          "height": 297
        },
        "id": "_dVP2LVBs1-g",
        "outputId": "1e49812c-1108-4640-aee9-090240e3c055"
      },
      "execution_count": 33,
      "outputs": [
        {
          "output_type": "execute_result",
          "data": {
            "text/plain": [
              "<matplotlib.axes._subplots.AxesSubplot at 0x7fa87599bf10>"
            ]
          },
          "metadata": {},
          "execution_count": 33
        },
        {
          "output_type": "display_data",
          "data": {
            "text/plain": [
              "<Figure size 864x288 with 1 Axes>"
            ],
            "image/png": "[encoded data removed]"
          },
          "metadata": {
            "needs_background": "light"
          }
        }
      ]
    },
    {
      "cell_type": "code",
      "source": [
        "pd.crosstab(df['emp_length'],df['loan_status'], \n",
        "             normalize='index').plot.bar(stacked=True)"
      ],
      "metadata": {
        "colab": {
          "base_uri": "https://localhost:8080/",
          "height": 339
        },
        "id": "6qzrw445s6E4",
        "outputId": "cadd6d6c-8473-47b0-eb90-88fb931a1043"
      },
      "execution_count": 34,
      "outputs": [
        {
          "output_type": "execute_result",
          "data": {
            "text/plain": [
              "<matplotlib.axes._subplots.AxesSubplot at 0x7fa87d469d10>"
            ]
          },
          "metadata": {},
          "execution_count": 34
        },
        {
          "output_type": "display_data",
          "data": {
            "text/plain": [
              "<Figure size 432x288 with 1 Axes>"
            ],
            "image/png": "[encoded data removed]"
          },
          "metadata": {
            "needs_background": "light"
          }
        }
      ]
    },
    {
      "cell_type": "code",
      "source": [
        "df = df.drop('emp_length', axis=1)"
      ],
      "metadata": {
        "id": "wYQzRB5BtdaN"
      },
      "execution_count": 35,
      "outputs": []
    },
    {
      "cell_type": "markdown",
      "source": [
        "## Deal with missing data"
      ],
      "metadata": {
        "id": "UMizcAkmHANt"
      }
    },
    {
      "cell_type": "code",
      "source": [
        "df.isnull().sum()"
      ],
      "metadata": {
        "colab": {
          "base_uri": "https://localhost:8080/"
        },
        "id": "Z4kutsvdvAws",
        "outputId": "a3a53726-0866-4c32-be5d-023cc2d68258"
      },
      "execution_count": 36,
      "outputs": [
        {
          "output_type": "execute_result",
          "data": {
            "text/plain": [
              "loan_amnt                   0\n",
              "term                        0\n",
              "int_rate                    0\n",
              "installment                 0\n",
              "grade                       0\n",
              "sub_grade                   0\n",
              "home_ownership              0\n",
              "annual_inc                  0\n",
              "verification_status         0\n",
              "issue_d                     0\n",
              "loan_status                 0\n",
              "purpose                     0\n",
              "title                    1755\n",
              "dti                         0\n",
              "earliest_cr_line            0\n",
              "open_acc                    0\n",
              "pub_rec                     0\n",
              "revol_bal                   0\n",
              "revol_util                276\n",
              "total_acc                   0\n",
              "initial_list_status         0\n",
              "application_type            0\n",
              "mort_acc                37795\n",
              "pub_rec_bankruptcies      535\n",
              "address                     0\n",
              "loan_repaid                 0\n",
              "dtype: int64"
            ]
          },
          "metadata": {},
          "execution_count": 36
        }
      ]
    },
    {
      "cell_type": "code",
      "source": [
        "df = df.drop('title', axis=1)"
      ],
      "metadata": {
        "id": "_hbdovUsvDO8"
      },
      "execution_count": 37,
      "outputs": []
    },
    {
      "cell_type": "code",
      "source": [
        "df['mort_acc'].value_counts()"
      ],
      "metadata": {
        "colab": {
          "base_uri": "https://localhost:8080/"
        },
        "id": "W_ECWPcIv8Rs",
        "outputId": "a7621188-50f0-41e0-d759-5fc6df8bfda5"
      },
      "execution_count": 38,
      "outputs": [
        {
          "output_type": "execute_result",
          "data": {
            "text/plain": [
              "0.0     139777\n",
              "1.0      60416\n",
              "2.0      49948\n",
              "3.0      38049\n",
              "4.0      27887\n",
              "5.0      18194\n",
              "6.0      11069\n",
              "7.0       6052\n",
              "8.0       3121\n",
              "9.0       1656\n",
              "10.0       865\n",
              "11.0       479\n",
              "12.0       264\n",
              "13.0       146\n",
              "14.0       107\n",
              "15.0        61\n",
              "16.0        37\n",
              "17.0        22\n",
              "18.0        18\n",
              "19.0        15\n",
              "20.0        13\n",
              "24.0        10\n",
              "22.0         7\n",
              "21.0         4\n",
              "25.0         4\n",
              "27.0         3\n",
              "32.0         2\n",
              "31.0         2\n",
              "23.0         2\n",
              "26.0         2\n",
              "28.0         1\n",
              "30.0         1\n",
              "34.0         1\n",
              "Name: mort_acc, dtype: int64"
            ]
          },
          "metadata": {},
          "execution_count": 38
        }
      ]
    },
    {
      "cell_type": "code",
      "source": [
        "df.corr()['mort_acc'].sort_values(ascending=False)[1:]"
      ],
      "metadata": {
        "colab": {
          "base_uri": "https://localhost:8080/"
        },
        "id": "2xT3yJWEwEwE",
        "outputId": "80b209b7-f40e-4e4e-cb66-e681c0ecfd8f"
      },
      "execution_count": 39,
      "outputs": [
        {
          "output_type": "execute_result",
          "data": {
            "text/plain": [
              "total_acc               0.381072\n",
              "annual_inc              0.236320\n",
              "loan_amnt               0.222315\n",
              "revol_bal               0.194925\n",
              "installment             0.193694\n",
              "open_acc                0.109205\n",
              "loan_repaid             0.073111\n",
              "pub_rec_bankruptcies    0.027239\n",
              "pub_rec                 0.011552\n",
              "revol_util              0.007514\n",
              "dti                    -0.025439\n",
              "int_rate               -0.082583\n",
              "Name: mort_acc, dtype: float64"
            ]
          },
          "metadata": {},
          "execution_count": 39
        }
      ]
    },
    {
      "cell_type": "code",
      "source": [
        "total_acc_avg = df.groupby('total_acc').mean()['mort_acc']"
      ],
      "metadata": {
        "id": "yxCvd0WEwXVs"
      },
      "execution_count": 40,
      "outputs": []
    },
    {
      "cell_type": "code",
      "source": [
        "def fill_mort_acc(total_acc, mort_acc):\n",
        "  if np.isnan(mort_acc):\n",
        "    return total_acc_avg[total_acc]\n",
        "  else:\n",
        "    return mort_acc"
      ],
      "metadata": {
        "id": "rWo2qeK1wkhE"
      },
      "execution_count": 41,
      "outputs": []
    },
    {
      "cell_type": "code",
      "source": [
        "df['mort_acc'] = df.apply(lambda x: fill_mort_acc(x['total_acc'], x['mort_acc']), axis=1)"
      ],
      "metadata": {
        "id": "zh1Wt8lfxF3U"
      },
      "execution_count": 42,
      "outputs": []
    },
    {
      "cell_type": "code",
      "source": [
        "df.isnull().sum()"
      ],
      "metadata": {
        "colab": {
          "base_uri": "https://localhost:8080/"
        },
        "id": "V8WGOOuOxNFU",
        "outputId": "c4239272-7445-4b72-d300-c0ccdc0742cc"
      },
      "execution_count": 43,
      "outputs": [
        {
          "output_type": "execute_result",
          "data": {
            "text/plain": [
              "loan_amnt                 0\n",
              "term                      0\n",
              "int_rate                  0\n",
              "installment               0\n",
              "grade                     0\n",
              "sub_grade                 0\n",
              "home_ownership            0\n",
              "annual_inc                0\n",
              "verification_status       0\n",
              "issue_d                   0\n",
              "loan_status               0\n",
              "purpose                   0\n",
              "dti                       0\n",
              "earliest_cr_line          0\n",
              "open_acc                  0\n",
              "pub_rec                   0\n",
              "revol_bal                 0\n",
              "revol_util              276\n",
              "total_acc                 0\n",
              "initial_list_status       0\n",
              "application_type          0\n",
              "mort_acc                  0\n",
              "pub_rec_bankruptcies    535\n",
              "address                   0\n",
              "loan_repaid               0\n",
              "dtype: int64"
            ]
          },
          "metadata": {},
          "execution_count": 43
        }
      ]
    },
    {
      "cell_type": "code",
      "source": [
        "df = df.dropna()"
      ],
      "metadata": {
        "id": "F49rIsMaIohS"
      },
      "execution_count": 44,
      "outputs": []
    },
    {
      "cell_type": "code",
      "source": [
        "df.isnull().sum()"
      ],
      "metadata": {
        "colab": {
          "base_uri": "https://localhost:8080/"
        },
        "id": "UqsbWggsIu36",
        "outputId": "469c99f9-c0f5-49ba-c4a3-cc064f666881"
      },
      "execution_count": 45,
      "outputs": [
        {
          "output_type": "execute_result",
          "data": {
            "text/plain": [
              "loan_amnt               0\n",
              "term                    0\n",
              "int_rate                0\n",
              "installment             0\n",
              "grade                   0\n",
              "sub_grade               0\n",
              "home_ownership          0\n",
              "annual_inc              0\n",
              "verification_status     0\n",
              "issue_d                 0\n",
              "loan_status             0\n",
              "purpose                 0\n",
              "dti                     0\n",
              "earliest_cr_line        0\n",
              "open_acc                0\n",
              "pub_rec                 0\n",
              "revol_bal               0\n",
              "revol_util              0\n",
              "total_acc               0\n",
              "initial_list_status     0\n",
              "application_type        0\n",
              "mort_acc                0\n",
              "pub_rec_bankruptcies    0\n",
              "address                 0\n",
              "loan_repaid             0\n",
              "dtype: int64"
            ]
          },
          "metadata": {},
          "execution_count": 45
        }
      ]
    },
    {
      "cell_type": "code",
      "source": [
        "df['term'].value_counts()"
      ],
      "metadata": {
        "colab": {
          "base_uri": "https://localhost:8080/"
        },
        "id": "yNimBLy6xou0",
        "outputId": "f71c9126-df5d-436c-a34f-afb37be5a4f7"
      },
      "execution_count": 46,
      "outputs": [
        {
          "output_type": "execute_result",
          "data": {
            "text/plain": [
              " 36 months    301247\n",
              " 60 months     93972\n",
              "Name: term, dtype: int64"
            ]
          },
          "metadata": {},
          "execution_count": 46
        }
      ]
    },
    {
      "cell_type": "code",
      "source": [
        "df['term'] = df['term'].apply(lambda term: int(term[:3]))"
      ],
      "metadata": {
        "id": "2vDNB03mzAxl"
      },
      "execution_count": 47,
      "outputs": []
    },
    {
      "cell_type": "code",
      "source": [
        "df['term'].value_counts()"
      ],
      "metadata": {
        "colab": {
          "base_uri": "https://localhost:8080/"
        },
        "id": "z8dbcn4gzVe9",
        "outputId": "0c10ea95-0ea7-492e-caf3-37701453c4a8"
      },
      "execution_count": 48,
      "outputs": [
        {
          "output_type": "execute_result",
          "data": {
            "text/plain": [
              "36    301247\n",
              "60     93972\n",
              "Name: term, dtype: int64"
            ]
          },
          "metadata": {},
          "execution_count": 48
        }
      ]
    },
    {
      "cell_type": "code",
      "source": [
        "df = df.drop('grade', axis=1)"
      ],
      "metadata": {
        "id": "49YbflA3zXU0"
      },
      "execution_count": 49,
      "outputs": []
    },
    {
      "cell_type": "code",
      "source": [
        "dummies = pd.get_dummies(df['sub_grade'], drop_first=True)\n",
        "\n",
        "df = pd.concat([df.drop('sub_grade', axis=1), dummies], axis=1)"
      ],
      "metadata": {
        "id": "V_fN7IZGzh2F"
      },
      "execution_count": 50,
      "outputs": []
    },
    {
      "cell_type": "code",
      "source": [
        "df.columns"
      ],
      "metadata": {
        "colab": {
          "base_uri": "https://localhost:8080/"
        },
        "id": "taVu_jpa0ROz",
        "outputId": "4f888242-7d13-4443-8b19-6b03d691617e"
      },
      "execution_count": 51,
      "outputs": [
        {
          "output_type": "execute_result",
          "data": {
            "text/plain": [
              "Index(['loan_amnt', 'term', 'int_rate', 'installment', 'home_ownership',\n",
              "       'annual_inc', 'verification_status', 'issue_d', 'loan_status',\n",
              "       'purpose', 'dti', 'earliest_cr_line', 'open_acc', 'pub_rec',\n",
              "       'revol_bal', 'revol_util', 'total_acc', 'initial_list_status',\n",
              "       'application_type', 'mort_acc', 'pub_rec_bankruptcies', 'address',\n",
              "       'loan_repaid', 'A2', 'A3', 'A4', 'A5', 'B1', 'B2', 'B3', 'B4', 'B5',\n",
              "       'C1', 'C2', 'C3', 'C4', 'C5', 'D1', 'D2', 'D3', 'D4', 'D5', 'E1', 'E2',\n",
              "       'E3', 'E4', 'E5', 'F1', 'F2', 'F3', 'F4', 'F5', 'G1', 'G2', 'G3', 'G4',\n",
              "       'G5'],\n",
              "      dtype='object')"
            ]
          },
          "metadata": {},
          "execution_count": 51
        }
      ]
    },
    {
      "cell_type": "code",
      "source": [
        "dummies = pd.get_dummies(df[['verification_status', 'application_type','initial_list_status','purpose']], drop_first=True)\n",
        "\n",
        "df = pd.concat([df.drop(['verification_status', 'application_type','initial_list_status','purpose'], axis=1), dummies], axis=1)"
      ],
      "metadata": {
        "id": "Udcn_pK50dIN"
      },
      "execution_count": 52,
      "outputs": []
    },
    {
      "cell_type": "code",
      "source": [
        "df['home_ownership'].value_counts()"
      ],
      "metadata": {
        "colab": {
          "base_uri": "https://localhost:8080/"
        },
        "id": "KMxpSkCZ1ITV",
        "outputId": "1cee5f43-49d5-4a1e-b9d0-27601495241d"
      },
      "execution_count": 53,
      "outputs": [
        {
          "output_type": "execute_result",
          "data": {
            "text/plain": [
              "MORTGAGE    198022\n",
              "RENT        159395\n",
              "OWN          37660\n",
              "OTHER          110\n",
              "NONE            29\n",
              "ANY              3\n",
              "Name: home_ownership, dtype: int64"
            ]
          },
          "metadata": {},
          "execution_count": 53
        }
      ]
    },
    {
      "cell_type": "code",
      "source": [
        "df['home_ownership'] = df['home_ownership'].replace(['NONE', 'ANY'], 'OTHER')"
      ],
      "metadata": {
        "id": "hcZdnNgM1PB8"
      },
      "execution_count": 54,
      "outputs": []
    },
    {
      "cell_type": "code",
      "source": [
        "df['home_ownership'].value_counts()"
      ],
      "metadata": {
        "colab": {
          "base_uri": "https://localhost:8080/"
        },
        "id": "VCaqyuF4AdMu",
        "outputId": "afd1cd5b-19a8-40e1-c3c3-ab04a0abac0a"
      },
      "execution_count": 55,
      "outputs": [
        {
          "output_type": "execute_result",
          "data": {
            "text/plain": [
              "MORTGAGE    198022\n",
              "RENT        159395\n",
              "OWN          37660\n",
              "OTHER          142\n",
              "Name: home_ownership, dtype: int64"
            ]
          },
          "metadata": {},
          "execution_count": 55
        }
      ]
    },
    {
      "cell_type": "code",
      "source": [
        "dummies = pd.get_dummies(df['home_ownership'], drop_first=True)\n",
        "\n",
        "df = pd.concat([df.drop('home_ownership', axis=1), dummies], axis=1)"
      ],
      "metadata": {
        "id": "NdAklDsgAeYm"
      },
      "execution_count": 56,
      "outputs": []
    },
    {
      "cell_type": "code",
      "source": [
        "df['address']"
      ],
      "metadata": {
        "colab": {
          "base_uri": "https://localhost:8080/"
        },
        "id": "v0vVIrZkAi9a",
        "outputId": "1e2589fd-6be0-4555-afb3-65022ec7fb0c"
      },
      "execution_count": 57,
      "outputs": [
        {
          "output_type": "execute_result",
          "data": {
            "text/plain": [
              "0              0174 Michelle Gateway\\nMendozaberg, OK 22690\n",
              "1           1076 Carney Fort Apt. 347\\nLoganmouth, SD 05113\n",
              "2           87025 Mark Dale Apt. 269\\nNew Sabrina, WV 05113\n",
              "3                     823 Reid Ford\\nDelacruzside, MA 00813\n",
              "4                      679 Luna Roads\\nGreggshire, VA 11650\n",
              "                                ...                        \n",
              "396025       12951 Williams Crossing\\nJohnnyville, DC 30723\n",
              "396026    0114 Fowler Field Suite 028\\nRachelborough, LA...\n",
              "396027     953 Matthew Points Suite 414\\nReedfort, NY 70466\n",
              "396028    7843 Blake Freeway Apt. 229\\nNew Michael, FL 2...\n",
              "396029          787 Michelle Causeway\\nBriannaton, AR 48052\n",
              "Name: address, Length: 395219, dtype: object"
            ]
          },
          "metadata": {},
          "execution_count": 57
        }
      ]
    },
    {
      "cell_type": "code",
      "source": [
        "df['zip_code'] = df['address'].apply(lambda address: address[-5:])"
      ],
      "metadata": {
        "id": "408jAT50Aoy2"
      },
      "execution_count": 58,
      "outputs": []
    },
    {
      "cell_type": "code",
      "source": [
        "df['zip_code'].value_counts()"
      ],
      "metadata": {
        "colab": {
          "base_uri": "https://localhost:8080/"
        },
        "id": "vk_c9efxA0PO",
        "outputId": "b3301b4b-0fc7-4a55-fe18-9a6dbb3d0252"
      },
      "execution_count": 59,
      "outputs": [
        {
          "output_type": "execute_result",
          "data": {
            "text/plain": [
              "70466    56880\n",
              "22690    56413\n",
              "30723    56402\n",
              "48052    55811\n",
              "00813    45725\n",
              "29597    45393\n",
              "05113    45300\n",
              "11650    11210\n",
              "93700    11126\n",
              "86630    10959\n",
              "Name: zip_code, dtype: int64"
            ]
          },
          "metadata": {},
          "execution_count": 59
        }
      ]
    },
    {
      "cell_type": "code",
      "source": [
        "dummies = pd.get_dummies(df['zip_code'], drop_first=True)\n",
        "\n",
        "df = pd.concat([df.drop('zip_code', axis=1), dummies], axis=1)"
      ],
      "metadata": {
        "id": "tgQSIoPjA17W"
      },
      "execution_count": 60,
      "outputs": []
    },
    {
      "cell_type": "code",
      "source": [
        "df = df.drop('address', axis=1)"
      ],
      "metadata": {
        "id": "D9vNt4z0A8pO"
      },
      "execution_count": 61,
      "outputs": []
    },
    {
      "cell_type": "code",
      "source": [
        "df = df.drop('issue_d', axis=1)"
      ],
      "metadata": {
        "id": "iy3Wb09TA_G2"
      },
      "execution_count": 62,
      "outputs": []
    },
    {
      "cell_type": "code",
      "source": [
        "df['earliest_cr_line'] = df['earliest_cr_line'].apply(lambda date: int(date[-4:]))"
      ],
      "metadata": {
        "id": "YfwwSM64BK9u"
      },
      "execution_count": 63,
      "outputs": []
    },
    {
      "cell_type": "code",
      "source": [
        "df['earliest_cr_line']"
      ],
      "metadata": {
        "colab": {
          "base_uri": "https://localhost:8080/"
        },
        "id": "RhFZgOqXBUIP",
        "outputId": "93952c59-979a-47b4-8142-a7fd850fa879"
      },
      "execution_count": 64,
      "outputs": [
        {
          "output_type": "execute_result",
          "data": {
            "text/plain": [
              "0         1990\n",
              "1         2004\n",
              "2         2007\n",
              "3         2006\n",
              "4         1999\n",
              "          ... \n",
              "396025    2004\n",
              "396026    2006\n",
              "396027    1997\n",
              "396028    1990\n",
              "396029    1998\n",
              "Name: earliest_cr_line, Length: 395219, dtype: int64"
            ]
          },
          "metadata": {},
          "execution_count": 64
        }
      ]
    },
    {
      "cell_type": "code",
      "source": [
        "df['earliest_cr_line'].value_counts()"
      ],
      "metadata": {
        "colab": {
          "base_uri": "https://localhost:8080/"
        },
        "id": "N8JAuiBMBfXz",
        "outputId": "ab7e88bc-dcd7-4d70-98b8-8c3c86bf0f74"
      },
      "execution_count": 65,
      "outputs": [
        {
          "output_type": "execute_result",
          "data": {
            "text/plain": [
              "2000    29302\n",
              "2001    29031\n",
              "1999    26444\n",
              "2002    25849\n",
              "2003    23623\n",
              "        ...  \n",
              "1951        3\n",
              "1950        3\n",
              "1953        2\n",
              "1944        1\n",
              "1948        1\n",
              "Name: earliest_cr_line, Length: 65, dtype: int64"
            ]
          },
          "metadata": {},
          "execution_count": 65
        }
      ]
    },
    {
      "cell_type": "code",
      "source": [
        "from sklearn.model_selection import train_test_split"
      ],
      "metadata": {
        "id": "DyP-4RVsBkMD"
      },
      "execution_count": 66,
      "outputs": []
    },
    {
      "cell_type": "code",
      "source": [
        "df = df.drop('loan_status', axis=1)"
      ],
      "metadata": {
        "id": "mQo81yuEByw2"
      },
      "execution_count": 67,
      "outputs": []
    },
    {
      "cell_type": "code",
      "source": [
        "X = df.drop('loan_repaid', axis=1).values"
      ],
      "metadata": {
        "id": "0yXsJw8mB4ju"
      },
      "execution_count": 68,
      "outputs": []
    },
    {
      "cell_type": "code",
      "source": [
        "y = df['loan_repaid'].values"
      ],
      "metadata": {
        "id": "7qyEAYpMB-JO"
      },
      "execution_count": 69,
      "outputs": []
    },
    {
      "cell_type": "code",
      "source": [
        "X_train, X_test, y_train, y_test = train_test_split(X, y, test_size=0.2,\n",
        "                                                    random_state=101)"
      ],
      "metadata": {
        "id": "W0vFQ4RtDh4V"
      },
      "execution_count": 70,
      "outputs": []
    },
    {
      "cell_type": "code",
      "source": [
        "from sklearn.preprocessing import MinMaxScaler"
      ],
      "metadata": {
        "id": "WPxUdKrOD5lu"
      },
      "execution_count": 71,
      "outputs": []
    },
    {
      "cell_type": "code",
      "source": [
        "scaler = MinMaxScaler()"
      ],
      "metadata": {
        "id": "oh8vyG4ID-Y-"
      },
      "execution_count": 72,
      "outputs": []
    },
    {
      "cell_type": "code",
      "source": [
        "X_train = scaler.fit_transform(X_train)"
      ],
      "metadata": {
        "id": "9yNWMgi0D_T-"
      },
      "execution_count": 73,
      "outputs": []
    },
    {
      "cell_type": "code",
      "source": [
        "X_test = scaler.transform(X_test)"
      ],
      "metadata": {
        "id": "h4tFhtgvEDgu"
      },
      "execution_count": 74,
      "outputs": []
    },
    {
      "cell_type": "code",
      "source": [
        "df.isnull().sum().sort_values(ascending=False)"
      ],
      "metadata": {
        "colab": {
          "base_uri": "https://localhost:8080/"
        },
        "id": "bU5IEXxNH6CW",
        "outputId": "fc91a67e-d42d-4e7b-d809-79aceefa4757"
      },
      "execution_count": null,
      "outputs": [
        {
          "output_type": "execute_result",
          "data": {
            "text/plain": [
              "loan_amnt                       0\n",
              "verification_status_Verified    0\n",
              "purpose_home_improvement        0\n",
              "purpose_educational             0\n",
              "purpose_debt_consolidation      0\n",
              "                               ..\n",
              "C2                              0\n",
              "C1                              0\n",
              "B5                              0\n",
              "B4                              0\n",
              "93700                           0\n",
              "Length: 79, dtype: int64"
            ]
          },
          "metadata": {},
          "execution_count": 75
        }
      ]
    },
    {
      "cell_type": "markdown",
      "source": [
        "## Models"
      ],
      "metadata": {
        "id": "7ryu367LHGYa"
      }
    },
    {
      "cell_type": "markdown",
      "source": [
        "### Model 1"
      ],
      "metadata": {
        "id": "F-gBY1uxHQPB"
      }
    },
    {
      "cell_type": "code",
      "source": [
        "import tensorflow as tf\n",
        "from tensorflow.keras.models import Sequential\n",
        "from tensorflow.keras.layers import Dense,Dropout"
      ],
      "metadata": {
        "id": "wZHfEkVUEFyG"
      },
      "execution_count": 75,
      "outputs": []
    },
    {
      "cell_type": "code",
      "source": [
        "X_train.shape"
      ],
      "metadata": {
        "colab": {
          "base_uri": "https://localhost:8080/"
        },
        "id": "VONUnsDfEbtl",
        "outputId": "93d5f284-d8bc-4433-bb40-a490427639f4"
      },
      "execution_count": null,
      "outputs": [
        {
          "output_type": "execute_result",
          "data": {
            "text/plain": [
              "(316175, 78)"
            ]
          },
          "metadata": {},
          "execution_count": 77
        }
      ]
    },
    {
      "cell_type": "code",
      "source": [
        "model = Sequential()\n",
        "\n",
        "model.add(Dense(78, activation='relu'))\n",
        "model.add(Dropout(0.2))\n",
        "\n",
        "model.add(Dense(39, activation='relu'))\n",
        "model.add(Dropout(0.2))\n",
        "\n",
        "model.add(Dense(19, activation='relu'))\n",
        "model.add(Dropout(0.2))\n",
        "\n",
        "model.add(Dense(units=1, activation='sigmoid'))\n",
        "\n",
        "model.compile(loss='binary_crossentropy', optimizer='adam')"
      ],
      "metadata": {
        "id": "VbR38YwtEV5u"
      },
      "execution_count": null,
      "outputs": []
    },
    {
      "cell_type": "code",
      "source": [
        "model.fit(x=X_train, y=y_train, epochs=25, batch_size=256,\n",
        "          validation_data=(X_test,y_test))"
      ],
      "metadata": {
        "colab": {
          "base_uri": "https://localhost:8080/"
        },
        "id": "qa6Gt6zaEXq1",
        "outputId": "27bd34c1-b804-42ee-a456-2f70090b9f84"
      },
      "execution_count": null,
      "outputs": [
        {
          "output_type": "stream",
          "name": "stdout",
          "text": [
            "Epoch 1/25\n",
            "1236/1236 [==============================] - 7s 5ms/step - loss: 0.3006 - val_loss: 0.2658\n",
            "Epoch 2/25\n",
            "1236/1236 [==============================] - 5s 4ms/step - loss: 0.2654 - val_loss: 0.2634\n",
            "Epoch 3/25\n",
            "1236/1236 [==============================] - 5s 4ms/step - loss: 0.2625 - val_loss: 0.2625\n",
            "Epoch 4/25\n",
            "1236/1236 [==============================] - 5s 4ms/step - loss: 0.2617 - val_loss: 0.2626\n",
            "Epoch 5/25\n",
            "1236/1236 [==============================] - 5s 4ms/step - loss: 0.2609 - val_loss: 0.2621\n",
            "Epoch 6/25\n",
            "1236/1236 [==============================] - 5s 4ms/step - loss: 0.2604 - val_loss: 0.2621\n",
            "Epoch 7/25\n",
            "1236/1236 [==============================] - 5s 4ms/step - loss: 0.2603 - val_loss: 0.2615\n",
            "Epoch 8/25\n",
            "1236/1236 [==============================] - 6s 5ms/step - loss: 0.2596 - val_loss: 0.2618\n",
            "Epoch 9/25\n",
            "1236/1236 [==============================] - 6s 5ms/step - loss: 0.2591 - val_loss: 0.2613\n",
            "Epoch 10/25\n",
            "1236/1236 [==============================] - 5s 4ms/step - loss: 0.2589 - val_loss: 0.2618\n",
            "Epoch 11/25\n",
            "1236/1236 [==============================] - 6s 5ms/step - loss: 0.2586 - val_loss: 0.2615\n",
            "Epoch 12/25\n",
            "1236/1236 [==============================] - 7s 6ms/step - loss: 0.2584 - val_loss: 0.2618\n",
            "Epoch 13/25\n",
            "1236/1236 [==============================] - 6s 4ms/step - loss: 0.2584 - val_loss: 0.2613\n",
            "Epoch 14/25\n",
            "1236/1236 [==============================] - 6s 5ms/step - loss: 0.2579 - val_loss: 0.2614\n",
            "Epoch 15/25\n",
            "1236/1236 [==============================] - 6s 5ms/step - loss: 0.2579 - val_loss: 0.2616\n",
            "Epoch 16/25\n",
            "1236/1236 [==============================] - 5s 4ms/step - loss: 0.2576 - val_loss: 0.2614\n",
            "Epoch 17/25\n",
            "1236/1236 [==============================] - 5s 4ms/step - loss: 0.2572 - val_loss: 0.2612\n",
            "Epoch 18/25\n",
            "1236/1236 [==============================] - 5s 4ms/step - loss: 0.2573 - val_loss: 0.2612\n",
            "Epoch 19/25\n",
            "1236/1236 [==============================] - 5s 4ms/step - loss: 0.2573 - val_loss: 0.2617\n",
            "Epoch 20/25\n",
            "1236/1236 [==============================] - 5s 4ms/step - loss: 0.2570 - val_loss: 0.2614\n",
            "Epoch 21/25\n",
            "1236/1236 [==============================] - 5s 4ms/step - loss: 0.2568 - val_loss: 0.2612\n",
            "Epoch 22/25\n",
            "1236/1236 [==============================] - 6s 4ms/step - loss: 0.2568 - val_loss: 0.2613\n",
            "Epoch 23/25\n",
            "1236/1236 [==============================] - 5s 4ms/step - loss: 0.2564 - val_loss: 0.2614\n",
            "Epoch 24/25\n",
            "1236/1236 [==============================] - 5s 4ms/step - loss: 0.2564 - val_loss: 0.2612\n",
            "Epoch 25/25\n",
            "1236/1236 [==============================] - 5s 4ms/step - loss: 0.2563 - val_loss: 0.2610\n"
          ]
        },
        {
          "output_type": "execute_result",
          "data": {
            "text/plain": [
              "<keras.callbacks.History at 0x7f366bb08210>"
            ]
          },
          "metadata": {},
          "execution_count": 79
        }
      ]
    },
    {
      "cell_type": "code",
      "source": [
        "losses = pd.DataFrame(model.history.history)\n",
        "losses"
      ],
      "metadata": {
        "colab": {
          "base_uri": "https://localhost:8080/",
          "height": 833
        },
        "id": "_yxHQ_xKFZWv",
        "outputId": "bfca907f-20a3-456a-d6b7-5fecebe2892a"
      },
      "execution_count": null,
      "outputs": [
        {
          "output_type": "execute_result",
          "data": {
            "text/plain": [
              "        loss  val_loss\n",
              "0   0.300589  0.265850\n",
              "1   0.265407  0.263433\n",
              "2   0.262483  0.262482\n",
              "3   0.261682  0.262594\n",
              "4   0.260884  0.262087\n",
              "5   0.260414  0.262106\n",
              "6   0.260318  0.261523\n",
              "7   0.259618  0.261778\n",
              "8   0.259086  0.261278\n",
              "9   0.258920  0.261832\n",
              "10  0.258584  0.261518\n",
              "11  0.258384  0.261764\n",
              "12  0.258407  0.261284\n",
              "13  0.257913  0.261374\n",
              "14  0.257934  0.261577\n",
              "15  0.257603  0.261385\n",
              "16  0.257171  0.261239\n",
              "17  0.257277  0.261195\n",
              "18  0.257297  0.261737\n",
              "19  0.257015  0.261375\n",
              "20  0.256788  0.261163\n",
              "21  0.256832  0.261338\n",
              "22  0.256356  0.261432\n",
              "23  0.256438  0.261219\n",
              "24  0.256325  0.260999"
            ],
            "text/html": [
              "\n",
              "  <div id=\"df-b2a2bb74-274d-4fc3-8220-898e77898bbf\">\n",
              "    <div class=\"colab-df-container\">\n",
              "      <div>\n",
              "<style scoped>\n",
              "    .dataframe tbody tr th:only-of-type {\n",
              "        vertical-align: middle;\n",
              "    }\n",
              "\n",
              "    .dataframe tbody tr th {\n",
              "        vertical-align: top;\n",
              "    }\n",
              "\n",
              "    .dataframe thead th {\n",
              "        text-align: right;\n",
              "    }\n",
              "</style>\n",
              "<table border=\"1\" class=\"dataframe\">\n",
              "  <thead>\n",
              "    <tr style=\"text-align: right;\">\n",
              "      <th></th>\n",
              "      <th>loss</th>\n",
              "      <th>val_loss</th>\n",
              "    </tr>\n",
              "  </thead>\n",
              "  <tbody>\n",
              "    <tr>\n",
              "      <th>0</th>\n",
              "      <td>0.300589</td>\n",
              "      <td>0.265850</td>\n",
              "    </tr>\n",
              "    <tr>\n",
              "      <th>1</th>\n",
              "      <td>0.265407</td>\n",
              "      <td>0.263433</td>\n",
              "    </tr>\n",
              "    <tr>\n",
              "      <th>2</th>\n",
              "      <td>0.262483</td>\n",
              "      <td>0.262482</td>\n",
              "    </tr>\n",
              "    <tr>\n",
              "      <th>3</th>\n",
              "      <td>0.261682</td>\n",
              "      <td>0.262594</td>\n",
              "    </tr>\n",
              "    <tr>\n",
              "      <th>4</th>\n",
              "      <td>0.260884</td>\n",
              "      <td>0.262087</td>\n",
              "    </tr>\n",
              "    <tr>\n",
              "      <th>5</th>\n",
              "      <td>0.260414</td>\n",
              "      <td>0.262106</td>\n",
              "    </tr>\n",
              "    <tr>\n",
              "      <th>6</th>\n",
              "      <td>0.260318</td>\n",
              "      <td>0.261523</td>\n",
              "    </tr>\n",
              "    <tr>\n",
              "      <th>7</th>\n",
              "      <td>0.259618</td>\n",
              "      <td>0.261778</td>\n",
              "    </tr>\n",
              "    <tr>\n",
              "      <th>8</th>\n",
              "      <td>0.259086</td>\n",
              "      <td>0.261278</td>\n",
              "    </tr>\n",
              "    <tr>\n",
              "      <th>9</th>\n",
              "      <td>0.258920</td>\n",
              "      <td>0.261832</td>\n",
              "    </tr>\n",
              "    <tr>\n",
              "      <th>10</th>\n",
              "      <td>0.258584</td>\n",
              "      <td>0.261518</td>\n",
              "    </tr>\n",
              "    <tr>\n",
              "      <th>11</th>\n",
              "      <td>0.258384</td>\n",
              "      <td>0.261764</td>\n",
              "    </tr>\n",
              "    <tr>\n",
              "      <th>12</th>\n",
              "      <td>0.258407</td>\n",
              "      <td>0.261284</td>\n",
              "    </tr>\n",
              "    <tr>\n",
              "      <th>13</th>\n",
              "      <td>0.257913</td>\n",
              "      <td>0.261374</td>\n",
              "    </tr>\n",
              "    <tr>\n",
              "      <th>14</th>\n",
              "      <td>0.257934</td>\n",
              "      <td>0.261577</td>\n",
              "    </tr>\n",
              "    <tr>\n",
              "      <th>15</th>\n",
              "      <td>0.257603</td>\n",
              "      <td>0.261385</td>\n",
              "    </tr>\n",
              "    <tr>\n",
              "      <th>16</th>\n",
              "      <td>0.257171</td>\n",
              "      <td>0.261239</td>\n",
              "    </tr>\n",
              "    <tr>\n",
              "      <th>17</th>\n",
              "      <td>0.257277</td>\n",
              "      <td>0.261195</td>\n",
              "    </tr>\n",
              "    <tr>\n",
              "      <th>18</th>\n",
              "      <td>0.257297</td>\n",
              "      <td>0.261737</td>\n",
              "    </tr>\n",
              "    <tr>\n",
              "      <th>19</th>\n",
              "      <td>0.257015</td>\n",
              "      <td>0.261375</td>\n",
              "    </tr>\n",
              "    <tr>\n",
              "      <th>20</th>\n",
              "      <td>0.256788</td>\n",
              "      <td>0.261163</td>\n",
              "    </tr>\n",
              "    <tr>\n",
              "      <th>21</th>\n",
              "      <td>0.256832</td>\n",
              "      <td>0.261338</td>\n",
              "    </tr>\n",
              "    <tr>\n",
              "      <th>22</th>\n",
              "      <td>0.256356</td>\n",
              "      <td>0.261432</td>\n",
              "    </tr>\n",
              "    <tr>\n",
              "      <th>23</th>\n",
              "      <td>0.256438</td>\n",
              "      <td>0.261219</td>\n",
              "    </tr>\n",
              "    <tr>\n",
              "      <th>24</th>\n",
              "      <td>0.256325</td>\n",
              "      <td>0.260999</td>\n",
              "    </tr>\n",
              "  </tbody>\n",
              "</table>\n",
              "</div>\n",
              "      <button class=\"colab-df-convert\" onclick=\"convertToInteractive('df-b2a2bb74-274d-4fc3-8220-898e77898bbf')\"\n",
              "              title=\"Convert this dataframe to an interactive table.\"\n",
              "              style=\"display:none;\">\n",
              "        \n",
              "  <svg xmlns=\"http://www.w3.org/2000/svg\" height=\"24px\"viewBox=\"0 0 24 24\"\n",
              "       width=\"24px\">\n",
              "    <path d=\"M0 0h24v24H0V0z\" fill=\"none\"/>\n",
              "    <path d=\"M18.56 5.44l.94 2.06.94-2.06 2.06-.94-2.06-.94-.94-2.06-.94 2.06-2.06.94zm-11 1L8.5 8.5l.94-2.06 2.06-.94-2.06-.94L8.5 2.5l-.94 2.06-2.06.94zm10 10l.94 2.06.94-2.06 2.06-.94-2.06-.94-.94-2.06-.94 2.06-2.06.94z\"/><path d=\"M17.41 7.96l-1.37-1.37c-.4-.4-.92-.59-1.43-.59-.52 0-1.04.2-1.43.59L10.3 9.45l-7.72 7.72c-.78.78-.78 2.05 0 2.83L4 21.41c.39.39.9.59 1.41.59.51 0 1.02-.2 1.41-.59l7.78-7.78 2.81-2.81c.8-.78.8-2.07 0-2.86zM5.41 20L4 18.59l7.72-7.72 1.47 1.35L5.41 20z\"/>\n",
              "  </svg>\n",
              "      </button>\n",
              "      \n",
              "  <style>\n",
              "    .colab-df-container {\n",
              "      display:flex;\n",
              "      flex-wrap:wrap;\n",
              "      gap: 12px;\n",
              "    }\n",
              "\n",
              "    .colab-df-convert {\n",
              "      background-color: #E8F0FE;\n",
              "      border: none;\n",
              "      border-radius: 50%;\n",
              "      cursor: pointer;\n",
              "      display: none;\n",
              "      fill: #1967D2;\n",
              "      height: 32px;\n",
              "      padding: 0 0 0 0;\n",
              "      width: 32px;\n",
              "    }\n",
              "\n",
              "    .colab-df-convert:hover {\n",
              "      background-color: #E2EBFA;\n",
              "      box-shadow: 0px 1px 2px rgba(60, 64, 67, 0.3), 0px 1px 3px 1px rgba(60, 64, 67, 0.15);\n",
              "      fill: #174EA6;\n",
              "    }\n",
              "\n",
              "    [theme=dark] .colab-df-convert {\n",
              "      background-color: #3B4455;\n",
              "      fill: #D2E3FC;\n",
              "    }\n",
              "\n",
              "    [theme=dark] .colab-df-convert:hover {\n",
              "      background-color: #434B5C;\n",
              "      box-shadow: 0px 1px 3px 1px rgba(0, 0, 0, 0.15);\n",
              "      filter: drop-shadow(0px 1px 2px rgba(0, 0, 0, 0.3));\n",
              "      fill: #FFFFFF;\n",
              "    }\n",
              "  </style>\n",
              "\n",
              "      <script>\n",
              "        const buttonEl =\n",
              "          document.querySelector('#df-b2a2bb74-274d-4fc3-8220-898e77898bbf button.colab-df-convert');\n",
              "        buttonEl.style.display =\n",
              "          google.colab.kernel.accessAllowed ? 'block' : 'none';\n",
              "\n",
              "        async function convertToInteractive(key) {\n",
              "          const element = document.querySelector('#df-b2a2bb74-274d-4fc3-8220-898e77898bbf');\n",
              "          const dataTable =\n",
              "            await google.colab.kernel.invokeFunction('convertToInteractive',\n",
              "                                                     [key], {});\n",
              "          if (!dataTable) return;\n",
              "\n",
              "          const docLinkHtml = 'Like what you see? Visit the ' +\n",
              "            '<a target=\"_blank\" href=https://colab.research.google.com/notebooks/data_table.ipynb>data table notebook</a>'\n",
              "            + ' to learn more about interactive tables.';\n",
              "          element.innerHTML = '';\n",
              "          dataTable['output_type'] = 'display_data';\n",
              "          await google.colab.output.renderOutput(dataTable, element);\n",
              "          const docLink = document.createElement('div');\n",
              "          docLink.innerHTML = docLinkHtml;\n",
              "          element.appendChild(docLink);\n",
              "        }\n",
              "      </script>\n",
              "    </div>\n",
              "  </div>\n",
              "  "
            ]
          },
          "metadata": {},
          "execution_count": 80
        }
      ]
    },
    {
      "cell_type": "code",
      "source": [
        "plt.figure(figsize=(8,5))\n",
        "epochs = np.arange(0, len(losses[\"loss\"]))\n",
        "plt.plot(epochs - 0.5, losses[\"loss\"], label=\"train_loss\")\n",
        "plt.plot(epochs, losses[\"val_loss\"], label=\"val_loss\")\n",
        "plt.legend()\n",
        "plt.grid(True)\n",
        "# plt.gca().set_ylim(0, 1) # set the vertical range to [0-1]\n",
        "plt.show()"
      ],
      "metadata": {
        "colab": {
          "base_uri": "https://localhost:8080/",
          "height": 320
        },
        "id": "bNMY9F9hGxZ9",
        "outputId": "bc27fa30-9999-4cd7-f8d4-37c52935cad3"
      },
      "execution_count": null,
      "outputs": [
        {
          "output_type": "display_data",
          "data": {
            "text/plain": [
              "<Figure size 576x360 with 1 Axes>"
            ],
            "image/png": "[encoded data removed]"
          },
          "metadata": {
            "needs_background": "light"
          }
        }
      ]
    },
    {
      "cell_type": "code",
      "source": [
        "from sklearn.metrics import classification_report, confusion_matrix"
      ],
      "metadata": {
        "id": "hPQbio1VGzx9"
      },
      "execution_count": null,
      "outputs": []
    },
    {
      "cell_type": "code",
      "source": [
        "predictions = (model.predict(X_test) > 0.5).astype(\"int32\")"
      ],
      "metadata": {
        "id": "ws2hewRzD5sU"
      },
      "execution_count": null,
      "outputs": []
    },
    {
      "cell_type": "code",
      "source": [
        "print(classification_report(y_test, predictions))"
      ],
      "metadata": {
        "colab": {
          "base_uri": "https://localhost:8080/"
        },
        "id": "MaxK8tU3D89c",
        "outputId": "92ae6a51-1819-44fc-e994-0a0b34d9c462"
      },
      "execution_count": null,
      "outputs": [
        {
          "output_type": "stream",
          "name": "stdout",
          "text": [
            "              precision    recall  f1-score   support\n",
            "\n",
            "           0       0.98      0.44      0.61     15658\n",
            "           1       0.88      1.00      0.93     63386\n",
            "\n",
            "    accuracy                           0.89     79044\n",
            "   macro avg       0.93      0.72      0.77     79044\n",
            "weighted avg       0.90      0.89      0.87     79044\n",
            "\n"
          ]
        }
      ]
    },
    {
      "cell_type": "code",
      "source": [
        "df['loan_repaid'].value_counts()"
      ],
      "metadata": {
        "colab": {
          "base_uri": "https://localhost:8080/"
        },
        "id": "nXGFtWDQEQV0",
        "outputId": "ce9eb0bc-047c-43e5-aacf-03f58fb2c7ef"
      },
      "execution_count": null,
      "outputs": [
        {
          "output_type": "execute_result",
          "data": {
            "text/plain": [
              "1    317696\n",
              "0     77523\n",
              "Name: loan_repaid, dtype: int64"
            ]
          },
          "metadata": {},
          "execution_count": 93
        }
      ]
    },
    {
      "cell_type": "code",
      "source": [
        "df['loan_repaid'].value_counts() / len(df)"
      ],
      "metadata": {
        "colab": {
          "base_uri": "https://localhost:8080/"
        },
        "id": "Ti-CfH5BFNgL",
        "outputId": "59ef08bd-3e2f-4994-8856-4375f0cbd5b2"
      },
      "execution_count": null,
      "outputs": [
        {
          "output_type": "execute_result",
          "data": {
            "text/plain": [
              "1    0.803848\n",
              "0    0.196152\n",
              "Name: loan_repaid, dtype: float64"
            ]
          },
          "metadata": {},
          "execution_count": 94
        }
      ]
    },
    {
      "cell_type": "code",
      "source": [
        "confusion_matrix(y_test, predictions)"
      ],
      "metadata": {
        "colab": {
          "base_uri": "https://localhost:8080/"
        },
        "id": "yydjj65gFYFb",
        "outputId": "40ed38a9-d439-4564-d285-a537105c6acc"
      },
      "execution_count": null,
      "outputs": [
        {
          "output_type": "execute_result",
          "data": {
            "text/plain": [
              "array([[ 6945,  8713],\n",
              "       [  164, 63222]])"
            ]
          },
          "metadata": {},
          "execution_count": 95
        }
      ]
    },
    {
      "cell_type": "markdown",
      "source": [
        "### Model 2"
      ],
      "metadata": {
        "id": "KYI3fWrfHL0o"
      }
    },
    {
      "cell_type": "code",
      "source": [
        "from tensorflow.keras.callbacks import EarlyStopping"
      ],
      "metadata": {
        "id": "Pnvv15yWHM3M"
      },
      "execution_count": null,
      "outputs": []
    },
    {
      "cell_type": "code",
      "source": [
        "early_stop = EarlyStopping(monitor='val_loss',\n",
        "                           mode='min', verbose=1, patience= 10)"
      ],
      "metadata": {
        "id": "m7t-hleEHXVE"
      },
      "execution_count": null,
      "outputs": []
    },
    {
      "cell_type": "code",
      "source": [
        "model = Sequential()\n",
        "\n",
        "model.add(Dense(78, activation='relu'))\n",
        "model.add(Dropout(0.2))\n",
        "\n",
        "model.add(Dense(60, activation='relu'))\n",
        "model.add(Dropout(0.2))\n",
        "\n",
        "model.add(Dense(60, activation='relu'))\n",
        "model.add(Dropout(0.2))\n",
        "\n",
        "model.add(Dense(units=1, activation='sigmoid'))\n",
        "\n",
        "model.compile(loss='binary_crossentropy', optimizer='adam')"
      ],
      "metadata": {
        "id": "9gFxHJz6HZx8"
      },
      "execution_count": null,
      "outputs": []
    },
    {
      "cell_type": "code",
      "source": [
        "model.fit(x=X_train, y=y_train, epochs=50, batch_size=256,\n",
        "          validation_data=(X_test,y_test),\n",
        "          callbacks=[early_stop])"
      ],
      "metadata": {
        "colab": {
          "base_uri": "https://localhost:8080/"
        },
        "id": "y5iRo7ozHlyr",
        "outputId": "e7bb2edb-a605-4e67-e36f-f3c99d710131"
      },
      "execution_count": null,
      "outputs": [
        {
          "output_type": "stream",
          "name": "stdout",
          "text": [
            "Epoch 1/50\n",
            "1236/1236 [==============================] - 10s 7ms/step - loss: 0.2897 - val_loss: 0.2648\n",
            "Epoch 2/50\n",
            "1236/1236 [==============================] - 7s 5ms/step - loss: 0.2633 - val_loss: 0.2636\n",
            "Epoch 3/50\n",
            "1236/1236 [==============================] - 7s 5ms/step - loss: 0.2616 - val_loss: 0.2632\n",
            "Epoch 4/50\n",
            "1236/1236 [==============================] - 7s 6ms/step - loss: 0.2608 - val_loss: 0.2617\n",
            "Epoch 5/50\n",
            "1236/1236 [==============================] - 8s 6ms/step - loss: 0.2603 - val_loss: 0.2624\n",
            "Epoch 6/50\n",
            "1236/1236 [==============================] - 7s 5ms/step - loss: 0.2596 - val_loss: 0.2614\n",
            "Epoch 7/50\n",
            "1236/1236 [==============================] - 7s 5ms/step - loss: 0.2596 - val_loss: 0.2614\n",
            "Epoch 8/50\n",
            "1236/1236 [==============================] - 6s 5ms/step - loss: 0.2592 - val_loss: 0.2611\n",
            "Epoch 9/50\n",
            "1236/1236 [==============================] - 6s 5ms/step - loss: 0.2587 - val_loss: 0.2610\n",
            "Epoch 10/50\n",
            "1236/1236 [==============================] - 7s 6ms/step - loss: 0.2582 - val_loss: 0.2611\n",
            "Epoch 11/50\n",
            "1236/1236 [==============================] - 6s 5ms/step - loss: 0.2583 - val_loss: 0.2613\n",
            "Epoch 12/50\n",
            "1236/1236 [==============================] - 7s 5ms/step - loss: 0.2580 - val_loss: 0.2611\n",
            "Epoch 13/50\n",
            "1236/1236 [==============================] - 6s 5ms/step - loss: 0.2578 - val_loss: 0.2613\n",
            "Epoch 14/50\n",
            "1236/1236 [==============================] - 6s 5ms/step - loss: 0.2575 - val_loss: 0.2612\n",
            "Epoch 15/50\n",
            "1236/1236 [==============================] - 6s 5ms/step - loss: 0.2572 - val_loss: 0.2609\n",
            "Epoch 16/50\n",
            "1236/1236 [==============================] - 7s 5ms/step - loss: 0.2570 - val_loss: 0.2610\n",
            "Epoch 17/50\n",
            "1236/1236 [==============================] - 7s 5ms/step - loss: 0.2568 - val_loss: 0.2617\n",
            "Epoch 18/50\n",
            "1236/1236 [==============================] - 7s 5ms/step - loss: 0.2567 - val_loss: 0.2609\n",
            "Epoch 19/50\n",
            "1236/1236 [==============================] - 7s 5ms/step - loss: 0.2568 - val_loss: 0.2609\n",
            "Epoch 20/50\n",
            "1236/1236 [==============================] - 7s 5ms/step - loss: 0.2564 - val_loss: 0.2611\n",
            "Epoch 21/50\n",
            "1236/1236 [==============================] - 7s 6ms/step - loss: 0.2561 - val_loss: 0.2608\n",
            "Epoch 22/50\n",
            "1236/1236 [==============================] - 7s 5ms/step - loss: 0.2562 - val_loss: 0.2607\n",
            "Epoch 23/50\n",
            "1236/1236 [==============================] - 7s 5ms/step - loss: 0.2558 - val_loss: 0.2609\n",
            "Epoch 24/50\n",
            "1236/1236 [==============================] - 7s 5ms/step - loss: 0.2557 - val_loss: 0.2611\n",
            "Epoch 25/50\n",
            "1236/1236 [==============================] - 6s 5ms/step - loss: 0.2555 - val_loss: 0.2609\n",
            "Epoch 26/50\n",
            "1236/1236 [==============================] - 6s 5ms/step - loss: 0.2557 - val_loss: 0.2608\n",
            "Epoch 27/50\n",
            "1236/1236 [==============================] - 6s 5ms/step - loss: 0.2553 - val_loss: 0.2608\n",
            "Epoch 28/50\n",
            "1236/1236 [==============================] - 7s 6ms/step - loss: 0.2550 - val_loss: 0.2613\n",
            "Epoch 29/50\n",
            "1236/1236 [==============================] - 7s 5ms/step - loss: 0.2549 - val_loss: 0.2610\n",
            "Epoch 30/50\n",
            "1236/1236 [==============================] - 6s 5ms/step - loss: 0.2548 - val_loss: 0.2608\n",
            "Epoch 31/50\n",
            "1236/1236 [==============================] - 7s 5ms/step - loss: 0.2545 - val_loss: 0.2606\n",
            "Epoch 32/50\n",
            "1236/1236 [==============================] - 7s 6ms/step - loss: 0.2545 - val_loss: 0.2608\n",
            "Epoch 33/50\n",
            "1236/1236 [==============================] - 7s 5ms/step - loss: 0.2543 - val_loss: 0.2612\n",
            "Epoch 34/50\n",
            "1236/1236 [==============================] - 7s 6ms/step - loss: 0.2542 - val_loss: 0.2609\n",
            "Epoch 35/50\n",
            "1236/1236 [==============================] - 7s 5ms/step - loss: 0.2543 - val_loss: 0.2611\n",
            "Epoch 36/50\n",
            "1236/1236 [==============================] - 7s 5ms/step - loss: 0.2540 - val_loss: 0.2613\n",
            "Epoch 37/50\n",
            "1236/1236 [==============================] - 7s 6ms/step - loss: 0.2538 - val_loss: 0.2611\n",
            "Epoch 38/50\n",
            "1236/1236 [==============================] - 7s 6ms/step - loss: 0.2537 - val_loss: 0.2623\n",
            "Epoch 39/50\n",
            "1236/1236 [==============================] - 6s 5ms/step - loss: 0.2539 - val_loss: 0.2607\n",
            "Epoch 40/50\n",
            "1236/1236 [==============================] - 6s 5ms/step - loss: 0.2535 - val_loss: 0.2611\n",
            "Epoch 41/50\n",
            "1236/1236 [==============================] - 7s 5ms/step - loss: 0.2533 - val_loss: 0.2609\n",
            "Epoch 41: early stopping\n"
          ]
        },
        {
          "output_type": "execute_result",
          "data": {
            "text/plain": [
              "<keras.callbacks.History at 0x7f365a448490>"
            ]
          },
          "metadata": {},
          "execution_count": 162
        }
      ]
    },
    {
      "cell_type": "code",
      "source": [
        "losses = pd.DataFrame(model.history.history)\n",
        "losses"
      ],
      "metadata": {
        "colab": {
          "base_uri": "https://localhost:8080/",
          "height": 1000
        },
        "outputId": "b1840a2e-d37e-40a7-8311-4dc91ccc2a8d",
        "id": "d2Yl4xqbIpgC"
      },
      "execution_count": null,
      "outputs": [
        {
          "output_type": "execute_result",
          "data": {
            "text/plain": [
              "        loss  val_loss\n",
              "0   0.289660  0.264819\n",
              "1   0.263304  0.263552\n",
              "2   0.261616  0.263195\n",
              "3   0.260848  0.261661\n",
              "4   0.260350  0.262353\n",
              "5   0.259555  0.261406\n",
              "6   0.259598  0.261415\n",
              "7   0.259173  0.261138\n",
              "8   0.258681  0.260973\n",
              "9   0.258247  0.261145\n",
              "10  0.258287  0.261270\n",
              "11  0.258018  0.261060\n",
              "12  0.257841  0.261279\n",
              "13  0.257494  0.261185\n",
              "14  0.257237  0.260887\n",
              "15  0.256995  0.260997\n",
              "16  0.256822  0.261659\n",
              "17  0.256708  0.260866\n",
              "18  0.256810  0.260894\n",
              "19  0.256407  0.261082\n",
              "20  0.256133  0.260815\n",
              "21  0.256176  0.260678\n",
              "22  0.255800  0.260885\n",
              "23  0.255691  0.261074\n",
              "24  0.255514  0.260886\n",
              "25  0.255738  0.260796\n",
              "26  0.255258  0.260805\n",
              "27  0.254966  0.261324\n",
              "28  0.254873  0.260998\n",
              "29  0.254829  0.260839\n",
              "30  0.254480  0.260581\n",
              "31  0.254509  0.260822\n",
              "32  0.254278  0.261181\n",
              "33  0.254208  0.260861\n",
              "34  0.254332  0.261087\n",
              "35  0.254010  0.261275\n",
              "36  0.253848  0.261093\n",
              "37  0.253709  0.262307\n",
              "38  0.253937  0.260694\n",
              "39  0.253487  0.261150\n",
              "40  0.253326  0.260898"
            ],
            "text/html": [
              "\n",
              "  <div id=\"df-4acc4852-5081-40ad-8324-88061b5f4ffc\">\n",
              "    <div class=\"colab-df-container\">\n",
              "      <div>\n",
              "<style scoped>\n",
              "    .dataframe tbody tr th:only-of-type {\n",
              "        vertical-align: middle;\n",
              "    }\n",
              "\n",
              "    .dataframe tbody tr th {\n",
              "        vertical-align: top;\n",
              "    }\n",
              "\n",
              "    .dataframe thead th {\n",
              "        text-align: right;\n",
              "    }\n",
              "</style>\n",
              "<table border=\"1\" class=\"dataframe\">\n",
              "  <thead>\n",
              "    <tr style=\"text-align: right;\">\n",
              "      <th></th>\n",
              "      <th>loss</th>\n",
              "      <th>val_loss</th>\n",
              "    </tr>\n",
              "  </thead>\n",
              "  <tbody>\n",
              "    <tr>\n",
              "      <th>0</th>\n",
              "      <td>0.289660</td>\n",
              "      <td>0.264819</td>\n",
              "    </tr>\n",
              "    <tr>\n",
              "      <th>1</th>\n",
              "      <td>0.263304</td>\n",
              "      <td>0.263552</td>\n",
              "    </tr>\n",
              "    <tr>\n",
              "      <th>2</th>\n",
              "      <td>0.261616</td>\n",
              "      <td>0.263195</td>\n",
              "    </tr>\n",
              "    <tr>\n",
              "      <th>3</th>\n",
              "      <td>0.260848</td>\n",
              "      <td>0.261661</td>\n",
              "    </tr>\n",
              "    <tr>\n",
              "      <th>4</th>\n",
              "      <td>0.260350</td>\n",
              "      <td>0.262353</td>\n",
              "    </tr>\n",
              "    <tr>\n",
              "      <th>5</th>\n",
              "      <td>0.259555</td>\n",
              "      <td>0.261406</td>\n",
              "    </tr>\n",
              "    <tr>\n",
              "      <th>6</th>\n",
              "      <td>0.259598</td>\n",
              "      <td>0.261415</td>\n",
              "    </tr>\n",
              "    <tr>\n",
              "      <th>7</th>\n",
              "      <td>0.259173</td>\n",
              "      <td>0.261138</td>\n",
              "    </tr>\n",
              "    <tr>\n",
              "      <th>8</th>\n",
              "      <td>0.258681</td>\n",
              "      <td>0.260973</td>\n",
              "    </tr>\n",
              "    <tr>\n",
              "      <th>9</th>\n",
              "      <td>0.258247</td>\n",
              "      <td>0.261145</td>\n",
              "    </tr>\n",
              "    <tr>\n",
              "      <th>10</th>\n",
              "      <td>0.258287</td>\n",
              "      <td>0.261270</td>\n",
              "    </tr>\n",
              "    <tr>\n",
              "      <th>11</th>\n",
              "      <td>0.258018</td>\n",
              "      <td>0.261060</td>\n",
              "    </tr>\n",
              "    <tr>\n",
              "      <th>12</th>\n",
              "      <td>0.257841</td>\n",
              "      <td>0.261279</td>\n",
              "    </tr>\n",
              "    <tr>\n",
              "      <th>13</th>\n",
              "      <td>0.257494</td>\n",
              "      <td>0.261185</td>\n",
              "    </tr>\n",
              "    <tr>\n",
              "      <th>14</th>\n",
              "      <td>0.257237</td>\n",
              "      <td>0.260887</td>\n",
              "    </tr>\n",
              "    <tr>\n",
              "      <th>15</th>\n",
              "      <td>0.256995</td>\n",
              "      <td>0.260997</td>\n",
              "    </tr>\n",
              "    <tr>\n",
              "      <th>16</th>\n",
              "      <td>0.256822</td>\n",
              "      <td>0.261659</td>\n",
              "    </tr>\n",
              "    <tr>\n",
              "      <th>17</th>\n",
              "      <td>0.256708</td>\n",
              "      <td>0.260866</td>\n",
              "    </tr>\n",
              "    <tr>\n",
              "      <th>18</th>\n",
              "      <td>0.256810</td>\n",
              "      <td>0.260894</td>\n",
              "    </tr>\n",
              "    <tr>\n",
              "      <th>19</th>\n",
              "      <td>0.256407</td>\n",
              "      <td>0.261082</td>\n",
              "    </tr>\n",
              "    <tr>\n",
              "      <th>20</th>\n",
              "      <td>0.256133</td>\n",
              "      <td>0.260815</td>\n",
              "    </tr>\n",
              "    <tr>\n",
              "      <th>21</th>\n",
              "      <td>0.256176</td>\n",
              "      <td>0.260678</td>\n",
              "    </tr>\n",
              "    <tr>\n",
              "      <th>22</th>\n",
              "      <td>0.255800</td>\n",
              "      <td>0.260885</td>\n",
              "    </tr>\n",
              "    <tr>\n",
              "      <th>23</th>\n",
              "      <td>0.255691</td>\n",
              "      <td>0.261074</td>\n",
              "    </tr>\n",
              "    <tr>\n",
              "      <th>24</th>\n",
              "      <td>0.255514</td>\n",
              "      <td>0.260886</td>\n",
              "    </tr>\n",
              "    <tr>\n",
              "      <th>25</th>\n",
              "      <td>0.255738</td>\n",
              "      <td>0.260796</td>\n",
              "    </tr>\n",
              "    <tr>\n",
              "      <th>26</th>\n",
              "      <td>0.255258</td>\n",
              "      <td>0.260805</td>\n",
              "    </tr>\n",
              "    <tr>\n",
              "      <th>27</th>\n",
              "      <td>0.254966</td>\n",
              "      <td>0.261324</td>\n",
              "    </tr>\n",
              "    <tr>\n",
              "      <th>28</th>\n",
              "      <td>0.254873</td>\n",
              "      <td>0.260998</td>\n",
              "    </tr>\n",
              "    <tr>\n",
              "      <th>29</th>\n",
              "      <td>0.254829</td>\n",
              "      <td>0.260839</td>\n",
              "    </tr>\n",
              "    <tr>\n",
              "      <th>30</th>\n",
              "      <td>0.254480</td>\n",
              "      <td>0.260581</td>\n",
              "    </tr>\n",
              "    <tr>\n",
              "      <th>31</th>\n",
              "      <td>0.254509</td>\n",
              "      <td>0.260822</td>\n",
              "    </tr>\n",
              "    <tr>\n",
              "      <th>32</th>\n",
              "      <td>0.254278</td>\n",
              "      <td>0.261181</td>\n",
              "    </tr>\n",
              "    <tr>\n",
              "      <th>33</th>\n",
              "      <td>0.254208</td>\n",
              "      <td>0.260861</td>\n",
              "    </tr>\n",
              "    <tr>\n",
              "      <th>34</th>\n",
              "      <td>0.254332</td>\n",
              "      <td>0.261087</td>\n",
              "    </tr>\n",
              "    <tr>\n",
              "      <th>35</th>\n",
              "      <td>0.254010</td>\n",
              "      <td>0.261275</td>\n",
              "    </tr>\n",
              "    <tr>\n",
              "      <th>36</th>\n",
              "      <td>0.253848</td>\n",
              "      <td>0.261093</td>\n",
              "    </tr>\n",
              "    <tr>\n",
              "      <th>37</th>\n",
              "      <td>0.253709</td>\n",
              "      <td>0.262307</td>\n",
              "    </tr>\n",
              "    <tr>\n",
              "      <th>38</th>\n",
              "      <td>0.253937</td>\n",
              "      <td>0.260694</td>\n",
              "    </tr>\n",
              "    <tr>\n",
              "      <th>39</th>\n",
              "      <td>0.253487</td>\n",
              "      <td>0.261150</td>\n",
              "    </tr>\n",
              "    <tr>\n",
              "      <th>40</th>\n",
              "      <td>0.253326</td>\n",
              "      <td>0.260898</td>\n",
              "    </tr>\n",
              "  </tbody>\n",
              "</table>\n",
              "</div>\n",
              "      <button class=\"colab-df-convert\" onclick=\"convertToInteractive('df-4acc4852-5081-40ad-8324-88061b5f4ffc')\"\n",
              "              title=\"Convert this dataframe to an interactive table.\"\n",
              "              style=\"display:none;\">\n",
              "        \n",
              "  <svg xmlns=\"http://www.w3.org/2000/svg\" height=\"24px\"viewBox=\"0 0 24 24\"\n",
              "       width=\"24px\">\n",
              "    <path d=\"M0 0h24v24H0V0z\" fill=\"none\"/>\n",
              "    <path d=\"M18.56 5.44l.94 2.06.94-2.06 2.06-.94-2.06-.94-.94-2.06-.94 2.06-2.06.94zm-11 1L8.5 8.5l.94-2.06 2.06-.94-2.06-.94L8.5 2.5l-.94 2.06-2.06.94zm10 10l.94 2.06.94-2.06 2.06-.94-2.06-.94-.94-2.06-.94 2.06-2.06.94z\"/><path d=\"M17.41 7.96l-1.37-1.37c-.4-.4-.92-.59-1.43-.59-.52 0-1.04.2-1.43.59L10.3 9.45l-7.72 7.72c-.78.78-.78 2.05 0 2.83L4 21.41c.39.39.9.59 1.41.59.51 0 1.02-.2 1.41-.59l7.78-7.78 2.81-2.81c.8-.78.8-2.07 0-2.86zM5.41 20L4 18.59l7.72-7.72 1.47 1.35L5.41 20z\"/>\n",
              "  </svg>\n",
              "      </button>\n",
              "      \n",
              "  <style>\n",
              "    .colab-df-container {\n",
              "      display:flex;\n",
              "      flex-wrap:wrap;\n",
              "      gap: 12px;\n",
              "    }\n",
              "\n",
              "    .colab-df-convert {\n",
              "      background-color: #E8F0FE;\n",
              "      border: none;\n",
              "      border-radius: 50%;\n",
              "      cursor: pointer;\n",
              "      display: none;\n",
              "      fill: #1967D2;\n",
              "      height: 32px;\n",
              "      padding: 0 0 0 0;\n",
              "      width: 32px;\n",
              "    }\n",
              "\n",
              "    .colab-df-convert:hover {\n",
              "      background-color: #E2EBFA;\n",
              "      box-shadow: 0px 1px 2px rgba(60, 64, 67, 0.3), 0px 1px 3px 1px rgba(60, 64, 67, 0.15);\n",
              "      fill: #174EA6;\n",
              "    }\n",
              "\n",
              "    [theme=dark] .colab-df-convert {\n",
              "      background-color: #3B4455;\n",
              "      fill: #D2E3FC;\n",
              "    }\n",
              "\n",
              "    [theme=dark] .colab-df-convert:hover {\n",
              "      background-color: #434B5C;\n",
              "      box-shadow: 0px 1px 3px 1px rgba(0, 0, 0, 0.15);\n",
              "      filter: drop-shadow(0px 1px 2px rgba(0, 0, 0, 0.3));\n",
              "      fill: #FFFFFF;\n",
              "    }\n",
              "  </style>\n",
              "\n",
              "      <script>\n",
              "        const buttonEl =\n",
              "          document.querySelector('#df-4acc4852-5081-40ad-8324-88061b5f4ffc button.colab-df-convert');\n",
              "        buttonEl.style.display =\n",
              "          google.colab.kernel.accessAllowed ? 'block' : 'none';\n",
              "\n",
              "        async function convertToInteractive(key) {\n",
              "          const element = document.querySelector('#df-4acc4852-5081-40ad-8324-88061b5f4ffc');\n",
              "          const dataTable =\n",
              "            await google.colab.kernel.invokeFunction('convertToInteractive',\n",
              "                                                     [key], {});\n",
              "          if (!dataTable) return;\n",
              "\n",
              "          const docLinkHtml = 'Like what you see? Visit the ' +\n",
              "            '<a target=\"_blank\" href=https://colab.research.google.com/notebooks/data_table.ipynb>data table notebook</a>'\n",
              "            + ' to learn more about interactive tables.';\n",
              "          element.innerHTML = '';\n",
              "          dataTable['output_type'] = 'display_data';\n",
              "          await google.colab.output.renderOutput(dataTable, element);\n",
              "          const docLink = document.createElement('div');\n",
              "          docLink.innerHTML = docLinkHtml;\n",
              "          element.appendChild(docLink);\n",
              "        }\n",
              "      </script>\n",
              "    </div>\n",
              "  </div>\n",
              "  "
            ]
          },
          "metadata": {},
          "execution_count": 163
        }
      ]
    },
    {
      "cell_type": "code",
      "source": [
        "plt.figure(figsize=(8,5))\n",
        "epochs = np.arange(0, len(losses[\"loss\"]))\n",
        "plt.plot(epochs - 0.5, losses[\"loss\"], label=\"train_loss\")\n",
        "plt.plot(epochs, losses[\"val_loss\"], label=\"val_loss\")\n",
        "plt.legend()\n",
        "plt.grid(True)\n",
        "# plt.gca().set_ylim(0, 1) # set the vertical range to [0-1]\n",
        "plt.show()"
      ],
      "metadata": {
        "colab": {
          "base_uri": "https://localhost:8080/",
          "height": 320
        },
        "outputId": "5484de6b-423e-4dcc-b17f-4411fb9fa7ea",
        "id": "H_Ak4v2wIpgE"
      },
      "execution_count": null,
      "outputs": [
        {
          "output_type": "display_data",
          "data": {
            "text/plain": [
              "<Figure size 576x360 with 1 Axes>"
            ],
            "image/png": "[encoded data removed]"
          },
          "metadata": {
            "needs_background": "light"
          }
        }
      ]
    },
    {
      "cell_type": "code",
      "source": [
        "predictions = (model.predict(X_test) > 0.5).astype(\"int32\")"
      ],
      "metadata": {
        "id": "1FZMD_tbIpgF"
      },
      "execution_count": null,
      "outputs": []
    },
    {
      "cell_type": "code",
      "source": [
        "print(classification_report(y_test, predictions))"
      ],
      "metadata": {
        "colab": {
          "base_uri": "https://localhost:8080/"
        },
        "outputId": "3b3af548-4022-434e-d6c1-f2933f7bb969",
        "id": "RbTErBSZIpgG"
      },
      "execution_count": null,
      "outputs": [
        {
          "output_type": "stream",
          "name": "stdout",
          "text": [
            "              precision    recall  f1-score   support\n",
            "\n",
            "           0       0.97      0.45      0.61     15658\n",
            "           1       0.88      1.00      0.93     63386\n",
            "\n",
            "    accuracy                           0.89     79044\n",
            "   macro avg       0.92      0.72      0.77     79044\n",
            "weighted avg       0.90      0.89      0.87     79044\n",
            "\n"
          ]
        }
      ]
    },
    {
      "cell_type": "markdown",
      "source": [
        "### Model 3"
      ],
      "metadata": {
        "id": "TwOZsZGDLB9Y"
      }
    },
    {
      "cell_type": "code",
      "source": [
        "from tensorflow import keras"
      ],
      "metadata": {
        "id": "7vN_Pa_2LZ5-"
      },
      "execution_count": null,
      "outputs": []
    },
    {
      "cell_type": "code",
      "source": [
        "X_train.shape[1:]"
      ],
      "metadata": {
        "colab": {
          "base_uri": "https://localhost:8080/"
        },
        "id": "ZF0j_M1KQE6y",
        "outputId": "ffe8eae1-5d85-40fd-db43-53ead350f222"
      },
      "execution_count": null,
      "outputs": [
        {
          "output_type": "execute_result",
          "data": {
            "text/plain": [
              "(78,)"
            ]
          },
          "metadata": {},
          "execution_count": 168
        }
      ]
    },
    {
      "cell_type": "code",
      "source": [
        "input_ = keras.layers.Input(shape=X_train.shape[1:])\n",
        "hidden1 = keras.layers.Dense(60, activation=\"relu\")(input_)\n",
        "hidden2 = keras.layers.Dense(60, activation=\"relu\")(hidden1)\n",
        "hidden3 = keras.layers.Dense(60, activation=\"relu\")(hidden2)\n",
        "hidden4 = keras.layers.Dense(60, activation=\"relu\")(hidden3)\n",
        "concat = keras.layers.Concatenate()([input_, hidden4])\n",
        "output = keras.layers.Dense(units=1, activation='sigmoid')(concat)\n",
        "model = keras.Model(inputs=[input_], outputs=[output])\n",
        "\n",
        "model.compile(loss='binary_crossentropy', optimizer='adam')"
      ],
      "metadata": {
        "id": "7Vi4G00nKmeV"
      },
      "execution_count": null,
      "outputs": []
    },
    {
      "cell_type": "code",
      "source": [
        "early_stop = EarlyStopping(monitor='val_loss',\n",
        "                           mode='min', verbose=1, patience=20)"
      ],
      "metadata": {
        "id": "Y58qxwH_LYC_"
      },
      "execution_count": null,
      "outputs": []
    },
    {
      "cell_type": "code",
      "source": [
        "model.fit(x=X_train, y=y_train, epochs=50, batch_size=256,\n",
        "          validation_data=(X_test,y_test),\n",
        "          callbacks=[early_stop])"
      ],
      "metadata": {
        "colab": {
          "base_uri": "https://localhost:8080/"
        },
        "id": "kyyMjTwuLo9y",
        "outputId": "051dbd3c-2e62-4714-8f8d-466d6fb10016"
      },
      "execution_count": null,
      "outputs": [
        {
          "output_type": "stream",
          "name": "stdout",
          "text": [
            "Epoch 1/50\n",
            "1236/1236 [==============================] - 6s 5ms/step - loss: 0.2835 - val_loss: 0.2677\n",
            "Epoch 2/50\n",
            "1236/1236 [==============================] - 6s 5ms/step - loss: 0.2624 - val_loss: 0.2637\n",
            "Epoch 3/50\n",
            "1236/1236 [==============================] - 5s 4ms/step - loss: 0.2601 - val_loss: 0.2645\n",
            "Epoch 4/50\n",
            "1236/1236 [==============================] - 5s 4ms/step - loss: 0.2591 - val_loss: 0.2626\n",
            "Epoch 5/50\n",
            "1236/1236 [==============================] - 5s 4ms/step - loss: 0.2583 - val_loss: 0.2618\n",
            "Epoch 6/50\n",
            "1236/1236 [==============================] - 5s 4ms/step - loss: 0.2578 - val_loss: 0.2622\n",
            "Epoch 7/50\n",
            "1236/1236 [==============================] - 5s 4ms/step - loss: 0.2573 - val_loss: 0.2648\n",
            "Epoch 8/50\n",
            "1236/1236 [==============================] - 6s 5ms/step - loss: 0.2571 - val_loss: 0.2622\n",
            "Epoch 9/50\n",
            "1236/1236 [==============================] - 6s 5ms/step - loss: 0.2566 - val_loss: 0.2615\n",
            "Epoch 10/50\n",
            "1236/1236 [==============================] - 6s 5ms/step - loss: 0.2562 - val_loss: 0.2612\n",
            "Epoch 11/50\n",
            "1236/1236 [==============================] - 6s 4ms/step - loss: 0.2557 - val_loss: 0.2613\n",
            "Epoch 12/50\n",
            "1236/1236 [==============================] - 6s 4ms/step - loss: 0.2554 - val_loss: 0.2623\n",
            "Epoch 13/50\n",
            "1236/1236 [==============================] - 5s 4ms/step - loss: 0.2552 - val_loss: 0.2616\n",
            "Epoch 14/50\n",
            "1236/1236 [==============================] - 5s 4ms/step - loss: 0.2546 - val_loss: 0.2618\n",
            "Epoch 15/50\n",
            "1236/1236 [==============================] - 6s 4ms/step - loss: 0.2543 - val_loss: 0.2632\n",
            "Epoch 16/50\n",
            "1236/1236 [==============================] - 6s 4ms/step - loss: 0.2538 - val_loss: 0.2625\n",
            "Epoch 17/50\n",
            "1236/1236 [==============================] - 6s 5ms/step - loss: 0.2536 - val_loss: 0.2630\n",
            "Epoch 18/50\n",
            "1236/1236 [==============================] - 6s 4ms/step - loss: 0.2532 - val_loss: 0.2658\n",
            "Epoch 19/50\n",
            "1236/1236 [==============================] - 6s 5ms/step - loss: 0.2526 - val_loss: 0.2624\n",
            "Epoch 20/50\n",
            "1236/1236 [==============================] - 5s 4ms/step - loss: 0.2524 - val_loss: 0.2641\n",
            "Epoch 21/50\n",
            "1236/1236 [==============================] - 6s 5ms/step - loss: 0.2521 - val_loss: 0.2636\n",
            "Epoch 22/50\n",
            "1236/1236 [==============================] - 6s 5ms/step - loss: 0.2516 - val_loss: 0.2647\n",
            "Epoch 23/50\n",
            "1236/1236 [==============================] - 6s 5ms/step - loss: 0.2512 - val_loss: 0.2645\n",
            "Epoch 24/50\n",
            "1236/1236 [==============================] - 5s 4ms/step - loss: 0.2507 - val_loss: 0.2660\n",
            "Epoch 25/50\n",
            "1236/1236 [==============================] - 6s 5ms/step - loss: 0.2507 - val_loss: 0.2639\n",
            "Epoch 26/50\n",
            "1236/1236 [==============================] - 5s 4ms/step - loss: 0.2502 - val_loss: 0.2690\n",
            "Epoch 27/50\n",
            "1236/1236 [==============================] - 6s 5ms/step - loss: 0.2498 - val_loss: 0.2718\n",
            "Epoch 28/50\n",
            "1236/1236 [==============================] - 6s 4ms/step - loss: 0.2494 - val_loss: 0.2659\n",
            "Epoch 29/50\n",
            "1236/1236 [==============================] - 5s 4ms/step - loss: 0.2491 - val_loss: 0.2670\n",
            "Epoch 30/50\n",
            "1236/1236 [==============================] - 6s 5ms/step - loss: 0.2486 - val_loss: 0.2665\n",
            "Epoch 30: early stopping\n"
          ]
        },
        {
          "output_type": "execute_result",
          "data": {
            "text/plain": [
              "<keras.callbacks.History at 0x7f365966df10>"
            ]
          },
          "metadata": {},
          "execution_count": 213
        }
      ]
    },
    {
      "cell_type": "code",
      "source": [
        "losses = pd.DataFrame(model.history.history)\n",
        "losses"
      ],
      "metadata": {
        "colab": {
          "base_uri": "https://localhost:8080/",
          "height": 990
        },
        "id": "LQ-uOCA0Lrxi",
        "outputId": "113ab626-5e40-4dd1-e49b-998cd32234ab"
      },
      "execution_count": null,
      "outputs": [
        {
          "output_type": "execute_result",
          "data": {
            "text/plain": [
              "        loss  val_loss\n",
              "0   0.283463  0.267715\n",
              "1   0.262369  0.263672\n",
              "2   0.260113  0.264475\n",
              "3   0.259069  0.262630\n",
              "4   0.258276  0.261773\n",
              "5   0.257830  0.262201\n",
              "6   0.257319  0.264843\n",
              "7   0.257055  0.262186\n",
              "8   0.256594  0.261481\n",
              "9   0.256156  0.261242\n",
              "10  0.255733  0.261253\n",
              "11  0.255378  0.262272\n",
              "12  0.255171  0.261571\n",
              "13  0.254587  0.261772\n",
              "14  0.254306  0.263173\n",
              "15  0.253807  0.262541\n",
              "16  0.253624  0.262991\n",
              "17  0.253174  0.265828\n",
              "18  0.252631  0.262416\n",
              "19  0.252353  0.264108\n",
              "20  0.252060  0.263635\n",
              "21  0.251648  0.264745\n",
              "22  0.251225  0.264504\n",
              "23  0.250731  0.266012\n",
              "24  0.250674  0.263860\n",
              "25  0.250239  0.269036\n",
              "26  0.249807  0.271778\n",
              "27  0.249369  0.265922\n",
              "28  0.249101  0.266963\n",
              "29  0.248623  0.266538"
            ],
            "text/html": [
              "\n",
              "  <div id=\"df-8d3aab51-4db2-4575-b414-e76d9b7f6b8a\">\n",
              "    <div class=\"colab-df-container\">\n",
              "      <div>\n",
              "<style scoped>\n",
              "    .dataframe tbody tr th:only-of-type {\n",
              "        vertical-align: middle;\n",
              "    }\n",
              "\n",
              "    .dataframe tbody tr th {\n",
              "        vertical-align: top;\n",
              "    }\n",
              "\n",
              "    .dataframe thead th {\n",
              "        text-align: right;\n",
              "    }\n",
              "</style>\n",
              "<table border=\"1\" class=\"dataframe\">\n",
              "  <thead>\n",
              "    <tr style=\"text-align: right;\">\n",
              "      <th></th>\n",
              "      <th>loss</th>\n",
              "      <th>val_loss</th>\n",
              "    </tr>\n",
              "  </thead>\n",
              "  <tbody>\n",
              "    <tr>\n",
              "      <th>0</th>\n",
              "      <td>0.283463</td>\n",
              "      <td>0.267715</td>\n",
              "    </tr>\n",
              "    <tr>\n",
              "      <th>1</th>\n",
              "      <td>0.262369</td>\n",
              "      <td>0.263672</td>\n",
              "    </tr>\n",
              "    <tr>\n",
              "      <th>2</th>\n",
              "      <td>0.260113</td>\n",
              "      <td>0.264475</td>\n",
              "    </tr>\n",
              "    <tr>\n",
              "      <th>3</th>\n",
              "      <td>0.259069</td>\n",
              "      <td>0.262630</td>\n",
              "    </tr>\n",
              "    <tr>\n",
              "      <th>4</th>\n",
              "      <td>0.258276</td>\n",
              "      <td>0.261773</td>\n",
              "    </tr>\n",
              "    <tr>\n",
              "      <th>5</th>\n",
              "      <td>0.257830</td>\n",
              "      <td>0.262201</td>\n",
              "    </tr>\n",
              "    <tr>\n",
              "      <th>6</th>\n",
              "      <td>0.257319</td>\n",
              "      <td>0.264843</td>\n",
              "    </tr>\n",
              "    <tr>\n",
              "      <th>7</th>\n",
              "      <td>0.257055</td>\n",
              "      <td>0.262186</td>\n",
              "    </tr>\n",
              "    <tr>\n",
              "      <th>8</th>\n",
              "      <td>0.256594</td>\n",
              "      <td>0.261481</td>\n",
              "    </tr>\n",
              "    <tr>\n",
              "      <th>9</th>\n",
              "      <td>0.256156</td>\n",
              "      <td>0.261242</td>\n",
              "    </tr>\n",
              "    <tr>\n",
              "      <th>10</th>\n",
              "      <td>0.255733</td>\n",
              "      <td>0.261253</td>\n",
              "    </tr>\n",
              "    <tr>\n",
              "      <th>11</th>\n",
              "      <td>0.255378</td>\n",
              "      <td>0.262272</td>\n",
              "    </tr>\n",
              "    <tr>\n",
              "      <th>12</th>\n",
              "      <td>0.255171</td>\n",
              "      <td>0.261571</td>\n",
              "    </tr>\n",
              "    <tr>\n",
              "      <th>13</th>\n",
              "      <td>0.254587</td>\n",
              "      <td>0.261772</td>\n",
              "    </tr>\n",
              "    <tr>\n",
              "      <th>14</th>\n",
              "      <td>0.254306</td>\n",
              "      <td>0.263173</td>\n",
              "    </tr>\n",
              "    <tr>\n",
              "      <th>15</th>\n",
              "      <td>0.253807</td>\n",
              "      <td>0.262541</td>\n",
              "    </tr>\n",
              "    <tr>\n",
              "      <th>16</th>\n",
              "      <td>0.253624</td>\n",
              "      <td>0.262991</td>\n",
              "    </tr>\n",
              "    <tr>\n",
              "      <th>17</th>\n",
              "      <td>0.253174</td>\n",
              "      <td>0.265828</td>\n",
              "    </tr>\n",
              "    <tr>\n",
              "      <th>18</th>\n",
              "      <td>0.252631</td>\n",
              "      <td>0.262416</td>\n",
              "    </tr>\n",
              "    <tr>\n",
              "      <th>19</th>\n",
              "      <td>0.252353</td>\n",
              "      <td>0.264108</td>\n",
              "    </tr>\n",
              "    <tr>\n",
              "      <th>20</th>\n",
              "      <td>0.252060</td>\n",
              "      <td>0.263635</td>\n",
              "    </tr>\n",
              "    <tr>\n",
              "      <th>21</th>\n",
              "      <td>0.251648</td>\n",
              "      <td>0.264745</td>\n",
              "    </tr>\n",
              "    <tr>\n",
              "      <th>22</th>\n",
              "      <td>0.251225</td>\n",
              "      <td>0.264504</td>\n",
              "    </tr>\n",
              "    <tr>\n",
              "      <th>23</th>\n",
              "      <td>0.250731</td>\n",
              "      <td>0.266012</td>\n",
              "    </tr>\n",
              "    <tr>\n",
              "      <th>24</th>\n",
              "      <td>0.250674</td>\n",
              "      <td>0.263860</td>\n",
              "    </tr>\n",
              "    <tr>\n",
              "      <th>25</th>\n",
              "      <td>0.250239</td>\n",
              "      <td>0.269036</td>\n",
              "    </tr>\n",
              "    <tr>\n",
              "      <th>26</th>\n",
              "      <td>0.249807</td>\n",
              "      <td>0.271778</td>\n",
              "    </tr>\n",
              "    <tr>\n",
              "      <th>27</th>\n",
              "      <td>0.249369</td>\n",
              "      <td>0.265922</td>\n",
              "    </tr>\n",
              "    <tr>\n",
              "      <th>28</th>\n",
              "      <td>0.249101</td>\n",
              "      <td>0.266963</td>\n",
              "    </tr>\n",
              "    <tr>\n",
              "      <th>29</th>\n",
              "      <td>0.248623</td>\n",
              "      <td>0.266538</td>\n",
              "    </tr>\n",
              "  </tbody>\n",
              "</table>\n",
              "</div>\n",
              "      <button class=\"colab-df-convert\" onclick=\"convertToInteractive('df-8d3aab51-4db2-4575-b414-e76d9b7f6b8a')\"\n",
              "              title=\"Convert this dataframe to an interactive table.\"\n",
              "              style=\"display:none;\">\n",
              "        \n",
              "  <svg xmlns=\"http://www.w3.org/2000/svg\" height=\"24px\"viewBox=\"0 0 24 24\"\n",
              "       width=\"24px\">\n",
              "    <path d=\"M0 0h24v24H0V0z\" fill=\"none\"/>\n",
              "    <path d=\"M18.56 5.44l.94 2.06.94-2.06 2.06-.94-2.06-.94-.94-2.06-.94 2.06-2.06.94zm-11 1L8.5 8.5l.94-2.06 2.06-.94-2.06-.94L8.5 2.5l-.94 2.06-2.06.94zm10 10l.94 2.06.94-2.06 2.06-.94-2.06-.94-.94-2.06-.94 2.06-2.06.94z\"/><path d=\"M17.41 7.96l-1.37-1.37c-.4-.4-.92-.59-1.43-.59-.52 0-1.04.2-1.43.59L10.3 9.45l-7.72 7.72c-.78.78-.78 2.05 0 2.83L4 21.41c.39.39.9.59 1.41.59.51 0 1.02-.2 1.41-.59l7.78-7.78 2.81-2.81c.8-.78.8-2.07 0-2.86zM5.41 20L4 18.59l7.72-7.72 1.47 1.35L5.41 20z\"/>\n",
              "  </svg>\n",
              "      </button>\n",
              "      \n",
              "  <style>\n",
              "    .colab-df-container {\n",
              "      display:flex;\n",
              "      flex-wrap:wrap;\n",
              "      gap: 12px;\n",
              "    }\n",
              "\n",
              "    .colab-df-convert {\n",
              "      background-color: #E8F0FE;\n",
              "      border: none;\n",
              "      border-radius: 50%;\n",
              "      cursor: pointer;\n",
              "      display: none;\n",
              "      fill: #1967D2;\n",
              "      height: 32px;\n",
              "      padding: 0 0 0 0;\n",
              "      width: 32px;\n",
              "    }\n",
              "\n",
              "    .colab-df-convert:hover {\n",
              "      background-color: #E2EBFA;\n",
              "      box-shadow: 0px 1px 2px rgba(60, 64, 67, 0.3), 0px 1px 3px 1px rgba(60, 64, 67, 0.15);\n",
              "      fill: #174EA6;\n",
              "    }\n",
              "\n",
              "    [theme=dark] .colab-df-convert {\n",
              "      background-color: #3B4455;\n",
              "      fill: #D2E3FC;\n",
              "    }\n",
              "\n",
              "    [theme=dark] .colab-df-convert:hover {\n",
              "      background-color: #434B5C;\n",
              "      box-shadow: 0px 1px 3px 1px rgba(0, 0, 0, 0.15);\n",
              "      filter: drop-shadow(0px 1px 2px rgba(0, 0, 0, 0.3));\n",
              "      fill: #FFFFFF;\n",
              "    }\n",
              "  </style>\n",
              "\n",
              "      <script>\n",
              "        const buttonEl =\n",
              "          document.querySelector('#df-8d3aab51-4db2-4575-b414-e76d9b7f6b8a button.colab-df-convert');\n",
              "        buttonEl.style.display =\n",
              "          google.colab.kernel.accessAllowed ? 'block' : 'none';\n",
              "\n",
              "        async function convertToInteractive(key) {\n",
              "          const element = document.querySelector('#df-8d3aab51-4db2-4575-b414-e76d9b7f6b8a');\n",
              "          const dataTable =\n",
              "            await google.colab.kernel.invokeFunction('convertToInteractive',\n",
              "                                                     [key], {});\n",
              "          if (!dataTable) return;\n",
              "\n",
              "          const docLinkHtml = 'Like what you see? Visit the ' +\n",
              "            '<a target=\"_blank\" href=https://colab.research.google.com/notebooks/data_table.ipynb>data table notebook</a>'\n",
              "            + ' to learn more about interactive tables.';\n",
              "          element.innerHTML = '';\n",
              "          dataTable['output_type'] = 'display_data';\n",
              "          await google.colab.output.renderOutput(dataTable, element);\n",
              "          const docLink = document.createElement('div');\n",
              "          docLink.innerHTML = docLinkHtml;\n",
              "          element.appendChild(docLink);\n",
              "        }\n",
              "      </script>\n",
              "    </div>\n",
              "  </div>\n",
              "  "
            ]
          },
          "metadata": {},
          "execution_count": 214
        }
      ]
    },
    {
      "cell_type": "code",
      "source": [
        "plt.figure(figsize=(8,5))\n",
        "epochs = np.arange(0, len(losses[\"loss\"]))\n",
        "plt.plot(epochs - 0.5, losses[\"loss\"], label=\"train_loss\")\n",
        "plt.plot(epochs, losses[\"val_loss\"], label=\"val_loss\")\n",
        "plt.legend()\n",
        "plt.grid(True)\n",
        "# plt.gca().set_ylim(0, 1) # set the vertical range to [0-1]\n",
        "plt.show()"
      ],
      "metadata": {
        "colab": {
          "base_uri": "https://localhost:8080/",
          "height": 322
        },
        "id": "BmWWpDVML6z0",
        "outputId": "8b0619dc-1cde-4e6e-ed09-222d4d97d4ff"
      },
      "execution_count": null,
      "outputs": [
        {
          "output_type": "display_data",
          "data": {
            "text/plain": [
              "<Figure size 576x360 with 1 Axes>"
            ],
            "image/png": "[encoded data removed]"
          },
          "metadata": {
            "needs_background": "light"
          }
        }
      ]
    },
    {
      "cell_type": "code",
      "source": [
        "predictions = (model.predict(X_test) > 0.5).astype(\"int32\")"
      ],
      "metadata": {
        "id": "9a5KE0_GL7CU"
      },
      "execution_count": null,
      "outputs": []
    },
    {
      "cell_type": "code",
      "source": [
        "print(classification_report(y_test, predictions))"
      ],
      "metadata": {
        "colab": {
          "base_uri": "https://localhost:8080/"
        },
        "id": "hb10fyUiL9ZM",
        "outputId": "5570097a-6f01-41ec-c8d4-64ade29024a6"
      },
      "execution_count": null,
      "outputs": [
        {
          "output_type": "stream",
          "name": "stdout",
          "text": [
            "              precision    recall  f1-score   support\n",
            "\n",
            "           0       0.87      0.49      0.63     15658\n",
            "           1       0.89      0.98      0.93     63386\n",
            "\n",
            "    accuracy                           0.89     79044\n",
            "   macro avg       0.88      0.74      0.78     79044\n",
            "weighted avg       0.88      0.89      0.87     79044\n",
            "\n"
          ]
        }
      ]
    },
    {
      "cell_type": "markdown",
      "source": [
        "### Model 4"
      ],
      "metadata": {
        "id": "FUYKCgfgNNBE"
      }
    },
    {
      "cell_type": "code",
      "source": [
        "input_ = keras.layers.Input(shape=X_train.shape[1:])\n",
        "dropout1 = Dropout(0.2)(input_)\n",
        "hidden1 = keras.layers.Dense(39, activation=\"relu\")(dropout1)\n",
        "dropout2 = Dropout(0.2)(hidden1)\n",
        "hidden2 = keras.layers.Dense(19, activation=\"relu\")(dropout2)\n",
        "dropout3 = Dropout(0.2)(hidden2)\n",
        "concat = keras.layers.Concatenate()([dropout1, dropout3])\n",
        "dropout4 = Dropout(0.2)(concat)\n",
        "output = keras.layers.Dense(units=1, activation='sigmoid')(dropout4)\n",
        "model = keras.Model(inputs=[input_], outputs=[output])\n",
        "\n",
        "model.compile(loss='binary_crossentropy', optimizer='adam')"
      ],
      "metadata": {
        "id": "yslXdYm5NUUV"
      },
      "execution_count": null,
      "outputs": []
    },
    {
      "cell_type": "code",
      "source": [
        "early_stop = EarlyStopping(monitor='val_loss',\n",
        "                           mode='min', verbose=1, patience= 10)"
      ],
      "metadata": {
        "id": "kGUGyKL2NUUV"
      },
      "execution_count": null,
      "outputs": []
    },
    {
      "cell_type": "code",
      "source": [
        "model.fit(x=X_train, y=y_train, epochs=50, batch_size=256,\n",
        "          validation_data=(X_test,y_test),\n",
        "          callbacks=[early_stop])"
      ],
      "metadata": {
        "colab": {
          "base_uri": "https://localhost:8080/",
          "height": 1000
        },
        "outputId": "6370c32b-0670-4237-cc87-24c6135c122d",
        "id": "PVcf2p30NUUW"
      },
      "execution_count": null,
      "outputs": [
        {
          "output_type": "stream",
          "name": "stdout",
          "text": [
            "Epoch 1/50\n",
            "1236/1236 [==============================] - 10s 6ms/step - loss: 0.3560 - val_loss: 0.2815\n",
            "Epoch 2/50\n",
            "1236/1236 [==============================] - 6s 5ms/step - loss: 0.3255 - val_loss: 0.2824\n",
            "Epoch 3/50\n",
            "1236/1236 [==============================] - 6s 5ms/step - loss: 0.3214 - val_loss: 0.2806\n",
            "Epoch 4/50\n",
            "1236/1236 [==============================] - 6s 5ms/step - loss: 0.3211 - val_loss: 0.2808\n",
            "Epoch 5/50\n",
            "1236/1236 [==============================] - 6s 5ms/step - loss: 0.3198 - val_loss: 0.2801\n",
            "Epoch 6/50\n",
            "1236/1236 [==============================] - 6s 5ms/step - loss: 0.3195 - val_loss: 0.2799\n",
            "Epoch 7/50\n",
            "1236/1236 [==============================] - 6s 5ms/step - loss: 0.3192 - val_loss: 0.2786\n",
            "Epoch 8/50\n",
            "1236/1236 [==============================] - 6s 5ms/step - loss: 0.3196 - val_loss: 0.2789\n",
            "Epoch 9/50\n",
            "1236/1236 [==============================] - 6s 5ms/step - loss: 0.3191 - val_loss: 0.2778\n",
            "Epoch 10/50\n",
            "1236/1236 [==============================] - 6s 5ms/step - loss: 0.3186 - val_loss: 0.2786\n",
            "Epoch 11/50\n",
            "1236/1236 [==============================] - 6s 5ms/step - loss: 0.3183 - val_loss: 0.2787\n",
            "Epoch 12/50\n",
            "1236/1236 [==============================] - 6s 5ms/step - loss: 0.3182 - val_loss: 0.2787\n",
            "Epoch 13/50\n",
            "1236/1236 [==============================] - 6s 5ms/step - loss: 0.3175 - val_loss: 0.2780\n",
            "Epoch 14/50\n",
            "1236/1236 [==============================] - 6s 5ms/step - loss: 0.3184 - val_loss: 0.2785\n",
            "Epoch 15/50\n",
            "1236/1236 [==============================] - 9s 7ms/step - loss: 0.3179 - val_loss: 0.2781\n",
            "Epoch 16/50\n",
            "1236/1236 [==============================] - 6s 5ms/step - loss: 0.3185 - val_loss: 0.2788\n",
            "Epoch 17/50\n",
            "1236/1236 [==============================] - 6s 5ms/step - loss: 0.3177 - val_loss: 0.2776\n",
            "Epoch 18/50\n",
            "1236/1236 [==============================] - 8s 6ms/step - loss: 0.3179 - val_loss: 0.2782\n",
            "Epoch 19/50\n",
            "1236/1236 [==============================] - 6s 5ms/step - loss: 0.3175 - val_loss: 0.2783\n",
            "Epoch 20/50\n",
            "1236/1236 [==============================] - 9s 7ms/step - loss: 0.3184 - val_loss: 0.2779\n",
            "Epoch 21/50\n",
            "1236/1236 [==============================] - 8s 7ms/step - loss: 0.3171 - val_loss: 0.2780\n",
            "Epoch 22/50\n",
            "1236/1236 [==============================] - 8s 6ms/step - loss: 0.3178 - val_loss: 0.2777\n",
            "Epoch 23/50\n",
            "1236/1236 [==============================] - 8s 7ms/step - loss: 0.3177 - val_loss: 0.2776\n",
            "Epoch 24/50\n",
            "1236/1236 [==============================] - 9s 8ms/step - loss: 0.3177 - val_loss: 0.2786\n",
            "Epoch 25/50\n",
            "1236/1236 [==============================] - 7s 6ms/step - loss: 0.3174 - val_loss: 0.2786\n",
            "Epoch 26/50\n",
            "1236/1236 [==============================] - 6s 5ms/step - loss: 0.3174 - val_loss: 0.2772\n",
            "Epoch 27/50\n",
            "1236/1236 [==============================] - 6s 5ms/step - loss: 0.3173 - val_loss: 0.2772\n",
            "Epoch 28/50\n",
            " 203/1236 [===>..........................] - ETA: 4s - loss: 0.3123"
          ]
        },
        {
          "output_type": "error",
          "ename": "KeyboardInterrupt",
          "evalue": "ignored",
          "traceback": [
            "\u001b[0;31m---------------------------------------------------------------------------\u001b[0m",
            "\u001b[0;31mKeyboardInterrupt\u001b[0m                         Traceback (most recent call last)",
            "\u001b[0;32m<ipython-input-228-0d23d352cd81>\u001b[0m in \u001b[0;36m<module>\u001b[0;34m()\u001b[0m\n\u001b[1;32m      1\u001b[0m model.fit(x=X_train, y=y_train, epochs=50, batch_size=256,\n\u001b[1;32m      2\u001b[0m           \u001b[0mvalidation_data\u001b[0m\u001b[0;34m=\u001b[0m\u001b[0;34m(\u001b[0m\u001b[0mX_test\u001b[0m\u001b[0;34m,\u001b[0m\u001b[0my_test\u001b[0m\u001b[0;34m)\u001b[0m\u001b[0;34m,\u001b[0m\u001b[0;34m\u001b[0m\u001b[0;34m\u001b[0m\u001b[0m\n\u001b[0;32m----> 3\u001b[0;31m           callbacks=[early_stop])\n\u001b[0m",
            "\u001b[0;32m/usr/local/lib/python3.7/dist-packages/keras/utils/traceback_utils.py\u001b[0m in \u001b[0;36merror_handler\u001b[0;34m(*args, **kwargs)\u001b[0m\n\u001b[1;32m     62\u001b[0m     \u001b[0mfiltered_tb\u001b[0m \u001b[0;34m=\u001b[0m \u001b[0;32mNone\u001b[0m\u001b[0;34m\u001b[0m\u001b[0;34m\u001b[0m\u001b[0m\n\u001b[1;32m     63\u001b[0m     \u001b[0;32mtry\u001b[0m\u001b[0;34m:\u001b[0m\u001b[0;34m\u001b[0m\u001b[0;34m\u001b[0m\u001b[0m\n\u001b[0;32m---> 64\u001b[0;31m       \u001b[0;32mreturn\u001b[0m \u001b[0mfn\u001b[0m\u001b[0;34m(\u001b[0m\u001b[0;34m*\u001b[0m\u001b[0margs\u001b[0m\u001b[0;34m,\u001b[0m \u001b[0;34m**\u001b[0m\u001b[0mkwargs\u001b[0m\u001b[0;34m)\u001b[0m\u001b[0;34m\u001b[0m\u001b[0;34m\u001b[0m\u001b[0m\n\u001b[0m\u001b[1;32m     65\u001b[0m     \u001b[0;32mexcept\u001b[0m \u001b[0mException\u001b[0m \u001b[0;32mas\u001b[0m \u001b[0me\u001b[0m\u001b[0;34m:\u001b[0m  \u001b[0;31m# pylint: disable=broad-except\u001b[0m\u001b[0;34m\u001b[0m\u001b[0;34m\u001b[0m\u001b[0m\n\u001b[1;32m     66\u001b[0m       \u001b[0mfiltered_tb\u001b[0m \u001b[0;34m=\u001b[0m \u001b[0m_process_traceback_frames\u001b[0m\u001b[0;34m(\u001b[0m\u001b[0me\u001b[0m\u001b[0;34m.\u001b[0m\u001b[0m__traceback__\u001b[0m\u001b[0;34m)\u001b[0m\u001b[0;34m\u001b[0m\u001b[0;34m\u001b[0m\u001b[0m\n",
            "\u001b[0;32m/usr/local/lib/python3.7/dist-packages/keras/engine/training.py\u001b[0m in \u001b[0;36mfit\u001b[0;34m(self, x, y, batch_size, epochs, verbose, callbacks, validation_split, validation_data, shuffle, class_weight, sample_weight, initial_epoch, steps_per_epoch, validation_steps, validation_batch_size, validation_freq, max_queue_size, workers, use_multiprocessing)\u001b[0m\n\u001b[1;32m   1382\u001b[0m                 _r=1):\n\u001b[1;32m   1383\u001b[0m               \u001b[0mcallbacks\u001b[0m\u001b[0;34m.\u001b[0m\u001b[0mon_train_batch_begin\u001b[0m\u001b[0;34m(\u001b[0m\u001b[0mstep\u001b[0m\u001b[0;34m)\u001b[0m\u001b[0;34m\u001b[0m\u001b[0;34m\u001b[0m\u001b[0m\n\u001b[0;32m-> 1384\u001b[0;31m               \u001b[0mtmp_logs\u001b[0m \u001b[0;34m=\u001b[0m \u001b[0mself\u001b[0m\u001b[0;34m.\u001b[0m\u001b[0mtrain_function\u001b[0m\u001b[0;34m(\u001b[0m\u001b[0miterator\u001b[0m\u001b[0;34m)\u001b[0m\u001b[0;34m\u001b[0m\u001b[0;34m\u001b[0m\u001b[0m\n\u001b[0m\u001b[1;32m   1385\u001b[0m               \u001b[0;32mif\u001b[0m \u001b[0mdata_handler\u001b[0m\u001b[0;34m.\u001b[0m\u001b[0mshould_sync\u001b[0m\u001b[0;34m:\u001b[0m\u001b[0;34m\u001b[0m\u001b[0;34m\u001b[0m\u001b[0m\n\u001b[1;32m   1386\u001b[0m                 \u001b[0mcontext\u001b[0m\u001b[0;34m.\u001b[0m\u001b[0masync_wait\u001b[0m\u001b[0;34m(\u001b[0m\u001b[0;34m)\u001b[0m\u001b[0;34m\u001b[0m\u001b[0;34m\u001b[0m\u001b[0m\n",
            "\u001b[0;32m/usr/local/lib/python3.7/dist-packages/tensorflow/python/util/traceback_utils.py\u001b[0m in \u001b[0;36merror_handler\u001b[0;34m(*args, **kwargs)\u001b[0m\n\u001b[1;32m    148\u001b[0m     \u001b[0mfiltered_tb\u001b[0m \u001b[0;34m=\u001b[0m \u001b[0;32mNone\u001b[0m\u001b[0;34m\u001b[0m\u001b[0;34m\u001b[0m\u001b[0m\n\u001b[1;32m    149\u001b[0m     \u001b[0;32mtry\u001b[0m\u001b[0;34m:\u001b[0m\u001b[0;34m\u001b[0m\u001b[0;34m\u001b[0m\u001b[0m\n\u001b[0;32m--> 150\u001b[0;31m       \u001b[0;32mreturn\u001b[0m \u001b[0mfn\u001b[0m\u001b[0;34m(\u001b[0m\u001b[0;34m*\u001b[0m\u001b[0margs\u001b[0m\u001b[0;34m,\u001b[0m \u001b[0;34m**\u001b[0m\u001b[0mkwargs\u001b[0m\u001b[0;34m)\u001b[0m\u001b[0;34m\u001b[0m\u001b[0;34m\u001b[0m\u001b[0m\n\u001b[0m\u001b[1;32m    151\u001b[0m     \u001b[0;32mexcept\u001b[0m \u001b[0mException\u001b[0m \u001b[0;32mas\u001b[0m \u001b[0me\u001b[0m\u001b[0;34m:\u001b[0m\u001b[0;34m\u001b[0m\u001b[0;34m\u001b[0m\u001b[0m\n\u001b[1;32m    152\u001b[0m       \u001b[0mfiltered_tb\u001b[0m \u001b[0;34m=\u001b[0m \u001b[0m_process_traceback_frames\u001b[0m\u001b[0;34m(\u001b[0m\u001b[0me\u001b[0m\u001b[0;34m.\u001b[0m\u001b[0m__traceback__\u001b[0m\u001b[0;34m)\u001b[0m\u001b[0;34m\u001b[0m\u001b[0;34m\u001b[0m\u001b[0m\n",
            "\u001b[0;32m/usr/local/lib/python3.7/dist-packages/tensorflow/python/eager/def_function.py\u001b[0m in \u001b[0;36m__call__\u001b[0;34m(self, *args, **kwds)\u001b[0m\n\u001b[1;32m    913\u001b[0m \u001b[0;34m\u001b[0m\u001b[0m\n\u001b[1;32m    914\u001b[0m       \u001b[0;32mwith\u001b[0m \u001b[0mOptionalXlaContext\u001b[0m\u001b[0;34m(\u001b[0m\u001b[0mself\u001b[0m\u001b[0;34m.\u001b[0m\u001b[0m_jit_compile\u001b[0m\u001b[0;34m)\u001b[0m\u001b[0;34m:\u001b[0m\u001b[0;34m\u001b[0m\u001b[0;34m\u001b[0m\u001b[0m\n\u001b[0;32m--> 915\u001b[0;31m         \u001b[0mresult\u001b[0m \u001b[0;34m=\u001b[0m \u001b[0mself\u001b[0m\u001b[0;34m.\u001b[0m\u001b[0m_call\u001b[0m\u001b[0;34m(\u001b[0m\u001b[0;34m*\u001b[0m\u001b[0margs\u001b[0m\u001b[0;34m,\u001b[0m \u001b[0;34m**\u001b[0m\u001b[0mkwds\u001b[0m\u001b[0;34m)\u001b[0m\u001b[0;34m\u001b[0m\u001b[0;34m\u001b[0m\u001b[0m\n\u001b[0m\u001b[1;32m    916\u001b[0m \u001b[0;34m\u001b[0m\u001b[0m\n\u001b[1;32m    917\u001b[0m       \u001b[0mnew_tracing_count\u001b[0m \u001b[0;34m=\u001b[0m \u001b[0mself\u001b[0m\u001b[0;34m.\u001b[0m\u001b[0mexperimental_get_tracing_count\u001b[0m\u001b[0;34m(\u001b[0m\u001b[0;34m)\u001b[0m\u001b[0;34m\u001b[0m\u001b[0;34m\u001b[0m\u001b[0m\n",
            "\u001b[0;32m/usr/local/lib/python3.7/dist-packages/tensorflow/python/eager/def_function.py\u001b[0m in \u001b[0;36m_call\u001b[0;34m(self, *args, **kwds)\u001b[0m\n\u001b[1;32m    945\u001b[0m       \u001b[0;31m# In this case we have created variables on the first call, so we run the\u001b[0m\u001b[0;34m\u001b[0m\u001b[0;34m\u001b[0m\u001b[0;34m\u001b[0m\u001b[0m\n\u001b[1;32m    946\u001b[0m       \u001b[0;31m# defunned version which is guaranteed to never create variables.\u001b[0m\u001b[0;34m\u001b[0m\u001b[0;34m\u001b[0m\u001b[0;34m\u001b[0m\u001b[0m\n\u001b[0;32m--> 947\u001b[0;31m       \u001b[0;32mreturn\u001b[0m \u001b[0mself\u001b[0m\u001b[0;34m.\u001b[0m\u001b[0m_stateless_fn\u001b[0m\u001b[0;34m(\u001b[0m\u001b[0;34m*\u001b[0m\u001b[0margs\u001b[0m\u001b[0;34m,\u001b[0m \u001b[0;34m**\u001b[0m\u001b[0mkwds\u001b[0m\u001b[0;34m)\u001b[0m  \u001b[0;31m# pylint: disable=not-callable\u001b[0m\u001b[0;34m\u001b[0m\u001b[0;34m\u001b[0m\u001b[0m\n\u001b[0m\u001b[1;32m    948\u001b[0m     \u001b[0;32melif\u001b[0m \u001b[0mself\u001b[0m\u001b[0;34m.\u001b[0m\u001b[0m_stateful_fn\u001b[0m \u001b[0;32mis\u001b[0m \u001b[0;32mnot\u001b[0m \u001b[0;32mNone\u001b[0m\u001b[0;34m:\u001b[0m\u001b[0;34m\u001b[0m\u001b[0;34m\u001b[0m\u001b[0m\n\u001b[1;32m    949\u001b[0m       \u001b[0;31m# Release the lock early so that multiple threads can perform the call\u001b[0m\u001b[0;34m\u001b[0m\u001b[0;34m\u001b[0m\u001b[0;34m\u001b[0m\u001b[0m\n",
            "\u001b[0;32m/usr/local/lib/python3.7/dist-packages/tensorflow/python/eager/function.py\u001b[0m in \u001b[0;36m__call__\u001b[0;34m(self, *args, **kwargs)\u001b[0m\n\u001b[1;32m   2955\u001b[0m        filtered_flat_args) = self._maybe_define_function(args, kwargs)\n\u001b[1;32m   2956\u001b[0m     return graph_function._call_flat(\n\u001b[0;32m-> 2957\u001b[0;31m         filtered_flat_args, captured_inputs=graph_function.captured_inputs)  # pylint: disable=protected-access\n\u001b[0m\u001b[1;32m   2958\u001b[0m \u001b[0;34m\u001b[0m\u001b[0m\n\u001b[1;32m   2959\u001b[0m   \u001b[0;34m@\u001b[0m\u001b[0mproperty\u001b[0m\u001b[0;34m\u001b[0m\u001b[0;34m\u001b[0m\u001b[0m\n",
            "\u001b[0;32m/usr/local/lib/python3.7/dist-packages/tensorflow/python/eager/function.py\u001b[0m in \u001b[0;36m_call_flat\u001b[0;34m(self, args, captured_inputs, cancellation_manager)\u001b[0m\n\u001b[1;32m   1852\u001b[0m       \u001b[0;31m# No tape is watching; skip to running the function.\u001b[0m\u001b[0;34m\u001b[0m\u001b[0;34m\u001b[0m\u001b[0;34m\u001b[0m\u001b[0m\n\u001b[1;32m   1853\u001b[0m       return self._build_call_outputs(self._inference_function.call(\n\u001b[0;32m-> 1854\u001b[0;31m           ctx, args, cancellation_manager=cancellation_manager))\n\u001b[0m\u001b[1;32m   1855\u001b[0m     forward_backward = self._select_forward_and_backward_functions(\n\u001b[1;32m   1856\u001b[0m         \u001b[0margs\u001b[0m\u001b[0;34m,\u001b[0m\u001b[0;34m\u001b[0m\u001b[0;34m\u001b[0m\u001b[0m\n",
            "\u001b[0;32m/usr/local/lib/python3.7/dist-packages/tensorflow/python/eager/function.py\u001b[0m in \u001b[0;36mcall\u001b[0;34m(self, ctx, args, cancellation_manager)\u001b[0m\n\u001b[1;32m    502\u001b[0m               \u001b[0minputs\u001b[0m\u001b[0;34m=\u001b[0m\u001b[0margs\u001b[0m\u001b[0;34m,\u001b[0m\u001b[0;34m\u001b[0m\u001b[0;34m\u001b[0m\u001b[0m\n\u001b[1;32m    503\u001b[0m               \u001b[0mattrs\u001b[0m\u001b[0;34m=\u001b[0m\u001b[0mattrs\u001b[0m\u001b[0;34m,\u001b[0m\u001b[0;34m\u001b[0m\u001b[0;34m\u001b[0m\u001b[0m\n\u001b[0;32m--> 504\u001b[0;31m               ctx=ctx)\n\u001b[0m\u001b[1;32m    505\u001b[0m         \u001b[0;32melse\u001b[0m\u001b[0;34m:\u001b[0m\u001b[0;34m\u001b[0m\u001b[0;34m\u001b[0m\u001b[0m\n\u001b[1;32m    506\u001b[0m           outputs = execute.execute_with_cancellation(\n",
            "\u001b[0;32m/usr/local/lib/python3.7/dist-packages/tensorflow/python/eager/execute.py\u001b[0m in \u001b[0;36mquick_execute\u001b[0;34m(op_name, num_outputs, inputs, attrs, ctx, name)\u001b[0m\n\u001b[1;32m     53\u001b[0m     \u001b[0mctx\u001b[0m\u001b[0;34m.\u001b[0m\u001b[0mensure_initialized\u001b[0m\u001b[0;34m(\u001b[0m\u001b[0;34m)\u001b[0m\u001b[0;34m\u001b[0m\u001b[0;34m\u001b[0m\u001b[0m\n\u001b[1;32m     54\u001b[0m     tensors = pywrap_tfe.TFE_Py_Execute(ctx._handle, device_name, op_name,\n\u001b[0;32m---> 55\u001b[0;31m                                         inputs, attrs, num_outputs)\n\u001b[0m\u001b[1;32m     56\u001b[0m   \u001b[0;32mexcept\u001b[0m \u001b[0mcore\u001b[0m\u001b[0;34m.\u001b[0m\u001b[0m_NotOkStatusException\u001b[0m \u001b[0;32mas\u001b[0m \u001b[0me\u001b[0m\u001b[0;34m:\u001b[0m\u001b[0;34m\u001b[0m\u001b[0;34m\u001b[0m\u001b[0m\n\u001b[1;32m     57\u001b[0m     \u001b[0;32mif\u001b[0m \u001b[0mname\u001b[0m \u001b[0;32mis\u001b[0m \u001b[0;32mnot\u001b[0m \u001b[0;32mNone\u001b[0m\u001b[0;34m:\u001b[0m\u001b[0;34m\u001b[0m\u001b[0;34m\u001b[0m\u001b[0m\n",
            "\u001b[0;31mKeyboardInterrupt\u001b[0m: "
          ]
        }
      ]
    },
    {
      "cell_type": "code",
      "source": [
        "losses = pd.DataFrame(model.history.history)\n",
        "losses"
      ],
      "metadata": {
        "colab": {
          "base_uri": "https://localhost:8080/",
          "height": 614
        },
        "outputId": "8694aa88-5099-4cfc-b712-f8468a2b0267",
        "id": "OgLtCphaNUUX"
      },
      "execution_count": null,
      "outputs": [
        {
          "output_type": "execute_result",
          "data": {
            "text/plain": [
              "        loss  val_loss\n",
              "0   0.366508  0.281710\n",
              "1   0.324751  0.281351\n",
              "2   0.321343  0.279771\n",
              "3   0.320174  0.280305\n",
              "4   0.319516  0.279225\n",
              "5   0.319088  0.278405\n",
              "6   0.318807  0.280815\n",
              "7   0.317760  0.277057\n",
              "8   0.317405  0.279522\n",
              "9   0.317704  0.278604\n",
              "10  0.316850  0.278049\n",
              "11  0.316719  0.277833\n",
              "12  0.316897  0.278069\n",
              "13  0.317521  0.278781\n",
              "14  0.316735  0.277437\n",
              "15  0.316586  0.278110\n",
              "16  0.316384  0.278332\n",
              "17  0.316799  0.277965"
            ],
            "text/html": [
              "\n",
              "  <div id=\"df-41874c33-2c9b-4964-998d-336b8d82d1e1\">\n",
              "    <div class=\"colab-df-container\">\n",
              "      <div>\n",
              "<style scoped>\n",
              "    .dataframe tbody tr th:only-of-type {\n",
              "        vertical-align: middle;\n",
              "    }\n",
              "\n",
              "    .dataframe tbody tr th {\n",
              "        vertical-align: top;\n",
              "    }\n",
              "\n",
              "    .dataframe thead th {\n",
              "        text-align: right;\n",
              "    }\n",
              "</style>\n",
              "<table border=\"1\" class=\"dataframe\">\n",
              "  <thead>\n",
              "    <tr style=\"text-align: right;\">\n",
              "      <th></th>\n",
              "      <th>loss</th>\n",
              "      <th>val_loss</th>\n",
              "    </tr>\n",
              "  </thead>\n",
              "  <tbody>\n",
              "    <tr>\n",
              "      <th>0</th>\n",
              "      <td>0.366508</td>\n",
              "      <td>0.281710</td>\n",
              "    </tr>\n",
              "    <tr>\n",
              "      <th>1</th>\n",
              "      <td>0.324751</td>\n",
              "      <td>0.281351</td>\n",
              "    </tr>\n",
              "    <tr>\n",
              "      <th>2</th>\n",
              "      <td>0.321343</td>\n",
              "      <td>0.279771</td>\n",
              "    </tr>\n",
              "    <tr>\n",
              "      <th>3</th>\n",
              "      <td>0.320174</td>\n",
              "      <td>0.280305</td>\n",
              "    </tr>\n",
              "    <tr>\n",
              "      <th>4</th>\n",
              "      <td>0.319516</td>\n",
              "      <td>0.279225</td>\n",
              "    </tr>\n",
              "    <tr>\n",
              "      <th>5</th>\n",
              "      <td>0.319088</td>\n",
              "      <td>0.278405</td>\n",
              "    </tr>\n",
              "    <tr>\n",
              "      <th>6</th>\n",
              "      <td>0.318807</td>\n",
              "      <td>0.280815</td>\n",
              "    </tr>\n",
              "    <tr>\n",
              "      <th>7</th>\n",
              "      <td>0.317760</td>\n",
              "      <td>0.277057</td>\n",
              "    </tr>\n",
              "    <tr>\n",
              "      <th>8</th>\n",
              "      <td>0.317405</td>\n",
              "      <td>0.279522</td>\n",
              "    </tr>\n",
              "    <tr>\n",
              "      <th>9</th>\n",
              "      <td>0.317704</td>\n",
              "      <td>0.278604</td>\n",
              "    </tr>\n",
              "    <tr>\n",
              "      <th>10</th>\n",
              "      <td>0.316850</td>\n",
              "      <td>0.278049</td>\n",
              "    </tr>\n",
              "    <tr>\n",
              "      <th>11</th>\n",
              "      <td>0.316719</td>\n",
              "      <td>0.277833</td>\n",
              "    </tr>\n",
              "    <tr>\n",
              "      <th>12</th>\n",
              "      <td>0.316897</td>\n",
              "      <td>0.278069</td>\n",
              "    </tr>\n",
              "    <tr>\n",
              "      <th>13</th>\n",
              "      <td>0.317521</td>\n",
              "      <td>0.278781</td>\n",
              "    </tr>\n",
              "    <tr>\n",
              "      <th>14</th>\n",
              "      <td>0.316735</td>\n",
              "      <td>0.277437</td>\n",
              "    </tr>\n",
              "    <tr>\n",
              "      <th>15</th>\n",
              "      <td>0.316586</td>\n",
              "      <td>0.278110</td>\n",
              "    </tr>\n",
              "    <tr>\n",
              "      <th>16</th>\n",
              "      <td>0.316384</td>\n",
              "      <td>0.278332</td>\n",
              "    </tr>\n",
              "    <tr>\n",
              "      <th>17</th>\n",
              "      <td>0.316799</td>\n",
              "      <td>0.277965</td>\n",
              "    </tr>\n",
              "  </tbody>\n",
              "</table>\n",
              "</div>\n",
              "      <button class=\"colab-df-convert\" onclick=\"convertToInteractive('df-41874c33-2c9b-4964-998d-336b8d82d1e1')\"\n",
              "              title=\"Convert this dataframe to an interactive table.\"\n",
              "              style=\"display:none;\">\n",
              "        \n",
              "  <svg xmlns=\"http://www.w3.org/2000/svg\" height=\"24px\"viewBox=\"0 0 24 24\"\n",
              "       width=\"24px\">\n",
              "    <path d=\"M0 0h24v24H0V0z\" fill=\"none\"/>\n",
              "    <path d=\"M18.56 5.44l.94 2.06.94-2.06 2.06-.94-2.06-.94-.94-2.06-.94 2.06-2.06.94zm-11 1L8.5 8.5l.94-2.06 2.06-.94-2.06-.94L8.5 2.5l-.94 2.06-2.06.94zm10 10l.94 2.06.94-2.06 2.06-.94-2.06-.94-.94-2.06-.94 2.06-2.06.94z\"/><path d=\"M17.41 7.96l-1.37-1.37c-.4-.4-.92-.59-1.43-.59-.52 0-1.04.2-1.43.59L10.3 9.45l-7.72 7.72c-.78.78-.78 2.05 0 2.83L4 21.41c.39.39.9.59 1.41.59.51 0 1.02-.2 1.41-.59l7.78-7.78 2.81-2.81c.8-.78.8-2.07 0-2.86zM5.41 20L4 18.59l7.72-7.72 1.47 1.35L5.41 20z\"/>\n",
              "  </svg>\n",
              "      </button>\n",
              "      \n",
              "  <style>\n",
              "    .colab-df-container {\n",
              "      display:flex;\n",
              "      flex-wrap:wrap;\n",
              "      gap: 12px;\n",
              "    }\n",
              "\n",
              "    .colab-df-convert {\n",
              "      background-color: #E8F0FE;\n",
              "      border: none;\n",
              "      border-radius: 50%;\n",
              "      cursor: pointer;\n",
              "      display: none;\n",
              "      fill: #1967D2;\n",
              "      height: 32px;\n",
              "      padding: 0 0 0 0;\n",
              "      width: 32px;\n",
              "    }\n",
              "\n",
              "    .colab-df-convert:hover {\n",
              "      background-color: #E2EBFA;\n",
              "      box-shadow: 0px 1px 2px rgba(60, 64, 67, 0.3), 0px 1px 3px 1px rgba(60, 64, 67, 0.15);\n",
              "      fill: #174EA6;\n",
              "    }\n",
              "\n",
              "    [theme=dark] .colab-df-convert {\n",
              "      background-color: #3B4455;\n",
              "      fill: #D2E3FC;\n",
              "    }\n",
              "\n",
              "    [theme=dark] .colab-df-convert:hover {\n",
              "      background-color: #434B5C;\n",
              "      box-shadow: 0px 1px 3px 1px rgba(0, 0, 0, 0.15);\n",
              "      filter: drop-shadow(0px 1px 2px rgba(0, 0, 0, 0.3));\n",
              "      fill: #FFFFFF;\n",
              "    }\n",
              "  </style>\n",
              "\n",
              "      <script>\n",
              "        const buttonEl =\n",
              "          document.querySelector('#df-41874c33-2c9b-4964-998d-336b8d82d1e1 button.colab-df-convert');\n",
              "        buttonEl.style.display =\n",
              "          google.colab.kernel.accessAllowed ? 'block' : 'none';\n",
              "\n",
              "        async function convertToInteractive(key) {\n",
              "          const element = document.querySelector('#df-41874c33-2c9b-4964-998d-336b8d82d1e1');\n",
              "          const dataTable =\n",
              "            await google.colab.kernel.invokeFunction('convertToInteractive',\n",
              "                                                     [key], {});\n",
              "          if (!dataTable) return;\n",
              "\n",
              "          const docLinkHtml = 'Like what you see? Visit the ' +\n",
              "            '<a target=\"_blank\" href=https://colab.research.google.com/notebooks/data_table.ipynb>data table notebook</a>'\n",
              "            + ' to learn more about interactive tables.';\n",
              "          element.innerHTML = '';\n",
              "          dataTable['output_type'] = 'display_data';\n",
              "          await google.colab.output.renderOutput(dataTable, element);\n",
              "          const docLink = document.createElement('div');\n",
              "          docLink.innerHTML = docLinkHtml;\n",
              "          element.appendChild(docLink);\n",
              "        }\n",
              "      </script>\n",
              "    </div>\n",
              "  </div>\n",
              "  "
            ]
          },
          "metadata": {},
          "execution_count": 221
        }
      ]
    },
    {
      "cell_type": "code",
      "source": [
        "plt.figure(figsize=(8,5))\n",
        "epochs = np.arange(0, len(losses[\"loss\"]))\n",
        "plt.plot(epochs - 0.5, losses[\"loss\"], label=\"train_loss\")\n",
        "plt.plot(epochs, losses[\"val_loss\"], label=\"val_loss\")\n",
        "plt.legend()\n",
        "plt.grid(True)\n",
        "# plt.gca().set_ylim(0, 1) # set the vertical range to [0-1]\n",
        "plt.show()"
      ],
      "metadata": {
        "colab": {
          "base_uri": "https://localhost:8080/",
          "height": 320
        },
        "outputId": "8eaa96a8-27f8-4fcc-8f1f-cbd41260e369",
        "id": "p5HkNiGUNUUY"
      },
      "execution_count": null,
      "outputs": [
        {
          "output_type": "display_data",
          "data": {
            "text/plain": [
              "<Figure size 576x360 with 1 Axes>"
            ],
            "image/png": "[encoded data removed]"
          },
          "metadata": {
            "needs_background": "light"
          }
        }
      ]
    },
    {
      "cell_type": "code",
      "source": [
        "predictions = (model.predict(X_test) > 0.5).astype(\"int32\")"
      ],
      "metadata": {
        "id": "7rIpK34CNUUZ"
      },
      "execution_count": null,
      "outputs": []
    },
    {
      "cell_type": "code",
      "source": [
        "print(classification_report(y_test, predictions))"
      ],
      "metadata": {
        "colab": {
          "base_uri": "https://localhost:8080/"
        },
        "outputId": "bae0560b-3eed-49c6-cf28-1957d0d55554",
        "id": "aT4Ss57LNUUZ"
      },
      "execution_count": null,
      "outputs": [
        {
          "output_type": "stream",
          "name": "stdout",
          "text": [
            "              precision    recall  f1-score   support\n",
            "\n",
            "           0       0.99      0.43      0.60     15658\n",
            "           1       0.88      1.00      0.93     63386\n",
            "\n",
            "    accuracy                           0.89     79044\n",
            "   macro avg       0.94      0.72      0.77     79044\n",
            "weighted avg       0.90      0.89      0.87     79044\n",
            "\n"
          ]
        }
      ]
    },
    {
      "cell_type": "markdown",
      "source": [
        "### Model 5"
      ],
      "metadata": {
        "id": "2rJVKKTJcPlR"
      }
    },
    {
      "cell_type": "code",
      "source": [
        "model = Sequential()\n",
        "\n",
        "model.add(Dense(78, activation='relu'))\n",
        "model.add(Dropout(0.2))\n",
        "\n",
        "model.add(Dense(39, activation='relu'))\n",
        "model.add(Dropout(0.2))\n",
        "\n",
        "model.add(Dense(19, activation='relu'))\n",
        "model.add(Dropout(0.2))\n",
        "\n",
        "model.add(Dense(19, activation='relu'))\n",
        "model.add(Dropout(0.2))\n",
        "\n",
        "model.add(Dense(10, activation='relu'))\n",
        "model.add(Dropout(0.2))\n",
        "\n",
        "model.add(Dense(5, activation='relu'))\n",
        "model.add(Dropout(0.2))\n",
        "\n",
        "model.add(Dense(units=1, activation='sigmoid'))\n",
        "\n",
        "model.compile(loss='binary_crossentropy', optimizer='adam')"
      ],
      "metadata": {
        "id": "dtQWDCxVcX8M"
      },
      "execution_count": null,
      "outputs": []
    },
    {
      "cell_type": "code",
      "source": [
        "model.fit(x=X_train, y=y_train, epochs=25, batch_size=256,\n",
        "          validation_data=(X_test,y_test))"
      ],
      "metadata": {
        "colab": {
          "base_uri": "https://localhost:8080/"
        },
        "outputId": "d4a63475-f4a2-42e0-b4bf-06e625a19071",
        "id": "Xi5OrcXTcX8N"
      },
      "execution_count": null,
      "outputs": [
        {
          "output_type": "stream",
          "name": "stdout",
          "text": [
            "Epoch 1/25\n",
            "1236/1236 [==============================] - 9s 7ms/step - loss: 0.3723 - val_loss: 0.3162\n",
            "Epoch 2/25\n",
            "1236/1236 [==============================] - 6s 5ms/step - loss: 0.3243 - val_loss: 0.2655\n",
            "Epoch 3/25\n",
            "1236/1236 [==============================] - 7s 5ms/step - loss: 0.2926 - val_loss: 0.2671\n",
            "Epoch 4/25\n",
            "1236/1236 [==============================] - 7s 6ms/step - loss: 0.2897 - val_loss: 0.2671\n",
            "Epoch 5/25\n",
            "1236/1236 [==============================] - 7s 5ms/step - loss: 0.2887 - val_loss: 0.2663\n",
            "Epoch 6/25\n",
            "1236/1236 [==============================] - 7s 5ms/step - loss: 0.2866 - val_loss: 0.2625\n",
            "Epoch 7/25\n",
            "1236/1236 [==============================] - 7s 6ms/step - loss: 0.2855 - val_loss: 0.2632\n",
            "Epoch 8/25\n",
            "1236/1236 [==============================] - 7s 6ms/step - loss: 0.2848 - val_loss: 0.2635\n",
            "Epoch 9/25\n",
            "1236/1236 [==============================] - 6s 5ms/step - loss: 0.2843 - val_loss: 0.2642\n",
            "Epoch 10/25\n",
            "1236/1236 [==============================] - 7s 6ms/step - loss: 0.2839 - val_loss: 0.2637\n",
            "Epoch 11/25\n",
            "1236/1236 [==============================] - 7s 5ms/step - loss: 0.2833 - val_loss: 0.2653\n",
            "Epoch 12/25\n",
            "1236/1236 [==============================] - 7s 5ms/step - loss: 0.2823 - val_loss: 0.2676\n",
            "Epoch 13/25\n",
            "1236/1236 [==============================] - 7s 5ms/step - loss: 0.2802 - val_loss: 0.2633\n",
            "Epoch 14/25\n",
            "1236/1236 [==============================] - 7s 5ms/step - loss: 0.2799 - val_loss: 0.2666\n",
            "Epoch 15/25\n",
            "1236/1236 [==============================] - 7s 5ms/step - loss: 0.2791 - val_loss: 0.2673\n",
            "Epoch 16/25\n",
            "1236/1236 [==============================] - 7s 5ms/step - loss: 0.2799 - val_loss: 0.2647\n",
            "Epoch 17/25\n",
            "1236/1236 [==============================] - 6s 5ms/step - loss: 0.2792 - val_loss: 0.2643\n",
            "Epoch 18/25\n",
            "1236/1236 [==============================] - 7s 5ms/step - loss: 0.2786 - val_loss: 0.2638\n",
            "Epoch 19/25\n",
            "1236/1236 [==============================] - 7s 6ms/step - loss: 0.2788 - val_loss: 0.2647\n",
            "Epoch 20/25\n",
            "1236/1236 [==============================] - 8s 6ms/step - loss: 0.2788 - val_loss: 0.2653\n",
            "Epoch 21/25\n",
            "1236/1236 [==============================] - 7s 5ms/step - loss: 0.2784 - val_loss: 0.2632\n",
            "Epoch 22/25\n",
            "1236/1236 [==============================] - 7s 6ms/step - loss: 0.2780 - val_loss: 0.2631\n",
            "Epoch 23/25\n",
            "1236/1236 [==============================] - 7s 5ms/step - loss: 0.2778 - val_loss: 0.2630\n",
            "Epoch 24/25\n",
            "1236/1236 [==============================] - 7s 6ms/step - loss: 0.2779 - val_loss: 0.2646\n",
            "Epoch 25/25\n",
            "1236/1236 [==============================] - 7s 6ms/step - loss: 0.2774 - val_loss: 0.2641\n"
          ]
        },
        {
          "output_type": "execute_result",
          "data": {
            "text/plain": [
              "<keras.callbacks.History at 0x7f3654687e90>"
            ]
          },
          "metadata": {},
          "execution_count": 230
        }
      ]
    },
    {
      "cell_type": "code",
      "source": [
        "losses = pd.DataFrame(model.history.history)\n",
        "losses"
      ],
      "metadata": {
        "colab": {
          "base_uri": "https://localhost:8080/",
          "height": 833
        },
        "outputId": "fb8b693f-e0f6-45b6-ae76-4568b46e1fdc",
        "id": "rvQVcxi_cX8O"
      },
      "execution_count": null,
      "outputs": [
        {
          "output_type": "execute_result",
          "data": {
            "text/plain": [
              "        loss  val_loss\n",
              "0   0.372314  0.316247\n",
              "1   0.324261  0.265475\n",
              "2   0.292563  0.267096\n",
              "3   0.289734  0.267068\n",
              "4   0.288677  0.266275\n",
              "5   0.286595  0.262534\n",
              "6   0.285472  0.263155\n",
              "7   0.284818  0.263516\n",
              "8   0.284348  0.264247\n",
              "9   0.283877  0.263667\n",
              "10  0.283274  0.265283\n",
              "11  0.282315  0.267609\n",
              "12  0.280164  0.263279\n",
              "13  0.279896  0.266566\n",
              "14  0.279144  0.267264\n",
              "15  0.279855  0.264677\n",
              "16  0.279232  0.264337\n",
              "17  0.278630  0.263785\n",
              "18  0.278827  0.264664\n",
              "19  0.278820  0.265332\n",
              "20  0.278425  0.263170\n",
              "21  0.278001  0.263100\n",
              "22  0.277806  0.262951\n",
              "23  0.277927  0.264593\n",
              "24  0.277410  0.264092"
            ],
            "text/html": [
              "\n",
              "  <div id=\"df-12059047-e22e-4a02-971f-7c939e8b8f4d\">\n",
              "    <div class=\"colab-df-container\">\n",
              "      <div>\n",
              "<style scoped>\n",
              "    .dataframe tbody tr th:only-of-type {\n",
              "        vertical-align: middle;\n",
              "    }\n",
              "\n",
              "    .dataframe tbody tr th {\n",
              "        vertical-align: top;\n",
              "    }\n",
              "\n",
              "    .dataframe thead th {\n",
              "        text-align: right;\n",
              "    }\n",
              "</style>\n",
              "<table border=\"1\" class=\"dataframe\">\n",
              "  <thead>\n",
              "    <tr style=\"text-align: right;\">\n",
              "      <th></th>\n",
              "      <th>loss</th>\n",
              "      <th>val_loss</th>\n",
              "    </tr>\n",
              "  </thead>\n",
              "  <tbody>\n",
              "    <tr>\n",
              "      <th>0</th>\n",
              "      <td>0.372314</td>\n",
              "      <td>0.316247</td>\n",
              "    </tr>\n",
              "    <tr>\n",
              "      <th>1</th>\n",
              "      <td>0.324261</td>\n",
              "      <td>0.265475</td>\n",
              "    </tr>\n",
              "    <tr>\n",
              "      <th>2</th>\n",
              "      <td>0.292563</td>\n",
              "      <td>0.267096</td>\n",
              "    </tr>\n",
              "    <tr>\n",
              "      <th>3</th>\n",
              "      <td>0.289734</td>\n",
              "      <td>0.267068</td>\n",
              "    </tr>\n",
              "    <tr>\n",
              "      <th>4</th>\n",
              "      <td>0.288677</td>\n",
              "      <td>0.266275</td>\n",
              "    </tr>\n",
              "    <tr>\n",
              "      <th>5</th>\n",
              "      <td>0.286595</td>\n",
              "      <td>0.262534</td>\n",
              "    </tr>\n",
              "    <tr>\n",
              "      <th>6</th>\n",
              "      <td>0.285472</td>\n",
              "      <td>0.263155</td>\n",
              "    </tr>\n",
              "    <tr>\n",
              "      <th>7</th>\n",
              "      <td>0.284818</td>\n",
              "      <td>0.263516</td>\n",
              "    </tr>\n",
              "    <tr>\n",
              "      <th>8</th>\n",
              "      <td>0.284348</td>\n",
              "      <td>0.264247</td>\n",
              "    </tr>\n",
              "    <tr>\n",
              "      <th>9</th>\n",
              "      <td>0.283877</td>\n",
              "      <td>0.263667</td>\n",
              "    </tr>\n",
              "    <tr>\n",
              "      <th>10</th>\n",
              "      <td>0.283274</td>\n",
              "      <td>0.265283</td>\n",
              "    </tr>\n",
              "    <tr>\n",
              "      <th>11</th>\n",
              "      <td>0.282315</td>\n",
              "      <td>0.267609</td>\n",
              "    </tr>\n",
              "    <tr>\n",
              "      <th>12</th>\n",
              "      <td>0.280164</td>\n",
              "      <td>0.263279</td>\n",
              "    </tr>\n",
              "    <tr>\n",
              "      <th>13</th>\n",
              "      <td>0.279896</td>\n",
              "      <td>0.266566</td>\n",
              "    </tr>\n",
              "    <tr>\n",
              "      <th>14</th>\n",
              "      <td>0.279144</td>\n",
              "      <td>0.267264</td>\n",
              "    </tr>\n",
              "    <tr>\n",
              "      <th>15</th>\n",
              "      <td>0.279855</td>\n",
              "      <td>0.264677</td>\n",
              "    </tr>\n",
              "    <tr>\n",
              "      <th>16</th>\n",
              "      <td>0.279232</td>\n",
              "      <td>0.264337</td>\n",
              "    </tr>\n",
              "    <tr>\n",
              "      <th>17</th>\n",
              "      <td>0.278630</td>\n",
              "      <td>0.263785</td>\n",
              "    </tr>\n",
              "    <tr>\n",
              "      <th>18</th>\n",
              "      <td>0.278827</td>\n",
              "      <td>0.264664</td>\n",
              "    </tr>\n",
              "    <tr>\n",
              "      <th>19</th>\n",
              "      <td>0.278820</td>\n",
              "      <td>0.265332</td>\n",
              "    </tr>\n",
              "    <tr>\n",
              "      <th>20</th>\n",
              "      <td>0.278425</td>\n",
              "      <td>0.263170</td>\n",
              "    </tr>\n",
              "    <tr>\n",
              "      <th>21</th>\n",
              "      <td>0.278001</td>\n",
              "      <td>0.263100</td>\n",
              "    </tr>\n",
              "    <tr>\n",
              "      <th>22</th>\n",
              "      <td>0.277806</td>\n",
              "      <td>0.262951</td>\n",
              "    </tr>\n",
              "    <tr>\n",
              "      <th>23</th>\n",
              "      <td>0.277927</td>\n",
              "      <td>0.264593</td>\n",
              "    </tr>\n",
              "    <tr>\n",
              "      <th>24</th>\n",
              "      <td>0.277410</td>\n",
              "      <td>0.264092</td>\n",
              "    </tr>\n",
              "  </tbody>\n",
              "</table>\n",
              "</div>\n",
              "      <button class=\"colab-df-convert\" onclick=\"convertToInteractive('df-12059047-e22e-4a02-971f-7c939e8b8f4d')\"\n",
              "              title=\"Convert this dataframe to an interactive table.\"\n",
              "              style=\"display:none;\">\n",
              "        \n",
              "  <svg xmlns=\"http://www.w3.org/2000/svg\" height=\"24px\"viewBox=\"0 0 24 24\"\n",
              "       width=\"24px\">\n",
              "    <path d=\"M0 0h24v24H0V0z\" fill=\"none\"/>\n",
              "    <path d=\"M18.56 5.44l.94 2.06.94-2.06 2.06-.94-2.06-.94-.94-2.06-.94 2.06-2.06.94zm-11 1L8.5 8.5l.94-2.06 2.06-.94-2.06-.94L8.5 2.5l-.94 2.06-2.06.94zm10 10l.94 2.06.94-2.06 2.06-.94-2.06-.94-.94-2.06-.94 2.06-2.06.94z\"/><path d=\"M17.41 7.96l-1.37-1.37c-.4-.4-.92-.59-1.43-.59-.52 0-1.04.2-1.43.59L10.3 9.45l-7.72 7.72c-.78.78-.78 2.05 0 2.83L4 21.41c.39.39.9.59 1.41.59.51 0 1.02-.2 1.41-.59l7.78-7.78 2.81-2.81c.8-.78.8-2.07 0-2.86zM5.41 20L4 18.59l7.72-7.72 1.47 1.35L5.41 20z\"/>\n",
              "  </svg>\n",
              "      </button>\n",
              "      \n",
              "  <style>\n",
              "    .colab-df-container {\n",
              "      display:flex;\n",
              "      flex-wrap:wrap;\n",
              "      gap: 12px;\n",
              "    }\n",
              "\n",
              "    .colab-df-convert {\n",
              "      background-color: #E8F0FE;\n",
              "      border: none;\n",
              "      border-radius: 50%;\n",
              "      cursor: pointer;\n",
              "      display: none;\n",
              "      fill: #1967D2;\n",
              "      height: 32px;\n",
              "      padding: 0 0 0 0;\n",
              "      width: 32px;\n",
              "    }\n",
              "\n",
              "    .colab-df-convert:hover {\n",
              "      background-color: #E2EBFA;\n",
              "      box-shadow: 0px 1px 2px rgba(60, 64, 67, 0.3), 0px 1px 3px 1px rgba(60, 64, 67, 0.15);\n",
              "      fill: #174EA6;\n",
              "    }\n",
              "\n",
              "    [theme=dark] .colab-df-convert {\n",
              "      background-color: #3B4455;\n",
              "      fill: #D2E3FC;\n",
              "    }\n",
              "\n",
              "    [theme=dark] .colab-df-convert:hover {\n",
              "      background-color: #434B5C;\n",
              "      box-shadow: 0px 1px 3px 1px rgba(0, 0, 0, 0.15);\n",
              "      filter: drop-shadow(0px 1px 2px rgba(0, 0, 0, 0.3));\n",
              "      fill: #FFFFFF;\n",
              "    }\n",
              "  </style>\n",
              "\n",
              "      <script>\n",
              "        const buttonEl =\n",
              "          document.querySelector('#df-12059047-e22e-4a02-971f-7c939e8b8f4d button.colab-df-convert');\n",
              "        buttonEl.style.display =\n",
              "          google.colab.kernel.accessAllowed ? 'block' : 'none';\n",
              "\n",
              "        async function convertToInteractive(key) {\n",
              "          const element = document.querySelector('#df-12059047-e22e-4a02-971f-7c939e8b8f4d');\n",
              "          const dataTable =\n",
              "            await google.colab.kernel.invokeFunction('convertToInteractive',\n",
              "                                                     [key], {});\n",
              "          if (!dataTable) return;\n",
              "\n",
              "          const docLinkHtml = 'Like what you see? Visit the ' +\n",
              "            '<a target=\"_blank\" href=https://colab.research.google.com/notebooks/data_table.ipynb>data table notebook</a>'\n",
              "            + ' to learn more about interactive tables.';\n",
              "          element.innerHTML = '';\n",
              "          dataTable['output_type'] = 'display_data';\n",
              "          await google.colab.output.renderOutput(dataTable, element);\n",
              "          const docLink = document.createElement('div');\n",
              "          docLink.innerHTML = docLinkHtml;\n",
              "          element.appendChild(docLink);\n",
              "        }\n",
              "      </script>\n",
              "    </div>\n",
              "  </div>\n",
              "  "
            ]
          },
          "metadata": {},
          "execution_count": 231
        }
      ]
    },
    {
      "cell_type": "code",
      "source": [
        "plt.figure(figsize=(8,5))\n",
        "epochs = np.arange(0, len(losses[\"loss\"]))\n",
        "plt.plot(epochs - 0.5, losses[\"loss\"], label=\"train_loss\")\n",
        "plt.plot(epochs, losses[\"val_loss\"], label=\"val_loss\")\n",
        "plt.legend()\n",
        "plt.grid(True)\n",
        "# plt.gca().set_ylim(0, 1) # set the vertical range to [0-1]\n",
        "plt.show()"
      ],
      "metadata": {
        "colab": {
          "base_uri": "https://localhost:8080/",
          "height": 320
        },
        "outputId": "88430000-1daa-49d1-b953-0995bda42179",
        "id": "MsQj6lt-cX8P"
      },
      "execution_count": null,
      "outputs": [
        {
          "output_type": "display_data",
          "data": {
            "text/plain": [
              "<Figure size 576x360 with 1 Axes>"
            ],
            "image/png": "[encoded data removed]"
          },
          "metadata": {
            "needs_background": "light"
          }
        }
      ]
    },
    {
      "cell_type": "code",
      "source": [
        "from sklearn.metrics import classification_report, confusion_matrix"
      ],
      "metadata": {
        "id": "5Kv6Gs11cX8Q"
      },
      "execution_count": 85,
      "outputs": []
    },
    {
      "cell_type": "code",
      "source": [
        "predictions = (model.predict(X_test) > 0.5).astype(\"int32\")"
      ],
      "metadata": {
        "id": "Gm-icA6YcX8Q"
      },
      "execution_count": null,
      "outputs": []
    },
    {
      "cell_type": "code",
      "source": [
        "print(classification_report(y_test, predictions))"
      ],
      "metadata": {
        "colab": {
          "base_uri": "https://localhost:8080/"
        },
        "outputId": "094fe5e9-3188-47b7-96bb-2b528f58f81a",
        "id": "ldtc9ngucX8R"
      },
      "execution_count": null,
      "outputs": [
        {
          "output_type": "stream",
          "name": "stdout",
          "text": [
            "              precision    recall  f1-score   support\n",
            "\n",
            "           0       1.00      0.43      0.60     15658\n",
            "           1       0.88      1.00      0.93     63386\n",
            "\n",
            "    accuracy                           0.89     79044\n",
            "   macro avg       0.94      0.71      0.77     79044\n",
            "weighted avg       0.90      0.89      0.87     79044\n",
            "\n"
          ]
        }
      ]
    },
    {
      "cell_type": "markdown",
      "source": [
        "## Different Optimizers"
      ],
      "metadata": {
        "id": "kGn5HeHYATgb"
      }
    },
    {
      "cell_type": "code",
      "source": [
        "model = Sequential()\n",
        "\n",
        "model.add(Dense(78, activation='relu'))\n",
        "model.add(Dropout(0.2))\n",
        "\n",
        "model.add(Dense(39, activation='relu'))\n",
        "model.add(Dropout(0.2))\n",
        "\n",
        "model.add(Dense(19, activation='relu'))\n",
        "model.add(Dropout(0.2))\n",
        "\n",
        "model.add(Dense(units=1, activation='sigmoid'))\n",
        "\n",
        "model.compile(loss='binary_crossentropy', optimizer='adadelta')"
      ],
      "metadata": {
        "id": "QaTYv3VMA4wp"
      },
      "execution_count": 76,
      "outputs": []
    },
    {
      "cell_type": "code",
      "source": [
        "model.fit(x=X_train, y=y_train, epochs=25, batch_size=256,\n",
        "          validation_data=(X_test,y_test))"
      ],
      "metadata": {
        "colab": {
          "base_uri": "https://localhost:8080/"
        },
        "outputId": "c4062f87-be18-41fb-ad7f-5609d266d2f3",
        "id": "zB3yeNaSA4w8"
      },
      "execution_count": 77,
      "outputs": [
        {
          "output_type": "stream",
          "name": "stdout",
          "text": [
            "Epoch 1/25\n",
            "1236/1236 [==============================] - 12s 8ms/step - loss: 0.7004 - val_loss: 0.6914\n",
            "Epoch 2/25\n",
            "1236/1236 [==============================] - 10s 8ms/step - loss: 0.6755 - val_loss: 0.6623\n",
            "Epoch 3/25\n",
            "1236/1236 [==============================] - 8s 7ms/step - loss: 0.6457 - val_loss: 0.6283\n",
            "Epoch 4/25\n",
            "1236/1236 [==============================] - 9s 7ms/step - loss: 0.6136 - val_loss: 0.5942\n",
            "Epoch 5/25\n",
            "1236/1236 [==============================] - 5s 4ms/step - loss: 0.5831 - val_loss: 0.5639\n",
            "Epoch 6/25\n",
            "1236/1236 [==============================] - 5s 4ms/step - loss: 0.5579 - val_loss: 0.5399\n",
            "Epoch 7/25\n",
            "1236/1236 [==============================] - 5s 4ms/step - loss: 0.5387 - val_loss: 0.5225\n",
            "Epoch 8/25\n",
            "1236/1236 [==============================] - 5s 4ms/step - loss: 0.5249 - val_loss: 0.5104\n",
            "Epoch 9/25\n",
            "1236/1236 [==============================] - 5s 4ms/step - loss: 0.5166 - val_loss: 0.5022\n",
            "Epoch 10/25\n",
            "1236/1236 [==============================] - 5s 4ms/step - loss: 0.5102 - val_loss: 0.4963\n",
            "Epoch 11/25\n",
            "1236/1236 [==============================] - 8s 7ms/step - loss: 0.5054 - val_loss: 0.4918\n",
            "Epoch 12/25\n",
            "1236/1236 [==============================] - 9s 7ms/step - loss: 0.5022 - val_loss: 0.4882\n",
            "Epoch 13/25\n",
            "1236/1236 [==============================] - 10s 8ms/step - loss: 0.4986 - val_loss: 0.4851\n",
            "Epoch 14/25\n",
            "1236/1236 [==============================] - 9s 7ms/step - loss: 0.4964 - val_loss: 0.4823\n",
            "Epoch 15/25\n",
            "1236/1236 [==============================] - 8s 7ms/step - loss: 0.4939 - val_loss: 0.4798\n",
            "Epoch 16/25\n",
            "1236/1236 [==============================] - 8s 7ms/step - loss: 0.4915 - val_loss: 0.4773\n",
            "Epoch 17/25\n",
            "1236/1236 [==============================] - 6s 4ms/step - loss: 0.4893 - val_loss: 0.4749\n",
            "Epoch 18/25\n",
            "1236/1236 [==============================] - 5s 4ms/step - loss: 0.4875 - val_loss: 0.4726\n",
            "Epoch 19/25\n",
            "1236/1236 [==============================] - 5s 4ms/step - loss: 0.4846 - val_loss: 0.4702\n",
            "Epoch 20/25\n",
            "1236/1236 [==============================] - 5s 4ms/step - loss: 0.4834 - val_loss: 0.4679\n",
            "Epoch 21/25\n",
            "1236/1236 [==============================] - 5s 4ms/step - loss: 0.4804 - val_loss: 0.4656\n",
            "Epoch 22/25\n",
            "1236/1236 [==============================] - 5s 4ms/step - loss: 0.4782 - val_loss: 0.4632\n",
            "Epoch 23/25\n",
            "1236/1236 [==============================] - 4s 4ms/step - loss: 0.4757 - val_loss: 0.4608\n",
            "Epoch 24/25\n",
            "1236/1236 [==============================] - 6s 5ms/step - loss: 0.4738 - val_loss: 0.4585\n",
            "Epoch 25/25\n",
            "1236/1236 [==============================] - 5s 4ms/step - loss: 0.4716 - val_loss: 0.4561\n"
          ]
        },
        {
          "output_type": "execute_result",
          "data": {
            "text/plain": [
              "<keras.callbacks.History at 0x7fa8081449d0>"
            ]
          },
          "metadata": {},
          "execution_count": 77
        }
      ]
    },
    {
      "cell_type": "code",
      "source": [
        "model = Sequential()\n",
        "\n",
        "model.add(Dense(78, activation='relu'))\n",
        "model.add(Dropout(0.2))\n",
        "\n",
        "model.add(Dense(39, activation='relu'))\n",
        "model.add(Dropout(0.2))\n",
        "\n",
        "model.add(Dense(19, activation='relu'))\n",
        "model.add(Dropout(0.2))\n",
        "\n",
        "model.add(Dense(units=1, activation='sigmoid'))\n",
        "\n",
        "model.compile(loss='binary_crossentropy', optimizer='adagrad')"
      ],
      "metadata": {
        "id": "_3R5_ND5Bgt_"
      },
      "execution_count": 78,
      "outputs": []
    },
    {
      "cell_type": "code",
      "source": [
        "model.fit(x=X_train, y=y_train, epochs=25, batch_size=256,\n",
        "          validation_data=(X_test,y_test))"
      ],
      "metadata": {
        "colab": {
          "base_uri": "https://localhost:8080/"
        },
        "id": "XQYr76mTCAWO",
        "outputId": "a0269339-09e0-4596-c5ea-4bdb2ef3e06e"
      },
      "execution_count": 79,
      "outputs": [
        {
          "output_type": "stream",
          "name": "stdout",
          "text": [
            "Epoch 1/25\n",
            "1236/1236 [==============================] - 11s 8ms/step - loss: 0.5549 - val_loss: 0.4896\n",
            "Epoch 2/25\n",
            "1236/1236 [==============================] - 4s 4ms/step - loss: 0.4974 - val_loss: 0.4720\n",
            "Epoch 3/25\n",
            "1236/1236 [==============================] - 5s 4ms/step - loss: 0.4798 - val_loss: 0.4523\n",
            "Epoch 4/25\n",
            "1236/1236 [==============================] - 4s 4ms/step - loss: 0.4605 - val_loss: 0.4304\n",
            "Epoch 5/25\n",
            "1236/1236 [==============================] - 5s 4ms/step - loss: 0.4429 - val_loss: 0.4111\n",
            "Epoch 6/25\n",
            "1236/1236 [==============================] - 5s 4ms/step - loss: 0.4269 - val_loss: 0.3948\n",
            "Epoch 7/25\n",
            "1236/1236 [==============================] - 5s 4ms/step - loss: 0.4130 - val_loss: 0.3808\n",
            "Epoch 8/25\n",
            "1236/1236 [==============================] - 5s 4ms/step - loss: 0.4022 - val_loss: 0.3689\n",
            "Epoch 9/25\n",
            "1236/1236 [==============================] - 5s 4ms/step - loss: 0.3929 - val_loss: 0.3589\n",
            "Epoch 10/25\n",
            "1236/1236 [==============================] - 5s 4ms/step - loss: 0.3841 - val_loss: 0.3501\n",
            "Epoch 11/25\n",
            "1236/1236 [==============================] - 5s 4ms/step - loss: 0.3764 - val_loss: 0.3431\n",
            "Epoch 12/25\n",
            "1236/1236 [==============================] - 5s 4ms/step - loss: 0.3696 - val_loss: 0.3367\n",
            "Epoch 13/25\n",
            "1236/1236 [==============================] - 5s 4ms/step - loss: 0.3645 - val_loss: 0.3312\n",
            "Epoch 14/25\n",
            "1236/1236 [==============================] - 4s 4ms/step - loss: 0.3590 - val_loss: 0.3265\n",
            "Epoch 15/25\n",
            "1236/1236 [==============================] - 5s 4ms/step - loss: 0.3536 - val_loss: 0.3221\n",
            "Epoch 16/25\n",
            "1236/1236 [==============================] - 5s 4ms/step - loss: 0.3494 - val_loss: 0.3184\n",
            "Epoch 17/25\n",
            "1236/1236 [==============================] - 5s 4ms/step - loss: 0.3458 - val_loss: 0.3147\n",
            "Epoch 18/25\n",
            "1236/1236 [==============================] - 4s 4ms/step - loss: 0.3423 - val_loss: 0.3115\n",
            "Epoch 19/25\n",
            "1236/1236 [==============================] - 5s 4ms/step - loss: 0.3387 - val_loss: 0.3086\n",
            "Epoch 20/25\n",
            "1236/1236 [==============================] - 5s 4ms/step - loss: 0.3347 - val_loss: 0.3058\n",
            "Epoch 21/25\n",
            "1236/1236 [==============================] - 4s 3ms/step - loss: 0.3323 - val_loss: 0.3030\n",
            "Epoch 22/25\n",
            "1236/1236 [==============================] - 5s 4ms/step - loss: 0.3295 - val_loss: 0.3006\n",
            "Epoch 23/25\n",
            "1236/1236 [==============================] - 5s 4ms/step - loss: 0.3266 - val_loss: 0.2985\n",
            "Epoch 24/25\n",
            "1236/1236 [==============================] - 5s 4ms/step - loss: 0.3246 - val_loss: 0.2966\n",
            "Epoch 25/25\n",
            "1236/1236 [==============================] - 4s 3ms/step - loss: 0.3208 - val_loss: 0.2946\n"
          ]
        },
        {
          "output_type": "execute_result",
          "data": {
            "text/plain": [
              "<keras.callbacks.History at 0x7fa8038a87d0>"
            ]
          },
          "metadata": {},
          "execution_count": 79
        }
      ]
    },
    {
      "cell_type": "code",
      "source": [
        "model.fit(x=X_train, y=y_train, epochs=10, batch_size=256,\n",
        "          validation_data=(X_test,y_test))"
      ],
      "metadata": {
        "colab": {
          "base_uri": "https://localhost:8080/"
        },
        "id": "_Tdn2-3oCUS_",
        "outputId": "abbeae94-6ad1-4d0e-e1c7-4cbd53c590ec"
      },
      "execution_count": 80,
      "outputs": [
        {
          "output_type": "stream",
          "name": "stdout",
          "text": [
            "Epoch 1/10\n",
            "1236/1236 [==============================] - 8s 7ms/step - loss: 0.3187 - val_loss: 0.2930\n",
            "Epoch 2/10\n",
            "1236/1236 [==============================] - 6s 5ms/step - loss: 0.3174 - val_loss: 0.2916\n",
            "Epoch 3/10\n",
            "1236/1236 [==============================] - 6s 5ms/step - loss: 0.3149 - val_loss: 0.2901\n",
            "Epoch 4/10\n",
            "1236/1236 [==============================] - 7s 6ms/step - loss: 0.3130 - val_loss: 0.2889\n",
            "Epoch 5/10\n",
            "1236/1236 [==============================] - 5s 4ms/step - loss: 0.3121 - val_loss: 0.2877\n",
            "Epoch 6/10\n",
            "1236/1236 [==============================] - 4s 4ms/step - loss: 0.3094 - val_loss: 0.2867\n",
            "Epoch 7/10\n",
            "1236/1236 [==============================] - 5s 4ms/step - loss: 0.3086 - val_loss: 0.2854\n",
            "Epoch 8/10\n",
            "1236/1236 [==============================] - 4s 4ms/step - loss: 0.3073 - val_loss: 0.2846\n",
            "Epoch 9/10\n",
            "1236/1236 [==============================] - 4s 4ms/step - loss: 0.3063 - val_loss: 0.2837\n",
            "Epoch 10/10\n",
            "1236/1236 [==============================] - 4s 3ms/step - loss: 0.3049 - val_loss: 0.2829\n"
          ]
        },
        {
          "output_type": "execute_result",
          "data": {
            "text/plain": [
              "<keras.callbacks.History at 0x7fa807eeec10>"
            ]
          },
          "metadata": {},
          "execution_count": 80
        }
      ]
    },
    {
      "cell_type": "code",
      "source": [
        "model.fit(x=X_train, y=y_train, epochs=25, batch_size=256,\n",
        "          validation_data=(X_test,y_test))"
      ],
      "metadata": {
        "colab": {
          "base_uri": "https://localhost:8080/"
        },
        "id": "b7DJoo2iC4og",
        "outputId": "54435dc3-d06e-488f-848b-923979c580cf"
      },
      "execution_count": 81,
      "outputs": [
        {
          "output_type": "stream",
          "name": "stdout",
          "text": [
            "Epoch 1/25\n",
            "1236/1236 [==============================] - 5s 4ms/step - loss: 0.3037 - val_loss: 0.2821\n",
            "Epoch 2/25\n",
            "1236/1236 [==============================] - 5s 4ms/step - loss: 0.3024 - val_loss: 0.2813\n",
            "Epoch 3/25\n",
            "1236/1236 [==============================] - 4s 4ms/step - loss: 0.3008 - val_loss: 0.2808\n",
            "Epoch 4/25\n",
            "1236/1236 [==============================] - 5s 4ms/step - loss: 0.3001 - val_loss: 0.2801\n",
            "Epoch 5/25\n",
            "1236/1236 [==============================] - 5s 4ms/step - loss: 0.2991 - val_loss: 0.2795\n",
            "Epoch 6/25\n",
            "1236/1236 [==============================] - 4s 3ms/step - loss: 0.2985 - val_loss: 0.2790\n",
            "Epoch 7/25\n",
            "1236/1236 [==============================] - 5s 4ms/step - loss: 0.2970 - val_loss: 0.2784\n",
            "Epoch 8/25\n",
            "1236/1236 [==============================] - 4s 4ms/step - loss: 0.2959 - val_loss: 0.2779\n",
            "Epoch 9/25\n",
            "1236/1236 [==============================] - 4s 4ms/step - loss: 0.2960 - val_loss: 0.2775\n",
            "Epoch 10/25\n",
            "1236/1236 [==============================] - 5s 4ms/step - loss: 0.2952 - val_loss: 0.2770\n",
            "Epoch 11/25\n",
            "1236/1236 [==============================] - 5s 4ms/step - loss: 0.2944 - val_loss: 0.2766\n",
            "Epoch 12/25\n",
            "1236/1236 [==============================] - 5s 4ms/step - loss: 0.2937 - val_loss: 0.2762\n",
            "Epoch 13/25\n",
            "1236/1236 [==============================] - 4s 4ms/step - loss: 0.2925 - val_loss: 0.2759\n",
            "Epoch 14/25\n",
            "1236/1236 [==============================] - 4s 4ms/step - loss: 0.2922 - val_loss: 0.2756\n",
            "Epoch 15/25\n",
            "1236/1236 [==============================] - 5s 4ms/step - loss: 0.2916 - val_loss: 0.2752\n",
            "Epoch 16/25\n",
            "1236/1236 [==============================] - 5s 4ms/step - loss: 0.2911 - val_loss: 0.2749\n",
            "Epoch 17/25\n",
            "1236/1236 [==============================] - 5s 4ms/step - loss: 0.2908 - val_loss: 0.2746\n",
            "Epoch 18/25\n",
            "1236/1236 [==============================] - 5s 4ms/step - loss: 0.2897 - val_loss: 0.2743\n",
            "Epoch 19/25\n",
            "1236/1236 [==============================] - 4s 4ms/step - loss: 0.2898 - val_loss: 0.2740\n",
            "Epoch 20/25\n",
            "1236/1236 [==============================] - 5s 4ms/step - loss: 0.2893 - val_loss: 0.2737\n",
            "Epoch 21/25\n",
            "1236/1236 [==============================] - 5s 4ms/step - loss: 0.2880 - val_loss: 0.2735\n",
            "Epoch 22/25\n",
            "1236/1236 [==============================] - 5s 4ms/step - loss: 0.2883 - val_loss: 0.2733\n",
            "Epoch 23/25\n",
            "1236/1236 [==============================] - 4s 4ms/step - loss: 0.2875 - val_loss: 0.2731\n",
            "Epoch 24/25\n",
            "1236/1236 [==============================] - 4s 4ms/step - loss: 0.2874 - val_loss: 0.2728\n",
            "Epoch 25/25\n",
            "1236/1236 [==============================] - 4s 4ms/step - loss: 0.2865 - val_loss: 0.2726\n"
          ]
        },
        {
          "output_type": "execute_result",
          "data": {
            "text/plain": [
              "<keras.callbacks.History at 0x7fa807ee8b50>"
            ]
          },
          "metadata": {},
          "execution_count": 81
        }
      ]
    },
    {
      "cell_type": "code",
      "source": [
        "model.fit(x=X_train, y=y_train, epochs=25, batch_size=256,\n",
        "          validation_data=(X_test,y_test))"
      ],
      "metadata": {
        "colab": {
          "base_uri": "https://localhost:8080/"
        },
        "id": "h8aR9f76C9vf",
        "outputId": "b1a37cb1-14e5-4f30-a96e-cbfd4f505e0d"
      },
      "execution_count": 82,
      "outputs": [
        {
          "output_type": "stream",
          "name": "stdout",
          "text": [
            "Epoch 1/25\n",
            "1236/1236 [==============================] - 8s 7ms/step - loss: 0.2866 - val_loss: 0.2724\n",
            "Epoch 2/25\n",
            "1236/1236 [==============================] - 6s 4ms/step - loss: 0.2858 - val_loss: 0.2722\n",
            "Epoch 3/25\n",
            "1236/1236 [==============================] - 5s 4ms/step - loss: 0.2858 - val_loss: 0.2721\n",
            "Epoch 4/25\n",
            "1236/1236 [==============================] - 5s 4ms/step - loss: 0.2853 - val_loss: 0.2719\n",
            "Epoch 5/25\n",
            "1236/1236 [==============================] - 5s 4ms/step - loss: 0.2851 - val_loss: 0.2717\n",
            "Epoch 6/25\n",
            "1236/1236 [==============================] - 5s 4ms/step - loss: 0.2850 - val_loss: 0.2716\n",
            "Epoch 7/25\n",
            "1236/1236 [==============================] - 5s 4ms/step - loss: 0.2842 - val_loss: 0.2714\n",
            "Epoch 8/25\n",
            "1236/1236 [==============================] - 5s 4ms/step - loss: 0.2839 - val_loss: 0.2712\n",
            "Epoch 9/25\n",
            "1236/1236 [==============================] - 5s 4ms/step - loss: 0.2840 - val_loss: 0.2711\n",
            "Epoch 10/25\n",
            "1236/1236 [==============================] - 4s 4ms/step - loss: 0.2835 - val_loss: 0.2710\n",
            "Epoch 11/25\n",
            "1236/1236 [==============================] - 4s 4ms/step - loss: 0.2833 - val_loss: 0.2708\n",
            "Epoch 12/25\n",
            "1236/1236 [==============================] - 5s 4ms/step - loss: 0.2837 - val_loss: 0.2707\n",
            "Epoch 13/25\n",
            "1236/1236 [==============================] - 5s 4ms/step - loss: 0.2832 - val_loss: 0.2706\n",
            "Epoch 14/25\n",
            "1236/1236 [==============================] - 4s 4ms/step - loss: 0.2825 - val_loss: 0.2705\n",
            "Epoch 15/25\n",
            "1236/1236 [==============================] - 4s 4ms/step - loss: 0.2821 - val_loss: 0.2703\n",
            "Epoch 16/25\n",
            "1236/1236 [==============================] - 4s 4ms/step - loss: 0.2812 - val_loss: 0.2702\n",
            "Epoch 17/25\n",
            "1236/1236 [==============================] - 4s 3ms/step - loss: 0.2814 - val_loss: 0.2701\n",
            "Epoch 18/25\n",
            "1236/1236 [==============================] - 5s 4ms/step - loss: 0.2815 - val_loss: 0.2700\n",
            "Epoch 19/25\n",
            "1236/1236 [==============================] - 5s 4ms/step - loss: 0.2813 - val_loss: 0.2699\n",
            "Epoch 20/25\n",
            "1236/1236 [==============================] - 5s 4ms/step - loss: 0.2808 - val_loss: 0.2698\n",
            "Epoch 21/25\n",
            "1236/1236 [==============================] - 5s 4ms/step - loss: 0.2805 - val_loss: 0.2697\n",
            "Epoch 22/25\n",
            "1236/1236 [==============================] - 4s 4ms/step - loss: 0.2805 - val_loss: 0.2696\n",
            "Epoch 23/25\n",
            "1236/1236 [==============================] - 4s 3ms/step - loss: 0.2807 - val_loss: 0.2695\n",
            "Epoch 24/25\n",
            "1236/1236 [==============================] - 4s 3ms/step - loss: 0.2803 - val_loss: 0.2694\n",
            "Epoch 25/25\n",
            "1236/1236 [==============================] - 4s 4ms/step - loss: 0.2800 - val_loss: 0.2693\n"
          ]
        },
        {
          "output_type": "execute_result",
          "data": {
            "text/plain": [
              "<keras.callbacks.History at 0x7fa8080f7090>"
            ]
          },
          "metadata": {},
          "execution_count": 82
        }
      ]
    },
    {
      "cell_type": "code",
      "source": [
        "losses = pd.DataFrame(model.history.history)\n",
        "plt.figure(figsize=(8,5))\n",
        "epochs = np.arange(0, len(losses[\"loss\"]))\n",
        "plt.plot(epochs - 0.5, losses[\"loss\"], label=\"train_loss\")\n",
        "plt.plot(epochs, losses[\"val_loss\"], label=\"val_loss\")\n",
        "plt.legend()\n",
        "plt.grid(True)\n",
        "# plt.gca().set_ylim(0, 1) # set the vertical range to [0-1]\n",
        "plt.show()"
      ],
      "metadata": {
        "colab": {
          "base_uri": "https://localhost:8080/",
          "height": 320
        },
        "id": "nlSG7gyzE_Og",
        "outputId": "7e707d27-f20d-424a-ca1a-385d7f2e61cf"
      },
      "execution_count": 83,
      "outputs": [
        {
          "output_type": "display_data",
          "data": {
            "text/plain": [
              "<Figure size 576x360 with 1 Axes>"
            ],
            "image/png": "[encoded data removed]"
          },
          "metadata": {
            "needs_background": "light"
          }
        }
      ]
    },
    {
      "cell_type": "code",
      "source": [
        "predictions = (model.predict(X_test) > 0.5).astype(\"int32\")"
      ],
      "metadata": {
        "id": "Q8Fy0XseGCxx"
      },
      "execution_count": 87,
      "outputs": []
    },
    {
      "cell_type": "code",
      "source": [
        "print(classification_report(y_test, predictions))"
      ],
      "metadata": {
        "colab": {
          "base_uri": "https://localhost:8080/"
        },
        "id": "ZeUkq_E9FskL",
        "outputId": "0025a50d-056b-43d9-e183-b27cb613283d"
      },
      "execution_count": 88,
      "outputs": [
        {
          "output_type": "stream",
          "name": "stdout",
          "text": [
            "              precision    recall  f1-score   support\n",
            "\n",
            "           0       1.00      0.43      0.60     15658\n",
            "           1       0.88      1.00      0.93     63386\n",
            "\n",
            "    accuracy                           0.89     79044\n",
            "   macro avg       0.94      0.72      0.77     79044\n",
            "weighted avg       0.90      0.89      0.87     79044\n",
            "\n"
          ]
        }
      ]
    },
    {
      "cell_type": "code",
      "source": [
        "model = Sequential()\n",
        "\n",
        "model.add(Dense(78, activation='relu'))\n",
        "model.add(Dropout(0.2))\n",
        "\n",
        "model.add(Dense(39, activation='relu'))\n",
        "model.add(Dropout(0.2))\n",
        "\n",
        "model.add(Dense(19, activation='relu'))\n",
        "model.add(Dropout(0.2))\n",
        "\n",
        "model.add(Dense(units=1, activation='sigmoid'))\n",
        "\n",
        "model.compile(loss='binary_crossentropy', optimizer='adamax')"
      ],
      "metadata": {
        "id": "CVhEuM6KFv0z"
      },
      "execution_count": 89,
      "outputs": []
    },
    {
      "cell_type": "code",
      "source": [
        "model.fit(x=X_train, y=y_train, epochs=25, batch_size=256,\n",
        "          validation_data=(X_test,y_test))"
      ],
      "metadata": {
        "colab": {
          "base_uri": "https://localhost:8080/"
        },
        "id": "w-b-w-NwGMaL",
        "outputId": "ea60c6ad-150e-44d9-d801-0ad295f21969"
      },
      "execution_count": 90,
      "outputs": [
        {
          "output_type": "stream",
          "name": "stdout",
          "text": [
            "Epoch 1/25\n",
            "1236/1236 [==============================] - 8s 6ms/step - loss: 0.3466 - val_loss: 0.2730\n",
            "Epoch 2/25\n",
            "1236/1236 [==============================] - 5s 4ms/step - loss: 0.2763 - val_loss: 0.2662\n",
            "Epoch 3/25\n",
            "1236/1236 [==============================] - 5s 4ms/step - loss: 0.2694 - val_loss: 0.2645\n",
            "Epoch 4/25\n",
            "1236/1236 [==============================] - 5s 4ms/step - loss: 0.2663 - val_loss: 0.2638\n",
            "Epoch 5/25\n",
            "1236/1236 [==============================] - 5s 4ms/step - loss: 0.2646 - val_loss: 0.2637\n",
            "Epoch 6/25\n",
            "1236/1236 [==============================] - 5s 4ms/step - loss: 0.2636 - val_loss: 0.2627\n",
            "Epoch 7/25\n",
            "1236/1236 [==============================] - 5s 4ms/step - loss: 0.2628 - val_loss: 0.2624\n",
            "Epoch 8/25\n",
            "1236/1236 [==============================] - 5s 4ms/step - loss: 0.2623 - val_loss: 0.2621\n",
            "Epoch 9/25\n",
            "1236/1236 [==============================] - 5s 4ms/step - loss: 0.2617 - val_loss: 0.2621\n",
            "Epoch 10/25\n",
            "1236/1236 [==============================] - 4s 4ms/step - loss: 0.2611 - val_loss: 0.2622\n",
            "Epoch 11/25\n",
            "1236/1236 [==============================] - 5s 4ms/step - loss: 0.2606 - val_loss: 0.2619\n",
            "Epoch 12/25\n",
            "1236/1236 [==============================] - 4s 4ms/step - loss: 0.2605 - val_loss: 0.2619\n",
            "Epoch 13/25\n",
            "1236/1236 [==============================] - 5s 4ms/step - loss: 0.2602 - val_loss: 0.2618\n",
            "Epoch 14/25\n",
            "1236/1236 [==============================] - 5s 4ms/step - loss: 0.2599 - val_loss: 0.2616\n",
            "Epoch 15/25\n",
            "1236/1236 [==============================] - 5s 4ms/step - loss: 0.2594 - val_loss: 0.2616\n",
            "Epoch 16/25\n",
            "1236/1236 [==============================] - 5s 4ms/step - loss: 0.2593 - val_loss: 0.2618\n",
            "Epoch 17/25\n",
            "1236/1236 [==============================] - 5s 4ms/step - loss: 0.2592 - val_loss: 0.2614\n",
            "Epoch 18/25\n",
            "1236/1236 [==============================] - 5s 4ms/step - loss: 0.2590 - val_loss: 0.2614\n",
            "Epoch 19/25\n",
            "1236/1236 [==============================] - 5s 4ms/step - loss: 0.2587 - val_loss: 0.2613\n",
            "Epoch 20/25\n",
            "1236/1236 [==============================] - 5s 4ms/step - loss: 0.2588 - val_loss: 0.2616\n",
            "Epoch 21/25\n",
            "1236/1236 [==============================] - 5s 4ms/step - loss: 0.2585 - val_loss: 0.2614\n",
            "Epoch 22/25\n",
            "1236/1236 [==============================] - 5s 4ms/step - loss: 0.2586 - val_loss: 0.2612\n",
            "Epoch 23/25\n",
            "1236/1236 [==============================] - 5s 4ms/step - loss: 0.2583 - val_loss: 0.2610\n",
            "Epoch 24/25\n",
            "1236/1236 [==============================] - 5s 4ms/step - loss: 0.2581 - val_loss: 0.2611\n",
            "Epoch 25/25\n",
            "1236/1236 [==============================] - 4s 4ms/step - loss: 0.2577 - val_loss: 0.2610\n"
          ]
        },
        {
          "output_type": "execute_result",
          "data": {
            "text/plain": [
              "<keras.callbacks.History at 0x7fa807d122d0>"
            ]
          },
          "metadata": {},
          "execution_count": 90
        }
      ]
    },
    {
      "cell_type": "code",
      "source": [
        "model.fit(x=X_train, y=y_train, epochs=30, batch_size=256,\n",
        "          validation_data=(X_test,y_test))"
      ],
      "metadata": {
        "colab": {
          "base_uri": "https://localhost:8080/"
        },
        "id": "SW7rWXuXGNYv",
        "outputId": "81d59f91-d86b-4c40-8558-26d6e119e2f2"
      },
      "execution_count": 91,
      "outputs": [
        {
          "output_type": "stream",
          "name": "stdout",
          "text": [
            "Epoch 1/30\n",
            "1236/1236 [==============================] - 7s 6ms/step - loss: 0.2577 - val_loss: 0.2611\n",
            "Epoch 2/30\n",
            "1236/1236 [==============================] - 5s 4ms/step - loss: 0.2580 - val_loss: 0.2611\n",
            "Epoch 3/30\n",
            "1236/1236 [==============================] - 5s 4ms/step - loss: 0.2577 - val_loss: 0.2611\n",
            "Epoch 4/30\n",
            "1236/1236 [==============================] - 5s 4ms/step - loss: 0.2577 - val_loss: 0.2611\n",
            "Epoch 5/30\n",
            "1236/1236 [==============================] - 4s 4ms/step - loss: 0.2576 - val_loss: 0.2610\n",
            "Epoch 6/30\n",
            "1236/1236 [==============================] - 5s 4ms/step - loss: 0.2573 - val_loss: 0.2608\n",
            "Epoch 7/30\n",
            "1236/1236 [==============================] - 5s 4ms/step - loss: 0.2573 - val_loss: 0.2610\n",
            "Epoch 8/30\n",
            "1236/1236 [==============================] - 5s 4ms/step - loss: 0.2569 - val_loss: 0.2612\n",
            "Epoch 9/30\n",
            "1236/1236 [==============================] - 5s 4ms/step - loss: 0.2571 - val_loss: 0.2620\n",
            "Epoch 10/30\n",
            "1236/1236 [==============================] - 5s 4ms/step - loss: 0.2568 - val_loss: 0.2609\n",
            "Epoch 11/30\n",
            "1236/1236 [==============================] - 5s 4ms/step - loss: 0.2569 - val_loss: 0.2609\n",
            "Epoch 12/30\n",
            "1236/1236 [==============================] - 4s 4ms/step - loss: 0.2571 - val_loss: 0.2610\n",
            "Epoch 13/30\n",
            "1236/1236 [==============================] - 5s 4ms/step - loss: 0.2566 - val_loss: 0.2609\n",
            "Epoch 14/30\n",
            "1236/1236 [==============================] - 5s 4ms/step - loss: 0.2566 - val_loss: 0.2611\n",
            "Epoch 15/30\n",
            "1236/1236 [==============================] - 5s 4ms/step - loss: 0.2564 - val_loss: 0.2611\n",
            "Epoch 16/30\n",
            "1236/1236 [==============================] - 4s 4ms/step - loss: 0.2563 - val_loss: 0.2611\n",
            "Epoch 17/30\n",
            "1236/1236 [==============================] - 5s 4ms/step - loss: 0.2564 - val_loss: 0.2613\n",
            "Epoch 18/30\n",
            "1236/1236 [==============================] - 4s 4ms/step - loss: 0.2563 - val_loss: 0.2611\n",
            "Epoch 19/30\n",
            "1236/1236 [==============================] - 5s 4ms/step - loss: 0.2562 - val_loss: 0.2611\n",
            "Epoch 20/30\n",
            "1236/1236 [==============================] - 5s 4ms/step - loss: 0.2562 - val_loss: 0.2611\n",
            "Epoch 21/30\n",
            "1236/1236 [==============================] - 5s 4ms/step - loss: 0.2561 - val_loss: 0.2610\n",
            "Epoch 22/30\n",
            "1236/1236 [==============================] - 5s 4ms/step - loss: 0.2558 - val_loss: 0.2610\n",
            "Epoch 23/30\n",
            "1236/1236 [==============================] - 5s 4ms/step - loss: 0.2558 - val_loss: 0.2610\n",
            "Epoch 24/30\n",
            "1236/1236 [==============================] - 5s 4ms/step - loss: 0.2560 - val_loss: 0.2610\n",
            "Epoch 25/30\n",
            "1236/1236 [==============================] - 5s 4ms/step - loss: 0.2557 - val_loss: 0.2608\n",
            "Epoch 26/30\n",
            "1236/1236 [==============================] - 4s 4ms/step - loss: 0.2556 - val_loss: 0.2614\n",
            "Epoch 27/30\n",
            "1236/1236 [==============================] - 5s 4ms/step - loss: 0.2556 - val_loss: 0.2610\n",
            "Epoch 28/30\n",
            "1236/1236 [==============================] - 5s 4ms/step - loss: 0.2554 - val_loss: 0.2609\n",
            "Epoch 29/30\n",
            "1236/1236 [==============================] - 5s 4ms/step - loss: 0.2554 - val_loss: 0.2609\n",
            "Epoch 30/30\n",
            "1236/1236 [==============================] - 5s 4ms/step - loss: 0.2553 - val_loss: 0.2608\n"
          ]
        },
        {
          "output_type": "execute_result",
          "data": {
            "text/plain": [
              "<keras.callbacks.History at 0x7fa807b4f390>"
            ]
          },
          "metadata": {},
          "execution_count": 91
        }
      ]
    },
    {
      "cell_type": "code",
      "source": [
        "model = Sequential()\n",
        "\n",
        "model.add(Dense(78, activation='relu'))\n",
        "model.add(Dropout(0.2))\n",
        "\n",
        "model.add(Dense(39, activation='relu'))\n",
        "model.add(Dropout(0.2))\n",
        "\n",
        "model.add(Dense(39, activation='relu'))\n",
        "model.add(Dropout(0.2))\n",
        "\n",
        "model.add(Dense(39, activation='relu'))\n",
        "model.add(Dropout(0.2))\n",
        "\n",
        "model.add(Dense(39, activation='relu'))\n",
        "model.add(Dropout(0.2))\n",
        "\n",
        "model.add(Dense(39, activation='relu'))\n",
        "model.add(Dropout(0.2))\n",
        "\n",
        "model.add(Dense(units=1, activation='sigmoid'))\n",
        "\n",
        "model.compile(loss='binary_crossentropy', optimizer='adamax')"
      ],
      "metadata": {
        "id": "EFBcsIdHGziv"
      },
      "execution_count": 92,
      "outputs": []
    },
    {
      "cell_type": "code",
      "source": [
        "model.fit(x=X_train, y=y_train, epochs=25, batch_size=256,\n",
        "          validation_data=(X_test,y_test))"
      ],
      "metadata": {
        "colab": {
          "base_uri": "https://localhost:8080/"
        },
        "id": "OwgBK8V2N8Nf",
        "outputId": "bf866405-89ea-4b71-f3f9-8c7b2d4be602"
      },
      "execution_count": 93,
      "outputs": [
        {
          "output_type": "stream",
          "name": "stdout",
          "text": [
            "Epoch 1/25\n",
            "1236/1236 [==============================] - 10s 7ms/step - loss: 0.3742 - val_loss: 0.2839\n",
            "Epoch 2/25\n",
            "1236/1236 [==============================] - 6s 5ms/step - loss: 0.2829 - val_loss: 0.2785\n",
            "Epoch 3/25\n",
            "1236/1236 [==============================] - 6s 5ms/step - loss: 0.2733 - val_loss: 0.2755\n",
            "Epoch 4/25\n",
            "1236/1236 [==============================] - 6s 5ms/step - loss: 0.2695 - val_loss: 0.2711\n",
            "Epoch 5/25\n",
            "1236/1236 [==============================] - 6s 5ms/step - loss: 0.2667 - val_loss: 0.2740\n",
            "Epoch 6/25\n",
            "1236/1236 [==============================] - 6s 5ms/step - loss: 0.2653 - val_loss: 0.2690\n",
            "Epoch 7/25\n",
            "1236/1236 [==============================] - 6s 5ms/step - loss: 0.2643 - val_loss: 0.2699\n",
            "Epoch 8/25\n",
            "1236/1236 [==============================] - 6s 5ms/step - loss: 0.2634 - val_loss: 0.2711\n",
            "Epoch 9/25\n",
            "1236/1236 [==============================] - 6s 5ms/step - loss: 0.2630 - val_loss: 0.2706\n",
            "Epoch 10/25\n",
            "1236/1236 [==============================] - 6s 5ms/step - loss: 0.2627 - val_loss: 0.2705\n",
            "Epoch 11/25\n",
            "1236/1236 [==============================] - 6s 5ms/step - loss: 0.2622 - val_loss: 0.2683\n",
            "Epoch 12/25\n",
            "1236/1236 [==============================] - 6s 5ms/step - loss: 0.2619 - val_loss: 0.2686\n",
            "Epoch 13/25\n",
            "1236/1236 [==============================] - 6s 5ms/step - loss: 0.2614 - val_loss: 0.2686\n",
            "Epoch 14/25\n",
            "1236/1236 [==============================] - 6s 5ms/step - loss: 0.2612 - val_loss: 0.2695\n",
            "Epoch 15/25\n",
            "1236/1236 [==============================] - 6s 5ms/step - loss: 0.2609 - val_loss: 0.2686\n",
            "Epoch 16/25\n",
            "1236/1236 [==============================] - 6s 5ms/step - loss: 0.2606 - val_loss: 0.2692\n",
            "Epoch 17/25\n",
            "1236/1236 [==============================] - 7s 6ms/step - loss: 0.2605 - val_loss: 0.2684\n",
            "Epoch 18/25\n",
            "1236/1236 [==============================] - 6s 5ms/step - loss: 0.2600 - val_loss: 0.2661\n",
            "Epoch 19/25\n",
            "1236/1236 [==============================] - 6s 5ms/step - loss: 0.2599 - val_loss: 0.2682\n",
            "Epoch 20/25\n",
            "1236/1236 [==============================] - 6s 5ms/step - loss: 0.2598 - val_loss: 0.2680\n",
            "Epoch 21/25\n",
            "1236/1236 [==============================] - 6s 5ms/step - loss: 0.2599 - val_loss: 0.2691\n",
            "Epoch 22/25\n",
            "1236/1236 [==============================] - 7s 5ms/step - loss: 0.2595 - val_loss: 0.2671\n",
            "Epoch 23/25\n",
            "1236/1236 [==============================] - 10s 8ms/step - loss: 0.2593 - val_loss: 0.2669\n",
            "Epoch 24/25\n",
            "1236/1236 [==============================] - 13s 11ms/step - loss: 0.2591 - val_loss: 0.2675\n",
            "Epoch 25/25\n",
            "1236/1236 [==============================] - 10s 8ms/step - loss: 0.2591 - val_loss: 0.2673\n"
          ]
        },
        {
          "output_type": "execute_result",
          "data": {
            "text/plain": [
              "<keras.callbacks.History at 0x7fa807b248d0>"
            ]
          },
          "metadata": {},
          "execution_count": 93
        }
      ]
    },
    {
      "cell_type": "code",
      "source": [
        "model = Sequential()\n",
        "\n",
        "model.add(Dense(78, activation='relu'))\n",
        "model.add(Dropout(0.2))\n",
        "\n",
        "model.add(Dense(78, activation='relu'))\n",
        "model.add(Dropout(0.2))\n",
        "\n",
        "model.add(Dense(78, activation='relu'))\n",
        "model.add(Dropout(0.2))\n",
        "\n",
        "model.add(Dense(78, activation='relu'))\n",
        "model.add(Dropout(0.2))\n",
        "\n",
        "model.add(Dense(78, activation='relu'))\n",
        "model.add(Dropout(0.2))\n",
        "\n",
        "model.add(Dense(78, activation='relu'))\n",
        "model.add(Dropout(0.2))\n",
        "\n",
        "model.add(Dense(units=1, activation='sigmoid'))\n",
        "\n",
        "model.compile(loss='binary_crossentropy', optimizer='adamax')"
      ],
      "metadata": {
        "id": "whjmtLWTN8be"
      },
      "execution_count": 94,
      "outputs": []
    },
    {
      "cell_type": "code",
      "source": [
        "model.fit(x=X_train, y=y_train, epochs=25, batch_size=256,\n",
        "          validation_data=(X_test,y_test))"
      ],
      "metadata": {
        "colab": {
          "base_uri": "https://localhost:8080/"
        },
        "id": "XaBNDVLAOiPO",
        "outputId": "d3021e72-bb97-4b5a-8518-ad1857e76477"
      },
      "execution_count": 95,
      "outputs": [
        {
          "output_type": "stream",
          "name": "stdout",
          "text": [
            "Epoch 1/25\n",
            "1236/1236 [==============================] - 17s 11ms/step - loss: 0.3291 - val_loss: 0.2735\n",
            "Epoch 2/25\n",
            "1236/1236 [==============================] - 10s 8ms/step - loss: 0.2757 - val_loss: 0.2762\n",
            "Epoch 3/25\n",
            "1236/1236 [==============================] - 10s 8ms/step - loss: 0.2683 - val_loss: 0.2697\n",
            "Epoch 4/25\n",
            "1236/1236 [==============================] - 11s 9ms/step - loss: 0.2654 - val_loss: 0.2679\n",
            "Epoch 5/25\n",
            "1236/1236 [==============================] - 11s 9ms/step - loss: 0.2639 - val_loss: 0.2651\n",
            "Epoch 6/25\n",
            "1236/1236 [==============================] - 10s 8ms/step - loss: 0.2631 - val_loss: 0.2667\n",
            "Epoch 7/25\n",
            "1236/1236 [==============================] - 10s 8ms/step - loss: 0.2624 - val_loss: 0.2645\n",
            "Epoch 8/25\n",
            "1236/1236 [==============================] - 11s 9ms/step - loss: 0.2622 - val_loss: 0.2674\n",
            "Epoch 9/25\n",
            "1236/1236 [==============================] - 10s 8ms/step - loss: 0.2616 - val_loss: 0.2671\n",
            "Epoch 10/25\n",
            "1236/1236 [==============================] - 10s 8ms/step - loss: 0.2615 - val_loss: 0.2665\n",
            "Epoch 11/25\n",
            "1236/1236 [==============================] - 10s 8ms/step - loss: 0.2611 - val_loss: 0.2643\n",
            "Epoch 12/25\n",
            "1236/1236 [==============================] - 10s 8ms/step - loss: 0.2608 - val_loss: 0.2627\n",
            "Epoch 13/25\n",
            "1236/1236 [==============================] - 10s 8ms/step - loss: 0.2606 - val_loss: 0.2635\n",
            "Epoch 14/25\n",
            "1236/1236 [==============================] - 9s 8ms/step - loss: 0.2601 - val_loss: 0.2631\n",
            "Epoch 15/25\n",
            "1236/1236 [==============================] - 9s 8ms/step - loss: 0.2600 - val_loss: 0.2624\n",
            "Epoch 16/25\n",
            "1236/1236 [==============================] - 10s 8ms/step - loss: 0.2599 - val_loss: 0.2633\n",
            "Epoch 17/25\n",
            "1236/1236 [==============================] - 10s 8ms/step - loss: 0.2598 - val_loss: 0.2641\n",
            "Epoch 18/25\n",
            "1236/1236 [==============================] - 9s 8ms/step - loss: 0.2596 - val_loss: 0.2648\n",
            "Epoch 19/25\n",
            "1236/1236 [==============================] - 9s 8ms/step - loss: 0.2593 - val_loss: 0.2623\n",
            "Epoch 20/25\n",
            "1236/1236 [==============================] - 9s 8ms/step - loss: 0.2589 - val_loss: 0.2634\n",
            "Epoch 21/25\n",
            "1236/1236 [==============================] - 9s 8ms/step - loss: 0.2590 - val_loss: 0.2648\n",
            "Epoch 22/25\n",
            "1236/1236 [==============================] - 10s 8ms/step - loss: 0.2588 - val_loss: 0.2645\n",
            "Epoch 23/25\n",
            "1236/1236 [==============================] - 10s 8ms/step - loss: 0.2586 - val_loss: 0.2629\n",
            "Epoch 24/25\n",
            "1236/1236 [==============================] - 9s 8ms/step - loss: 0.2584 - val_loss: 0.2630\n",
            "Epoch 25/25\n",
            "1236/1236 [==============================] - 9s 8ms/step - loss: 0.2581 - val_loss: 0.2649\n"
          ]
        },
        {
          "output_type": "execute_result",
          "data": {
            "text/plain": [
              "<keras.callbacks.History at 0x7fa807940350>"
            ]
          },
          "metadata": {},
          "execution_count": 95
        }
      ]
    },
    {
      "cell_type": "code",
      "source": [
        "model = Sequential()\n",
        "\n",
        "model.add(Dense(78, activation='relu'))\n",
        "model.add(Dropout(0.2))\n",
        "\n",
        "model.add(Dense(100, activation='relu'))\n",
        "model.add(Dropout(0.2))\n",
        "\n",
        "model.add(Dense(100, activation='relu'))\n",
        "model.add(Dropout(0.2))\n",
        "\n",
        "model.add(Dense(100, activation='relu'))\n",
        "model.add(Dropout(0.2))\n",
        "\n",
        "model.add(Dense(100, activation='relu'))\n",
        "model.add(Dropout(0.2))\n",
        "\n",
        "model.add(Dense(100, activation='relu'))\n",
        "model.add(Dropout(0.2))\n",
        "\n",
        "model.add(Dense(units=1, activation='sigmoid'))\n",
        "\n",
        "model.compile(loss='binary_crossentropy', optimizer='adamax')"
      ],
      "metadata": {
        "id": "QIjjv36pOwf3"
      },
      "execution_count": 101,
      "outputs": []
    },
    {
      "cell_type": "code",
      "source": [
        "model.fit(x=X_train, y=y_train, epochs=5, batch_size=32,\n",
        "          validation_data=(X_test,y_test))"
      ],
      "metadata": {
        "colab": {
          "base_uri": "https://localhost:8080/"
        },
        "id": "ZMmBW-AYRAEB",
        "outputId": "0973bfb8-7488-492a-b2dd-c5148a05c321"
      },
      "execution_count": 102,
      "outputs": [
        {
          "output_type": "stream",
          "name": "stdout",
          "text": [
            "Epoch 1/5\n",
            "9881/9881 [==============================] - 33s 3ms/step - loss: 0.2956 - val_loss: 0.2680\n",
            "Epoch 2/5\n",
            "9881/9881 [==============================] - 31s 3ms/step - loss: 0.2671 - val_loss: 0.2685\n",
            "Epoch 3/5\n",
            "9881/9881 [==============================] - 32s 3ms/step - loss: 0.2642 - val_loss: 0.2647\n",
            "Epoch 4/5\n",
            "9881/9881 [==============================] - 33s 3ms/step - loss: 0.2633 - val_loss: 0.2635\n",
            "Epoch 5/5\n",
            "9881/9881 [==============================] - 35s 4ms/step - loss: 0.2626 - val_loss: 0.2662\n"
          ]
        },
        {
          "output_type": "execute_result",
          "data": {
            "text/plain": [
              "<keras.callbacks.History at 0x7fa802ceb210>"
            ]
          },
          "metadata": {},
          "execution_count": 102
        }
      ]
    },
    {
      "cell_type": "code",
      "source": [
        "model = Sequential()\n",
        "\n",
        "model.add(Dense(78, activation='relu'))\n",
        "model.add(Dropout(0.5))\n",
        "\n",
        "model.add(Dense(39, activation='relu'))\n",
        "model.add(Dropout(0.5))\n",
        "\n",
        "model.add(Dense(19, activation='relu'))\n",
        "model.add(Dropout(0.5))\n",
        "\n",
        "model.add(Dense(units=1, activation='sigmoid'))\n",
        "\n",
        "model.compile(loss='binary_crossentropy', optimizer='nadam')"
      ],
      "metadata": {
        "id": "HG18vjQnSZlY"
      },
      "execution_count": 103,
      "outputs": []
    },
    {
      "cell_type": "code",
      "source": [
        "model.fit(x=X_train, y=y_train, epochs=5, batch_size=32,\n",
        "          validation_data=(X_test,y_test))"
      ],
      "metadata": {
        "colab": {
          "base_uri": "https://localhost:8080/"
        },
        "id": "gQA33wZUUs-v",
        "outputId": "cf9b954d-3b92-4899-87ce-29b99bc5425d"
      },
      "execution_count": 104,
      "outputs": [
        {
          "output_type": "stream",
          "name": "stdout",
          "text": [
            "Epoch 1/5\n",
            "9881/9881 [==============================] - 32s 3ms/step - loss: 0.2946 - val_loss: 0.2660\n",
            "Epoch 2/5\n",
            "9881/9881 [==============================] - 24s 2ms/step - loss: 0.2693 - val_loss: 0.2646\n",
            "Epoch 3/5\n",
            "9881/9881 [==============================] - 24s 2ms/step - loss: 0.2678 - val_loss: 0.2647\n",
            "Epoch 4/5\n",
            "9881/9881 [==============================] - 27s 3ms/step - loss: 0.2671 - val_loss: 0.2650\n",
            "Epoch 5/5\n",
            "9881/9881 [==============================] - 24s 2ms/step - loss: 0.2673 - val_loss: 0.2652\n"
          ]
        },
        {
          "output_type": "execute_result",
          "data": {
            "text/plain": [
              "<keras.callbacks.History at 0x7fa802941b50>"
            ]
          },
          "metadata": {},
          "execution_count": 104
        }
      ]
    },
    {
      "cell_type": "code",
      "source": [
        "model.fit(x=X_train, y=y_train, epochs=5, batch_size=32,\n",
        "          validation_data=(X_test,y_test))"
      ],
      "metadata": {
        "colab": {
          "base_uri": "https://localhost:8080/",
          "height": 433
        },
        "id": "IkVEJVLiUwX_",
        "outputId": "2896dd78-9156-4c65-b86f-e8b3a302e397"
      },
      "execution_count": 105,
      "outputs": [
        {
          "output_type": "stream",
          "name": "stdout",
          "text": [
            "Epoch 1/5\n",
            "9881/9881 [==============================] - 31s 3ms/step - loss: 0.2669 - val_loss: 0.2642\n",
            "Epoch 2/5\n",
            "9881/9881 [==============================] - 27s 3ms/step - loss: 0.2670 - val_loss: 0.2643\n",
            "Epoch 3/5\n",
            "5030/9881 [==============>...............] - ETA: 10s - loss: 0.2655"
          ]
        },
        {
          "output_type": "error",
          "ename": "KeyboardInterrupt",
          "evalue": "ignored",
          "traceback": [
            "\u001b[0;31m---------------------------------------------------------------------------\u001b[0m",
            "\u001b[0;31mKeyboardInterrupt\u001b[0m                         Traceback (most recent call last)",
            "\u001b[0;32m<ipython-input-105-21a5d82a03b8>\u001b[0m in \u001b[0;36m<module>\u001b[0;34m()\u001b[0m\n\u001b[1;32m      1\u001b[0m model.fit(x=X_train, y=y_train, epochs=5, batch_size=32,\n\u001b[0;32m----> 2\u001b[0;31m           validation_data=(X_test,y_test))\n\u001b[0m",
            "\u001b[0;32m/usr/local/lib/python3.7/dist-packages/keras/utils/traceback_utils.py\u001b[0m in \u001b[0;36merror_handler\u001b[0;34m(*args, **kwargs)\u001b[0m\n\u001b[1;32m     62\u001b[0m     \u001b[0mfiltered_tb\u001b[0m \u001b[0;34m=\u001b[0m \u001b[0;32mNone\u001b[0m\u001b[0;34m\u001b[0m\u001b[0;34m\u001b[0m\u001b[0m\n\u001b[1;32m     63\u001b[0m     \u001b[0;32mtry\u001b[0m\u001b[0;34m:\u001b[0m\u001b[0;34m\u001b[0m\u001b[0;34m\u001b[0m\u001b[0m\n\u001b[0;32m---> 64\u001b[0;31m       \u001b[0;32mreturn\u001b[0m \u001b[0mfn\u001b[0m\u001b[0;34m(\u001b[0m\u001b[0;34m*\u001b[0m\u001b[0margs\u001b[0m\u001b[0;34m,\u001b[0m \u001b[0;34m**\u001b[0m\u001b[0mkwargs\u001b[0m\u001b[0;34m)\u001b[0m\u001b[0;34m\u001b[0m\u001b[0;34m\u001b[0m\u001b[0m\n\u001b[0m\u001b[1;32m     65\u001b[0m     \u001b[0;32mexcept\u001b[0m \u001b[0mException\u001b[0m \u001b[0;32mas\u001b[0m \u001b[0me\u001b[0m\u001b[0;34m:\u001b[0m  \u001b[0;31m# pylint: disable=broad-except\u001b[0m\u001b[0;34m\u001b[0m\u001b[0;34m\u001b[0m\u001b[0m\n\u001b[1;32m     66\u001b[0m       \u001b[0mfiltered_tb\u001b[0m \u001b[0;34m=\u001b[0m \u001b[0m_process_traceback_frames\u001b[0m\u001b[0;34m(\u001b[0m\u001b[0me\u001b[0m\u001b[0;34m.\u001b[0m\u001b[0m__traceback__\u001b[0m\u001b[0;34m)\u001b[0m\u001b[0;34m\u001b[0m\u001b[0;34m\u001b[0m\u001b[0m\n",
            "\u001b[0;32m/usr/local/lib/python3.7/dist-packages/keras/engine/training.py\u001b[0m in \u001b[0;36mfit\u001b[0;34m(self, x, y, batch_size, epochs, verbose, callbacks, validation_split, validation_data, shuffle, class_weight, sample_weight, initial_epoch, steps_per_epoch, validation_steps, validation_batch_size, validation_freq, max_queue_size, workers, use_multiprocessing)\u001b[0m\n\u001b[1;32m   1382\u001b[0m                 _r=1):\n\u001b[1;32m   1383\u001b[0m               \u001b[0mcallbacks\u001b[0m\u001b[0;34m.\u001b[0m\u001b[0mon_train_batch_begin\u001b[0m\u001b[0;34m(\u001b[0m\u001b[0mstep\u001b[0m\u001b[0;34m)\u001b[0m\u001b[0;34m\u001b[0m\u001b[0;34m\u001b[0m\u001b[0m\n\u001b[0;32m-> 1384\u001b[0;31m               \u001b[0mtmp_logs\u001b[0m \u001b[0;34m=\u001b[0m \u001b[0mself\u001b[0m\u001b[0;34m.\u001b[0m\u001b[0mtrain_function\u001b[0m\u001b[0;34m(\u001b[0m\u001b[0miterator\u001b[0m\u001b[0;34m)\u001b[0m\u001b[0;34m\u001b[0m\u001b[0;34m\u001b[0m\u001b[0m\n\u001b[0m\u001b[1;32m   1385\u001b[0m               \u001b[0;32mif\u001b[0m \u001b[0mdata_handler\u001b[0m\u001b[0;34m.\u001b[0m\u001b[0mshould_sync\u001b[0m\u001b[0;34m:\u001b[0m\u001b[0;34m\u001b[0m\u001b[0;34m\u001b[0m\u001b[0m\n\u001b[1;32m   1386\u001b[0m                 \u001b[0mcontext\u001b[0m\u001b[0;34m.\u001b[0m\u001b[0masync_wait\u001b[0m\u001b[0;34m(\u001b[0m\u001b[0;34m)\u001b[0m\u001b[0;34m\u001b[0m\u001b[0;34m\u001b[0m\u001b[0m\n",
            "\u001b[0;32m/usr/local/lib/python3.7/dist-packages/tensorflow/python/util/traceback_utils.py\u001b[0m in \u001b[0;36merror_handler\u001b[0;34m(*args, **kwargs)\u001b[0m\n\u001b[1;32m    148\u001b[0m     \u001b[0mfiltered_tb\u001b[0m \u001b[0;34m=\u001b[0m \u001b[0;32mNone\u001b[0m\u001b[0;34m\u001b[0m\u001b[0;34m\u001b[0m\u001b[0m\n\u001b[1;32m    149\u001b[0m     \u001b[0;32mtry\u001b[0m\u001b[0;34m:\u001b[0m\u001b[0;34m\u001b[0m\u001b[0;34m\u001b[0m\u001b[0m\n\u001b[0;32m--> 150\u001b[0;31m       \u001b[0;32mreturn\u001b[0m \u001b[0mfn\u001b[0m\u001b[0;34m(\u001b[0m\u001b[0;34m*\u001b[0m\u001b[0margs\u001b[0m\u001b[0;34m,\u001b[0m \u001b[0;34m**\u001b[0m\u001b[0mkwargs\u001b[0m\u001b[0;34m)\u001b[0m\u001b[0;34m\u001b[0m\u001b[0;34m\u001b[0m\u001b[0m\n\u001b[0m\u001b[1;32m    151\u001b[0m     \u001b[0;32mexcept\u001b[0m \u001b[0mException\u001b[0m \u001b[0;32mas\u001b[0m \u001b[0me\u001b[0m\u001b[0;34m:\u001b[0m\u001b[0;34m\u001b[0m\u001b[0;34m\u001b[0m\u001b[0m\n\u001b[1;32m    152\u001b[0m       \u001b[0mfiltered_tb\u001b[0m \u001b[0;34m=\u001b[0m \u001b[0m_process_traceback_frames\u001b[0m\u001b[0;34m(\u001b[0m\u001b[0me\u001b[0m\u001b[0;34m.\u001b[0m\u001b[0m__traceback__\u001b[0m\u001b[0;34m)\u001b[0m\u001b[0;34m\u001b[0m\u001b[0;34m\u001b[0m\u001b[0m\n",
            "\u001b[0;32m/usr/local/lib/python3.7/dist-packages/tensorflow/python/eager/def_function.py\u001b[0m in \u001b[0;36m__call__\u001b[0;34m(self, *args, **kwds)\u001b[0m\n\u001b[1;32m    913\u001b[0m \u001b[0;34m\u001b[0m\u001b[0m\n\u001b[1;32m    914\u001b[0m       \u001b[0;32mwith\u001b[0m \u001b[0mOptionalXlaContext\u001b[0m\u001b[0;34m(\u001b[0m\u001b[0mself\u001b[0m\u001b[0;34m.\u001b[0m\u001b[0m_jit_compile\u001b[0m\u001b[0;34m)\u001b[0m\u001b[0;34m:\u001b[0m\u001b[0;34m\u001b[0m\u001b[0;34m\u001b[0m\u001b[0m\n\u001b[0;32m--> 915\u001b[0;31m         \u001b[0mresult\u001b[0m \u001b[0;34m=\u001b[0m \u001b[0mself\u001b[0m\u001b[0;34m.\u001b[0m\u001b[0m_call\u001b[0m\u001b[0;34m(\u001b[0m\u001b[0;34m*\u001b[0m\u001b[0margs\u001b[0m\u001b[0;34m,\u001b[0m \u001b[0;34m**\u001b[0m\u001b[0mkwds\u001b[0m\u001b[0;34m)\u001b[0m\u001b[0;34m\u001b[0m\u001b[0;34m\u001b[0m\u001b[0m\n\u001b[0m\u001b[1;32m    916\u001b[0m \u001b[0;34m\u001b[0m\u001b[0m\n\u001b[1;32m    917\u001b[0m       \u001b[0mnew_tracing_count\u001b[0m \u001b[0;34m=\u001b[0m \u001b[0mself\u001b[0m\u001b[0;34m.\u001b[0m\u001b[0mexperimental_get_tracing_count\u001b[0m\u001b[0;34m(\u001b[0m\u001b[0;34m)\u001b[0m\u001b[0;34m\u001b[0m\u001b[0;34m\u001b[0m\u001b[0m\n",
            "\u001b[0;32m/usr/local/lib/python3.7/dist-packages/tensorflow/python/eager/def_function.py\u001b[0m in \u001b[0;36m_call\u001b[0;34m(self, *args, **kwds)\u001b[0m\n\u001b[1;32m    945\u001b[0m       \u001b[0;31m# In this case we have created variables on the first call, so we run the\u001b[0m\u001b[0;34m\u001b[0m\u001b[0;34m\u001b[0m\u001b[0;34m\u001b[0m\u001b[0m\n\u001b[1;32m    946\u001b[0m       \u001b[0;31m# defunned version which is guaranteed to never create variables.\u001b[0m\u001b[0;34m\u001b[0m\u001b[0;34m\u001b[0m\u001b[0;34m\u001b[0m\u001b[0m\n\u001b[0;32m--> 947\u001b[0;31m       \u001b[0;32mreturn\u001b[0m \u001b[0mself\u001b[0m\u001b[0;34m.\u001b[0m\u001b[0m_stateless_fn\u001b[0m\u001b[0;34m(\u001b[0m\u001b[0;34m*\u001b[0m\u001b[0margs\u001b[0m\u001b[0;34m,\u001b[0m \u001b[0;34m**\u001b[0m\u001b[0mkwds\u001b[0m\u001b[0;34m)\u001b[0m  \u001b[0;31m# pylint: disable=not-callable\u001b[0m\u001b[0;34m\u001b[0m\u001b[0;34m\u001b[0m\u001b[0m\n\u001b[0m\u001b[1;32m    948\u001b[0m     \u001b[0;32melif\u001b[0m \u001b[0mself\u001b[0m\u001b[0;34m.\u001b[0m\u001b[0m_stateful_fn\u001b[0m \u001b[0;32mis\u001b[0m \u001b[0;32mnot\u001b[0m \u001b[0;32mNone\u001b[0m\u001b[0;34m:\u001b[0m\u001b[0;34m\u001b[0m\u001b[0;34m\u001b[0m\u001b[0m\n\u001b[1;32m    949\u001b[0m       \u001b[0;31m# Release the lock early so that multiple threads can perform the call\u001b[0m\u001b[0;34m\u001b[0m\u001b[0;34m\u001b[0m\u001b[0;34m\u001b[0m\u001b[0m\n",
            "\u001b[0;32m/usr/local/lib/python3.7/dist-packages/tensorflow/python/eager/function.py\u001b[0m in \u001b[0;36m__call__\u001b[0;34m(self, *args, **kwargs)\u001b[0m\n\u001b[1;32m   2955\u001b[0m        filtered_flat_args) = self._maybe_define_function(args, kwargs)\n\u001b[1;32m   2956\u001b[0m     return graph_function._call_flat(\n\u001b[0;32m-> 2957\u001b[0;31m         filtered_flat_args, captured_inputs=graph_function.captured_inputs)  # pylint: disable=protected-access\n\u001b[0m\u001b[1;32m   2958\u001b[0m \u001b[0;34m\u001b[0m\u001b[0m\n\u001b[1;32m   2959\u001b[0m   \u001b[0;34m@\u001b[0m\u001b[0mproperty\u001b[0m\u001b[0;34m\u001b[0m\u001b[0;34m\u001b[0m\u001b[0m\n",
            "\u001b[0;32m/usr/local/lib/python3.7/dist-packages/tensorflow/python/eager/function.py\u001b[0m in \u001b[0;36m_call_flat\u001b[0;34m(self, args, captured_inputs, cancellation_manager)\u001b[0m\n\u001b[1;32m   1852\u001b[0m       \u001b[0;31m# No tape is watching; skip to running the function.\u001b[0m\u001b[0;34m\u001b[0m\u001b[0;34m\u001b[0m\u001b[0;34m\u001b[0m\u001b[0m\n\u001b[1;32m   1853\u001b[0m       return self._build_call_outputs(self._inference_function.call(\n\u001b[0;32m-> 1854\u001b[0;31m           ctx, args, cancellation_manager=cancellation_manager))\n\u001b[0m\u001b[1;32m   1855\u001b[0m     forward_backward = self._select_forward_and_backward_functions(\n\u001b[1;32m   1856\u001b[0m         \u001b[0margs\u001b[0m\u001b[0;34m,\u001b[0m\u001b[0;34m\u001b[0m\u001b[0;34m\u001b[0m\u001b[0m\n",
            "\u001b[0;32m/usr/local/lib/python3.7/dist-packages/tensorflow/python/eager/function.py\u001b[0m in \u001b[0;36mcall\u001b[0;34m(self, ctx, args, cancellation_manager)\u001b[0m\n\u001b[1;32m    502\u001b[0m               \u001b[0minputs\u001b[0m\u001b[0;34m=\u001b[0m\u001b[0margs\u001b[0m\u001b[0;34m,\u001b[0m\u001b[0;34m\u001b[0m\u001b[0;34m\u001b[0m\u001b[0m\n\u001b[1;32m    503\u001b[0m               \u001b[0mattrs\u001b[0m\u001b[0;34m=\u001b[0m\u001b[0mattrs\u001b[0m\u001b[0;34m,\u001b[0m\u001b[0;34m\u001b[0m\u001b[0;34m\u001b[0m\u001b[0m\n\u001b[0;32m--> 504\u001b[0;31m               ctx=ctx)\n\u001b[0m\u001b[1;32m    505\u001b[0m         \u001b[0;32melse\u001b[0m\u001b[0;34m:\u001b[0m\u001b[0;34m\u001b[0m\u001b[0;34m\u001b[0m\u001b[0m\n\u001b[1;32m    506\u001b[0m           outputs = execute.execute_with_cancellation(\n",
            "\u001b[0;32m/usr/local/lib/python3.7/dist-packages/tensorflow/python/eager/execute.py\u001b[0m in \u001b[0;36mquick_execute\u001b[0;34m(op_name, num_outputs, inputs, attrs, ctx, name)\u001b[0m\n\u001b[1;32m     53\u001b[0m     \u001b[0mctx\u001b[0m\u001b[0;34m.\u001b[0m\u001b[0mensure_initialized\u001b[0m\u001b[0;34m(\u001b[0m\u001b[0;34m)\u001b[0m\u001b[0;34m\u001b[0m\u001b[0;34m\u001b[0m\u001b[0m\n\u001b[1;32m     54\u001b[0m     tensors = pywrap_tfe.TFE_Py_Execute(ctx._handle, device_name, op_name,\n\u001b[0;32m---> 55\u001b[0;31m                                         inputs, attrs, num_outputs)\n\u001b[0m\u001b[1;32m     56\u001b[0m   \u001b[0;32mexcept\u001b[0m \u001b[0mcore\u001b[0m\u001b[0;34m.\u001b[0m\u001b[0m_NotOkStatusException\u001b[0m \u001b[0;32mas\u001b[0m \u001b[0me\u001b[0m\u001b[0;34m:\u001b[0m\u001b[0;34m\u001b[0m\u001b[0;34m\u001b[0m\u001b[0m\n\u001b[1;32m     57\u001b[0m     \u001b[0;32mif\u001b[0m \u001b[0mname\u001b[0m \u001b[0;32mis\u001b[0m \u001b[0;32mnot\u001b[0m \u001b[0;32mNone\u001b[0m\u001b[0;34m:\u001b[0m\u001b[0;34m\u001b[0m\u001b[0;34m\u001b[0m\u001b[0m\n",
            "\u001b[0;31mKeyboardInterrupt\u001b[0m: "
          ]
        }
      ]
    },
    {
      "cell_type": "code",
      "source": [
        "model = Sequential()\n",
        "\n",
        "model.add(Dense(78, activation='relu'))\n",
        "model.add(Dropout(0.5))\n",
        "\n",
        "model.add(Dense(39, activation='relu'))\n",
        "model.add(Dropout(0.5))\n",
        "\n",
        "model.add(Dense(19, activation='relu'))\n",
        "model.add(Dropout(0.5))\n",
        "\n",
        "model.add(Dense(units=1, activation='sigmoid'))\n",
        "\n",
        "model.compile(loss='binary_crossentropy', optimizer='rmsprop')"
      ],
      "metadata": {
        "id": "k2tzl1wRVZ4I"
      },
      "execution_count": 106,
      "outputs": []
    },
    {
      "cell_type": "code",
      "source": [
        "model.fit(x=X_train, y=y_train, epochs=25, batch_size=256,\n",
        "          validation_data=(X_test,y_test))"
      ],
      "metadata": {
        "colab": {
          "base_uri": "https://localhost:8080/"
        },
        "id": "XVZ4-kMFWD-h",
        "outputId": "fa7b7d8d-9305-4e4c-8da4-149181e95f0a"
      },
      "execution_count": 107,
      "outputs": [
        {
          "output_type": "stream",
          "name": "stdout",
          "text": [
            "Epoch 1/25\n",
            "1236/1236 [==============================] - 12s 8ms/step - loss: 0.3355 - val_loss: 0.2705\n",
            "Epoch 2/25\n",
            "1236/1236 [==============================] - 8s 6ms/step - loss: 0.2753 - val_loss: 0.2674\n",
            "Epoch 3/25\n",
            "1236/1236 [==============================] - 5s 4ms/step - loss: 0.2712 - val_loss: 0.2681\n",
            "Epoch 4/25\n",
            "1236/1236 [==============================] - 5s 4ms/step - loss: 0.2707 - val_loss: 0.2676\n",
            "Epoch 5/25\n",
            "1236/1236 [==============================] - 5s 4ms/step - loss: 0.2706 - val_loss: 0.2685\n",
            "Epoch 6/25\n",
            "1236/1236 [==============================] - 5s 4ms/step - loss: 0.2708 - val_loss: 0.2687\n",
            "Epoch 7/25\n",
            "1236/1236 [==============================] - 5s 4ms/step - loss: 0.2711 - val_loss: 0.2685\n",
            "Epoch 8/25\n",
            "1236/1236 [==============================] - 5s 4ms/step - loss: 0.2716 - val_loss: 0.2693\n",
            "Epoch 9/25\n",
            "1236/1236 [==============================] - 4s 4ms/step - loss: 0.2716 - val_loss: 0.2696\n",
            "Epoch 10/25\n",
            "1236/1236 [==============================] - 5s 4ms/step - loss: 0.2719 - val_loss: 0.2693\n",
            "Epoch 11/25\n",
            "1236/1236 [==============================] - 5s 4ms/step - loss: 0.2719 - val_loss: 0.2704\n",
            "Epoch 12/25\n",
            "1236/1236 [==============================] - 5s 4ms/step - loss: 0.2726 - val_loss: 0.2695\n",
            "Epoch 13/25\n",
            "1236/1236 [==============================] - 5s 4ms/step - loss: 0.2724 - val_loss: 0.2697\n",
            "Epoch 14/25\n",
            "1236/1236 [==============================] - 5s 4ms/step - loss: 0.2731 - val_loss: 0.2696\n",
            "Epoch 15/25\n",
            "1236/1236 [==============================] - 4s 4ms/step - loss: 0.2734 - val_loss: 0.2710\n",
            "Epoch 16/25\n",
            "1236/1236 [==============================] - 5s 4ms/step - loss: 0.2731 - val_loss: 0.2708\n",
            "Epoch 17/25\n",
            "1236/1236 [==============================] - 5s 4ms/step - loss: 0.2740 - val_loss: 0.2718\n",
            "Epoch 18/25\n",
            "1236/1236 [==============================] - 5s 4ms/step - loss: 0.2745 - val_loss: 0.2700\n",
            "Epoch 19/25\n",
            "1236/1236 [==============================] - 5s 4ms/step - loss: 0.2763 - val_loss: 0.2713\n",
            "Epoch 20/25\n",
            "1236/1236 [==============================] - 5s 4ms/step - loss: 0.2746 - val_loss: 0.2712\n",
            "Epoch 21/25\n",
            "1236/1236 [==============================] - 5s 4ms/step - loss: 0.2755 - val_loss: 0.2704\n",
            "Epoch 22/25\n",
            "1236/1236 [==============================] - 5s 4ms/step - loss: 0.2758 - val_loss: 0.2704\n",
            "Epoch 23/25\n",
            "1236/1236 [==============================] - 5s 4ms/step - loss: 0.2759 - val_loss: 0.2708\n",
            "Epoch 24/25\n",
            "1236/1236 [==============================] - 5s 4ms/step - loss: 0.2759 - val_loss: 0.2706\n",
            "Epoch 25/25\n",
            "1236/1236 [==============================] - 5s 4ms/step - loss: 0.2762 - val_loss: 0.2716\n"
          ]
        },
        {
          "output_type": "execute_result",
          "data": {
            "text/plain": [
              "<keras.callbacks.History at 0x7fa7fad5b6d0>"
            ]
          },
          "metadata": {},
          "execution_count": 107
        }
      ]
    },
    {
      "cell_type": "code",
      "source": [
        "model = Sequential()\n",
        "\n",
        "model.add(Dense(78, activation='relu'))\n",
        "model.add(Dropout(0.3))\n",
        "\n",
        "model.add(Dense(39, activation='relu'))\n",
        "model.add(Dropout(0.3))\n",
        "\n",
        "model.add(Dense(19, activation='relu'))\n",
        "model.add(Dropout(0.3))\n",
        "\n",
        "model.add(Dense(units=1, activation='sigmoid'))\n",
        "\n",
        "model.compile(loss='binary_crossentropy', optimizer='adamax')"
      ],
      "metadata": {
        "id": "jN1fB8dsWFlw"
      },
      "execution_count": 111,
      "outputs": []
    },
    {
      "cell_type": "code",
      "source": [
        "model.fit(x=X_train, y=y_train, epochs=25, batch_size=256,\n",
        "          validation_data=(X_test,y_test))"
      ],
      "metadata": {
        "colab": {
          "base_uri": "https://localhost:8080/"
        },
        "id": "AQKYJvJFWtEh",
        "outputId": "f49aae79-80af-4515-a2af-4efa3ea65dbc"
      },
      "execution_count": 112,
      "outputs": [
        {
          "output_type": "stream",
          "name": "stdout",
          "text": [
            "Epoch 1/25\n",
            "1236/1236 [==============================] - 32s 5ms/step - loss: 0.3558 - val_loss: 0.2732\n",
            "Epoch 2/25\n",
            "1236/1236 [==============================] - 7s 6ms/step - loss: 0.2814 - val_loss: 0.2664\n",
            "Epoch 3/25\n",
            "1236/1236 [==============================] - 5s 4ms/step - loss: 0.2722 - val_loss: 0.2653\n",
            "Epoch 4/25\n",
            "1236/1236 [==============================] - 5s 4ms/step - loss: 0.2689 - val_loss: 0.2643\n",
            "Epoch 5/25\n",
            "1236/1236 [==============================] - 5s 4ms/step - loss: 0.2667 - val_loss: 0.2640\n",
            "Epoch 6/25\n",
            "1236/1236 [==============================] - 5s 4ms/step - loss: 0.2651 - val_loss: 0.2632\n",
            "Epoch 7/25\n",
            "1236/1236 [==============================] - 5s 4ms/step - loss: 0.2642 - val_loss: 0.2635\n",
            "Epoch 8/25\n",
            "1236/1236 [==============================] - 5s 4ms/step - loss: 0.2636 - val_loss: 0.2625\n",
            "Epoch 9/25\n",
            "1236/1236 [==============================] - 5s 4ms/step - loss: 0.2628 - val_loss: 0.2627\n",
            "Epoch 10/25\n",
            "1236/1236 [==============================] - 5s 4ms/step - loss: 0.2624 - val_loss: 0.2625\n",
            "Epoch 11/25\n",
            "1236/1236 [==============================] - 5s 4ms/step - loss: 0.2624 - val_loss: 0.2621\n",
            "Epoch 12/25\n",
            "1236/1236 [==============================] - 5s 4ms/step - loss: 0.2617 - val_loss: 0.2620\n",
            "Epoch 13/25\n",
            "1236/1236 [==============================] - 5s 4ms/step - loss: 0.2614 - val_loss: 0.2621\n",
            "Epoch 14/25\n",
            "1236/1236 [==============================] - 5s 4ms/step - loss: 0.2613 - val_loss: 0.2618\n",
            "Epoch 15/25\n",
            "1236/1236 [==============================] - 5s 4ms/step - loss: 0.2611 - val_loss: 0.2619\n",
            "Epoch 16/25\n",
            "1236/1236 [==============================] - 6s 5ms/step - loss: 0.2606 - val_loss: 0.2619\n",
            "Epoch 17/25\n",
            "1236/1236 [==============================] - 5s 4ms/step - loss: 0.2608 - val_loss: 0.2619\n",
            "Epoch 18/25\n",
            "1236/1236 [==============================] - 5s 4ms/step - loss: 0.2602 - val_loss: 0.2621\n",
            "Epoch 19/25\n",
            "1236/1236 [==============================] - 5s 4ms/step - loss: 0.2600 - val_loss: 0.2615\n",
            "Epoch 20/25\n",
            "1236/1236 [==============================] - 5s 4ms/step - loss: 0.2599 - val_loss: 0.2619\n",
            "Epoch 21/25\n",
            "1236/1236 [==============================] - 5s 4ms/step - loss: 0.2598 - val_loss: 0.2615\n",
            "Epoch 22/25\n",
            "1236/1236 [==============================] - 5s 4ms/step - loss: 0.2596 - val_loss: 0.2616\n",
            "Epoch 23/25\n",
            "1236/1236 [==============================] - 5s 4ms/step - loss: 0.2596 - val_loss: 0.2613\n",
            "Epoch 24/25\n",
            "1236/1236 [==============================] - 5s 4ms/step - loss: 0.2595 - val_loss: 0.2614\n",
            "Epoch 25/25\n",
            "1236/1236 [==============================] - 5s 4ms/step - loss: 0.2593 - val_loss: 0.2614\n"
          ]
        },
        {
          "output_type": "execute_result",
          "data": {
            "text/plain": [
              "<keras.callbacks.History at 0x7fa7fa95c610>"
            ]
          },
          "metadata": {},
          "execution_count": 112
        }
      ]
    },
    {
      "cell_type": "code",
      "source": [
        "model.fit(x=X_train, y=y_train, epochs=25, batch_size=256,\n",
        "          validation_data=(X_test,y_test))"
      ],
      "metadata": {
        "colab": {
          "base_uri": "https://localhost:8080/"
        },
        "id": "HBqJkLEpWwyJ",
        "outputId": "3ba88348-ee2a-4237-be53-d6824f34b182"
      },
      "execution_count": 113,
      "outputs": [
        {
          "output_type": "stream",
          "name": "stdout",
          "text": [
            "Epoch 1/25\n",
            "1236/1236 [==============================] - 8s 7ms/step - loss: 0.2592 - val_loss: 0.2612\n",
            "Epoch 2/25\n",
            "1236/1236 [==============================] - 6s 5ms/step - loss: 0.2590 - val_loss: 0.2613\n",
            "Epoch 3/25\n",
            "1236/1236 [==============================] - 5s 4ms/step - loss: 0.2589 - val_loss: 0.2612\n",
            "Epoch 4/25\n",
            "1236/1236 [==============================] - 5s 4ms/step - loss: 0.2589 - val_loss: 0.2611\n",
            "Epoch 5/25\n",
            "1236/1236 [==============================] - 5s 4ms/step - loss: 0.2589 - val_loss: 0.2611\n",
            "Epoch 6/25\n",
            "1236/1236 [==============================] - 5s 4ms/step - loss: 0.2585 - val_loss: 0.2612\n",
            "Epoch 7/25\n",
            "1236/1236 [==============================] - 5s 4ms/step - loss: 0.2584 - val_loss: 0.2609\n",
            "Epoch 8/25\n",
            "1236/1236 [==============================] - 5s 4ms/step - loss: 0.2585 - val_loss: 0.2611\n",
            "Epoch 9/25\n",
            "1236/1236 [==============================] - 5s 4ms/step - loss: 0.2583 - val_loss: 0.2609\n",
            "Epoch 10/25\n",
            "1236/1236 [==============================] - 5s 4ms/step - loss: 0.2584 - val_loss: 0.2611\n",
            "Epoch 11/25\n",
            "1236/1236 [==============================] - 5s 4ms/step - loss: 0.2579 - val_loss: 0.2608\n",
            "Epoch 12/25\n",
            "1236/1236 [==============================] - 5s 4ms/step - loss: 0.2581 - val_loss: 0.2609\n",
            "Epoch 13/25\n",
            "1236/1236 [==============================] - 5s 4ms/step - loss: 0.2576 - val_loss: 0.2611\n",
            "Epoch 14/25\n",
            "1236/1236 [==============================] - 5s 4ms/step - loss: 0.2579 - val_loss: 0.2607\n",
            "Epoch 15/25\n",
            "1236/1236 [==============================] - 5s 4ms/step - loss: 0.2577 - val_loss: 0.2606\n",
            "Epoch 16/25\n",
            "1236/1236 [==============================] - 5s 4ms/step - loss: 0.2578 - val_loss: 0.2607\n",
            "Epoch 17/25\n",
            "1236/1236 [==============================] - 5s 4ms/step - loss: 0.2577 - val_loss: 0.2605\n",
            "Epoch 18/25\n",
            "1236/1236 [==============================] - 5s 4ms/step - loss: 0.2576 - val_loss: 0.2611\n",
            "Epoch 19/25\n",
            "1236/1236 [==============================] - 5s 4ms/step - loss: 0.2572 - val_loss: 0.2606\n",
            "Epoch 20/25\n",
            "1236/1236 [==============================] - 5s 4ms/step - loss: 0.2575 - val_loss: 0.2607\n",
            "Epoch 21/25\n",
            "1236/1236 [==============================] - 5s 4ms/step - loss: 0.2574 - val_loss: 0.2604\n",
            "Epoch 22/25\n",
            "1236/1236 [==============================] - 5s 4ms/step - loss: 0.2571 - val_loss: 0.2606\n",
            "Epoch 23/25\n",
            "1236/1236 [==============================] - 6s 4ms/step - loss: 0.2571 - val_loss: 0.2605\n",
            "Epoch 24/25\n",
            "1236/1236 [==============================] - 5s 4ms/step - loss: 0.2569 - val_loss: 0.2602\n",
            "Epoch 25/25\n",
            "1236/1236 [==============================] - 5s 4ms/step - loss: 0.2568 - val_loss: 0.2606\n"
          ]
        },
        {
          "output_type": "execute_result",
          "data": {
            "text/plain": [
              "<keras.callbacks.History at 0x7fa807eee9d0>"
            ]
          },
          "metadata": {},
          "execution_count": 113
        }
      ]
    },
    {
      "cell_type": "code",
      "source": [
        ""
      ],
      "metadata": {
        "id": "VRjR1szSXqIH"
      },
      "execution_count": null,
      "outputs": []
    }
  ]
}