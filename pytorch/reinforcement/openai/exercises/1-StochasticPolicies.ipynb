{
  "nbformat": 4,
  "nbformat_minor": 0,
  "metadata": {
    "colab": {
      "provenance": [],
      "authorship_tag": "ABX9TyPkdJM+DVkmhc5dCuSd7TnD",
      "include_colab_link": true
    },
    "kernelspec": {
      "name": "python3",
      "display_name": "Python 3"
    },
    "language_info": {
      "name": "python"
    }
  },
  "cells": [
    {
      "cell_type": "markdown",
      "metadata": {
        "id": "view-in-github",
        "colab_type": "text"
      },
      "source": [
        "<a href=\"https://colab.research.google.com/github/nimamt/machine_learning/blob/master/pytorch/reinforcement/openai/exercises/1-StochasticPolicies.ipynb\" target=\"_parent\"><img src=\"https://colab.research.google.com/assets/colab-badge.svg\" alt=\"Open In Colab\"/></a>"
      ]
    },
    {
      "cell_type": "markdown",
      "source": [
        "https://spinningup.openai.com/en/latest/spinningup/exercises.html"
      ],
      "metadata": {
        "id": "ZlY3XYfuPG2V"
      }
    },
    {
      "cell_type": "code",
      "source": [
        "import torch\n",
        "import numpy as np"
      ],
      "metadata": {
        "id": "hERRHj2sKmWA"
      },
      "execution_count": 1,
      "outputs": []
    },
    {
      "cell_type": "code",
      "execution_count": 31,
      "metadata": {
        "id": "Yg0d90J8pGpt"
      },
      "outputs": [],
      "source": [
        "def gaussian_likelihood(x, mu, log_std):\n",
        "    \"\"\"\n",
        "    Args:\n",
        "        x: Tensor with shape [batch, dim]\n",
        "        mu: Tensor with shape [batch, dim]\n",
        "        log_std: Tensor with shape [batch, dim] or [dim]\n",
        "    Returns:\n",
        "        Tensor with shape [batch]\n",
        "    \"\"\"\n",
        "\n",
        "    log_likelihood = -1/2*(torch.sum(((x-mu)**2)/(torch.exp(log_std)**2)+2*log_std, dim=1) + x.shape[1]*torch.tensor(np.log(2*np.pi),device=x.device))\n",
        "\n",
        "    return log_likelihood"
      ]
    },
    {
      "cell_type": "code",
      "source": [
        "EPS=1e-8\n",
        "\n",
        "def gaussian_likelihood_true(x, mu, log_std):\n",
        "    pre_sum = -0.5 * (((x-mu)/(torch.exp(log_std)+EPS))**2 + 2*log_std + np.log(2*np.pi))\n",
        "    return pre_sum.sum(axis=-1)"
      ],
      "metadata": {
        "id": "UYYkpBzJLhP2"
      },
      "execution_count": 32,
      "outputs": []
    },
    {
      "cell_type": "code",
      "source": [
        "batch_size = 32\n",
        "dim = 10\n",
        "\n",
        "x = torch.rand(batch_size, dim)\n",
        "mu = torch.rand(batch_size, dim)\n",
        "log_std = torch.rand(dim)\n",
        "\n",
        "your_gaussian_likelihood = gaussian_likelihood(x, mu, log_std)\n",
        "true_gaussian_likelihood = gaussian_likelihood_true(x, mu, log_std)\n",
        "\n",
        "your_result = your_gaussian_likelihood.detach().numpy()\n",
        "true_result = true_gaussian_likelihood.detach().numpy()\n",
        "\n",
        "correct = np.allclose(your_result, true_result)\n",
        "print(correct)"
      ],
      "metadata": {
        "colab": {
          "base_uri": "https://localhost:8080/"
        },
        "id": "kk_tJG-9LodJ",
        "outputId": "d42756ea-2733-45b5-9f66-172adfc84835"
      },
      "execution_count": 33,
      "outputs": [
        {
          "output_type": "stream",
          "name": "stdout",
          "text": [
            "True\n"
          ]
        }
      ]
    },
    {
      "cell_type": "code",
      "source": [
        "your_result"
      ],
      "metadata": {
        "colab": {
          "base_uri": "https://localhost:8080/"
        },
        "id": "qwUv2wnYLz-5",
        "outputId": "1110ad30-3b38-48a2-9e64-0b9e1db28517"
      },
      "execution_count": 34,
      "outputs": [
        {
          "output_type": "execute_result",
          "data": {
            "text/plain": [
              "array([-13.373911 , -13.318621 , -13.47784  , -13.519846 , -13.631084 ,\n",
              "       -13.605207 , -13.468987 , -13.204508 , -13.383261 , -13.412561 ,\n",
              "       -13.467747 , -13.483551 , -13.481225 , -13.451807 , -13.355108 ,\n",
              "       -13.447798 , -13.223532 , -13.496622 , -13.625277 , -13.262218 ,\n",
              "       -13.109934 , -13.382701 , -13.102776 , -13.3217945, -13.292037 ,\n",
              "       -13.158549 , -13.1187725, -13.402873 , -13.461729 , -13.326845 ,\n",
              "       -13.610241 , -13.266221 ], dtype=float32)"
            ]
          },
          "metadata": {},
          "execution_count": 34
        }
      ]
    },
    {
      "cell_type": "code",
      "source": [
        "true_result"
      ],
      "metadata": {
        "colab": {
          "base_uri": "https://localhost:8080/"
        },
        "id": "GvIfoRtONnwu",
        "outputId": "87247497-d9bb-4aa3-828c-a58851e0781f"
      },
      "execution_count": 35,
      "outputs": [
        {
          "output_type": "execute_result",
          "data": {
            "text/plain": [
              "array([-13.37391  , -13.318619 , -13.477841 , -13.519848 , -13.631084 ,\n",
              "       -13.605206 , -13.468988 , -13.204508 , -13.383261 , -13.412561 ,\n",
              "       -13.467747 , -13.483549 , -13.481224 , -13.451807 , -13.355106 ,\n",
              "       -13.447798 , -13.223532 , -13.496623 , -13.625277 , -13.262217 ,\n",
              "       -13.109935 , -13.382699 , -13.1027775, -13.321793 , -13.292037 ,\n",
              "       -13.15855  , -13.1187725, -13.402872 , -13.461728 , -13.326845 ,\n",
              "       -13.610241 , -13.26622  ], dtype=float32)"
            ]
          },
          "metadata": {},
          "execution_count": 35
        }
      ]
    },
    {
      "cell_type": "code",
      "source": [],
      "metadata": {
        "id": "PuTz7EUFOILr"
      },
      "execution_count": 30,
      "outputs": []
    }
  ]
}