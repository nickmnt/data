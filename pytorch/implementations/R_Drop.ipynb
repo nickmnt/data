{
  "nbformat": 4,
  "nbformat_minor": 0,
  "metadata": {
    "colab": {
      "provenance": [],
      "collapsed_sections": [],
      "authorship_tag": "ABX9TyOA7KXHcIAgavrupAIEkx4r",
      "include_colab_link": true
    },
    "kernelspec": {
      "name": "python3",
      "display_name": "Python 3"
    },
    "language_info": {
      "name": "python"
    }
  },
  "cells": [
    {
      "cell_type": "markdown",
      "metadata": {
        "id": "view-in-github",
        "colab_type": "text"
      },
      "source": [
        "<a href=\"https://colab.research.google.com/github/nimamt/machine_learning/blob/master/pytorch/implementations/R_Drop.ipynb\" target=\"_parent\"><img src=\"https://colab.research.google.com/assets/colab-badge.svg\" alt=\"Open In Colab\"/></a>"
      ]
    },
    {
      "cell_type": "markdown",
      "source": [
        "https://github.com/dropreg/R-Drop"
      ],
      "metadata": {
        "id": "CjyD2wFKqRkH"
      }
    },
    {
      "cell_type": "markdown",
      "source": [
        "R-Drop is an almost universal method for supervised tasks and even performs well for semi-supervised setting. For other settings and tasks that are not mentioned in our paper, feel free to try the following piece of code."
      ],
      "metadata": {
        "id": "nc5cYeaWqSqH"
      }
    },
    {
      "cell_type": "code",
      "source": [
        "import torch.nn.functional as F\n",
        "\n",
        "# define your task model, which outputs the classifier logits\n",
        "model = TaskModel()\n",
        "\n",
        "def compute_kl_loss(self, p, q, pad_mask=None):\n",
        "    \n",
        "    p_loss = F.kl_div(F.log_softmax(p, dim=-1), F.softmax(q, dim=-1), reduction='none')\n",
        "    q_loss = F.kl_div(F.log_softmax(q, dim=-1), F.softmax(p, dim=-1), reduction='none')\n",
        "    \n",
        "    # pad_mask is for seq-level tasks\n",
        "    if pad_mask is not None:\n",
        "        p_loss.masked_fill_(pad_mask, 0.)\n",
        "        q_loss.masked_fill_(pad_mask, 0.)\n",
        "\n",
        "    # You can choose whether to use function \"sum\" and \"mean\" depending on your task\n",
        "    p_loss = p_loss.sum()\n",
        "    q_loss = q_loss.sum()\n",
        "\n",
        "    loss = (p_loss + q_loss) / 2\n",
        "    return loss\n",
        "\n",
        "# keep dropout and forward twice\n",
        "logits = model(x)\n",
        "\n",
        "logits2 = model(x)\n",
        "\n",
        "# cross entropy loss for classifier\n",
        "ce_loss = 0.5 * (cross_entropy_loss(logits, label) + cross_entropy_loss(logits2, label))\n",
        "\n",
        "kl_loss = compute_kl_loss(logits, logits2)\n",
        "\n",
        "# carefully choose hyper-parameters\n",
        "loss = ce_loss + α * kl_loss"
      ],
      "metadata": {
        "id": "fhbFCmHrqbwi"
      },
      "execution_count": null,
      "outputs": []
    },
    {
      "cell_type": "markdown",
      "source": [
        "The code below is for a `VisionTransformer` but the logic for the R-Drop paper is pretty clear in it. There is huge similarity between the below code and the one above.  \n",
        "https://github.com/dropreg/R-Drop/blob/3d97565595747f3b3d9c4701cb2fb824a9139913/vit_src/models/modeling.py#L265"
      ],
      "metadata": {
        "id": "Nv-P-nrFz5Q0"
      }
    },
    {
      "cell_type": "code",
      "source": [
        "def forward(self, x, labels=None):\n",
        "        x1, attn_weights1,hidden_state1 = self.transformer(x)\n",
        "\n",
        "        logits = self.head(x1[:, 0])\n",
        "\n",
        "        if labels is not None:\n",
        "            loss_fct = CrossEntropyLoss()\n",
        "            loss = loss_fct(logits.view(-1, self.num_classes), labels.view(-1))\n",
        "\n",
        "            x2, attn_weights2,hidden_state2 = self.transformer(x)\n",
        "            newlogits = self.head(x2[:, 0])\n",
        "            loss2 = loss_fct(newlogits.view(-1, self.num_classes), labels.view(-1))\n",
        "            loss+=loss2\n",
        "            \n",
        "            \n",
        "            p = torch.log_softmax(logits.view(-1, self.num_classes), dim=-1)\n",
        "            p_tec = torch.softmax(logits.view(-1, self.num_classes), dim=-1)\n",
        "            q = torch.log_softmax(newlogits.view(-1, self.num_classes), dim=-1)\n",
        "            q_tec = torch.softmax(newlogits.view(-1, self.num_classes), dim=-1)\n",
        "            kl_loss = torch.nn.functional.kl_div(p, q_tec, reduction='none').sum()\n",
        "            reverse_kl_loss = torch.nn.functional.kl_div(q, p_tec, reduction='none').sum()\n",
        "\n",
        "\n",
        "            loss += self.alpha * (kl_loss + reverse_kl_loss)\n",
        "\n",
        "            return loss\n",
        "        else:\n",
        "            return logits, attn_weights1"
      ],
      "metadata": {
        "id": "tOnYYRE90K_k"
      },
      "execution_count": null,
      "outputs": []
    }
  ]
}