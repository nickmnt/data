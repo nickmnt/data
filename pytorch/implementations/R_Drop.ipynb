{
  "nbformat": 4,
  "nbformat_minor": 0,
  "metadata": {
    "colab": {
      "provenance": [],
      "collapsed_sections": [],
      "authorship_tag": "ABX9TyPCbCW56hHcung4BCh30fEf",
      "include_colab_link": true
    },
    "kernelspec": {
      "name": "python3",
      "display_name": "Python 3"
    },
    "language_info": {
      "name": "python"
    }
  },
  "cells": [
    {
      "cell_type": "markdown",
      "metadata": {
        "id": "view-in-github",
        "colab_type": "text"
      },
      "source": [
        "<a href=\"https://colab.research.google.com/github/nimamt/machine_learning/blob/master/pytorch/implementations/R_Drop.ipynb\" target=\"_parent\"><img src=\"https://colab.research.google.com/assets/colab-badge.svg\" alt=\"Open In Colab\"/></a>"
      ]
    },
    {
      "cell_type": "markdown",
      "source": [
        "https://github.com/dropreg/R-Drop"
      ],
      "metadata": {
        "id": "CjyD2wFKqRkH"
      }
    },
    {
      "cell_type": "markdown",
      "source": [
        "R-Drop is an almost universal method for supervised tasks and even performs well for semi-supervised setting. For other settings and tasks that are not mentioned in our paper, feel free to try the following piece of code."
      ],
      "metadata": {
        "id": "nc5cYeaWqSqH"
      }
    },
    {
      "cell_type": "code",
      "source": [
        "import torch.nn.functional as F\n",
        "\n",
        "# define your task model, which outputs the classifier logits\n",
        "model = TaskModel()\n",
        "\n",
        "def compute_kl_loss(self, p, q, pad_mask=None):\n",
        "    \n",
        "    p_loss = F.kl_div(F.log_softmax(p, dim=-1), F.softmax(q, dim=-1), reduction='none')\n",
        "    q_loss = F.kl_div(F.log_softmax(q, dim=-1), F.softmax(p, dim=-1), reduction='none')\n",
        "    \n",
        "    # pad_mask is for seq-level tasks\n",
        "    if pad_mask is not None:\n",
        "        p_loss.masked_fill_(pad_mask, 0.)\n",
        "        q_loss.masked_fill_(pad_mask, 0.)\n",
        "\n",
        "    # You can choose whether to use function \"sum\" and \"mean\" depending on your task\n",
        "    p_loss = p_loss.sum()\n",
        "    q_loss = q_loss.sum()\n",
        "\n",
        "    loss = (p_loss + q_loss) / 2\n",
        "    return loss\n",
        "\n",
        "# keep dropout and forward twice\n",
        "logits = model(x)\n",
        "\n",
        "logits2 = model(x)\n",
        "\n",
        "# cross entropy loss for classifier\n",
        "ce_loss = 0.5 * (cross_entropy_loss(logits, label) + cross_entropy_loss(logits2, label))\n",
        "\n",
        "kl_loss = compute_kl_loss(logits, logits2)\n",
        "\n",
        "# carefully choose hyper-parameters\n",
        "loss = ce_loss + α * kl_loss"
      ],
      "metadata": {
        "id": "fhbFCmHrqbwi"
      },
      "execution_count": null,
      "outputs": []
    }
  ]
}