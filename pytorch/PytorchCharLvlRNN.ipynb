{
  "nbformat": 4,
  "nbformat_minor": 0,
  "metadata": {
    "colab": {
      "provenance": [],
      "collapsed_sections": [],
      "mount_file_id": "14XbgwfJFuP9uIrn1A6p1uiXRV1GzeDz_",
      "authorship_tag": "ABX9TyP2mLxra3LNRO8O8NeuzB+Q",
      "include_colab_link": true
    },
    "kernelspec": {
      "name": "python3",
      "display_name": "Python 3"
    },
    "language_info": {
      "name": "python"
    }
  },
  "cells": [
    {
      "cell_type": "markdown",
      "metadata": {
        "id": "view-in-github",
        "colab_type": "text"
      },
      "source": [
        "<a href=\"https://colab.research.google.com/github/nimamt/machine_learning/blob/master/pytorch/PytorchCharLvlRNN.ipynb\" target=\"_parent\"><img src=\"https://colab.research.google.com/assets/colab-badge.svg\" alt=\"Open In Colab\"/></a>"
      ]
    },
    {
      "cell_type": "markdown",
      "source": [
        "https://pytorch.org/tutorials/intermediate/char_rnn_classification_tutorial.html\n",
        "\n",
        "https://karpathy.github.io/2015/05/21/rnn-effectiveness/"
      ],
      "metadata": {
        "id": "LcECYHZC8WtX"
      }
    },
    {
      "cell_type": "code",
      "source": [
        "base_path = \"/content/drive/MyDrive/PyTorchRNNData/\""
      ],
      "metadata": {
        "id": "eU_3nmjNNKnj"
      },
      "execution_count": 9,
      "outputs": []
    },
    {
      "cell_type": "markdown",
      "source": [
        "Included in the data/names directory are 18 text files named as “[Language].txt”. Each file contains a **bunch of names**, one name per line, mostly romanized (but we still need to convert from Unicode to ASCII).  \n",
        "We’ll end up with a dictionary of lists of names per language, {language: [names ...]}. The generic variables “category” and “line” (for language and name in our case) are used for later extensibility."
      ],
      "metadata": {
        "id": "CxbNFkeRPwfm"
      }
    },
    {
      "cell_type": "code",
      "execution_count": 15,
      "metadata": {
        "colab": {
          "base_uri": "https://localhost:8080/"
        },
        "id": "OwqdPGGT8U5o",
        "outputId": "3c4ae4f4-defa-42b6-90e9-3121c28d557d"
      },
      "outputs": [
        {
          "output_type": "stream",
          "name": "stdout",
          "text": [
            "['/content/drive/MyDrive/PyTorchRNNData/data/names/French.txt', '/content/drive/MyDrive/PyTorchRNNData/data/names/Scottish.txt', '/content/drive/MyDrive/PyTorchRNNData/data/names/Korean.txt', '/content/drive/MyDrive/PyTorchRNNData/data/names/Italian.txt', '/content/drive/MyDrive/PyTorchRNNData/data/names/Irish.txt', '/content/drive/MyDrive/PyTorchRNNData/data/names/Russian.txt', '/content/drive/MyDrive/PyTorchRNNData/data/names/Dutch.txt', '/content/drive/MyDrive/PyTorchRNNData/data/names/Chinese.txt', '/content/drive/MyDrive/PyTorchRNNData/data/names/Vietnamese.txt', '/content/drive/MyDrive/PyTorchRNNData/data/names/Polish.txt', '/content/drive/MyDrive/PyTorchRNNData/data/names/Greek.txt', '/content/drive/MyDrive/PyTorchRNNData/data/names/English.txt', '/content/drive/MyDrive/PyTorchRNNData/data/names/Japanese.txt', '/content/drive/MyDrive/PyTorchRNNData/data/names/Spanish.txt', '/content/drive/MyDrive/PyTorchRNNData/data/names/Czech.txt', '/content/drive/MyDrive/PyTorchRNNData/data/names/Arabic.txt', '/content/drive/MyDrive/PyTorchRNNData/data/names/Portuguese.txt', '/content/drive/MyDrive/PyTorchRNNData/data/names/German.txt']\n",
            "Slusarski\n",
            "French\n",
            "Scottish\n",
            "Korean\n",
            "Italian\n",
            "Irish\n",
            "Russian\n",
            "Dutch\n",
            "Chinese\n",
            "Vietnamese\n",
            "Polish\n",
            "Greek\n",
            "English\n",
            "Japanese\n",
            "Spanish\n",
            "Czech\n",
            "Arabic\n",
            "Portuguese\n",
            "German\n"
          ]
        }
      ],
      "source": [
        "from __future__ import unicode_literals, print_function, division\n",
        "from io import open\n",
        "import glob\n",
        "import os\n",
        "\n",
        "def findFiles(path): return glob.glob(path)\n",
        "\n",
        "print(findFiles(base_path + 'data/names/*.txt'))\n",
        "\n",
        "import unicodedata\n",
        "import string\n",
        "\n",
        "all_letters = string.ascii_letters + \" .,;'\"\n",
        "n_letters = len(all_letters)\n",
        "\n",
        "# Turn a Unicode string to plain ASCII, thanks to https://stackoverflow.com/a/518232/2809427\n",
        "def unicodeToAscii(s):\n",
        "    return ''.join(\n",
        "        c for c in unicodedata.normalize('NFD', s)\n",
        "        if unicodedata.category(c) != 'Mn'\n",
        "        and c in all_letters\n",
        "    )\n",
        "\n",
        "print(unicodeToAscii('Ślusàrski'))\n",
        "\n",
        "# Build the category_lines dictionary, a list of names per language\n",
        "category_lines = {}\n",
        "all_categories = []\n",
        "\n",
        "# Read a file and split into lines\n",
        "def readLines(filename):\n",
        "    lines = open(filename, encoding='utf-8').read().strip().split('\\n')\n",
        "    return [unicodeToAscii(line) for line in lines]\n",
        "\n",
        "for filename in findFiles(base_path + 'data/names/*.txt'):\n",
        "    category = os.path.splitext(os.path.basename(filename))[0]\n",
        "    print(category)\n",
        "    all_categories.append(category)\n",
        "    lines = readLines(filename)\n",
        "    category_lines[category] = lines\n",
        "\n",
        "n_categories = len(all_categories)"
      ]
    },
    {
      "cell_type": "code",
      "source": [
        "print(category_lines['Italian'][:5])"
      ],
      "metadata": {
        "colab": {
          "base_uri": "https://localhost:8080/"
        },
        "id": "CMpmkzatPraI",
        "outputId": "da4cb70f-0ff5-42fe-dfe2-422ffde628b0"
      },
      "execution_count": 17,
      "outputs": [
        {
          "output_type": "stream",
          "name": "stdout",
          "text": [
            "['Abandonato', 'Abatangelo', 'Abatantuono', 'Abate', 'Abategiovanni']\n"
          ]
        }
      ]
    },
    {
      "cell_type": "markdown",
      "source": [
        "Turning Names into Tensors\n",
        "Now that we have all the names organized, we need to turn them into Tensors to make any use of them.\n",
        "\n",
        "To represent a single letter, we use a “one-hot vector” of size <1 x n_letters>. A one-hot vector is filled with 0s except for a 1 at index of the current letter, e.g. \"b\" = <0 1 0 0 0 ...>.\n",
        "\n",
        "To make a word we join a bunch of those into a 2D matrix <line_length x 1 x n_letters>.\n",
        "\n",
        "That **extra 1 dimension** is because PyTorch assumes everything is in batches - we’re just using a **batch size of 1** here."
      ],
      "metadata": {
        "id": "cL7fYCCXSKPF"
      }
    },
    {
      "cell_type": "code",
      "source": [
        "import torch\n",
        "\n",
        "# Find letter index from all_letters, e.g. \"a\" = 0\n",
        "def letterToIndex(letter):\n",
        "    return all_letters.find(letter)\n",
        "\n",
        "# Just for demonstration, turn a letter into a <1 x n_letters> Tensor\n",
        "def letterToTensor(letter):\n",
        "    tensor = torch.zeros(1, n_letters)\n",
        "    tensor[0][letterToIndex(letter)] = 1\n",
        "    return tensor\n",
        "\n",
        "# Turn a line into a <line_length x 1 x n_letters>,\n",
        "# or an array of one-hot letter vectors\n",
        "def lineToTensor(line):\n",
        "    tensor = torch.zeros(len(line), 1, n_letters)\n",
        "    for li, letter in enumerate(line):\n",
        "        tensor[li][0][letterToIndex(letter)] = 1\n",
        "    return tensor\n",
        "\n",
        "print(letterToTensor('J'))\n",
        "\n",
        "print(lineToTensor('Jones').size()) # No. of Chars * 1 (batch_size) * \n",
        "                                    # char_vocab_size"
      ],
      "metadata": {
        "colab": {
          "base_uri": "https://localhost:8080/"
        },
        "id": "FOEg-rmzQH4B",
        "outputId": "ab4f605c-371d-475d-9c58-5ace532bf7ad"
      },
      "execution_count": 18,
      "outputs": [
        {
          "output_type": "stream",
          "name": "stdout",
          "text": [
            "tensor([[0., 0., 0., 0., 0., 0., 0., 0., 0., 0., 0., 0., 0., 0., 0., 0., 0., 0.,\n",
            "         0., 0., 0., 0., 0., 0., 0., 0., 0., 0., 0., 0., 0., 0., 0., 0., 0., 1.,\n",
            "         0., 0., 0., 0., 0., 0., 0., 0., 0., 0., 0., 0., 0., 0., 0., 0., 0., 0.,\n",
            "         0., 0., 0.]])\n",
            "torch.Size([5, 1, 57])\n"
          ]
        }
      ]
    },
    {
      "cell_type": "markdown",
      "source": [
        "**Creating the Network**  \n",
        "Before **autograd**, creating a recurrent neural network in Torch involved cloning the parameters of a layer over several timesteps. The layers held hidden state and gradients which are now entirely handled by the graph itself. This means you can implement a RNN in a very “pure” way, as regular feed-forward layers.\n",
        "\n",
        "This RNN module (mostly copied from the PyTorch for Torch users tutorial) is just 2 linear layers which operate on an input and hidden state, with a **LogSoftmax** layer after the output.\n",
        "  \n",
        "the PyTorch for Torch users tutorial\n",
        "https://pytorch.org/tutorials/beginner/former_torchies/nn_tutorial.html#example-2-recurrent-net"
      ],
      "metadata": {
        "id": "aSs8pMiFUJOJ"
      }
    },
    {
      "cell_type": "code",
      "source": [
        "import torch.nn as nn\n",
        "\n",
        "class RNN(nn.Module):\n",
        "    def __init__(self, input_size, hidden_size, output_size):\n",
        "        super(RNN, self).__init__()\n",
        "\n",
        "        self.hidden_size = hidden_size\n",
        "\n",
        "        self.i2h = nn.Linear(input_size + hidden_size, hidden_size)\n",
        "        self.i2o = nn.Linear(input_size + hidden_size, output_size)\n",
        "        self.softmax = nn.LogSoftmax(dim=1)\n",
        "\n",
        "    def forward(self, input, hidden):\n",
        "        combined = torch.cat((input, hidden), 1)\n",
        "        hidden = self.i2h(combined)\n",
        "        output = self.i2o(combined)\n",
        "        output = self.softmax(output)\n",
        "        return output, hidden\n",
        "\n",
        "    def initHidden(self):\n",
        "        return torch.zeros(1, self.hidden_size)\n",
        "\n",
        "n_hidden = 128\n",
        "rnn = RNN(n_letters, n_hidden, n_categories)"
      ],
      "metadata": {
        "id": "-Oquz65JTijw"
      },
      "execution_count": 19,
      "outputs": []
    },
    {
      "cell_type": "code",
      "source": [
        "input = letterToTensor('A')\n",
        "hidden = torch.zeros(1, n_hidden)\n",
        "\n",
        "output, next_hidden = rnn(input, hidden)"
      ],
      "metadata": {
        "id": "1hwvaryoVac3"
      },
      "execution_count": 20,
      "outputs": []
    },
    {
      "cell_type": "markdown",
      "source": [
        "For the sake of **efficiency** we don’t want to be creating a new Tensor for every step, so we will use **lineToTensor** instead of letterToTensor and use slices. This could be **further optimized by pre-computing batches of Tensors**."
      ],
      "metadata": {
        "id": "lAECZgkPWG9F"
      }
    },
    {
      "cell_type": "code",
      "source": [
        "input = lineToTensor('Albert')\n",
        "hidden = torch.zeros(1, n_hidden)\n",
        "\n",
        "output, next_hidden = rnn(input[0], hidden)\n",
        "print(output)"
      ],
      "metadata": {
        "colab": {
          "base_uri": "https://localhost:8080/"
        },
        "id": "viF-awRMVxFo",
        "outputId": "dc55b2d2-c6ee-4a5c-de90-ab4225c63e61"
      },
      "execution_count": 21,
      "outputs": [
        {
          "output_type": "stream",
          "name": "stdout",
          "text": [
            "tensor([[-2.9697, -2.9177, -2.8803, -2.8745, -2.8617, -2.9582, -2.8889, -2.8797,\n",
            "         -2.8306, -2.9083, -2.9527, -2.9027, -2.8650, -2.7936, -2.8673, -2.8925,\n",
            "         -2.9509, -2.8508]], grad_fn=<LogSoftmaxBackward0>)\n"
          ]
        }
      ]
    },
    {
      "cell_type": "markdown",
      "source": [
        "Before going into training we should make a few helper functions. The first is to **interpret the output of the network**, which we know to be a likelihood of each category. We can use `Tensor.topk` to **get the index of the greatest value**:"
      ],
      "metadata": {
        "id": "UAdQmHTzWmXI"
      }
    },
    {
      "cell_type": "code",
      "source": [
        "def categoryFromOutput(output):\n",
        "    top_n, top_i = output.topk(1)\n",
        "    category_i = top_i[0].item()\n",
        "    return all_categories[category_i], category_i\n",
        "\n",
        "print(categoryFromOutput(output))"
      ],
      "metadata": {
        "colab": {
          "base_uri": "https://localhost:8080/"
        },
        "id": "mIYEbW8gWGjZ",
        "outputId": "81112b4d-25d6-4af0-ba19-43be4bb5a165"
      },
      "execution_count": 22,
      "outputs": [
        {
          "output_type": "stream",
          "name": "stdout",
          "text": [
            "('Spanish', 13)\n"
          ]
        }
      ]
    },
    {
      "cell_type": "code",
      "source": [
        "import random\n",
        "\n",
        "def randomChoice(l):\n",
        "    return l[random.randint(0, len(l) - 1)]\n",
        "\n",
        "def randomTrainingExample():\n",
        "    category = randomChoice(all_categories)\n",
        "    line = randomChoice(category_lines[category])\n",
        "    category_tensor = torch.tensor([all_categories.index(category)], dtype=torch.long)\n",
        "    line_tensor = lineToTensor(line)\n",
        "    return category, line, category_tensor, line_tensor\n",
        "\n",
        "for i in range(10):\n",
        "    category, line, category_tensor, line_tensor = randomTrainingExample()\n",
        "    print('category =', category, '/ line =', line)"
      ],
      "metadata": {
        "colab": {
          "base_uri": "https://localhost:8080/"
        },
        "id": "Z5QsopESWiel",
        "outputId": "94c77cfe-6f57-4d15-9db1-9b38966871dc"
      },
      "execution_count": 23,
      "outputs": [
        {
          "output_type": "stream",
          "name": "stdout",
          "text": [
            "category = Spanish / line = Puga\n",
            "category = French / line = Deniaud\n",
            "category = German / line = Kaspar\n",
            "category = Greek / line = Sortras\n",
            "category = Vietnamese / line = Thai\n",
            "category = Japanese / line = Kondo\n",
            "category = Japanese / line = Shintaro\n",
            "category = Czech / line = Janick\n",
            "category = Greek / line = Anetakis\n",
            "category = Portuguese / line = Abreu\n"
          ]
        }
      ]
    },
    {
      "cell_type": "markdown",
      "source": [
        "Now all it takes to train this network is show it a bunch of examples, **have it make guesses**, and **tell it if it’s wrong**.\n",
        "\n",
        "For the loss function **nn.NLLLoss** is appropriate, since the last layer of the RNN is **nn.LogSoftmax**.    \n",
        "  \n",
        "  \n",
        "  \n",
        "    \n",
        "\n",
        "**What is the difference between softmax and logsoftmax in pytorch?**\n",
        "\n",
        "In case of the Softmax Function, it is applied to an n-dim input tensor in which it will be rescaling them so that the elements of the output n-dim tensor lie in the range [0,1] and sum to 1. The function will return the similar shape and dimension as the input with the values in range[0,1]. The Softmax function is defined as:\n",
        "`Softmax(xi)= exp(xi) / ∑ j exp(xj)`\n",
        "In the case of Logsoftmax function which is nothing but **the log of Softmax** function. It will return the same shape and dimension as the input with the values in the range [-inf, 0]. The Logsoftmax function is defined as:\n",
        "`LogSoftmax(xi) = log (exp(xi) / ∑ j exp(xj))`\n",
        "\n",
        "**What loss function should I use?**  \n",
        "https://stats.stackexchange.com/questions/436766/cross-entropy-with-log-softmax-activation\n",
        "Obviously, working on the log scale, or the logit scale, requires making algebraic adjustments so that the loss is also on the appropriate scale. So if you use identity activations in the final layer, you use `CrossEntropyLoss`. If you use log_softmax in the final layer, you use `NLLLoss`."
      ],
      "metadata": {
        "id": "NAy0VQktXHzE"
      }
    },
    {
      "cell_type": "code",
      "source": [
        "criterion = nn.NLLLoss()"
      ],
      "metadata": {
        "id": "fQHnotfRW_1k"
      },
      "execution_count": 25,
      "outputs": []
    },
    {
      "cell_type": "markdown",
      "source": [
        "Each loop of training will:\n",
        "\n",
        "*   Create input and target tensors\n",
        "\n",
        "*   Create a zeroed initial hidden state\n",
        "\n",
        "*   Read each letter in and\n",
        "\n",
        "*   Keep hidden state for next letter\n",
        "\n",
        "*   Compare final output to target\n",
        "\n",
        "*   Back-propagate\n",
        "\n",
        "*   Return the output and loss"
      ],
      "metadata": {
        "id": "mvDZouJ5YQjr"
      }
    },
    {
      "cell_type": "code",
      "source": [
        "learning_rate = 0.005 # If you set this too high, it might explode. If too low, it might not learn\n",
        "\n",
        "def train(category_tensor, line_tensor):\n",
        "    hidden = rnn.initHidden()\n",
        "\n",
        "    rnn.zero_grad()\n",
        "\n",
        "    for i in range(line_tensor.size()[0]):\n",
        "        output, hidden = rnn(line_tensor[i], hidden)\n",
        "\n",
        "    loss = criterion(output, category_tensor)\n",
        "    loss.backward()\n",
        "\n",
        "    # Add parameters' gradients to their values, multiplied by learning rate\n",
        "    for p in rnn.parameters():\n",
        "        p.data.add_(p.grad.data, alpha=-learning_rate)\n",
        "\n",
        "    return output, loss.item()"
      ],
      "metadata": {
        "id": "GtlMfYESYItI"
      },
      "execution_count": 27,
      "outputs": []
    },
    {
      "cell_type": "code",
      "source": [
        "import time\n",
        "import math\n",
        "\n",
        "n_iters = 100000\n",
        "print_every = 5000\n",
        "plot_every = 1000\n",
        "\n",
        "\n",
        "\n",
        "# Keep track of losses for plotting\n",
        "current_loss = 0\n",
        "all_losses = []\n",
        "\n",
        "def timeSince(since):\n",
        "    now = time.time()\n",
        "    s = now - since\n",
        "    m = math.floor(s / 60)\n",
        "    s -= m * 60\n",
        "    return '%dm %ds' % (m, s)\n",
        "\n",
        "start = time.time()\n",
        "\n",
        "for iter in range(1, n_iters + 1):\n",
        "    category, line, category_tensor, line_tensor = randomTrainingExample()\n",
        "    output, loss = train(category_tensor, line_tensor)\n",
        "    current_loss += loss\n",
        "\n",
        "    # Print iter number, loss, name and guess\n",
        "    if iter % print_every == 0:\n",
        "        guess, guess_i = categoryFromOutput(output)\n",
        "        correct = '✓' if guess == category else '✗ (%s)' % category\n",
        "        print('%d %d%% (%s) %.4f %s / %s %s' % (iter, iter / n_iters * 100, timeSince(start), loss, line, guess, correct))\n",
        "\n",
        "    # Add current loss avg to list of losses\n",
        "    if iter % plot_every == 0:\n",
        "        all_losses.append(current_loss / plot_every)\n",
        "        current_loss = 0"
      ],
      "metadata": {
        "colab": {
          "base_uri": "https://localhost:8080/"
        },
        "id": "GaMFKJrMYjjl",
        "outputId": "96c821e5-835c-47a9-f7ba-7b1adb2583a6"
      },
      "execution_count": 28,
      "outputs": [
        {
          "output_type": "stream",
          "name": "stdout",
          "text": [
            "5000 5% (0m 3s) 2.8209 Noyes / Greek ✗ (English)\n",
            "10000 10% (0m 6s) 1.1715 Duan / Chinese ✓\n",
            "15000 15% (0m 10s) 2.5985 Bouchard / Japanese ✗ (French)\n",
            "20000 20% (0m 13s) 3.2339 Burns / Portuguese ✗ (Scottish)\n",
            "25000 25% (0m 16s) 0.9006 Truong / Vietnamese ✓\n",
            "30000 30% (0m 20s) 2.6086 Gass / Greek ✗ (German)\n",
            "35000 35% (0m 23s) 0.4428 Zhuchenko / Russian ✓\n",
            "40000 40% (0m 26s) 0.1883 Toselli / Italian ✓\n",
            "45000 45% (0m 30s) 2.4722 Philips / Greek ✗ (Dutch)\n",
            "50000 50% (0m 33s) 2.0585 D'cruz / Spanish ✗ (Portuguese)\n",
            "55000 55% (0m 36s) 1.6168 Gwang  / Korean ✓\n",
            "60000 60% (0m 39s) 1.8240 Gutierrez / Czech ✗ (Spanish)\n",
            "65000 65% (0m 43s) 2.4557 Deschamps / Italian ✗ (French)\n",
            "70000 70% (0m 46s) 0.1519 Reinders / Dutch ✓\n",
            "75000 75% (0m 52s) 1.3671 Gil / Chinese ✗ (Korean)\n",
            "80000 80% (0m 57s) 0.9457 Mateus / Portuguese ✓\n",
            "85000 85% (1m 0s) 2.1581 Maria / Spanish ✗ (Portuguese)\n",
            "90000 90% (1m 4s) 0.4369 Kwang  / Korean ✓\n",
            "95000 95% (1m 7s) 0.8979 Black / Scottish ✓\n",
            "100000 100% (1m 10s) 0.3223 Campos / Portuguese ✓\n"
          ]
        }
      ]
    },
    {
      "cell_type": "code",
      "source": [
        "import matplotlib.pyplot as plt\n",
        "import matplotlib.ticker as ticker\n",
        "\n",
        "plt.figure()\n",
        "plt.plot(all_losses)"
      ],
      "metadata": {
        "colab": {
          "base_uri": "https://localhost:8080/",
          "height": 282
        },
        "id": "itws2n36ZANK",
        "outputId": "91c0870e-2b1c-4fb2-8240-782fa1b24ebf"
      },
      "execution_count": 29,
      "outputs": [
        {
          "output_type": "execute_result",
          "data": {
            "text/plain": [
              "[<matplotlib.lines.Line2D at 0x7f704e3ed090>]"
            ]
          },
          "metadata": {},
          "execution_count": 29
        },
        {
          "output_type": "display_data",
          "data": {
            "text/plain": [
              "<Figure size 432x288 with 1 Axes>"
            ],
            "image/png": "[encoded data removed]"
          },
          "metadata": {
            "needs_background": "light"
          }
        }
      ]
    },
    {
      "cell_type": "markdown",
      "source": [
        "To see how well the network performs on different categories, we will create a confusion matrix, indicating for every actual language (rows) which language the network guesses (columns). To calculate the confusion matrix a bunch of samples are run through the network with evaluate(), which is the same as train() minus the backprop."
      ],
      "metadata": {
        "id": "lr0kzlTPZWOF"
      }
    },
    {
      "cell_type": "code",
      "source": [
        "# Keep track of correct guesses in a confusion matrix\n",
        "confusion = torch.zeros(n_categories, n_categories)\n",
        "n_confusion = 10000\n",
        "\n",
        "# Just return an output given a line\n",
        "def evaluate(line_tensor):\n",
        "    hidden = rnn.initHidden()\n",
        "\n",
        "    for i in range(line_tensor.size()[0]):\n",
        "        output, hidden = rnn(line_tensor[i], hidden)\n",
        "\n",
        "    return output\n",
        "\n",
        "# Go through a bunch of examples and record which are correctly guessed\n",
        "for i in range(n_confusion):\n",
        "    category, line, category_tensor, line_tensor = randomTrainingExample()\n",
        "    output = evaluate(line_tensor)\n",
        "    guess, guess_i = categoryFromOutput(output)\n",
        "    category_i = all_categories.index(category)\n",
        "    confusion[category_i][guess_i] += 1\n",
        "\n",
        "# Normalize by dividing every row by its sum\n",
        "for i in range(n_categories):\n",
        "    confusion[i] = confusion[i] / confusion[i].sum()\n",
        "\n",
        "# Set up plot\n",
        "fig = plt.figure()\n",
        "ax = fig.add_subplot(111)\n",
        "cax = ax.matshow(confusion.numpy())\n",
        "fig.colorbar(cax)\n",
        "\n",
        "# Set up axes\n",
        "ax.set_xticklabels([''] + all_categories, rotation=90)\n",
        "ax.set_yticklabels([''] + all_categories)\n",
        "\n",
        "# Force label at every tick\n",
        "ax.xaxis.set_major_locator(ticker.MultipleLocator(1))\n",
        "ax.yaxis.set_major_locator(ticker.MultipleLocator(1))\n",
        "\n",
        "# sphinx_gallery_thumbnail_number = 2\n",
        "plt.show()"
      ],
      "metadata": {
        "colab": {
          "base_uri": "https://localhost:8080/",
          "height": 320
        },
        "id": "UK6btsmpZSD4",
        "outputId": "eba471c5-98b7-486c-c6e6-a3eeed533840"
      },
      "execution_count": 30,
      "outputs": [
        {
          "output_type": "display_data",
          "data": {
            "text/plain": [
              "<Figure size 432x288 with 2 Axes>"
            ],
            "image/png": "[encoded data removed]"
          },
          "metadata": {
            "needs_background": "light"
          }
        }
      ]
    },
    {
      "cell_type": "markdown",
      "source": [
        "You can pick out bright spots off the main axis that show which languages it guesses incorrectly, e.g. Chinese for Korean, and Spanish for Italian. It seems to do very well with Greek, and very poorly with English (perhaps because of overlap with other languages)."
      ],
      "metadata": {
        "id": "x3aFT0XPZ3Ff"
      }
    },
    {
      "cell_type": "markdown",
      "source": [
        "Running on User Input"
      ],
      "metadata": {
        "id": "kRRtHd2-Z0j5"
      }
    },
    {
      "cell_type": "code",
      "source": [
        "def predict(input_line, n_predictions=3):\n",
        "    print('\\n> %s' % input_line)\n",
        "    with torch.no_grad():\n",
        "        output = evaluate(lineToTensor(input_line))\n",
        "\n",
        "        # Get top N categories\n",
        "        topv, topi = output.topk(n_predictions, 1, True)\n",
        "        predictions = []\n",
        "\n",
        "        for i in range(n_predictions):\n",
        "            value = topv[0][i].item()\n",
        "            category_index = topi[0][i].item()\n",
        "            print('(%.2f) %s' % (value, all_categories[category_index]))\n",
        "            predictions.append([value, all_categories[category_index]])\n",
        "\n",
        "predict('Dovesky')\n",
        "predict('Jackson')\n",
        "predict('Satoshi')"
      ],
      "metadata": {
        "colab": {
          "base_uri": "https://localhost:8080/"
        },
        "id": "9UR0meW2ZnT-",
        "outputId": "8741ba0d-7d44-4b69-b46f-d0a251f6fc58"
      },
      "execution_count": 31,
      "outputs": [
        {
          "output_type": "stream",
          "name": "stdout",
          "text": [
            "\n",
            "> Dovesky\n",
            "(-0.77) Russian\n",
            "(-0.97) Czech\n",
            "(-2.64) English\n",
            "\n",
            "> Jackson\n",
            "(-0.16) Scottish\n",
            "(-2.28) English\n",
            "(-4.01) Czech\n",
            "\n",
            "> Satoshi\n",
            "(-1.26) Japanese\n",
            "(-1.36) Italian\n",
            "(-2.19) Arabic\n"
          ]
        }
      ]
    },
    {
      "cell_type": "code",
      "source": [],
      "metadata": {
        "id": "Cf4kwrbUaATi"
      },
      "execution_count": null,
      "outputs": []
    }
  ]
}