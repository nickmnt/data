{
 "cells": [
  {
   "cell_type": "code",
   "execution_count": 1,
   "id": "a25f3f38",
   "metadata": {},
   "outputs": [],
   "source": [
    "import pandas as pd\n",
    "import numpy as np\n",
    "import matplotlib.pyplot as plt"
   ]
  },
  {
   "cell_type": "code",
   "execution_count": 2,
   "id": "19e70db2",
   "metadata": {},
   "outputs": [
    {
     "name": "stderr",
     "output_type": "stream",
     "text": [
      "/tmp/ipykernel_8069/2089594497.py:1: DtypeWarning: Columns (10) have mixed types. Specify dtype option on import or set low_memory=False.\n",
      "  df = pd.read_csv('movies_metadata.csv')\n"
     ]
    }
   ],
   "source": [
    "df = pd.read_csv('movies_metadata.csv')"
   ]
  },
  {
   "cell_type": "code",
   "execution_count": 3,
   "id": "601f9f5c",
   "metadata": {},
   "outputs": [
    {
     "data": {
      "text/plain": [
       "Index(['adult', 'belongs_to_collection', 'budget', 'genres', 'homepage', 'id',\n",
       "       'imdb_id', 'original_language', 'original_title', 'overview',\n",
       "       'popularity', 'poster_path', 'production_companies',\n",
       "       'production_countries', 'release_date', 'revenue', 'runtime',\n",
       "       'spoken_languages', 'status', 'tagline', 'title', 'video',\n",
       "       'vote_average', 'vote_count'],\n",
       "      dtype='object')"
      ]
     },
     "execution_count": 3,
     "metadata": {},
     "output_type": "execute_result"
    }
   ],
   "source": [
    "df.columns"
   ]
  },
  {
   "cell_type": "code",
   "execution_count": 4,
   "id": "213e9cb0",
   "metadata": {
    "scrolled": true
   },
   "outputs": [
    {
     "data": {
      "text/html": [
       "<div>\n",
       "<style scoped>\n",
       "    .dataframe tbody tr th:only-of-type {\n",
       "        vertical-align: middle;\n",
       "    }\n",
       "\n",
       "    .dataframe tbody tr th {\n",
       "        vertical-align: top;\n",
       "    }\n",
       "\n",
       "    .dataframe thead th {\n",
       "        text-align: right;\n",
       "    }\n",
       "</style>\n",
       "<table border=\"1\" class=\"dataframe\">\n",
       "  <thead>\n",
       "    <tr style=\"text-align: right;\">\n",
       "      <th></th>\n",
       "      <th>adult</th>\n",
       "      <th>belongs_to_collection</th>\n",
       "      <th>budget</th>\n",
       "      <th>genres</th>\n",
       "      <th>homepage</th>\n",
       "      <th>id</th>\n",
       "      <th>imdb_id</th>\n",
       "      <th>original_language</th>\n",
       "      <th>original_title</th>\n",
       "      <th>overview</th>\n",
       "      <th>...</th>\n",
       "      <th>release_date</th>\n",
       "      <th>revenue</th>\n",
       "      <th>runtime</th>\n",
       "      <th>spoken_languages</th>\n",
       "      <th>status</th>\n",
       "      <th>tagline</th>\n",
       "      <th>title</th>\n",
       "      <th>video</th>\n",
       "      <th>vote_average</th>\n",
       "      <th>vote_count</th>\n",
       "    </tr>\n",
       "  </thead>\n",
       "  <tbody>\n",
       "    <tr>\n",
       "      <th>0</th>\n",
       "      <td>False</td>\n",
       "      <td>{'id': 10194, 'name': 'Toy Story Collection', ...</td>\n",
       "      <td>30000000</td>\n",
       "      <td>[{'id': 16, 'name': 'Animation'}, {'id': 35, '...</td>\n",
       "      <td>http://toystory.disney.com/toy-story</td>\n",
       "      <td>862</td>\n",
       "      <td>tt0114709</td>\n",
       "      <td>en</td>\n",
       "      <td>Toy Story</td>\n",
       "      <td>Led by Woody, Andy's toys live happily in his ...</td>\n",
       "      <td>...</td>\n",
       "      <td>1995-10-30</td>\n",
       "      <td>373554033.0</td>\n",
       "      <td>81.0</td>\n",
       "      <td>[{'iso_639_1': 'en', 'name': 'English'}]</td>\n",
       "      <td>Released</td>\n",
       "      <td>NaN</td>\n",
       "      <td>Toy Story</td>\n",
       "      <td>False</td>\n",
       "      <td>7.7</td>\n",
       "      <td>5415.0</td>\n",
       "    </tr>\n",
       "    <tr>\n",
       "      <th>1</th>\n",
       "      <td>False</td>\n",
       "      <td>NaN</td>\n",
       "      <td>65000000</td>\n",
       "      <td>[{'id': 12, 'name': 'Adventure'}, {'id': 14, '...</td>\n",
       "      <td>NaN</td>\n",
       "      <td>8844</td>\n",
       "      <td>tt0113497</td>\n",
       "      <td>en</td>\n",
       "      <td>Jumanji</td>\n",
       "      <td>When siblings Judy and Peter discover an encha...</td>\n",
       "      <td>...</td>\n",
       "      <td>1995-12-15</td>\n",
       "      <td>262797249.0</td>\n",
       "      <td>104.0</td>\n",
       "      <td>[{'iso_639_1': 'en', 'name': 'English'}, {'iso...</td>\n",
       "      <td>Released</td>\n",
       "      <td>Roll the dice and unleash the excitement!</td>\n",
       "      <td>Jumanji</td>\n",
       "      <td>False</td>\n",
       "      <td>6.9</td>\n",
       "      <td>2413.0</td>\n",
       "    </tr>\n",
       "    <tr>\n",
       "      <th>2</th>\n",
       "      <td>False</td>\n",
       "      <td>{'id': 119050, 'name': 'Grumpy Old Men Collect...</td>\n",
       "      <td>0</td>\n",
       "      <td>[{'id': 10749, 'name': 'Romance'}, {'id': 35, ...</td>\n",
       "      <td>NaN</td>\n",
       "      <td>15602</td>\n",
       "      <td>tt0113228</td>\n",
       "      <td>en</td>\n",
       "      <td>Grumpier Old Men</td>\n",
       "      <td>A family wedding reignites the ancient feud be...</td>\n",
       "      <td>...</td>\n",
       "      <td>1995-12-22</td>\n",
       "      <td>0.0</td>\n",
       "      <td>101.0</td>\n",
       "      <td>[{'iso_639_1': 'en', 'name': 'English'}]</td>\n",
       "      <td>Released</td>\n",
       "      <td>Still Yelling. Still Fighting. Still Ready for...</td>\n",
       "      <td>Grumpier Old Men</td>\n",
       "      <td>False</td>\n",
       "      <td>6.5</td>\n",
       "      <td>92.0</td>\n",
       "    </tr>\n",
       "    <tr>\n",
       "      <th>3</th>\n",
       "      <td>False</td>\n",
       "      <td>NaN</td>\n",
       "      <td>16000000</td>\n",
       "      <td>[{'id': 35, 'name': 'Comedy'}, {'id': 18, 'nam...</td>\n",
       "      <td>NaN</td>\n",
       "      <td>31357</td>\n",
       "      <td>tt0114885</td>\n",
       "      <td>en</td>\n",
       "      <td>Waiting to Exhale</td>\n",
       "      <td>Cheated on, mistreated and stepped on, the wom...</td>\n",
       "      <td>...</td>\n",
       "      <td>1995-12-22</td>\n",
       "      <td>81452156.0</td>\n",
       "      <td>127.0</td>\n",
       "      <td>[{'iso_639_1': 'en', 'name': 'English'}]</td>\n",
       "      <td>Released</td>\n",
       "      <td>Friends are the people who let you be yourself...</td>\n",
       "      <td>Waiting to Exhale</td>\n",
       "      <td>False</td>\n",
       "      <td>6.1</td>\n",
       "      <td>34.0</td>\n",
       "    </tr>\n",
       "    <tr>\n",
       "      <th>4</th>\n",
       "      <td>False</td>\n",
       "      <td>{'id': 96871, 'name': 'Father of the Bride Col...</td>\n",
       "      <td>0</td>\n",
       "      <td>[{'id': 35, 'name': 'Comedy'}]</td>\n",
       "      <td>NaN</td>\n",
       "      <td>11862</td>\n",
       "      <td>tt0113041</td>\n",
       "      <td>en</td>\n",
       "      <td>Father of the Bride Part II</td>\n",
       "      <td>Just when George Banks has recovered from his ...</td>\n",
       "      <td>...</td>\n",
       "      <td>1995-02-10</td>\n",
       "      <td>76578911.0</td>\n",
       "      <td>106.0</td>\n",
       "      <td>[{'iso_639_1': 'en', 'name': 'English'}]</td>\n",
       "      <td>Released</td>\n",
       "      <td>Just When His World Is Back To Normal... He's ...</td>\n",
       "      <td>Father of the Bride Part II</td>\n",
       "      <td>False</td>\n",
       "      <td>5.7</td>\n",
       "      <td>173.0</td>\n",
       "    </tr>\n",
       "  </tbody>\n",
       "</table>\n",
       "<p>5 rows × 24 columns</p>\n",
       "</div>"
      ],
      "text/plain": [
       "   adult                              belongs_to_collection    budget  \\\n",
       "0  False  {'id': 10194, 'name': 'Toy Story Collection', ...  30000000   \n",
       "1  False                                                NaN  65000000   \n",
       "2  False  {'id': 119050, 'name': 'Grumpy Old Men Collect...         0   \n",
       "3  False                                                NaN  16000000   \n",
       "4  False  {'id': 96871, 'name': 'Father of the Bride Col...         0   \n",
       "\n",
       "                                              genres  \\\n",
       "0  [{'id': 16, 'name': 'Animation'}, {'id': 35, '...   \n",
       "1  [{'id': 12, 'name': 'Adventure'}, {'id': 14, '...   \n",
       "2  [{'id': 10749, 'name': 'Romance'}, {'id': 35, ...   \n",
       "3  [{'id': 35, 'name': 'Comedy'}, {'id': 18, 'nam...   \n",
       "4                     [{'id': 35, 'name': 'Comedy'}]   \n",
       "\n",
       "                               homepage     id    imdb_id original_language  \\\n",
       "0  http://toystory.disney.com/toy-story    862  tt0114709                en   \n",
       "1                                   NaN   8844  tt0113497                en   \n",
       "2                                   NaN  15602  tt0113228                en   \n",
       "3                                   NaN  31357  tt0114885                en   \n",
       "4                                   NaN  11862  tt0113041                en   \n",
       "\n",
       "                original_title  \\\n",
       "0                    Toy Story   \n",
       "1                      Jumanji   \n",
       "2             Grumpier Old Men   \n",
       "3            Waiting to Exhale   \n",
       "4  Father of the Bride Part II   \n",
       "\n",
       "                                            overview  ... release_date  \\\n",
       "0  Led by Woody, Andy's toys live happily in his ...  ...   1995-10-30   \n",
       "1  When siblings Judy and Peter discover an encha...  ...   1995-12-15   \n",
       "2  A family wedding reignites the ancient feud be...  ...   1995-12-22   \n",
       "3  Cheated on, mistreated and stepped on, the wom...  ...   1995-12-22   \n",
       "4  Just when George Banks has recovered from his ...  ...   1995-02-10   \n",
       "\n",
       "       revenue runtime                                   spoken_languages  \\\n",
       "0  373554033.0    81.0           [{'iso_639_1': 'en', 'name': 'English'}]   \n",
       "1  262797249.0   104.0  [{'iso_639_1': 'en', 'name': 'English'}, {'iso...   \n",
       "2          0.0   101.0           [{'iso_639_1': 'en', 'name': 'English'}]   \n",
       "3   81452156.0   127.0           [{'iso_639_1': 'en', 'name': 'English'}]   \n",
       "4   76578911.0   106.0           [{'iso_639_1': 'en', 'name': 'English'}]   \n",
       "\n",
       "     status                                            tagline  \\\n",
       "0  Released                                                NaN   \n",
       "1  Released          Roll the dice and unleash the excitement!   \n",
       "2  Released  Still Yelling. Still Fighting. Still Ready for...   \n",
       "3  Released  Friends are the people who let you be yourself...   \n",
       "4  Released  Just When His World Is Back To Normal... He's ...   \n",
       "\n",
       "                         title  video vote_average vote_count  \n",
       "0                    Toy Story  False          7.7     5415.0  \n",
       "1                      Jumanji  False          6.9     2413.0  \n",
       "2             Grumpier Old Men  False          6.5       92.0  \n",
       "3            Waiting to Exhale  False          6.1       34.0  \n",
       "4  Father of the Bride Part II  False          5.7      173.0  \n",
       "\n",
       "[5 rows x 24 columns]"
      ]
     },
     "execution_count": 4,
     "metadata": {},
     "output_type": "execute_result"
    }
   ],
   "source": [
    "df.head()"
   ]
  },
  {
   "cell_type": "markdown",
   "id": "cd61cdc0",
   "metadata": {},
   "source": [
    "## Dropping irrelevant Columns"
   ]
  },
  {
   "cell_type": "markdown",
   "id": "39ef8c11",
   "metadata": {},
   "source": [
    "__Drop__ the irrelevant columns 'adult', 'imdb_id', 'original_title', 'video' and 'homepage'."
   ]
  },
  {
   "cell_type": "code",
   "execution_count": 5,
   "id": "4c63667c",
   "metadata": {},
   "outputs": [],
   "source": [
    "df.drop(['adult', 'imdb_id', 'original_title', 'video', 'homepage'], axis=1, inplace=True)"
   ]
  },
  {
   "cell_type": "code",
   "execution_count": 6,
   "id": "71e5e6fc",
   "metadata": {
    "scrolled": true
   },
   "outputs": [
    {
     "data": {
      "text/html": [
       "<div>\n",
       "<style scoped>\n",
       "    .dataframe tbody tr th:only-of-type {\n",
       "        vertical-align: middle;\n",
       "    }\n",
       "\n",
       "    .dataframe tbody tr th {\n",
       "        vertical-align: top;\n",
       "    }\n",
       "\n",
       "    .dataframe thead th {\n",
       "        text-align: right;\n",
       "    }\n",
       "</style>\n",
       "<table border=\"1\" class=\"dataframe\">\n",
       "  <thead>\n",
       "    <tr style=\"text-align: right;\">\n",
       "      <th></th>\n",
       "      <th>belongs_to_collection</th>\n",
       "      <th>budget</th>\n",
       "      <th>genres</th>\n",
       "      <th>id</th>\n",
       "      <th>original_language</th>\n",
       "      <th>overview</th>\n",
       "      <th>popularity</th>\n",
       "      <th>poster_path</th>\n",
       "      <th>production_companies</th>\n",
       "      <th>production_countries</th>\n",
       "      <th>release_date</th>\n",
       "      <th>revenue</th>\n",
       "      <th>runtime</th>\n",
       "      <th>spoken_languages</th>\n",
       "      <th>status</th>\n",
       "      <th>tagline</th>\n",
       "      <th>title</th>\n",
       "      <th>vote_average</th>\n",
       "      <th>vote_count</th>\n",
       "    </tr>\n",
       "  </thead>\n",
       "  <tbody>\n",
       "    <tr>\n",
       "      <th>0</th>\n",
       "      <td>{'id': 10194, 'name': 'Toy Story Collection', ...</td>\n",
       "      <td>30000000</td>\n",
       "      <td>[{'id': 16, 'name': 'Animation'}, {'id': 35, '...</td>\n",
       "      <td>862</td>\n",
       "      <td>en</td>\n",
       "      <td>Led by Woody, Andy's toys live happily in his ...</td>\n",
       "      <td>21.946943</td>\n",
       "      <td>/rhIRbceoE9lR4veEXuwCC2wARtG.jpg</td>\n",
       "      <td>[{'name': 'Pixar Animation Studios', 'id': 3}]</td>\n",
       "      <td>[{'iso_3166_1': 'US', 'name': 'United States o...</td>\n",
       "      <td>1995-10-30</td>\n",
       "      <td>373554033.0</td>\n",
       "      <td>81.0</td>\n",
       "      <td>[{'iso_639_1': 'en', 'name': 'English'}]</td>\n",
       "      <td>Released</td>\n",
       "      <td>NaN</td>\n",
       "      <td>Toy Story</td>\n",
       "      <td>7.7</td>\n",
       "      <td>5415.0</td>\n",
       "    </tr>\n",
       "    <tr>\n",
       "      <th>1</th>\n",
       "      <td>NaN</td>\n",
       "      <td>65000000</td>\n",
       "      <td>[{'id': 12, 'name': 'Adventure'}, {'id': 14, '...</td>\n",
       "      <td>8844</td>\n",
       "      <td>en</td>\n",
       "      <td>When siblings Judy and Peter discover an encha...</td>\n",
       "      <td>17.015539</td>\n",
       "      <td>/vzmL6fP7aPKNKPRTFnZmiUfciyV.jpg</td>\n",
       "      <td>[{'name': 'TriStar Pictures', 'id': 559}, {'na...</td>\n",
       "      <td>[{'iso_3166_1': 'US', 'name': 'United States o...</td>\n",
       "      <td>1995-12-15</td>\n",
       "      <td>262797249.0</td>\n",
       "      <td>104.0</td>\n",
       "      <td>[{'iso_639_1': 'en', 'name': 'English'}, {'iso...</td>\n",
       "      <td>Released</td>\n",
       "      <td>Roll the dice and unleash the excitement!</td>\n",
       "      <td>Jumanji</td>\n",
       "      <td>6.9</td>\n",
       "      <td>2413.0</td>\n",
       "    </tr>\n",
       "    <tr>\n",
       "      <th>2</th>\n",
       "      <td>{'id': 119050, 'name': 'Grumpy Old Men Collect...</td>\n",
       "      <td>0</td>\n",
       "      <td>[{'id': 10749, 'name': 'Romance'}, {'id': 35, ...</td>\n",
       "      <td>15602</td>\n",
       "      <td>en</td>\n",
       "      <td>A family wedding reignites the ancient feud be...</td>\n",
       "      <td>11.7129</td>\n",
       "      <td>/6ksm1sjKMFLbO7UY2i6G1ju9SML.jpg</td>\n",
       "      <td>[{'name': 'Warner Bros.', 'id': 6194}, {'name'...</td>\n",
       "      <td>[{'iso_3166_1': 'US', 'name': 'United States o...</td>\n",
       "      <td>1995-12-22</td>\n",
       "      <td>0.0</td>\n",
       "      <td>101.0</td>\n",
       "      <td>[{'iso_639_1': 'en', 'name': 'English'}]</td>\n",
       "      <td>Released</td>\n",
       "      <td>Still Yelling. Still Fighting. Still Ready for...</td>\n",
       "      <td>Grumpier Old Men</td>\n",
       "      <td>6.5</td>\n",
       "      <td>92.0</td>\n",
       "    </tr>\n",
       "    <tr>\n",
       "      <th>3</th>\n",
       "      <td>NaN</td>\n",
       "      <td>16000000</td>\n",
       "      <td>[{'id': 35, 'name': 'Comedy'}, {'id': 18, 'nam...</td>\n",
       "      <td>31357</td>\n",
       "      <td>en</td>\n",
       "      <td>Cheated on, mistreated and stepped on, the wom...</td>\n",
       "      <td>3.859495</td>\n",
       "      <td>/16XOMpEaLWkrcPqSQqhTmeJuqQl.jpg</td>\n",
       "      <td>[{'name': 'Twentieth Century Fox Film Corporat...</td>\n",
       "      <td>[{'iso_3166_1': 'US', 'name': 'United States o...</td>\n",
       "      <td>1995-12-22</td>\n",
       "      <td>81452156.0</td>\n",
       "      <td>127.0</td>\n",
       "      <td>[{'iso_639_1': 'en', 'name': 'English'}]</td>\n",
       "      <td>Released</td>\n",
       "      <td>Friends are the people who let you be yourself...</td>\n",
       "      <td>Waiting to Exhale</td>\n",
       "      <td>6.1</td>\n",
       "      <td>34.0</td>\n",
       "    </tr>\n",
       "    <tr>\n",
       "      <th>4</th>\n",
       "      <td>{'id': 96871, 'name': 'Father of the Bride Col...</td>\n",
       "      <td>0</td>\n",
       "      <td>[{'id': 35, 'name': 'Comedy'}]</td>\n",
       "      <td>11862</td>\n",
       "      <td>en</td>\n",
       "      <td>Just when George Banks has recovered from his ...</td>\n",
       "      <td>8.387519</td>\n",
       "      <td>/e64sOI48hQXyru7naBFyssKFxVd.jpg</td>\n",
       "      <td>[{'name': 'Sandollar Productions', 'id': 5842}...</td>\n",
       "      <td>[{'iso_3166_1': 'US', 'name': 'United States o...</td>\n",
       "      <td>1995-02-10</td>\n",
       "      <td>76578911.0</td>\n",
       "      <td>106.0</td>\n",
       "      <td>[{'iso_639_1': 'en', 'name': 'English'}]</td>\n",
       "      <td>Released</td>\n",
       "      <td>Just When His World Is Back To Normal... He's ...</td>\n",
       "      <td>Father of the Bride Part II</td>\n",
       "      <td>5.7</td>\n",
       "      <td>173.0</td>\n",
       "    </tr>\n",
       "    <tr>\n",
       "      <th>...</th>\n",
       "      <td>...</td>\n",
       "      <td>...</td>\n",
       "      <td>...</td>\n",
       "      <td>...</td>\n",
       "      <td>...</td>\n",
       "      <td>...</td>\n",
       "      <td>...</td>\n",
       "      <td>...</td>\n",
       "      <td>...</td>\n",
       "      <td>...</td>\n",
       "      <td>...</td>\n",
       "      <td>...</td>\n",
       "      <td>...</td>\n",
       "      <td>...</td>\n",
       "      <td>...</td>\n",
       "      <td>...</td>\n",
       "      <td>...</td>\n",
       "      <td>...</td>\n",
       "      <td>...</td>\n",
       "    </tr>\n",
       "    <tr>\n",
       "      <th>45461</th>\n",
       "      <td>NaN</td>\n",
       "      <td>0</td>\n",
       "      <td>[{'id': 18, 'name': 'Drama'}, {'id': 10751, 'n...</td>\n",
       "      <td>439050</td>\n",
       "      <td>fa</td>\n",
       "      <td>Rising and falling between a man and woman.</td>\n",
       "      <td>0.072051</td>\n",
       "      <td>/jldsYflnId4tTWPx8es3uzsB1I8.jpg</td>\n",
       "      <td>[]</td>\n",
       "      <td>[{'iso_3166_1': 'IR', 'name': 'Iran'}]</td>\n",
       "      <td>NaN</td>\n",
       "      <td>0.0</td>\n",
       "      <td>90.0</td>\n",
       "      <td>[{'iso_639_1': 'fa', 'name': 'فارسی'}]</td>\n",
       "      <td>Released</td>\n",
       "      <td>Rising and falling between a man and woman</td>\n",
       "      <td>Subdue</td>\n",
       "      <td>4.0</td>\n",
       "      <td>1.0</td>\n",
       "    </tr>\n",
       "    <tr>\n",
       "      <th>45462</th>\n",
       "      <td>NaN</td>\n",
       "      <td>0</td>\n",
       "      <td>[{'id': 18, 'name': 'Drama'}]</td>\n",
       "      <td>111109</td>\n",
       "      <td>tl</td>\n",
       "      <td>An artist struggles to finish his work while a...</td>\n",
       "      <td>0.178241</td>\n",
       "      <td>/xZkmxsNmYXJbKVsTRLLx3pqGHx7.jpg</td>\n",
       "      <td>[{'name': 'Sine Olivia', 'id': 19653}]</td>\n",
       "      <td>[{'iso_3166_1': 'PH', 'name': 'Philippines'}]</td>\n",
       "      <td>2011-11-17</td>\n",
       "      <td>0.0</td>\n",
       "      <td>360.0</td>\n",
       "      <td>[{'iso_639_1': 'tl', 'name': ''}]</td>\n",
       "      <td>Released</td>\n",
       "      <td>NaN</td>\n",
       "      <td>Century of Birthing</td>\n",
       "      <td>9.0</td>\n",
       "      <td>3.0</td>\n",
       "    </tr>\n",
       "    <tr>\n",
       "      <th>45463</th>\n",
       "      <td>NaN</td>\n",
       "      <td>0</td>\n",
       "      <td>[{'id': 28, 'name': 'Action'}, {'id': 18, 'nam...</td>\n",
       "      <td>67758</td>\n",
       "      <td>en</td>\n",
       "      <td>When one of her hits goes wrong, a professiona...</td>\n",
       "      <td>0.903007</td>\n",
       "      <td>/d5bX92nDsISNhu3ZT69uHwmfCGw.jpg</td>\n",
       "      <td>[{'name': 'American World Pictures', 'id': 6165}]</td>\n",
       "      <td>[{'iso_3166_1': 'US', 'name': 'United States o...</td>\n",
       "      <td>2003-08-01</td>\n",
       "      <td>0.0</td>\n",
       "      <td>90.0</td>\n",
       "      <td>[{'iso_639_1': 'en', 'name': 'English'}]</td>\n",
       "      <td>Released</td>\n",
       "      <td>A deadly game of wits.</td>\n",
       "      <td>Betrayal</td>\n",
       "      <td>3.8</td>\n",
       "      <td>6.0</td>\n",
       "    </tr>\n",
       "    <tr>\n",
       "      <th>45464</th>\n",
       "      <td>NaN</td>\n",
       "      <td>0</td>\n",
       "      <td>[]</td>\n",
       "      <td>227506</td>\n",
       "      <td>en</td>\n",
       "      <td>In a small town live two brothers, one a minis...</td>\n",
       "      <td>0.003503</td>\n",
       "      <td>/aorBPO7ak8e8iJKT5OcqYxU3jlK.jpg</td>\n",
       "      <td>[{'name': 'Yermoliev', 'id': 88753}]</td>\n",
       "      <td>[{'iso_3166_1': 'RU', 'name': 'Russia'}]</td>\n",
       "      <td>1917-10-21</td>\n",
       "      <td>0.0</td>\n",
       "      <td>87.0</td>\n",
       "      <td>[]</td>\n",
       "      <td>Released</td>\n",
       "      <td>NaN</td>\n",
       "      <td>Satan Triumphant</td>\n",
       "      <td>0.0</td>\n",
       "      <td>0.0</td>\n",
       "    </tr>\n",
       "    <tr>\n",
       "      <th>45465</th>\n",
       "      <td>NaN</td>\n",
       "      <td>0</td>\n",
       "      <td>[]</td>\n",
       "      <td>461257</td>\n",
       "      <td>en</td>\n",
       "      <td>50 years after decriminalisation of homosexual...</td>\n",
       "      <td>0.163015</td>\n",
       "      <td>/s5UkZt6NTsrS7ZF0Rh8nzupRlIU.jpg</td>\n",
       "      <td>[]</td>\n",
       "      <td>[{'iso_3166_1': 'GB', 'name': 'United Kingdom'}]</td>\n",
       "      <td>2017-06-09</td>\n",
       "      <td>0.0</td>\n",
       "      <td>75.0</td>\n",
       "      <td>[{'iso_639_1': 'en', 'name': 'English'}]</td>\n",
       "      <td>Released</td>\n",
       "      <td>NaN</td>\n",
       "      <td>Queerama</td>\n",
       "      <td>0.0</td>\n",
       "      <td>0.0</td>\n",
       "    </tr>\n",
       "  </tbody>\n",
       "</table>\n",
       "<p>45466 rows × 19 columns</p>\n",
       "</div>"
      ],
      "text/plain": [
       "                                   belongs_to_collection    budget  \\\n",
       "0      {'id': 10194, 'name': 'Toy Story Collection', ...  30000000   \n",
       "1                                                    NaN  65000000   \n",
       "2      {'id': 119050, 'name': 'Grumpy Old Men Collect...         0   \n",
       "3                                                    NaN  16000000   \n",
       "4      {'id': 96871, 'name': 'Father of the Bride Col...         0   \n",
       "...                                                  ...       ...   \n",
       "45461                                                NaN         0   \n",
       "45462                                                NaN         0   \n",
       "45463                                                NaN         0   \n",
       "45464                                                NaN         0   \n",
       "45465                                                NaN         0   \n",
       "\n",
       "                                                  genres      id  \\\n",
       "0      [{'id': 16, 'name': 'Animation'}, {'id': 35, '...     862   \n",
       "1      [{'id': 12, 'name': 'Adventure'}, {'id': 14, '...    8844   \n",
       "2      [{'id': 10749, 'name': 'Romance'}, {'id': 35, ...   15602   \n",
       "3      [{'id': 35, 'name': 'Comedy'}, {'id': 18, 'nam...   31357   \n",
       "4                         [{'id': 35, 'name': 'Comedy'}]   11862   \n",
       "...                                                  ...     ...   \n",
       "45461  [{'id': 18, 'name': 'Drama'}, {'id': 10751, 'n...  439050   \n",
       "45462                      [{'id': 18, 'name': 'Drama'}]  111109   \n",
       "45463  [{'id': 28, 'name': 'Action'}, {'id': 18, 'nam...   67758   \n",
       "45464                                                 []  227506   \n",
       "45465                                                 []  461257   \n",
       "\n",
       "      original_language                                           overview  \\\n",
       "0                    en  Led by Woody, Andy's toys live happily in his ...   \n",
       "1                    en  When siblings Judy and Peter discover an encha...   \n",
       "2                    en  A family wedding reignites the ancient feud be...   \n",
       "3                    en  Cheated on, mistreated and stepped on, the wom...   \n",
       "4                    en  Just when George Banks has recovered from his ...   \n",
       "...                 ...                                                ...   \n",
       "45461                fa        Rising and falling between a man and woman.   \n",
       "45462                tl  An artist struggles to finish his work while a...   \n",
       "45463                en  When one of her hits goes wrong, a professiona...   \n",
       "45464                en  In a small town live two brothers, one a minis...   \n",
       "45465                en  50 years after decriminalisation of homosexual...   \n",
       "\n",
       "      popularity                       poster_path  \\\n",
       "0      21.946943  /rhIRbceoE9lR4veEXuwCC2wARtG.jpg   \n",
       "1      17.015539  /vzmL6fP7aPKNKPRTFnZmiUfciyV.jpg   \n",
       "2        11.7129  /6ksm1sjKMFLbO7UY2i6G1ju9SML.jpg   \n",
       "3       3.859495  /16XOMpEaLWkrcPqSQqhTmeJuqQl.jpg   \n",
       "4       8.387519  /e64sOI48hQXyru7naBFyssKFxVd.jpg   \n",
       "...          ...                               ...   \n",
       "45461   0.072051  /jldsYflnId4tTWPx8es3uzsB1I8.jpg   \n",
       "45462   0.178241  /xZkmxsNmYXJbKVsTRLLx3pqGHx7.jpg   \n",
       "45463   0.903007  /d5bX92nDsISNhu3ZT69uHwmfCGw.jpg   \n",
       "45464   0.003503  /aorBPO7ak8e8iJKT5OcqYxU3jlK.jpg   \n",
       "45465   0.163015  /s5UkZt6NTsrS7ZF0Rh8nzupRlIU.jpg   \n",
       "\n",
       "                                    production_companies  \\\n",
       "0         [{'name': 'Pixar Animation Studios', 'id': 3}]   \n",
       "1      [{'name': 'TriStar Pictures', 'id': 559}, {'na...   \n",
       "2      [{'name': 'Warner Bros.', 'id': 6194}, {'name'...   \n",
       "3      [{'name': 'Twentieth Century Fox Film Corporat...   \n",
       "4      [{'name': 'Sandollar Productions', 'id': 5842}...   \n",
       "...                                                  ...   \n",
       "45461                                                 []   \n",
       "45462             [{'name': 'Sine Olivia', 'id': 19653}]   \n",
       "45463  [{'name': 'American World Pictures', 'id': 6165}]   \n",
       "45464               [{'name': 'Yermoliev', 'id': 88753}]   \n",
       "45465                                                 []   \n",
       "\n",
       "                                    production_countries release_date  \\\n",
       "0      [{'iso_3166_1': 'US', 'name': 'United States o...   1995-10-30   \n",
       "1      [{'iso_3166_1': 'US', 'name': 'United States o...   1995-12-15   \n",
       "2      [{'iso_3166_1': 'US', 'name': 'United States o...   1995-12-22   \n",
       "3      [{'iso_3166_1': 'US', 'name': 'United States o...   1995-12-22   \n",
       "4      [{'iso_3166_1': 'US', 'name': 'United States o...   1995-02-10   \n",
       "...                                                  ...          ...   \n",
       "45461             [{'iso_3166_1': 'IR', 'name': 'Iran'}]          NaN   \n",
       "45462      [{'iso_3166_1': 'PH', 'name': 'Philippines'}]   2011-11-17   \n",
       "45463  [{'iso_3166_1': 'US', 'name': 'United States o...   2003-08-01   \n",
       "45464           [{'iso_3166_1': 'RU', 'name': 'Russia'}]   1917-10-21   \n",
       "45465   [{'iso_3166_1': 'GB', 'name': 'United Kingdom'}]   2017-06-09   \n",
       "\n",
       "           revenue  runtime  \\\n",
       "0      373554033.0     81.0   \n",
       "1      262797249.0    104.0   \n",
       "2              0.0    101.0   \n",
       "3       81452156.0    127.0   \n",
       "4       76578911.0    106.0   \n",
       "...            ...      ...   \n",
       "45461          0.0     90.0   \n",
       "45462          0.0    360.0   \n",
       "45463          0.0     90.0   \n",
       "45464          0.0     87.0   \n",
       "45465          0.0     75.0   \n",
       "\n",
       "                                        spoken_languages    status  \\\n",
       "0               [{'iso_639_1': 'en', 'name': 'English'}]  Released   \n",
       "1      [{'iso_639_1': 'en', 'name': 'English'}, {'iso...  Released   \n",
       "2               [{'iso_639_1': 'en', 'name': 'English'}]  Released   \n",
       "3               [{'iso_639_1': 'en', 'name': 'English'}]  Released   \n",
       "4               [{'iso_639_1': 'en', 'name': 'English'}]  Released   \n",
       "...                                                  ...       ...   \n",
       "45461             [{'iso_639_1': 'fa', 'name': 'فارسی'}]  Released   \n",
       "45462                  [{'iso_639_1': 'tl', 'name': ''}]  Released   \n",
       "45463           [{'iso_639_1': 'en', 'name': 'English'}]  Released   \n",
       "45464                                                 []  Released   \n",
       "45465           [{'iso_639_1': 'en', 'name': 'English'}]  Released   \n",
       "\n",
       "                                                 tagline  \\\n",
       "0                                                    NaN   \n",
       "1              Roll the dice and unleash the excitement!   \n",
       "2      Still Yelling. Still Fighting. Still Ready for...   \n",
       "3      Friends are the people who let you be yourself...   \n",
       "4      Just When His World Is Back To Normal... He's ...   \n",
       "...                                                  ...   \n",
       "45461         Rising and falling between a man and woman   \n",
       "45462                                                NaN   \n",
       "45463                             A deadly game of wits.   \n",
       "45464                                                NaN   \n",
       "45465                                                NaN   \n",
       "\n",
       "                             title  vote_average  vote_count  \n",
       "0                        Toy Story           7.7      5415.0  \n",
       "1                          Jumanji           6.9      2413.0  \n",
       "2                 Grumpier Old Men           6.5        92.0  \n",
       "3                Waiting to Exhale           6.1        34.0  \n",
       "4      Father of the Bride Part II           5.7       173.0  \n",
       "...                            ...           ...         ...  \n",
       "45461                       Subdue           4.0         1.0  \n",
       "45462          Century of Birthing           9.0         3.0  \n",
       "45463                     Betrayal           3.8         6.0  \n",
       "45464             Satan Triumphant           0.0         0.0  \n",
       "45465                     Queerama           0.0         0.0  \n",
       "\n",
       "[45466 rows x 19 columns]"
      ]
     },
     "execution_count": 6,
     "metadata": {},
     "output_type": "execute_result"
    }
   ],
   "source": [
    "df"
   ]
  },
  {
   "cell_type": "markdown",
   "id": "a0d1abbd",
   "metadata": {},
   "source": [
    "__Evaluate__ Python Expressions in the stringified columns [\"belongs_to_collection\", \"genres\", \"production_countries\", \"production_companies\", \"spoken_languages\"] and __remove quotes__ (\"\") where possible."
   ]
  },
  {
   "cell_type": "code",
   "execution_count": 7,
   "id": "d20704e6",
   "metadata": {},
   "outputs": [],
   "source": [
    "import json\n",
    "import ast\n",
    "\n",
    "def filter_genres(x):      \n",
    "    if type(x) is not str:\n",
    "        return np.nan\n",
    "\n",
    "    evaluated = ast.literal_eval(x)\n",
    "    \n",
    "    if type(evaluated) is list:\n",
    "        output = \"\"\n",
    "        for genre in evaluated:\n",
    "            output += genre[\"name\"] + \"|\"\n",
    "        return output[:-1]\n",
    "    else:\n",
    "        if x[0] != \"{\":\n",
    "            return np.nan\n",
    "        output = evaluated[\"name\"]\n",
    "        return output\n",
    "\n",
    "def filter_spoken_languages(x):    \n",
    "    if type(x) is not str:\n",
    "        return np.nan\n",
    "\n",
    "    evaluated = ast.literal_eval(x)\n",
    "    \n",
    "    if type(evaluated) is list:\n",
    "        output = \"\"\n",
    "        for genre in evaluated:\n",
    "            output += genre[\"iso_639_1\"] + \"|\"\n",
    "        return output[:-1]\n",
    "    else:\n",
    "        if x[0] != \"{\":\n",
    "            return np.nan\n",
    "        output = evaluated[\"iso_639_1\"]\n",
    "        return output\n",
    "\n",
    "def filter_production_countries(x):\n",
    "    if type(x) is not str:\n",
    "        return np.nan\n",
    "\n",
    "    evaluated = ast.literal_eval(x)\n",
    "    \n",
    "    if type(evaluated) is list:\n",
    "        output = \"\"\n",
    "        for genre in evaluated:\n",
    "            output += genre[\"iso_3166_1\"] + \"|\"\n",
    "        return output[:-1]\n",
    "    else:\n",
    "        if x[0] != \"{\":\n",
    "            return np.nan\n",
    "        output = evaluated[\"iso_3166_1\"]\n",
    "        return output\n",
    "\n",
    "df['belongs_to_collection'] = df['belongs_to_collection'].apply(filter_genres)\n",
    "df['production_companies'] = df['production_companies'].apply(filter_genres)\n",
    "df['genres'] = df['genres'].apply(filter_genres)\n",
    "df['spoken_languages'] = df['spoken_languages'].apply(filter_spoken_languages)\n",
    "df['production_countries'] = df['production_countries'].apply(filter_production_countries)"
   ]
  },
  {
   "cell_type": "code",
   "execution_count": 8,
   "id": "1fcf2519",
   "metadata": {},
   "outputs": [
    {
     "data": {
      "text/plain": [
       "0                  Toy Story Collection\n",
       "1                                   NaN\n",
       "2             Grumpy Old Men Collection\n",
       "3                                   NaN\n",
       "4        Father of the Bride Collection\n",
       "                      ...              \n",
       "45461                               NaN\n",
       "45462                               NaN\n",
       "45463                               NaN\n",
       "45464                               NaN\n",
       "45465                               NaN\n",
       "Name: belongs_to_collection, Length: 45466, dtype: object"
      ]
     },
     "execution_count": 8,
     "metadata": {},
     "output_type": "execute_result"
    }
   ],
   "source": [
    "df['belongs_to_collection']"
   ]
  },
  {
   "cell_type": "code",
   "execution_count": 9,
   "id": "9fc7822c",
   "metadata": {},
   "outputs": [
    {
     "data": {
      "text/plain": [
       "belongs_to_collection    90.122289\n",
       "budget                    0.000000\n",
       "genres                    0.000000\n",
       "id                        0.000000\n",
       "original_language         0.024194\n",
       "overview                  2.098271\n",
       "popularity                0.010997\n",
       "poster_path               0.848986\n",
       "production_companies      0.013197\n",
       "production_countries      0.013197\n",
       "release_date              0.191352\n",
       "revenue                   0.013197\n",
       "runtime                   0.578454\n",
       "spoken_languages          0.013197\n",
       "status                    0.191352\n",
       "tagline                  55.104914\n",
       "title                     0.013197\n",
       "vote_average              0.013197\n",
       "vote_count                0.013197\n",
       "dtype: float64"
      ]
     },
     "execution_count": 9,
     "metadata": {},
     "output_type": "execute_result"
    }
   ],
   "source": [
    "percent_missing = df.isnull().sum() * 100 / len(df)\n",
    "missing_value_df = pd.DataFrame({'column_name': df.columns,\n",
    "                                 'percent_missing': percent_missing})\n",
    "missing_value_df.sort_values('percent_missing', inplace=True)\n",
    "percent_missing = df.isnull().sum() * 100 / len(df)\n",
    "percent_missing"
   ]
  },
  {
   "cell_type": "markdown",
   "id": "76e6c986",
   "metadata": {},
   "source": [
    "## How to flatten nested Columns"
   ]
  },
  {
   "cell_type": "markdown",
   "id": "a773f6cf",
   "metadata": {},
   "source": [
    "__Inspect__ all columns above with value_counts(). Do you see anything strange? __Take reasonable measures__!"
   ]
  },
  {
   "cell_type": "code",
   "execution_count": 10,
   "id": "12ae4c28",
   "metadata": {
    "scrolled": true
   },
   "outputs": [
    {
     "name": "stdout",
     "output_type": "stream",
     "text": [
      "The Bowery Boys                  29\n",
      "Totò Collection                  27\n",
      "James Bond Collection            26\n",
      "Zatôichi: The Blind Swordsman    26\n",
      "The Carry On Collection          25\n",
      "                                 ..\n",
      "Glass Tiger collection            1\n",
      "Kathleen Madigan Collection       1\n",
      "The Big Bottom Box                1\n",
      "Joséphine - Saga                  1\n",
      "Red Lotus Collection              1\n",
      "Name: belongs_to_collection, Length: 1695, dtype: int64\n",
      "                                                                                                                                              11875\n",
      "Metro-Goldwyn-Mayer (MGM)                                                                                                                       742\n",
      "Warner Bros.                                                                                                                                    540\n",
      "Paramount Pictures                                                                                                                              505\n",
      "Twentieth Century Fox Film Corporation                                                                                                          439\n",
      "                                                                                                                                              ...  \n",
      "HBO Films|Moving Pictures                                                                                                                         1\n",
      "BIM Distribuzione|Canal+|Alta Producción|Centre National de la Cinématographie (CNC)|Rézo Productions|Compagnie Eric Rohmer (CER)|Cinémage        1\n",
      "Galatée Films|Novo Arturo Films|Constantin Film Produktion|Pathé|France 2 Cinéma|France 3 Cinema|Logline Studios|Blue Screen Productions          1\n",
      "Fox Searchlight Pictures|26 Films                                                                                                                 1\n",
      "Yermoliev                                                                                                                                         1\n",
      "Name: production_companies, Length: 22672, dtype: int64\n",
      "Drama                              5000\n",
      "Comedy                             3621\n",
      "Documentary                        2723\n",
      "                                   2442\n",
      "Drama|Romance                      1301\n",
      "                                   ... \n",
      "Action|Drama|Comedy|Documentary       1\n",
      "War|Drama|History|Thriller            1\n",
      "Horror|Drama|History|Thriller         1\n",
      "Comedy|Crime|Action|Drama             1\n",
      "Family|Animation|Romance|Comedy       1\n",
      "Name: genres, Length: 4069, dtype: int64\n",
      "en                   22395\n",
      "                      3829\n",
      "fr                    1853\n",
      "ja                    1289\n",
      "it                    1218\n",
      "                     ...  \n",
      "af|ny|st|xh|zu|en        1\n",
      "en|et|fr                 1\n",
      "bs|en|it                 1\n",
      "en|ta|te                 1\n",
      "ff|en                    1\n",
      "Name: spoken_languages, Length: 1931, dtype: int64\n",
      "US             17851\n",
      "                6282\n",
      "GB              2238\n",
      "FR              1654\n",
      "JP              1356\n",
      "               ...  \n",
      "RO|GB|CA           1\n",
      "FI|DE|NL           1\n",
      "FR|DK|ES|SE        1\n",
      "FR|US|CA           1\n",
      "EG|IT|US           1\n",
      "Name: production_countries, Length: 2390, dtype: int64\n"
     ]
    }
   ],
   "source": [
    "print(df['belongs_to_collection'].value_counts())\n",
    "print(df['production_companies'].value_counts())\n",
    "print(df['genres'].value_counts())\n",
    "print(df['spoken_languages'].value_counts())\n",
    "print(df['production_countries'].value_counts())"
   ]
  },
  {
   "cell_type": "code",
   "execution_count": 11,
   "id": "0f366306",
   "metadata": {},
   "outputs": [],
   "source": [
    "def blank_to_nan(x):\n",
    "    if type(x) is float:\n",
    "        return np.nan\n",
    "    \n",
    "    if x.strip() == \"\":\n",
    "        return np.nan\n",
    "    return x\n",
    "\n",
    "df['belongs_to_collection'] = df['belongs_to_collection'].apply(blank_to_nan)\n",
    "df['production_companies'] = df['production_companies'].apply(blank_to_nan)\n",
    "df['genres'] = df['genres'].apply(blank_to_nan)\n",
    "df['spoken_languages'] = df['spoken_languages'].apply(blank_to_nan)\n",
    "df['production_countries'] = df['production_countries'].apply(blank_to_nan)"
   ]
  },
  {
   "cell_type": "markdown",
   "id": "b09c5685",
   "metadata": {},
   "source": [
    "## Cleaning Numerical Columns"
   ]
  },
  {
   "cell_type": "markdown",
   "id": "e27e1e8e",
   "metadata": {},
   "source": [
    "__Convert__ the datatype in the columns __\"budget\"__, __\"id\"__ and __\"popularity\"__ __to numeric__. Set invalid values as NaN."
   ]
  },
  {
   "cell_type": "code",
   "execution_count": 12,
   "id": "b76c615f",
   "metadata": {},
   "outputs": [],
   "source": [
    "def is_float(element: any) -> bool:\n",
    "    #If you expect None to be passed:\n",
    "    if element is None: \n",
    "        return False\n",
    "    try:\n",
    "        float(element)\n",
    "        return True\n",
    "    except ValueError:\n",
    "        return False\n",
    "\n",
    "def convert_to_numeric(x):\n",
    "    if is_float(x):\n",
    "        return float(x)\n",
    "    else:\n",
    "        return np.nan\n",
    "\n",
    "df[\"budget\"] = df[\"budget\"].apply(convert_to_numeric)\n",
    "df[\"id\"] = df[\"id\"].apply(convert_to_numeric)\n",
    "df[\"popularity\"] = df[\"popularity\"].apply(convert_to_numeric)"
   ]
  },
  {
   "cell_type": "markdown",
   "id": "4d24cf49",
   "metadata": {},
   "source": [
    "__Analyze__ the columns __\"budget\"__ and __\"revenue\"__ and __\"runtime\"__. Analyze movies with a budget/revenue/runtime of 0. Do you think the value 0 is the most appropriate value? __Take reasonable measures__! "
   ]
  },
  {
   "cell_type": "markdown",
   "id": "0505acda",
   "metadata": {},
   "source": [
    "For budgets"
   ]
  },
  {
   "cell_type": "code",
   "execution_count": 13,
   "id": "d70404cd",
   "metadata": {},
   "outputs": [
    {
     "data": {
      "text/plain": [
       "36573"
      ]
     },
     "execution_count": 13,
     "metadata": {},
     "output_type": "execute_result"
    }
   ],
   "source": [
    "len(df[df[\"budget\"] == 0])"
   ]
  },
  {
   "cell_type": "code",
   "execution_count": 14,
   "id": "b218ab6c",
   "metadata": {},
   "outputs": [
    {
     "data": {
      "text/plain": [
       "38052"
      ]
     },
     "execution_count": 14,
     "metadata": {},
     "output_type": "execute_result"
    }
   ],
   "source": [
    "len(df[df[\"revenue\"] == 0])"
   ]
  },
  {
   "cell_type": "code",
   "execution_count": 15,
   "id": "dad4ced0",
   "metadata": {},
   "outputs": [
    {
     "data": {
      "text/plain": [
       "1558"
      ]
     },
     "execution_count": 15,
     "metadata": {},
     "output_type": "execute_result"
    }
   ],
   "source": [
    "len(df[df[\"runtime\"] == 0])"
   ]
  },
  {
   "cell_type": "markdown",
   "id": "014c583d",
   "metadata": {},
   "source": [
    "__Analyze__ the columns __\"budget\"__ and __\"revenue\"__ and __\"runtime\"__. Analyze movies with a budget/revenue/runtime of 0. Do you think the value 0 is the most appropriate value? __Take reasonable measures__! "
   ]
  },
  {
   "cell_type": "code",
   "execution_count": 16,
   "id": "7c549724",
   "metadata": {},
   "outputs": [],
   "source": [
    "df.loc[df['budget'] == 0, 'budget'] = np.nan"
   ]
  },
  {
   "cell_type": "code",
   "execution_count": 17,
   "id": "c5db5587",
   "metadata": {},
   "outputs": [],
   "source": [
    "df.loc[df['revenue'] == 0, 'revenue'] = np.nan"
   ]
  },
  {
   "cell_type": "markdown",
   "id": "ca0ced33",
   "metadata": {},
   "source": [
    "The columns \"budget\" and \"revenue\" shall show values in Million USD. __Convert and Overwrite__!"
   ]
  },
  {
   "cell_type": "code",
   "execution_count": 18,
   "id": "df91a124",
   "metadata": {},
   "outputs": [],
   "source": [
    "def convert_to_musd(x):\n",
    "    return x / 1e6\n",
    "\n",
    "df[\"budget_musd\"] = df[\"budget\"].apply(convert_to_musd)\n",
    "df[\"revenue_musd\"] = df[\"revenue\"].apply(convert_to_musd)\n",
    "df = df.drop(['budget', \"revenue\"], axis=1)"
   ]
  },
  {
   "cell_type": "markdown",
   "id": "75eab8cd",
   "metadata": {},
   "source": [
    "__Analyze__ movies with a __vote_count of 0__. What´s the __vote_average__ for those movies? Do you think this value is the most appropriate value? __Take reasonable measures__!"
   ]
  },
  {
   "cell_type": "code",
   "execution_count": 19,
   "id": "24003b94",
   "metadata": {},
   "outputs": [
    {
     "data": {
      "text/plain": [
       "2899"
      ]
     },
     "execution_count": 19,
     "metadata": {},
     "output_type": "execute_result"
    }
   ],
   "source": [
    "len(df[df['vote_count'] == 0])"
   ]
  },
  {
   "cell_type": "code",
   "execution_count": 20,
   "id": "d0e7cdfe",
   "metadata": {},
   "outputs": [
    {
     "data": {
      "text/plain": [
       "0.0    2899\n",
       "Name: vote_average, dtype: int64"
      ]
     },
     "execution_count": 20,
     "metadata": {},
     "output_type": "execute_result"
    }
   ],
   "source": [
    "df[df['vote_count'] == 0][\"vote_average\"].value_counts()"
   ]
  },
  {
   "cell_type": "code",
   "execution_count": 21,
   "id": "fe8882ab",
   "metadata": {},
   "outputs": [],
   "source": [
    "df.loc[df['vote_count'] == 0, 'vote_average'] = np.nan"
   ]
  },
  {
   "cell_type": "code",
   "execution_count": 22,
   "id": "0c36f9b6",
   "metadata": {},
   "outputs": [
    {
     "data": {
      "text/plain": [
       "Series([], Name: vote_average, dtype: int64)"
      ]
     },
     "execution_count": 22,
     "metadata": {},
     "output_type": "execute_result"
    }
   ],
   "source": [
    "df[df['vote_count'] == 0][\"vote_average\"].value_counts()"
   ]
  },
  {
   "cell_type": "code",
   "execution_count": 23,
   "id": "e9adbf86",
   "metadata": {},
   "outputs": [
    {
     "data": {
      "text/plain": [
       "nan"
      ]
     },
     "execution_count": 23,
     "metadata": {},
     "output_type": "execute_result"
    }
   ],
   "source": [
    "df[df['vote_count'] == 0][\"vote_average\"].iloc[0]"
   ]
  },
  {
   "cell_type": "markdown",
   "id": "aafbe817",
   "metadata": {},
   "source": [
    "## Cleaning DateTime Columns"
   ]
  },
  {
   "cell_type": "markdown",
   "id": "22acbceb",
   "metadata": {},
   "source": [
    "__Convert__ the datatype in the column __\"release_date\"__ __to datetime__. Set invalid values as NaN."
   ]
  },
  {
   "cell_type": "code",
   "execution_count": 24,
   "id": "a9bb79cf",
   "metadata": {},
   "outputs": [],
   "source": [
    "def convert_to_datetime(date):\n",
    "    if date == \"nan\" or type(date) is float:\n",
    "        return np.nan\n",
    "    \n",
    "    if date.count(\"-\") != 2:\n",
    "        return np.nan\n",
    "        \n",
    "    return pd.to_datetime(date)\n",
    "\n",
    "df['release_date'] = df['release_date'].apply(convert_to_datetime)"
   ]
  },
  {
   "cell_type": "markdown",
   "id": "ef770ad6",
   "metadata": {},
   "source": [
    "## Cleaning Text / String Columns"
   ]
  },
  {
   "cell_type": "markdown",
   "id": "2576e5a0",
   "metadata": {},
   "source": [
    "15. __Analyze__ the text columns \"overview\" and \"tagline\". Try to identify __missing data that is not represented by NaN__ (e.g. \"No Data\"). __Replace as NaN__ (np.nan)!"
   ]
  },
  {
   "cell_type": "code",
   "execution_count": 25,
   "id": "3c2cdee5",
   "metadata": {},
   "outputs": [
    {
     "data": {
      "text/plain": [
       "No overview found.                                                                                                                                                                                                                                                                                                                                                                                                                                                                                                                                                                                                                                                                                                                                                                                                                                               133\n",
       "No Overview                                                                                                                                                                                                                                                                                                                                                                                                                                                                                                                                                                                                                                                                                                                                                                                                                                                        7\n",
       "                                                                                                                                                                                                                                                                                                                                                                                                                                                                                                                                                                                                                                                                                                                                                                                                                                                                   5\n",
       "No movie overview available.                                                                                                                                                                                                                                                                                                                                                                                                                                                                                                                                                                                                                                                                                                                                                                                                                                       3\n",
       "A few funny little novels about different aspects of life.                                                                                                                                                                                                                                                                                                                                                                                                                                                                                                                                                                                                                                                                                                                                                                                                         3\n",
       "Recovering from a nail gun shot to the head and 13 months of coma, doctor Pekka Valinta starts to unravel the mystery of his past, still suffering from total amnesia.                                                                                                                                                                                                                                                                                                                                                                                                                                                                                                                                                                                                                                                                                             3\n",
       "King Lear, old and tired, divides his kingdom among his daughters, giving great importance to their protestations of love for him. When Cordelia, youngest and most honest, refuses to idly flatter the old man in return for favor, he banishes her and turns for support to his remaining daughters. But Goneril and Regan have no love for him and instead plot to take all his power from him. In a parallel, Lear's loyal courtier Gloucester favors his illegitimate son Edmund after being told lies about his faithful son Edgar. Madness and tragedy befall both ill-starred fathers.                                                                                                                                                                                                                                                                     3\n",
       "Adaptation of the Jane Austen novel.                                                                                                                                                                                                                                                                                                                                                                                                                                                                                                                                                                                                                                                                                                                                                                                                                               3\n",
       "Released                                                                                                                                                                                                                                                                                                                                                                                                                                                                                                                                                                                                                                                                                                                                                                                                                                                           3\n",
       "With friends like these, who needs enemies? That's the question bad guy Porter is left asking after his wife and partner steal his heist money and leave him for dead -- or so they think. Five months and an endless reservoir of bitterness later, Porter's partners and the crooked cops on his tail learn how bad payback can be.                                                                                                                                                                                                                                                                                                                                                                                                                                                                                                                              2\n",
       "The ghost of a samurai's wife takes revenge on her husband.                                                                                                                                                                                                                                                                                                                                                                                                                                                                                                                                                                                                                                                                                                                                                                                                        2\n",
       "Karol has everything. He has three mistresses in addition to the bride. He is charming, loves sex and enslaves women in the blink of an eye. He's also well aware of that women like and uses it for his benefits.                                                                                                                                                                                                                                                                                                                                                                                                                                                                                                                                                                                                                                                 2\n",
       "East-Berlin, 1961, shortly after the erection of the Wall. Konrad, Sophie and three of their friends plan a daring escape to Western Germany. The attempt is successful, except for Konrad, who remains behind. From then on, and for the next 28 years, Konrad and Sophie will attempt to meet again, in spite of the Iron Curtain. Konrad, who has become a reputed Astrophysicist, tries to take advantage of scientific congresses outside Eastern Germany to arrange encounters with Sophie. But in a country where the political police, the Stasi, monitors the moves of all suspicious people (such as Konrad's sister Barbara and her husband Harald), preserving one's privacy, ideals and self-respect becomes an exhausting fight, even as the Eastern block begins its long process of disintegration.                                                2\n",
       "Two literary women compete for 20 years: one writes for the critics; the other one, to get rich.                                                                                                                                                                                                                                                                                                                                                                                                                                                                                                                                                                                                                                                                                                                                                                   2\n",
       "All your favorite Pokémon characters are back, and are joined for the first time by the legendary Pokémon Celebi and Suicune, in this latest exciting Pokémon adventure! In order to escape a greedy Pokémon hunter, Celebi must use the last of its energy to travel through time to the present day. Celebi brings along Sammy, a boy who had been trying to protect it. Along with Ash, Pikachu, and the rest of the gang, Sammy and Celebi encounter an enemy far more advanced than the hunter left behind in the past. This new enemy possesses a Pokéball called a “Dark Ball,” which transforms the Pokémon it captures into evil and far stronger creatures. When Celebi is captured, the fate of the entire forest is threatened. Let POKÉMON 4EVER transport you to a world of adventure as Ash, Suicune and the rest take action to save the day!      2\n",
       "Ten years into a marriage, the wife is disappointed by the husband's lack of financial success, meaning she has to work and can't treat herself and the husband finds the wife slovenly and mean-spirited: she neither cooks not cleans particularly well and is generally disagreeable. In turn, he alternately ignores her and treats her as a servant. Neither is particularly happy, not helped by their unsatisfactory lodgers. The husband is easily seduced by an ex-colleague, a widow with a small child who needs some security, and considers leaving his wife.                                                                                                                                                                                                                                                                                         2\n",
       "Mary, a writer working on a novel about a love triangle, is attracted to her publisher. Her suitor Jimmy is determined to break them up; he introduces Mary to the publisher's wife without telling Mary who she is.                                                                                                                                                                                                                                                                                                                                                                                                                                                                                                                                                                                                                                               2\n",
       "Count de Chagnie has discovered Christine's singing talent on a market place and sent her to his friend Carriere, the director of the Parisian opera. However just when she arrives Carriere's dismissed. His arrogant successor refuses to let a woman of low birth sing in his opera, but graciously employs Christine as gadrobiere for his wife Charlotta, who's installed as first singer. He also fights the phantom, an unknown guy who lives since many years in the catacombs below the opera and was granted privileges by Carriere. However the phantom knows how to defend himself and at the same time helps Christine to her career.                                                                                                                                                                                                                 2\n",
       "Originally called White Thunder, American producer Varick Frissell's 1931 film was inspired by his love for the Canadian Arctic Circle. Set in a beautifully black-and-white filmed Newfoundland, it is the story of a rivalry between two seal hunters that plays out on the ice floes during a hunt. Unsatisfied with the first cut, Frissell arranged for the crew to accompany an actual Newfoundland seal hunt on The SS Viking, on which an explosion of dynamite (carried regularly at the time on Arctic ships to combat ice jams) killed many members of the crew, including Frissell. The film was renamed in honor of the dead.                                                                                                                                                                                                                         2\n",
       "When a comet strikes Earth and kicks up a cloud of toxic dust, hundreds of humans join the ranks of the living dead. But there's bad news for the survivors: The newly minted zombies are hell-bent on eradicating every last person from the planet. For the few human beings who remain, going head to head with the flesh-eating fiends is their only chance for long-term survival. Yet their battle will be dark and cold, with overwhelming odds.                                                                                                                                                                                                                                                                                                                                                                                                            2\n",
       "Name: overview, dtype: int64"
      ]
     },
     "execution_count": 25,
     "metadata": {},
     "output_type": "execute_result"
    }
   ],
   "source": [
    "df[\"overview\"].value_counts()[:20]"
   ]
  },
  {
   "cell_type": "code",
   "execution_count": 26,
   "id": "2fdec616",
   "metadata": {},
   "outputs": [],
   "source": [
    "def filter_useless_overviews(overview):\n",
    "    if type(overview) is float:\n",
    "        return np.nan\n",
    "    if 'no overview' in overview.lower() or overview == \"No movie overview available.\" or overview == \"Released\":\n",
    "        return np.nan\n",
    "    \n",
    "    return overview\n",
    "\n",
    "df['overview'] = df['overview'].apply(filter_useless_overviews)"
   ]
  },
  {
   "cell_type": "code",
   "execution_count": 27,
   "id": "5fed36ae",
   "metadata": {},
   "outputs": [
    {
     "data": {
      "text/plain": [
       "                                                                                                                                                                                                                                                                                                                                                                                                                                                                                                                                                                                                                                                                                                                                                                                                                                                                 5\n",
       "A few funny little novels about different aspects of life.                                                                                                                                                                                                                                                                                                                                                                                                                                                                                                                                                                                                                                                                                                                                                                                                       3\n",
       "Recovering from a nail gun shot to the head and 13 months of coma, doctor Pekka Valinta starts to unravel the mystery of his past, still suffering from total amnesia.                                                                                                                                                                                                                                                                                                                                                                                                                                                                                                                                                                                                                                                                                           3\n",
       "King Lear, old and tired, divides his kingdom among his daughters, giving great importance to their protestations of love for him. When Cordelia, youngest and most honest, refuses to idly flatter the old man in return for favor, he banishes her and turns for support to his remaining daughters. But Goneril and Regan have no love for him and instead plot to take all his power from him. In a parallel, Lear's loyal courtier Gloucester favors his illegitimate son Edmund after being told lies about his faithful son Edgar. Madness and tragedy befall both ill-starred fathers.                                                                                                                                                                                                                                                                   3\n",
       "Adaptation of the Jane Austen novel.                                                                                                                                                                                                                                                                                                                                                                                                                                                                                                                                                                                                                                                                                                                                                                                                                             3\n",
       "After breaking a mirror in his home, superstitious Max tries to avoid situations which could bring bad luck but in doing so, causes himself the worst luck imaginable.                                                                                                                                                                                                                                                                                                                                                                                                                                                                                                                                                                                                                                                                                           2\n",
       "A wooden boy Buratino tries to find his place in life. He befriends toys from a toy theater owned by evil Karabas-Barabas, gets tricked by Alice the Fox and Basilio the Cat and finally discovers the mystery of a golden key given to him by kind Tortila the Tortoise.                                                                                                                                                                                                                                                                                                                                                                                                                                                                                                                                                                                        2\n",
       "Wilbur the pig is scared of the end of the season, because he knows that come that time, he will end up on the dinner table. He hatches a plan with Charlotte, a spider that lives in his pen, to ensure that this will never happen.                                                                                                                                                                                                                                                                                                                                                                                                                                                                                                                                                                                                                            2\n",
       "A film by Jem Cohen                                                                                                                                                                                                                                                                                                                                                                                                                                                                                                                                                                                                                                                                                                                                                                                                                                              2\n",
       "Bollywood 2009                                                                                                                                                                                                                                                                                                                                                                                                                                                                                                                                                                                                                                                                                                                                                                                                                                                   2\n",
       "When Molly Hale's sadness of her father's disappearance get to her, she unknowingly uses the Unown to create her own dream world along with Entei, who she believes to be her father. When Entei kidnaps Ash's mom, Ash along with Misty & Brock invade the mansion looking for his mom and trying to stop the mysteries of Molly's Dream World and Entei!                                                                                                                                                                                                                                                                                                                                                                                                                                                                                                       2\n",
       "An abstract animation from Walter Ruttmann.                                                                                                                                                                                                                                                                                                                                                                                                                                                                                                                                                                                                                                                                                                                                                                                                                      2\n",
       "Karol has everything. He has three mistresses in addition to the bride. He is charming, loves sex and enslaves women in the blink of an eye. He's also well aware of that women like and uses it for his benefits.                                                                                                                                                                                                                                                                                                                                                                                                                                                                                                                                                                                                                                               2\n",
       "As an ex-gambler teaches a hot-shot college kid some things about playing cards, he finds himself pulled into the world series of poker, where his protégé is his toughest competition.                                                                                                                                                                                                                                                                                                                                                                                                                                                                                                                                                                                                                                                                          2\n",
       "Blanche Dubois goes to visit her pregnant sister and husband Stanley in New Orleans. Stanley doesn't like her, and starts pushing her for information on some property he know was left to the sisters. He discovers she has mortgaged the place and spent all the money, and wants to find out all he can about her. Even more friction develops between the two while they are in the apartment together...                                                                                                                                                                                                                                                                                                                                                                                                                                                    2\n",
       "East-Berlin, 1961, shortly after the erection of the Wall. Konrad, Sophie and three of their friends plan a daring escape to Western Germany. The attempt is successful, except for Konrad, who remains behind. From then on, and for the next 28 years, Konrad and Sophie will attempt to meet again, in spite of the Iron Curtain. Konrad, who has become a reputed Astrophysicist, tries to take advantage of scientific congresses outside Eastern Germany to arrange encounters with Sophie. But in a country where the political police, the Stasi, monitors the moves of all suspicious people (such as Konrad's sister Barbara and her husband Harald), preserving one's privacy, ideals and self-respect becomes an exhausting fight, even as the Eastern block begins its long process of disintegration.                                              2\n",
       "When a comet strikes Earth and kicks up a cloud of toxic dust, hundreds of humans join the ranks of the living dead. But there's bad news for the survivors: The newly minted zombies are hell-bent on eradicating every last person from the planet. For the few human beings who remain, going head to head with the flesh-eating fiends is their only chance for long-term survival. Yet their battle will be dark and cold, with overwhelming odds.                                                                                                                                                                                                                                                                                                                                                                                                          2\n",
       "All your favorite Pokémon characters are back, and are joined for the first time by the legendary Pokémon Celebi and Suicune, in this latest exciting Pokémon adventure! In order to escape a greedy Pokémon hunter, Celebi must use the last of its energy to travel through time to the present day. Celebi brings along Sammy, a boy who had been trying to protect it. Along with Ash, Pikachu, and the rest of the gang, Sammy and Celebi encounter an enemy far more advanced than the hunter left behind in the past. This new enemy possesses a Pokéball called a “Dark Ball,” which transforms the Pokémon it captures into evil and far stronger creatures. When Celebi is captured, the fate of the entire forest is threatened. Let POKÉMON 4EVER transport you to a world of adventure as Ash, Suicune and the rest take action to save the day!    2\n",
       "Mary, a writer working on a novel about a love triangle, is attracted to her publisher. Her suitor Jimmy is determined to break them up; he introduces Mary to the publisher's wife without telling Mary who she is.                                                                                                                                                                                                                                                                                                                                                                                                                                                                                                                                                                                                                                             2\n",
       "A Russian engineer Petr Garin possesses a unique beam-shooting weapon that can destroy any target. His goal is to achieve world domination with the help of this weapon. Vasily Shelga is out to stop him and also to prevent others getting possession of this weapon.                                                                                                                                                                                                                                                                                                                                                                                                                                                                                                                                                                                          2\n",
       "Name: overview, dtype: int64"
      ]
     },
     "execution_count": 27,
     "metadata": {},
     "output_type": "execute_result"
    }
   ],
   "source": [
    "df[\"overview\"].value_counts()[:20]"
   ]
  },
  {
   "cell_type": "code",
   "execution_count": 28,
   "id": "88cb63e0",
   "metadata": {},
   "outputs": [
    {
     "data": {
      "text/plain": [
       "Based on a true story.                                        7\n",
       "Be careful what you wish for.                                 4\n",
       "Trust no one.                                                 4\n",
       "-                                                             4\n",
       "Classic Albums                                                3\n",
       "Which one is the first to return - memory or the murderer?    3\n",
       "Who is John Galt?                                             3\n",
       "Some doors should never be opened.                            3\n",
       "There is no turning back                                      3\n",
       "Documentary                                                   3\n",
       "How far would you go?                                         3\n",
       "The end is near.                                              3\n",
       "A Love Story                                                  3\n",
       "Drama                                                         3\n",
       "Know Your Enemy                                               3\n",
       "There are two sides to every love story.                      3\n",
       "No one is above the law.                                      2\n",
       "Evil will rise.                                               2\n",
       "No one stays innocent forever.                                2\n",
       "There are no clean getaways.                                  2\n",
       "Name: tagline, dtype: int64"
      ]
     },
     "execution_count": 28,
     "metadata": {},
     "output_type": "execute_result"
    }
   ],
   "source": [
    "df[\"tagline\"].value_counts()[:20]"
   ]
  },
  {
   "cell_type": "code",
   "execution_count": 29,
   "id": "6e4cd200",
   "metadata": {},
   "outputs": [],
   "source": [
    "def filter_useless_tagline(tagline):\n",
    "    if type(tagline) is float:\n",
    "        return np.nan\n",
    "    if tagline == \"-\":\n",
    "        return np.nan\n",
    "    \n",
    "    return tagline\n",
    "\n",
    "df['tagline'] = df['tagline'].apply(filter_useless_tagline)"
   ]
  },
  {
   "cell_type": "code",
   "execution_count": 30,
   "id": "cd642722",
   "metadata": {},
   "outputs": [
    {
     "data": {
      "text/plain": [
       "Based on a true story.                                        7\n",
       "Trust no one.                                                 4\n",
       "Be careful what you wish for.                                 4\n",
       "Know Your Enemy                                               3\n",
       "Who is John Galt?                                             3\n",
       "How far would you go?                                         3\n",
       "Which one is the first to return - memory or the murderer?    3\n",
       "Classic Albums                                                3\n",
       "Drama                                                         3\n",
       "Some doors should never be opened.                            3\n",
       "A Love Story                                                  3\n",
       "The end is near.                                              3\n",
       "There is no turning back                                      3\n",
       "There are two sides to every love story.                      3\n",
       "Documentary                                                   3\n",
       "Love is a force of nature.                                    2\n",
       "Something wicked this way comes.                              2\n",
       "A love, a hope, a wall.                                       2\n",
       "No one stays innocent forever.                                2\n",
       "RELENTLESS SUSPENSE!                                          2\n",
       "Name: tagline, dtype: int64"
      ]
     },
     "execution_count": 30,
     "metadata": {},
     "output_type": "execute_result"
    }
   ],
   "source": [
    "df[\"tagline\"].value_counts()[:20]"
   ]
  },
  {
   "cell_type": "markdown",
   "id": "6659d9a7",
   "metadata": {},
   "source": [
    "## Removing Duplicates"
   ]
  },
  {
   "cell_type": "markdown",
   "id": "6f70d2b8",
   "metadata": {},
   "source": [
    "__Identify__ and __remove__ duplicates!"
   ]
  },
  {
   "cell_type": "code",
   "execution_count": 31,
   "id": "e3e22c04",
   "metadata": {},
   "outputs": [
    {
     "data": {
      "text/plain": [
       "45466"
      ]
     },
     "execution_count": 31,
     "metadata": {},
     "output_type": "execute_result"
    }
   ],
   "source": [
    "len(df)"
   ]
  },
  {
   "cell_type": "code",
   "execution_count": 32,
   "id": "cd56d642",
   "metadata": {
    "scrolled": true
   },
   "outputs": [],
   "source": [
    "df.drop_duplicates(\"id\",inplace=True)"
   ]
  },
  {
   "cell_type": "code",
   "execution_count": 33,
   "id": "3af6ebae",
   "metadata": {},
   "outputs": [
    {
     "data": {
      "text/plain": [
       "45434"
      ]
     },
     "execution_count": 33,
     "metadata": {},
     "output_type": "execute_result"
    }
   ],
   "source": [
    "len(df)"
   ]
  },
  {
   "cell_type": "markdown",
   "id": "083d532b",
   "metadata": {},
   "source": [
    "## Handling Missing Values & Removing Observations"
   ]
  },
  {
   "cell_type": "markdown",
   "id": "f951cd7b",
   "metadata": {},
   "source": [
    "__Drop__ all rows/movies with unknown __id__ or __title__"
   ]
  },
  {
   "cell_type": "code",
   "execution_count": 34,
   "id": "a36363e6",
   "metadata": {},
   "outputs": [
    {
     "data": {
      "text/plain": [
       "45434"
      ]
     },
     "execution_count": 34,
     "metadata": {},
     "output_type": "execute_result"
    }
   ],
   "source": [
    "len(df)"
   ]
  },
  {
   "cell_type": "code",
   "execution_count": 35,
   "id": "8e6d0784",
   "metadata": {},
   "outputs": [],
   "source": [
    "df = df[df['id'].notna()]"
   ]
  },
  {
   "cell_type": "code",
   "execution_count": 36,
   "id": "fe7e712d",
   "metadata": {},
   "outputs": [
    {
     "data": {
      "text/plain": [
       "45433"
      ]
     },
     "execution_count": 36,
     "metadata": {},
     "output_type": "execute_result"
    }
   ],
   "source": [
    "len(df)"
   ]
  },
  {
   "cell_type": "code",
   "execution_count": 37,
   "id": "7bdaf83e",
   "metadata": {},
   "outputs": [],
   "source": [
    "df = df[df['title'].notna()]"
   ]
  },
  {
   "cell_type": "code",
   "execution_count": 38,
   "id": "97db73b7",
   "metadata": {
    "scrolled": true
   },
   "outputs": [
    {
     "data": {
      "text/plain": [
       "45430"
      ]
     },
     "execution_count": 38,
     "metadata": {},
     "output_type": "execute_result"
    }
   ],
   "source": [
    "len(df)"
   ]
  },
  {
   "cell_type": "markdown",
   "id": "0ba81967",
   "metadata": {},
   "source": [
    "__Keep__ only those rows/movies in the df with __10 or more non-NaN__ values."
   ]
  },
  {
   "cell_type": "code",
   "execution_count": 39,
   "id": "39a0740c",
   "metadata": {},
   "outputs": [
    {
     "name": "stdout",
     "output_type": "stream",
     "text": [
      "False    45215\n",
      "True       215\n",
      "Name: should_remove, dtype: int64\n"
     ]
    }
   ],
   "source": [
    "def filter_10_nan(row):\n",
    "    non_nan_count = len(row) - row.isna().sum().sum()\n",
    "    if (non_nan_count) >= 10:\n",
    "        return False\n",
    "    return True\n",
    "\n",
    "df['should_remove'] = df.apply(filter_10_nan, axis=1)\n",
    "print(df['should_remove'].value_counts())\n",
    "df = df[df['should_remove'] == False]\n",
    "df.drop('should_remove', axis=1, inplace=True)"
   ]
  },
  {
   "cell_type": "code",
   "execution_count": 40,
   "id": "8bedda2e",
   "metadata": {},
   "outputs": [
    {
     "data": {
      "text/plain": [
       "45215"
      ]
     },
     "execution_count": 40,
     "metadata": {},
     "output_type": "execute_result"
    }
   ],
   "source": [
    "len(df)"
   ]
  },
  {
   "cell_type": "markdown",
   "id": "3f214b9e",
   "metadata": {},
   "source": [
    "__Keep__ only those rows/movies in the df with __status \"Released\"__. Then __drop__ the column \"status\"."
   ]
  },
  {
   "cell_type": "code",
   "execution_count": 41,
   "id": "62cc9c64",
   "metadata": {},
   "outputs": [
    {
     "data": {
      "text/plain": [
       "0        Released\n",
       "1        Released\n",
       "2        Released\n",
       "3        Released\n",
       "4        Released\n",
       "           ...   \n",
       "45461    Released\n",
       "45462    Released\n",
       "45463    Released\n",
       "45464    Released\n",
       "45465    Released\n",
       "Name: status, Length: 45215, dtype: object"
      ]
     },
     "execution_count": 41,
     "metadata": {},
     "output_type": "execute_result"
    }
   ],
   "source": [
    "df[\"status\"]"
   ]
  },
  {
   "cell_type": "code",
   "execution_count": 42,
   "id": "48bd5c9d",
   "metadata": {},
   "outputs": [],
   "source": [
    "df = df[df['status'] == 'Released']"
   ]
  },
  {
   "cell_type": "code",
   "execution_count": 43,
   "id": "6ded891c",
   "metadata": {},
   "outputs": [],
   "source": [
    "df.drop('status', axis=1, inplace=True)"
   ]
  },
  {
   "cell_type": "code",
   "execution_count": 44,
   "id": "c291c200",
   "metadata": {},
   "outputs": [
    {
     "data": {
      "text/plain": [
       "44784"
      ]
     },
     "execution_count": 44,
     "metadata": {},
     "output_type": "execute_result"
    }
   ],
   "source": [
    "len(df)"
   ]
  },
  {
   "cell_type": "markdown",
   "id": "8e7a378c",
   "metadata": {},
   "source": [
    "The Order of the columns should be as follows: "
   ]
  },
  {
   "cell_type": "markdown",
   "id": "ad7b0235",
   "metadata": {},
   "source": [
    "[\"id\", \"title\", \"tagline\", \"release_date\", \"genres\", \"belongs_to_collection\", \n",
    "\"original_language\", \"budget_musd\", \"revenue_musd\", \"production_companies\",\n",
    "\"production_countries\", \"vote_count\", \"vote_average\", \"popularity\", \"runtime\",\n",
    "\"overview\", \"spoken_languages\", \"poster_path\"]"
   ]
  },
  {
   "cell_type": "code",
   "execution_count": 45,
   "id": "8fde22d6",
   "metadata": {
    "scrolled": true
   },
   "outputs": [
    {
     "data": {
      "text/plain": [
       "Index(['belongs_to_collection', 'genres', 'id', 'original_language',\n",
       "       'overview', 'popularity', 'poster_path', 'production_companies',\n",
       "       'production_countries', 'release_date', 'runtime', 'spoken_languages',\n",
       "       'tagline', 'title', 'vote_average', 'vote_count', 'budget_musd',\n",
       "       'revenue_musd'],\n",
       "      dtype='object')"
      ]
     },
     "execution_count": 45,
     "metadata": {},
     "output_type": "execute_result"
    }
   ],
   "source": [
    "df.columns"
   ]
  },
  {
   "cell_type": "code",
   "execution_count": 46,
   "id": "488b163d",
   "metadata": {},
   "outputs": [],
   "source": [
    "df = df[[\"id\", \"title\", \"tagline\", \"release_date\", \"genres\", \"belongs_to_collection\", \"original_language\", \"budget_musd\", \"revenue_musd\", \"production_companies\", \"production_countries\", \"vote_count\", \"vote_average\", \"popularity\", \"runtime\", \"overview\", \"spoken_languages\", \"poster_path\"]]"
   ]
  },
  {
   "cell_type": "code",
   "execution_count": 47,
   "id": "bb063e81",
   "metadata": {},
   "outputs": [
    {
     "data": {
      "text/plain": [
       "Index(['id', 'title', 'tagline', 'release_date', 'genres',\n",
       "       'belongs_to_collection', 'original_language', 'budget_musd',\n",
       "       'revenue_musd', 'production_companies', 'production_countries',\n",
       "       'vote_count', 'vote_average', 'popularity', 'runtime', 'overview',\n",
       "       'spoken_languages', 'poster_path'],\n",
       "      dtype='object')"
      ]
     },
     "execution_count": 47,
     "metadata": {},
     "output_type": "execute_result"
    }
   ],
   "source": [
    "df.columns"
   ]
  },
  {
   "cell_type": "markdown",
   "id": "753e4794",
   "metadata": {},
   "source": [
    "__Reset__ the Index and create a __RangeIndex__."
   ]
  },
  {
   "cell_type": "code",
   "execution_count": 48,
   "id": "4f9432fe",
   "metadata": {},
   "outputs": [
    {
     "data": {
      "text/plain": [
       "Int64Index([    0,     1,     2,     3,     4,     5,     6,     7,     8,\n",
       "                9,\n",
       "            ...\n",
       "            45456, 45457, 45458, 45459, 45460, 45461, 45462, 45463, 45464,\n",
       "            45465],\n",
       "           dtype='int64', length=44784)"
      ]
     },
     "execution_count": 48,
     "metadata": {},
     "output_type": "execute_result"
    }
   ],
   "source": [
    "df.index"
   ]
  },
  {
   "cell_type": "code",
   "execution_count": 49,
   "id": "53b2ab2c",
   "metadata": {},
   "outputs": [],
   "source": [
    "df.reset_index(inplace=True)"
   ]
  },
  {
   "cell_type": "code",
   "execution_count": 50,
   "id": "613f5c71",
   "metadata": {},
   "outputs": [
    {
     "data": {
      "text/plain": [
       "RangeIndex(start=0, stop=44784, step=1)"
      ]
     },
     "execution_count": 50,
     "metadata": {},
     "output_type": "execute_result"
    }
   ],
   "source": [
    "df.index"
   ]
  },
  {
   "cell_type": "code",
   "execution_count": 51,
   "id": "763f9b2c",
   "metadata": {},
   "outputs": [],
   "source": [
    "df.drop('index', axis=1, inplace=True)"
   ]
  },
  {
   "cell_type": "code",
   "execution_count": null,
   "id": "f075d435",
   "metadata": {},
   "outputs": [],
   "source": []
  }
 ],
 "metadata": {
  "kernelspec": {
   "display_name": "Python 3 (ipykernel)",
   "language": "python",
   "name": "python3"
  },
  "language_info": {
   "codemirror_mode": {
    "name": "ipython",
    "version": 3
   },
   "file_extension": ".py",
   "mimetype": "text/x-python",
   "name": "python",
   "nbconvert_exporter": "python",
   "pygments_lexer": "ipython3",
   "version": "3.10.9"
  }
 },
 "nbformat": 4,
 "nbformat_minor": 5
}
