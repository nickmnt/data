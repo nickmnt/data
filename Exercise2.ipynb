{
  "cells": [
    {
      "cell_type": "markdown",
      "source": [
        "# Exercise 2 (Introduction to computational intelligence)\n",
        "<center><strong>\n",
        "سیدنیما معین تقوی 9822762211\n",
        "</strong></center>"
      ],
      "metadata": {
        "id": "OpAnOsvvM_hb"
      }
    },
    {
      "cell_type": "markdown",
      "source": [
        "## Preprocessing\n",
        "We use the mean value to fill missing values. In addition, we convert columns containing string values to integers, so that we can use them in our neural models. The method used to do this is better than using dummy variables because most of the string data are ratings or similar to ratings, meaning that a higher amount is better, and a lower amount is worse."
      ],
      "metadata": {
        "id": "79slvVZDN-NL"
      }
    },
    {
      "cell_type": "code",
      "source": [
        "import numpy as np\n",
        "import pandas as pd\n",
        "import matplotlib.pyplot as plt\n",
        "import seaborn as sns\n",
        "\n",
        "%matplotlib inline"
      ],
      "metadata": {
        "id": "AO6LU-pDnZ8J"
      },
      "execution_count": 1,
      "outputs": []
    },
    {
      "cell_type": "code",
      "execution_count": 2,
      "metadata": {
        "id": "cvzP_U3Olmew"
      },
      "outputs": [],
      "source": [
        "df = pd.read_csv('/content/drive/MyDrive/uni/train.csv')\n",
        "df1 = pd.read_csv('/content/drive/MyDrive/uni/test.csv')"
      ]
    },
    {
      "cell_type": "code",
      "source": [
        "df.head()"
      ],
      "metadata": {
        "colab": {
          "base_uri": "https://localhost:8080/",
          "height": 438
        },
        "id": "smk7qCbWnUpR",
        "outputId": "0892afe9-e121-4e42-bcc6-2add83510681"
      },
      "execution_count": 3,
      "outputs": [
        {
          "output_type": "execute_result",
          "data": {
            "text/plain": [
              "   Unnamed: 0      id  Gender      Customer Type  Age   Type of Travel  \\\n",
              "0           0   70172    Male     Loyal Customer   13  Personal Travel   \n",
              "1           1    5047    Male  disloyal Customer   25  Business travel   \n",
              "2           2  110028  Female     Loyal Customer   26  Business travel   \n",
              "3           3   24026  Female     Loyal Customer   25  Business travel   \n",
              "4           4  119299    Male     Loyal Customer   61  Business travel   \n",
              "\n",
              "      Class  Flight Distance  Inflight wifi service  \\\n",
              "0  Eco Plus              460                      3   \n",
              "1  Business              235                      3   \n",
              "2  Business             1142                      2   \n",
              "3  Business              562                      2   \n",
              "4  Business              214                      3   \n",
              "\n",
              "   Departure/Arrival time convenient  ...  Inflight entertainment  \\\n",
              "0                                  4  ...                       5   \n",
              "1                                  2  ...                       1   \n",
              "2                                  2  ...                       5   \n",
              "3                                  5  ...                       2   \n",
              "4                                  3  ...                       3   \n",
              "\n",
              "   On-board service  Leg room service  Baggage handling  Checkin service  \\\n",
              "0                 4                 3                 4                4   \n",
              "1                 1                 5                 3                1   \n",
              "2                 4                 3                 4                4   \n",
              "3                 2                 5                 3                1   \n",
              "4                 3                 4                 4                3   \n",
              "\n",
              "   Inflight service  Cleanliness  Departure Delay in Minutes  \\\n",
              "0                 5            5                          25   \n",
              "1                 4            1                           1   \n",
              "2                 4            5                           0   \n",
              "3                 4            2                          11   \n",
              "4                 3            3                           0   \n",
              "\n",
              "   Arrival Delay in Minutes             satisfaction  \n",
              "0                      18.0  neutral or dissatisfied  \n",
              "1                       6.0  neutral or dissatisfied  \n",
              "2                       0.0                satisfied  \n",
              "3                       9.0  neutral or dissatisfied  \n",
              "4                       0.0                satisfied  \n",
              "\n",
              "[5 rows x 25 columns]"
            ],
            "text/html": [
              "\n",
              "  <div id=\"df-179d1e5f-9d3c-4699-9285-d8d3f1b125af\">\n",
              "    <div class=\"colab-df-container\">\n",
              "      <div>\n",
              "<style scoped>\n",
              "    .dataframe tbody tr th:only-of-type {\n",
              "        vertical-align: middle;\n",
              "    }\n",
              "\n",
              "    .dataframe tbody tr th {\n",
              "        vertical-align: top;\n",
              "    }\n",
              "\n",
              "    .dataframe thead th {\n",
              "        text-align: right;\n",
              "    }\n",
              "</style>\n",
              "<table border=\"1\" class=\"dataframe\">\n",
              "  <thead>\n",
              "    <tr style=\"text-align: right;\">\n",
              "      <th></th>\n",
              "      <th>Unnamed: 0</th>\n",
              "      <th>id</th>\n",
              "      <th>Gender</th>\n",
              "      <th>Customer Type</th>\n",
              "      <th>Age</th>\n",
              "      <th>Type of Travel</th>\n",
              "      <th>Class</th>\n",
              "      <th>Flight Distance</th>\n",
              "      <th>Inflight wifi service</th>\n",
              "      <th>Departure/Arrival time convenient</th>\n",
              "      <th>...</th>\n",
              "      <th>Inflight entertainment</th>\n",
              "      <th>On-board service</th>\n",
              "      <th>Leg room service</th>\n",
              "      <th>Baggage handling</th>\n",
              "      <th>Checkin service</th>\n",
              "      <th>Inflight service</th>\n",
              "      <th>Cleanliness</th>\n",
              "      <th>Departure Delay in Minutes</th>\n",
              "      <th>Arrival Delay in Minutes</th>\n",
              "      <th>satisfaction</th>\n",
              "    </tr>\n",
              "  </thead>\n",
              "  <tbody>\n",
              "    <tr>\n",
              "      <th>0</th>\n",
              "      <td>0</td>\n",
              "      <td>70172</td>\n",
              "      <td>Male</td>\n",
              "      <td>Loyal Customer</td>\n",
              "      <td>13</td>\n",
              "      <td>Personal Travel</td>\n",
              "      <td>Eco Plus</td>\n",
              "      <td>460</td>\n",
              "      <td>3</td>\n",
              "      <td>4</td>\n",
              "      <td>...</td>\n",
              "      <td>5</td>\n",
              "      <td>4</td>\n",
              "      <td>3</td>\n",
              "      <td>4</td>\n",
              "      <td>4</td>\n",
              "      <td>5</td>\n",
              "      <td>5</td>\n",
              "      <td>25</td>\n",
              "      <td>18.0</td>\n",
              "      <td>neutral or dissatisfied</td>\n",
              "    </tr>\n",
              "    <tr>\n",
              "      <th>1</th>\n",
              "      <td>1</td>\n",
              "      <td>5047</td>\n",
              "      <td>Male</td>\n",
              "      <td>disloyal Customer</td>\n",
              "      <td>25</td>\n",
              "      <td>Business travel</td>\n",
              "      <td>Business</td>\n",
              "      <td>235</td>\n",
              "      <td>3</td>\n",
              "      <td>2</td>\n",
              "      <td>...</td>\n",
              "      <td>1</td>\n",
              "      <td>1</td>\n",
              "      <td>5</td>\n",
              "      <td>3</td>\n",
              "      <td>1</td>\n",
              "      <td>4</td>\n",
              "      <td>1</td>\n",
              "      <td>1</td>\n",
              "      <td>6.0</td>\n",
              "      <td>neutral or dissatisfied</td>\n",
              "    </tr>\n",
              "    <tr>\n",
              "      <th>2</th>\n",
              "      <td>2</td>\n",
              "      <td>110028</td>\n",
              "      <td>Female</td>\n",
              "      <td>Loyal Customer</td>\n",
              "      <td>26</td>\n",
              "      <td>Business travel</td>\n",
              "      <td>Business</td>\n",
              "      <td>1142</td>\n",
              "      <td>2</td>\n",
              "      <td>2</td>\n",
              "      <td>...</td>\n",
              "      <td>5</td>\n",
              "      <td>4</td>\n",
              "      <td>3</td>\n",
              "      <td>4</td>\n",
              "      <td>4</td>\n",
              "      <td>4</td>\n",
              "      <td>5</td>\n",
              "      <td>0</td>\n",
              "      <td>0.0</td>\n",
              "      <td>satisfied</td>\n",
              "    </tr>\n",
              "    <tr>\n",
              "      <th>3</th>\n",
              "      <td>3</td>\n",
              "      <td>24026</td>\n",
              "      <td>Female</td>\n",
              "      <td>Loyal Customer</td>\n",
              "      <td>25</td>\n",
              "      <td>Business travel</td>\n",
              "      <td>Business</td>\n",
              "      <td>562</td>\n",
              "      <td>2</td>\n",
              "      <td>5</td>\n",
              "      <td>...</td>\n",
              "      <td>2</td>\n",
              "      <td>2</td>\n",
              "      <td>5</td>\n",
              "      <td>3</td>\n",
              "      <td>1</td>\n",
              "      <td>4</td>\n",
              "      <td>2</td>\n",
              "      <td>11</td>\n",
              "      <td>9.0</td>\n",
              "      <td>neutral or dissatisfied</td>\n",
              "    </tr>\n",
              "    <tr>\n",
              "      <th>4</th>\n",
              "      <td>4</td>\n",
              "      <td>119299</td>\n",
              "      <td>Male</td>\n",
              "      <td>Loyal Customer</td>\n",
              "      <td>61</td>\n",
              "      <td>Business travel</td>\n",
              "      <td>Business</td>\n",
              "      <td>214</td>\n",
              "      <td>3</td>\n",
              "      <td>3</td>\n",
              "      <td>...</td>\n",
              "      <td>3</td>\n",
              "      <td>3</td>\n",
              "      <td>4</td>\n",
              "      <td>4</td>\n",
              "      <td>3</td>\n",
              "      <td>3</td>\n",
              "      <td>3</td>\n",
              "      <td>0</td>\n",
              "      <td>0.0</td>\n",
              "      <td>satisfied</td>\n",
              "    </tr>\n",
              "  </tbody>\n",
              "</table>\n",
              "<p>5 rows × 25 columns</p>\n",
              "</div>\n",
              "      <button class=\"colab-df-convert\" onclick=\"convertToInteractive('df-179d1e5f-9d3c-4699-9285-d8d3f1b125af')\"\n",
              "              title=\"Convert this dataframe to an interactive table.\"\n",
              "              style=\"display:none;\">\n",
              "        \n",
              "  <svg xmlns=\"http://www.w3.org/2000/svg\" height=\"24px\"viewBox=\"0 0 24 24\"\n",
              "       width=\"24px\">\n",
              "    <path d=\"M0 0h24v24H0V0z\" fill=\"none\"/>\n",
              "    <path d=\"M18.56 5.44l.94 2.06.94-2.06 2.06-.94-2.06-.94-.94-2.06-.94 2.06-2.06.94zm-11 1L8.5 8.5l.94-2.06 2.06-.94-2.06-.94L8.5 2.5l-.94 2.06-2.06.94zm10 10l.94 2.06.94-2.06 2.06-.94-2.06-.94-.94-2.06-.94 2.06-2.06.94z\"/><path d=\"M17.41 7.96l-1.37-1.37c-.4-.4-.92-.59-1.43-.59-.52 0-1.04.2-1.43.59L10.3 9.45l-7.72 7.72c-.78.78-.78 2.05 0 2.83L4 21.41c.39.39.9.59 1.41.59.51 0 1.02-.2 1.41-.59l7.78-7.78 2.81-2.81c.8-.78.8-2.07 0-2.86zM5.41 20L4 18.59l7.72-7.72 1.47 1.35L5.41 20z\"/>\n",
              "  </svg>\n",
              "      </button>\n",
              "      \n",
              "  <style>\n",
              "    .colab-df-container {\n",
              "      display:flex;\n",
              "      flex-wrap:wrap;\n",
              "      gap: 12px;\n",
              "    }\n",
              "\n",
              "    .colab-df-convert {\n",
              "      background-color: #E8F0FE;\n",
              "      border: none;\n",
              "      border-radius: 50%;\n",
              "      cursor: pointer;\n",
              "      display: none;\n",
              "      fill: #1967D2;\n",
              "      height: 32px;\n",
              "      padding: 0 0 0 0;\n",
              "      width: 32px;\n",
              "    }\n",
              "\n",
              "    .colab-df-convert:hover {\n",
              "      background-color: #E2EBFA;\n",
              "      box-shadow: 0px 1px 2px rgba(60, 64, 67, 0.3), 0px 1px 3px 1px rgba(60, 64, 67, 0.15);\n",
              "      fill: #174EA6;\n",
              "    }\n",
              "\n",
              "    [theme=dark] .colab-df-convert {\n",
              "      background-color: #3B4455;\n",
              "      fill: #D2E3FC;\n",
              "    }\n",
              "\n",
              "    [theme=dark] .colab-df-convert:hover {\n",
              "      background-color: #434B5C;\n",
              "      box-shadow: 0px 1px 3px 1px rgba(0, 0, 0, 0.15);\n",
              "      filter: drop-shadow(0px 1px 2px rgba(0, 0, 0, 0.3));\n",
              "      fill: #FFFFFF;\n",
              "    }\n",
              "  </style>\n",
              "\n",
              "      <script>\n",
              "        const buttonEl =\n",
              "          document.querySelector('#df-179d1e5f-9d3c-4699-9285-d8d3f1b125af button.colab-df-convert');\n",
              "        buttonEl.style.display =\n",
              "          google.colab.kernel.accessAllowed ? 'block' : 'none';\n",
              "\n",
              "        async function convertToInteractive(key) {\n",
              "          const element = document.querySelector('#df-179d1e5f-9d3c-4699-9285-d8d3f1b125af');\n",
              "          const dataTable =\n",
              "            await google.colab.kernel.invokeFunction('convertToInteractive',\n",
              "                                                     [key], {});\n",
              "          if (!dataTable) return;\n",
              "\n",
              "          const docLinkHtml = 'Like what you see? Visit the ' +\n",
              "            '<a target=\"_blank\" href=https://colab.research.google.com/notebooks/data_table.ipynb>data table notebook</a>'\n",
              "            + ' to learn more about interactive tables.';\n",
              "          element.innerHTML = '';\n",
              "          dataTable['output_type'] = 'display_data';\n",
              "          await google.colab.output.renderOutput(dataTable, element);\n",
              "          const docLink = document.createElement('div');\n",
              "          docLink.innerHTML = docLinkHtml;\n",
              "          element.appendChild(docLink);\n",
              "        }\n",
              "      </script>\n",
              "    </div>\n",
              "  </div>\n",
              "  "
            ]
          },
          "metadata": {},
          "execution_count": 3
        }
      ]
    },
    {
      "cell_type": "code",
      "source": [
        "df.info()"
      ],
      "metadata": {
        "colab": {
          "base_uri": "https://localhost:8080/"
        },
        "id": "iAg-wvNBpOvH",
        "outputId": "73fa8e93-1dc5-4c0a-8460-4213ddb16746"
      },
      "execution_count": 4,
      "outputs": [
        {
          "output_type": "stream",
          "name": "stdout",
          "text": [
            "<class 'pandas.core.frame.DataFrame'>\n",
            "RangeIndex: 103904 entries, 0 to 103903\n",
            "Data columns (total 25 columns):\n",
            " #   Column                             Non-Null Count   Dtype  \n",
            "---  ------                             --------------   -----  \n",
            " 0   Unnamed: 0                         103904 non-null  int64  \n",
            " 1   id                                 103904 non-null  int64  \n",
            " 2   Gender                             103904 non-null  object \n",
            " 3   Customer Type                      103904 non-null  object \n",
            " 4   Age                                103904 non-null  int64  \n",
            " 5   Type of Travel                     103904 non-null  object \n",
            " 6   Class                              103904 non-null  object \n",
            " 7   Flight Distance                    103904 non-null  int64  \n",
            " 8   Inflight wifi service              103904 non-null  int64  \n",
            " 9   Departure/Arrival time convenient  103904 non-null  int64  \n",
            " 10  Ease of Online booking             103904 non-null  int64  \n",
            " 11  Gate location                      103904 non-null  int64  \n",
            " 12  Food and drink                     103904 non-null  int64  \n",
            " 13  Online boarding                    103904 non-null  int64  \n",
            " 14  Seat comfort                       103904 non-null  int64  \n",
            " 15  Inflight entertainment             103904 non-null  int64  \n",
            " 16  On-board service                   103904 non-null  int64  \n",
            " 17  Leg room service                   103904 non-null  int64  \n",
            " 18  Baggage handling                   103904 non-null  int64  \n",
            " 19  Checkin service                    103904 non-null  int64  \n",
            " 20  Inflight service                   103904 non-null  int64  \n",
            " 21  Cleanliness                        103904 non-null  int64  \n",
            " 22  Departure Delay in Minutes         103904 non-null  int64  \n",
            " 23  Arrival Delay in Minutes           103594 non-null  float64\n",
            " 24  satisfaction                       103904 non-null  object \n",
            "dtypes: float64(1), int64(19), object(5)\n",
            "memory usage: 19.8+ MB\n"
          ]
        }
      ]
    },
    {
      "cell_type": "code",
      "source": [
        "df.isnull().sum()"
      ],
      "metadata": {
        "colab": {
          "base_uri": "https://localhost:8080/"
        },
        "id": "p_1JQOTBnog4",
        "outputId": "9b4b8d98-e757-4688-ef51-ef01610c2dcf"
      },
      "execution_count": 5,
      "outputs": [
        {
          "output_type": "execute_result",
          "data": {
            "text/plain": [
              "Unnamed: 0                             0\n",
              "id                                     0\n",
              "Gender                                 0\n",
              "Customer Type                          0\n",
              "Age                                    0\n",
              "Type of Travel                         0\n",
              "Class                                  0\n",
              "Flight Distance                        0\n",
              "Inflight wifi service                  0\n",
              "Departure/Arrival time convenient      0\n",
              "Ease of Online booking                 0\n",
              "Gate location                          0\n",
              "Food and drink                         0\n",
              "Online boarding                        0\n",
              "Seat comfort                           0\n",
              "Inflight entertainment                 0\n",
              "On-board service                       0\n",
              "Leg room service                       0\n",
              "Baggage handling                       0\n",
              "Checkin service                        0\n",
              "Inflight service                       0\n",
              "Cleanliness                            0\n",
              "Departure Delay in Minutes             0\n",
              "Arrival Delay in Minutes             310\n",
              "satisfaction                           0\n",
              "dtype: int64"
            ]
          },
          "metadata": {},
          "execution_count": 5
        }
      ]
    },
    {
      "cell_type": "code",
      "source": [
        "df.isnull().sum() / len(df)"
      ],
      "metadata": {
        "colab": {
          "base_uri": "https://localhost:8080/"
        },
        "id": "7HCNLWduno-n",
        "outputId": "93dc8cf3-7bb5-4343-a856-ab71032aa068"
      },
      "execution_count": 6,
      "outputs": [
        {
          "output_type": "execute_result",
          "data": {
            "text/plain": [
              "Unnamed: 0                           0.000000\n",
              "id                                   0.000000\n",
              "Gender                               0.000000\n",
              "Customer Type                        0.000000\n",
              "Age                                  0.000000\n",
              "Type of Travel                       0.000000\n",
              "Class                                0.000000\n",
              "Flight Distance                      0.000000\n",
              "Inflight wifi service                0.000000\n",
              "Departure/Arrival time convenient    0.000000\n",
              "Ease of Online booking               0.000000\n",
              "Gate location                        0.000000\n",
              "Food and drink                       0.000000\n",
              "Online boarding                      0.000000\n",
              "Seat comfort                         0.000000\n",
              "Inflight entertainment               0.000000\n",
              "On-board service                     0.000000\n",
              "Leg room service                     0.000000\n",
              "Baggage handling                     0.000000\n",
              "Checkin service                      0.000000\n",
              "Inflight service                     0.000000\n",
              "Cleanliness                          0.000000\n",
              "Departure Delay in Minutes           0.000000\n",
              "Arrival Delay in Minutes             0.002984\n",
              "satisfaction                         0.000000\n",
              "dtype: float64"
            ]
          },
          "metadata": {},
          "execution_count": 6
        }
      ]
    },
    {
      "cell_type": "code",
      "source": [
        "df['Arrival Delay in Minutes'].mean()"
      ],
      "metadata": {
        "colab": {
          "base_uri": "https://localhost:8080/"
        },
        "id": "38UQ-DV_nuNA",
        "outputId": "e17cf8d9-eac4-4664-a958-812303704d36"
      },
      "execution_count": 7,
      "outputs": [
        {
          "output_type": "execute_result",
          "data": {
            "text/plain": [
              "15.178678301832152"
            ]
          },
          "metadata": {},
          "execution_count": 7
        }
      ]
    },
    {
      "cell_type": "code",
      "source": [
        "mean = df['Arrival Delay in Minutes'].mean()\n",
        "\n",
        "def transform_fun(x):\n",
        "  if pd.isnull(x):\n",
        "    return mean\n",
        "  else:\n",
        "    return x\n",
        "\n",
        "df['Arrival Delay in Minutes'] = df['Arrival Delay in Minutes'].apply(transform_fun)"
      ],
      "metadata": {
        "id": "SUQUqqkFn7ZA"
      },
      "execution_count": 8,
      "outputs": []
    },
    {
      "cell_type": "code",
      "source": [
        "mean = df1['Arrival Delay in Minutes'].mean()\n",
        "\n",
        "def transform_fun(x):\n",
        "  if pd.isnull(x):\n",
        "    return mean\n",
        "  else:\n",
        "    return x\n",
        "\n",
        "df1['Arrival Delay in Minutes'] = df1['Arrival Delay in Minutes'].apply(transform_fun)"
      ],
      "metadata": {
        "id": "YIO-VLKusB14"
      },
      "execution_count": 9,
      "outputs": []
    },
    {
      "cell_type": "code",
      "source": [
        "df.isnull().sum()"
      ],
      "metadata": {
        "colab": {
          "base_uri": "https://localhost:8080/"
        },
        "id": "xvroWZv8oFwo",
        "outputId": "cffbd016-9954-4e5c-b57c-d00d26755557"
      },
      "execution_count": 10,
      "outputs": [
        {
          "output_type": "execute_result",
          "data": {
            "text/plain": [
              "Unnamed: 0                           0\n",
              "id                                   0\n",
              "Gender                               0\n",
              "Customer Type                        0\n",
              "Age                                  0\n",
              "Type of Travel                       0\n",
              "Class                                0\n",
              "Flight Distance                      0\n",
              "Inflight wifi service                0\n",
              "Departure/Arrival time convenient    0\n",
              "Ease of Online booking               0\n",
              "Gate location                        0\n",
              "Food and drink                       0\n",
              "Online boarding                      0\n",
              "Seat comfort                         0\n",
              "Inflight entertainment               0\n",
              "On-board service                     0\n",
              "Leg room service                     0\n",
              "Baggage handling                     0\n",
              "Checkin service                      0\n",
              "Inflight service                     0\n",
              "Cleanliness                          0\n",
              "Departure Delay in Minutes           0\n",
              "Arrival Delay in Minutes             0\n",
              "satisfaction                         0\n",
              "dtype: int64"
            ]
          },
          "metadata": {},
          "execution_count": 10
        }
      ]
    },
    {
      "cell_type": "code",
      "source": [
        "df['Gender'].value_counts()"
      ],
      "metadata": {
        "colab": {
          "base_uri": "https://localhost:8080/"
        },
        "id": "SIPQfIQ7ooYg",
        "outputId": "251f7578-dd2d-411a-ebb8-8674c828a9ad"
      },
      "execution_count": 11,
      "outputs": [
        {
          "output_type": "execute_result",
          "data": {
            "text/plain": [
              "Female    52727\n",
              "Male      51177\n",
              "Name: Gender, dtype: int64"
            ]
          },
          "metadata": {},
          "execution_count": 11
        }
      ]
    },
    {
      "cell_type": "code",
      "source": [
        "df['Gender'] = df['Gender'].apply(lambda x: 1 if x == 'Female' else 0)"
      ],
      "metadata": {
        "id": "C1RhHMuTphdg"
      },
      "execution_count": 12,
      "outputs": []
    },
    {
      "cell_type": "code",
      "source": [
        "df1['Gender'] = df1['Gender'].apply(lambda x: 1 if x == 'Female' else 0)"
      ],
      "metadata": {
        "id": "Wp4bdxKqsFIA"
      },
      "execution_count": 13,
      "outputs": []
    },
    {
      "cell_type": "code",
      "source": [
        "df['Gender'].value_counts()"
      ],
      "metadata": {
        "colab": {
          "base_uri": "https://localhost:8080/"
        },
        "id": "BVdO9AOQsHLI",
        "outputId": "26ee8277-e9f1-4e3b-d6d4-d82e96a89ff8"
      },
      "execution_count": 14,
      "outputs": [
        {
          "output_type": "execute_result",
          "data": {
            "text/plain": [
              "1    52727\n",
              "0    51177\n",
              "Name: Gender, dtype: int64"
            ]
          },
          "metadata": {},
          "execution_count": 14
        }
      ]
    },
    {
      "cell_type": "code",
      "source": [
        "df['Customer Type'].value_counts()"
      ],
      "metadata": {
        "colab": {
          "base_uri": "https://localhost:8080/"
        },
        "id": "3c0V8-_XpB9c",
        "outputId": "821d9662-557d-4e11-b0a5-b3a4c7606516"
      },
      "execution_count": 15,
      "outputs": [
        {
          "output_type": "execute_result",
          "data": {
            "text/plain": [
              "Loyal Customer       84923\n",
              "disloyal Customer    18981\n",
              "Name: Customer Type, dtype: int64"
            ]
          },
          "metadata": {},
          "execution_count": 15
        }
      ]
    },
    {
      "cell_type": "code",
      "source": [
        "df['Customer Type'] = df['Customer Type'].apply(lambda x: 1 if x == 'Loyal Customer' else 0)"
      ],
      "metadata": {
        "id": "FsOlVzSSp5xI"
      },
      "execution_count": 16,
      "outputs": []
    },
    {
      "cell_type": "code",
      "source": [
        "df1['Customer Type'] = df1['Customer Type'].apply(lambda x: 1 if x == 'Loyal Customer' else 0)"
      ],
      "metadata": {
        "id": "uQNpf-AasH66"
      },
      "execution_count": 17,
      "outputs": []
    },
    {
      "cell_type": "code",
      "source": [
        "df['Customer Type'].value_counts()"
      ],
      "metadata": {
        "colab": {
          "base_uri": "https://localhost:8080/"
        },
        "id": "5CVqQewPsJfA",
        "outputId": "ce81d264-f493-4820-96b9-147f8ba3bb77"
      },
      "execution_count": 18,
      "outputs": [
        {
          "output_type": "execute_result",
          "data": {
            "text/plain": [
              "1    84923\n",
              "0    18981\n",
              "Name: Customer Type, dtype: int64"
            ]
          },
          "metadata": {},
          "execution_count": 18
        }
      ]
    },
    {
      "cell_type": "code",
      "source": [
        "df['Type of Travel'].value_counts()"
      ],
      "metadata": {
        "colab": {
          "base_uri": "https://localhost:8080/"
        },
        "id": "GaxgsiJFpL9w",
        "outputId": "99fccedc-592d-4f32-9bea-f01b06b3044c"
      },
      "execution_count": 19,
      "outputs": [
        {
          "output_type": "execute_result",
          "data": {
            "text/plain": [
              "Business travel    71655\n",
              "Personal Travel    32249\n",
              "Name: Type of Travel, dtype: int64"
            ]
          },
          "metadata": {},
          "execution_count": 19
        }
      ]
    },
    {
      "cell_type": "code",
      "source": [
        "df['Type of Travel'] = df['Type of Travel'].apply(lambda x: 1 if x == 'Business travel' else 0)"
      ],
      "metadata": {
        "id": "4M-g_ov5p87p"
      },
      "execution_count": 20,
      "outputs": []
    },
    {
      "cell_type": "code",
      "source": [
        "df1['Type of Travel'] = df1['Type of Travel'].apply(lambda x: 1 if x == 'Business travel' else 0)"
      ],
      "metadata": {
        "id": "ex7xis9EsKuI"
      },
      "execution_count": 21,
      "outputs": []
    },
    {
      "cell_type": "code",
      "source": [
        "df['Type of Travel'].value_counts()"
      ],
      "metadata": {
        "colab": {
          "base_uri": "https://localhost:8080/"
        },
        "id": "D9rX7zU0sMng",
        "outputId": "b2714deb-adc1-46fc-f4e3-00b382bfb0ef"
      },
      "execution_count": 22,
      "outputs": [
        {
          "output_type": "execute_result",
          "data": {
            "text/plain": [
              "1    71655\n",
              "0    32249\n",
              "Name: Type of Travel, dtype: int64"
            ]
          },
          "metadata": {},
          "execution_count": 22
        }
      ]
    },
    {
      "cell_type": "code",
      "source": [
        "df['Class'].value_counts()"
      ],
      "metadata": {
        "colab": {
          "base_uri": "https://localhost:8080/"
        },
        "id": "tOrC_XcMpUen",
        "outputId": "f4bb825d-01d4-4682-bc47-dabf72251c27"
      },
      "execution_count": 23,
      "outputs": [
        {
          "output_type": "execute_result",
          "data": {
            "text/plain": [
              "Business    49665\n",
              "Eco         46745\n",
              "Eco Plus     7494\n",
              "Name: Class, dtype: int64"
            ]
          },
          "metadata": {},
          "execution_count": 23
        }
      ]
    },
    {
      "cell_type": "code",
      "source": [
        "def transform_fun(x):\n",
        "  if x == 'Business':\n",
        "    return 2\n",
        "  elif x == 'Eco Plus':\n",
        "    return 1\n",
        "  else:\n",
        "    return 0\n",
        "\n",
        "df['Class'] = df['Class'].apply(transform_fun)"
      ],
      "metadata": {
        "id": "WOqIXLOxp_jH"
      },
      "execution_count": 24,
      "outputs": []
    },
    {
      "cell_type": "code",
      "source": [
        "def transform_fun(x):\n",
        "  if x == 'Business':\n",
        "    return 2\n",
        "  elif x == 'Eco Plus':\n",
        "    return 1\n",
        "  else:\n",
        "    return 0\n",
        "\n",
        "df1['Class'] = df1['Class'].apply(transform_fun)"
      ],
      "metadata": {
        "id": "F8HgKaHUsN_A"
      },
      "execution_count": 25,
      "outputs": []
    },
    {
      "cell_type": "code",
      "source": [
        "df['Class'].value_counts()"
      ],
      "metadata": {
        "colab": {
          "base_uri": "https://localhost:8080/"
        },
        "id": "JoH2To26sPio",
        "outputId": "8b184927-905f-4e6c-aea9-502bc631ffd1"
      },
      "execution_count": 26,
      "outputs": [
        {
          "output_type": "execute_result",
          "data": {
            "text/plain": [
              "2    49665\n",
              "0    46745\n",
              "1     7494\n",
              "Name: Class, dtype: int64"
            ]
          },
          "metadata": {},
          "execution_count": 26
        }
      ]
    },
    {
      "cell_type": "code",
      "source": [
        "df['satisfaction'].value_counts()"
      ],
      "metadata": {
        "colab": {
          "base_uri": "https://localhost:8080/"
        },
        "id": "KXloT2PipXO4",
        "outputId": "293f1e25-fb46-4d3e-e086-ea722c3c2867"
      },
      "execution_count": 27,
      "outputs": [
        {
          "output_type": "execute_result",
          "data": {
            "text/plain": [
              "neutral or dissatisfied    58879\n",
              "satisfied                  45025\n",
              "Name: satisfaction, dtype: int64"
            ]
          },
          "metadata": {},
          "execution_count": 27
        }
      ]
    },
    {
      "cell_type": "code",
      "source": [
        "df['satisfaction'] = df['satisfaction'].apply(lambda x: 1 if x == 'satisfied' else 0)"
      ],
      "metadata": {
        "id": "tL-M9OQqpP8P"
      },
      "execution_count": 28,
      "outputs": []
    },
    {
      "cell_type": "code",
      "source": [
        "df1['satisfaction'] = df1['satisfaction'].apply(lambda x: 1 if x == 'satisfied' else 0)"
      ],
      "metadata": {
        "id": "uAdTfnPdsQ4Q"
      },
      "execution_count": 29,
      "outputs": []
    },
    {
      "cell_type": "code",
      "source": [
        "df['satisfaction'].value_counts()"
      ],
      "metadata": {
        "colab": {
          "base_uri": "https://localhost:8080/"
        },
        "id": "2PuryzM4sR9A",
        "outputId": "698b585e-0219-4393-af49-9323c9d5fa00"
      },
      "execution_count": 30,
      "outputs": [
        {
          "output_type": "execute_result",
          "data": {
            "text/plain": [
              "0    58879\n",
              "1    45025\n",
              "Name: satisfaction, dtype: int64"
            ]
          },
          "metadata": {},
          "execution_count": 30
        }
      ]
    },
    {
      "cell_type": "code",
      "source": [
        "df.info()"
      ],
      "metadata": {
        "colab": {
          "base_uri": "https://localhost:8080/"
        },
        "id": "PtXqgXCYqcJI",
        "outputId": "bb797de3-cfab-4754-d231-dc25b0692bcc"
      },
      "execution_count": 31,
      "outputs": [
        {
          "output_type": "stream",
          "name": "stdout",
          "text": [
            "<class 'pandas.core.frame.DataFrame'>\n",
            "RangeIndex: 103904 entries, 0 to 103903\n",
            "Data columns (total 25 columns):\n",
            " #   Column                             Non-Null Count   Dtype  \n",
            "---  ------                             --------------   -----  \n",
            " 0   Unnamed: 0                         103904 non-null  int64  \n",
            " 1   id                                 103904 non-null  int64  \n",
            " 2   Gender                             103904 non-null  int64  \n",
            " 3   Customer Type                      103904 non-null  int64  \n",
            " 4   Age                                103904 non-null  int64  \n",
            " 5   Type of Travel                     103904 non-null  int64  \n",
            " 6   Class                              103904 non-null  int64  \n",
            " 7   Flight Distance                    103904 non-null  int64  \n",
            " 8   Inflight wifi service              103904 non-null  int64  \n",
            " 9   Departure/Arrival time convenient  103904 non-null  int64  \n",
            " 10  Ease of Online booking             103904 non-null  int64  \n",
            " 11  Gate location                      103904 non-null  int64  \n",
            " 12  Food and drink                     103904 non-null  int64  \n",
            " 13  Online boarding                    103904 non-null  int64  \n",
            " 14  Seat comfort                       103904 non-null  int64  \n",
            " 15  Inflight entertainment             103904 non-null  int64  \n",
            " 16  On-board service                   103904 non-null  int64  \n",
            " 17  Leg room service                   103904 non-null  int64  \n",
            " 18  Baggage handling                   103904 non-null  int64  \n",
            " 19  Checkin service                    103904 non-null  int64  \n",
            " 20  Inflight service                   103904 non-null  int64  \n",
            " 21  Cleanliness                        103904 non-null  int64  \n",
            " 22  Departure Delay in Minutes         103904 non-null  int64  \n",
            " 23  Arrival Delay in Minutes           103904 non-null  float64\n",
            " 24  satisfaction                       103904 non-null  int64  \n",
            "dtypes: float64(1), int64(24)\n",
            "memory usage: 19.8 MB\n"
          ]
        }
      ]
    },
    {
      "cell_type": "code",
      "source": [
        "df = df.drop('Unnamed: 0',axis=1)"
      ],
      "metadata": {
        "id": "tnx_xXzYqc7P"
      },
      "execution_count": 32,
      "outputs": []
    },
    {
      "cell_type": "code",
      "source": [
        "df1 = df1.drop('Unnamed: 0',axis=1)"
      ],
      "metadata": {
        "id": "-BNbIjvcsUiY"
      },
      "execution_count": 33,
      "outputs": []
    },
    {
      "cell_type": "code",
      "source": [
        "df.info()"
      ],
      "metadata": {
        "colab": {
          "base_uri": "https://localhost:8080/"
        },
        "id": "CA8dQ4L6qjV3",
        "outputId": "fef09771-1cee-430c-f1eb-363b8a08b7b5"
      },
      "execution_count": 34,
      "outputs": [
        {
          "output_type": "stream",
          "name": "stdout",
          "text": [
            "<class 'pandas.core.frame.DataFrame'>\n",
            "RangeIndex: 103904 entries, 0 to 103903\n",
            "Data columns (total 24 columns):\n",
            " #   Column                             Non-Null Count   Dtype  \n",
            "---  ------                             --------------   -----  \n",
            " 0   id                                 103904 non-null  int64  \n",
            " 1   Gender                             103904 non-null  int64  \n",
            " 2   Customer Type                      103904 non-null  int64  \n",
            " 3   Age                                103904 non-null  int64  \n",
            " 4   Type of Travel                     103904 non-null  int64  \n",
            " 5   Class                              103904 non-null  int64  \n",
            " 6   Flight Distance                    103904 non-null  int64  \n",
            " 7   Inflight wifi service              103904 non-null  int64  \n",
            " 8   Departure/Arrival time convenient  103904 non-null  int64  \n",
            " 9   Ease of Online booking             103904 non-null  int64  \n",
            " 10  Gate location                      103904 non-null  int64  \n",
            " 11  Food and drink                     103904 non-null  int64  \n",
            " 12  Online boarding                    103904 non-null  int64  \n",
            " 13  Seat comfort                       103904 non-null  int64  \n",
            " 14  Inflight entertainment             103904 non-null  int64  \n",
            " 15  On-board service                   103904 non-null  int64  \n",
            " 16  Leg room service                   103904 non-null  int64  \n",
            " 17  Baggage handling                   103904 non-null  int64  \n",
            " 18  Checkin service                    103904 non-null  int64  \n",
            " 19  Inflight service                   103904 non-null  int64  \n",
            " 20  Cleanliness                        103904 non-null  int64  \n",
            " 21  Departure Delay in Minutes         103904 non-null  int64  \n",
            " 22  Arrival Delay in Minutes           103904 non-null  float64\n",
            " 23  satisfaction                       103904 non-null  int64  \n",
            "dtypes: float64(1), int64(23)\n",
            "memory usage: 19.0 MB\n"
          ]
        }
      ]
    },
    {
      "cell_type": "code",
      "source": [
        "df = df.drop('id',axis=1)"
      ],
      "metadata": {
        "id": "wnrlaldlqkeP"
      },
      "execution_count": 35,
      "outputs": []
    },
    {
      "cell_type": "code",
      "source": [
        "df1 = df1.drop('id',axis=1)"
      ],
      "metadata": {
        "id": "iXuxtRLlsV6w"
      },
      "execution_count": 36,
      "outputs": []
    },
    {
      "cell_type": "code",
      "source": [
        "sns.countplot(df['satisfaction'])"
      ],
      "metadata": {
        "colab": {
          "base_uri": "https://localhost:8080/",
          "height": 351
        },
        "id": "_8s7qOiYqovQ",
        "outputId": "89230a76-3fd7-4da8-cc62-927489a0b484"
      },
      "execution_count": 37,
      "outputs": [
        {
          "output_type": "stream",
          "name": "stderr",
          "text": [
            "/usr/local/lib/python3.7/dist-packages/seaborn/_decorators.py:43: FutureWarning: Pass the following variable as a keyword arg: x. From version 0.12, the only valid positional argument will be `data`, and passing other arguments without an explicit keyword will result in an error or misinterpretation.\n",
            "  FutureWarning\n"
          ]
        },
        {
          "output_type": "execute_result",
          "data": {
            "text/plain": [
              "<matplotlib.axes._subplots.AxesSubplot at 0x7f8b986caed0>"
            ]
          },
          "metadata": {},
          "execution_count": 37
        },
        {
          "output_type": "display_data",
          "data": {
            "text/plain": [
              "<Figure size 432x288 with 1 Axes>"
            ],
            "image/png": "[encoded data removed]"
          },
          "metadata": {
            "needs_background": "light"
          }
        }
      ]
    },
    {
      "cell_type": "code",
      "source": [
        "from sklearn.preprocessing import MinMaxScaler"
      ],
      "metadata": {
        "id": "X7JUsemCqyY3"
      },
      "execution_count": 38,
      "outputs": []
    },
    {
      "cell_type": "code",
      "source": [
        "X_train = df.drop('satisfaction', axis=1).values\n",
        "y_train = df['satisfaction'].values\n",
        "\n",
        "X_test = df.drop('satisfaction', axis=1).values\n",
        "y_test = df['satisfaction'].values"
      ],
      "metadata": {
        "id": "y0uiZ2xqq-Kq"
      },
      "execution_count": 39,
      "outputs": []
    },
    {
      "cell_type": "code",
      "source": [
        "scaler = MinMaxScaler()\n",
        "\n",
        "X_train = scaler.fit_transform(X_train)\n",
        "X_test = scaler.transform(X_test)"
      ],
      "metadata": {
        "id": "_0BMDrVkq6OE"
      },
      "execution_count": 40,
      "outputs": []
    },
    {
      "cell_type": "markdown",
      "source": [
        "## With hidden layers"
      ],
      "metadata": {
        "id": "iMpiSYhnODwa"
      }
    },
    {
      "cell_type": "code",
      "source": [
        "import tensorflow as tf\n",
        "from tensorflow import keras\n",
        "from tensorflow.keras.models import Sequential\n",
        "from tensorflow.keras.layers import Dense,Dropout"
      ],
      "metadata": {
        "id": "bB6NFUaVrCuY"
      },
      "execution_count": 41,
      "outputs": []
    },
    {
      "cell_type": "code",
      "source": [
        "X_train.shape[1:]"
      ],
      "metadata": {
        "colab": {
          "base_uri": "https://localhost:8080/"
        },
        "id": "sy153uIzrnhP",
        "outputId": "4fe89c70-5cca-4e99-d906-d51dba7ce7ab"
      },
      "execution_count": 42,
      "outputs": [
        {
          "output_type": "execute_result",
          "data": {
            "text/plain": [
              "(22,)"
            ]
          },
          "metadata": {},
          "execution_count": 42
        }
      ]
    },
    {
      "cell_type": "markdown",
      "source": [
        "### Without using kernel method"
      ],
      "metadata": {
        "id": "3WWJcYh3O-li"
      }
    },
    {
      "cell_type": "code",
      "source": [
        "model = Sequential()\n",
        "\n",
        "model.add(keras.layers.Input(shape=X_train.shape[1:]))\n",
        "\n",
        "model.add(Dense(20, activation='relu'))\n",
        "model.add(Dropout(0.2))\n",
        "\n",
        "model.add(Dense(10, activation='relu'))\n",
        "model.add(Dropout(0.2))\n",
        "\n",
        "model.add(Dense(5, activation='relu'))\n",
        "model.add(Dropout(0.2))\n",
        "\n",
        "model.add(Dense(units=1, activation='sigmoid'))\n",
        "\n",
        "opt = keras.optimizers.Adam(learning_rate=0.001)\n",
        "\n",
        "model.compile(loss='binary_crossentropy', optimizer=opt, metrics=['accuracy'])"
      ],
      "metadata": {
        "id": "MHLma1T5roZX"
      },
      "execution_count": null,
      "outputs": []
    },
    {
      "cell_type": "code",
      "source": [
        "from tensorflow.keras.callbacks import EarlyStopping\n",
        "\n",
        "early_stop = EarlyStopping(monitor='val_accuracy',\n",
        "                           mode='max', verbose=1, patience= 5)"
      ],
      "metadata": {
        "id": "6L-37hBRrxOf"
      },
      "execution_count": null,
      "outputs": []
    },
    {
      "cell_type": "code",
      "source": [
        "model.fit(x=X_train, y=y_train, epochs=600, batch_size=128,\n",
        "          validation_data=(X_test,y_test))"
      ],
      "metadata": {
        "colab": {
          "base_uri": "https://localhost:8080/",
          "height": 1000
        },
        "id": "2ACkVlger0I3",
        "outputId": "dd1f4239-b51d-4cd9-ba4e-4f7a58e78d16"
      },
      "execution_count": null,
      "outputs": [
        {
          "output_type": "stream",
          "name": "stdout",
          "text": [
            "Epoch 1/600\n",
            "812/812 [==============================] - 4s 4ms/step - loss: 0.5124 - accuracy: 0.7448 - val_loss: 0.3104 - val_accuracy: 0.8855\n",
            "Epoch 2/600\n",
            "812/812 [==============================] - 2s 3ms/step - loss: 0.3477 - accuracy: 0.8703 - val_loss: 0.2504 - val_accuracy: 0.9046\n",
            "Epoch 3/600\n",
            "812/812 [==============================] - 2s 3ms/step - loss: 0.2960 - accuracy: 0.8896 - val_loss: 0.2137 - val_accuracy: 0.9179\n",
            "Epoch 4/600\n",
            "812/812 [==============================] - 3s 3ms/step - loss: 0.2645 - accuracy: 0.9006 - val_loss: 0.1879 - val_accuracy: 0.9242\n",
            "Epoch 5/600\n",
            "812/812 [==============================] - 2s 3ms/step - loss: 0.2414 - accuracy: 0.9079 - val_loss: 0.1672 - val_accuracy: 0.9323\n",
            "Epoch 6/600\n",
            "812/812 [==============================] - 3s 3ms/step - loss: 0.2224 - accuracy: 0.9159 - val_loss: 0.1574 - val_accuracy: 0.9385\n",
            "Epoch 7/600\n",
            "812/812 [==============================] - 3s 3ms/step - loss: 0.2125 - accuracy: 0.9196 - val_loss: 0.1479 - val_accuracy: 0.9413\n",
            "Epoch 8/600\n",
            "812/812 [==============================] - 2s 3ms/step - loss: 0.2068 - accuracy: 0.9220 - val_loss: 0.1458 - val_accuracy: 0.9412\n",
            "Epoch 9/600\n",
            "812/812 [==============================] - 2s 3ms/step - loss: 0.2010 - accuracy: 0.9234 - val_loss: 0.1394 - val_accuracy: 0.9438\n",
            "Epoch 10/600\n",
            "812/812 [==============================] - 3s 3ms/step - loss: 0.1978 - accuracy: 0.9246 - val_loss: 0.1358 - val_accuracy: 0.9453\n",
            "Epoch 11/600\n",
            "812/812 [==============================] - 3s 3ms/step - loss: 0.1946 - accuracy: 0.9260 - val_loss: 0.1401 - val_accuracy: 0.9424\n",
            "Epoch 12/600\n",
            "812/812 [==============================] - 3s 3ms/step - loss: 0.1919 - accuracy: 0.9267 - val_loss: 0.1339 - val_accuracy: 0.9454\n",
            "Epoch 13/600\n",
            "812/812 [==============================] - 3s 3ms/step - loss: 0.1888 - accuracy: 0.9278 - val_loss: 0.1342 - val_accuracy: 0.9448\n",
            "Epoch 14/600\n",
            "812/812 [==============================] - 3s 3ms/step - loss: 0.1864 - accuracy: 0.9289 - val_loss: 0.1329 - val_accuracy: 0.9458\n",
            "Epoch 15/600\n",
            "812/812 [==============================] - 3s 3ms/step - loss: 0.1826 - accuracy: 0.9307 - val_loss: 0.1321 - val_accuracy: 0.9454\n",
            "Epoch 16/600\n",
            "812/812 [==============================] - 2s 3ms/step - loss: 0.1827 - accuracy: 0.9292 - val_loss: 0.1302 - val_accuracy: 0.9461\n",
            "Epoch 17/600\n",
            "812/812 [==============================] - 3s 3ms/step - loss: 0.1829 - accuracy: 0.9293 - val_loss: 0.1283 - val_accuracy: 0.9473\n",
            "Epoch 18/600\n",
            "812/812 [==============================] - 2s 3ms/step - loss: 0.1774 - accuracy: 0.9303 - val_loss: 0.1295 - val_accuracy: 0.9461\n",
            "Epoch 19/600\n",
            "812/812 [==============================] - 2s 3ms/step - loss: 0.1795 - accuracy: 0.9304 - val_loss: 0.1327 - val_accuracy: 0.9459\n",
            "Epoch 20/600\n",
            "812/812 [==============================] - 3s 3ms/step - loss: 0.1803 - accuracy: 0.9304 - val_loss: 0.1318 - val_accuracy: 0.9468\n",
            "Epoch 21/600\n",
            "812/812 [==============================] - 3s 3ms/step - loss: 0.1785 - accuracy: 0.9302 - val_loss: 0.1242 - val_accuracy: 0.9492\n",
            "Epoch 22/600\n",
            "812/812 [==============================] - 2s 3ms/step - loss: 0.1764 - accuracy: 0.9314 - val_loss: 0.1262 - val_accuracy: 0.9480\n",
            "Epoch 23/600\n",
            "812/812 [==============================] - 2s 3ms/step - loss: 0.1778 - accuracy: 0.9309 - val_loss: 0.1248 - val_accuracy: 0.9481\n",
            "Epoch 24/600\n",
            "812/812 [==============================] - 3s 3ms/step - loss: 0.1749 - accuracy: 0.9321 - val_loss: 0.1240 - val_accuracy: 0.9481\n",
            "Epoch 25/600\n",
            "812/812 [==============================] - 3s 3ms/step - loss: 0.1771 - accuracy: 0.9317 - val_loss: 0.1250 - val_accuracy: 0.9484\n",
            "Epoch 26/600\n",
            "812/812 [==============================] - 3s 3ms/step - loss: 0.1762 - accuracy: 0.9310 - val_loss: 0.1218 - val_accuracy: 0.9494\n",
            "Epoch 27/600\n",
            "812/812 [==============================] - 3s 3ms/step - loss: 0.1727 - accuracy: 0.9323 - val_loss: 0.1221 - val_accuracy: 0.9499\n",
            "Epoch 28/600\n",
            "812/812 [==============================] - 3s 3ms/step - loss: 0.1712 - accuracy: 0.9334 - val_loss: 0.1253 - val_accuracy: 0.9489\n",
            "Epoch 29/600\n",
            "812/812 [==============================] - 3s 3ms/step - loss: 0.1752 - accuracy: 0.9316 - val_loss: 0.1222 - val_accuracy: 0.9496\n",
            "Epoch 30/600\n",
            "812/812 [==============================] - 3s 3ms/step - loss: 0.1734 - accuracy: 0.9321 - val_loss: 0.1235 - val_accuracy: 0.9497\n",
            "Epoch 31/600\n",
            "812/812 [==============================] - 2s 3ms/step - loss: 0.1721 - accuracy: 0.9329 - val_loss: 0.1213 - val_accuracy: 0.9498\n",
            "Epoch 32/600\n",
            "812/812 [==============================] - 2s 3ms/step - loss: 0.1724 - accuracy: 0.9320 - val_loss: 0.1260 - val_accuracy: 0.9478\n",
            "Epoch 33/600\n",
            "812/812 [==============================] - 3s 4ms/step - loss: 0.1724 - accuracy: 0.9321 - val_loss: 0.1281 - val_accuracy: 0.9476\n",
            "Epoch 34/600\n",
            "812/812 [==============================] - 2s 3ms/step - loss: 0.1719 - accuracy: 0.9330 - val_loss: 0.1239 - val_accuracy: 0.9488\n",
            "Epoch 35/600\n",
            "812/812 [==============================] - 2s 3ms/step - loss: 0.1714 - accuracy: 0.9322 - val_loss: 0.1215 - val_accuracy: 0.9501\n",
            "Epoch 36/600\n",
            "812/812 [==============================] - 2s 3ms/step - loss: 0.1688 - accuracy: 0.9340 - val_loss: 0.1197 - val_accuracy: 0.9498\n",
            "Epoch 37/600\n",
            "812/812 [==============================] - 2s 3ms/step - loss: 0.1717 - accuracy: 0.9319 - val_loss: 0.1222 - val_accuracy: 0.9498\n",
            "Epoch 38/600\n",
            "812/812 [==============================] - 2s 3ms/step - loss: 0.1709 - accuracy: 0.9326 - val_loss: 0.1209 - val_accuracy: 0.9507\n",
            "Epoch 39/600\n",
            "812/812 [==============================] - 3s 3ms/step - loss: 0.1683 - accuracy: 0.9338 - val_loss: 0.1197 - val_accuracy: 0.9494\n",
            "Epoch 40/600\n",
            "812/812 [==============================] - 2s 3ms/step - loss: 0.1717 - accuracy: 0.9326 - val_loss: 0.1255 - val_accuracy: 0.9480\n",
            "Epoch 41/600\n",
            "812/812 [==============================] - 2s 3ms/step - loss: 0.1714 - accuracy: 0.9327 - val_loss: 0.1188 - val_accuracy: 0.9512\n",
            "Epoch 42/600\n",
            "812/812 [==============================] - 2s 3ms/step - loss: 0.1693 - accuracy: 0.9332 - val_loss: 0.1198 - val_accuracy: 0.9504\n",
            "Epoch 43/600\n",
            "812/812 [==============================] - 3s 3ms/step - loss: 0.1712 - accuracy: 0.9319 - val_loss: 0.1212 - val_accuracy: 0.9507\n",
            "Epoch 44/600\n",
            "812/812 [==============================] - 5s 6ms/step - loss: 0.1698 - accuracy: 0.9333 - val_loss: 0.1200 - val_accuracy: 0.9509\n",
            "Epoch 45/600\n",
            "812/812 [==============================] - 4s 5ms/step - loss: 0.1697 - accuracy: 0.9333 - val_loss: 0.1213 - val_accuracy: 0.9497\n",
            "Epoch 46/600\n",
            "812/812 [==============================] - 3s 4ms/step - loss: 0.1692 - accuracy: 0.9328 - val_loss: 0.1208 - val_accuracy: 0.9500\n",
            "Epoch 47/600\n",
            "812/812 [==============================] - 3s 4ms/step - loss: 0.1688 - accuracy: 0.9334 - val_loss: 0.1202 - val_accuracy: 0.9504\n",
            "Epoch 48/600\n",
            "812/812 [==============================] - 4s 5ms/step - loss: 0.1704 - accuracy: 0.9330 - val_loss: 0.1194 - val_accuracy: 0.9497\n",
            "Epoch 49/600\n",
            "812/812 [==============================] - 4s 4ms/step - loss: 0.1697 - accuracy: 0.9334 - val_loss: 0.1187 - val_accuracy: 0.9510\n",
            "Epoch 50/600\n",
            "812/812 [==============================] - 4s 6ms/step - loss: 0.1684 - accuracy: 0.9342 - val_loss: 0.1217 - val_accuracy: 0.9513\n",
            "Epoch 51/600\n",
            "812/812 [==============================] - 4s 5ms/step - loss: 0.1686 - accuracy: 0.9333 - val_loss: 0.1182 - val_accuracy: 0.9511\n",
            "Epoch 52/600\n",
            "812/812 [==============================] - 2s 3ms/step - loss: 0.1705 - accuracy: 0.9331 - val_loss: 0.1183 - val_accuracy: 0.9514\n",
            "Epoch 53/600\n",
            "812/812 [==============================] - 3s 3ms/step - loss: 0.1682 - accuracy: 0.9338 - val_loss: 0.1163 - val_accuracy: 0.9513\n",
            "Epoch 54/600\n",
            "812/812 [==============================] - 2s 3ms/step - loss: 0.1669 - accuracy: 0.9337 - val_loss: 0.1179 - val_accuracy: 0.9513\n",
            "Epoch 55/600\n",
            "812/812 [==============================] - 3s 3ms/step - loss: 0.1671 - accuracy: 0.9341 - val_loss: 0.1200 - val_accuracy: 0.9513\n",
            "Epoch 56/600\n",
            "812/812 [==============================] - 2s 3ms/step - loss: 0.1666 - accuracy: 0.9343 - val_loss: 0.1176 - val_accuracy: 0.9528\n",
            "Epoch 57/600\n",
            "812/812 [==============================] - 3s 3ms/step - loss: 0.1683 - accuracy: 0.9343 - val_loss: 0.1176 - val_accuracy: 0.9520\n",
            "Epoch 58/600\n",
            "812/812 [==============================] - 3s 3ms/step - loss: 0.1675 - accuracy: 0.9335 - val_loss: 0.1197 - val_accuracy: 0.9519\n",
            "Epoch 59/600\n",
            "812/812 [==============================] - 3s 3ms/step - loss: 0.1693 - accuracy: 0.9328 - val_loss: 0.1189 - val_accuracy: 0.9521\n",
            "Epoch 60/600\n",
            "812/812 [==============================] - 2s 3ms/step - loss: 0.1677 - accuracy: 0.9339 - val_loss: 0.1208 - val_accuracy: 0.9498\n",
            "Epoch 61/600\n",
            "812/812 [==============================] - 3s 3ms/step - loss: 0.1646 - accuracy: 0.9343 - val_loss: 0.1193 - val_accuracy: 0.9500\n",
            "Epoch 62/600\n",
            "812/812 [==============================] - 2s 3ms/step - loss: 0.1687 - accuracy: 0.9343 - val_loss: 0.1238 - val_accuracy: 0.9478\n",
            "Epoch 63/600\n",
            "812/812 [==============================] - 3s 3ms/step - loss: 0.1676 - accuracy: 0.9347 - val_loss: 0.1170 - val_accuracy: 0.9520\n",
            "Epoch 64/600\n",
            "812/812 [==============================] - 3s 3ms/step - loss: 0.1684 - accuracy: 0.9340 - val_loss: 0.1169 - val_accuracy: 0.9508\n",
            "Epoch 65/600\n",
            "812/812 [==============================] - 2s 3ms/step - loss: 0.1662 - accuracy: 0.9341 - val_loss: 0.1176 - val_accuracy: 0.9520\n",
            "Epoch 66/600\n",
            "812/812 [==============================] - 3s 3ms/step - loss: 0.1670 - accuracy: 0.9339 - val_loss: 0.1165 - val_accuracy: 0.9519\n",
            "Epoch 67/600\n",
            "812/812 [==============================] - 2s 3ms/step - loss: 0.1662 - accuracy: 0.9347 - val_loss: 0.1174 - val_accuracy: 0.9535\n",
            "Epoch 68/600\n",
            "812/812 [==============================] - 2s 3ms/step - loss: 0.1676 - accuracy: 0.9335 - val_loss: 0.1191 - val_accuracy: 0.9534\n",
            "Epoch 69/600\n",
            "812/812 [==============================] - 2s 3ms/step - loss: 0.1680 - accuracy: 0.9332 - val_loss: 0.1195 - val_accuracy: 0.9501\n",
            "Epoch 70/600\n",
            "812/812 [==============================] - 2s 3ms/step - loss: 0.1662 - accuracy: 0.9334 - val_loss: 0.1180 - val_accuracy: 0.9513\n",
            "Epoch 71/600\n",
            "812/812 [==============================] - 2s 3ms/step - loss: 0.1670 - accuracy: 0.9340 - val_loss: 0.1196 - val_accuracy: 0.9511\n",
            "Epoch 72/600\n",
            "812/812 [==============================] - 2s 3ms/step - loss: 0.1673 - accuracy: 0.9335 - val_loss: 0.1193 - val_accuracy: 0.9509\n",
            "Epoch 73/600\n",
            "812/812 [==============================] - 3s 3ms/step - loss: 0.1663 - accuracy: 0.9336 - val_loss: 0.1188 - val_accuracy: 0.9515\n",
            "Epoch 74/600\n",
            "812/812 [==============================] - 2s 3ms/step - loss: 0.1663 - accuracy: 0.9334 - val_loss: 0.1177 - val_accuracy: 0.9510\n",
            "Epoch 75/600\n",
            "812/812 [==============================] - 3s 3ms/step - loss: 0.1655 - accuracy: 0.9338 - val_loss: 0.1184 - val_accuracy: 0.9498\n",
            "Epoch 76/600\n",
            "812/812 [==============================] - 3s 3ms/step - loss: 0.1671 - accuracy: 0.9339 - val_loss: 0.1168 - val_accuracy: 0.9526\n",
            "Epoch 77/600\n",
            "812/812 [==============================] - 3s 3ms/step - loss: 0.1666 - accuracy: 0.9327 - val_loss: 0.1189 - val_accuracy: 0.9507\n",
            "Epoch 78/600\n",
            "812/812 [==============================] - 3s 3ms/step - loss: 0.1640 - accuracy: 0.9343 - val_loss: 0.1172 - val_accuracy: 0.9516\n",
            "Epoch 79/600\n",
            "812/812 [==============================] - 3s 3ms/step - loss: 0.1626 - accuracy: 0.9345 - val_loss: 0.1176 - val_accuracy: 0.9510\n",
            "Epoch 80/600\n",
            "812/812 [==============================] - 2s 3ms/step - loss: 0.1634 - accuracy: 0.9341 - val_loss: 0.1147 - val_accuracy: 0.9523\n",
            "Epoch 81/600\n",
            "812/812 [==============================] - 2s 3ms/step - loss: 0.1634 - accuracy: 0.9330 - val_loss: 0.1162 - val_accuracy: 0.9510\n",
            "Epoch 82/600\n",
            "812/812 [==============================] - 3s 3ms/step - loss: 0.1626 - accuracy: 0.9337 - val_loss: 0.1212 - val_accuracy: 0.9511\n",
            "Epoch 83/600\n",
            "812/812 [==============================] - 3s 3ms/step - loss: 0.1633 - accuracy: 0.9330 - val_loss: 0.1158 - val_accuracy: 0.9505\n",
            "Epoch 84/600\n",
            "812/812 [==============================] - 3s 3ms/step - loss: 0.1621 - accuracy: 0.9335 - val_loss: 0.1172 - val_accuracy: 0.9505\n",
            "Epoch 85/600\n",
            "812/812 [==============================] - 2s 3ms/step - loss: 0.1627 - accuracy: 0.9336 - val_loss: 0.1191 - val_accuracy: 0.9494\n",
            "Epoch 86/600\n",
            "812/812 [==============================] - 2s 3ms/step - loss: 0.1628 - accuracy: 0.9325 - val_loss: 0.1159 - val_accuracy: 0.9516\n",
            "Epoch 87/600\n",
            "812/812 [==============================] - 2s 3ms/step - loss: 0.1607 - accuracy: 0.9337 - val_loss: 0.1171 - val_accuracy: 0.9503\n",
            "Epoch 88/600\n",
            "812/812 [==============================] - 2s 3ms/step - loss: 0.1620 - accuracy: 0.9337 - val_loss: 0.1156 - val_accuracy: 0.9515\n",
            "Epoch 89/600\n",
            "812/812 [==============================] - 2s 3ms/step - loss: 0.1612 - accuracy: 0.9346 - val_loss: 0.1155 - val_accuracy: 0.9515\n",
            "Epoch 90/600\n",
            "812/812 [==============================] - 3s 3ms/step - loss: 0.1603 - accuracy: 0.9337 - val_loss: 0.1136 - val_accuracy: 0.9524\n",
            "Epoch 91/600\n",
            "812/812 [==============================] - 2s 3ms/step - loss: 0.1600 - accuracy: 0.9332 - val_loss: 0.1139 - val_accuracy: 0.9518\n",
            "Epoch 92/600\n",
            "812/812 [==============================] - 3s 3ms/step - loss: 0.1622 - accuracy: 0.9329 - val_loss: 0.1143 - val_accuracy: 0.9516\n",
            "Epoch 93/600\n",
            "812/812 [==============================] - 3s 3ms/step - loss: 0.1582 - accuracy: 0.9345 - val_loss: 0.1166 - val_accuracy: 0.9509\n",
            "Epoch 94/600\n",
            "812/812 [==============================] - 2s 3ms/step - loss: 0.1610 - accuracy: 0.9336 - val_loss: 0.1135 - val_accuracy: 0.9518\n",
            "Epoch 95/600\n",
            "812/812 [==============================] - 3s 3ms/step - loss: 0.1587 - accuracy: 0.9343 - val_loss: 0.1205 - val_accuracy: 0.9505\n",
            "Epoch 96/600\n",
            "812/812 [==============================] - 2s 3ms/step - loss: 0.1580 - accuracy: 0.9354 - val_loss: 0.1143 - val_accuracy: 0.9520\n",
            "Epoch 97/600\n",
            "812/812 [==============================] - 3s 3ms/step - loss: 0.1600 - accuracy: 0.9339 - val_loss: 0.1201 - val_accuracy: 0.9492\n",
            "Epoch 98/600\n",
            "812/812 [==============================] - 2s 3ms/step - loss: 0.1580 - accuracy: 0.9346 - val_loss: 0.1164 - val_accuracy: 0.9517\n",
            "Epoch 99/600\n",
            "812/812 [==============================] - 3s 3ms/step - loss: 0.1604 - accuracy: 0.9341 - val_loss: 0.1163 - val_accuracy: 0.9508\n",
            "Epoch 100/600\n",
            "812/812 [==============================] - 3s 3ms/step - loss: 0.1584 - accuracy: 0.9349 - val_loss: 0.1127 - val_accuracy: 0.9517\n",
            "Epoch 101/600\n",
            "812/812 [==============================] - 3s 3ms/step - loss: 0.1580 - accuracy: 0.9352 - val_loss: 0.1148 - val_accuracy: 0.9520\n",
            "Epoch 102/600\n",
            "812/812 [==============================] - 3s 3ms/step - loss: 0.1585 - accuracy: 0.9352 - val_loss: 0.1136 - val_accuracy: 0.9531\n",
            "Epoch 103/600\n",
            "812/812 [==============================] - 2s 3ms/step - loss: 0.1577 - accuracy: 0.9350 - val_loss: 0.1149 - val_accuracy: 0.9507\n",
            "Epoch 104/600\n",
            "812/812 [==============================] - 3s 3ms/step - loss: 0.1584 - accuracy: 0.9355 - val_loss: 0.1204 - val_accuracy: 0.9498\n",
            "Epoch 105/600\n",
            "812/812 [==============================] - 2s 3ms/step - loss: 0.1551 - accuracy: 0.9361 - val_loss: 0.1148 - val_accuracy: 0.9521\n",
            "Epoch 106/600\n",
            "812/812 [==============================] - 2s 3ms/step - loss: 0.1560 - accuracy: 0.9362 - val_loss: 0.1131 - val_accuracy: 0.9510\n",
            "Epoch 107/600\n",
            "812/812 [==============================] - 2s 3ms/step - loss: 0.1551 - accuracy: 0.9358 - val_loss: 0.1138 - val_accuracy: 0.9517\n",
            "Epoch 108/600\n",
            "812/812 [==============================] - 3s 3ms/step - loss: 0.1592 - accuracy: 0.9349 - val_loss: 0.1182 - val_accuracy: 0.9505\n",
            "Epoch 109/600\n",
            "812/812 [==============================] - 2s 3ms/step - loss: 0.1548 - accuracy: 0.9369 - val_loss: 0.1139 - val_accuracy: 0.9510\n",
            "Epoch 110/600\n",
            "812/812 [==============================] - 2s 3ms/step - loss: 0.1565 - accuracy: 0.9367 - val_loss: 0.1141 - val_accuracy: 0.9513\n",
            "Epoch 111/600\n",
            "812/812 [==============================] - 2s 3ms/step - loss: 0.1572 - accuracy: 0.9364 - val_loss: 0.1188 - val_accuracy: 0.9489\n",
            "Epoch 112/600\n",
            "812/812 [==============================] - 2s 3ms/step - loss: 0.1569 - accuracy: 0.9353 - val_loss: 0.1143 - val_accuracy: 0.9513\n",
            "Epoch 113/600\n",
            "812/812 [==============================] - 3s 3ms/step - loss: 0.1558 - accuracy: 0.9355 - val_loss: 0.1118 - val_accuracy: 0.9530\n",
            "Epoch 114/600\n",
            "812/812 [==============================] - 2s 3ms/step - loss: 0.1589 - accuracy: 0.9346 - val_loss: 0.1120 - val_accuracy: 0.9528\n",
            "Epoch 115/600\n",
            "812/812 [==============================] - 3s 3ms/step - loss: 0.1556 - accuracy: 0.9367 - val_loss: 0.1161 - val_accuracy: 0.9505\n",
            "Epoch 116/600\n",
            "812/812 [==============================] - 2s 3ms/step - loss: 0.1562 - accuracy: 0.9363 - val_loss: 0.1139 - val_accuracy: 0.9521\n",
            "Epoch 117/600\n",
            "812/812 [==============================] - 3s 3ms/step - loss: 0.1566 - accuracy: 0.9366 - val_loss: 0.1126 - val_accuracy: 0.9524\n",
            "Epoch 118/600\n",
            "812/812 [==============================] - 3s 3ms/step - loss: 0.1542 - accuracy: 0.9370 - val_loss: 0.1190 - val_accuracy: 0.9477\n",
            "Epoch 119/600\n",
            "812/812 [==============================] - 2s 3ms/step - loss: 0.1557 - accuracy: 0.9369 - val_loss: 0.1129 - val_accuracy: 0.9526\n",
            "Epoch 120/600\n",
            "812/812 [==============================] - 2s 3ms/step - loss: 0.1572 - accuracy: 0.9358 - val_loss: 0.1135 - val_accuracy: 0.9536\n",
            "Epoch 121/600\n",
            "812/812 [==============================] - 3s 3ms/step - loss: 0.1560 - accuracy: 0.9364 - val_loss: 0.1126 - val_accuracy: 0.9522\n",
            "Epoch 122/600\n",
            "812/812 [==============================] - 2s 3ms/step - loss: 0.1547 - accuracy: 0.9356 - val_loss: 0.1157 - val_accuracy: 0.9496\n",
            "Epoch 123/600\n",
            "812/812 [==============================] - 2s 3ms/step - loss: 0.1543 - accuracy: 0.9369 - val_loss: 0.1148 - val_accuracy: 0.9498\n",
            "Epoch 124/600\n",
            "812/812 [==============================] - 3s 3ms/step - loss: 0.1567 - accuracy: 0.9355 - val_loss: 0.1170 - val_accuracy: 0.9513\n",
            "Epoch 125/600\n",
            "812/812 [==============================] - 3s 3ms/step - loss: 0.1561 - accuracy: 0.9360 - val_loss: 0.1131 - val_accuracy: 0.9521\n",
            "Epoch 126/600\n",
            "812/812 [==============================] - 3s 3ms/step - loss: 0.1561 - accuracy: 0.9365 - val_loss: 0.1121 - val_accuracy: 0.9536\n",
            "Epoch 127/600\n",
            "812/812 [==============================] - 2s 3ms/step - loss: 0.1530 - accuracy: 0.9368 - val_loss: 0.1142 - val_accuracy: 0.9528\n",
            "Epoch 128/600\n",
            "812/812 [==============================] - 3s 3ms/step - loss: 0.1552 - accuracy: 0.9377 - val_loss: 0.1138 - val_accuracy: 0.9514\n",
            "Epoch 129/600\n",
            "812/812 [==============================] - 3s 3ms/step - loss: 0.1556 - accuracy: 0.9364 - val_loss: 0.1156 - val_accuracy: 0.9498\n",
            "Epoch 130/600\n",
            "812/812 [==============================] - 3s 3ms/step - loss: 0.1569 - accuracy: 0.9365 - val_loss: 0.1132 - val_accuracy: 0.9529\n",
            "Epoch 131/600\n",
            "812/812 [==============================] - 2s 3ms/step - loss: 0.1557 - accuracy: 0.9373 - val_loss: 0.1185 - val_accuracy: 0.9489\n",
            "Epoch 132/600\n",
            "812/812 [==============================] - 2s 3ms/step - loss: 0.1547 - accuracy: 0.9373 - val_loss: 0.1143 - val_accuracy: 0.9511\n",
            "Epoch 133/600\n",
            "812/812 [==============================] - 2s 3ms/step - loss: 0.1551 - accuracy: 0.9376 - val_loss: 0.1162 - val_accuracy: 0.9509\n",
            "Epoch 134/600\n",
            "812/812 [==============================] - 3s 3ms/step - loss: 0.1549 - accuracy: 0.9377 - val_loss: 0.1177 - val_accuracy: 0.9505\n",
            "Epoch 135/600\n",
            "812/812 [==============================] - 2s 3ms/step - loss: 0.1550 - accuracy: 0.9379 - val_loss: 0.1121 - val_accuracy: 0.9524\n",
            "Epoch 136/600\n",
            "812/812 [==============================] - 3s 3ms/step - loss: 0.1543 - accuracy: 0.9376 - val_loss: 0.1158 - val_accuracy: 0.9512\n",
            "Epoch 137/600\n",
            "812/812 [==============================] - 2s 3ms/step - loss: 0.1564 - accuracy: 0.9364 - val_loss: 0.1117 - val_accuracy: 0.9538\n",
            "Epoch 138/600\n",
            "812/812 [==============================] - 2s 3ms/step - loss: 0.1555 - accuracy: 0.9375 - val_loss: 0.1157 - val_accuracy: 0.9526\n",
            "Epoch 139/600\n",
            "812/812 [==============================] - 3s 3ms/step - loss: 0.1552 - accuracy: 0.9370 - val_loss: 0.1118 - val_accuracy: 0.9535\n",
            "Epoch 140/600\n",
            "812/812 [==============================] - 3s 3ms/step - loss: 0.1549 - accuracy: 0.9367 - val_loss: 0.1127 - val_accuracy: 0.9508\n",
            "Epoch 141/600\n",
            "812/812 [==============================] - 3s 3ms/step - loss: 0.1523 - accuracy: 0.9369 - val_loss: 0.1146 - val_accuracy: 0.9510\n",
            "Epoch 142/600\n",
            "812/812 [==============================] - 3s 3ms/step - loss: 0.1538 - accuracy: 0.9372 - val_loss: 0.1119 - val_accuracy: 0.9527\n",
            "Epoch 143/600\n",
            "812/812 [==============================] - 3s 3ms/step - loss: 0.1537 - accuracy: 0.9373 - val_loss: 0.1128 - val_accuracy: 0.9515\n",
            "Epoch 144/600\n",
            "812/812 [==============================] - 3s 3ms/step - loss: 0.1535 - accuracy: 0.9367 - val_loss: 0.1127 - val_accuracy: 0.9535\n",
            "Epoch 145/600\n",
            "812/812 [==============================] - 2s 3ms/step - loss: 0.1551 - accuracy: 0.9367 - val_loss: 0.1143 - val_accuracy: 0.9517\n",
            "Epoch 146/600\n",
            "812/812 [==============================] - 2s 3ms/step - loss: 0.1553 - accuracy: 0.9362 - val_loss: 0.1126 - val_accuracy: 0.9525\n",
            "Epoch 147/600\n",
            "812/812 [==============================] - 3s 3ms/step - loss: 0.1530 - accuracy: 0.9375 - val_loss: 0.1124 - val_accuracy: 0.9523\n",
            "Epoch 148/600\n",
            "812/812 [==============================] - 2s 3ms/step - loss: 0.1545 - accuracy: 0.9368 - val_loss: 0.1138 - val_accuracy: 0.9519\n",
            "Epoch 149/600\n",
            "812/812 [==============================] - 3s 3ms/step - loss: 0.1550 - accuracy: 0.9377 - val_loss: 0.1148 - val_accuracy: 0.9506\n",
            "Epoch 150/600\n",
            "812/812 [==============================] - 2s 3ms/step - loss: 0.1520 - accuracy: 0.9373 - val_loss: 0.1112 - val_accuracy: 0.9542\n",
            "Epoch 151/600\n",
            "812/812 [==============================] - 3s 4ms/step - loss: 0.1540 - accuracy: 0.9364 - val_loss: 0.1123 - val_accuracy: 0.9521\n",
            "Epoch 152/600\n",
            "812/812 [==============================] - 3s 3ms/step - loss: 0.1541 - accuracy: 0.9373 - val_loss: 0.1107 - val_accuracy: 0.9532\n",
            "Epoch 153/600\n",
            "812/812 [==============================] - 3s 4ms/step - loss: 0.1542 - accuracy: 0.9374 - val_loss: 0.1113 - val_accuracy: 0.9533\n",
            "Epoch 154/600\n",
            "812/812 [==============================] - 3s 4ms/step - loss: 0.1533 - accuracy: 0.9378 - val_loss: 0.1129 - val_accuracy: 0.9525\n",
            "Epoch 155/600\n",
            "812/812 [==============================] - 3s 3ms/step - loss: 0.1560 - accuracy: 0.9372 - val_loss: 0.1145 - val_accuracy: 0.9511\n",
            "Epoch 156/600\n",
            "812/812 [==============================] - 3s 4ms/step - loss: 0.1535 - accuracy: 0.9377 - val_loss: 0.1172 - val_accuracy: 0.9503\n",
            "Epoch 157/600\n",
            "812/812 [==============================] - 3s 3ms/step - loss: 0.1530 - accuracy: 0.9378 - val_loss: 0.1118 - val_accuracy: 0.9530\n",
            "Epoch 158/600\n",
            "812/812 [==============================] - 3s 4ms/step - loss: 0.1531 - accuracy: 0.9379 - val_loss: 0.1113 - val_accuracy: 0.9528\n",
            "Epoch 159/600\n",
            "812/812 [==============================] - 3s 4ms/step - loss: 0.1532 - accuracy: 0.9377 - val_loss: 0.1145 - val_accuracy: 0.9535\n",
            "Epoch 160/600\n",
            "812/812 [==============================] - 3s 3ms/step - loss: 0.1535 - accuracy: 0.9378 - val_loss: 0.1159 - val_accuracy: 0.9520\n",
            "Epoch 161/600\n",
            "812/812 [==============================] - 2s 3ms/step - loss: 0.1544 - accuracy: 0.9376 - val_loss: 0.1143 - val_accuracy: 0.9517\n",
            "Epoch 162/600\n",
            "812/812 [==============================] - 3s 3ms/step - loss: 0.1536 - accuracy: 0.9380 - val_loss: 0.1116 - val_accuracy: 0.9529\n",
            "Epoch 163/600\n",
            "812/812 [==============================] - 2s 3ms/step - loss: 0.1543 - accuracy: 0.9373 - val_loss: 0.1147 - val_accuracy: 0.9515\n",
            "Epoch 164/600\n",
            "812/812 [==============================] - 3s 3ms/step - loss: 0.1552 - accuracy: 0.9376 - val_loss: 0.1135 - val_accuracy: 0.9526\n",
            "Epoch 165/600\n",
            "812/812 [==============================] - 2s 3ms/step - loss: 0.1546 - accuracy: 0.9375 - val_loss: 0.1158 - val_accuracy: 0.9514\n",
            "Epoch 166/600\n",
            "812/812 [==============================] - 3s 3ms/step - loss: 0.1543 - accuracy: 0.9377 - val_loss: 0.1127 - val_accuracy: 0.9530\n",
            "Epoch 167/600\n",
            "812/812 [==============================] - 2s 3ms/step - loss: 0.1551 - accuracy: 0.9373 - val_loss: 0.1156 - val_accuracy: 0.9513\n",
            "Epoch 168/600\n",
            "812/812 [==============================] - 3s 3ms/step - loss: 0.1546 - accuracy: 0.9372 - val_loss: 0.1142 - val_accuracy: 0.9521\n",
            "Epoch 169/600\n",
            "812/812 [==============================] - 3s 3ms/step - loss: 0.1533 - accuracy: 0.9376 - val_loss: 0.1132 - val_accuracy: 0.9521\n",
            "Epoch 170/600\n",
            "812/812 [==============================] - 2s 3ms/step - loss: 0.1507 - accuracy: 0.9385 - val_loss: 0.1143 - val_accuracy: 0.9516\n",
            "Epoch 171/600\n",
            "812/812 [==============================] - 2s 3ms/step - loss: 0.1520 - accuracy: 0.9383 - val_loss: 0.1119 - val_accuracy: 0.9528\n",
            "Epoch 172/600\n",
            "812/812 [==============================] - 3s 3ms/step - loss: 0.1523 - accuracy: 0.9380 - val_loss: 0.1169 - val_accuracy: 0.9485\n",
            "Epoch 173/600\n",
            "812/812 [==============================] - 2s 3ms/step - loss: 0.1530 - accuracy: 0.9379 - val_loss: 0.1128 - val_accuracy: 0.9520\n",
            "Epoch 174/600\n",
            "812/812 [==============================] - 2s 3ms/step - loss: 0.1522 - accuracy: 0.9385 - val_loss: 0.1108 - val_accuracy: 0.9530\n",
            "Epoch 175/600\n",
            "812/812 [==============================] - 3s 3ms/step - loss: 0.1527 - accuracy: 0.9376 - val_loss: 0.1109 - val_accuracy: 0.9536\n",
            "Epoch 176/600\n",
            "812/812 [==============================] - 3s 3ms/step - loss: 0.1522 - accuracy: 0.9384 - val_loss: 0.1113 - val_accuracy: 0.9543\n",
            "Epoch 177/600\n",
            "812/812 [==============================] - 2s 3ms/step - loss: 0.1526 - accuracy: 0.9384 - val_loss: 0.1102 - val_accuracy: 0.9532\n",
            "Epoch 178/600\n",
            "812/812 [==============================] - 3s 3ms/step - loss: 0.1539 - accuracy: 0.9384 - val_loss: 0.1113 - val_accuracy: 0.9521\n",
            "Epoch 179/600\n",
            "812/812 [==============================] - 2s 3ms/step - loss: 0.1535 - accuracy: 0.9376 - val_loss: 0.1115 - val_accuracy: 0.9525\n",
            "Epoch 180/600\n",
            "812/812 [==============================] - 3s 3ms/step - loss: 0.1522 - accuracy: 0.9384 - val_loss: 0.1116 - val_accuracy: 0.9527\n",
            "Epoch 181/600\n",
            "812/812 [==============================] - 2s 3ms/step - loss: 0.1530 - accuracy: 0.9372 - val_loss: 0.1119 - val_accuracy: 0.9527\n",
            "Epoch 182/600\n",
            "812/812 [==============================] - 2s 3ms/step - loss: 0.1531 - accuracy: 0.9382 - val_loss: 0.1114 - val_accuracy: 0.9523\n",
            "Epoch 183/600\n",
            "812/812 [==============================] - 2s 3ms/step - loss: 0.1512 - accuracy: 0.9385 - val_loss: 0.1108 - val_accuracy: 0.9536\n",
            "Epoch 184/600\n",
            "812/812 [==============================] - 3s 3ms/step - loss: 0.1529 - accuracy: 0.9384 - val_loss: 0.1151 - val_accuracy: 0.9499\n",
            "Epoch 185/600\n",
            "812/812 [==============================] - 3s 3ms/step - loss: 0.1526 - accuracy: 0.9380 - val_loss: 0.1132 - val_accuracy: 0.9539\n",
            "Epoch 186/600\n",
            "812/812 [==============================] - 3s 3ms/step - loss: 0.1522 - accuracy: 0.9388 - val_loss: 0.1121 - val_accuracy: 0.9538\n",
            "Epoch 187/600\n",
            "812/812 [==============================] - 3s 3ms/step - loss: 0.1540 - accuracy: 0.9378 - val_loss: 0.1118 - val_accuracy: 0.9527\n",
            "Epoch 188/600\n",
            "812/812 [==============================] - 3s 3ms/step - loss: 0.1523 - accuracy: 0.9387 - val_loss: 0.1155 - val_accuracy: 0.9520\n",
            "Epoch 189/600\n",
            "812/812 [==============================] - 2s 3ms/step - loss: 0.1503 - accuracy: 0.9387 - val_loss: 0.1121 - val_accuracy: 0.9516\n",
            "Epoch 190/600\n",
            "812/812 [==============================] - 3s 3ms/step - loss: 0.1525 - accuracy: 0.9381 - val_loss: 0.1133 - val_accuracy: 0.9525\n",
            "Epoch 191/600\n",
            "812/812 [==============================] - 2s 3ms/step - loss: 0.1532 - accuracy: 0.9377 - val_loss: 0.1117 - val_accuracy: 0.9532\n",
            "Epoch 192/600\n",
            "812/812 [==============================] - 2s 3ms/step - loss: 0.1505 - accuracy: 0.9393 - val_loss: 0.1131 - val_accuracy: 0.9519\n",
            "Epoch 193/600\n",
            "812/812 [==============================] - 2s 3ms/step - loss: 0.1520 - accuracy: 0.9390 - val_loss: 0.1120 - val_accuracy: 0.9517\n",
            "Epoch 194/600\n",
            "812/812 [==============================] - 3s 3ms/step - loss: 0.1529 - accuracy: 0.9377 - val_loss: 0.1160 - val_accuracy: 0.9498\n",
            "Epoch 195/600\n",
            "812/812 [==============================] - 2s 3ms/step - loss: 0.1522 - accuracy: 0.9383 - val_loss: 0.1101 - val_accuracy: 0.9535\n",
            "Epoch 196/600\n",
            "812/812 [==============================] - 3s 3ms/step - loss: 0.1503 - accuracy: 0.9384 - val_loss: 0.1127 - val_accuracy: 0.9531\n",
            "Epoch 197/600\n",
            "812/812 [==============================] - 2s 3ms/step - loss: 0.1534 - accuracy: 0.9384 - val_loss: 0.1116 - val_accuracy: 0.9529\n",
            "Epoch 198/600\n",
            "812/812 [==============================] - 2s 3ms/step - loss: 0.1523 - accuracy: 0.9385 - val_loss: 0.1115 - val_accuracy: 0.9533\n",
            "Epoch 199/600\n",
            "812/812 [==============================] - 2s 3ms/step - loss: 0.1514 - accuracy: 0.9378 - val_loss: 0.1102 - val_accuracy: 0.9537\n",
            "Epoch 200/600\n",
            "812/812 [==============================] - 2s 3ms/step - loss: 0.1523 - accuracy: 0.9374 - val_loss: 0.1121 - val_accuracy: 0.9528\n",
            "Epoch 201/600\n",
            "812/812 [==============================] - 3s 4ms/step - loss: 0.1525 - accuracy: 0.9385 - val_loss: 0.1110 - val_accuracy: 0.9535\n",
            "Epoch 202/600\n",
            "812/812 [==============================] - 3s 3ms/step - loss: 0.1507 - accuracy: 0.9395 - val_loss: 0.1115 - val_accuracy: 0.9525\n",
            "Epoch 203/600\n",
            "812/812 [==============================] - 2s 3ms/step - loss: 0.1516 - accuracy: 0.9395 - val_loss: 0.1151 - val_accuracy: 0.9519\n",
            "Epoch 204/600\n",
            "812/812 [==============================] - 3s 4ms/step - loss: 0.1529 - accuracy: 0.9381 - val_loss: 0.1108 - val_accuracy: 0.9534\n",
            "Epoch 205/600\n",
            "812/812 [==============================] - 2s 3ms/step - loss: 0.1519 - accuracy: 0.9392 - val_loss: 0.1108 - val_accuracy: 0.9536\n",
            "Epoch 206/600\n",
            "812/812 [==============================] - 3s 3ms/step - loss: 0.1533 - accuracy: 0.9379 - val_loss: 0.1129 - val_accuracy: 0.9520\n",
            "Epoch 207/600\n",
            "812/812 [==============================] - 3s 4ms/step - loss: 0.1506 - accuracy: 0.9390 - val_loss: 0.1104 - val_accuracy: 0.9548\n",
            "Epoch 208/600\n",
            "812/812 [==============================] - 2s 3ms/step - loss: 0.1513 - accuracy: 0.9397 - val_loss: 0.1177 - val_accuracy: 0.9503\n",
            "Epoch 209/600\n",
            "812/812 [==============================] - 3s 3ms/step - loss: 0.1508 - accuracy: 0.9382 - val_loss: 0.1137 - val_accuracy: 0.9536\n",
            "Epoch 210/600\n",
            "812/812 [==============================] - 2s 3ms/step - loss: 0.1530 - accuracy: 0.9380 - val_loss: 0.1121 - val_accuracy: 0.9524\n",
            "Epoch 211/600\n",
            "812/812 [==============================] - 3s 4ms/step - loss: 0.1525 - accuracy: 0.9390 - val_loss: 0.1098 - val_accuracy: 0.9530\n",
            "Epoch 212/600\n",
            "812/812 [==============================] - 2s 3ms/step - loss: 0.1498 - accuracy: 0.9391 - val_loss: 0.1137 - val_accuracy: 0.9515\n",
            "Epoch 213/600\n",
            "812/812 [==============================] - 3s 3ms/step - loss: 0.1530 - accuracy: 0.9385 - val_loss: 0.1117 - val_accuracy: 0.9521\n",
            "Epoch 214/600\n",
            "812/812 [==============================] - 3s 4ms/step - loss: 0.1530 - accuracy: 0.9389 - val_loss: 0.1108 - val_accuracy: 0.9532\n",
            "Epoch 215/600\n",
            "812/812 [==============================] - 3s 4ms/step - loss: 0.1485 - accuracy: 0.9394 - val_loss: 0.1090 - val_accuracy: 0.9535\n",
            "Epoch 216/600\n",
            "812/812 [==============================] - 2s 3ms/step - loss: 0.1522 - accuracy: 0.9373 - val_loss: 0.1121 - val_accuracy: 0.9530\n",
            "Epoch 217/600\n",
            "812/812 [==============================] - 3s 4ms/step - loss: 0.1518 - accuracy: 0.9388 - val_loss: 0.1109 - val_accuracy: 0.9536\n",
            "Epoch 218/600\n",
            "812/812 [==============================] - 3s 4ms/step - loss: 0.1541 - accuracy: 0.9372 - val_loss: 0.1132 - val_accuracy: 0.9526\n",
            "Epoch 219/600\n",
            "812/812 [==============================] - 3s 3ms/step - loss: 0.1520 - accuracy: 0.9391 - val_loss: 0.1134 - val_accuracy: 0.9523\n",
            "Epoch 220/600\n",
            "812/812 [==============================] - 3s 4ms/step - loss: 0.1503 - accuracy: 0.9397 - val_loss: 0.1122 - val_accuracy: 0.9521\n",
            "Epoch 221/600\n",
            "812/812 [==============================] - 3s 4ms/step - loss: 0.1517 - accuracy: 0.9388 - val_loss: 0.1128 - val_accuracy: 0.9532\n",
            "Epoch 222/600\n",
            "812/812 [==============================] - 3s 3ms/step - loss: 0.1512 - accuracy: 0.9384 - val_loss: 0.1097 - val_accuracy: 0.9530\n",
            "Epoch 223/600\n",
            "812/812 [==============================] - 3s 4ms/step - loss: 0.1505 - accuracy: 0.9388 - val_loss: 0.1108 - val_accuracy: 0.9532\n",
            "Epoch 224/600\n",
            "812/812 [==============================] - 3s 4ms/step - loss: 0.1516 - accuracy: 0.9386 - val_loss: 0.1100 - val_accuracy: 0.9531\n",
            "Epoch 225/600\n",
            "812/812 [==============================] - 3s 4ms/step - loss: 0.1491 - accuracy: 0.9399 - val_loss: 0.1100 - val_accuracy: 0.9537\n",
            "Epoch 226/600\n",
            "812/812 [==============================] - 3s 4ms/step - loss: 0.1531 - accuracy: 0.9392 - val_loss: 0.1105 - val_accuracy: 0.9528\n",
            "Epoch 227/600\n",
            "812/812 [==============================] - 3s 4ms/step - loss: 0.1506 - accuracy: 0.9395 - val_loss: 0.1117 - val_accuracy: 0.9542\n",
            "Epoch 228/600\n",
            "812/812 [==============================] - 3s 4ms/step - loss: 0.1519 - accuracy: 0.9388 - val_loss: 0.1099 - val_accuracy: 0.9540\n",
            "Epoch 229/600\n",
            "812/812 [==============================] - 3s 4ms/step - loss: 0.1528 - accuracy: 0.9376 - val_loss: 0.1107 - val_accuracy: 0.9530\n",
            "Epoch 230/600\n",
            "812/812 [==============================] - 3s 4ms/step - loss: 0.1508 - accuracy: 0.9384 - val_loss: 0.1128 - val_accuracy: 0.9550\n",
            "Epoch 231/600\n",
            "812/812 [==============================] - 3s 4ms/step - loss: 0.1530 - accuracy: 0.9376 - val_loss: 0.1115 - val_accuracy: 0.9531\n",
            "Epoch 232/600\n",
            "812/812 [==============================] - 3s 4ms/step - loss: 0.1504 - accuracy: 0.9390 - val_loss: 0.1131 - val_accuracy: 0.9522\n",
            "Epoch 233/600\n",
            "812/812 [==============================] - 3s 4ms/step - loss: 0.1520 - accuracy: 0.9393 - val_loss: 0.1120 - val_accuracy: 0.9531\n",
            "Epoch 234/600\n",
            "812/812 [==============================] - 3s 4ms/step - loss: 0.1508 - accuracy: 0.9388 - val_loss: 0.1098 - val_accuracy: 0.9541\n",
            "Epoch 235/600\n",
            "812/812 [==============================] - 3s 4ms/step - loss: 0.1499 - accuracy: 0.9398 - val_loss: 0.1089 - val_accuracy: 0.9542\n",
            "Epoch 236/600\n",
            "812/812 [==============================] - 3s 4ms/step - loss: 0.1504 - accuracy: 0.9399 - val_loss: 0.1115 - val_accuracy: 0.9545\n",
            "Epoch 237/600\n",
            "812/812 [==============================] - 3s 4ms/step - loss: 0.1522 - accuracy: 0.9385 - val_loss: 0.1096 - val_accuracy: 0.9541\n",
            "Epoch 238/600\n",
            "812/812 [==============================] - 3s 4ms/step - loss: 0.1509 - accuracy: 0.9393 - val_loss: 0.1091 - val_accuracy: 0.9534\n",
            "Epoch 239/600\n",
            "812/812 [==============================] - 3s 4ms/step - loss: 0.1522 - accuracy: 0.9389 - val_loss: 0.1107 - val_accuracy: 0.9533\n",
            "Epoch 240/600\n",
            "812/812 [==============================] - 3s 4ms/step - loss: 0.1508 - accuracy: 0.9392 - val_loss: 0.1090 - val_accuracy: 0.9546\n",
            "Epoch 241/600\n",
            "812/812 [==============================] - 3s 4ms/step - loss: 0.1497 - accuracy: 0.9399 - val_loss: 0.1115 - val_accuracy: 0.9529\n",
            "Epoch 242/600\n",
            "812/812 [==============================] - 3s 4ms/step - loss: 0.1508 - accuracy: 0.9387 - val_loss: 0.1091 - val_accuracy: 0.9538\n",
            "Epoch 243/600\n",
            "812/812 [==============================] - 3s 4ms/step - loss: 0.1513 - accuracy: 0.9390 - val_loss: 0.1095 - val_accuracy: 0.9539\n",
            "Epoch 244/600\n",
            "812/812 [==============================] - 3s 4ms/step - loss: 0.1531 - accuracy: 0.9382 - val_loss: 0.1088 - val_accuracy: 0.9546\n",
            "Epoch 245/600\n",
            "812/812 [==============================] - 3s 4ms/step - loss: 0.1541 - accuracy: 0.9383 - val_loss: 0.1098 - val_accuracy: 0.9541\n",
            "Epoch 246/600\n",
            "812/812 [==============================] - 3s 4ms/step - loss: 0.1508 - accuracy: 0.9391 - val_loss: 0.1111 - val_accuracy: 0.9536\n",
            "Epoch 247/600\n",
            "812/812 [==============================] - 3s 4ms/step - loss: 0.1505 - accuracy: 0.9395 - val_loss: 0.1087 - val_accuracy: 0.9556\n",
            "Epoch 248/600\n",
            "812/812 [==============================] - 3s 4ms/step - loss: 0.1495 - accuracy: 0.9402 - val_loss: 0.1138 - val_accuracy: 0.9518\n",
            "Epoch 249/600\n",
            "812/812 [==============================] - 3s 4ms/step - loss: 0.1510 - accuracy: 0.9390 - val_loss: 0.1106 - val_accuracy: 0.9541\n",
            "Epoch 250/600\n",
            "812/812 [==============================] - 3s 4ms/step - loss: 0.1514 - accuracy: 0.9387 - val_loss: 0.1107 - val_accuracy: 0.9528\n",
            "Epoch 251/600\n",
            "812/812 [==============================] - 3s 4ms/step - loss: 0.1504 - accuracy: 0.9390 - val_loss: 0.1111 - val_accuracy: 0.9526\n",
            "Epoch 252/600\n",
            "812/812 [==============================] - 3s 4ms/step - loss: 0.1524 - accuracy: 0.9381 - val_loss: 0.1108 - val_accuracy: 0.9526\n",
            "Epoch 253/600\n",
            "812/812 [==============================] - 3s 4ms/step - loss: 0.1498 - accuracy: 0.9392 - val_loss: 0.1103 - val_accuracy: 0.9538\n",
            "Epoch 254/600\n",
            "812/812 [==============================] - 3s 4ms/step - loss: 0.1491 - accuracy: 0.9403 - val_loss: 0.1096 - val_accuracy: 0.9534\n",
            "Epoch 255/600\n",
            "126/812 [===>..........................] - ETA: 1s - loss: 0.1454 - accuracy: 0.9404"
          ]
        },
        {
          "output_type": "error",
          "ename": "KeyboardInterrupt",
          "evalue": "ignored",
          "traceback": [
            "\u001b[0;31m---------------------------------------------------------------------------\u001b[0m",
            "\u001b[0;31mKeyboardInterrupt\u001b[0m                         Traceback (most recent call last)",
            "\u001b[0;32m<ipython-input-45-05853986fd62>\u001b[0m in \u001b[0;36m<module>\u001b[0;34m()\u001b[0m\n\u001b[1;32m      1\u001b[0m model.fit(x=X_train, y=y_train, epochs=600, batch_size=128,\n\u001b[0;32m----> 2\u001b[0;31m           validation_data=(X_test,y_test))\n\u001b[0m",
            "\u001b[0;32m/usr/local/lib/python3.7/dist-packages/keras/utils/traceback_utils.py\u001b[0m in \u001b[0;36merror_handler\u001b[0;34m(*args, **kwargs)\u001b[0m\n\u001b[1;32m     62\u001b[0m     \u001b[0mfiltered_tb\u001b[0m \u001b[0;34m=\u001b[0m \u001b[0;32mNone\u001b[0m\u001b[0;34m\u001b[0m\u001b[0;34m\u001b[0m\u001b[0m\n\u001b[1;32m     63\u001b[0m     \u001b[0;32mtry\u001b[0m\u001b[0;34m:\u001b[0m\u001b[0;34m\u001b[0m\u001b[0;34m\u001b[0m\u001b[0m\n\u001b[0;32m---> 64\u001b[0;31m       \u001b[0;32mreturn\u001b[0m \u001b[0mfn\u001b[0m\u001b[0;34m(\u001b[0m\u001b[0;34m*\u001b[0m\u001b[0margs\u001b[0m\u001b[0;34m,\u001b[0m \u001b[0;34m**\u001b[0m\u001b[0mkwargs\u001b[0m\u001b[0;34m)\u001b[0m\u001b[0;34m\u001b[0m\u001b[0;34m\u001b[0m\u001b[0m\n\u001b[0m\u001b[1;32m     65\u001b[0m     \u001b[0;32mexcept\u001b[0m \u001b[0mException\u001b[0m \u001b[0;32mas\u001b[0m \u001b[0me\u001b[0m\u001b[0;34m:\u001b[0m  \u001b[0;31m# pylint: disable=broad-except\u001b[0m\u001b[0;34m\u001b[0m\u001b[0;34m\u001b[0m\u001b[0m\n\u001b[1;32m     66\u001b[0m       \u001b[0mfiltered_tb\u001b[0m \u001b[0;34m=\u001b[0m \u001b[0m_process_traceback_frames\u001b[0m\u001b[0;34m(\u001b[0m\u001b[0me\u001b[0m\u001b[0;34m.\u001b[0m\u001b[0m__traceback__\u001b[0m\u001b[0;34m)\u001b[0m\u001b[0;34m\u001b[0m\u001b[0;34m\u001b[0m\u001b[0m\n",
            "\u001b[0;32m/usr/local/lib/python3.7/dist-packages/keras/engine/training.py\u001b[0m in \u001b[0;36mfit\u001b[0;34m(self, x, y, batch_size, epochs, verbose, callbacks, validation_split, validation_data, shuffle, class_weight, sample_weight, initial_epoch, steps_per_epoch, validation_steps, validation_batch_size, validation_freq, max_queue_size, workers, use_multiprocessing)\u001b[0m\n\u001b[1;32m   1387\u001b[0m               \u001b[0mlogs\u001b[0m \u001b[0;34m=\u001b[0m \u001b[0mtmp_logs\u001b[0m  \u001b[0;31m# No error, now safe to assign to logs.\u001b[0m\u001b[0;34m\u001b[0m\u001b[0;34m\u001b[0m\u001b[0m\n\u001b[1;32m   1388\u001b[0m               \u001b[0mend_step\u001b[0m \u001b[0;34m=\u001b[0m \u001b[0mstep\u001b[0m \u001b[0;34m+\u001b[0m \u001b[0mdata_handler\u001b[0m\u001b[0;34m.\u001b[0m\u001b[0mstep_increment\u001b[0m\u001b[0;34m\u001b[0m\u001b[0;34m\u001b[0m\u001b[0m\n\u001b[0;32m-> 1389\u001b[0;31m               \u001b[0mcallbacks\u001b[0m\u001b[0;34m.\u001b[0m\u001b[0mon_train_batch_end\u001b[0m\u001b[0;34m(\u001b[0m\u001b[0mend_step\u001b[0m\u001b[0;34m,\u001b[0m \u001b[0mlogs\u001b[0m\u001b[0;34m)\u001b[0m\u001b[0;34m\u001b[0m\u001b[0;34m\u001b[0m\u001b[0m\n\u001b[0m\u001b[1;32m   1390\u001b[0m               \u001b[0;32mif\u001b[0m \u001b[0mself\u001b[0m\u001b[0;34m.\u001b[0m\u001b[0mstop_training\u001b[0m\u001b[0;34m:\u001b[0m\u001b[0;34m\u001b[0m\u001b[0;34m\u001b[0m\u001b[0m\n\u001b[1;32m   1391\u001b[0m                 \u001b[0;32mbreak\u001b[0m\u001b[0;34m\u001b[0m\u001b[0;34m\u001b[0m\u001b[0m\n",
            "\u001b[0;32m/usr/local/lib/python3.7/dist-packages/keras/callbacks.py\u001b[0m in \u001b[0;36mon_train_batch_end\u001b[0;34m(self, batch, logs)\u001b[0m\n\u001b[1;32m    436\u001b[0m     \"\"\"\n\u001b[1;32m    437\u001b[0m     \u001b[0;32mif\u001b[0m \u001b[0mself\u001b[0m\u001b[0;34m.\u001b[0m\u001b[0m_should_call_train_batch_hooks\u001b[0m\u001b[0;34m:\u001b[0m\u001b[0;34m\u001b[0m\u001b[0;34m\u001b[0m\u001b[0m\n\u001b[0;32m--> 438\u001b[0;31m       \u001b[0mself\u001b[0m\u001b[0;34m.\u001b[0m\u001b[0m_call_batch_hook\u001b[0m\u001b[0;34m(\u001b[0m\u001b[0mModeKeys\u001b[0m\u001b[0;34m.\u001b[0m\u001b[0mTRAIN\u001b[0m\u001b[0;34m,\u001b[0m \u001b[0;34m'end'\u001b[0m\u001b[0;34m,\u001b[0m \u001b[0mbatch\u001b[0m\u001b[0;34m,\u001b[0m \u001b[0mlogs\u001b[0m\u001b[0;34m=\u001b[0m\u001b[0mlogs\u001b[0m\u001b[0;34m)\u001b[0m\u001b[0;34m\u001b[0m\u001b[0;34m\u001b[0m\u001b[0m\n\u001b[0m\u001b[1;32m    439\u001b[0m \u001b[0;34m\u001b[0m\u001b[0m\n\u001b[1;32m    440\u001b[0m   \u001b[0;32mdef\u001b[0m \u001b[0mon_test_batch_begin\u001b[0m\u001b[0;34m(\u001b[0m\u001b[0mself\u001b[0m\u001b[0;34m,\u001b[0m \u001b[0mbatch\u001b[0m\u001b[0;34m,\u001b[0m \u001b[0mlogs\u001b[0m\u001b[0;34m=\u001b[0m\u001b[0;32mNone\u001b[0m\u001b[0;34m)\u001b[0m\u001b[0;34m:\u001b[0m\u001b[0;34m\u001b[0m\u001b[0;34m\u001b[0m\u001b[0m\n",
            "\u001b[0;32m/usr/local/lib/python3.7/dist-packages/keras/callbacks.py\u001b[0m in \u001b[0;36m_call_batch_hook\u001b[0;34m(self, mode, hook, batch, logs)\u001b[0m\n\u001b[1;32m    295\u001b[0m       \u001b[0mself\u001b[0m\u001b[0;34m.\u001b[0m\u001b[0m_call_batch_begin_hook\u001b[0m\u001b[0;34m(\u001b[0m\u001b[0mmode\u001b[0m\u001b[0;34m,\u001b[0m \u001b[0mbatch\u001b[0m\u001b[0;34m,\u001b[0m \u001b[0mlogs\u001b[0m\u001b[0;34m)\u001b[0m\u001b[0;34m\u001b[0m\u001b[0;34m\u001b[0m\u001b[0m\n\u001b[1;32m    296\u001b[0m     \u001b[0;32melif\u001b[0m \u001b[0mhook\u001b[0m \u001b[0;34m==\u001b[0m \u001b[0;34m'end'\u001b[0m\u001b[0;34m:\u001b[0m\u001b[0;34m\u001b[0m\u001b[0;34m\u001b[0m\u001b[0m\n\u001b[0;32m--> 297\u001b[0;31m       \u001b[0mself\u001b[0m\u001b[0;34m.\u001b[0m\u001b[0m_call_batch_end_hook\u001b[0m\u001b[0;34m(\u001b[0m\u001b[0mmode\u001b[0m\u001b[0;34m,\u001b[0m \u001b[0mbatch\u001b[0m\u001b[0;34m,\u001b[0m \u001b[0mlogs\u001b[0m\u001b[0;34m)\u001b[0m\u001b[0;34m\u001b[0m\u001b[0;34m\u001b[0m\u001b[0m\n\u001b[0m\u001b[1;32m    298\u001b[0m     \u001b[0;32melse\u001b[0m\u001b[0;34m:\u001b[0m\u001b[0;34m\u001b[0m\u001b[0;34m\u001b[0m\u001b[0m\n\u001b[1;32m    299\u001b[0m       raise ValueError(\n",
            "\u001b[0;32m/usr/local/lib/python3.7/dist-packages/keras/callbacks.py\u001b[0m in \u001b[0;36m_call_batch_end_hook\u001b[0;34m(self, mode, batch, logs)\u001b[0m\n\u001b[1;32m    316\u001b[0m       \u001b[0mself\u001b[0m\u001b[0;34m.\u001b[0m\u001b[0m_batch_times\u001b[0m\u001b[0;34m.\u001b[0m\u001b[0mappend\u001b[0m\u001b[0;34m(\u001b[0m\u001b[0mbatch_time\u001b[0m\u001b[0;34m)\u001b[0m\u001b[0;34m\u001b[0m\u001b[0;34m\u001b[0m\u001b[0m\n\u001b[1;32m    317\u001b[0m \u001b[0;34m\u001b[0m\u001b[0m\n\u001b[0;32m--> 318\u001b[0;31m     \u001b[0mself\u001b[0m\u001b[0;34m.\u001b[0m\u001b[0m_call_batch_hook_helper\u001b[0m\u001b[0;34m(\u001b[0m\u001b[0mhook_name\u001b[0m\u001b[0;34m,\u001b[0m \u001b[0mbatch\u001b[0m\u001b[0;34m,\u001b[0m \u001b[0mlogs\u001b[0m\u001b[0;34m)\u001b[0m\u001b[0;34m\u001b[0m\u001b[0;34m\u001b[0m\u001b[0m\n\u001b[0m\u001b[1;32m    319\u001b[0m \u001b[0;34m\u001b[0m\u001b[0m\n\u001b[1;32m    320\u001b[0m     \u001b[0;32mif\u001b[0m \u001b[0mlen\u001b[0m\u001b[0;34m(\u001b[0m\u001b[0mself\u001b[0m\u001b[0;34m.\u001b[0m\u001b[0m_batch_times\u001b[0m\u001b[0;34m)\u001b[0m \u001b[0;34m>=\u001b[0m \u001b[0mself\u001b[0m\u001b[0;34m.\u001b[0m\u001b[0m_num_batches_for_timing_check\u001b[0m\u001b[0;34m:\u001b[0m\u001b[0;34m\u001b[0m\u001b[0;34m\u001b[0m\u001b[0m\n",
            "\u001b[0;32m/usr/local/lib/python3.7/dist-packages/keras/callbacks.py\u001b[0m in \u001b[0;36m_call_batch_hook_helper\u001b[0;34m(self, hook_name, batch, logs)\u001b[0m\n\u001b[1;32m    354\u001b[0m     \u001b[0;32mfor\u001b[0m \u001b[0mcallback\u001b[0m \u001b[0;32min\u001b[0m \u001b[0mself\u001b[0m\u001b[0;34m.\u001b[0m\u001b[0mcallbacks\u001b[0m\u001b[0;34m:\u001b[0m\u001b[0;34m\u001b[0m\u001b[0;34m\u001b[0m\u001b[0m\n\u001b[1;32m    355\u001b[0m       \u001b[0mhook\u001b[0m \u001b[0;34m=\u001b[0m \u001b[0mgetattr\u001b[0m\u001b[0;34m(\u001b[0m\u001b[0mcallback\u001b[0m\u001b[0;34m,\u001b[0m \u001b[0mhook_name\u001b[0m\u001b[0;34m)\u001b[0m\u001b[0;34m\u001b[0m\u001b[0;34m\u001b[0m\u001b[0m\n\u001b[0;32m--> 356\u001b[0;31m       \u001b[0mhook\u001b[0m\u001b[0;34m(\u001b[0m\u001b[0mbatch\u001b[0m\u001b[0;34m,\u001b[0m \u001b[0mlogs\u001b[0m\u001b[0;34m)\u001b[0m\u001b[0;34m\u001b[0m\u001b[0;34m\u001b[0m\u001b[0m\n\u001b[0m\u001b[1;32m    357\u001b[0m \u001b[0;34m\u001b[0m\u001b[0m\n\u001b[1;32m    358\u001b[0m     \u001b[0;32mif\u001b[0m \u001b[0mself\u001b[0m\u001b[0;34m.\u001b[0m\u001b[0m_check_timing\u001b[0m\u001b[0;34m:\u001b[0m\u001b[0;34m\u001b[0m\u001b[0;34m\u001b[0m\u001b[0m\n",
            "\u001b[0;32m/usr/local/lib/python3.7/dist-packages/keras/callbacks.py\u001b[0m in \u001b[0;36mon_train_batch_end\u001b[0;34m(self, batch, logs)\u001b[0m\n\u001b[1;32m   1032\u001b[0m \u001b[0;34m\u001b[0m\u001b[0m\n\u001b[1;32m   1033\u001b[0m   \u001b[0;32mdef\u001b[0m \u001b[0mon_train_batch_end\u001b[0m\u001b[0;34m(\u001b[0m\u001b[0mself\u001b[0m\u001b[0;34m,\u001b[0m \u001b[0mbatch\u001b[0m\u001b[0;34m,\u001b[0m \u001b[0mlogs\u001b[0m\u001b[0;34m=\u001b[0m\u001b[0;32mNone\u001b[0m\u001b[0;34m)\u001b[0m\u001b[0;34m:\u001b[0m\u001b[0;34m\u001b[0m\u001b[0;34m\u001b[0m\u001b[0m\n\u001b[0;32m-> 1034\u001b[0;31m     \u001b[0mself\u001b[0m\u001b[0;34m.\u001b[0m\u001b[0m_batch_update_progbar\u001b[0m\u001b[0;34m(\u001b[0m\u001b[0mbatch\u001b[0m\u001b[0;34m,\u001b[0m \u001b[0mlogs\u001b[0m\u001b[0;34m)\u001b[0m\u001b[0;34m\u001b[0m\u001b[0;34m\u001b[0m\u001b[0m\n\u001b[0m\u001b[1;32m   1035\u001b[0m \u001b[0;34m\u001b[0m\u001b[0m\n\u001b[1;32m   1036\u001b[0m   \u001b[0;32mdef\u001b[0m \u001b[0mon_test_batch_end\u001b[0m\u001b[0;34m(\u001b[0m\u001b[0mself\u001b[0m\u001b[0;34m,\u001b[0m \u001b[0mbatch\u001b[0m\u001b[0;34m,\u001b[0m \u001b[0mlogs\u001b[0m\u001b[0;34m=\u001b[0m\u001b[0;32mNone\u001b[0m\u001b[0;34m)\u001b[0m\u001b[0;34m:\u001b[0m\u001b[0;34m\u001b[0m\u001b[0;34m\u001b[0m\u001b[0m\n",
            "\u001b[0;32m/usr/local/lib/python3.7/dist-packages/keras/callbacks.py\u001b[0m in \u001b[0;36m_batch_update_progbar\u001b[0;34m(self, batch, logs)\u001b[0m\n\u001b[1;32m   1091\u001b[0m     \u001b[0mlogs\u001b[0m \u001b[0;34m=\u001b[0m \u001b[0mlogs\u001b[0m \u001b[0;32mor\u001b[0m \u001b[0;34m{\u001b[0m\u001b[0;34m}\u001b[0m\u001b[0;34m\u001b[0m\u001b[0;34m\u001b[0m\u001b[0m\n\u001b[1;32m   1092\u001b[0m     \u001b[0mself\u001b[0m\u001b[0;34m.\u001b[0m\u001b[0m_maybe_init_progbar\u001b[0m\u001b[0;34m(\u001b[0m\u001b[0;34m)\u001b[0m\u001b[0;34m\u001b[0m\u001b[0;34m\u001b[0m\u001b[0m\n\u001b[0;32m-> 1093\u001b[0;31m     \u001b[0;32mif\u001b[0m \u001b[0mself\u001b[0m\u001b[0;34m.\u001b[0m\u001b[0muse_steps\u001b[0m\u001b[0;34m:\u001b[0m\u001b[0;34m\u001b[0m\u001b[0;34m\u001b[0m\u001b[0m\n\u001b[0m\u001b[1;32m   1094\u001b[0m       \u001b[0mself\u001b[0m\u001b[0;34m.\u001b[0m\u001b[0mseen\u001b[0m \u001b[0;34m=\u001b[0m \u001b[0mbatch\u001b[0m \u001b[0;34m+\u001b[0m \u001b[0;36m1\u001b[0m  \u001b[0;31m# One-indexed.\u001b[0m\u001b[0;34m\u001b[0m\u001b[0;34m\u001b[0m\u001b[0m\n\u001b[1;32m   1095\u001b[0m     \u001b[0;32melse\u001b[0m\u001b[0;34m:\u001b[0m\u001b[0;34m\u001b[0m\u001b[0;34m\u001b[0m\u001b[0m\n",
            "\u001b[0;31mKeyboardInterrupt\u001b[0m: "
          ]
        }
      ]
    },
    {
      "cell_type": "markdown",
      "source": [
        "### Using kernel method"
      ],
      "metadata": {
        "id": "B8kCIBbZPDs6"
      }
    },
    {
      "cell_type": "code",
      "source": [
        "model = Sequential()\n",
        "\n",
        "model.add(keras.layers.Input(shape=X_train.shape[1:]))\n",
        "\n",
        "model.add(keras.layers.experimental.RandomFourierFeatures(\n",
        "      output_dim=400,\n",
        "      kernel_initializer='gaussian'),\n",
        ")\n",
        "\n",
        "model.add(Dense(300, activation='relu'))\n",
        "model.add(Dropout(0.2))\n",
        "\n",
        "model.add(Dense(150, activation='relu'))\n",
        "model.add(Dropout(0.2))\n",
        "\n",
        "model.add(Dense(75, activation='relu'))\n",
        "model.add(Dropout(0.2))\n",
        "\n",
        "model.add(Dense(units=1, activation='sigmoid'))\n",
        "\n",
        "opt = keras.optimizers.Adam(learning_rate=0.001)\n",
        "\n",
        "model.compile(loss='binary_crossentropy', optimizer=opt, metrics=['accuracy'])"
      ],
      "metadata": {
        "id": "Prkx1buR3g-H"
      },
      "execution_count": null,
      "outputs": []
    },
    {
      "cell_type": "code",
      "source": [
        "model.fit(x=X_train, y=y_train, epochs=2, batch_size=128,\n",
        "          validation_data=(X_test,y_test))"
      ],
      "metadata": {
        "colab": {
          "base_uri": "https://localhost:8080/"
        },
        "id": "KxHFCHXG3iDv",
        "outputId": "396ba65e-8e24-4702-d4d6-2e0c67867b54"
      },
      "execution_count": null,
      "outputs": [
        {
          "output_type": "stream",
          "name": "stdout",
          "text": [
            "Epoch 1/2\n",
            "812/812 [==============================] - 6s 7ms/step - loss: 0.2206 - accuracy: 0.9106 - val_loss: 0.1466 - val_accuracy: 0.9392\n",
            "Epoch 2/2\n",
            "812/812 [==============================] - 4s 5ms/step - loss: 0.1538 - accuracy: 0.9364 - val_loss: 0.1247 - val_accuracy: 0.9475\n"
          ]
        },
        {
          "output_type": "execute_result",
          "data": {
            "text/plain": [
              "<keras.callbacks.History at 0x7fe72e366390>"
            ]
          },
          "metadata": {},
          "execution_count": 47
        }
      ]
    },
    {
      "cell_type": "code",
      "source": [
        "model.fit(x=X_train, y=y_train, epochs=20, batch_size=128,\n",
        "          validation_data=(X_test,y_test))"
      ],
      "metadata": {
        "colab": {
          "base_uri": "https://localhost:8080/"
        },
        "id": "oc_ExGLUYxT3",
        "outputId": "f3e08cad-a2b9-48cd-fadb-2997fba56e6d"
      },
      "execution_count": null,
      "outputs": [
        {
          "output_type": "stream",
          "name": "stdout",
          "text": [
            "Epoch 1/20\n",
            "812/812 [==============================] - 5s 7ms/step - loss: 0.1381 - accuracy: 0.9426 - val_loss: 0.1191 - val_accuracy: 0.9501\n",
            "Epoch 2/20\n",
            "812/812 [==============================] - 5s 6ms/step - loss: 0.1317 - accuracy: 0.9451 - val_loss: 0.1189 - val_accuracy: 0.9520\n",
            "Epoch 3/20\n",
            "812/812 [==============================] - 4s 5ms/step - loss: 0.1269 - accuracy: 0.9469 - val_loss: 0.1123 - val_accuracy: 0.9519\n",
            "Epoch 4/20\n",
            "812/812 [==============================] - 5s 6ms/step - loss: 0.1229 - accuracy: 0.9489 - val_loss: 0.1073 - val_accuracy: 0.9532\n",
            "Epoch 5/20\n",
            "812/812 [==============================] - 5s 6ms/step - loss: 0.1205 - accuracy: 0.9497 - val_loss: 0.1085 - val_accuracy: 0.9543\n",
            "Epoch 6/20\n",
            "812/812 [==============================] - 5s 6ms/step - loss: 0.1185 - accuracy: 0.9504 - val_loss: 0.1074 - val_accuracy: 0.9556\n",
            "Epoch 7/20\n",
            "812/812 [==============================] - 5s 6ms/step - loss: 0.1167 - accuracy: 0.9512 - val_loss: 0.0995 - val_accuracy: 0.9575\n",
            "Epoch 8/20\n",
            "812/812 [==============================] - 4s 5ms/step - loss: 0.1180 - accuracy: 0.9512 - val_loss: 0.1016 - val_accuracy: 0.9572\n",
            "Epoch 9/20\n",
            "812/812 [==============================] - 4s 5ms/step - loss: 0.1135 - accuracy: 0.9525 - val_loss: 0.1012 - val_accuracy: 0.9554\n",
            "Epoch 10/20\n",
            "812/812 [==============================] - 4s 5ms/step - loss: 0.1135 - accuracy: 0.9526 - val_loss: 0.0995 - val_accuracy: 0.9588\n",
            "Epoch 11/20\n",
            "812/812 [==============================] - 5s 6ms/step - loss: 0.1116 - accuracy: 0.9535 - val_loss: 0.0990 - val_accuracy: 0.9581\n",
            "Epoch 12/20\n",
            "812/812 [==============================] - 5s 6ms/step - loss: 0.1110 - accuracy: 0.9536 - val_loss: 0.0966 - val_accuracy: 0.9593\n",
            "Epoch 13/20\n",
            "812/812 [==============================] - 4s 5ms/step - loss: 0.1124 - accuracy: 0.9527 - val_loss: 0.1029 - val_accuracy: 0.9568\n",
            "Epoch 14/20\n",
            "812/812 [==============================] - 5s 6ms/step - loss: 0.1114 - accuracy: 0.9541 - val_loss: 0.0959 - val_accuracy: 0.9597\n",
            "Epoch 15/20\n",
            "812/812 [==============================] - 5s 6ms/step - loss: 0.1100 - accuracy: 0.9537 - val_loss: 0.0939 - val_accuracy: 0.9604\n",
            "Epoch 16/20\n",
            "812/812 [==============================] - 4s 5ms/step - loss: 0.1079 - accuracy: 0.9551 - val_loss: 0.0975 - val_accuracy: 0.9577\n",
            "Epoch 17/20\n",
            "812/812 [==============================] - 5s 6ms/step - loss: 0.1077 - accuracy: 0.9551 - val_loss: 0.0928 - val_accuracy: 0.9604\n",
            "Epoch 18/20\n",
            "812/812 [==============================] - 6s 7ms/step - loss: 0.1090 - accuracy: 0.9550 - val_loss: 0.0948 - val_accuracy: 0.9602\n",
            "Epoch 19/20\n",
            "812/812 [==============================] - 6s 8ms/step - loss: 0.1069 - accuracy: 0.9555 - val_loss: 0.0975 - val_accuracy: 0.9589\n",
            "Epoch 20/20\n",
            "812/812 [==============================] - 4s 5ms/step - loss: 0.1069 - accuracy: 0.9551 - val_loss: 0.0947 - val_accuracy: 0.9606\n"
          ]
        },
        {
          "output_type": "execute_result",
          "data": {
            "text/plain": [
              "<keras.callbacks.History at 0x7fe72e1df350>"
            ]
          },
          "metadata": {},
          "execution_count": 48
        }
      ]
    },
    {
      "cell_type": "code",
      "source": [
        "model.fit(x=X_train, y=y_train, epochs=10, batch_size=128,\n",
        "          validation_data=(X_test,y_test))"
      ],
      "metadata": {
        "colab": {
          "base_uri": "https://localhost:8080/"
        },
        "id": "gB54X_3eZ6GP",
        "outputId": "6310de9b-88b2-429c-9388-b0d9c89d5c7f"
      },
      "execution_count": null,
      "outputs": [
        {
          "output_type": "stream",
          "name": "stdout",
          "text": [
            "Epoch 1/10\n",
            "812/812 [==============================] - 5s 7ms/step - loss: 0.1036 - accuracy: 0.9566 - val_loss: 0.0941 - val_accuracy: 0.9587\n",
            "Epoch 2/10\n",
            "812/812 [==============================] - 5s 6ms/step - loss: 0.1041 - accuracy: 0.9563 - val_loss: 0.0976 - val_accuracy: 0.9573\n",
            "Epoch 3/10\n",
            "812/812 [==============================] - 4s 5ms/step - loss: 0.1019 - accuracy: 0.9571 - val_loss: 0.0891 - val_accuracy: 0.9619\n",
            "Epoch 4/10\n",
            "812/812 [==============================] - 5s 6ms/step - loss: 0.1027 - accuracy: 0.9561 - val_loss: 0.0875 - val_accuracy: 0.9623\n",
            "Epoch 5/10\n",
            "812/812 [==============================] - 5s 6ms/step - loss: 0.1011 - accuracy: 0.9566 - val_loss: 0.0891 - val_accuracy: 0.9620\n",
            "Epoch 6/10\n",
            "812/812 [==============================] - 5s 6ms/step - loss: 0.1017 - accuracy: 0.9568 - val_loss: 0.0880 - val_accuracy: 0.9611\n",
            "Epoch 7/10\n",
            "812/812 [==============================] - 4s 5ms/step - loss: 0.1028 - accuracy: 0.9564 - val_loss: 0.0878 - val_accuracy: 0.9624\n",
            "Epoch 8/10\n",
            "812/812 [==============================] - 5s 6ms/step - loss: 0.1011 - accuracy: 0.9568 - val_loss: 0.0877 - val_accuracy: 0.9622\n",
            "Epoch 9/10\n",
            "812/812 [==============================] - 4s 5ms/step - loss: 0.1027 - accuracy: 0.9569 - val_loss: 0.0879 - val_accuracy: 0.9621\n",
            "Epoch 10/10\n",
            "812/812 [==============================] - 5s 6ms/step - loss: 0.1032 - accuracy: 0.9564 - val_loss: 0.0897 - val_accuracy: 0.9629\n"
          ]
        },
        {
          "output_type": "execute_result",
          "data": {
            "text/plain": [
              "<keras.callbacks.History at 0x7fe72e204fd0>"
            ]
          },
          "metadata": {},
          "execution_count": 49
        }
      ]
    },
    {
      "cell_type": "code",
      "source": [
        "model.fit(x=X_train, y=y_train, epochs=20, batch_size=128,\n",
        "          validation_data=(X_test,y_test))"
      ],
      "metadata": {
        "colab": {
          "base_uri": "https://localhost:8080/"
        },
        "id": "B1gGvI5UaKNB",
        "outputId": "9da27f06-88f3-4bcf-ab71-d9ba8613abd3"
      },
      "execution_count": null,
      "outputs": [
        {
          "output_type": "stream",
          "name": "stdout",
          "text": [
            "Epoch 1/20\n",
            "812/812 [==============================] - 5s 7ms/step - loss: 0.0997 - accuracy: 0.9579 - val_loss: 0.0862 - val_accuracy: 0.9628\n",
            "Epoch 2/20\n",
            "812/812 [==============================] - 6s 7ms/step - loss: 0.1000 - accuracy: 0.9580 - val_loss: 0.0891 - val_accuracy: 0.9618\n",
            "Epoch 3/20\n",
            "812/812 [==============================] - 4s 5ms/step - loss: 0.1002 - accuracy: 0.9575 - val_loss: 0.0890 - val_accuracy: 0.9629\n",
            "Epoch 4/20\n",
            "812/812 [==============================] - 4s 5ms/step - loss: 0.0995 - accuracy: 0.9578 - val_loss: 0.0851 - val_accuracy: 0.9632\n",
            "Epoch 5/20\n",
            "812/812 [==============================] - 4s 5ms/step - loss: 0.0984 - accuracy: 0.9580 - val_loss: 0.0932 - val_accuracy: 0.9607\n",
            "Epoch 6/20\n",
            "812/812 [==============================] - 4s 5ms/step - loss: 0.0994 - accuracy: 0.9581 - val_loss: 0.0878 - val_accuracy: 0.9623\n",
            "Epoch 7/20\n",
            "812/812 [==============================] - 5s 6ms/step - loss: 0.1002 - accuracy: 0.9578 - val_loss: 0.0870 - val_accuracy: 0.9624\n",
            "Epoch 8/20\n",
            "812/812 [==============================] - 5s 6ms/step - loss: 0.0991 - accuracy: 0.9577 - val_loss: 0.0903 - val_accuracy: 0.9615\n",
            "Epoch 9/20\n",
            "812/812 [==============================] - 5s 6ms/step - loss: 0.0993 - accuracy: 0.9578 - val_loss: 0.0889 - val_accuracy: 0.9617\n",
            "Epoch 10/20\n",
            "812/812 [==============================] - 5s 6ms/step - loss: 0.0985 - accuracy: 0.9582 - val_loss: 0.0858 - val_accuracy: 0.9629\n",
            "Epoch 11/20\n",
            "812/812 [==============================] - 5s 6ms/step - loss: 0.0979 - accuracy: 0.9577 - val_loss: 0.0857 - val_accuracy: 0.9631\n",
            "Epoch 12/20\n",
            "812/812 [==============================] - 4s 5ms/step - loss: 0.0977 - accuracy: 0.9584 - val_loss: 0.0873 - val_accuracy: 0.9622\n",
            "Epoch 13/20\n",
            "812/812 [==============================] - 5s 6ms/step - loss: 0.0962 - accuracy: 0.9590 - val_loss: 0.0861 - val_accuracy: 0.9622\n",
            "Epoch 14/20\n",
            "812/812 [==============================] - 4s 5ms/step - loss: 0.0971 - accuracy: 0.9588 - val_loss: 0.0846 - val_accuracy: 0.9632\n",
            "Epoch 15/20\n",
            "812/812 [==============================] - 4s 5ms/step - loss: 0.0965 - accuracy: 0.9587 - val_loss: 0.0846 - val_accuracy: 0.9634\n",
            "Epoch 16/20\n",
            "812/812 [==============================] - 4s 5ms/step - loss: 0.0947 - accuracy: 0.9592 - val_loss: 0.0832 - val_accuracy: 0.9635\n",
            "Epoch 17/20\n",
            "812/812 [==============================] - 4s 5ms/step - loss: 0.0964 - accuracy: 0.9586 - val_loss: 0.0830 - val_accuracy: 0.9638\n",
            "Epoch 18/20\n",
            "812/812 [==============================] - 4s 5ms/step - loss: 0.0951 - accuracy: 0.9594 - val_loss: 0.0837 - val_accuracy: 0.9635\n",
            "Epoch 19/20\n",
            "812/812 [==============================] - 4s 5ms/step - loss: 0.0953 - accuracy: 0.9593 - val_loss: 0.0827 - val_accuracy: 0.9640\n",
            "Epoch 20/20\n",
            "812/812 [==============================] - 4s 5ms/step - loss: 0.0951 - accuracy: 0.9594 - val_loss: 0.0841 - val_accuracy: 0.9628\n"
          ]
        },
        {
          "output_type": "execute_result",
          "data": {
            "text/plain": [
              "<keras.callbacks.History at 0x7fe72e1a8150>"
            ]
          },
          "metadata": {},
          "execution_count": 50
        }
      ]
    },
    {
      "cell_type": "code",
      "source": [
        "model.fit(x=X_train, y=y_train, epochs=20, batch_size=128,\n",
        "          validation_data=(X_test,y_test))"
      ],
      "metadata": {
        "colab": {
          "base_uri": "https://localhost:8080/"
        },
        "id": "IAAcFj9maqFI",
        "outputId": "96d99977-78c0-48b0-99d4-a4f45c76db11"
      },
      "execution_count": null,
      "outputs": [
        {
          "output_type": "stream",
          "name": "stdout",
          "text": [
            "Epoch 1/20\n",
            "812/812 [==============================] - 6s 8ms/step - loss: 0.0976 - accuracy: 0.9584 - val_loss: 0.0844 - val_accuracy: 0.9640\n",
            "Epoch 2/20\n",
            "812/812 [==============================] - 5s 6ms/step - loss: 0.0977 - accuracy: 0.9580 - val_loss: 0.0961 - val_accuracy: 0.9590\n",
            "Epoch 3/20\n",
            "812/812 [==============================] - 5s 6ms/step - loss: 0.0973 - accuracy: 0.9583 - val_loss: 0.0844 - val_accuracy: 0.9636\n",
            "Epoch 4/20\n",
            "812/812 [==============================] - 4s 5ms/step - loss: 0.0951 - accuracy: 0.9601 - val_loss: 0.0863 - val_accuracy: 0.9622\n",
            "Epoch 5/20\n",
            "812/812 [==============================] - 5s 6ms/step - loss: 0.0951 - accuracy: 0.9593 - val_loss: 0.0835 - val_accuracy: 0.9638\n",
            "Epoch 6/20\n",
            "812/812 [==============================] - 5s 6ms/step - loss: 0.0955 - accuracy: 0.9589 - val_loss: 0.0874 - val_accuracy: 0.9612\n",
            "Epoch 7/20\n",
            "812/812 [==============================] - 4s 5ms/step - loss: 0.0966 - accuracy: 0.9585 - val_loss: 0.0857 - val_accuracy: 0.9628\n",
            "Epoch 8/20\n",
            "812/812 [==============================] - 5s 6ms/step - loss: 0.0965 - accuracy: 0.9582 - val_loss: 0.0840 - val_accuracy: 0.9637\n",
            "Epoch 9/20\n",
            "812/812 [==============================] - 5s 6ms/step - loss: 0.0970 - accuracy: 0.9584 - val_loss: 0.0875 - val_accuracy: 0.9601\n",
            "Epoch 10/20\n",
            "812/812 [==============================] - 5s 6ms/step - loss: 0.0971 - accuracy: 0.9587 - val_loss: 0.0846 - val_accuracy: 0.9633\n",
            "Epoch 11/20\n",
            "812/812 [==============================] - 5s 6ms/step - loss: 0.0967 - accuracy: 0.9588 - val_loss: 0.0872 - val_accuracy: 0.9627\n",
            "Epoch 12/20\n",
            "812/812 [==============================] - 5s 6ms/step - loss: 0.0962 - accuracy: 0.9592 - val_loss: 0.0839 - val_accuracy: 0.9634\n",
            "Epoch 13/20\n",
            "812/812 [==============================] - 5s 6ms/step - loss: 0.0952 - accuracy: 0.9593 - val_loss: 0.0850 - val_accuracy: 0.9629\n",
            "Epoch 14/20\n",
            "812/812 [==============================] - 4s 5ms/step - loss: 0.0959 - accuracy: 0.9588 - val_loss: 0.0873 - val_accuracy: 0.9622\n",
            "Epoch 15/20\n",
            "812/812 [==============================] - 5s 6ms/step - loss: 0.0980 - accuracy: 0.9582 - val_loss: 0.0842 - val_accuracy: 0.9627\n",
            "Epoch 16/20\n",
            "812/812 [==============================] - 4s 5ms/step - loss: 0.0975 - accuracy: 0.9584 - val_loss: 0.0849 - val_accuracy: 0.9626\n",
            "Epoch 17/20\n",
            "812/812 [==============================] - 5s 6ms/step - loss: 0.0971 - accuracy: 0.9584 - val_loss: 0.0860 - val_accuracy: 0.9622\n",
            "Epoch 18/20\n",
            "812/812 [==============================] - 5s 6ms/step - loss: 0.0976 - accuracy: 0.9585 - val_loss: 0.0850 - val_accuracy: 0.9633\n",
            "Epoch 19/20\n",
            "812/812 [==============================] - 5s 6ms/step - loss: 0.0946 - accuracy: 0.9594 - val_loss: 0.0835 - val_accuracy: 0.9640\n",
            "Epoch 20/20\n",
            "812/812 [==============================] - 5s 6ms/step - loss: 0.0953 - accuracy: 0.9588 - val_loss: 0.0834 - val_accuracy: 0.9638\n"
          ]
        },
        {
          "output_type": "execute_result",
          "data": {
            "text/plain": [
              "<keras.callbacks.History at 0x7fe72e142550>"
            ]
          },
          "metadata": {},
          "execution_count": 51
        }
      ]
    },
    {
      "cell_type": "markdown",
      "source": [
        "### Conclusion"
      ],
      "metadata": {
        "id": "at87aN2t72p3"
      }
    },
    {
      "cell_type": "markdown",
      "source": [
        "Better results are obvious.  \n",
        "Without kernel method: max(val_accuracy) = 0.9556   \n",
        "With kernel method: max(val_accuracy) = 0.9640"
      ],
      "metadata": {
        "id": "iEov80sS75Gw"
      }
    },
    {
      "cell_type": "markdown",
      "source": [
        "## Without hidden layers"
      ],
      "metadata": {
        "id": "9qmYnHW-Gw8i"
      }
    },
    {
      "cell_type": "markdown",
      "source": [
        "### Without using kernel method"
      ],
      "metadata": {
        "id": "57W4lWqGPGti"
      }
    },
    {
      "cell_type": "code",
      "source": [
        "model = Sequential()\n",
        "\n",
        "model.add(keras.layers.Input(shape=X_train.shape[1:]))\n",
        "\n",
        "model.add(Dense(units=1, activation='sigmoid'))\n",
        "\n",
        "opt = keras.optimizers.Adam(learning_rate=0.001)\n",
        "\n",
        "model.compile(loss='binary_crossentropy', optimizer=opt, metrics=['accuracy'])"
      ],
      "metadata": {
        "id": "YFp-oXrcG2ML"
      },
      "execution_count": null,
      "outputs": []
    },
    {
      "cell_type": "code",
      "source": [
        "model.fit(x=X_train, y=y_train, epochs=40, batch_size=32,\n",
        "          validation_data=(X_test,y_test))"
      ],
      "metadata": {
        "colab": {
          "base_uri": "https://localhost:8080/"
        },
        "id": "59pUzAKcG506",
        "outputId": "30bb98f6-3c24-404f-acab-8c822e511902"
      },
      "execution_count": null,
      "outputs": [
        {
          "output_type": "stream",
          "name": "stdout",
          "text": [
            "Epoch 1/40\n",
            "3247/3247 [==============================] - 11s 3ms/step - loss: 0.5542 - accuracy: 0.7426 - val_loss: 0.4800 - val_accuracy: 0.7952\n",
            "Epoch 2/40\n",
            "3247/3247 [==============================] - 10s 3ms/step - loss: 0.4515 - accuracy: 0.8125 - val_loss: 0.4290 - val_accuracy: 0.8256\n",
            "Epoch 3/40\n",
            "3247/3247 [==============================] - 11s 3ms/step - loss: 0.4143 - accuracy: 0.8353 - val_loss: 0.4015 - val_accuracy: 0.8430\n",
            "Epoch 4/40\n",
            "3247/3247 [==============================] - 11s 3ms/step - loss: 0.3924 - accuracy: 0.8488 - val_loss: 0.3842 - val_accuracy: 0.8519\n",
            "Epoch 5/40\n",
            "3247/3247 [==============================] - 10s 3ms/step - loss: 0.3780 - accuracy: 0.8566 - val_loss: 0.3722 - val_accuracy: 0.8605\n",
            "Epoch 6/40\n",
            "3247/3247 [==============================] - 10s 3ms/step - loss: 0.3681 - accuracy: 0.8618 - val_loss: 0.3640 - val_accuracy: 0.8646\n",
            "Epoch 7/40\n",
            "3247/3247 [==============================] - 10s 3ms/step - loss: 0.3611 - accuracy: 0.8653 - val_loss: 0.3585 - val_accuracy: 0.8645\n",
            "Epoch 8/40\n",
            "3247/3247 [==============================] - 10s 3ms/step - loss: 0.3558 - accuracy: 0.8675 - val_loss: 0.3536 - val_accuracy: 0.8696\n",
            "Epoch 9/40\n",
            "3247/3247 [==============================] - 10s 3ms/step - loss: 0.3518 - accuracy: 0.8689 - val_loss: 0.3507 - val_accuracy: 0.8714\n",
            "Epoch 10/40\n",
            "3247/3247 [==============================] - 10s 3ms/step - loss: 0.3488 - accuracy: 0.8697 - val_loss: 0.3473 - val_accuracy: 0.8691\n",
            "Epoch 11/40\n",
            "3247/3247 [==============================] - 11s 3ms/step - loss: 0.3464 - accuracy: 0.8706 - val_loss: 0.3452 - val_accuracy: 0.8719\n",
            "Epoch 12/40\n",
            "3247/3247 [==============================] - 11s 3ms/step - loss: 0.3445 - accuracy: 0.8712 - val_loss: 0.3436 - val_accuracy: 0.8709\n",
            "Epoch 13/40\n",
            "3247/3247 [==============================] - 10s 3ms/step - loss: 0.3430 - accuracy: 0.8722 - val_loss: 0.3428 - val_accuracy: 0.8701\n",
            "Epoch 14/40\n",
            "3247/3247 [==============================] - 11s 3ms/step - loss: 0.3417 - accuracy: 0.8723 - val_loss: 0.3411 - val_accuracy: 0.8715\n",
            "Epoch 15/40\n",
            "3247/3247 [==============================] - 11s 3ms/step - loss: 0.3406 - accuracy: 0.8728 - val_loss: 0.3400 - val_accuracy: 0.8736\n",
            "Epoch 16/40\n",
            "3247/3247 [==============================] - 10s 3ms/step - loss: 0.3398 - accuracy: 0.8736 - val_loss: 0.3393 - val_accuracy: 0.8729\n",
            "Epoch 17/40\n",
            "3247/3247 [==============================] - 11s 3ms/step - loss: 0.3391 - accuracy: 0.8734 - val_loss: 0.3388 - val_accuracy: 0.8727\n",
            "Epoch 18/40\n",
            "3247/3247 [==============================] - 10s 3ms/step - loss: 0.3385 - accuracy: 0.8736 - val_loss: 0.3380 - val_accuracy: 0.8740\n",
            "Epoch 19/40\n",
            "3247/3247 [==============================] - 10s 3ms/step - loss: 0.3380 - accuracy: 0.8743 - val_loss: 0.3379 - val_accuracy: 0.8730\n",
            "Epoch 20/40\n",
            "3247/3247 [==============================] - 10s 3ms/step - loss: 0.3376 - accuracy: 0.8736 - val_loss: 0.3373 - val_accuracy: 0.8736\n",
            "Epoch 21/40\n",
            "3247/3247 [==============================] - 11s 3ms/step - loss: 0.3372 - accuracy: 0.8739 - val_loss: 0.3369 - val_accuracy: 0.8737\n",
            "Epoch 22/40\n",
            "3247/3247 [==============================] - 10s 3ms/step - loss: 0.3369 - accuracy: 0.8744 - val_loss: 0.3366 - val_accuracy: 0.8742\n",
            "Epoch 23/40\n",
            "3247/3247 [==============================] - 10s 3ms/step - loss: 0.3367 - accuracy: 0.8746 - val_loss: 0.3365 - val_accuracy: 0.8755\n",
            "Epoch 24/40\n",
            "3247/3247 [==============================] - 11s 3ms/step - loss: 0.3365 - accuracy: 0.8741 - val_loss: 0.3362 - val_accuracy: 0.8739\n",
            "Epoch 25/40\n",
            "3247/3247 [==============================] - 11s 3ms/step - loss: 0.3362 - accuracy: 0.8740 - val_loss: 0.3360 - val_accuracy: 0.8747\n",
            "Epoch 26/40\n",
            "3247/3247 [==============================] - 10s 3ms/step - loss: 0.3361 - accuracy: 0.8745 - val_loss: 0.3363 - val_accuracy: 0.8755\n",
            "Epoch 27/40\n",
            "3247/3247 [==============================] - 10s 3ms/step - loss: 0.3360 - accuracy: 0.8742 - val_loss: 0.3359 - val_accuracy: 0.8732\n",
            "Epoch 28/40\n",
            "3247/3247 [==============================] - 11s 3ms/step - loss: 0.3359 - accuracy: 0.8745 - val_loss: 0.3359 - val_accuracy: 0.8756\n",
            "Epoch 29/40\n",
            "3247/3247 [==============================] - 11s 4ms/step - loss: 0.3358 - accuracy: 0.8744 - val_loss: 0.3358 - val_accuracy: 0.8755\n",
            "Epoch 30/40\n",
            "3247/3247 [==============================] - 11s 4ms/step - loss: 0.3357 - accuracy: 0.8744 - val_loss: 0.3354 - val_accuracy: 0.8750\n",
            "Epoch 31/40\n",
            "3247/3247 [==============================] - 11s 4ms/step - loss: 0.3356 - accuracy: 0.8742 - val_loss: 0.3354 - val_accuracy: 0.8754\n",
            "Epoch 32/40\n",
            "3247/3247 [==============================] - 11s 3ms/step - loss: 0.3355 - accuracy: 0.8750 - val_loss: 0.3354 - val_accuracy: 0.8738\n",
            "Epoch 33/40\n",
            "3247/3247 [==============================] - 10s 3ms/step - loss: 0.3355 - accuracy: 0.8744 - val_loss: 0.3352 - val_accuracy: 0.8750\n",
            "Epoch 34/40\n",
            "3247/3247 [==============================] - 10s 3ms/step - loss: 0.3354 - accuracy: 0.8747 - val_loss: 0.3352 - val_accuracy: 0.8741\n",
            "Epoch 35/40\n",
            "3247/3247 [==============================] - 11s 3ms/step - loss: 0.3353 - accuracy: 0.8748 - val_loss: 0.3351 - val_accuracy: 0.8747\n",
            "Epoch 36/40\n",
            "3247/3247 [==============================] - 10s 3ms/step - loss: 0.3353 - accuracy: 0.8746 - val_loss: 0.3351 - val_accuracy: 0.8749\n",
            "Epoch 37/40\n",
            "3247/3247 [==============================] - 11s 3ms/step - loss: 0.3353 - accuracy: 0.8744 - val_loss: 0.3351 - val_accuracy: 0.8745\n",
            "Epoch 38/40\n",
            "3247/3247 [==============================] - 10s 3ms/step - loss: 0.3352 - accuracy: 0.8744 - val_loss: 0.3351 - val_accuracy: 0.8754\n",
            "Epoch 39/40\n",
            "3247/3247 [==============================] - 10s 3ms/step - loss: 0.3352 - accuracy: 0.8746 - val_loss: 0.3350 - val_accuracy: 0.8748\n",
            "Epoch 40/40\n",
            "3247/3247 [==============================] - 10s 3ms/step - loss: 0.3352 - accuracy: 0.8749 - val_loss: 0.3350 - val_accuracy: 0.8743\n"
          ]
        },
        {
          "output_type": "execute_result",
          "data": {
            "text/plain": [
              "<keras.callbacks.History at 0x7f6f8c753d10>"
            ]
          },
          "metadata": {},
          "execution_count": 49
        }
      ]
    },
    {
      "cell_type": "markdown",
      "source": [
        "### Using kernel method"
      ],
      "metadata": {
        "id": "XXb7k3odPIB6"
      }
    },
    {
      "cell_type": "code",
      "source": [
        "model = Sequential()\n",
        "\n",
        "model.add(keras.layers.Input(shape=X_train.shape[1:]))\n",
        "\n",
        "model.add(keras.layers.experimental.RandomFourierFeatures(\n",
        "      output_dim=400,\n",
        "      kernel_initializer='gaussian'),\n",
        ")\n",
        "\n",
        "model.add(Dense(units=1, activation='sigmoid'))\n",
        "\n",
        "opt = keras.optimizers.Adam(learning_rate=0.001)\n",
        "\n",
        "model.compile(loss='binary_crossentropy', optimizer=opt, metrics=['accuracy'])"
      ],
      "metadata": {
        "id": "Ak67Hk_HHB0p"
      },
      "execution_count": null,
      "outputs": []
    },
    {
      "cell_type": "code",
      "source": [
        "model.fit(x=X_train, y=y_train, epochs=20, batch_size=32,\n",
        "          validation_data=(X_test,y_test))"
      ],
      "metadata": {
        "colab": {
          "base_uri": "https://localhost:8080/"
        },
        "id": "icZtndHXIOP6",
        "outputId": "95a50c95-18cc-4e83-dca6-d386539f4525"
      },
      "execution_count": null,
      "outputs": [
        {
          "output_type": "stream",
          "name": "stdout",
          "text": [
            "Epoch 1/20\n",
            "3247/3247 [==============================] - 12s 4ms/step - loss: 0.3306 - accuracy: 0.8727 - val_loss: 0.3063 - val_accuracy: 0.8822\n",
            "Epoch 2/20\n",
            "3247/3247 [==============================] - 12s 4ms/step - loss: 0.2965 - accuracy: 0.8857 - val_loss: 0.2852 - val_accuracy: 0.8910\n",
            "Epoch 3/20\n",
            "3247/3247 [==============================] - 11s 3ms/step - loss: 0.2795 - accuracy: 0.8925 - val_loss: 0.2720 - val_accuracy: 0.8943\n",
            "Epoch 4/20\n",
            "3247/3247 [==============================] - 11s 3ms/step - loss: 0.2673 - accuracy: 0.8966 - val_loss: 0.2620 - val_accuracy: 0.9002\n",
            "Epoch 5/20\n",
            "3247/3247 [==============================] - 11s 3ms/step - loss: 0.2583 - accuracy: 0.8993 - val_loss: 0.2520 - val_accuracy: 0.9031\n",
            "Epoch 6/20\n",
            "3247/3247 [==============================] - 11s 4ms/step - loss: 0.2503 - accuracy: 0.9033 - val_loss: 0.2444 - val_accuracy: 0.9059\n",
            "Epoch 7/20\n",
            "3247/3247 [==============================] - 11s 3ms/step - loss: 0.2439 - accuracy: 0.9059 - val_loss: 0.2387 - val_accuracy: 0.9081\n",
            "Epoch 8/20\n",
            "3247/3247 [==============================] - 12s 4ms/step - loss: 0.2385 - accuracy: 0.9082 - val_loss: 0.2341 - val_accuracy: 0.9104\n",
            "Epoch 9/20\n",
            "3247/3247 [==============================] - 12s 4ms/step - loss: 0.2342 - accuracy: 0.9100 - val_loss: 0.2316 - val_accuracy: 0.9104\n",
            "Epoch 10/20\n",
            "3247/3247 [==============================] - 11s 3ms/step - loss: 0.2302 - accuracy: 0.9113 - val_loss: 0.2268 - val_accuracy: 0.9114\n",
            "Epoch 11/20\n",
            "3247/3247 [==============================] - 11s 3ms/step - loss: 0.2268 - accuracy: 0.9125 - val_loss: 0.2244 - val_accuracy: 0.9136\n",
            "Epoch 12/20\n",
            "3247/3247 [==============================] - 11s 3ms/step - loss: 0.2238 - accuracy: 0.9137 - val_loss: 0.2212 - val_accuracy: 0.9165\n",
            "Epoch 13/20\n",
            "3247/3247 [==============================] - 12s 4ms/step - loss: 0.2213 - accuracy: 0.9142 - val_loss: 0.2175 - val_accuracy: 0.9163\n",
            "Epoch 14/20\n",
            "3247/3247 [==============================] - 11s 4ms/step - loss: 0.2190 - accuracy: 0.9152 - val_loss: 0.2193 - val_accuracy: 0.9127\n",
            "Epoch 15/20\n",
            "3247/3247 [==============================] - 11s 3ms/step - loss: 0.2172 - accuracy: 0.9157 - val_loss: 0.2155 - val_accuracy: 0.9144\n",
            "Epoch 16/20\n",
            "3247/3247 [==============================] - 11s 3ms/step - loss: 0.2151 - accuracy: 0.9169 - val_loss: 0.2217 - val_accuracy: 0.9106\n",
            "Epoch 17/20\n",
            "3247/3247 [==============================] - 11s 3ms/step - loss: 0.2141 - accuracy: 0.9169 - val_loss: 0.2107 - val_accuracy: 0.9172\n",
            "Epoch 18/20\n",
            "3247/3247 [==============================] - 11s 3ms/step - loss: 0.2119 - accuracy: 0.9178 - val_loss: 0.2093 - val_accuracy: 0.9187\n",
            "Epoch 19/20\n",
            "3247/3247 [==============================] - 11s 3ms/step - loss: 0.2104 - accuracy: 0.9187 - val_loss: 0.2077 - val_accuracy: 0.9193\n",
            "Epoch 20/20\n",
            "3247/3247 [==============================] - 12s 4ms/step - loss: 0.2094 - accuracy: 0.9179 - val_loss: 0.2059 - val_accuracy: 0.9197\n"
          ]
        },
        {
          "output_type": "execute_result",
          "data": {
            "text/plain": [
              "<keras.callbacks.History at 0x7f6f8c616050>"
            ]
          },
          "metadata": {},
          "execution_count": 51
        }
      ]
    },
    {
      "cell_type": "code",
      "source": [
        "model.fit(x=X_train, y=y_train, epochs=20, batch_size=32,\n",
        "          validation_data=(X_test,y_test))"
      ],
      "metadata": {
        "colab": {
          "base_uri": "https://localhost:8080/"
        },
        "id": "B7b66nHEM7jJ",
        "outputId": "b7c18c28-8f06-46e9-cf13-b72d35d18484"
      },
      "execution_count": null,
      "outputs": [
        {
          "output_type": "stream",
          "name": "stdout",
          "text": [
            "Epoch 1/20\n",
            "3247/3247 [==============================] - 12s 4ms/step - loss: 0.2075 - accuracy: 0.9195 - val_loss: 0.2051 - val_accuracy: 0.9204\n",
            "Epoch 2/20\n",
            "3247/3247 [==============================] - 12s 4ms/step - loss: 0.2067 - accuracy: 0.9192 - val_loss: 0.2074 - val_accuracy: 0.9210\n",
            "Epoch 3/20\n",
            "3247/3247 [==============================] - 11s 4ms/step - loss: 0.2054 - accuracy: 0.9197 - val_loss: 0.2047 - val_accuracy: 0.9218\n",
            "Epoch 4/20\n",
            "3247/3247 [==============================] - 11s 3ms/step - loss: 0.2042 - accuracy: 0.9205 - val_loss: 0.2015 - val_accuracy: 0.9204\n",
            "Epoch 5/20\n",
            "3247/3247 [==============================] - 12s 4ms/step - loss: 0.2036 - accuracy: 0.9206 - val_loss: 0.2014 - val_accuracy: 0.9200\n",
            "Epoch 6/20\n",
            "3247/3247 [==============================] - 11s 3ms/step - loss: 0.2028 - accuracy: 0.9206 - val_loss: 0.2001 - val_accuracy: 0.9219\n",
            "Epoch 7/20\n",
            "3247/3247 [==============================] - 11s 3ms/step - loss: 0.2019 - accuracy: 0.9212 - val_loss: 0.2001 - val_accuracy: 0.9206\n",
            "Epoch 8/20\n",
            "3247/3247 [==============================] - 11s 3ms/step - loss: 0.2009 - accuracy: 0.9212 - val_loss: 0.1982 - val_accuracy: 0.9227\n",
            "Epoch 9/20\n",
            "3247/3247 [==============================] - 11s 3ms/step - loss: 0.1999 - accuracy: 0.9216 - val_loss: 0.2087 - val_accuracy: 0.9204\n",
            "Epoch 10/20\n",
            "3247/3247 [==============================] - 12s 4ms/step - loss: 0.1996 - accuracy: 0.9218 - val_loss: 0.1965 - val_accuracy: 0.9230\n",
            "Epoch 11/20\n",
            "3247/3247 [==============================] - 11s 4ms/step - loss: 0.1986 - accuracy: 0.9220 - val_loss: 0.1958 - val_accuracy: 0.9236\n",
            "Epoch 12/20\n",
            "3247/3247 [==============================] - 12s 4ms/step - loss: 0.1982 - accuracy: 0.9220 - val_loss: 0.1957 - val_accuracy: 0.9236\n",
            "Epoch 13/20\n",
            "3247/3247 [==============================] - 11s 3ms/step - loss: 0.1974 - accuracy: 0.9224 - val_loss: 0.2069 - val_accuracy: 0.9206\n",
            "Epoch 14/20\n",
            "3247/3247 [==============================] - 11s 3ms/step - loss: 0.1964 - accuracy: 0.9232 - val_loss: 0.1953 - val_accuracy: 0.9223\n",
            "Epoch 15/20\n",
            "3247/3247 [==============================] - 11s 3ms/step - loss: 0.1963 - accuracy: 0.9229 - val_loss: 0.1949 - val_accuracy: 0.9229\n",
            "Epoch 16/20\n",
            "3247/3247 [==============================] - 11s 3ms/step - loss: 0.1954 - accuracy: 0.9231 - val_loss: 0.1978 - val_accuracy: 0.9207\n",
            "Epoch 17/20\n",
            "3247/3247 [==============================] - 11s 4ms/step - loss: 0.1950 - accuracy: 0.9233 - val_loss: 0.1976 - val_accuracy: 0.9215\n",
            "Epoch 18/20\n",
            "3247/3247 [==============================] - 11s 4ms/step - loss: 0.1945 - accuracy: 0.9240 - val_loss: 0.1936 - val_accuracy: 0.9231\n",
            "Epoch 19/20\n",
            "3247/3247 [==============================] - 11s 3ms/step - loss: 0.1938 - accuracy: 0.9234 - val_loss: 0.1917 - val_accuracy: 0.9244\n",
            "Epoch 20/20\n",
            "3247/3247 [==============================] - 11s 3ms/step - loss: 0.1935 - accuracy: 0.9239 - val_loss: 0.1911 - val_accuracy: 0.9244\n"
          ]
        },
        {
          "output_type": "execute_result",
          "data": {
            "text/plain": [
              "<keras.callbacks.History at 0x7f6f8c6d6210>"
            ]
          },
          "metadata": {},
          "execution_count": 52
        }
      ]
    },
    {
      "cell_type": "markdown",
      "source": [
        "### Conclusion\n",
        "\n",
        "Better results are obvious.  \n",
        "Without kernel method: max(val_accuracy) = 0.8756   \n",
        "With kernel method: max(val_accuracy) = 0.9244"
      ],
      "metadata": {
        "id": "cvtOG0TQOVyC"
      }
    },
    {
      "cell_type": "markdown",
      "source": [
        "## SVM with rbf (default in sklearn) kernel type "
      ],
      "metadata": {
        "id": "KfpgwleIa_xL"
      }
    },
    {
      "cell_type": "code",
      "source": [
        "from sklearn import svm\n",
        "\n",
        "clf = svm.SVC()\n",
        "clf.fit(X_train, y_train)"
      ],
      "metadata": {
        "colab": {
          "base_uri": "https://localhost:8080/"
        },
        "id": "aWw5Jq9NbBFC",
        "outputId": "b947720d-786f-4a21-9caf-c2fc12595baa"
      },
      "execution_count": 44,
      "outputs": [
        {
          "output_type": "execute_result",
          "data": {
            "text/plain": [
              "SVC()"
            ]
          },
          "metadata": {},
          "execution_count": 44
        }
      ]
    },
    {
      "cell_type": "code",
      "source": [
        "from sklearn.metrics import accuracy_score\n",
        "\n",
        "accuracy_score(y_train, clf.predict(X_train))"
      ],
      "metadata": {
        "colab": {
          "base_uri": "https://localhost:8080/"
        },
        "id": "sgpWqGFabsoS",
        "outputId": "5a1aaeb1-e6a7-4b94-9553-6046a194a304"
      },
      "execution_count": 45,
      "outputs": [
        {
          "output_type": "execute_result",
          "data": {
            "text/plain": [
              "0.9524464890668309"
            ]
          },
          "metadata": {},
          "execution_count": 45
        }
      ]
    },
    {
      "cell_type": "markdown",
      "source": [
        "## Conclusion\n",
        "The results have shown an obvious increase in accuracy when using kernel methods, even within the initial epochs.  \n",
        "Also, the best neural network model's result is better than the SVM model's result.  \n",
        "\n",
        "Review: (with hidden layers)  \n",
        "Without kernel method: max(val_accuracy) = 0.9556  \n",
        "With kernel method: max(val_accuracy) = 0.9640  \n",
        "(without hidden layers)   \n",
        "Without kernel method: max(val_accuracy) = 0.8756  \n",
        "With kernel method: max(val_accuracy) = 0.9244\n",
        "\n",
        "SVM score: 0.9524"
      ],
      "metadata": {
        "id": "8zMVuLh-OjG5"
      }
    },
    {
      "cell_type": "code",
      "source": [
        ""
      ],
      "metadata": {
        "id": "tJOWKWc8OwhA"
      },
      "execution_count": null,
      "outputs": []
    }
  ],
  "metadata": {
    "colab": {
      "name": "Exercise2.ipynb",
      "provenance": [],
      "collapsed_sections": [],
      "toc_visible": true
    },
    "kernelspec": {
      "display_name": "Python 3",
      "name": "python3"
    },
    "language_info": {
      "name": "python"
    },
    "accelerator": "GPU"
  },
  "nbformat": 4,
  "nbformat_minor": 0
}