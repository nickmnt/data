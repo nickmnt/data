{
  "nbformat": 4,
  "nbformat_minor": 0,
  "metadata": {
    "colab": {
      "name": "SequentialAPI.ipynb",
      "provenance": [],
      "authorship_tag": "ABX9TyMuSphsuzhwwlIwYNDRjlXB",
      "include_colab_link": true
    },
    "kernelspec": {
      "name": "python3",
      "display_name": "Python 3"
    },
    "language_info": {
      "name": "python"
    }
  },
  "cells": [
    {
      "cell_type": "markdown",
      "metadata": {
        "id": "view-in-github",
        "colab_type": "text"
      },
      "source": [
        "<a href=\"https://colab.research.google.com/github/nimamt/machine_learning/blob/master/tf/SequentialAPI.ipynb\" target=\"_parent\"><img src=\"https://colab.research.google.com/assets/colab-badge.svg\" alt=\"Open In Colab\"/></a>"
      ]
    },
    {
      "cell_type": "markdown",
      "source": [
        "Also refer to the FunctionalAPI notebook part 3; we are going to create that same model through the SequentialAPI."
      ],
      "metadata": {
        "id": "OvUSWTL_V6l8"
      }
    },
    {
      "cell_type": "code",
      "execution_count": null,
      "metadata": {
        "id": "gq4wdWCHUlxt"
      },
      "outputs": [],
      "source": [
        "import numpy as np\n",
        "import pandas as pd\n",
        "import matplotlib.pyplot as plt\n",
        "import seaborn as sns\n",
        "\n",
        "%matplotlib inline"
      ]
    },
    {
      "cell_type": "code",
      "source": [
        "from sklearn.datasets import fetch_california_housing\n",
        "from sklearn.model_selection import train_test_split\n",
        "from sklearn.preprocessing import StandardScaler"
      ],
      "metadata": {
        "id": "7Ix2rt6qUpfs"
      },
      "execution_count": null,
      "outputs": []
    },
    {
      "cell_type": "code",
      "source": [
        "housing = fetch_california_housing()\n",
        "\n",
        "X_train_full, X_test, y_train_full, y_test = train_test_split(\n",
        "  housing.data, housing.target)\n",
        "X_train, X_valid, y_train, y_valid = train_test_split(\n",
        "  X_train_full, y_train_full)\n",
        "\n",
        "scaler = StandardScaler()\n",
        "X_train = scaler.fit_transform(X_train)\n",
        "X_valid = scaler.transform(X_valid)\n",
        "X_test = scaler.transform(X_test)"
      ],
      "metadata": {
        "id": "aiEl13rxVYPd"
      },
      "execution_count": null,
      "outputs": []
    },
    {
      "cell_type": "code",
      "source": [
        "X_train_A, X_train_B = X_train[:, :5], X_train[:, 2:]\n",
        "X_valid_A, X_valid_B = X_valid[:, :5], X_valid[:, 2:]\n",
        "X_test_A, X_test_B = X_test[:, :5], X_test[:, 2:]\n",
        "X_new_A, X_new_B = X_test_A[:3], X_test_B[:3]"
      ],
      "metadata": {
        "id": "RCMNYhXQUp1b"
      },
      "execution_count": null,
      "outputs": []
    },
    {
      "cell_type": "code",
      "source": [
        "import tensorflow as tf\n",
        "from tensorflow import keras"
      ],
      "metadata": {
        "id": "McQpa2bUUq_7"
      },
      "execution_count": null,
      "outputs": []
    },
    {
      "cell_type": "code",
      "source": [
        "class WideAndDeepModel(keras.Model):\n",
        "  def __init__(self, units=30, activation=\"relu\", **kwargs):\n",
        "    super().__init__(**kwargs) # handles standard args (e.g., name)\n",
        "    self.hidden1 = keras.layers.Dense(units, activation=activation)\n",
        "    self.hidden2 = keras.layers.Dense(units, activation=activation)\n",
        "    self.main_output = keras.layers.Dense(1)\n",
        "    self.aux_output = keras.layers.Dense(1)\n",
        "  def call(self, inputs):\n",
        "    input_A, input_B = inputs\n",
        "    hidden1 = self.hidden1(input_B)\n",
        "    hidden2 = self.hidden2(hidden1)\n",
        "    concat = keras.layers.concatenate([input_A, hidden2])\n",
        "    main_output = self.main_output(concat)\n",
        "    aux_output = self.aux_output(hidden2)\n",
        "    return main_output, aux_output\n",
        "\n",
        "model = WideAndDeepModel()\n",
        "model.compile(loss=[\"mse\", \"mse\"], loss_weights=[0.9, 0.1], optimizer=\"sgd\")"
      ],
      "metadata": {
        "id": "siAZsponUsOD"
      },
      "execution_count": null,
      "outputs": []
    },
    {
      "cell_type": "code",
      "source": [
        "history = model.fit(\n",
        "  [X_train_A, X_train_B], [y_train, y_train], epochs=20,\n",
        "  validation_data=([X_valid_A, X_valid_B], [y_valid, y_valid]))"
      ],
      "metadata": {
        "colab": {
          "base_uri": "https://localhost:8080/"
        },
        "id": "fBJUs3-MUv7b",
        "outputId": "dea49254-2ee9-4c70-baaa-3a4d4460d741"
      },
      "execution_count": null,
      "outputs": [
        {
          "output_type": "stream",
          "name": "stdout",
          "text": [
            "Epoch 1/20\n",
            "363/363 [==============================] - 2s 3ms/step - loss: 1.1687 - output_1_loss: 0.9842 - output_2_loss: 2.8293 - val_loss: 0.6531 - val_output_1_loss: 0.5670 - val_output_2_loss: 1.4280\n",
            "Epoch 2/20\n",
            "363/363 [==============================] - 1s 2ms/step - loss: 0.6154 - output_1_loss: 0.5342 - output_2_loss: 1.3458 - val_loss: 0.5853 - val_output_1_loss: 0.5127 - val_output_2_loss: 1.2385\n",
            "Epoch 3/20\n",
            "363/363 [==============================] - 1s 2ms/step - loss: 0.5649 - output_1_loss: 0.4966 - output_2_loss: 1.1797 - val_loss: 0.5602 - val_output_1_loss: 0.4974 - val_output_2_loss: 1.1258\n",
            "Epoch 4/20\n",
            "363/363 [==============================] - 1s 2ms/step - loss: 0.5495 - output_1_loss: 0.4946 - output_2_loss: 1.0442 - val_loss: 0.5303 - val_output_1_loss: 0.4793 - val_output_2_loss: 0.9889\n",
            "Epoch 5/20\n",
            "363/363 [==============================] - 1s 2ms/step - loss: 0.5095 - output_1_loss: 0.4638 - output_2_loss: 0.9204 - val_loss: 0.5157 - val_output_1_loss: 0.4752 - val_output_2_loss: 0.8795\n",
            "Epoch 6/20\n",
            "363/363 [==============================] - 1s 3ms/step - loss: 0.4809 - output_1_loss: 0.4440 - output_2_loss: 0.8133 - val_loss: 0.5016 - val_output_1_loss: 0.4695 - val_output_2_loss: 0.7901\n",
            "Epoch 7/20\n",
            "363/363 [==============================] - 1s 3ms/step - loss: 0.4676 - output_1_loss: 0.4381 - output_2_loss: 0.7325 - val_loss: 0.4794 - val_output_1_loss: 0.4522 - val_output_2_loss: 0.7250\n",
            "Epoch 8/20\n",
            "363/363 [==============================] - 1s 3ms/step - loss: 0.4501 - output_1_loss: 0.4252 - output_2_loss: 0.6745 - val_loss: 0.4682 - val_output_1_loss: 0.4446 - val_output_2_loss: 0.6803\n",
            "Epoch 9/20\n",
            "363/363 [==============================] - 1s 2ms/step - loss: 0.4417 - output_1_loss: 0.4204 - output_2_loss: 0.6336 - val_loss: 0.6444 - val_output_1_loss: 0.6435 - val_output_2_loss: 0.6519\n",
            "Epoch 10/20\n",
            "363/363 [==============================] - 1s 3ms/step - loss: 0.4315 - output_1_loss: 0.4124 - output_2_loss: 0.6041 - val_loss: 0.5183 - val_output_1_loss: 0.5058 - val_output_2_loss: 0.6308\n",
            "Epoch 11/20\n",
            "363/363 [==============================] - 1s 2ms/step - loss: 0.4217 - output_1_loss: 0.4036 - output_2_loss: 0.5847 - val_loss: 0.4330 - val_output_1_loss: 0.4138 - val_output_2_loss: 0.6065\n",
            "Epoch 12/20\n",
            "363/363 [==============================] - 1s 3ms/step - loss: 0.4149 - output_1_loss: 0.3980 - output_2_loss: 0.5667 - val_loss: 0.4330 - val_output_1_loss: 0.4156 - val_output_2_loss: 0.5897\n",
            "Epoch 13/20\n",
            "363/363 [==============================] - 1s 3ms/step - loss: 0.4012 - output_1_loss: 0.3847 - output_2_loss: 0.5493 - val_loss: 0.4202 - val_output_1_loss: 0.4031 - val_output_2_loss: 0.5742\n",
            "Epoch 14/20\n",
            "363/363 [==============================] - 1s 3ms/step - loss: 0.3932 - output_1_loss: 0.3774 - output_2_loss: 0.5354 - val_loss: 0.4131 - val_output_1_loss: 0.3959 - val_output_2_loss: 0.5675\n",
            "Epoch 15/20\n",
            "363/363 [==============================] - 1s 4ms/step - loss: 0.3895 - output_1_loss: 0.3744 - output_2_loss: 0.5256 - val_loss: 0.4067 - val_output_1_loss: 0.3907 - val_output_2_loss: 0.5507\n",
            "Epoch 16/20\n",
            "363/363 [==============================] - 1s 3ms/step - loss: 0.3816 - output_1_loss: 0.3668 - output_2_loss: 0.5147 - val_loss: 0.4049 - val_output_1_loss: 0.3903 - val_output_2_loss: 0.5360\n",
            "Epoch 17/20\n",
            "363/363 [==============================] - 1s 4ms/step - loss: 0.3763 - output_1_loss: 0.3622 - output_2_loss: 0.5034 - val_loss: 0.3896 - val_output_1_loss: 0.3746 - val_output_2_loss: 0.5251\n",
            "Epoch 18/20\n",
            "363/363 [==============================] - 1s 3ms/step - loss: 0.3714 - output_1_loss: 0.3578 - output_2_loss: 0.4945 - val_loss: 0.3832 - val_output_1_loss: 0.3686 - val_output_2_loss: 0.5146\n",
            "Epoch 19/20\n",
            "363/363 [==============================] - 1s 2ms/step - loss: 0.3673 - output_1_loss: 0.3540 - output_2_loss: 0.4872 - val_loss: 0.3812 - val_output_1_loss: 0.3675 - val_output_2_loss: 0.5043\n",
            "Epoch 20/20\n",
            "363/363 [==============================] - 1s 3ms/step - loss: 0.3647 - output_1_loss: 0.3518 - output_2_loss: 0.4804 - val_loss: 0.3831 - val_output_1_loss: 0.3703 - val_output_2_loss: 0.4992\n"
          ]
        }
      ]
    },
    {
      "cell_type": "code",
      "source": [
        "hist = pd.DataFrame(history.history)\n",
        "\n",
        "hist.head()"
      ],
      "metadata": {
        "colab": {
          "base_uri": "https://localhost:8080/",
          "height": 206
        },
        "id": "cqlYzxZfVIB7",
        "outputId": "691b8c48-0a3b-4af0-e412-99e9f5a97ace"
      },
      "execution_count": null,
      "outputs": [
        {
          "output_type": "execute_result",
          "data": {
            "text/plain": [
              "       loss  output_1_loss  output_2_loss  val_loss  val_output_1_loss  \\\n",
              "0  1.168694       0.984178       2.829338  0.653090           0.566994   \n",
              "1  0.615376       0.534220       1.345774  0.585292           0.512709   \n",
              "2  0.564950       0.496644       1.179705  0.560220           0.497381   \n",
              "3  0.549540       0.494579       1.044191  0.530284           0.479329   \n",
              "4  0.509473       0.463816       0.920382  0.515668           0.475239   \n",
              "\n",
              "   val_output_2_loss  \n",
              "0           1.427963  \n",
              "1           1.238536  \n",
              "2           1.125772  \n",
              "3           0.988879  \n",
              "4           0.879528  "
            ],
            "text/html": [
              "\n",
              "  <div id=\"df-ee97abb6-1346-4a08-bc0c-6650bec3257e\">\n",
              "    <div class=\"colab-df-container\">\n",
              "      <div>\n",
              "<style scoped>\n",
              "    .dataframe tbody tr th:only-of-type {\n",
              "        vertical-align: middle;\n",
              "    }\n",
              "\n",
              "    .dataframe tbody tr th {\n",
              "        vertical-align: top;\n",
              "    }\n",
              "\n",
              "    .dataframe thead th {\n",
              "        text-align: right;\n",
              "    }\n",
              "</style>\n",
              "<table border=\"1\" class=\"dataframe\">\n",
              "  <thead>\n",
              "    <tr style=\"text-align: right;\">\n",
              "      <th></th>\n",
              "      <th>loss</th>\n",
              "      <th>output_1_loss</th>\n",
              "      <th>output_2_loss</th>\n",
              "      <th>val_loss</th>\n",
              "      <th>val_output_1_loss</th>\n",
              "      <th>val_output_2_loss</th>\n",
              "    </tr>\n",
              "  </thead>\n",
              "  <tbody>\n",
              "    <tr>\n",
              "      <th>0</th>\n",
              "      <td>1.168694</td>\n",
              "      <td>0.984178</td>\n",
              "      <td>2.829338</td>\n",
              "      <td>0.653090</td>\n",
              "      <td>0.566994</td>\n",
              "      <td>1.427963</td>\n",
              "    </tr>\n",
              "    <tr>\n",
              "      <th>1</th>\n",
              "      <td>0.615376</td>\n",
              "      <td>0.534220</td>\n",
              "      <td>1.345774</td>\n",
              "      <td>0.585292</td>\n",
              "      <td>0.512709</td>\n",
              "      <td>1.238536</td>\n",
              "    </tr>\n",
              "    <tr>\n",
              "      <th>2</th>\n",
              "      <td>0.564950</td>\n",
              "      <td>0.496644</td>\n",
              "      <td>1.179705</td>\n",
              "      <td>0.560220</td>\n",
              "      <td>0.497381</td>\n",
              "      <td>1.125772</td>\n",
              "    </tr>\n",
              "    <tr>\n",
              "      <th>3</th>\n",
              "      <td>0.549540</td>\n",
              "      <td>0.494579</td>\n",
              "      <td>1.044191</td>\n",
              "      <td>0.530284</td>\n",
              "      <td>0.479329</td>\n",
              "      <td>0.988879</td>\n",
              "    </tr>\n",
              "    <tr>\n",
              "      <th>4</th>\n",
              "      <td>0.509473</td>\n",
              "      <td>0.463816</td>\n",
              "      <td>0.920382</td>\n",
              "      <td>0.515668</td>\n",
              "      <td>0.475239</td>\n",
              "      <td>0.879528</td>\n",
              "    </tr>\n",
              "  </tbody>\n",
              "</table>\n",
              "</div>\n",
              "      <button class=\"colab-df-convert\" onclick=\"convertToInteractive('df-ee97abb6-1346-4a08-bc0c-6650bec3257e')\"\n",
              "              title=\"Convert this dataframe to an interactive table.\"\n",
              "              style=\"display:none;\">\n",
              "        \n",
              "  <svg xmlns=\"http://www.w3.org/2000/svg\" height=\"24px\"viewBox=\"0 0 24 24\"\n",
              "       width=\"24px\">\n",
              "    <path d=\"M0 0h24v24H0V0z\" fill=\"none\"/>\n",
              "    <path d=\"M18.56 5.44l.94 2.06.94-2.06 2.06-.94-2.06-.94-.94-2.06-.94 2.06-2.06.94zm-11 1L8.5 8.5l.94-2.06 2.06-.94-2.06-.94L8.5 2.5l-.94 2.06-2.06.94zm10 10l.94 2.06.94-2.06 2.06-.94-2.06-.94-.94-2.06-.94 2.06-2.06.94z\"/><path d=\"M17.41 7.96l-1.37-1.37c-.4-.4-.92-.59-1.43-.59-.52 0-1.04.2-1.43.59L10.3 9.45l-7.72 7.72c-.78.78-.78 2.05 0 2.83L4 21.41c.39.39.9.59 1.41.59.51 0 1.02-.2 1.41-.59l7.78-7.78 2.81-2.81c.8-.78.8-2.07 0-2.86zM5.41 20L4 18.59l7.72-7.72 1.47 1.35L5.41 20z\"/>\n",
              "  </svg>\n",
              "      </button>\n",
              "      \n",
              "  <style>\n",
              "    .colab-df-container {\n",
              "      display:flex;\n",
              "      flex-wrap:wrap;\n",
              "      gap: 12px;\n",
              "    }\n",
              "\n",
              "    .colab-df-convert {\n",
              "      background-color: #E8F0FE;\n",
              "      border: none;\n",
              "      border-radius: 50%;\n",
              "      cursor: pointer;\n",
              "      display: none;\n",
              "      fill: #1967D2;\n",
              "      height: 32px;\n",
              "      padding: 0 0 0 0;\n",
              "      width: 32px;\n",
              "    }\n",
              "\n",
              "    .colab-df-convert:hover {\n",
              "      background-color: #E2EBFA;\n",
              "      box-shadow: 0px 1px 2px rgba(60, 64, 67, 0.3), 0px 1px 3px 1px rgba(60, 64, 67, 0.15);\n",
              "      fill: #174EA6;\n",
              "    }\n",
              "\n",
              "    [theme=dark] .colab-df-convert {\n",
              "      background-color: #3B4455;\n",
              "      fill: #D2E3FC;\n",
              "    }\n",
              "\n",
              "    [theme=dark] .colab-df-convert:hover {\n",
              "      background-color: #434B5C;\n",
              "      box-shadow: 0px 1px 3px 1px rgba(0, 0, 0, 0.15);\n",
              "      filter: drop-shadow(0px 1px 2px rgba(0, 0, 0, 0.3));\n",
              "      fill: #FFFFFF;\n",
              "    }\n",
              "  </style>\n",
              "\n",
              "      <script>\n",
              "        const buttonEl =\n",
              "          document.querySelector('#df-ee97abb6-1346-4a08-bc0c-6650bec3257e button.colab-df-convert');\n",
              "        buttonEl.style.display =\n",
              "          google.colab.kernel.accessAllowed ? 'block' : 'none';\n",
              "\n",
              "        async function convertToInteractive(key) {\n",
              "          const element = document.querySelector('#df-ee97abb6-1346-4a08-bc0c-6650bec3257e');\n",
              "          const dataTable =\n",
              "            await google.colab.kernel.invokeFunction('convertToInteractive',\n",
              "                                                     [key], {});\n",
              "          if (!dataTable) return;\n",
              "\n",
              "          const docLinkHtml = 'Like what you see? Visit the ' +\n",
              "            '<a target=\"_blank\" href=https://colab.research.google.com/notebooks/data_table.ipynb>data table notebook</a>'\n",
              "            + ' to learn more about interactive tables.';\n",
              "          element.innerHTML = '';\n",
              "          dataTable['output_type'] = 'display_data';\n",
              "          await google.colab.output.renderOutput(dataTable, element);\n",
              "          const docLink = document.createElement('div');\n",
              "          docLink.innerHTML = docLinkHtml;\n",
              "          element.appendChild(docLink);\n",
              "        }\n",
              "      </script>\n",
              "    </div>\n",
              "  </div>\n",
              "  "
            ]
          },
          "metadata": {},
          "execution_count": 18
        }
      ]
    },
    {
      "cell_type": "code",
      "source": [
        "# pd.DataFrame(history.history).plot(figsize=(8, 5))\n",
        "plt.figure(figsize=(8,5))\n",
        "epochs = np.arange(0, len(hist[\"loss\"]))\n",
        "plt.plot(epochs - 0.5, hist[\"loss\"], label=\"train_loss\")\n",
        "plt.plot(epochs - 0.5, hist[\"output_1_loss\"], label=\"output_1_loss\")\n",
        "plt.plot(epochs - 0.5, hist[\"output_2_loss\"], label=\"output_2_loss\")\n",
        "plt.plot(epochs, hist[\"val_loss\"], label=\"val_loss\")\n",
        "plt.plot(epochs, hist[\"val_output_1_loss\"], label=\"val_output_1_loss\")\n",
        "plt.plot(epochs, hist[\"val_output_2_loss\"], label=\"val_output_2_loss\")\n",
        "plt.legend()\n",
        "plt.grid(True)\n",
        "plt.gca().set_ylim(0, 1) # set the vertical range to [0-1]\n",
        "plt.show()"
      ],
      "metadata": {
        "colab": {
          "base_uri": "https://localhost:8080/",
          "height": 324
        },
        "id": "yWM_bkJCVnar",
        "outputId": "27a63277-adbf-4aa6-f9d0-4ba80599f3a6"
      },
      "execution_count": null,
      "outputs": [
        {
          "output_type": "display_data",
          "data": {
            "text/plain": [
              "<Figure size 576x360 with 1 Axes>"
            ],
            "image/png": "[encoded data removed]"
          },
          "metadata": {
            "needs_background": "light"
          }
        }
      ]
    },
    {
      "cell_type": "code",
      "source": [
        ""
      ],
      "metadata": {
        "id": "AGIOlG8EVoIr"
      },
      "execution_count": null,
      "outputs": []
    }
  ]
}