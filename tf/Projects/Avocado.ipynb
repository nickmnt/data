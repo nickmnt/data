{
  "cells": [
    {
      "cell_type": "markdown",
      "metadata": {
        "id": "view-in-github",
        "colab_type": "text"
      },
      "source": [
        "<a href=\"https://colab.research.google.com/github/nimamt/machine_learning/blob/master/tf/Projects/Avocado.ipynb\" target=\"_parent\"><img src=\"https://colab.research.google.com/assets/colab-badge.svg\" alt=\"Open In Colab\"/></a>"
      ]
    },
    {
      "cell_type": "code",
      "execution_count": 40,
      "metadata": {
        "id": "lHjotOWT17wz"
      },
      "outputs": [],
      "source": [
        "import numpy as np\n",
        "import pandas as pd\n",
        "import matplotlib.pyplot as plt\n",
        "import seaborn as sns\n",
        "\n",
        "%matplotlib inline"
      ]
    },
    {
      "cell_type": "code",
      "execution_count": 41,
      "metadata": {
        "colab": {
          "base_uri": "https://localhost:8080/"
        },
        "id": "u57RRP752Baa",
        "outputId": "fede3db3-3f5b-4120-b97b-0bb353659abc"
      },
      "outputs": [
        {
          "output_type": "stream",
          "name": "stdout",
          "text": [
            "Requirement already satisfied: kaggle in /usr/local/lib/python3.7/dist-packages (1.5.12)\n",
            "Requirement already satisfied: six>=1.10 in /usr/local/lib/python3.7/dist-packages (from kaggle) (1.15.0)\n",
            "Requirement already satisfied: tqdm in /usr/local/lib/python3.7/dist-packages (from kaggle) (4.64.0)\n",
            "Requirement already satisfied: urllib3 in /usr/local/lib/python3.7/dist-packages (from kaggle) (1.24.3)\n",
            "Requirement already satisfied: requests in /usr/local/lib/python3.7/dist-packages (from kaggle) (2.23.0)\n",
            "Requirement already satisfied: certifi in /usr/local/lib/python3.7/dist-packages (from kaggle) (2021.10.8)\n",
            "Requirement already satisfied: python-dateutil in /usr/local/lib/python3.7/dist-packages (from kaggle) (2.8.2)\n",
            "Requirement already satisfied: python-slugify in /usr/local/lib/python3.7/dist-packages (from kaggle) (6.1.2)\n",
            "Requirement already satisfied: text-unidecode>=1.3 in /usr/local/lib/python3.7/dist-packages (from python-slugify->kaggle) (1.3)\n",
            "Requirement already satisfied: idna<3,>=2.5 in /usr/local/lib/python3.7/dist-packages (from requests->kaggle) (2.10)\n",
            "Requirement already satisfied: chardet<4,>=3.0.2 in /usr/local/lib/python3.7/dist-packages (from requests->kaggle) (3.0.4)\n",
            "mkdir: cannot create directory ‘/root/.kaggle’: File exists\n"
          ]
        }
      ],
      "source": [
        "! pip install kaggle\n",
        "! mkdir ~/.kaggle\n",
        "!cp /content/drive/MyDrive/kaggle.json ~/.kaggle/kaggle.json\n",
        "! chmod 600 ~/.kaggle/kaggle.json"
      ]
    },
    {
      "cell_type": "code",
      "execution_count": 42,
      "metadata": {
        "colab": {
          "base_uri": "https://localhost:8080/"
        },
        "id": "vs1ZzaeVokSY",
        "outputId": "e519be00-8122-4c22-e8d2-8d87f1a94cce"
      },
      "outputs": [
        {
          "output_type": "stream",
          "name": "stdout",
          "text": [
            "ref                                                                            title                                             size  lastUpdated          downloadCount  voteCount  usabilityRating  \n",
            "-----------------------------------------------------------------------------  -----------------------------------------------  -----  -------------------  -------------  ---------  ---------------  \n",
            "datasets/muratkokludataset/date-fruit-datasets                                 Date Fruit Datasets                              408KB  2022-04-03 09:25:39           4195        700  0.9375           \n",
            "datasets/muratkokludataset/acoustic-extinguisher-fire-dataset                  Acoustic Extinguisher Fire Dataset               621KB  2022-04-02 22:59:36            629        617  0.9375           \n",
            "datasets/muratkokludataset/pistachio-dataset                                   Pistachio Dataset                                  2MB  2022-04-03 08:38:21            392        538  0.9375           \n",
            "datasets/muratkokludataset/raisin-dataset                                      Raisin Dataset                                   112KB  2022-04-03 00:23:16            280        512  0.9375           \n",
            "datasets/mdmahmudulhasansuzan/students-adaptability-level-in-online-education  Students Adaptability Level in Online Education    6KB  2022-04-16 04:46:28           2519         66  1.0              \n",
            "datasets/muratkokludataset/pistachio-image-dataset                             Pistachio Image Dataset                           27MB  2022-03-28 18:01:27            227        567  0.9375           \n",
            "datasets/muratkokludataset/grapevine-leaves-image-dataset                      Grapevine Leaves Image Dataset                   109MB  2022-04-03 09:00:54             78        549  0.875            \n",
            "datasets/muratkokludataset/dry-bean-dataset                                    Dry Bean Dataset                                   5MB  2022-04-02 23:19:30            226        519  0.875            \n",
            "datasets/muratkokludataset/pumpkin-seeds-dataset                               Pumpkin Seeds Dataset                            393KB  2022-03-28 18:28:16            300        515  0.9375           \n",
            "datasets/muratkokludataset/durum-wheat-dataset                                 Durum Wheat Dataset                              983MB  2022-04-03 00:02:29             55        523  0.875            \n",
            "datasets/muratkokludataset/rice-msc-dataset                                    Rice MSC Dataset                                 102MB  2022-04-03 01:33:52            132        510  0.875            \n",
            "datasets/muratkokludataset/rice-dataset-commeo-and-osmancik                    Rice Dataset Commeo and Osmancik                 524KB  2022-04-03 00:40:03             68        503  0.875            \n",
            "datasets/muhmores/spotify-top-100-songs-of-20152019                            Spotify Top 100 Songs of 2010-2019               139KB  2022-04-09 06:35:36           3188         75  0.88235295       \n",
            "datasets/ramjasmaurya/aviation-accidents-history1919-april-2022                Air Disasters(1919- April 2022)                  667KB  2022-04-25 18:10:20            542         31  1.0              \n",
            "datasets/rinichristy/covid19-coronavirus-pandemic                              COVID-19 Coronavirus Pandemic                      9KB  2022-04-05 08:43:16           1889         41  1.0              \n",
            "datasets/aslanahmedov/walmart-sales-forecast                                   Walmart Sales Forecast                             3MB  2022-04-21 05:28:20           1243         38  1.0              \n",
            "datasets/brandonconrady/covid19-vaccine-articles                               COVID-19 Vaccine Articles                         54KB  2022-04-28 05:22:45            219         26  1.0              \n",
            "datasets/rupakroy/online-payments-fraud-detection-dataset                      Online Payments Fraud Detection Dataset          178MB  2022-04-17 15:34:44            970         24  0.9705882        \n",
            "datasets/samuelcortinhas/credit-card-approval-clean-data                       Credit Card Approvals (Clean Data)                19KB  2022-04-25 15:52:35           1048         30  1.0              \n",
            "datasets/alexandrparkhomenko/top-apps-in-google-play                           Top Apps in Google Play                            3KB  2022-04-29 05:16:34            440         27  1.0              \n"
          ]
        }
      ],
      "source": [
        "!kaggle datasets list"
      ]
    },
    {
      "cell_type": "code",
      "execution_count": 43,
      "metadata": {
        "colab": {
          "base_uri": "https://localhost:8080/"
        },
        "id": "ivV1DmMaotWv",
        "outputId": "0fe19ba1-c304-4162-8fb9-d0d2fe1c4821"
      },
      "outputs": [
        {
          "output_type": "stream",
          "name": "stdout",
          "text": [
            "avocado-prices.zip: Skipping, found more recently modified local copy (use --force to force download)\n"
          ]
        }
      ],
      "source": [
        "! kaggle datasets download neuromusic/avocado-prices"
      ]
    },
    {
      "cell_type": "code",
      "execution_count": 44,
      "metadata": {
        "id": "pxJzSd_Ko6pv",
        "colab": {
          "base_uri": "https://localhost:8080/"
        },
        "outputId": "6ad72aa3-3b33-4293-fd2c-5d2d0a6b7a02"
      },
      "outputs": [
        {
          "output_type": "stream",
          "name": "stdout",
          "text": [
            "unzip:  cannot find or open avocado-prices.zipn, avocado-prices.zipn.zip or avocado-prices.zipn.ZIP.\n"
          ]
        }
      ],
      "source": [
        "! unzip avocado-prices.zipn"
      ]
    },
    {
      "cell_type": "code",
      "source": [
        ""
      ],
      "metadata": {
        "id": "uPGDoZR_3VKm"
      },
      "execution_count": 44,
      "outputs": []
    },
    {
      "cell_type": "code",
      "execution_count": 45,
      "metadata": {
        "id": "wfC1kMuro9Ef"
      },
      "outputs": [],
      "source": [
        "df = pd.read_csv('/content/avocado.csv')"
      ]
    },
    {
      "cell_type": "code",
      "execution_count": 46,
      "metadata": {
        "id": "GDLnfooVpm1w",
        "colab": {
          "base_uri": "https://localhost:8080/",
          "height": 354
        },
        "outputId": "daaeaa15-92c9-4106-bae5-44be2750d691"
      },
      "outputs": [
        {
          "output_type": "execute_result",
          "data": {
            "text/plain": [
              "   Unnamed: 0        Date  AveragePrice  Total Volume     4046       4225  \\\n",
              "0           0  2015-12-27          1.33      64236.62  1036.74   54454.85   \n",
              "1           1  2015-12-20          1.35      54876.98   674.28   44638.81   \n",
              "2           2  2015-12-13          0.93     118220.22   794.70  109149.67   \n",
              "3           3  2015-12-06          1.08      78992.15  1132.00   71976.41   \n",
              "4           4  2015-11-29          1.28      51039.60   941.48   43838.39   \n",
              "\n",
              "     4770  Total Bags  Small Bags  Large Bags  XLarge Bags          type  \\\n",
              "0   48.16     8696.87     8603.62       93.25          0.0  conventional   \n",
              "1   58.33     9505.56     9408.07       97.49          0.0  conventional   \n",
              "2  130.50     8145.35     8042.21      103.14          0.0  conventional   \n",
              "3   72.58     5811.16     5677.40      133.76          0.0  conventional   \n",
              "4   75.78     6183.95     5986.26      197.69          0.0  conventional   \n",
              "\n",
              "   year  region  \n",
              "0  2015  Albany  \n",
              "1  2015  Albany  \n",
              "2  2015  Albany  \n",
              "3  2015  Albany  \n",
              "4  2015  Albany  "
            ],
            "text/html": [
              "\n",
              "  <div id=\"df-f7c96486-cef6-445c-a741-bc9262f71b57\">\n",
              "    <div class=\"colab-df-container\">\n",
              "      <div>\n",
              "<style scoped>\n",
              "    .dataframe tbody tr th:only-of-type {\n",
              "        vertical-align: middle;\n",
              "    }\n",
              "\n",
              "    .dataframe tbody tr th {\n",
              "        vertical-align: top;\n",
              "    }\n",
              "\n",
              "    .dataframe thead th {\n",
              "        text-align: right;\n",
              "    }\n",
              "</style>\n",
              "<table border=\"1\" class=\"dataframe\">\n",
              "  <thead>\n",
              "    <tr style=\"text-align: right;\">\n",
              "      <th></th>\n",
              "      <th>Unnamed: 0</th>\n",
              "      <th>Date</th>\n",
              "      <th>AveragePrice</th>\n",
              "      <th>Total Volume</th>\n",
              "      <th>4046</th>\n",
              "      <th>4225</th>\n",
              "      <th>4770</th>\n",
              "      <th>Total Bags</th>\n",
              "      <th>Small Bags</th>\n",
              "      <th>Large Bags</th>\n",
              "      <th>XLarge Bags</th>\n",
              "      <th>type</th>\n",
              "      <th>year</th>\n",
              "      <th>region</th>\n",
              "    </tr>\n",
              "  </thead>\n",
              "  <tbody>\n",
              "    <tr>\n",
              "      <th>0</th>\n",
              "      <td>0</td>\n",
              "      <td>2015-12-27</td>\n",
              "      <td>1.33</td>\n",
              "      <td>64236.62</td>\n",
              "      <td>1036.74</td>\n",
              "      <td>54454.85</td>\n",
              "      <td>48.16</td>\n",
              "      <td>8696.87</td>\n",
              "      <td>8603.62</td>\n",
              "      <td>93.25</td>\n",
              "      <td>0.0</td>\n",
              "      <td>conventional</td>\n",
              "      <td>2015</td>\n",
              "      <td>Albany</td>\n",
              "    </tr>\n",
              "    <tr>\n",
              "      <th>1</th>\n",
              "      <td>1</td>\n",
              "      <td>2015-12-20</td>\n",
              "      <td>1.35</td>\n",
              "      <td>54876.98</td>\n",
              "      <td>674.28</td>\n",
              "      <td>44638.81</td>\n",
              "      <td>58.33</td>\n",
              "      <td>9505.56</td>\n",
              "      <td>9408.07</td>\n",
              "      <td>97.49</td>\n",
              "      <td>0.0</td>\n",
              "      <td>conventional</td>\n",
              "      <td>2015</td>\n",
              "      <td>Albany</td>\n",
              "    </tr>\n",
              "    <tr>\n",
              "      <th>2</th>\n",
              "      <td>2</td>\n",
              "      <td>2015-12-13</td>\n",
              "      <td>0.93</td>\n",
              "      <td>118220.22</td>\n",
              "      <td>794.70</td>\n",
              "      <td>109149.67</td>\n",
              "      <td>130.50</td>\n",
              "      <td>8145.35</td>\n",
              "      <td>8042.21</td>\n",
              "      <td>103.14</td>\n",
              "      <td>0.0</td>\n",
              "      <td>conventional</td>\n",
              "      <td>2015</td>\n",
              "      <td>Albany</td>\n",
              "    </tr>\n",
              "    <tr>\n",
              "      <th>3</th>\n",
              "      <td>3</td>\n",
              "      <td>2015-12-06</td>\n",
              "      <td>1.08</td>\n",
              "      <td>78992.15</td>\n",
              "      <td>1132.00</td>\n",
              "      <td>71976.41</td>\n",
              "      <td>72.58</td>\n",
              "      <td>5811.16</td>\n",
              "      <td>5677.40</td>\n",
              "      <td>133.76</td>\n",
              "      <td>0.0</td>\n",
              "      <td>conventional</td>\n",
              "      <td>2015</td>\n",
              "      <td>Albany</td>\n",
              "    </tr>\n",
              "    <tr>\n",
              "      <th>4</th>\n",
              "      <td>4</td>\n",
              "      <td>2015-11-29</td>\n",
              "      <td>1.28</td>\n",
              "      <td>51039.60</td>\n",
              "      <td>941.48</td>\n",
              "      <td>43838.39</td>\n",
              "      <td>75.78</td>\n",
              "      <td>6183.95</td>\n",
              "      <td>5986.26</td>\n",
              "      <td>197.69</td>\n",
              "      <td>0.0</td>\n",
              "      <td>conventional</td>\n",
              "      <td>2015</td>\n",
              "      <td>Albany</td>\n",
              "    </tr>\n",
              "  </tbody>\n",
              "</table>\n",
              "</div>\n",
              "      <button class=\"colab-df-convert\" onclick=\"convertToInteractive('df-f7c96486-cef6-445c-a741-bc9262f71b57')\"\n",
              "              title=\"Convert this dataframe to an interactive table.\"\n",
              "              style=\"display:none;\">\n",
              "        \n",
              "  <svg xmlns=\"http://www.w3.org/2000/svg\" height=\"24px\"viewBox=\"0 0 24 24\"\n",
              "       width=\"24px\">\n",
              "    <path d=\"M0 0h24v24H0V0z\" fill=\"none\"/>\n",
              "    <path d=\"M18.56 5.44l.94 2.06.94-2.06 2.06-.94-2.06-.94-.94-2.06-.94 2.06-2.06.94zm-11 1L8.5 8.5l.94-2.06 2.06-.94-2.06-.94L8.5 2.5l-.94 2.06-2.06.94zm10 10l.94 2.06.94-2.06 2.06-.94-2.06-.94-.94-2.06-.94 2.06-2.06.94z\"/><path d=\"M17.41 7.96l-1.37-1.37c-.4-.4-.92-.59-1.43-.59-.52 0-1.04.2-1.43.59L10.3 9.45l-7.72 7.72c-.78.78-.78 2.05 0 2.83L4 21.41c.39.39.9.59 1.41.59.51 0 1.02-.2 1.41-.59l7.78-7.78 2.81-2.81c.8-.78.8-2.07 0-2.86zM5.41 20L4 18.59l7.72-7.72 1.47 1.35L5.41 20z\"/>\n",
              "  </svg>\n",
              "      </button>\n",
              "      \n",
              "  <style>\n",
              "    .colab-df-container {\n",
              "      display:flex;\n",
              "      flex-wrap:wrap;\n",
              "      gap: 12px;\n",
              "    }\n",
              "\n",
              "    .colab-df-convert {\n",
              "      background-color: #E8F0FE;\n",
              "      border: none;\n",
              "      border-radius: 50%;\n",
              "      cursor: pointer;\n",
              "      display: none;\n",
              "      fill: #1967D2;\n",
              "      height: 32px;\n",
              "      padding: 0 0 0 0;\n",
              "      width: 32px;\n",
              "    }\n",
              "\n",
              "    .colab-df-convert:hover {\n",
              "      background-color: #E2EBFA;\n",
              "      box-shadow: 0px 1px 2px rgba(60, 64, 67, 0.3), 0px 1px 3px 1px rgba(60, 64, 67, 0.15);\n",
              "      fill: #174EA6;\n",
              "    }\n",
              "\n",
              "    [theme=dark] .colab-df-convert {\n",
              "      background-color: #3B4455;\n",
              "      fill: #D2E3FC;\n",
              "    }\n",
              "\n",
              "    [theme=dark] .colab-df-convert:hover {\n",
              "      background-color: #434B5C;\n",
              "      box-shadow: 0px 1px 3px 1px rgba(0, 0, 0, 0.15);\n",
              "      filter: drop-shadow(0px 1px 2px rgba(0, 0, 0, 0.3));\n",
              "      fill: #FFFFFF;\n",
              "    }\n",
              "  </style>\n",
              "\n",
              "      <script>\n",
              "        const buttonEl =\n",
              "          document.querySelector('#df-f7c96486-cef6-445c-a741-bc9262f71b57 button.colab-df-convert');\n",
              "        buttonEl.style.display =\n",
              "          google.colab.kernel.accessAllowed ? 'block' : 'none';\n",
              "\n",
              "        async function convertToInteractive(key) {\n",
              "          const element = document.querySelector('#df-f7c96486-cef6-445c-a741-bc9262f71b57');\n",
              "          const dataTable =\n",
              "            await google.colab.kernel.invokeFunction('convertToInteractive',\n",
              "                                                     [key], {});\n",
              "          if (!dataTable) return;\n",
              "\n",
              "          const docLinkHtml = 'Like what you see? Visit the ' +\n",
              "            '<a target=\"_blank\" href=https://colab.research.google.com/notebooks/data_table.ipynb>data table notebook</a>'\n",
              "            + ' to learn more about interactive tables.';\n",
              "          element.innerHTML = '';\n",
              "          dataTable['output_type'] = 'display_data';\n",
              "          await google.colab.output.renderOutput(dataTable, element);\n",
              "          const docLink = document.createElement('div');\n",
              "          docLink.innerHTML = docLinkHtml;\n",
              "          element.appendChild(docLink);\n",
              "        }\n",
              "      </script>\n",
              "    </div>\n",
              "  </div>\n",
              "  "
            ]
          },
          "metadata": {},
          "execution_count": 46
        }
      ],
      "source": [
        "df.head()"
      ]
    },
    {
      "cell_type": "code",
      "execution_count": 47,
      "metadata": {
        "id": "iR-aofDEp1Fv"
      },
      "outputs": [],
      "source": [
        "df = df.drop('Unnamed: 0', axis=1)"
      ]
    },
    {
      "cell_type": "code",
      "execution_count": 48,
      "metadata": {
        "id": "Zgl0D4usp_jv",
        "colab": {
          "base_uri": "https://localhost:8080/",
          "height": 206
        },
        "outputId": "6f41985e-175e-497a-fb7d-77ded8f3b280"
      },
      "outputs": [
        {
          "output_type": "execute_result",
          "data": {
            "text/plain": [
              "         Date  AveragePrice  Total Volume     4046       4225    4770  \\\n",
              "0  2015-12-27          1.33      64236.62  1036.74   54454.85   48.16   \n",
              "1  2015-12-20          1.35      54876.98   674.28   44638.81   58.33   \n",
              "2  2015-12-13          0.93     118220.22   794.70  109149.67  130.50   \n",
              "3  2015-12-06          1.08      78992.15  1132.00   71976.41   72.58   \n",
              "4  2015-11-29          1.28      51039.60   941.48   43838.39   75.78   \n",
              "\n",
              "   Total Bags  Small Bags  Large Bags  XLarge Bags          type  year  region  \n",
              "0     8696.87     8603.62       93.25          0.0  conventional  2015  Albany  \n",
              "1     9505.56     9408.07       97.49          0.0  conventional  2015  Albany  \n",
              "2     8145.35     8042.21      103.14          0.0  conventional  2015  Albany  \n",
              "3     5811.16     5677.40      133.76          0.0  conventional  2015  Albany  \n",
              "4     6183.95     5986.26      197.69          0.0  conventional  2015  Albany  "
            ],
            "text/html": [
              "\n",
              "  <div id=\"df-2903b8d2-9b5f-49b7-911f-7549781ffc8c\">\n",
              "    <div class=\"colab-df-container\">\n",
              "      <div>\n",
              "<style scoped>\n",
              "    .dataframe tbody tr th:only-of-type {\n",
              "        vertical-align: middle;\n",
              "    }\n",
              "\n",
              "    .dataframe tbody tr th {\n",
              "        vertical-align: top;\n",
              "    }\n",
              "\n",
              "    .dataframe thead th {\n",
              "        text-align: right;\n",
              "    }\n",
              "</style>\n",
              "<table border=\"1\" class=\"dataframe\">\n",
              "  <thead>\n",
              "    <tr style=\"text-align: right;\">\n",
              "      <th></th>\n",
              "      <th>Date</th>\n",
              "      <th>AveragePrice</th>\n",
              "      <th>Total Volume</th>\n",
              "      <th>4046</th>\n",
              "      <th>4225</th>\n",
              "      <th>4770</th>\n",
              "      <th>Total Bags</th>\n",
              "      <th>Small Bags</th>\n",
              "      <th>Large Bags</th>\n",
              "      <th>XLarge Bags</th>\n",
              "      <th>type</th>\n",
              "      <th>year</th>\n",
              "      <th>region</th>\n",
              "    </tr>\n",
              "  </thead>\n",
              "  <tbody>\n",
              "    <tr>\n",
              "      <th>0</th>\n",
              "      <td>2015-12-27</td>\n",
              "      <td>1.33</td>\n",
              "      <td>64236.62</td>\n",
              "      <td>1036.74</td>\n",
              "      <td>54454.85</td>\n",
              "      <td>48.16</td>\n",
              "      <td>8696.87</td>\n",
              "      <td>8603.62</td>\n",
              "      <td>93.25</td>\n",
              "      <td>0.0</td>\n",
              "      <td>conventional</td>\n",
              "      <td>2015</td>\n",
              "      <td>Albany</td>\n",
              "    </tr>\n",
              "    <tr>\n",
              "      <th>1</th>\n",
              "      <td>2015-12-20</td>\n",
              "      <td>1.35</td>\n",
              "      <td>54876.98</td>\n",
              "      <td>674.28</td>\n",
              "      <td>44638.81</td>\n",
              "      <td>58.33</td>\n",
              "      <td>9505.56</td>\n",
              "      <td>9408.07</td>\n",
              "      <td>97.49</td>\n",
              "      <td>0.0</td>\n",
              "      <td>conventional</td>\n",
              "      <td>2015</td>\n",
              "      <td>Albany</td>\n",
              "    </tr>\n",
              "    <tr>\n",
              "      <th>2</th>\n",
              "      <td>2015-12-13</td>\n",
              "      <td>0.93</td>\n",
              "      <td>118220.22</td>\n",
              "      <td>794.70</td>\n",
              "      <td>109149.67</td>\n",
              "      <td>130.50</td>\n",
              "      <td>8145.35</td>\n",
              "      <td>8042.21</td>\n",
              "      <td>103.14</td>\n",
              "      <td>0.0</td>\n",
              "      <td>conventional</td>\n",
              "      <td>2015</td>\n",
              "      <td>Albany</td>\n",
              "    </tr>\n",
              "    <tr>\n",
              "      <th>3</th>\n",
              "      <td>2015-12-06</td>\n",
              "      <td>1.08</td>\n",
              "      <td>78992.15</td>\n",
              "      <td>1132.00</td>\n",
              "      <td>71976.41</td>\n",
              "      <td>72.58</td>\n",
              "      <td>5811.16</td>\n",
              "      <td>5677.40</td>\n",
              "      <td>133.76</td>\n",
              "      <td>0.0</td>\n",
              "      <td>conventional</td>\n",
              "      <td>2015</td>\n",
              "      <td>Albany</td>\n",
              "    </tr>\n",
              "    <tr>\n",
              "      <th>4</th>\n",
              "      <td>2015-11-29</td>\n",
              "      <td>1.28</td>\n",
              "      <td>51039.60</td>\n",
              "      <td>941.48</td>\n",
              "      <td>43838.39</td>\n",
              "      <td>75.78</td>\n",
              "      <td>6183.95</td>\n",
              "      <td>5986.26</td>\n",
              "      <td>197.69</td>\n",
              "      <td>0.0</td>\n",
              "      <td>conventional</td>\n",
              "      <td>2015</td>\n",
              "      <td>Albany</td>\n",
              "    </tr>\n",
              "  </tbody>\n",
              "</table>\n",
              "</div>\n",
              "      <button class=\"colab-df-convert\" onclick=\"convertToInteractive('df-2903b8d2-9b5f-49b7-911f-7549781ffc8c')\"\n",
              "              title=\"Convert this dataframe to an interactive table.\"\n",
              "              style=\"display:none;\">\n",
              "        \n",
              "  <svg xmlns=\"http://www.w3.org/2000/svg\" height=\"24px\"viewBox=\"0 0 24 24\"\n",
              "       width=\"24px\">\n",
              "    <path d=\"M0 0h24v24H0V0z\" fill=\"none\"/>\n",
              "    <path d=\"M18.56 5.44l.94 2.06.94-2.06 2.06-.94-2.06-.94-.94-2.06-.94 2.06-2.06.94zm-11 1L8.5 8.5l.94-2.06 2.06-.94-2.06-.94L8.5 2.5l-.94 2.06-2.06.94zm10 10l.94 2.06.94-2.06 2.06-.94-2.06-.94-.94-2.06-.94 2.06-2.06.94z\"/><path d=\"M17.41 7.96l-1.37-1.37c-.4-.4-.92-.59-1.43-.59-.52 0-1.04.2-1.43.59L10.3 9.45l-7.72 7.72c-.78.78-.78 2.05 0 2.83L4 21.41c.39.39.9.59 1.41.59.51 0 1.02-.2 1.41-.59l7.78-7.78 2.81-2.81c.8-.78.8-2.07 0-2.86zM5.41 20L4 18.59l7.72-7.72 1.47 1.35L5.41 20z\"/>\n",
              "  </svg>\n",
              "      </button>\n",
              "      \n",
              "  <style>\n",
              "    .colab-df-container {\n",
              "      display:flex;\n",
              "      flex-wrap:wrap;\n",
              "      gap: 12px;\n",
              "    }\n",
              "\n",
              "    .colab-df-convert {\n",
              "      background-color: #E8F0FE;\n",
              "      border: none;\n",
              "      border-radius: 50%;\n",
              "      cursor: pointer;\n",
              "      display: none;\n",
              "      fill: #1967D2;\n",
              "      height: 32px;\n",
              "      padding: 0 0 0 0;\n",
              "      width: 32px;\n",
              "    }\n",
              "\n",
              "    .colab-df-convert:hover {\n",
              "      background-color: #E2EBFA;\n",
              "      box-shadow: 0px 1px 2px rgba(60, 64, 67, 0.3), 0px 1px 3px 1px rgba(60, 64, 67, 0.15);\n",
              "      fill: #174EA6;\n",
              "    }\n",
              "\n",
              "    [theme=dark] .colab-df-convert {\n",
              "      background-color: #3B4455;\n",
              "      fill: #D2E3FC;\n",
              "    }\n",
              "\n",
              "    [theme=dark] .colab-df-convert:hover {\n",
              "      background-color: #434B5C;\n",
              "      box-shadow: 0px 1px 3px 1px rgba(0, 0, 0, 0.15);\n",
              "      filter: drop-shadow(0px 1px 2px rgba(0, 0, 0, 0.3));\n",
              "      fill: #FFFFFF;\n",
              "    }\n",
              "  </style>\n",
              "\n",
              "      <script>\n",
              "        const buttonEl =\n",
              "          document.querySelector('#df-2903b8d2-9b5f-49b7-911f-7549781ffc8c button.colab-df-convert');\n",
              "        buttonEl.style.display =\n",
              "          google.colab.kernel.accessAllowed ? 'block' : 'none';\n",
              "\n",
              "        async function convertToInteractive(key) {\n",
              "          const element = document.querySelector('#df-2903b8d2-9b5f-49b7-911f-7549781ffc8c');\n",
              "          const dataTable =\n",
              "            await google.colab.kernel.invokeFunction('convertToInteractive',\n",
              "                                                     [key], {});\n",
              "          if (!dataTable) return;\n",
              "\n",
              "          const docLinkHtml = 'Like what you see? Visit the ' +\n",
              "            '<a target=\"_blank\" href=https://colab.research.google.com/notebooks/data_table.ipynb>data table notebook</a>'\n",
              "            + ' to learn more about interactive tables.';\n",
              "          element.innerHTML = '';\n",
              "          dataTable['output_type'] = 'display_data';\n",
              "          await google.colab.output.renderOutput(dataTable, element);\n",
              "          const docLink = document.createElement('div');\n",
              "          docLink.innerHTML = docLinkHtml;\n",
              "          element.appendChild(docLink);\n",
              "        }\n",
              "      </script>\n",
              "    </div>\n",
              "  </div>\n",
              "  "
            ]
          },
          "metadata": {},
          "execution_count": 48
        }
      ],
      "source": [
        "df.head()"
      ]
    },
    {
      "cell_type": "code",
      "execution_count": 49,
      "metadata": {
        "id": "plq0nzd8qExP",
        "colab": {
          "base_uri": "https://localhost:8080/"
        },
        "outputId": "6df61f98-94f1-4f8d-8e5c-fe9a1348c29f"
      },
      "outputs": [
        {
          "output_type": "execute_result",
          "data": {
            "text/plain": [
              "Date            0\n",
              "AveragePrice    0\n",
              "Total Volume    0\n",
              "4046            0\n",
              "4225            0\n",
              "4770            0\n",
              "Total Bags      0\n",
              "Small Bags      0\n",
              "Large Bags      0\n",
              "XLarge Bags     0\n",
              "type            0\n",
              "year            0\n",
              "region          0\n",
              "dtype: int64"
            ]
          },
          "metadata": {},
          "execution_count": 49
        }
      ],
      "source": [
        "df.isnull().sum()"
      ]
    },
    {
      "cell_type": "code",
      "execution_count": 50,
      "metadata": {
        "id": "lAn_HtKCqX9f",
        "colab": {
          "base_uri": "https://localhost:8080/"
        },
        "outputId": "6e73ddfb-aafd-41d5-b6f6-c9b57d0812b0"
      },
      "outputs": [
        {
          "output_type": "execute_result",
          "data": {
            "text/plain": [
              "54"
            ]
          },
          "metadata": {},
          "execution_count": 50
        }
      ],
      "source": [
        "len(df['region'].unique())"
      ]
    },
    {
      "cell_type": "code",
      "source": [
        "# df = df.drop(['region','type'],axis=1)"
      ],
      "metadata": {
        "id": "k8W_Hh-48AUJ"
      },
      "execution_count": 51,
      "outputs": []
    },
    {
      "cell_type": "code",
      "execution_count": 52,
      "metadata": {
        "id": "vZKesutCv2GY"
      },
      "outputs": [],
      "source": [
        "dummies = pd.get_dummies(df['region'], drop_first=True)\n",
        "\n",
        "df = pd.concat([df.drop('region', axis=1), dummies], axis=1)"
      ]
    },
    {
      "cell_type": "code",
      "execution_count": 53,
      "metadata": {
        "id": "hSlNFF5uxGqf"
      },
      "outputs": [],
      "source": [
        "dummies = pd.get_dummies(df['type'], drop_first=True)\n",
        "\n",
        "df = pd.concat([df.drop('type', axis=1), dummies], axis=1)"
      ]
    },
    {
      "cell_type": "code",
      "execution_count": 54,
      "metadata": {
        "id": "eEwtz63fxIjg",
        "colab": {
          "base_uri": "https://localhost:8080/",
          "height": 404
        },
        "outputId": "10e0279f-2d99-4751-a7d1-885b6556d19b"
      },
      "outputs": [
        {
          "output_type": "execute_result",
          "data": {
            "text/plain": [
              "         Date  AveragePrice  Total Volume     4046       4225    4770  \\\n",
              "0  2015-12-27          1.33      64236.62  1036.74   54454.85   48.16   \n",
              "1  2015-12-20          1.35      54876.98   674.28   44638.81   58.33   \n",
              "2  2015-12-13          0.93     118220.22   794.70  109149.67  130.50   \n",
              "3  2015-12-06          1.08      78992.15  1132.00   71976.41   72.58   \n",
              "4  2015-11-29          1.28      51039.60   941.48   43838.39   75.78   \n",
              "\n",
              "   Total Bags  Small Bags  Large Bags  XLarge Bags  ...  SouthCentral  \\\n",
              "0     8696.87     8603.62       93.25          0.0  ...             0   \n",
              "1     9505.56     9408.07       97.49          0.0  ...             0   \n",
              "2     8145.35     8042.21      103.14          0.0  ...             0   \n",
              "3     5811.16     5677.40      133.76          0.0  ...             0   \n",
              "4     6183.95     5986.26      197.69          0.0  ...             0   \n",
              "\n",
              "   Southeast  Spokane  StLouis  Syracuse  Tampa  TotalUS  West  \\\n",
              "0          0        0        0         0      0        0     0   \n",
              "1          0        0        0         0      0        0     0   \n",
              "2          0        0        0         0      0        0     0   \n",
              "3          0        0        0         0      0        0     0   \n",
              "4          0        0        0         0      0        0     0   \n",
              "\n",
              "   WestTexNewMexico  organic  \n",
              "0                 0        0  \n",
              "1                 0        0  \n",
              "2                 0        0  \n",
              "3                 0        0  \n",
              "4                 0        0  \n",
              "\n",
              "[5 rows x 65 columns]"
            ],
            "text/html": [
              "\n",
              "  <div id=\"df-7c8f9596-158f-4c60-aa2c-c2fdb31a39d0\">\n",
              "    <div class=\"colab-df-container\">\n",
              "      <div>\n",
              "<style scoped>\n",
              "    .dataframe tbody tr th:only-of-type {\n",
              "        vertical-align: middle;\n",
              "    }\n",
              "\n",
              "    .dataframe tbody tr th {\n",
              "        vertical-align: top;\n",
              "    }\n",
              "\n",
              "    .dataframe thead th {\n",
              "        text-align: right;\n",
              "    }\n",
              "</style>\n",
              "<table border=\"1\" class=\"dataframe\">\n",
              "  <thead>\n",
              "    <tr style=\"text-align: right;\">\n",
              "      <th></th>\n",
              "      <th>Date</th>\n",
              "      <th>AveragePrice</th>\n",
              "      <th>Total Volume</th>\n",
              "      <th>4046</th>\n",
              "      <th>4225</th>\n",
              "      <th>4770</th>\n",
              "      <th>Total Bags</th>\n",
              "      <th>Small Bags</th>\n",
              "      <th>Large Bags</th>\n",
              "      <th>XLarge Bags</th>\n",
              "      <th>...</th>\n",
              "      <th>SouthCentral</th>\n",
              "      <th>Southeast</th>\n",
              "      <th>Spokane</th>\n",
              "      <th>StLouis</th>\n",
              "      <th>Syracuse</th>\n",
              "      <th>Tampa</th>\n",
              "      <th>TotalUS</th>\n",
              "      <th>West</th>\n",
              "      <th>WestTexNewMexico</th>\n",
              "      <th>organic</th>\n",
              "    </tr>\n",
              "  </thead>\n",
              "  <tbody>\n",
              "    <tr>\n",
              "      <th>0</th>\n",
              "      <td>2015-12-27</td>\n",
              "      <td>1.33</td>\n",
              "      <td>64236.62</td>\n",
              "      <td>1036.74</td>\n",
              "      <td>54454.85</td>\n",
              "      <td>48.16</td>\n",
              "      <td>8696.87</td>\n",
              "      <td>8603.62</td>\n",
              "      <td>93.25</td>\n",
              "      <td>0.0</td>\n",
              "      <td>...</td>\n",
              "      <td>0</td>\n",
              "      <td>0</td>\n",
              "      <td>0</td>\n",
              "      <td>0</td>\n",
              "      <td>0</td>\n",
              "      <td>0</td>\n",
              "      <td>0</td>\n",
              "      <td>0</td>\n",
              "      <td>0</td>\n",
              "      <td>0</td>\n",
              "    </tr>\n",
              "    <tr>\n",
              "      <th>1</th>\n",
              "      <td>2015-12-20</td>\n",
              "      <td>1.35</td>\n",
              "      <td>54876.98</td>\n",
              "      <td>674.28</td>\n",
              "      <td>44638.81</td>\n",
              "      <td>58.33</td>\n",
              "      <td>9505.56</td>\n",
              "      <td>9408.07</td>\n",
              "      <td>97.49</td>\n",
              "      <td>0.0</td>\n",
              "      <td>...</td>\n",
              "      <td>0</td>\n",
              "      <td>0</td>\n",
              "      <td>0</td>\n",
              "      <td>0</td>\n",
              "      <td>0</td>\n",
              "      <td>0</td>\n",
              "      <td>0</td>\n",
              "      <td>0</td>\n",
              "      <td>0</td>\n",
              "      <td>0</td>\n",
              "    </tr>\n",
              "    <tr>\n",
              "      <th>2</th>\n",
              "      <td>2015-12-13</td>\n",
              "      <td>0.93</td>\n",
              "      <td>118220.22</td>\n",
              "      <td>794.70</td>\n",
              "      <td>109149.67</td>\n",
              "      <td>130.50</td>\n",
              "      <td>8145.35</td>\n",
              "      <td>8042.21</td>\n",
              "      <td>103.14</td>\n",
              "      <td>0.0</td>\n",
              "      <td>...</td>\n",
              "      <td>0</td>\n",
              "      <td>0</td>\n",
              "      <td>0</td>\n",
              "      <td>0</td>\n",
              "      <td>0</td>\n",
              "      <td>0</td>\n",
              "      <td>0</td>\n",
              "      <td>0</td>\n",
              "      <td>0</td>\n",
              "      <td>0</td>\n",
              "    </tr>\n",
              "    <tr>\n",
              "      <th>3</th>\n",
              "      <td>2015-12-06</td>\n",
              "      <td>1.08</td>\n",
              "      <td>78992.15</td>\n",
              "      <td>1132.00</td>\n",
              "      <td>71976.41</td>\n",
              "      <td>72.58</td>\n",
              "      <td>5811.16</td>\n",
              "      <td>5677.40</td>\n",
              "      <td>133.76</td>\n",
              "      <td>0.0</td>\n",
              "      <td>...</td>\n",
              "      <td>0</td>\n",
              "      <td>0</td>\n",
              "      <td>0</td>\n",
              "      <td>0</td>\n",
              "      <td>0</td>\n",
              "      <td>0</td>\n",
              "      <td>0</td>\n",
              "      <td>0</td>\n",
              "      <td>0</td>\n",
              "      <td>0</td>\n",
              "    </tr>\n",
              "    <tr>\n",
              "      <th>4</th>\n",
              "      <td>2015-11-29</td>\n",
              "      <td>1.28</td>\n",
              "      <td>51039.60</td>\n",
              "      <td>941.48</td>\n",
              "      <td>43838.39</td>\n",
              "      <td>75.78</td>\n",
              "      <td>6183.95</td>\n",
              "      <td>5986.26</td>\n",
              "      <td>197.69</td>\n",
              "      <td>0.0</td>\n",
              "      <td>...</td>\n",
              "      <td>0</td>\n",
              "      <td>0</td>\n",
              "      <td>0</td>\n",
              "      <td>0</td>\n",
              "      <td>0</td>\n",
              "      <td>0</td>\n",
              "      <td>0</td>\n",
              "      <td>0</td>\n",
              "      <td>0</td>\n",
              "      <td>0</td>\n",
              "    </tr>\n",
              "  </tbody>\n",
              "</table>\n",
              "<p>5 rows × 65 columns</p>\n",
              "</div>\n",
              "      <button class=\"colab-df-convert\" onclick=\"convertToInteractive('df-7c8f9596-158f-4c60-aa2c-c2fdb31a39d0')\"\n",
              "              title=\"Convert this dataframe to an interactive table.\"\n",
              "              style=\"display:none;\">\n",
              "        \n",
              "  <svg xmlns=\"http://www.w3.org/2000/svg\" height=\"24px\"viewBox=\"0 0 24 24\"\n",
              "       width=\"24px\">\n",
              "    <path d=\"M0 0h24v24H0V0z\" fill=\"none\"/>\n",
              "    <path d=\"M18.56 5.44l.94 2.06.94-2.06 2.06-.94-2.06-.94-.94-2.06-.94 2.06-2.06.94zm-11 1L8.5 8.5l.94-2.06 2.06-.94-2.06-.94L8.5 2.5l-.94 2.06-2.06.94zm10 10l.94 2.06.94-2.06 2.06-.94-2.06-.94-.94-2.06-.94 2.06-2.06.94z\"/><path d=\"M17.41 7.96l-1.37-1.37c-.4-.4-.92-.59-1.43-.59-.52 0-1.04.2-1.43.59L10.3 9.45l-7.72 7.72c-.78.78-.78 2.05 0 2.83L4 21.41c.39.39.9.59 1.41.59.51 0 1.02-.2 1.41-.59l7.78-7.78 2.81-2.81c.8-.78.8-2.07 0-2.86zM5.41 20L4 18.59l7.72-7.72 1.47 1.35L5.41 20z\"/>\n",
              "  </svg>\n",
              "      </button>\n",
              "      \n",
              "  <style>\n",
              "    .colab-df-container {\n",
              "      display:flex;\n",
              "      flex-wrap:wrap;\n",
              "      gap: 12px;\n",
              "    }\n",
              "\n",
              "    .colab-df-convert {\n",
              "      background-color: #E8F0FE;\n",
              "      border: none;\n",
              "      border-radius: 50%;\n",
              "      cursor: pointer;\n",
              "      display: none;\n",
              "      fill: #1967D2;\n",
              "      height: 32px;\n",
              "      padding: 0 0 0 0;\n",
              "      width: 32px;\n",
              "    }\n",
              "\n",
              "    .colab-df-convert:hover {\n",
              "      background-color: #E2EBFA;\n",
              "      box-shadow: 0px 1px 2px rgba(60, 64, 67, 0.3), 0px 1px 3px 1px rgba(60, 64, 67, 0.15);\n",
              "      fill: #174EA6;\n",
              "    }\n",
              "\n",
              "    [theme=dark] .colab-df-convert {\n",
              "      background-color: #3B4455;\n",
              "      fill: #D2E3FC;\n",
              "    }\n",
              "\n",
              "    [theme=dark] .colab-df-convert:hover {\n",
              "      background-color: #434B5C;\n",
              "      box-shadow: 0px 1px 3px 1px rgba(0, 0, 0, 0.15);\n",
              "      filter: drop-shadow(0px 1px 2px rgba(0, 0, 0, 0.3));\n",
              "      fill: #FFFFFF;\n",
              "    }\n",
              "  </style>\n",
              "\n",
              "      <script>\n",
              "        const buttonEl =\n",
              "          document.querySelector('#df-7c8f9596-158f-4c60-aa2c-c2fdb31a39d0 button.colab-df-convert');\n",
              "        buttonEl.style.display =\n",
              "          google.colab.kernel.accessAllowed ? 'block' : 'none';\n",
              "\n",
              "        async function convertToInteractive(key) {\n",
              "          const element = document.querySelector('#df-7c8f9596-158f-4c60-aa2c-c2fdb31a39d0');\n",
              "          const dataTable =\n",
              "            await google.colab.kernel.invokeFunction('convertToInteractive',\n",
              "                                                     [key], {});\n",
              "          if (!dataTable) return;\n",
              "\n",
              "          const docLinkHtml = 'Like what you see? Visit the ' +\n",
              "            '<a target=\"_blank\" href=https://colab.research.google.com/notebooks/data_table.ipynb>data table notebook</a>'\n",
              "            + ' to learn more about interactive tables.';\n",
              "          element.innerHTML = '';\n",
              "          dataTable['output_type'] = 'display_data';\n",
              "          await google.colab.output.renderOutput(dataTable, element);\n",
              "          const docLink = document.createElement('div');\n",
              "          docLink.innerHTML = docLinkHtml;\n",
              "          element.appendChild(docLink);\n",
              "        }\n",
              "      </script>\n",
              "    </div>\n",
              "  </div>\n",
              "  "
            ]
          },
          "metadata": {},
          "execution_count": 54
        }
      ],
      "source": [
        "df.head()"
      ]
    },
    {
      "cell_type": "code",
      "execution_count": 55,
      "metadata": {
        "id": "FUBBe0chxKNw"
      },
      "outputs": [],
      "source": [
        "df['month'] = df['Date'].apply(lambda date: int(date.split('-')[1]))\n",
        "df['day'] = df['Date'].apply(lambda date: int(date.split('-')[2]))"
      ]
    },
    {
      "cell_type": "code",
      "execution_count": 56,
      "metadata": {
        "id": "SSx2SqdhxhJJ"
      },
      "outputs": [],
      "source": [
        "df = df.drop(['Date'], axis=1)"
      ]
    },
    {
      "cell_type": "code",
      "execution_count": 57,
      "metadata": {
        "id": "0jTpd2Btx63R"
      },
      "outputs": [],
      "source": [
        "from sklearn.model_selection import train_test_split"
      ]
    },
    {
      "cell_type": "code",
      "execution_count": 58,
      "metadata": {
        "id": "uI2WvErZyXbR"
      },
      "outputs": [],
      "source": [
        "X = df.drop('AveragePrice', axis=1).values"
      ]
    },
    {
      "cell_type": "code",
      "execution_count": 59,
      "metadata": {
        "id": "cb0ZmqlNyktf"
      },
      "outputs": [],
      "source": [
        "y = df['AveragePrice'].values"
      ]
    },
    {
      "cell_type": "code",
      "execution_count": 60,
      "metadata": {
        "id": "wU0yDWlLyn4I"
      },
      "outputs": [],
      "source": [
        "X_train, X_test, y_train, y_test = train_test_split(X, y, test_size=0.3,\n",
        "                                                    random_state=101)"
      ]
    },
    {
      "cell_type": "code",
      "execution_count": 61,
      "metadata": {
        "id": "eXeM0CxvysfR"
      },
      "outputs": [],
      "source": [
        "from sklearn.preprocessing import MinMaxScaler"
      ]
    },
    {
      "cell_type": "code",
      "execution_count": 62,
      "metadata": {
        "id": "BnHWDtAJyuTR"
      },
      "outputs": [],
      "source": [
        "scaler = MinMaxScaler()"
      ]
    },
    {
      "cell_type": "code",
      "execution_count": 63,
      "metadata": {
        "id": "BTEI13j4yvOg"
      },
      "outputs": [],
      "source": [
        "X_train = scaler.fit_transform(X_train)"
      ]
    },
    {
      "cell_type": "code",
      "execution_count": 64,
      "metadata": {
        "id": "h4tFhtgvEDgu"
      },
      "outputs": [],
      "source": [
        "X_test = scaler.transform(X_test)"
      ]
    },
    {
      "cell_type": "code",
      "execution_count": 65,
      "metadata": {
        "id": "5mxOL94Zyx4p"
      },
      "outputs": [],
      "source": [
        "import tensorflow as tf\n",
        "from tensorflow import keras\n",
        "from tensorflow.keras.models import Sequential\n",
        "from tensorflow.keras.layers import Dense,Dropout"
      ]
    },
    {
      "cell_type": "code",
      "execution_count": 66,
      "metadata": {
        "id": "yTcekHHDy3EA",
        "colab": {
          "base_uri": "https://localhost:8080/"
        },
        "outputId": "7e98308b-0443-41d1-8d28-1902c18a54a6"
      },
      "outputs": [
        {
          "output_type": "execute_result",
          "data": {
            "text/plain": [
              "(65,)"
            ]
          },
          "metadata": {},
          "execution_count": 66
        }
      ],
      "source": [
        "X_train.shape[1:]"
      ]
    },
    {
      "cell_type": "code",
      "execution_count": 67,
      "metadata": {
        "id": "UEiAUszyy-Wg"
      },
      "outputs": [],
      "source": [
        "model = Sequential()\n",
        "\n",
        "model.add(Dense(8, activation='relu'))\n",
        "# model.add(Dropout(0.2))\n",
        "\n",
        "model.add(Dense(7, activation='relu'))\n",
        "# model.add(Dropout(0.2))\n",
        "\n",
        "model.add(Dense(7, activation='relu'))\n",
        "# model.add(Dropout(0.2))\n",
        "\n",
        "model.add(Dense(1, activation='linear'))\n",
        "\n",
        "model.compile(loss='mse', optimizer='adam', metrics=['mse', 'mae'])"
      ]
    },
    {
      "cell_type": "code",
      "execution_count": 68,
      "metadata": {
        "id": "EZhJvqO10ZvW"
      },
      "outputs": [],
      "source": [
        "from tensorflow.keras.callbacks import EarlyStopping"
      ]
    },
    {
      "cell_type": "code",
      "execution_count": 114,
      "metadata": {
        "id": "cn3nD0ug0U3L"
      },
      "outputs": [],
      "source": [
        "early_stop = EarlyStopping(monitor='val_mse',\n",
        "                           mode='min', verbose=1, patience= 30)"
      ]
    },
    {
      "cell_type": "code",
      "execution_count": 70,
      "metadata": {
        "id": "PTY1dGkZz1pt",
        "colab": {
          "base_uri": "https://localhost:8080/"
        },
        "outputId": "d8d25802-1fa0-4c37-c20f-c245c1015adf"
      },
      "outputs": [
        {
          "output_type": "stream",
          "name": "stdout",
          "text": [
            "Epoch 1/200\n",
            "400/400 [==============================] - 2s 3ms/step - loss: 0.4065 - mse: 0.4065 - mae: 0.4435 - val_loss: 0.0768 - val_mse: 0.0768 - val_mae: 0.2114\n",
            "Epoch 2/200\n",
            "400/400 [==============================] - 1s 3ms/step - loss: 0.0694 - mse: 0.0694 - mae: 0.2008 - val_loss: 0.0709 - val_mse: 0.0709 - val_mae: 0.2029\n",
            "Epoch 3/200\n",
            "400/400 [==============================] - 1s 3ms/step - loss: 0.0663 - mse: 0.0663 - mae: 0.1961 - val_loss: 0.0686 - val_mse: 0.0686 - val_mae: 0.1985\n",
            "Epoch 4/200\n",
            "400/400 [==============================] - 2s 5ms/step - loss: 0.0647 - mse: 0.0647 - mae: 0.1934 - val_loss: 0.0686 - val_mse: 0.0686 - val_mae: 0.1971\n",
            "Epoch 5/200\n",
            "400/400 [==============================] - 2s 6ms/step - loss: 0.0634 - mse: 0.0634 - mae: 0.1907 - val_loss: 0.0664 - val_mse: 0.0664 - val_mae: 0.1956\n",
            "Epoch 6/200\n",
            "400/400 [==============================] - 3s 7ms/step - loss: 0.0621 - mse: 0.0621 - mae: 0.1889 - val_loss: 0.0651 - val_mse: 0.0651 - val_mae: 0.1926\n",
            "Epoch 7/200\n",
            "400/400 [==============================] - 2s 6ms/step - loss: 0.0606 - mse: 0.0606 - mae: 0.1862 - val_loss: 0.0637 - val_mse: 0.0637 - val_mae: 0.1905\n",
            "Epoch 8/200\n",
            "400/400 [==============================] - 3s 7ms/step - loss: 0.0593 - mse: 0.0593 - mae: 0.1842 - val_loss: 0.0631 - val_mse: 0.0631 - val_mae: 0.1892\n",
            "Epoch 9/200\n",
            "400/400 [==============================] - 3s 7ms/step - loss: 0.0580 - mse: 0.0580 - mae: 0.1817 - val_loss: 0.0615 - val_mse: 0.0615 - val_mae: 0.1874\n",
            "Epoch 10/200\n",
            "400/400 [==============================] - 3s 8ms/step - loss: 0.0568 - mse: 0.0568 - mae: 0.1800 - val_loss: 0.0605 - val_mse: 0.0605 - val_mae: 0.1845\n",
            "Epoch 11/200\n",
            "400/400 [==============================] - 3s 8ms/step - loss: 0.0557 - mse: 0.0557 - mae: 0.1777 - val_loss: 0.0592 - val_mse: 0.0592 - val_mae: 0.1827\n",
            "Epoch 12/200\n",
            "400/400 [==============================] - 3s 8ms/step - loss: 0.0545 - mse: 0.0545 - mae: 0.1754 - val_loss: 0.0580 - val_mse: 0.0580 - val_mae: 0.1802\n",
            "Epoch 13/200\n",
            "400/400 [==============================] - 3s 6ms/step - loss: 0.0534 - mse: 0.0534 - mae: 0.1734 - val_loss: 0.0572 - val_mse: 0.0572 - val_mae: 0.1793\n",
            "Epoch 14/200\n",
            "400/400 [==============================] - 1s 3ms/step - loss: 0.0526 - mse: 0.0526 - mae: 0.1716 - val_loss: 0.0562 - val_mse: 0.0562 - val_mae: 0.1769\n",
            "Epoch 15/200\n",
            "400/400 [==============================] - 1s 3ms/step - loss: 0.0518 - mse: 0.0518 - mae: 0.1699 - val_loss: 0.0552 - val_mse: 0.0552 - val_mae: 0.1751\n",
            "Epoch 16/200\n",
            "400/400 [==============================] - 1s 3ms/step - loss: 0.0513 - mse: 0.0513 - mae: 0.1696 - val_loss: 0.0553 - val_mse: 0.0553 - val_mae: 0.1751\n",
            "Epoch 17/200\n",
            "400/400 [==============================] - 1s 3ms/step - loss: 0.0506 - mse: 0.0506 - mae: 0.1676 - val_loss: 0.0540 - val_mse: 0.0540 - val_mae: 0.1734\n",
            "Epoch 18/200\n",
            "400/400 [==============================] - 1s 3ms/step - loss: 0.0499 - mse: 0.0499 - mae: 0.1665 - val_loss: 0.0546 - val_mse: 0.0546 - val_mae: 0.1736\n",
            "Epoch 19/200\n",
            "400/400 [==============================] - 1s 3ms/step - loss: 0.0493 - mse: 0.0493 - mae: 0.1653 - val_loss: 0.0534 - val_mse: 0.0534 - val_mae: 0.1711\n",
            "Epoch 20/200\n",
            "400/400 [==============================] - 1s 3ms/step - loss: 0.0487 - mse: 0.0487 - mae: 0.1641 - val_loss: 0.0533 - val_mse: 0.0533 - val_mae: 0.1718\n",
            "Epoch 21/200\n",
            "400/400 [==============================] - 1s 3ms/step - loss: 0.0483 - mse: 0.0483 - mae: 0.1632 - val_loss: 0.0524 - val_mse: 0.0524 - val_mae: 0.1695\n",
            "Epoch 22/200\n",
            "400/400 [==============================] - 1s 3ms/step - loss: 0.0480 - mse: 0.0480 - mae: 0.1629 - val_loss: 0.0524 - val_mse: 0.0524 - val_mae: 0.1700\n",
            "Epoch 23/200\n",
            "400/400 [==============================] - 1s 3ms/step - loss: 0.0475 - mse: 0.0475 - mae: 0.1620 - val_loss: 0.0518 - val_mse: 0.0518 - val_mae: 0.1682\n",
            "Epoch 24/200\n",
            "400/400 [==============================] - 1s 3ms/step - loss: 0.0474 - mse: 0.0474 - mae: 0.1613 - val_loss: 0.0514 - val_mse: 0.0514 - val_mae: 0.1675\n",
            "Epoch 25/200\n",
            "400/400 [==============================] - 1s 3ms/step - loss: 0.0467 - mse: 0.0467 - mae: 0.1602 - val_loss: 0.0522 - val_mse: 0.0522 - val_mae: 0.1691\n",
            "Epoch 26/200\n",
            "400/400 [==============================] - 1s 3ms/step - loss: 0.0467 - mse: 0.0467 - mae: 0.1597 - val_loss: 0.0511 - val_mse: 0.0511 - val_mae: 0.1669\n",
            "Epoch 27/200\n",
            "400/400 [==============================] - 1s 3ms/step - loss: 0.0461 - mse: 0.0461 - mae: 0.1592 - val_loss: 0.0502 - val_mse: 0.0502 - val_mae: 0.1649\n",
            "Epoch 28/200\n",
            "400/400 [==============================] - 1s 3ms/step - loss: 0.0456 - mse: 0.0456 - mae: 0.1579 - val_loss: 0.0501 - val_mse: 0.0501 - val_mae: 0.1646\n",
            "Epoch 29/200\n",
            "400/400 [==============================] - 2s 4ms/step - loss: 0.0454 - mse: 0.0454 - mae: 0.1576 - val_loss: 0.0507 - val_mse: 0.0507 - val_mae: 0.1661\n",
            "Epoch 30/200\n",
            "400/400 [==============================] - 1s 4ms/step - loss: 0.0452 - mse: 0.0452 - mae: 0.1572 - val_loss: 0.0494 - val_mse: 0.0494 - val_mae: 0.1638\n",
            "Epoch 31/200\n",
            "400/400 [==============================] - 1s 4ms/step - loss: 0.0449 - mse: 0.0449 - mae: 0.1568 - val_loss: 0.0490 - val_mse: 0.0490 - val_mae: 0.1629\n",
            "Epoch 32/200\n",
            "400/400 [==============================] - 1s 3ms/step - loss: 0.0445 - mse: 0.0445 - mae: 0.1560 - val_loss: 0.0495 - val_mse: 0.0495 - val_mae: 0.1638\n",
            "Epoch 33/200\n",
            "400/400 [==============================] - 1s 3ms/step - loss: 0.0444 - mse: 0.0444 - mae: 0.1556 - val_loss: 0.0486 - val_mse: 0.0486 - val_mae: 0.1623\n",
            "Epoch 34/200\n",
            "400/400 [==============================] - 1s 3ms/step - loss: 0.0439 - mse: 0.0439 - mae: 0.1546 - val_loss: 0.0485 - val_mse: 0.0485 - val_mae: 0.1623\n",
            "Epoch 35/200\n",
            "400/400 [==============================] - 1s 3ms/step - loss: 0.0438 - mse: 0.0438 - mae: 0.1543 - val_loss: 0.0482 - val_mse: 0.0482 - val_mae: 0.1607\n",
            "Epoch 36/200\n",
            "400/400 [==============================] - 1s 3ms/step - loss: 0.0437 - mse: 0.0437 - mae: 0.1540 - val_loss: 0.0478 - val_mse: 0.0478 - val_mae: 0.1602\n",
            "Epoch 37/200\n",
            "400/400 [==============================] - 1s 3ms/step - loss: 0.0437 - mse: 0.0437 - mae: 0.1541 - val_loss: 0.0483 - val_mse: 0.0483 - val_mae: 0.1614\n",
            "Epoch 38/200\n",
            "400/400 [==============================] - 1s 3ms/step - loss: 0.0430 - mse: 0.0430 - mae: 0.1524 - val_loss: 0.0478 - val_mse: 0.0478 - val_mae: 0.1597\n",
            "Epoch 39/200\n",
            "400/400 [==============================] - 1s 3ms/step - loss: 0.0430 - mse: 0.0430 - mae: 0.1525 - val_loss: 0.0476 - val_mse: 0.0476 - val_mae: 0.1595\n",
            "Epoch 40/200\n",
            "400/400 [==============================] - 1s 3ms/step - loss: 0.0428 - mse: 0.0428 - mae: 0.1522 - val_loss: 0.0472 - val_mse: 0.0472 - val_mae: 0.1597\n",
            "Epoch 41/200\n",
            "400/400 [==============================] - 1s 3ms/step - loss: 0.0426 - mse: 0.0426 - mae: 0.1517 - val_loss: 0.0477 - val_mse: 0.0477 - val_mae: 0.1606\n",
            "Epoch 42/200\n",
            "400/400 [==============================] - 1s 3ms/step - loss: 0.0423 - mse: 0.0423 - mae: 0.1519 - val_loss: 0.0467 - val_mse: 0.0467 - val_mae: 0.1589\n",
            "Epoch 43/200\n",
            "400/400 [==============================] - 1s 3ms/step - loss: 0.0420 - mse: 0.0420 - mae: 0.1508 - val_loss: 0.0473 - val_mse: 0.0473 - val_mae: 0.1596\n",
            "Epoch 44/200\n",
            "400/400 [==============================] - 1s 3ms/step - loss: 0.0418 - mse: 0.0418 - mae: 0.1503 - val_loss: 0.0481 - val_mse: 0.0481 - val_mae: 0.1609\n",
            "Epoch 45/200\n",
            "400/400 [==============================] - 1s 3ms/step - loss: 0.0418 - mse: 0.0418 - mae: 0.1503 - val_loss: 0.0462 - val_mse: 0.0462 - val_mae: 0.1567\n",
            "Epoch 46/200\n",
            "400/400 [==============================] - 1s 3ms/step - loss: 0.0414 - mse: 0.0414 - mae: 0.1498 - val_loss: 0.0463 - val_mse: 0.0463 - val_mae: 0.1578\n",
            "Epoch 47/200\n",
            "400/400 [==============================] - 1s 3ms/step - loss: 0.0413 - mse: 0.0413 - mae: 0.1495 - val_loss: 0.0462 - val_mse: 0.0462 - val_mae: 0.1580\n",
            "Epoch 48/200\n",
            "400/400 [==============================] - 1s 3ms/step - loss: 0.0411 - mse: 0.0411 - mae: 0.1489 - val_loss: 0.0458 - val_mse: 0.0458 - val_mae: 0.1566\n",
            "Epoch 49/200\n",
            "400/400 [==============================] - 1s 3ms/step - loss: 0.0411 - mse: 0.0411 - mae: 0.1491 - val_loss: 0.0462 - val_mse: 0.0462 - val_mae: 0.1577\n",
            "Epoch 50/200\n",
            "400/400 [==============================] - 1s 3ms/step - loss: 0.0408 - mse: 0.0408 - mae: 0.1483 - val_loss: 0.0457 - val_mse: 0.0457 - val_mae: 0.1570\n",
            "Epoch 51/200\n",
            "400/400 [==============================] - 1s 3ms/step - loss: 0.0407 - mse: 0.0407 - mae: 0.1484 - val_loss: 0.0450 - val_mse: 0.0450 - val_mae: 0.1552\n",
            "Epoch 52/200\n",
            "400/400 [==============================] - 1s 3ms/step - loss: 0.0405 - mse: 0.0405 - mae: 0.1480 - val_loss: 0.0454 - val_mse: 0.0454 - val_mae: 0.1553\n",
            "Epoch 53/200\n",
            "400/400 [==============================] - 1s 3ms/step - loss: 0.0407 - mse: 0.0407 - mae: 0.1483 - val_loss: 0.0453 - val_mse: 0.0453 - val_mae: 0.1554\n",
            "Epoch 54/200\n",
            "400/400 [==============================] - 1s 3ms/step - loss: 0.0405 - mse: 0.0405 - mae: 0.1477 - val_loss: 0.0450 - val_mse: 0.0450 - val_mae: 0.1552\n",
            "Epoch 55/200\n",
            "400/400 [==============================] - 1s 3ms/step - loss: 0.0403 - mse: 0.0403 - mae: 0.1475 - val_loss: 0.0457 - val_mse: 0.0457 - val_mae: 0.1556\n",
            "Epoch 56/200\n",
            "400/400 [==============================] - 1s 3ms/step - loss: 0.0403 - mse: 0.0403 - mae: 0.1476 - val_loss: 0.0454 - val_mse: 0.0454 - val_mae: 0.1557\n",
            "Epoch 57/200\n",
            "400/400 [==============================] - 1s 3ms/step - loss: 0.0400 - mse: 0.0400 - mae: 0.1469 - val_loss: 0.0454 - val_mse: 0.0454 - val_mae: 0.1563\n",
            "Epoch 58/200\n",
            "400/400 [==============================] - 1s 3ms/step - loss: 0.0400 - mse: 0.0400 - mae: 0.1466 - val_loss: 0.0472 - val_mse: 0.0472 - val_mae: 0.1590\n",
            "Epoch 59/200\n",
            "400/400 [==============================] - 1s 3ms/step - loss: 0.0399 - mse: 0.0399 - mae: 0.1468 - val_loss: 0.0453 - val_mse: 0.0453 - val_mae: 0.1552\n",
            "Epoch 60/200\n",
            "400/400 [==============================] - 1s 3ms/step - loss: 0.0396 - mse: 0.0396 - mae: 0.1461 - val_loss: 0.0456 - val_mse: 0.0456 - val_mae: 0.1557\n",
            "Epoch 61/200\n",
            "400/400 [==============================] - 1s 3ms/step - loss: 0.0399 - mse: 0.0399 - mae: 0.1468 - val_loss: 0.0451 - val_mse: 0.0451 - val_mae: 0.1550\n",
            "Epoch 61: early stopping\n"
          ]
        },
        {
          "output_type": "execute_result",
          "data": {
            "text/plain": [
              "<keras.callbacks.History at 0x7fb5520c2fd0>"
            ]
          },
          "metadata": {},
          "execution_count": 70
        }
      ],
      "source": [
        "model.fit(x=X_train, y=y_train, epochs=200,\n",
        "          validation_data=(X_test,y_test),\n",
        "          callbacks=[early_stop])"
      ]
    },
    {
      "cell_type": "code",
      "source": [
        "model.fit(x=X_train, y=y_train, epochs=200,\n",
        "          validation_data=(X_test,y_test),\n",
        "          callbacks=[early_stop])"
      ],
      "metadata": {
        "colab": {
          "base_uri": "https://localhost:8080/"
        },
        "id": "3ogpF7PbGWf-",
        "outputId": "1ef5763f-2657-4b30-f4ad-87a694b17194"
      },
      "execution_count": 102,
      "outputs": [
        {
          "output_type": "stream",
          "name": "stdout",
          "text": [
            "Epoch 1/200\n",
            "400/400 [==============================] - 1s 4ms/step - loss: 0.0396 - mse: 0.0396 - mae: 0.1462 - val_loss: 0.0445 - val_mse: 0.0445 - val_mae: 0.1542\n",
            "Epoch 2/200\n",
            "400/400 [==============================] - 1s 3ms/step - loss: 0.0396 - mse: 0.0396 - mae: 0.1460 - val_loss: 0.0453 - val_mse: 0.0453 - val_mae: 0.1554\n",
            "Epoch 3/200\n",
            "400/400 [==============================] - 1s 3ms/step - loss: 0.0396 - mse: 0.0396 - mae: 0.1461 - val_loss: 0.0439 - val_mse: 0.0439 - val_mae: 0.1525\n",
            "Epoch 4/200\n",
            "400/400 [==============================] - 1s 4ms/step - loss: 0.0392 - mse: 0.0392 - mae: 0.1452 - val_loss: 0.0445 - val_mse: 0.0445 - val_mae: 0.1540\n",
            "Epoch 5/200\n",
            "400/400 [==============================] - 1s 3ms/step - loss: 0.0390 - mse: 0.0390 - mae: 0.1450 - val_loss: 0.0445 - val_mse: 0.0445 - val_mae: 0.1546\n",
            "Epoch 6/200\n",
            "400/400 [==============================] - 1s 3ms/step - loss: 0.0392 - mse: 0.0392 - mae: 0.1450 - val_loss: 0.0441 - val_mse: 0.0441 - val_mae: 0.1541\n",
            "Epoch 7/200\n",
            "400/400 [==============================] - 2s 5ms/step - loss: 0.0391 - mse: 0.0391 - mae: 0.1453 - val_loss: 0.0448 - val_mse: 0.0448 - val_mae: 0.1543\n",
            "Epoch 8/200\n",
            "400/400 [==============================] - 3s 7ms/step - loss: 0.0388 - mse: 0.0388 - mae: 0.1445 - val_loss: 0.0446 - val_mse: 0.0446 - val_mae: 0.1541\n",
            "Epoch 9/200\n",
            "400/400 [==============================] - 3s 7ms/step - loss: 0.0388 - mse: 0.0388 - mae: 0.1451 - val_loss: 0.0434 - val_mse: 0.0434 - val_mae: 0.1519\n",
            "Epoch 10/200\n",
            "400/400 [==============================] - 3s 7ms/step - loss: 0.0388 - mse: 0.0388 - mae: 0.1449 - val_loss: 0.0441 - val_mse: 0.0441 - val_mae: 0.1535\n",
            "Epoch 11/200\n",
            "400/400 [==============================] - 3s 7ms/step - loss: 0.0387 - mse: 0.0387 - mae: 0.1446 - val_loss: 0.0436 - val_mse: 0.0436 - val_mae: 0.1526\n",
            "Epoch 12/200\n",
            "400/400 [==============================] - 3s 8ms/step - loss: 0.0385 - mse: 0.0385 - mae: 0.1439 - val_loss: 0.0445 - val_mse: 0.0445 - val_mae: 0.1539\n",
            "Epoch 13/200\n",
            "400/400 [==============================] - 4s 9ms/step - loss: 0.0386 - mse: 0.0386 - mae: 0.1443 - val_loss: 0.0457 - val_mse: 0.0457 - val_mae: 0.1575\n",
            "Epoch 14/200\n",
            "400/400 [==============================] - 4s 9ms/step - loss: 0.0384 - mse: 0.0384 - mae: 0.1435 - val_loss: 0.0426 - val_mse: 0.0426 - val_mae: 0.1512\n",
            "Epoch 15/200\n",
            "400/400 [==============================] - 3s 8ms/step - loss: 0.0381 - mse: 0.0381 - mae: 0.1434 - val_loss: 0.0432 - val_mse: 0.0432 - val_mae: 0.1516\n",
            "Epoch 16/200\n",
            "400/400 [==============================] - 3s 6ms/step - loss: 0.0381 - mse: 0.0381 - mae: 0.1434 - val_loss: 0.0428 - val_mse: 0.0428 - val_mae: 0.1501\n",
            "Epoch 17/200\n",
            "400/400 [==============================] - 2s 5ms/step - loss: 0.0380 - mse: 0.0380 - mae: 0.1430 - val_loss: 0.0432 - val_mse: 0.0432 - val_mae: 0.1519\n",
            "Epoch 18/200\n",
            "400/400 [==============================] - 1s 3ms/step - loss: 0.0381 - mse: 0.0381 - mae: 0.1436 - val_loss: 0.0433 - val_mse: 0.0433 - val_mae: 0.1524\n",
            "Epoch 19/200\n",
            "400/400 [==============================] - 1s 3ms/step - loss: 0.0378 - mse: 0.0378 - mae: 0.1431 - val_loss: 0.0432 - val_mse: 0.0432 - val_mae: 0.1517\n",
            "Epoch 20/200\n",
            "400/400 [==============================] - 1s 3ms/step - loss: 0.0378 - mse: 0.0378 - mae: 0.1431 - val_loss: 0.0435 - val_mse: 0.0435 - val_mae: 0.1517\n",
            "Epoch 21/200\n",
            "400/400 [==============================] - 1s 3ms/step - loss: 0.0378 - mse: 0.0378 - mae: 0.1429 - val_loss: 0.0427 - val_mse: 0.0427 - val_mae: 0.1505\n",
            "Epoch 22/200\n",
            "400/400 [==============================] - 1s 3ms/step - loss: 0.0378 - mse: 0.0378 - mae: 0.1425 - val_loss: 0.0441 - val_mse: 0.0441 - val_mae: 0.1533\n",
            "Epoch 23/200\n",
            "400/400 [==============================] - 1s 3ms/step - loss: 0.0376 - mse: 0.0376 - mae: 0.1426 - val_loss: 0.0432 - val_mse: 0.0432 - val_mae: 0.1509\n",
            "Epoch 24/200\n",
            "400/400 [==============================] - 1s 3ms/step - loss: 0.0375 - mse: 0.0375 - mae: 0.1421 - val_loss: 0.0454 - val_mse: 0.0454 - val_mae: 0.1556\n",
            "Epoch 24: early stopping\n"
          ]
        },
        {
          "output_type": "execute_result",
          "data": {
            "text/plain": [
              "<keras.callbacks.History at 0x7fb54eb29710>"
            ]
          },
          "metadata": {},
          "execution_count": 102
        }
      ]
    },
    {
      "cell_type": "code",
      "source": [
        "model.fit(x=X_train, y=y_train, epochs=200,\n",
        "          validation_data=(X_test,y_test),\n",
        "          callbacks=[early_stop])"
      ],
      "metadata": {
        "colab": {
          "base_uri": "https://localhost:8080/"
        },
        "id": "LmohTEbzGn6G",
        "outputId": "5c2ffca5-4856-42ab-838c-55d1aab2fb28"
      },
      "execution_count": 103,
      "outputs": [
        {
          "output_type": "stream",
          "name": "stdout",
          "text": [
            "Epoch 1/200\n",
            "400/400 [==============================] - 3s 7ms/step - loss: 0.0378 - mse: 0.0378 - mae: 0.1430 - val_loss: 0.0431 - val_mse: 0.0431 - val_mae: 0.1516\n",
            "Epoch 2/200\n",
            "400/400 [==============================] - 3s 7ms/step - loss: 0.0373 - mse: 0.0373 - mae: 0.1420 - val_loss: 0.0429 - val_mse: 0.0429 - val_mae: 0.1524\n",
            "Epoch 3/200\n",
            "400/400 [==============================] - 2s 6ms/step - loss: 0.0373 - mse: 0.0373 - mae: 0.1424 - val_loss: 0.0429 - val_mse: 0.0429 - val_mae: 0.1516\n",
            "Epoch 4/200\n",
            "400/400 [==============================] - 2s 4ms/step - loss: 0.0372 - mse: 0.0372 - mae: 0.1418 - val_loss: 0.0430 - val_mse: 0.0430 - val_mae: 0.1516\n",
            "Epoch 5/200\n",
            "400/400 [==============================] - 1s 3ms/step - loss: 0.0373 - mse: 0.0373 - mae: 0.1420 - val_loss: 0.0449 - val_mse: 0.0449 - val_mae: 0.1555\n",
            "Epoch 6/200\n",
            "400/400 [==============================] - 1s 3ms/step - loss: 0.0372 - mse: 0.0372 - mae: 0.1423 - val_loss: 0.0428 - val_mse: 0.0428 - val_mae: 0.1511\n",
            "Epoch 7/200\n",
            "400/400 [==============================] - 1s 3ms/step - loss: 0.0371 - mse: 0.0371 - mae: 0.1416 - val_loss: 0.0424 - val_mse: 0.0424 - val_mae: 0.1499\n",
            "Epoch 8/200\n",
            "400/400 [==============================] - 1s 3ms/step - loss: 0.0370 - mse: 0.0370 - mae: 0.1416 - val_loss: 0.0427 - val_mse: 0.0427 - val_mae: 0.1507\n",
            "Epoch 9/200\n",
            "400/400 [==============================] - 1s 3ms/step - loss: 0.0374 - mse: 0.0374 - mae: 0.1420 - val_loss: 0.0433 - val_mse: 0.0433 - val_mae: 0.1517\n",
            "Epoch 10/200\n",
            "400/400 [==============================] - 1s 3ms/step - loss: 0.0369 - mse: 0.0369 - mae: 0.1413 - val_loss: 0.0420 - val_mse: 0.0420 - val_mae: 0.1491\n",
            "Epoch 11/200\n",
            "400/400 [==============================] - 1s 3ms/step - loss: 0.0367 - mse: 0.0367 - mae: 0.1409 - val_loss: 0.0420 - val_mse: 0.0420 - val_mae: 0.1497\n",
            "Epoch 12/200\n",
            "400/400 [==============================] - 1s 3ms/step - loss: 0.0368 - mse: 0.0368 - mae: 0.1412 - val_loss: 0.0423 - val_mse: 0.0423 - val_mae: 0.1505\n",
            "Epoch 13/200\n",
            "400/400 [==============================] - 1s 3ms/step - loss: 0.0364 - mse: 0.0364 - mae: 0.1406 - val_loss: 0.0429 - val_mse: 0.0429 - val_mae: 0.1512\n",
            "Epoch 14/200\n",
            "400/400 [==============================] - 1s 3ms/step - loss: 0.0365 - mse: 0.0365 - mae: 0.1410 - val_loss: 0.0425 - val_mse: 0.0425 - val_mae: 0.1507\n",
            "Epoch 15/200\n",
            "400/400 [==============================] - 1s 3ms/step - loss: 0.0364 - mse: 0.0364 - mae: 0.1407 - val_loss: 0.0420 - val_mse: 0.0420 - val_mae: 0.1489\n",
            "Epoch 16/200\n",
            "400/400 [==============================] - 1s 3ms/step - loss: 0.0364 - mse: 0.0364 - mae: 0.1403 - val_loss: 0.0419 - val_mse: 0.0419 - val_mae: 0.1495\n",
            "Epoch 17/200\n",
            "400/400 [==============================] - 1s 3ms/step - loss: 0.0366 - mse: 0.0366 - mae: 0.1411 - val_loss: 0.0420 - val_mse: 0.0420 - val_mae: 0.1500\n",
            "Epoch 18/200\n",
            "400/400 [==============================] - 1s 3ms/step - loss: 0.0363 - mse: 0.0363 - mae: 0.1402 - val_loss: 0.0420 - val_mse: 0.0420 - val_mae: 0.1492\n",
            "Epoch 19/200\n",
            "400/400 [==============================] - 1s 3ms/step - loss: 0.0362 - mse: 0.0362 - mae: 0.1405 - val_loss: 0.0421 - val_mse: 0.0421 - val_mae: 0.1499\n",
            "Epoch 20/200\n",
            "400/400 [==============================] - 1s 3ms/step - loss: 0.0365 - mse: 0.0365 - mae: 0.1406 - val_loss: 0.0421 - val_mse: 0.0421 - val_mae: 0.1499\n",
            "Epoch 21/200\n",
            "400/400 [==============================] - 1s 3ms/step - loss: 0.0360 - mse: 0.0360 - mae: 0.1397 - val_loss: 0.0422 - val_mse: 0.0422 - val_mae: 0.1505\n",
            "Epoch 22/200\n",
            "400/400 [==============================] - 1s 3ms/step - loss: 0.0362 - mse: 0.0362 - mae: 0.1404 - val_loss: 0.0419 - val_mse: 0.0419 - val_mae: 0.1487\n",
            "Epoch 23/200\n",
            "400/400 [==============================] - 1s 3ms/step - loss: 0.0361 - mse: 0.0361 - mae: 0.1405 - val_loss: 0.0415 - val_mse: 0.0415 - val_mae: 0.1482\n",
            "Epoch 24/200\n",
            "400/400 [==============================] - 1s 3ms/step - loss: 0.0360 - mse: 0.0360 - mae: 0.1397 - val_loss: 0.0413 - val_mse: 0.0413 - val_mae: 0.1484\n",
            "Epoch 25/200\n",
            "400/400 [==============================] - 1s 3ms/step - loss: 0.0359 - mse: 0.0359 - mae: 0.1399 - val_loss: 0.0422 - val_mse: 0.0422 - val_mae: 0.1495\n",
            "Epoch 26/200\n",
            "400/400 [==============================] - 1s 3ms/step - loss: 0.0358 - mse: 0.0358 - mae: 0.1395 - val_loss: 0.0418 - val_mse: 0.0418 - val_mae: 0.1491\n",
            "Epoch 27/200\n",
            "400/400 [==============================] - 1s 3ms/step - loss: 0.0359 - mse: 0.0359 - mae: 0.1399 - val_loss: 0.0420 - val_mse: 0.0420 - val_mae: 0.1500\n",
            "Epoch 28/200\n",
            "400/400 [==============================] - 1s 3ms/step - loss: 0.0358 - mse: 0.0358 - mae: 0.1397 - val_loss: 0.0428 - val_mse: 0.0428 - val_mae: 0.1506\n",
            "Epoch 29/200\n",
            "400/400 [==============================] - 1s 3ms/step - loss: 0.0357 - mse: 0.0357 - mae: 0.1391 - val_loss: 0.0410 - val_mse: 0.0410 - val_mae: 0.1480\n",
            "Epoch 30/200\n",
            "400/400 [==============================] - 1s 3ms/step - loss: 0.0356 - mse: 0.0356 - mae: 0.1390 - val_loss: 0.0414 - val_mse: 0.0414 - val_mae: 0.1484\n",
            "Epoch 31/200\n",
            "400/400 [==============================] - 1s 3ms/step - loss: 0.0356 - mse: 0.0356 - mae: 0.1391 - val_loss: 0.0411 - val_mse: 0.0411 - val_mae: 0.1475\n",
            "Epoch 32/200\n",
            "400/400 [==============================] - 1s 3ms/step - loss: 0.0356 - mse: 0.0356 - mae: 0.1394 - val_loss: 0.0408 - val_mse: 0.0408 - val_mae: 0.1478\n",
            "Epoch 33/200\n",
            "400/400 [==============================] - 1s 3ms/step - loss: 0.0356 - mse: 0.0356 - mae: 0.1396 - val_loss: 0.0414 - val_mse: 0.0414 - val_mae: 0.1483\n",
            "Epoch 34/200\n",
            "400/400 [==============================] - 1s 3ms/step - loss: 0.0354 - mse: 0.0354 - mae: 0.1389 - val_loss: 0.0410 - val_mse: 0.0410 - val_mae: 0.1474\n",
            "Epoch 35/200\n",
            "400/400 [==============================] - 1s 3ms/step - loss: 0.0352 - mse: 0.0352 - mae: 0.1385 - val_loss: 0.0413 - val_mse: 0.0413 - val_mae: 0.1477\n",
            "Epoch 36/200\n",
            "400/400 [==============================] - 1s 3ms/step - loss: 0.0354 - mse: 0.0354 - mae: 0.1389 - val_loss: 0.0411 - val_mse: 0.0411 - val_mae: 0.1484\n",
            "Epoch 37/200\n",
            "400/400 [==============================] - 1s 3ms/step - loss: 0.0351 - mse: 0.0351 - mae: 0.1387 - val_loss: 0.0423 - val_mse: 0.0423 - val_mae: 0.1505\n",
            "Epoch 38/200\n",
            "400/400 [==============================] - 1s 3ms/step - loss: 0.0351 - mse: 0.0351 - mae: 0.1386 - val_loss: 0.0412 - val_mse: 0.0412 - val_mae: 0.1490\n",
            "Epoch 39/200\n",
            "400/400 [==============================] - 1s 3ms/step - loss: 0.0350 - mse: 0.0350 - mae: 0.1382 - val_loss: 0.0407 - val_mse: 0.0407 - val_mae: 0.1471\n",
            "Epoch 40/200\n",
            "400/400 [==============================] - 1s 3ms/step - loss: 0.0350 - mse: 0.0350 - mae: 0.1385 - val_loss: 0.0410 - val_mse: 0.0410 - val_mae: 0.1475\n",
            "Epoch 41/200\n",
            "400/400 [==============================] - 1s 3ms/step - loss: 0.0349 - mse: 0.0349 - mae: 0.1383 - val_loss: 0.0407 - val_mse: 0.0407 - val_mae: 0.1479\n",
            "Epoch 42/200\n",
            "400/400 [==============================] - 1s 3ms/step - loss: 0.0350 - mse: 0.0350 - mae: 0.1387 - val_loss: 0.0404 - val_mse: 0.0404 - val_mae: 0.1472\n",
            "Epoch 43/200\n",
            "400/400 [==============================] - 1s 3ms/step - loss: 0.0348 - mse: 0.0348 - mae: 0.1379 - val_loss: 0.0411 - val_mse: 0.0411 - val_mae: 0.1484\n",
            "Epoch 44/200\n",
            "400/400 [==============================] - 1s 3ms/step - loss: 0.0350 - mse: 0.0350 - mae: 0.1385 - val_loss: 0.0409 - val_mse: 0.0409 - val_mae: 0.1488\n",
            "Epoch 45/200\n",
            "400/400 [==============================] - 1s 3ms/step - loss: 0.0346 - mse: 0.0346 - mae: 0.1373 - val_loss: 0.0430 - val_mse: 0.0430 - val_mae: 0.1521\n",
            "Epoch 46/200\n",
            "400/400 [==============================] - 1s 3ms/step - loss: 0.0347 - mse: 0.0347 - mae: 0.1376 - val_loss: 0.0413 - val_mse: 0.0413 - val_mae: 0.1477\n",
            "Epoch 47/200\n",
            "400/400 [==============================] - 1s 3ms/step - loss: 0.0344 - mse: 0.0344 - mae: 0.1371 - val_loss: 0.0405 - val_mse: 0.0405 - val_mae: 0.1475\n",
            "Epoch 48/200\n",
            "400/400 [==============================] - 1s 3ms/step - loss: 0.0345 - mse: 0.0345 - mae: 0.1375 - val_loss: 0.0401 - val_mse: 0.0401 - val_mae: 0.1464\n",
            "Epoch 49/200\n",
            "400/400 [==============================] - 1s 3ms/step - loss: 0.0344 - mse: 0.0344 - mae: 0.1374 - val_loss: 0.0404 - val_mse: 0.0404 - val_mae: 0.1474\n",
            "Epoch 50/200\n",
            "400/400 [==============================] - 1s 3ms/step - loss: 0.0345 - mse: 0.0345 - mae: 0.1374 - val_loss: 0.0403 - val_mse: 0.0403 - val_mae: 0.1477\n",
            "Epoch 51/200\n",
            "400/400 [==============================] - 1s 3ms/step - loss: 0.0342 - mse: 0.0342 - mae: 0.1367 - val_loss: 0.0400 - val_mse: 0.0400 - val_mae: 0.1466\n",
            "Epoch 52/200\n",
            "400/400 [==============================] - 1s 3ms/step - loss: 0.0344 - mse: 0.0344 - mae: 0.1375 - val_loss: 0.0418 - val_mse: 0.0418 - val_mae: 0.1506\n",
            "Epoch 53/200\n",
            "400/400 [==============================] - 1s 3ms/step - loss: 0.0343 - mse: 0.0343 - mae: 0.1370 - val_loss: 0.0404 - val_mse: 0.0404 - val_mae: 0.1469\n",
            "Epoch 54/200\n",
            "400/400 [==============================] - 1s 3ms/step - loss: 0.0342 - mse: 0.0342 - mae: 0.1369 - val_loss: 0.0413 - val_mse: 0.0413 - val_mae: 0.1479\n",
            "Epoch 55/200\n",
            "400/400 [==============================] - 1s 3ms/step - loss: 0.0343 - mse: 0.0343 - mae: 0.1370 - val_loss: 0.0402 - val_mse: 0.0402 - val_mae: 0.1466\n",
            "Epoch 56/200\n",
            "400/400 [==============================] - 1s 3ms/step - loss: 0.0342 - mse: 0.0342 - mae: 0.1370 - val_loss: 0.0408 - val_mse: 0.0408 - val_mae: 0.1476\n",
            "Epoch 57/200\n",
            "400/400 [==============================] - 1s 3ms/step - loss: 0.0342 - mse: 0.0342 - mae: 0.1366 - val_loss: 0.0409 - val_mse: 0.0409 - val_mae: 0.1480\n",
            "Epoch 58/200\n",
            "400/400 [==============================] - 1s 3ms/step - loss: 0.0339 - mse: 0.0339 - mae: 0.1364 - val_loss: 0.0404 - val_mse: 0.0404 - val_mae: 0.1464\n",
            "Epoch 59/200\n",
            "400/400 [==============================] - 1s 3ms/step - loss: 0.0341 - mse: 0.0341 - mae: 0.1366 - val_loss: 0.0406 - val_mse: 0.0406 - val_mae: 0.1471\n",
            "Epoch 60/200\n",
            "400/400 [==============================] - 1s 3ms/step - loss: 0.0344 - mse: 0.0344 - mae: 0.1374 - val_loss: 0.0397 - val_mse: 0.0397 - val_mae: 0.1462\n",
            "Epoch 61/200\n",
            "400/400 [==============================] - 1s 3ms/step - loss: 0.0339 - mse: 0.0339 - mae: 0.1366 - val_loss: 0.0399 - val_mse: 0.0399 - val_mae: 0.1459\n",
            "Epoch 62/200\n",
            "400/400 [==============================] - 1s 3ms/step - loss: 0.0338 - mse: 0.0338 - mae: 0.1363 - val_loss: 0.0398 - val_mse: 0.0398 - val_mae: 0.1458\n",
            "Epoch 63/200\n",
            "400/400 [==============================] - 1s 3ms/step - loss: 0.0341 - mse: 0.0341 - mae: 0.1367 - val_loss: 0.0401 - val_mse: 0.0401 - val_mae: 0.1462\n",
            "Epoch 64/200\n",
            "400/400 [==============================] - 2s 5ms/step - loss: 0.0339 - mse: 0.0339 - mae: 0.1364 - val_loss: 0.0403 - val_mse: 0.0403 - val_mae: 0.1470\n",
            "Epoch 65/200\n",
            "400/400 [==============================] - 1s 3ms/step - loss: 0.0339 - mse: 0.0339 - mae: 0.1365 - val_loss: 0.0395 - val_mse: 0.0395 - val_mae: 0.1459\n",
            "Epoch 66/200\n",
            "400/400 [==============================] - 1s 3ms/step - loss: 0.0338 - mse: 0.0338 - mae: 0.1363 - val_loss: 0.0402 - val_mse: 0.0402 - val_mae: 0.1466\n",
            "Epoch 67/200\n",
            "400/400 [==============================] - 1s 3ms/step - loss: 0.0338 - mse: 0.0338 - mae: 0.1363 - val_loss: 0.0398 - val_mse: 0.0398 - val_mae: 0.1460\n",
            "Epoch 68/200\n",
            "400/400 [==============================] - 1s 3ms/step - loss: 0.0340 - mse: 0.0340 - mae: 0.1368 - val_loss: 0.0396 - val_mse: 0.0396 - val_mae: 0.1456\n",
            "Epoch 69/200\n",
            "400/400 [==============================] - 1s 3ms/step - loss: 0.0337 - mse: 0.0337 - mae: 0.1360 - val_loss: 0.0393 - val_mse: 0.0393 - val_mae: 0.1453\n",
            "Epoch 70/200\n",
            "400/400 [==============================] - 1s 3ms/step - loss: 0.0338 - mse: 0.0338 - mae: 0.1362 - val_loss: 0.0400 - val_mse: 0.0400 - val_mae: 0.1462\n",
            "Epoch 71/200\n",
            "400/400 [==============================] - 1s 3ms/step - loss: 0.0336 - mse: 0.0336 - mae: 0.1359 - val_loss: 0.0393 - val_mse: 0.0393 - val_mae: 0.1449\n",
            "Epoch 72/200\n",
            "400/400 [==============================] - 1s 3ms/step - loss: 0.0336 - mse: 0.0336 - mae: 0.1363 - val_loss: 0.0396 - val_mse: 0.0396 - val_mae: 0.1452\n",
            "Epoch 73/200\n",
            "400/400 [==============================] - 1s 3ms/step - loss: 0.0337 - mse: 0.0337 - mae: 0.1360 - val_loss: 0.0397 - val_mse: 0.0397 - val_mae: 0.1456\n",
            "Epoch 74/200\n",
            "400/400 [==============================] - 1s 3ms/step - loss: 0.0334 - mse: 0.0334 - mae: 0.1354 - val_loss: 0.0394 - val_mse: 0.0394 - val_mae: 0.1449\n",
            "Epoch 75/200\n",
            "400/400 [==============================] - 1s 3ms/step - loss: 0.0335 - mse: 0.0335 - mae: 0.1358 - val_loss: 0.0398 - val_mse: 0.0398 - val_mae: 0.1460\n",
            "Epoch 76/200\n",
            "400/400 [==============================] - 1s 3ms/step - loss: 0.0334 - mse: 0.0334 - mae: 0.1354 - val_loss: 0.0395 - val_mse: 0.0395 - val_mae: 0.1452\n",
            "Epoch 77/200\n",
            "400/400 [==============================] - 1s 3ms/step - loss: 0.0334 - mse: 0.0334 - mae: 0.1355 - val_loss: 0.0397 - val_mse: 0.0397 - val_mae: 0.1458\n",
            "Epoch 78/200\n",
            "400/400 [==============================] - 1s 3ms/step - loss: 0.0332 - mse: 0.0332 - mae: 0.1352 - val_loss: 0.0414 - val_mse: 0.0414 - val_mae: 0.1497\n",
            "Epoch 79/200\n",
            "400/400 [==============================] - 1s 3ms/step - loss: 0.0335 - mse: 0.0335 - mae: 0.1358 - val_loss: 0.0398 - val_mse: 0.0398 - val_mae: 0.1459\n",
            "Epoch 79: early stopping\n"
          ]
        },
        {
          "output_type": "execute_result",
          "data": {
            "text/plain": [
              "<keras.callbacks.History at 0x7fb54eaf90d0>"
            ]
          },
          "metadata": {},
          "execution_count": 103
        }
      ]
    },
    {
      "cell_type": "code",
      "execution_count": 104,
      "metadata": {
        "id": "YnfZTpuC0cvw"
      },
      "outputs": [],
      "source": [
        "test_predictions = model.predict(X_test)"
      ]
    },
    {
      "cell_type": "code",
      "execution_count": 105,
      "metadata": {
        "id": "e_ArzMqX1w2Y",
        "colab": {
          "base_uri": "https://localhost:8080/"
        },
        "outputId": "db432cb8-2dc5-4b64-b097-8609171b2328"
      },
      "outputs": [
        {
          "output_type": "execute_result",
          "data": {
            "text/plain": [
              "5475"
            ]
          },
          "metadata": {},
          "execution_count": 105
        }
      ],
      "source": [
        "len(test_predictions)"
      ]
    },
    {
      "cell_type": "code",
      "source": [
        "test_predictions = pd.Series(test_predictions.reshape(5475,))\n",
        "test_predictions"
      ],
      "metadata": {
        "colab": {
          "base_uri": "https://localhost:8080/"
        },
        "id": "MNqxvrtPDzjK",
        "outputId": "00755577-cd9f-48d0-8359-cde90122d86a"
      },
      "execution_count": 106,
      "outputs": [
        {
          "output_type": "execute_result",
          "data": {
            "text/plain": [
              "0       0.722311\n",
              "1       1.786115\n",
              "2       1.535005\n",
              "3       1.980132\n",
              "4       1.028936\n",
              "          ...   \n",
              "5470    1.032472\n",
              "5471    0.751198\n",
              "5472    1.707317\n",
              "5473    1.037647\n",
              "5474    1.675659\n",
              "Length: 5475, dtype: float32"
            ]
          },
          "metadata": {},
          "execution_count": 106
        }
      ]
    },
    {
      "cell_type": "code",
      "source": [
        "pred_df = pd.DataFrame(y_test, columns=['Test True Y'])"
      ],
      "metadata": {
        "id": "iAIsxGM-D12x"
      },
      "execution_count": 107,
      "outputs": []
    },
    {
      "cell_type": "code",
      "source": [
        "pred_df = pd.concat([pred_df, test_predictions], axis=1)\n",
        "pred_df"
      ],
      "metadata": {
        "colab": {
          "base_uri": "https://localhost:8080/",
          "height": 424
        },
        "id": "THbKwrnaD31b",
        "outputId": "dd21b641-773e-4a7a-b06e-228e6ade80ac"
      },
      "execution_count": 108,
      "outputs": [
        {
          "output_type": "execute_result",
          "data": {
            "text/plain": [
              "      Test True Y         0\n",
              "0            0.68  0.722311\n",
              "1            1.94  1.786115\n",
              "2            1.53  1.535005\n",
              "3            2.25  1.980132\n",
              "4            0.99  1.028936\n",
              "...           ...       ...\n",
              "5470         1.12  1.032472\n",
              "5471         0.83  0.751198\n",
              "5472         1.89  1.707317\n",
              "5473         0.96  1.037647\n",
              "5474         1.93  1.675659\n",
              "\n",
              "[5475 rows x 2 columns]"
            ],
            "text/html": [
              "\n",
              "  <div id=\"df-e23902b8-2d61-46eb-a87d-3bd85353f020\">\n",
              "    <div class=\"colab-df-container\">\n",
              "      <div>\n",
              "<style scoped>\n",
              "    .dataframe tbody tr th:only-of-type {\n",
              "        vertical-align: middle;\n",
              "    }\n",
              "\n",
              "    .dataframe tbody tr th {\n",
              "        vertical-align: top;\n",
              "    }\n",
              "\n",
              "    .dataframe thead th {\n",
              "        text-align: right;\n",
              "    }\n",
              "</style>\n",
              "<table border=\"1\" class=\"dataframe\">\n",
              "  <thead>\n",
              "    <tr style=\"text-align: right;\">\n",
              "      <th></th>\n",
              "      <th>Test True Y</th>\n",
              "      <th>0</th>\n",
              "    </tr>\n",
              "  </thead>\n",
              "  <tbody>\n",
              "    <tr>\n",
              "      <th>0</th>\n",
              "      <td>0.68</td>\n",
              "      <td>0.722311</td>\n",
              "    </tr>\n",
              "    <tr>\n",
              "      <th>1</th>\n",
              "      <td>1.94</td>\n",
              "      <td>1.786115</td>\n",
              "    </tr>\n",
              "    <tr>\n",
              "      <th>2</th>\n",
              "      <td>1.53</td>\n",
              "      <td>1.535005</td>\n",
              "    </tr>\n",
              "    <tr>\n",
              "      <th>3</th>\n",
              "      <td>2.25</td>\n",
              "      <td>1.980132</td>\n",
              "    </tr>\n",
              "    <tr>\n",
              "      <th>4</th>\n",
              "      <td>0.99</td>\n",
              "      <td>1.028936</td>\n",
              "    </tr>\n",
              "    <tr>\n",
              "      <th>...</th>\n",
              "      <td>...</td>\n",
              "      <td>...</td>\n",
              "    </tr>\n",
              "    <tr>\n",
              "      <th>5470</th>\n",
              "      <td>1.12</td>\n",
              "      <td>1.032472</td>\n",
              "    </tr>\n",
              "    <tr>\n",
              "      <th>5471</th>\n",
              "      <td>0.83</td>\n",
              "      <td>0.751198</td>\n",
              "    </tr>\n",
              "    <tr>\n",
              "      <th>5472</th>\n",
              "      <td>1.89</td>\n",
              "      <td>1.707317</td>\n",
              "    </tr>\n",
              "    <tr>\n",
              "      <th>5473</th>\n",
              "      <td>0.96</td>\n",
              "      <td>1.037647</td>\n",
              "    </tr>\n",
              "    <tr>\n",
              "      <th>5474</th>\n",
              "      <td>1.93</td>\n",
              "      <td>1.675659</td>\n",
              "    </tr>\n",
              "  </tbody>\n",
              "</table>\n",
              "<p>5475 rows × 2 columns</p>\n",
              "</div>\n",
              "      <button class=\"colab-df-convert\" onclick=\"convertToInteractive('df-e23902b8-2d61-46eb-a87d-3bd85353f020')\"\n",
              "              title=\"Convert this dataframe to an interactive table.\"\n",
              "              style=\"display:none;\">\n",
              "        \n",
              "  <svg xmlns=\"http://www.w3.org/2000/svg\" height=\"24px\"viewBox=\"0 0 24 24\"\n",
              "       width=\"24px\">\n",
              "    <path d=\"M0 0h24v24H0V0z\" fill=\"none\"/>\n",
              "    <path d=\"M18.56 5.44l.94 2.06.94-2.06 2.06-.94-2.06-.94-.94-2.06-.94 2.06-2.06.94zm-11 1L8.5 8.5l.94-2.06 2.06-.94-2.06-.94L8.5 2.5l-.94 2.06-2.06.94zm10 10l.94 2.06.94-2.06 2.06-.94-2.06-.94-.94-2.06-.94 2.06-2.06.94z\"/><path d=\"M17.41 7.96l-1.37-1.37c-.4-.4-.92-.59-1.43-.59-.52 0-1.04.2-1.43.59L10.3 9.45l-7.72 7.72c-.78.78-.78 2.05 0 2.83L4 21.41c.39.39.9.59 1.41.59.51 0 1.02-.2 1.41-.59l7.78-7.78 2.81-2.81c.8-.78.8-2.07 0-2.86zM5.41 20L4 18.59l7.72-7.72 1.47 1.35L5.41 20z\"/>\n",
              "  </svg>\n",
              "      </button>\n",
              "      \n",
              "  <style>\n",
              "    .colab-df-container {\n",
              "      display:flex;\n",
              "      flex-wrap:wrap;\n",
              "      gap: 12px;\n",
              "    }\n",
              "\n",
              "    .colab-df-convert {\n",
              "      background-color: #E8F0FE;\n",
              "      border: none;\n",
              "      border-radius: 50%;\n",
              "      cursor: pointer;\n",
              "      display: none;\n",
              "      fill: #1967D2;\n",
              "      height: 32px;\n",
              "      padding: 0 0 0 0;\n",
              "      width: 32px;\n",
              "    }\n",
              "\n",
              "    .colab-df-convert:hover {\n",
              "      background-color: #E2EBFA;\n",
              "      box-shadow: 0px 1px 2px rgba(60, 64, 67, 0.3), 0px 1px 3px 1px rgba(60, 64, 67, 0.15);\n",
              "      fill: #174EA6;\n",
              "    }\n",
              "\n",
              "    [theme=dark] .colab-df-convert {\n",
              "      background-color: #3B4455;\n",
              "      fill: #D2E3FC;\n",
              "    }\n",
              "\n",
              "    [theme=dark] .colab-df-convert:hover {\n",
              "      background-color: #434B5C;\n",
              "      box-shadow: 0px 1px 3px 1px rgba(0, 0, 0, 0.15);\n",
              "      filter: drop-shadow(0px 1px 2px rgba(0, 0, 0, 0.3));\n",
              "      fill: #FFFFFF;\n",
              "    }\n",
              "  </style>\n",
              "\n",
              "      <script>\n",
              "        const buttonEl =\n",
              "          document.querySelector('#df-e23902b8-2d61-46eb-a87d-3bd85353f020 button.colab-df-convert');\n",
              "        buttonEl.style.display =\n",
              "          google.colab.kernel.accessAllowed ? 'block' : 'none';\n",
              "\n",
              "        async function convertToInteractive(key) {\n",
              "          const element = document.querySelector('#df-e23902b8-2d61-46eb-a87d-3bd85353f020');\n",
              "          const dataTable =\n",
              "            await google.colab.kernel.invokeFunction('convertToInteractive',\n",
              "                                                     [key], {});\n",
              "          if (!dataTable) return;\n",
              "\n",
              "          const docLinkHtml = 'Like what you see? Visit the ' +\n",
              "            '<a target=\"_blank\" href=https://colab.research.google.com/notebooks/data_table.ipynb>data table notebook</a>'\n",
              "            + ' to learn more about interactive tables.';\n",
              "          element.innerHTML = '';\n",
              "          dataTable['output_type'] = 'display_data';\n",
              "          await google.colab.output.renderOutput(dataTable, element);\n",
              "          const docLink = document.createElement('div');\n",
              "          docLink.innerHTML = docLinkHtml;\n",
              "          element.appendChild(docLink);\n",
              "        }\n",
              "      </script>\n",
              "    </div>\n",
              "  </div>\n",
              "  "
            ]
          },
          "metadata": {},
          "execution_count": 108
        }
      ]
    },
    {
      "cell_type": "code",
      "source": [
        "pred_df.columns = ['Test True Y', 'Model Predictions']"
      ],
      "metadata": {
        "id": "RNFFAY3sD9cy"
      },
      "execution_count": 109,
      "outputs": []
    },
    {
      "cell_type": "code",
      "source": [
        "sns.scatterplot(x='Test True Y', y='Model Predictions', data=pred_df)"
      ],
      "metadata": {
        "colab": {
          "base_uri": "https://localhost:8080/",
          "height": 296
        },
        "id": "IQN-ldI2EEDC",
        "outputId": "b24280d1-2f9a-454a-c779-b5eb040f6580"
      },
      "execution_count": 110,
      "outputs": [
        {
          "output_type": "execute_result",
          "data": {
            "text/plain": [
              "<matplotlib.axes._subplots.AxesSubplot at 0x7fb54ea68050>"
            ]
          },
          "metadata": {},
          "execution_count": 110
        },
        {
          "output_type": "display_data",
          "data": {
            "text/plain": [
              "<Figure size 432x288 with 1 Axes>"
            ],
            "image/png": "[encoded data removed]"
          },
          "metadata": {
            "needs_background": "light"
          }
        }
      ]
    },
    {
      "cell_type": "code",
      "source": [
        "from sklearn.metrics import mean_absolute_error, mean_squared_error"
      ],
      "metadata": {
        "id": "wzavaSX4EFla"
      },
      "execution_count": 111,
      "outputs": []
    },
    {
      "cell_type": "code",
      "source": [
        "mean_absolute_error(pred_df['Test True Y'],pred_df['Model Predictions'])"
      ],
      "metadata": {
        "colab": {
          "base_uri": "https://localhost:8080/"
        },
        "id": "yZjGQVdeENTq",
        "outputId": "efae3396-1dfe-4c9c-9f45-0949eb87c8f4"
      },
      "execution_count": 112,
      "outputs": [
        {
          "output_type": "execute_result",
          "data": {
            "text/plain": [
              "0.14593832454812036"
            ]
          },
          "metadata": {},
          "execution_count": 112
        }
      ]
    },
    {
      "cell_type": "code",
      "source": [
        "mean_squared_error(pred_df['Test True Y'], pred_df['Model Predictions'])**0.5"
      ],
      "metadata": {
        "colab": {
          "base_uri": "https://localhost:8080/"
        },
        "id": "zbDzeB-gEOWa",
        "outputId": "78e4aad7-2e12-484f-a84c-254cc948b0bf"
      },
      "execution_count": 113,
      "outputs": [
        {
          "output_type": "execute_result",
          "data": {
            "text/plain": [
              "0.1993928627806186"
            ]
          },
          "metadata": {},
          "execution_count": 113
        }
      ]
    },
    {
      "cell_type": "code",
      "source": [
        "from sklearn.linear_model import LinearRegression"
      ],
      "metadata": {
        "id": "hodh6HV3EQor"
      },
      "execution_count": 88,
      "outputs": []
    },
    {
      "cell_type": "code",
      "source": [
        "regressor = LinearRegression()\n",
        "regressor.fit(X_test, y_test)"
      ],
      "metadata": {
        "colab": {
          "base_uri": "https://localhost:8080/"
        },
        "id": "ZleFjFr8EpJ6",
        "outputId": "2fd86ba9-c03b-48ed-a19c-9fbdb934db6e"
      },
      "execution_count": 89,
      "outputs": [
        {
          "output_type": "execute_result",
          "data": {
            "text/plain": [
              "LinearRegression()"
            ]
          },
          "metadata": {},
          "execution_count": 89
        }
      ]
    },
    {
      "cell_type": "code",
      "execution_count": 93,
      "metadata": {
        "id": "eGBViUawE1To"
      },
      "outputs": [],
      "source": [
        "test_predictions = regressor.predict(X_test)"
      ]
    },
    {
      "cell_type": "code",
      "execution_count": 94,
      "metadata": {
        "colab": {
          "base_uri": "https://localhost:8080/"
        },
        "outputId": "2d2a4ee2-7fbb-4a34-f489-6c85a2204fb9",
        "id": "8A9uSa7zE1Tp"
      },
      "outputs": [
        {
          "output_type": "execute_result",
          "data": {
            "text/plain": [
              "5475"
            ]
          },
          "metadata": {},
          "execution_count": 94
        }
      ],
      "source": [
        "len(test_predictions)"
      ]
    },
    {
      "cell_type": "code",
      "source": [
        "test_predictions = pd.Series(test_predictions.reshape(5475,))\n",
        "test_predictions"
      ],
      "metadata": {
        "colab": {
          "base_uri": "https://localhost:8080/"
        },
        "outputId": "8c5f31c8-77d1-4446-e6aa-273f1b3d67d9",
        "id": "Haj-snVFE1Tq"
      },
      "execution_count": 95,
      "outputs": [
        {
          "output_type": "execute_result",
          "data": {
            "text/plain": [
              "0       1.015061\n",
              "1       1.642592\n",
              "2       1.551254\n",
              "3       1.867117\n",
              "4       1.302088\n",
              "          ...   \n",
              "5470    1.253755\n",
              "5471    0.816082\n",
              "5472    1.784951\n",
              "5473    1.174865\n",
              "5474    1.787473\n",
              "Length: 5475, dtype: float64"
            ]
          },
          "metadata": {},
          "execution_count": 95
        }
      ]
    },
    {
      "cell_type": "code",
      "source": [
        "pred_df = pd.DataFrame(y_test, columns=['Test True Y'])"
      ],
      "metadata": {
        "id": "WW6RQBj8E1Tq"
      },
      "execution_count": 96,
      "outputs": []
    },
    {
      "cell_type": "code",
      "source": [
        "pred_df = pd.concat([pred_df, test_predictions], axis=1)\n",
        "pred_df"
      ],
      "metadata": {
        "colab": {
          "base_uri": "https://localhost:8080/",
          "height": 424
        },
        "outputId": "7274950b-ee5c-4005-accb-8d127cb72d04",
        "id": "0Fu1YI48E1Tq"
      },
      "execution_count": 97,
      "outputs": [
        {
          "output_type": "execute_result",
          "data": {
            "text/plain": [
              "      Test True Y         0\n",
              "0            0.68  1.015061\n",
              "1            1.94  1.642592\n",
              "2            1.53  1.551254\n",
              "3            2.25  1.867117\n",
              "4            0.99  1.302088\n",
              "...           ...       ...\n",
              "5470         1.12  1.253755\n",
              "5471         0.83  0.816082\n",
              "5472         1.89  1.784951\n",
              "5473         0.96  1.174865\n",
              "5474         1.93  1.787473\n",
              "\n",
              "[5475 rows x 2 columns]"
            ],
            "text/html": [
              "\n",
              "  <div id=\"df-d63548b5-4f62-4e67-8419-49ab2448d2b2\">\n",
              "    <div class=\"colab-df-container\">\n",
              "      <div>\n",
              "<style scoped>\n",
              "    .dataframe tbody tr th:only-of-type {\n",
              "        vertical-align: middle;\n",
              "    }\n",
              "\n",
              "    .dataframe tbody tr th {\n",
              "        vertical-align: top;\n",
              "    }\n",
              "\n",
              "    .dataframe thead th {\n",
              "        text-align: right;\n",
              "    }\n",
              "</style>\n",
              "<table border=\"1\" class=\"dataframe\">\n",
              "  <thead>\n",
              "    <tr style=\"text-align: right;\">\n",
              "      <th></th>\n",
              "      <th>Test True Y</th>\n",
              "      <th>0</th>\n",
              "    </tr>\n",
              "  </thead>\n",
              "  <tbody>\n",
              "    <tr>\n",
              "      <th>0</th>\n",
              "      <td>0.68</td>\n",
              "      <td>1.015061</td>\n",
              "    </tr>\n",
              "    <tr>\n",
              "      <th>1</th>\n",
              "      <td>1.94</td>\n",
              "      <td>1.642592</td>\n",
              "    </tr>\n",
              "    <tr>\n",
              "      <th>2</th>\n",
              "      <td>1.53</td>\n",
              "      <td>1.551254</td>\n",
              "    </tr>\n",
              "    <tr>\n",
              "      <th>3</th>\n",
              "      <td>2.25</td>\n",
              "      <td>1.867117</td>\n",
              "    </tr>\n",
              "    <tr>\n",
              "      <th>4</th>\n",
              "      <td>0.99</td>\n",
              "      <td>1.302088</td>\n",
              "    </tr>\n",
              "    <tr>\n",
              "      <th>...</th>\n",
              "      <td>...</td>\n",
              "      <td>...</td>\n",
              "    </tr>\n",
              "    <tr>\n",
              "      <th>5470</th>\n",
              "      <td>1.12</td>\n",
              "      <td>1.253755</td>\n",
              "    </tr>\n",
              "    <tr>\n",
              "      <th>5471</th>\n",
              "      <td>0.83</td>\n",
              "      <td>0.816082</td>\n",
              "    </tr>\n",
              "    <tr>\n",
              "      <th>5472</th>\n",
              "      <td>1.89</td>\n",
              "      <td>1.784951</td>\n",
              "    </tr>\n",
              "    <tr>\n",
              "      <th>5473</th>\n",
              "      <td>0.96</td>\n",
              "      <td>1.174865</td>\n",
              "    </tr>\n",
              "    <tr>\n",
              "      <th>5474</th>\n",
              "      <td>1.93</td>\n",
              "      <td>1.787473</td>\n",
              "    </tr>\n",
              "  </tbody>\n",
              "</table>\n",
              "<p>5475 rows × 2 columns</p>\n",
              "</div>\n",
              "      <button class=\"colab-df-convert\" onclick=\"convertToInteractive('df-d63548b5-4f62-4e67-8419-49ab2448d2b2')\"\n",
              "              title=\"Convert this dataframe to an interactive table.\"\n",
              "              style=\"display:none;\">\n",
              "        \n",
              "  <svg xmlns=\"http://www.w3.org/2000/svg\" height=\"24px\"viewBox=\"0 0 24 24\"\n",
              "       width=\"24px\">\n",
              "    <path d=\"M0 0h24v24H0V0z\" fill=\"none\"/>\n",
              "    <path d=\"M18.56 5.44l.94 2.06.94-2.06 2.06-.94-2.06-.94-.94-2.06-.94 2.06-2.06.94zm-11 1L8.5 8.5l.94-2.06 2.06-.94-2.06-.94L8.5 2.5l-.94 2.06-2.06.94zm10 10l.94 2.06.94-2.06 2.06-.94-2.06-.94-.94-2.06-.94 2.06-2.06.94z\"/><path d=\"M17.41 7.96l-1.37-1.37c-.4-.4-.92-.59-1.43-.59-.52 0-1.04.2-1.43.59L10.3 9.45l-7.72 7.72c-.78.78-.78 2.05 0 2.83L4 21.41c.39.39.9.59 1.41.59.51 0 1.02-.2 1.41-.59l7.78-7.78 2.81-2.81c.8-.78.8-2.07 0-2.86zM5.41 20L4 18.59l7.72-7.72 1.47 1.35L5.41 20z\"/>\n",
              "  </svg>\n",
              "      </button>\n",
              "      \n",
              "  <style>\n",
              "    .colab-df-container {\n",
              "      display:flex;\n",
              "      flex-wrap:wrap;\n",
              "      gap: 12px;\n",
              "    }\n",
              "\n",
              "    .colab-df-convert {\n",
              "      background-color: #E8F0FE;\n",
              "      border: none;\n",
              "      border-radius: 50%;\n",
              "      cursor: pointer;\n",
              "      display: none;\n",
              "      fill: #1967D2;\n",
              "      height: 32px;\n",
              "      padding: 0 0 0 0;\n",
              "      width: 32px;\n",
              "    }\n",
              "\n",
              "    .colab-df-convert:hover {\n",
              "      background-color: #E2EBFA;\n",
              "      box-shadow: 0px 1px 2px rgba(60, 64, 67, 0.3), 0px 1px 3px 1px rgba(60, 64, 67, 0.15);\n",
              "      fill: #174EA6;\n",
              "    }\n",
              "\n",
              "    [theme=dark] .colab-df-convert {\n",
              "      background-color: #3B4455;\n",
              "      fill: #D2E3FC;\n",
              "    }\n",
              "\n",
              "    [theme=dark] .colab-df-convert:hover {\n",
              "      background-color: #434B5C;\n",
              "      box-shadow: 0px 1px 3px 1px rgba(0, 0, 0, 0.15);\n",
              "      filter: drop-shadow(0px 1px 2px rgba(0, 0, 0, 0.3));\n",
              "      fill: #FFFFFF;\n",
              "    }\n",
              "  </style>\n",
              "\n",
              "      <script>\n",
              "        const buttonEl =\n",
              "          document.querySelector('#df-d63548b5-4f62-4e67-8419-49ab2448d2b2 button.colab-df-convert');\n",
              "        buttonEl.style.display =\n",
              "          google.colab.kernel.accessAllowed ? 'block' : 'none';\n",
              "\n",
              "        async function convertToInteractive(key) {\n",
              "          const element = document.querySelector('#df-d63548b5-4f62-4e67-8419-49ab2448d2b2');\n",
              "          const dataTable =\n",
              "            await google.colab.kernel.invokeFunction('convertToInteractive',\n",
              "                                                     [key], {});\n",
              "          if (!dataTable) return;\n",
              "\n",
              "          const docLinkHtml = 'Like what you see? Visit the ' +\n",
              "            '<a target=\"_blank\" href=https://colab.research.google.com/notebooks/data_table.ipynb>data table notebook</a>'\n",
              "            + ' to learn more about interactive tables.';\n",
              "          element.innerHTML = '';\n",
              "          dataTable['output_type'] = 'display_data';\n",
              "          await google.colab.output.renderOutput(dataTable, element);\n",
              "          const docLink = document.createElement('div');\n",
              "          docLink.innerHTML = docLinkHtml;\n",
              "          element.appendChild(docLink);\n",
              "        }\n",
              "      </script>\n",
              "    </div>\n",
              "  </div>\n",
              "  "
            ]
          },
          "metadata": {},
          "execution_count": 97
        }
      ]
    },
    {
      "cell_type": "code",
      "source": [
        "pred_df.columns = ['Test True Y', 'Model Predictions']"
      ],
      "metadata": {
        "id": "V9NIWL7aE1Tr"
      },
      "execution_count": 98,
      "outputs": []
    },
    {
      "cell_type": "code",
      "source": [
        "sns.scatterplot(x='Test True Y', y='Model Predictions', data=pred_df)"
      ],
      "metadata": {
        "colab": {
          "base_uri": "https://localhost:8080/",
          "height": 296
        },
        "outputId": "9bb265c0-3df9-4d6a-a8c9-977d53e9c277",
        "id": "YG4ziQxYE1Tr"
      },
      "execution_count": 99,
      "outputs": [
        {
          "output_type": "execute_result",
          "data": {
            "text/plain": [
              "<matplotlib.axes._subplots.AxesSubplot at 0x7fb54ec06990>"
            ]
          },
          "metadata": {},
          "execution_count": 99
        },
        {
          "output_type": "display_data",
          "data": {
            "text/plain": [
              "<Figure size 432x288 with 1 Axes>"
            ],
            "image/png": "[encoded data removed]"
          },
          "metadata": {
            "needs_background": "light"
          }
        }
      ]
    },
    {
      "cell_type": "code",
      "source": [
        "mean_absolute_error(pred_df['Test True Y'],pred_df['Model Predictions'])"
      ],
      "metadata": {
        "colab": {
          "base_uri": "https://localhost:8080/"
        },
        "id": "oq9X7uyHE9oa",
        "outputId": "dddb5992-6340-4c42-efea-97952ce27d27"
      },
      "execution_count": 100,
      "outputs": [
        {
          "output_type": "execute_result",
          "data": {
            "text/plain": [
              "0.1966092199262178"
            ]
          },
          "metadata": {},
          "execution_count": 100
        }
      ]
    },
    {
      "cell_type": "code",
      "source": [
        "mean_squared_error(pred_df['Test True Y'], pred_df['Model Predictions'])**0.5"
      ],
      "metadata": {
        "colab": {
          "base_uri": "https://localhost:8080/"
        },
        "id": "Zwlk6HyaFClS",
        "outputId": "e5dab801-32d7-462c-a6c9-60aae7ba38fa"
      },
      "execution_count": 101,
      "outputs": [
        {
          "output_type": "execute_result",
          "data": {
            "text/plain": [
              "0.2602456395130635"
            ]
          },
          "metadata": {},
          "execution_count": 101
        }
      ]
    },
    {
      "cell_type": "code",
      "source": [
        ""
      ],
      "metadata": {
        "id": "C6nnwpu3FEua"
      },
      "execution_count": null,
      "outputs": []
    }
  ],
  "metadata": {
    "colab": {
      "collapsed_sections": [],
      "name": "Avocado.ipynb",
      "provenance": [],
      "mount_file_id": "1AprZ9vhEYrutdFgeY3XOcqlUmFZT77kc",
      "authorship_tag": "ABX9TyPSNgeBlu1gZvEwGL9AIa9b",
      "include_colab_link": true
    },
    "kernelspec": {
      "display_name": "Python 3",
      "name": "python3"
    },
    "language_info": {
      "name": "python"
    }
  },
  "nbformat": 4,
  "nbformat_minor": 0
}