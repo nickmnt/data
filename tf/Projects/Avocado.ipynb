{
  "cells": [
    {
      "cell_type": "markdown",
      "metadata": {
        "id": "view-in-github",
        "colab_type": "text"
      },
      "source": [
        "<a href=\"https://colab.research.google.com/github/nimamt/machine_learning/blob/master/tf/Projects/Avocado.ipynb\" target=\"_parent\"><img src=\"https://colab.research.google.com/assets/colab-badge.svg\" alt=\"Open In Colab\"/></a>"
      ]
    },
    {
      "cell_type": "code",
      "execution_count": null,
      "metadata": {
        "id": "lHjotOWT17wz"
      },
      "outputs": [],
      "source": [
        "import numpy as np\n",
        "import pandas as pd\n",
        "import matplotlib.pyplot as plt\n",
        "import seaborn as sns\n",
        "\n",
        "%matplotlib inline"
      ]
    },
    {
      "cell_type": "code",
      "execution_count": null,
      "metadata": {
        "colab": {
          "base_uri": "https://localhost:8080/"
        },
        "id": "u57RRP752Baa",
        "outputId": "119b47fd-e077-45d6-b1a8-f46bd44b3bba"
      },
      "outputs": [
        {
          "name": "stdout",
          "output_type": "stream",
          "text": [
            "Requirement already satisfied: kaggle in /usr/local/lib/python3.7/dist-packages (1.5.12)\n",
            "Requirement already satisfied: tqdm in /usr/local/lib/python3.7/dist-packages (from kaggle) (4.64.0)\n",
            "Requirement already satisfied: urllib3 in /usr/local/lib/python3.7/dist-packages (from kaggle) (1.24.3)\n",
            "Requirement already satisfied: python-dateutil in /usr/local/lib/python3.7/dist-packages (from kaggle) (2.8.2)\n",
            "Requirement already satisfied: certifi in /usr/local/lib/python3.7/dist-packages (from kaggle) (2021.10.8)\n",
            "Requirement already satisfied: six>=1.10 in /usr/local/lib/python3.7/dist-packages (from kaggle) (1.15.0)\n",
            "Requirement already satisfied: requests in /usr/local/lib/python3.7/dist-packages (from kaggle) (2.23.0)\n",
            "Requirement already satisfied: python-slugify in /usr/local/lib/python3.7/dist-packages (from kaggle) (6.1.2)\n",
            "Requirement already satisfied: text-unidecode>=1.3 in /usr/local/lib/python3.7/dist-packages (from python-slugify->kaggle) (1.3)\n",
            "Requirement already satisfied: idna<3,>=2.5 in /usr/local/lib/python3.7/dist-packages (from requests->kaggle) (2.10)\n",
            "Requirement already satisfied: chardet<4,>=3.0.2 in /usr/local/lib/python3.7/dist-packages (from requests->kaggle) (3.0.4)\n",
            "mkdir: cannot create directory ‘/root/.kaggle’: File exists\n"
          ]
        }
      ],
      "source": [
        "! pip install kaggle\n",
        "! mkdir ~/.kaggle\n",
        "!cp /content/drive/MyDrive/kaggle.json ~/.kaggle/kaggle.json\n",
        "! chmod 600 ~/.kaggle/kaggle.json"
      ]
    },
    {
      "cell_type": "code",
      "execution_count": null,
      "metadata": {
        "colab": {
          "base_uri": "https://localhost:8080/"
        },
        "id": "vs1ZzaeVokSY",
        "outputId": "db089b79-1281-4e8f-ab8e-830cef5efc9b"
      },
      "outputs": [
        {
          "name": "stdout",
          "output_type": "stream",
          "text": [
            "ref                                                                            title                                             size  lastUpdated          downloadCount  voteCount  usabilityRating  \n",
            "-----------------------------------------------------------------------------  -----------------------------------------------  -----  -------------------  -------------  ---------  ---------------  \n",
            "datasets/muratkokludataset/date-fruit-datasets                                 Date Fruit Datasets                              408KB  2022-04-03 09:25:39           4264        702  0.9375           \n",
            "datasets/muratkokludataset/acoustic-extinguisher-fire-dataset                  Acoustic Extinguisher Fire Dataset               621KB  2022-04-02 22:59:36            644        621  0.9375           \n",
            "datasets/muratkokludataset/pistachio-dataset                                   Pistachio Dataset                                  2MB  2022-04-03 08:38:21            399        538  0.9375           \n",
            "datasets/muratkokludataset/raisin-dataset                                      Raisin Dataset                                   112KB  2022-04-03 00:23:16            284        514  0.9375           \n",
            "datasets/mdmahmudulhasansuzan/students-adaptability-level-in-online-education  Students Adaptability Level in Online Education    6KB  2022-04-16 04:46:28           2564         67  1.0              \n",
            "datasets/muratkokludataset/pistachio-image-dataset                             Pistachio Image Dataset                           27MB  2022-03-28 18:01:27            231        567  0.9375           \n",
            "datasets/muratkokludataset/grapevine-leaves-image-dataset                      Grapevine Leaves Image Dataset                   109MB  2022-04-03 09:00:54             81        549  0.875            \n",
            "datasets/muratkokludataset/dry-bean-dataset                                    Dry Bean Dataset                                   5MB  2022-04-02 23:19:30            232        519  0.875            \n",
            "datasets/muratkokludataset/pumpkin-seeds-dataset                               Pumpkin Seeds Dataset                            393KB  2022-03-28 18:28:16            302        515  0.9375           \n",
            "datasets/muratkokludataset/durum-wheat-dataset                                 Durum Wheat Dataset                              983MB  2022-04-03 00:02:29             55        523  0.875            \n",
            "datasets/muratkokludataset/rice-msc-dataset                                    Rice MSC Dataset                                 102MB  2022-04-03 01:33:52            132        510  0.875            \n",
            "datasets/muratkokludataset/rice-dataset-commeo-and-osmancik                    Rice Dataset Commeo and Osmancik                 524KB  2022-04-03 00:40:03             68        503  0.875            \n",
            "datasets/muhmores/spotify-top-100-songs-of-20152019                            Spotify Top 100 Songs of 2010-2019               139KB  2022-04-09 06:35:36           3242         76  0.88235295       \n",
            "datasets/ramjasmaurya/aviation-accidents-history1919-april-2022                Air Disasters(1919- April 2022)                  667KB  2022-04-25 18:10:20            548         31  1.0              \n",
            "datasets/rinichristy/covid19-coronavirus-pandemic                              COVID-19 Coronavirus Pandemic                      9KB  2022-04-05 08:43:16           1926         41  1.0              \n",
            "datasets/aslanahmedov/walmart-sales-forecast                                   Walmart Sales Forecast                             3MB  2022-04-21 05:28:20           1265         39  1.0              \n",
            "datasets/brandonconrady/covid19-vaccine-articles                               COVID-19 Vaccine Articles                         54KB  2022-04-28 05:22:45            225         26  1.0              \n",
            "datasets/rupakroy/online-payments-fraud-detection-dataset                      Online Payments Fraud Detection Dataset          178MB  2022-04-17 15:34:44            982         25  0.9705882        \n",
            "datasets/samuelcortinhas/credit-card-approval-clean-data                       Credit Card Approvals (Clean Data)                19KB  2022-04-25 15:52:35           1061         30  1.0              \n",
            "datasets/alexandrparkhomenko/top-apps-in-google-play                           Top Apps in Google Play                            3KB  2022-04-29 05:16:34            447         27  1.0              \n"
          ]
        }
      ],
      "source": [
        "!kaggle datasets list"
      ]
    },
    {
      "cell_type": "code",
      "execution_count": null,
      "metadata": {
        "colab": {
          "base_uri": "https://localhost:8080/"
        },
        "id": "ivV1DmMaotWv",
        "outputId": "5d691d4b-7e55-4302-ab53-0c61caf01d84"
      },
      "outputs": [
        {
          "name": "stdout",
          "output_type": "stream",
          "text": [
            "avocado-prices.zip: Skipping, found more recently modified local copy (use --force to force download)\n"
          ]
        }
      ],
      "source": [
        "! kaggle datasets download neuromusic/avocado-prices"
      ]
    },
    {
      "cell_type": "code",
      "execution_count": null,
      "metadata": {
        "colab": {
          "base_uri": "https://localhost:8080/"
        },
        "id": "pxJzSd_Ko6pv",
        "outputId": "05541ad3-26ec-472a-d05a-4d7b6379d6ac"
      },
      "outputs": [
        {
          "name": "stdout",
          "output_type": "stream",
          "text": [
            "Archive:  avocado-prices.zip\n",
            "replace avocado.csv? [y]es, [n]o, [A]ll, [N]one, [r]ename: n\n"
          ]
        }
      ],
      "source": [
        "! unzip avocado-prices.zip"
      ]
    },
    {
      "cell_type": "code",
      "execution_count": null,
      "metadata": {
        "id": "uPGDoZR_3VKm"
      },
      "outputs": [],
      "source": [
        ""
      ]
    },
    {
      "cell_type": "code",
      "execution_count": null,
      "metadata": {
        "id": "wfC1kMuro9Ef"
      },
      "outputs": [],
      "source": [
        "df = pd.read_csv('/content/avocado.csv')"
      ]
    },
    {
      "cell_type": "code",
      "execution_count": null,
      "metadata": {
        "colab": {
          "base_uri": "https://localhost:8080/",
          "height": 354
        },
        "id": "GDLnfooVpm1w",
        "outputId": "38c10f83-29e6-462e-b2e8-ddac623cf4a1"
      },
      "outputs": [
        {
          "data": {
            "text/html": [
              "\n",
              "  <div id=\"df-69831451-237d-4979-b8fe-cb5f10fd0715\">\n",
              "    <div class=\"colab-df-container\">\n",
              "      <div>\n",
              "<style scoped>\n",
              "    .dataframe tbody tr th:only-of-type {\n",
              "        vertical-align: middle;\n",
              "    }\n",
              "\n",
              "    .dataframe tbody tr th {\n",
              "        vertical-align: top;\n",
              "    }\n",
              "\n",
              "    .dataframe thead th {\n",
              "        text-align: right;\n",
              "    }\n",
              "</style>\n",
              "<table border=\"1\" class=\"dataframe\">\n",
              "  <thead>\n",
              "    <tr style=\"text-align: right;\">\n",
              "      <th></th>\n",
              "      <th>Unnamed: 0</th>\n",
              "      <th>Date</th>\n",
              "      <th>AveragePrice</th>\n",
              "      <th>Total Volume</th>\n",
              "      <th>4046</th>\n",
              "      <th>4225</th>\n",
              "      <th>4770</th>\n",
              "      <th>Total Bags</th>\n",
              "      <th>Small Bags</th>\n",
              "      <th>Large Bags</th>\n",
              "      <th>XLarge Bags</th>\n",
              "      <th>type</th>\n",
              "      <th>year</th>\n",
              "      <th>region</th>\n",
              "    </tr>\n",
              "  </thead>\n",
              "  <tbody>\n",
              "    <tr>\n",
              "      <th>0</th>\n",
              "      <td>0</td>\n",
              "      <td>2015-12-27</td>\n",
              "      <td>1.33</td>\n",
              "      <td>64236.62</td>\n",
              "      <td>1036.74</td>\n",
              "      <td>54454.85</td>\n",
              "      <td>48.16</td>\n",
              "      <td>8696.87</td>\n",
              "      <td>8603.62</td>\n",
              "      <td>93.25</td>\n",
              "      <td>0.0</td>\n",
              "      <td>conventional</td>\n",
              "      <td>2015</td>\n",
              "      <td>Albany</td>\n",
              "    </tr>\n",
              "    <tr>\n",
              "      <th>1</th>\n",
              "      <td>1</td>\n",
              "      <td>2015-12-20</td>\n",
              "      <td>1.35</td>\n",
              "      <td>54876.98</td>\n",
              "      <td>674.28</td>\n",
              "      <td>44638.81</td>\n",
              "      <td>58.33</td>\n",
              "      <td>9505.56</td>\n",
              "      <td>9408.07</td>\n",
              "      <td>97.49</td>\n",
              "      <td>0.0</td>\n",
              "      <td>conventional</td>\n",
              "      <td>2015</td>\n",
              "      <td>Albany</td>\n",
              "    </tr>\n",
              "    <tr>\n",
              "      <th>2</th>\n",
              "      <td>2</td>\n",
              "      <td>2015-12-13</td>\n",
              "      <td>0.93</td>\n",
              "      <td>118220.22</td>\n",
              "      <td>794.70</td>\n",
              "      <td>109149.67</td>\n",
              "      <td>130.50</td>\n",
              "      <td>8145.35</td>\n",
              "      <td>8042.21</td>\n",
              "      <td>103.14</td>\n",
              "      <td>0.0</td>\n",
              "      <td>conventional</td>\n",
              "      <td>2015</td>\n",
              "      <td>Albany</td>\n",
              "    </tr>\n",
              "    <tr>\n",
              "      <th>3</th>\n",
              "      <td>3</td>\n",
              "      <td>2015-12-06</td>\n",
              "      <td>1.08</td>\n",
              "      <td>78992.15</td>\n",
              "      <td>1132.00</td>\n",
              "      <td>71976.41</td>\n",
              "      <td>72.58</td>\n",
              "      <td>5811.16</td>\n",
              "      <td>5677.40</td>\n",
              "      <td>133.76</td>\n",
              "      <td>0.0</td>\n",
              "      <td>conventional</td>\n",
              "      <td>2015</td>\n",
              "      <td>Albany</td>\n",
              "    </tr>\n",
              "    <tr>\n",
              "      <th>4</th>\n",
              "      <td>4</td>\n",
              "      <td>2015-11-29</td>\n",
              "      <td>1.28</td>\n",
              "      <td>51039.60</td>\n",
              "      <td>941.48</td>\n",
              "      <td>43838.39</td>\n",
              "      <td>75.78</td>\n",
              "      <td>6183.95</td>\n",
              "      <td>5986.26</td>\n",
              "      <td>197.69</td>\n",
              "      <td>0.0</td>\n",
              "      <td>conventional</td>\n",
              "      <td>2015</td>\n",
              "      <td>Albany</td>\n",
              "    </tr>\n",
              "  </tbody>\n",
              "</table>\n",
              "</div>\n",
              "      <button class=\"colab-df-convert\" onclick=\"convertToInteractive('df-69831451-237d-4979-b8fe-cb5f10fd0715')\"\n",
              "              title=\"Convert this dataframe to an interactive table.\"\n",
              "              style=\"display:none;\">\n",
              "        \n",
              "  <svg xmlns=\"http://www.w3.org/2000/svg\" height=\"24px\"viewBox=\"0 0 24 24\"\n",
              "       width=\"24px\">\n",
              "    <path d=\"M0 0h24v24H0V0z\" fill=\"none\"/>\n",
              "    <path d=\"M18.56 5.44l.94 2.06.94-2.06 2.06-.94-2.06-.94-.94-2.06-.94 2.06-2.06.94zm-11 1L8.5 8.5l.94-2.06 2.06-.94-2.06-.94L8.5 2.5l-.94 2.06-2.06.94zm10 10l.94 2.06.94-2.06 2.06-.94-2.06-.94-.94-2.06-.94 2.06-2.06.94z\"/><path d=\"M17.41 7.96l-1.37-1.37c-.4-.4-.92-.59-1.43-.59-.52 0-1.04.2-1.43.59L10.3 9.45l-7.72 7.72c-.78.78-.78 2.05 0 2.83L4 21.41c.39.39.9.59 1.41.59.51 0 1.02-.2 1.41-.59l7.78-7.78 2.81-2.81c.8-.78.8-2.07 0-2.86zM5.41 20L4 18.59l7.72-7.72 1.47 1.35L5.41 20z\"/>\n",
              "  </svg>\n",
              "      </button>\n",
              "      \n",
              "  <style>\n",
              "    .colab-df-container {\n",
              "      display:flex;\n",
              "      flex-wrap:wrap;\n",
              "      gap: 12px;\n",
              "    }\n",
              "\n",
              "    .colab-df-convert {\n",
              "      background-color: #E8F0FE;\n",
              "      border: none;\n",
              "      border-radius: 50%;\n",
              "      cursor: pointer;\n",
              "      display: none;\n",
              "      fill: #1967D2;\n",
              "      height: 32px;\n",
              "      padding: 0 0 0 0;\n",
              "      width: 32px;\n",
              "    }\n",
              "\n",
              "    .colab-df-convert:hover {\n",
              "      background-color: #E2EBFA;\n",
              "      box-shadow: 0px 1px 2px rgba(60, 64, 67, 0.3), 0px 1px 3px 1px rgba(60, 64, 67, 0.15);\n",
              "      fill: #174EA6;\n",
              "    }\n",
              "\n",
              "    [theme=dark] .colab-df-convert {\n",
              "      background-color: #3B4455;\n",
              "      fill: #D2E3FC;\n",
              "    }\n",
              "\n",
              "    [theme=dark] .colab-df-convert:hover {\n",
              "      background-color: #434B5C;\n",
              "      box-shadow: 0px 1px 3px 1px rgba(0, 0, 0, 0.15);\n",
              "      filter: drop-shadow(0px 1px 2px rgba(0, 0, 0, 0.3));\n",
              "      fill: #FFFFFF;\n",
              "    }\n",
              "  </style>\n",
              "\n",
              "      <script>\n",
              "        const buttonEl =\n",
              "          document.querySelector('#df-69831451-237d-4979-b8fe-cb5f10fd0715 button.colab-df-convert');\n",
              "        buttonEl.style.display =\n",
              "          google.colab.kernel.accessAllowed ? 'block' : 'none';\n",
              "\n",
              "        async function convertToInteractive(key) {\n",
              "          const element = document.querySelector('#df-69831451-237d-4979-b8fe-cb5f10fd0715');\n",
              "          const dataTable =\n",
              "            await google.colab.kernel.invokeFunction('convertToInteractive',\n",
              "                                                     [key], {});\n",
              "          if (!dataTable) return;\n",
              "\n",
              "          const docLinkHtml = 'Like what you see? Visit the ' +\n",
              "            '<a target=\"_blank\" href=https://colab.research.google.com/notebooks/data_table.ipynb>data table notebook</a>'\n",
              "            + ' to learn more about interactive tables.';\n",
              "          element.innerHTML = '';\n",
              "          dataTable['output_type'] = 'display_data';\n",
              "          await google.colab.output.renderOutput(dataTable, element);\n",
              "          const docLink = document.createElement('div');\n",
              "          docLink.innerHTML = docLinkHtml;\n",
              "          element.appendChild(docLink);\n",
              "        }\n",
              "      </script>\n",
              "    </div>\n",
              "  </div>\n",
              "  "
            ],
            "text/plain": [
              "   Unnamed: 0        Date  AveragePrice  Total Volume     4046       4225  \\\n",
              "0           0  2015-12-27          1.33      64236.62  1036.74   54454.85   \n",
              "1           1  2015-12-20          1.35      54876.98   674.28   44638.81   \n",
              "2           2  2015-12-13          0.93     118220.22   794.70  109149.67   \n",
              "3           3  2015-12-06          1.08      78992.15  1132.00   71976.41   \n",
              "4           4  2015-11-29          1.28      51039.60   941.48   43838.39   \n",
              "\n",
              "     4770  Total Bags  Small Bags  Large Bags  XLarge Bags          type  \\\n",
              "0   48.16     8696.87     8603.62       93.25          0.0  conventional   \n",
              "1   58.33     9505.56     9408.07       97.49          0.0  conventional   \n",
              "2  130.50     8145.35     8042.21      103.14          0.0  conventional   \n",
              "3   72.58     5811.16     5677.40      133.76          0.0  conventional   \n",
              "4   75.78     6183.95     5986.26      197.69          0.0  conventional   \n",
              "\n",
              "   year  region  \n",
              "0  2015  Albany  \n",
              "1  2015  Albany  \n",
              "2  2015  Albany  \n",
              "3  2015  Albany  \n",
              "4  2015  Albany  "
            ]
          },
          "execution_count": 66,
          "metadata": {},
          "output_type": "execute_result"
        }
      ],
      "source": [
        "df.head()"
      ]
    },
    {
      "cell_type": "code",
      "execution_count": null,
      "metadata": {
        "id": "iR-aofDEp1Fv"
      },
      "outputs": [],
      "source": [
        "df = df.drop('Unnamed: 0', axis=1)"
      ]
    },
    {
      "cell_type": "code",
      "execution_count": null,
      "metadata": {
        "colab": {
          "base_uri": "https://localhost:8080/",
          "height": 206
        },
        "id": "Zgl0D4usp_jv",
        "outputId": "81c52401-fcbf-4f9d-d6a0-3a4da3ddf304"
      },
      "outputs": [
        {
          "data": {
            "text/html": [
              "\n",
              "  <div id=\"df-ee829391-3e2d-4248-a45e-a1db204a7d4d\">\n",
              "    <div class=\"colab-df-container\">\n",
              "      <div>\n",
              "<style scoped>\n",
              "    .dataframe tbody tr th:only-of-type {\n",
              "        vertical-align: middle;\n",
              "    }\n",
              "\n",
              "    .dataframe tbody tr th {\n",
              "        vertical-align: top;\n",
              "    }\n",
              "\n",
              "    .dataframe thead th {\n",
              "        text-align: right;\n",
              "    }\n",
              "</style>\n",
              "<table border=\"1\" class=\"dataframe\">\n",
              "  <thead>\n",
              "    <tr style=\"text-align: right;\">\n",
              "      <th></th>\n",
              "      <th>Date</th>\n",
              "      <th>AveragePrice</th>\n",
              "      <th>Total Volume</th>\n",
              "      <th>4046</th>\n",
              "      <th>4225</th>\n",
              "      <th>4770</th>\n",
              "      <th>Total Bags</th>\n",
              "      <th>Small Bags</th>\n",
              "      <th>Large Bags</th>\n",
              "      <th>XLarge Bags</th>\n",
              "      <th>type</th>\n",
              "      <th>year</th>\n",
              "      <th>region</th>\n",
              "    </tr>\n",
              "  </thead>\n",
              "  <tbody>\n",
              "    <tr>\n",
              "      <th>0</th>\n",
              "      <td>2015-12-27</td>\n",
              "      <td>1.33</td>\n",
              "      <td>64236.62</td>\n",
              "      <td>1036.74</td>\n",
              "      <td>54454.85</td>\n",
              "      <td>48.16</td>\n",
              "      <td>8696.87</td>\n",
              "      <td>8603.62</td>\n",
              "      <td>93.25</td>\n",
              "      <td>0.0</td>\n",
              "      <td>conventional</td>\n",
              "      <td>2015</td>\n",
              "      <td>Albany</td>\n",
              "    </tr>\n",
              "    <tr>\n",
              "      <th>1</th>\n",
              "      <td>2015-12-20</td>\n",
              "      <td>1.35</td>\n",
              "      <td>54876.98</td>\n",
              "      <td>674.28</td>\n",
              "      <td>44638.81</td>\n",
              "      <td>58.33</td>\n",
              "      <td>9505.56</td>\n",
              "      <td>9408.07</td>\n",
              "      <td>97.49</td>\n",
              "      <td>0.0</td>\n",
              "      <td>conventional</td>\n",
              "      <td>2015</td>\n",
              "      <td>Albany</td>\n",
              "    </tr>\n",
              "    <tr>\n",
              "      <th>2</th>\n",
              "      <td>2015-12-13</td>\n",
              "      <td>0.93</td>\n",
              "      <td>118220.22</td>\n",
              "      <td>794.70</td>\n",
              "      <td>109149.67</td>\n",
              "      <td>130.50</td>\n",
              "      <td>8145.35</td>\n",
              "      <td>8042.21</td>\n",
              "      <td>103.14</td>\n",
              "      <td>0.0</td>\n",
              "      <td>conventional</td>\n",
              "      <td>2015</td>\n",
              "      <td>Albany</td>\n",
              "    </tr>\n",
              "    <tr>\n",
              "      <th>3</th>\n",
              "      <td>2015-12-06</td>\n",
              "      <td>1.08</td>\n",
              "      <td>78992.15</td>\n",
              "      <td>1132.00</td>\n",
              "      <td>71976.41</td>\n",
              "      <td>72.58</td>\n",
              "      <td>5811.16</td>\n",
              "      <td>5677.40</td>\n",
              "      <td>133.76</td>\n",
              "      <td>0.0</td>\n",
              "      <td>conventional</td>\n",
              "      <td>2015</td>\n",
              "      <td>Albany</td>\n",
              "    </tr>\n",
              "    <tr>\n",
              "      <th>4</th>\n",
              "      <td>2015-11-29</td>\n",
              "      <td>1.28</td>\n",
              "      <td>51039.60</td>\n",
              "      <td>941.48</td>\n",
              "      <td>43838.39</td>\n",
              "      <td>75.78</td>\n",
              "      <td>6183.95</td>\n",
              "      <td>5986.26</td>\n",
              "      <td>197.69</td>\n",
              "      <td>0.0</td>\n",
              "      <td>conventional</td>\n",
              "      <td>2015</td>\n",
              "      <td>Albany</td>\n",
              "    </tr>\n",
              "  </tbody>\n",
              "</table>\n",
              "</div>\n",
              "      <button class=\"colab-df-convert\" onclick=\"convertToInteractive('df-ee829391-3e2d-4248-a45e-a1db204a7d4d')\"\n",
              "              title=\"Convert this dataframe to an interactive table.\"\n",
              "              style=\"display:none;\">\n",
              "        \n",
              "  <svg xmlns=\"http://www.w3.org/2000/svg\" height=\"24px\"viewBox=\"0 0 24 24\"\n",
              "       width=\"24px\">\n",
              "    <path d=\"M0 0h24v24H0V0z\" fill=\"none\"/>\n",
              "    <path d=\"M18.56 5.44l.94 2.06.94-2.06 2.06-.94-2.06-.94-.94-2.06-.94 2.06-2.06.94zm-11 1L8.5 8.5l.94-2.06 2.06-.94-2.06-.94L8.5 2.5l-.94 2.06-2.06.94zm10 10l.94 2.06.94-2.06 2.06-.94-2.06-.94-.94-2.06-.94 2.06-2.06.94z\"/><path d=\"M17.41 7.96l-1.37-1.37c-.4-.4-.92-.59-1.43-.59-.52 0-1.04.2-1.43.59L10.3 9.45l-7.72 7.72c-.78.78-.78 2.05 0 2.83L4 21.41c.39.39.9.59 1.41.59.51 0 1.02-.2 1.41-.59l7.78-7.78 2.81-2.81c.8-.78.8-2.07 0-2.86zM5.41 20L4 18.59l7.72-7.72 1.47 1.35L5.41 20z\"/>\n",
              "  </svg>\n",
              "      </button>\n",
              "      \n",
              "  <style>\n",
              "    .colab-df-container {\n",
              "      display:flex;\n",
              "      flex-wrap:wrap;\n",
              "      gap: 12px;\n",
              "    }\n",
              "\n",
              "    .colab-df-convert {\n",
              "      background-color: #E8F0FE;\n",
              "      border: none;\n",
              "      border-radius: 50%;\n",
              "      cursor: pointer;\n",
              "      display: none;\n",
              "      fill: #1967D2;\n",
              "      height: 32px;\n",
              "      padding: 0 0 0 0;\n",
              "      width: 32px;\n",
              "    }\n",
              "\n",
              "    .colab-df-convert:hover {\n",
              "      background-color: #E2EBFA;\n",
              "      box-shadow: 0px 1px 2px rgba(60, 64, 67, 0.3), 0px 1px 3px 1px rgba(60, 64, 67, 0.15);\n",
              "      fill: #174EA6;\n",
              "    }\n",
              "\n",
              "    [theme=dark] .colab-df-convert {\n",
              "      background-color: #3B4455;\n",
              "      fill: #D2E3FC;\n",
              "    }\n",
              "\n",
              "    [theme=dark] .colab-df-convert:hover {\n",
              "      background-color: #434B5C;\n",
              "      box-shadow: 0px 1px 3px 1px rgba(0, 0, 0, 0.15);\n",
              "      filter: drop-shadow(0px 1px 2px rgba(0, 0, 0, 0.3));\n",
              "      fill: #FFFFFF;\n",
              "    }\n",
              "  </style>\n",
              "\n",
              "      <script>\n",
              "        const buttonEl =\n",
              "          document.querySelector('#df-ee829391-3e2d-4248-a45e-a1db204a7d4d button.colab-df-convert');\n",
              "        buttonEl.style.display =\n",
              "          google.colab.kernel.accessAllowed ? 'block' : 'none';\n",
              "\n",
              "        async function convertToInteractive(key) {\n",
              "          const element = document.querySelector('#df-ee829391-3e2d-4248-a45e-a1db204a7d4d');\n",
              "          const dataTable =\n",
              "            await google.colab.kernel.invokeFunction('convertToInteractive',\n",
              "                                                     [key], {});\n",
              "          if (!dataTable) return;\n",
              "\n",
              "          const docLinkHtml = 'Like what you see? Visit the ' +\n",
              "            '<a target=\"_blank\" href=https://colab.research.google.com/notebooks/data_table.ipynb>data table notebook</a>'\n",
              "            + ' to learn more about interactive tables.';\n",
              "          element.innerHTML = '';\n",
              "          dataTable['output_type'] = 'display_data';\n",
              "          await google.colab.output.renderOutput(dataTable, element);\n",
              "          const docLink = document.createElement('div');\n",
              "          docLink.innerHTML = docLinkHtml;\n",
              "          element.appendChild(docLink);\n",
              "        }\n",
              "      </script>\n",
              "    </div>\n",
              "  </div>\n",
              "  "
            ],
            "text/plain": [
              "         Date  AveragePrice  Total Volume     4046       4225    4770  \\\n",
              "0  2015-12-27          1.33      64236.62  1036.74   54454.85   48.16   \n",
              "1  2015-12-20          1.35      54876.98   674.28   44638.81   58.33   \n",
              "2  2015-12-13          0.93     118220.22   794.70  109149.67  130.50   \n",
              "3  2015-12-06          1.08      78992.15  1132.00   71976.41   72.58   \n",
              "4  2015-11-29          1.28      51039.60   941.48   43838.39   75.78   \n",
              "\n",
              "   Total Bags  Small Bags  Large Bags  XLarge Bags          type  year  region  \n",
              "0     8696.87     8603.62       93.25          0.0  conventional  2015  Albany  \n",
              "1     9505.56     9408.07       97.49          0.0  conventional  2015  Albany  \n",
              "2     8145.35     8042.21      103.14          0.0  conventional  2015  Albany  \n",
              "3     5811.16     5677.40      133.76          0.0  conventional  2015  Albany  \n",
              "4     6183.95     5986.26      197.69          0.0  conventional  2015  Albany  "
            ]
          },
          "execution_count": 68,
          "metadata": {},
          "output_type": "execute_result"
        }
      ],
      "source": [
        "df.head()"
      ]
    },
    {
      "cell_type": "code",
      "execution_count": null,
      "metadata": {
        "colab": {
          "base_uri": "https://localhost:8080/"
        },
        "id": "plq0nzd8qExP",
        "outputId": "77a1ae6f-0da5-4de2-eb3e-80d82204f7ca"
      },
      "outputs": [
        {
          "data": {
            "text/plain": [
              "Date            0\n",
              "AveragePrice    0\n",
              "Total Volume    0\n",
              "4046            0\n",
              "4225            0\n",
              "4770            0\n",
              "Total Bags      0\n",
              "Small Bags      0\n",
              "Large Bags      0\n",
              "XLarge Bags     0\n",
              "type            0\n",
              "year            0\n",
              "region          0\n",
              "dtype: int64"
            ]
          },
          "execution_count": 69,
          "metadata": {},
          "output_type": "execute_result"
        }
      ],
      "source": [
        "df.isnull().sum()"
      ]
    },
    {
      "cell_type": "code",
      "execution_count": null,
      "metadata": {
        "colab": {
          "base_uri": "https://localhost:8080/"
        },
        "id": "lAn_HtKCqX9f",
        "outputId": "c68e5511-e152-4c23-883b-eb425a161c26"
      },
      "outputs": [
        {
          "data": {
            "text/plain": [
              "54"
            ]
          },
          "execution_count": 70,
          "metadata": {},
          "output_type": "execute_result"
        }
      ],
      "source": [
        "len(df['region'].unique())"
      ]
    },
    {
      "cell_type": "code",
      "execution_count": null,
      "metadata": {
        "id": "k8W_Hh-48AUJ"
      },
      "outputs": [],
      "source": [
        "# df = df.drop(['region','type'],axis=1)"
      ]
    },
    {
      "cell_type": "code",
      "execution_count": null,
      "metadata": {
        "id": "vZKesutCv2GY"
      },
      "outputs": [],
      "source": [
        "dummies = pd.get_dummies(df['region'], drop_first=True)\n",
        "\n",
        "df = pd.concat([df.drop('region', axis=1), dummies], axis=1)"
      ]
    },
    {
      "cell_type": "code",
      "execution_count": null,
      "metadata": {
        "id": "hSlNFF5uxGqf"
      },
      "outputs": [],
      "source": [
        "dummies = pd.get_dummies(df['type'], drop_first=True)\n",
        "\n",
        "df = pd.concat([df.drop('type', axis=1), dummies], axis=1)"
      ]
    },
    {
      "cell_type": "code",
      "execution_count": null,
      "metadata": {
        "colab": {
          "base_uri": "https://localhost:8080/",
          "height": 404
        },
        "id": "eEwtz63fxIjg",
        "outputId": "a03cc719-f41c-4cde-ba64-37bb465eb546"
      },
      "outputs": [
        {
          "data": {
            "text/html": [
              "\n",
              "  <div id=\"df-9bf8e569-d0b5-42ab-b869-c406876da12e\">\n",
              "    <div class=\"colab-df-container\">\n",
              "      <div>\n",
              "<style scoped>\n",
              "    .dataframe tbody tr th:only-of-type {\n",
              "        vertical-align: middle;\n",
              "    }\n",
              "\n",
              "    .dataframe tbody tr th {\n",
              "        vertical-align: top;\n",
              "    }\n",
              "\n",
              "    .dataframe thead th {\n",
              "        text-align: right;\n",
              "    }\n",
              "</style>\n",
              "<table border=\"1\" class=\"dataframe\">\n",
              "  <thead>\n",
              "    <tr style=\"text-align: right;\">\n",
              "      <th></th>\n",
              "      <th>Date</th>\n",
              "      <th>AveragePrice</th>\n",
              "      <th>Total Volume</th>\n",
              "      <th>4046</th>\n",
              "      <th>4225</th>\n",
              "      <th>4770</th>\n",
              "      <th>Total Bags</th>\n",
              "      <th>Small Bags</th>\n",
              "      <th>Large Bags</th>\n",
              "      <th>XLarge Bags</th>\n",
              "      <th>...</th>\n",
              "      <th>SouthCentral</th>\n",
              "      <th>Southeast</th>\n",
              "      <th>Spokane</th>\n",
              "      <th>StLouis</th>\n",
              "      <th>Syracuse</th>\n",
              "      <th>Tampa</th>\n",
              "      <th>TotalUS</th>\n",
              "      <th>West</th>\n",
              "      <th>WestTexNewMexico</th>\n",
              "      <th>organic</th>\n",
              "    </tr>\n",
              "  </thead>\n",
              "  <tbody>\n",
              "    <tr>\n",
              "      <th>0</th>\n",
              "      <td>2015-12-27</td>\n",
              "      <td>1.33</td>\n",
              "      <td>64236.62</td>\n",
              "      <td>1036.74</td>\n",
              "      <td>54454.85</td>\n",
              "      <td>48.16</td>\n",
              "      <td>8696.87</td>\n",
              "      <td>8603.62</td>\n",
              "      <td>93.25</td>\n",
              "      <td>0.0</td>\n",
              "      <td>...</td>\n",
              "      <td>0</td>\n",
              "      <td>0</td>\n",
              "      <td>0</td>\n",
              "      <td>0</td>\n",
              "      <td>0</td>\n",
              "      <td>0</td>\n",
              "      <td>0</td>\n",
              "      <td>0</td>\n",
              "      <td>0</td>\n",
              "      <td>0</td>\n",
              "    </tr>\n",
              "    <tr>\n",
              "      <th>1</th>\n",
              "      <td>2015-12-20</td>\n",
              "      <td>1.35</td>\n",
              "      <td>54876.98</td>\n",
              "      <td>674.28</td>\n",
              "      <td>44638.81</td>\n",
              "      <td>58.33</td>\n",
              "      <td>9505.56</td>\n",
              "      <td>9408.07</td>\n",
              "      <td>97.49</td>\n",
              "      <td>0.0</td>\n",
              "      <td>...</td>\n",
              "      <td>0</td>\n",
              "      <td>0</td>\n",
              "      <td>0</td>\n",
              "      <td>0</td>\n",
              "      <td>0</td>\n",
              "      <td>0</td>\n",
              "      <td>0</td>\n",
              "      <td>0</td>\n",
              "      <td>0</td>\n",
              "      <td>0</td>\n",
              "    </tr>\n",
              "    <tr>\n",
              "      <th>2</th>\n",
              "      <td>2015-12-13</td>\n",
              "      <td>0.93</td>\n",
              "      <td>118220.22</td>\n",
              "      <td>794.70</td>\n",
              "      <td>109149.67</td>\n",
              "      <td>130.50</td>\n",
              "      <td>8145.35</td>\n",
              "      <td>8042.21</td>\n",
              "      <td>103.14</td>\n",
              "      <td>0.0</td>\n",
              "      <td>...</td>\n",
              "      <td>0</td>\n",
              "      <td>0</td>\n",
              "      <td>0</td>\n",
              "      <td>0</td>\n",
              "      <td>0</td>\n",
              "      <td>0</td>\n",
              "      <td>0</td>\n",
              "      <td>0</td>\n",
              "      <td>0</td>\n",
              "      <td>0</td>\n",
              "    </tr>\n",
              "    <tr>\n",
              "      <th>3</th>\n",
              "      <td>2015-12-06</td>\n",
              "      <td>1.08</td>\n",
              "      <td>78992.15</td>\n",
              "      <td>1132.00</td>\n",
              "      <td>71976.41</td>\n",
              "      <td>72.58</td>\n",
              "      <td>5811.16</td>\n",
              "      <td>5677.40</td>\n",
              "      <td>133.76</td>\n",
              "      <td>0.0</td>\n",
              "      <td>...</td>\n",
              "      <td>0</td>\n",
              "      <td>0</td>\n",
              "      <td>0</td>\n",
              "      <td>0</td>\n",
              "      <td>0</td>\n",
              "      <td>0</td>\n",
              "      <td>0</td>\n",
              "      <td>0</td>\n",
              "      <td>0</td>\n",
              "      <td>0</td>\n",
              "    </tr>\n",
              "    <tr>\n",
              "      <th>4</th>\n",
              "      <td>2015-11-29</td>\n",
              "      <td>1.28</td>\n",
              "      <td>51039.60</td>\n",
              "      <td>941.48</td>\n",
              "      <td>43838.39</td>\n",
              "      <td>75.78</td>\n",
              "      <td>6183.95</td>\n",
              "      <td>5986.26</td>\n",
              "      <td>197.69</td>\n",
              "      <td>0.0</td>\n",
              "      <td>...</td>\n",
              "      <td>0</td>\n",
              "      <td>0</td>\n",
              "      <td>0</td>\n",
              "      <td>0</td>\n",
              "      <td>0</td>\n",
              "      <td>0</td>\n",
              "      <td>0</td>\n",
              "      <td>0</td>\n",
              "      <td>0</td>\n",
              "      <td>0</td>\n",
              "    </tr>\n",
              "  </tbody>\n",
              "</table>\n",
              "<p>5 rows × 65 columns</p>\n",
              "</div>\n",
              "      <button class=\"colab-df-convert\" onclick=\"convertToInteractive('df-9bf8e569-d0b5-42ab-b869-c406876da12e')\"\n",
              "              title=\"Convert this dataframe to an interactive table.\"\n",
              "              style=\"display:none;\">\n",
              "        \n",
              "  <svg xmlns=\"http://www.w3.org/2000/svg\" height=\"24px\"viewBox=\"0 0 24 24\"\n",
              "       width=\"24px\">\n",
              "    <path d=\"M0 0h24v24H0V0z\" fill=\"none\"/>\n",
              "    <path d=\"M18.56 5.44l.94 2.06.94-2.06 2.06-.94-2.06-.94-.94-2.06-.94 2.06-2.06.94zm-11 1L8.5 8.5l.94-2.06 2.06-.94-2.06-.94L8.5 2.5l-.94 2.06-2.06.94zm10 10l.94 2.06.94-2.06 2.06-.94-2.06-.94-.94-2.06-.94 2.06-2.06.94z\"/><path d=\"M17.41 7.96l-1.37-1.37c-.4-.4-.92-.59-1.43-.59-.52 0-1.04.2-1.43.59L10.3 9.45l-7.72 7.72c-.78.78-.78 2.05 0 2.83L4 21.41c.39.39.9.59 1.41.59.51 0 1.02-.2 1.41-.59l7.78-7.78 2.81-2.81c.8-.78.8-2.07 0-2.86zM5.41 20L4 18.59l7.72-7.72 1.47 1.35L5.41 20z\"/>\n",
              "  </svg>\n",
              "      </button>\n",
              "      \n",
              "  <style>\n",
              "    .colab-df-container {\n",
              "      display:flex;\n",
              "      flex-wrap:wrap;\n",
              "      gap: 12px;\n",
              "    }\n",
              "\n",
              "    .colab-df-convert {\n",
              "      background-color: #E8F0FE;\n",
              "      border: none;\n",
              "      border-radius: 50%;\n",
              "      cursor: pointer;\n",
              "      display: none;\n",
              "      fill: #1967D2;\n",
              "      height: 32px;\n",
              "      padding: 0 0 0 0;\n",
              "      width: 32px;\n",
              "    }\n",
              "\n",
              "    .colab-df-convert:hover {\n",
              "      background-color: #E2EBFA;\n",
              "      box-shadow: 0px 1px 2px rgba(60, 64, 67, 0.3), 0px 1px 3px 1px rgba(60, 64, 67, 0.15);\n",
              "      fill: #174EA6;\n",
              "    }\n",
              "\n",
              "    [theme=dark] .colab-df-convert {\n",
              "      background-color: #3B4455;\n",
              "      fill: #D2E3FC;\n",
              "    }\n",
              "\n",
              "    [theme=dark] .colab-df-convert:hover {\n",
              "      background-color: #434B5C;\n",
              "      box-shadow: 0px 1px 3px 1px rgba(0, 0, 0, 0.15);\n",
              "      filter: drop-shadow(0px 1px 2px rgba(0, 0, 0, 0.3));\n",
              "      fill: #FFFFFF;\n",
              "    }\n",
              "  </style>\n",
              "\n",
              "      <script>\n",
              "        const buttonEl =\n",
              "          document.querySelector('#df-9bf8e569-d0b5-42ab-b869-c406876da12e button.colab-df-convert');\n",
              "        buttonEl.style.display =\n",
              "          google.colab.kernel.accessAllowed ? 'block' : 'none';\n",
              "\n",
              "        async function convertToInteractive(key) {\n",
              "          const element = document.querySelector('#df-9bf8e569-d0b5-42ab-b869-c406876da12e');\n",
              "          const dataTable =\n",
              "            await google.colab.kernel.invokeFunction('convertToInteractive',\n",
              "                                                     [key], {});\n",
              "          if (!dataTable) return;\n",
              "\n",
              "          const docLinkHtml = 'Like what you see? Visit the ' +\n",
              "            '<a target=\"_blank\" href=https://colab.research.google.com/notebooks/data_table.ipynb>data table notebook</a>'\n",
              "            + ' to learn more about interactive tables.';\n",
              "          element.innerHTML = '';\n",
              "          dataTable['output_type'] = 'display_data';\n",
              "          await google.colab.output.renderOutput(dataTable, element);\n",
              "          const docLink = document.createElement('div');\n",
              "          docLink.innerHTML = docLinkHtml;\n",
              "          element.appendChild(docLink);\n",
              "        }\n",
              "      </script>\n",
              "    </div>\n",
              "  </div>\n",
              "  "
            ],
            "text/plain": [
              "         Date  AveragePrice  Total Volume     4046       4225    4770  \\\n",
              "0  2015-12-27          1.33      64236.62  1036.74   54454.85   48.16   \n",
              "1  2015-12-20          1.35      54876.98   674.28   44638.81   58.33   \n",
              "2  2015-12-13          0.93     118220.22   794.70  109149.67  130.50   \n",
              "3  2015-12-06          1.08      78992.15  1132.00   71976.41   72.58   \n",
              "4  2015-11-29          1.28      51039.60   941.48   43838.39   75.78   \n",
              "\n",
              "   Total Bags  Small Bags  Large Bags  XLarge Bags  ...  SouthCentral  \\\n",
              "0     8696.87     8603.62       93.25          0.0  ...             0   \n",
              "1     9505.56     9408.07       97.49          0.0  ...             0   \n",
              "2     8145.35     8042.21      103.14          0.0  ...             0   \n",
              "3     5811.16     5677.40      133.76          0.0  ...             0   \n",
              "4     6183.95     5986.26      197.69          0.0  ...             0   \n",
              "\n",
              "   Southeast  Spokane  StLouis  Syracuse  Tampa  TotalUS  West  \\\n",
              "0          0        0        0         0      0        0     0   \n",
              "1          0        0        0         0      0        0     0   \n",
              "2          0        0        0         0      0        0     0   \n",
              "3          0        0        0         0      0        0     0   \n",
              "4          0        0        0         0      0        0     0   \n",
              "\n",
              "   WestTexNewMexico  organic  \n",
              "0                 0        0  \n",
              "1                 0        0  \n",
              "2                 0        0  \n",
              "3                 0        0  \n",
              "4                 0        0  \n",
              "\n",
              "[5 rows x 65 columns]"
            ]
          },
          "execution_count": 74,
          "metadata": {},
          "output_type": "execute_result"
        }
      ],
      "source": [
        "df.head()"
      ]
    },
    {
      "cell_type": "code",
      "execution_count": null,
      "metadata": {
        "id": "FUBBe0chxKNw"
      },
      "outputs": [],
      "source": [
        "df['month'] = df['Date'].apply(lambda date: int(date.split('-')[1]))\n",
        "df['day'] = df['Date'].apply(lambda date: int(date.split('-')[2]))"
      ]
    },
    {
      "cell_type": "code",
      "execution_count": null,
      "metadata": {
        "id": "SSx2SqdhxhJJ"
      },
      "outputs": [],
      "source": [
        "df = df.drop(['Date'], axis=1)"
      ]
    },
    {
      "cell_type": "code",
      "execution_count": null,
      "metadata": {
        "id": "0jTpd2Btx63R"
      },
      "outputs": [],
      "source": [
        "from sklearn.model_selection import train_test_split"
      ]
    },
    {
      "cell_type": "code",
      "execution_count": null,
      "metadata": {
        "id": "uI2WvErZyXbR"
      },
      "outputs": [],
      "source": [
        "X = df.drop('AveragePrice', axis=1).values"
      ]
    },
    {
      "cell_type": "code",
      "execution_count": null,
      "metadata": {
        "id": "cb0ZmqlNyktf"
      },
      "outputs": [],
      "source": [
        "y = df['AveragePrice'].values"
      ]
    },
    {
      "cell_type": "code",
      "execution_count": null,
      "metadata": {
        "id": "wU0yDWlLyn4I"
      },
      "outputs": [],
      "source": [
        "X_train, X_test, y_train, y_test = train_test_split(X, y, test_size=0.3,\n",
        "                                                    random_state=101)"
      ]
    },
    {
      "cell_type": "code",
      "execution_count": null,
      "metadata": {
        "id": "eXeM0CxvysfR"
      },
      "outputs": [],
      "source": [
        "from sklearn.preprocessing import MinMaxScaler"
      ]
    },
    {
      "cell_type": "code",
      "execution_count": null,
      "metadata": {
        "id": "BnHWDtAJyuTR"
      },
      "outputs": [],
      "source": [
        "scaler = MinMaxScaler()"
      ]
    },
    {
      "cell_type": "code",
      "execution_count": null,
      "metadata": {
        "id": "BTEI13j4yvOg"
      },
      "outputs": [],
      "source": [
        "X_train = scaler.fit_transform(X_train)"
      ]
    },
    {
      "cell_type": "code",
      "execution_count": null,
      "metadata": {
        "id": "h4tFhtgvEDgu"
      },
      "outputs": [],
      "source": [
        "X_test = scaler.transform(X_test)"
      ]
    },
    {
      "cell_type": "code",
      "execution_count": null,
      "metadata": {
        "id": "5mxOL94Zyx4p"
      },
      "outputs": [],
      "source": [
        "import tensorflow as tf\n",
        "from tensorflow import keras\n",
        "from tensorflow.keras.models import Sequential\n",
        "from tensorflow.keras.layers import Dense,Dropout"
      ]
    },
    {
      "cell_type": "code",
      "execution_count": null,
      "metadata": {
        "colab": {
          "base_uri": "https://localhost:8080/"
        },
        "id": "yTcekHHDy3EA",
        "outputId": "c3e15989-1f68-44c8-eb04-7b8fb9b12970"
      },
      "outputs": [
        {
          "data": {
            "text/plain": [
              "(65,)"
            ]
          },
          "execution_count": 86,
          "metadata": {},
          "output_type": "execute_result"
        }
      ],
      "source": [
        "X_train.shape[1:]"
      ]
    },
    {
      "cell_type": "code",
      "execution_count": null,
      "metadata": {
        "id": "UEiAUszyy-Wg"
      },
      "outputs": [],
      "source": [
        "model = Sequential()\n",
        "\n",
        "model.add(Dense(65, activation='relu'))\n",
        "model.add(Dropout(0.2))\n",
        "\n",
        "model.add(Dense(50, activation='relu'))\n",
        "model.add(Dropout(0.2))\n",
        "\n",
        "model.add(Dense(50, activation='relu'))\n",
        "model.add(Dropout(0.2))\n",
        "\n",
        "model.add(Dense(50, activation='relu'))\n",
        "model.add(Dropout(0.2))\n",
        "\n",
        "model.add(Dense(50, activation='relu'))\n",
        "model.add(Dropout(0.2))\n",
        "\n",
        "model.add(Dense(1, activation='linear'))\n",
        "\n",
        "model.compile(loss='mse', optimizer='adam', metrics=['mse', 'mae'])"
      ]
    },
    {
      "cell_type": "code",
      "execution_count": null,
      "metadata": {
        "id": "EZhJvqO10ZvW"
      },
      "outputs": [],
      "source": [
        "from tensorflow.keras.callbacks import EarlyStopping"
      ]
    },
    {
      "cell_type": "code",
      "execution_count": null,
      "metadata": {
        "id": "cn3nD0ug0U3L"
      },
      "outputs": [],
      "source": [
        "early_stop = EarlyStopping(monitor='val_mse',\n",
        "                           mode='min', verbose=1, patience= 30)"
      ]
    },
    {
      "cell_type": "code",
      "execution_count": null,
      "metadata": {
        "colab": {
          "base_uri": "https://localhost:8080/"
        },
        "id": "PTY1dGkZz1pt",
        "outputId": "57812de1-4f02-4191-f64c-95d09d6f9cb5"
      },
      "outputs": [
        {
          "name": "stdout",
          "output_type": "stream",
          "text": [
            "Epoch 1/200\n",
            "400/400 [==============================] - 2s 4ms/step - loss: 0.2302 - mse: 0.2302 - mae: 0.3550 - val_loss: 0.1195 - val_mse: 0.1195 - val_mae: 0.2604\n",
            "Epoch 2/200\n",
            "400/400 [==============================] - 1s 4ms/step - loss: 0.1083 - mse: 0.1083 - mae: 0.2534 - val_loss: 0.0902 - val_mse: 0.0902 - val_mae: 0.2232\n",
            "Epoch 3/200\n",
            "400/400 [==============================] - 1s 4ms/step - loss: 0.0955 - mse: 0.0955 - mae: 0.2374 - val_loss: 0.0729 - val_mse: 0.0729 - val_mae: 0.2002\n",
            "Epoch 4/200\n",
            "400/400 [==============================] - 1s 3ms/step - loss: 0.0881 - mse: 0.0881 - mae: 0.2271 - val_loss: 0.0657 - val_mse: 0.0657 - val_mae: 0.1891\n",
            "Epoch 5/200\n",
            "400/400 [==============================] - 1s 4ms/step - loss: 0.0817 - mse: 0.0817 - mae: 0.2175 - val_loss: 0.0741 - val_mse: 0.0741 - val_mae: 0.2005\n",
            "Epoch 6/200\n",
            "400/400 [==============================] - 1s 3ms/step - loss: 0.0767 - mse: 0.0767 - mae: 0.2098 - val_loss: 0.0689 - val_mse: 0.0689 - val_mae: 0.1936\n",
            "Epoch 7/200\n",
            "400/400 [==============================] - 1s 4ms/step - loss: 0.0714 - mse: 0.0714 - mae: 0.2020 - val_loss: 0.0603 - val_mse: 0.0603 - val_mae: 0.1807\n",
            "Epoch 8/200\n",
            "400/400 [==============================] - 2s 4ms/step - loss: 0.0682 - mse: 0.0682 - mae: 0.1974 - val_loss: 0.0541 - val_mse: 0.0541 - val_mae: 0.1704\n",
            "Epoch 9/200\n",
            "400/400 [==============================] - 1s 4ms/step - loss: 0.0641 - mse: 0.0641 - mae: 0.1917 - val_loss: 0.0593 - val_mse: 0.0593 - val_mae: 0.1786\n",
            "Epoch 10/200\n",
            "400/400 [==============================] - 1s 4ms/step - loss: 0.0608 - mse: 0.0608 - mae: 0.1867 - val_loss: 0.0523 - val_mse: 0.0523 - val_mae: 0.1681\n",
            "Epoch 11/200\n",
            "400/400 [==============================] - 1s 3ms/step - loss: 0.0590 - mse: 0.0590 - mae: 0.1834 - val_loss: 0.0504 - val_mse: 0.0504 - val_mae: 0.1639\n",
            "Epoch 12/200\n",
            "400/400 [==============================] - 1s 3ms/step - loss: 0.0579 - mse: 0.0579 - mae: 0.1814 - val_loss: 0.0491 - val_mse: 0.0491 - val_mae: 0.1637\n",
            "Epoch 13/200\n",
            "400/400 [==============================] - 1s 4ms/step - loss: 0.0552 - mse: 0.0552 - mae: 0.1769 - val_loss: 0.0462 - val_mse: 0.0462 - val_mae: 0.1596\n",
            "Epoch 14/200\n",
            "400/400 [==============================] - 1s 3ms/step - loss: 0.0528 - mse: 0.0528 - mae: 0.1728 - val_loss: 0.0467 - val_mse: 0.0467 - val_mae: 0.1582\n",
            "Epoch 15/200\n",
            "400/400 [==============================] - 1s 4ms/step - loss: 0.0507 - mse: 0.0507 - mae: 0.1690 - val_loss: 0.0446 - val_mse: 0.0446 - val_mae: 0.1560\n",
            "Epoch 16/200\n",
            "400/400 [==============================] - 1s 3ms/step - loss: 0.0492 - mse: 0.0492 - mae: 0.1655 - val_loss: 0.0454 - val_mse: 0.0454 - val_mae: 0.1560\n",
            "Epoch 17/200\n",
            "400/400 [==============================] - 1s 4ms/step - loss: 0.0479 - mse: 0.0479 - mae: 0.1635 - val_loss: 0.0428 - val_mse: 0.0428 - val_mae: 0.1522\n",
            "Epoch 18/200\n",
            "400/400 [==============================] - 1s 3ms/step - loss: 0.0467 - mse: 0.0467 - mae: 0.1613 - val_loss: 0.0437 - val_mse: 0.0437 - val_mae: 0.1535\n",
            "Epoch 19/200\n",
            "400/400 [==============================] - 1s 4ms/step - loss: 0.0447 - mse: 0.0447 - mae: 0.1590 - val_loss: 0.0410 - val_mse: 0.0410 - val_mae: 0.1472\n",
            "Epoch 20/200\n",
            "400/400 [==============================] - 1s 3ms/step - loss: 0.0443 - mse: 0.0443 - mae: 0.1579 - val_loss: 0.0429 - val_mse: 0.0429 - val_mae: 0.1518\n",
            "Epoch 21/200\n",
            "400/400 [==============================] - 1s 4ms/step - loss: 0.0438 - mse: 0.0438 - mae: 0.1568 - val_loss: 0.0424 - val_mse: 0.0424 - val_mae: 0.1518\n",
            "Epoch 22/200\n",
            "400/400 [==============================] - 1s 3ms/step - loss: 0.0422 - mse: 0.0422 - mae: 0.1544 - val_loss: 0.0423 - val_mse: 0.0423 - val_mae: 0.1512\n",
            "Epoch 23/200\n",
            "400/400 [==============================] - 1s 3ms/step - loss: 0.0423 - mse: 0.0423 - mae: 0.1541 - val_loss: 0.0406 - val_mse: 0.0406 - val_mae: 0.1494\n",
            "Epoch 24/200\n",
            "400/400 [==============================] - 1s 3ms/step - loss: 0.0414 - mse: 0.0414 - mae: 0.1532 - val_loss: 0.0393 - val_mse: 0.0393 - val_mae: 0.1465\n",
            "Epoch 25/200\n",
            "400/400 [==============================] - 1s 3ms/step - loss: 0.0415 - mse: 0.0415 - mae: 0.1526 - val_loss: 0.0411 - val_mse: 0.0411 - val_mae: 0.1502\n",
            "Epoch 26/200\n",
            "400/400 [==============================] - 1s 4ms/step - loss: 0.0406 - mse: 0.0406 - mae: 0.1507 - val_loss: 0.0408 - val_mse: 0.0408 - val_mae: 0.1502\n",
            "Epoch 27/200\n",
            "400/400 [==============================] - 1s 3ms/step - loss: 0.0394 - mse: 0.0394 - mae: 0.1487 - val_loss: 0.0416 - val_mse: 0.0416 - val_mae: 0.1521\n",
            "Epoch 28/200\n",
            "400/400 [==============================] - 1s 3ms/step - loss: 0.0389 - mse: 0.0389 - mae: 0.1475 - val_loss: 0.0377 - val_mse: 0.0377 - val_mae: 0.1427\n",
            "Epoch 29/200\n",
            "400/400 [==============================] - 1s 4ms/step - loss: 0.0391 - mse: 0.0391 - mae: 0.1478 - val_loss: 0.0367 - val_mse: 0.0367 - val_mae: 0.1407\n",
            "Epoch 30/200\n",
            "400/400 [==============================] - 1s 4ms/step - loss: 0.0384 - mse: 0.0384 - mae: 0.1479 - val_loss: 0.0375 - val_mse: 0.0375 - val_mae: 0.1425\n",
            "Epoch 31/200\n",
            "400/400 [==============================] - 1s 4ms/step - loss: 0.0386 - mse: 0.0386 - mae: 0.1478 - val_loss: 0.0409 - val_mse: 0.0409 - val_mae: 0.1491\n",
            "Epoch 32/200\n",
            "400/400 [==============================] - 1s 3ms/step - loss: 0.0378 - mse: 0.0378 - mae: 0.1449 - val_loss: 0.0374 - val_mse: 0.0374 - val_mae: 0.1425\n",
            "Epoch 33/200\n",
            "400/400 [==============================] - 1s 4ms/step - loss: 0.0380 - mse: 0.0380 - mae: 0.1457 - val_loss: 0.0362 - val_mse: 0.0362 - val_mae: 0.1414\n",
            "Epoch 34/200\n",
            "400/400 [==============================] - 1s 4ms/step - loss: 0.0389 - mse: 0.0389 - mae: 0.1469 - val_loss: 0.0367 - val_mse: 0.0367 - val_mae: 0.1413\n",
            "Epoch 35/200\n",
            "400/400 [==============================] - 1s 3ms/step - loss: 0.0375 - mse: 0.0375 - mae: 0.1444 - val_loss: 0.0344 - val_mse: 0.0344 - val_mae: 0.1357\n",
            "Epoch 36/200\n",
            "400/400 [==============================] - 1s 4ms/step - loss: 0.0373 - mse: 0.0373 - mae: 0.1438 - val_loss: 0.0371 - val_mse: 0.0371 - val_mae: 0.1411\n",
            "Epoch 37/200\n",
            "400/400 [==============================] - 1s 4ms/step - loss: 0.0367 - mse: 0.0367 - mae: 0.1433 - val_loss: 0.0353 - val_mse: 0.0353 - val_mae: 0.1377\n",
            "Epoch 38/200\n",
            "400/400 [==============================] - 1s 4ms/step - loss: 0.0365 - mse: 0.0365 - mae: 0.1430 - val_loss: 0.0351 - val_mse: 0.0351 - val_mae: 0.1375\n",
            "Epoch 39/200\n",
            "400/400 [==============================] - 1s 4ms/step - loss: 0.0361 - mse: 0.0361 - mae: 0.1418 - val_loss: 0.0375 - val_mse: 0.0375 - val_mae: 0.1442\n",
            "Epoch 40/200\n",
            "400/400 [==============================] - 1s 3ms/step - loss: 0.0356 - mse: 0.0356 - mae: 0.1422 - val_loss: 0.0335 - val_mse: 0.0335 - val_mae: 0.1337\n",
            "Epoch 41/200\n",
            "400/400 [==============================] - 1s 4ms/step - loss: 0.0360 - mse: 0.0360 - mae: 0.1413 - val_loss: 0.0345 - val_mse: 0.0345 - val_mae: 0.1371\n",
            "Epoch 42/200\n",
            "400/400 [==============================] - 1s 4ms/step - loss: 0.0350 - mse: 0.0350 - mae: 0.1396 - val_loss: 0.0364 - val_mse: 0.0364 - val_mae: 0.1415\n",
            "Epoch 43/200\n",
            "400/400 [==============================] - 1s 3ms/step - loss: 0.0348 - mse: 0.0348 - mae: 0.1391 - val_loss: 0.0336 - val_mse: 0.0336 - val_mae: 0.1346\n",
            "Epoch 44/200\n",
            "400/400 [==============================] - 1s 3ms/step - loss: 0.0345 - mse: 0.0345 - mae: 0.1387 - val_loss: 0.0347 - val_mse: 0.0347 - val_mae: 0.1371\n",
            "Epoch 45/200\n",
            "400/400 [==============================] - 1s 4ms/step - loss: 0.0350 - mse: 0.0350 - mae: 0.1394 - val_loss: 0.0349 - val_mse: 0.0349 - val_mae: 0.1380\n",
            "Epoch 46/200\n",
            "400/400 [==============================] - 1s 4ms/step - loss: 0.0348 - mse: 0.0348 - mae: 0.1389 - val_loss: 0.0331 - val_mse: 0.0331 - val_mae: 0.1338\n",
            "Epoch 47/200\n",
            "400/400 [==============================] - 2s 4ms/step - loss: 0.0345 - mse: 0.0345 - mae: 0.1382 - val_loss: 0.0344 - val_mse: 0.0344 - val_mae: 0.1375\n",
            "Epoch 48/200\n",
            "400/400 [==============================] - 1s 4ms/step - loss: 0.0346 - mse: 0.0346 - mae: 0.1379 - val_loss: 0.0338 - val_mse: 0.0338 - val_mae: 0.1340\n",
            "Epoch 49/200\n",
            "400/400 [==============================] - 2s 6ms/step - loss: 0.0337 - mse: 0.0337 - mae: 0.1367 - val_loss: 0.0384 - val_mse: 0.0384 - val_mae: 0.1458\n",
            "Epoch 50/200\n",
            "400/400 [==============================] - 3s 7ms/step - loss: 0.0334 - mse: 0.0334 - mae: 0.1362 - val_loss: 0.0373 - val_mse: 0.0373 - val_mae: 0.1452\n",
            "Epoch 51/200\n",
            "400/400 [==============================] - 1s 4ms/step - loss: 0.0338 - mse: 0.0338 - mae: 0.1385 - val_loss: 0.0368 - val_mse: 0.0368 - val_mae: 0.1421\n",
            "Epoch 52/200\n",
            "400/400 [==============================] - 1s 3ms/step - loss: 0.0344 - mse: 0.0344 - mae: 0.1380 - val_loss: 0.0318 - val_mse: 0.0318 - val_mae: 0.1304\n",
            "Epoch 53/200\n",
            "400/400 [==============================] - 2s 4ms/step - loss: 0.0333 - mse: 0.0333 - mae: 0.1354 - val_loss: 0.0363 - val_mse: 0.0363 - val_mae: 0.1394\n",
            "Epoch 54/200\n",
            "400/400 [==============================] - 1s 4ms/step - loss: 0.0324 - mse: 0.0324 - mae: 0.1346 - val_loss: 0.0369 - val_mse: 0.0369 - val_mae: 0.1419\n",
            "Epoch 55/200\n",
            "400/400 [==============================] - 1s 4ms/step - loss: 0.0335 - mse: 0.0335 - mae: 0.1362 - val_loss: 0.0338 - val_mse: 0.0338 - val_mae: 0.1352\n",
            "Epoch 56/200\n",
            "400/400 [==============================] - 2s 4ms/step - loss: 0.0330 - mse: 0.0330 - mae: 0.1355 - val_loss: 0.0329 - val_mse: 0.0329 - val_mae: 0.1330\n",
            "Epoch 57/200\n",
            "400/400 [==============================] - 1s 4ms/step - loss: 0.0332 - mse: 0.0332 - mae: 0.1354 - val_loss: 0.0326 - val_mse: 0.0326 - val_mae: 0.1327\n",
            "Epoch 58/200\n",
            "400/400 [==============================] - 1s 3ms/step - loss: 0.0332 - mse: 0.0332 - mae: 0.1349 - val_loss: 0.0330 - val_mse: 0.0330 - val_mae: 0.1337\n",
            "Epoch 59/200\n",
            "400/400 [==============================] - 1s 3ms/step - loss: 0.0321 - mse: 0.0321 - mae: 0.1330 - val_loss: 0.0322 - val_mse: 0.0322 - val_mae: 0.1320\n",
            "Epoch 60/200\n",
            "400/400 [==============================] - 2s 4ms/step - loss: 0.0322 - mse: 0.0322 - mae: 0.1333 - val_loss: 0.0341 - val_mse: 0.0341 - val_mae: 0.1372\n",
            "Epoch 61/200\n",
            "400/400 [==============================] - 1s 3ms/step - loss: 0.0327 - mse: 0.0327 - mae: 0.1347 - val_loss: 0.0344 - val_mse: 0.0344 - val_mae: 0.1357\n",
            "Epoch 62/200\n",
            "400/400 [==============================] - 1s 3ms/step - loss: 0.0326 - mse: 0.0326 - mae: 0.1347 - val_loss: 0.0330 - val_mse: 0.0330 - val_mae: 0.1358\n",
            "Epoch 63/200\n",
            "400/400 [==============================] - 1s 3ms/step - loss: 0.0326 - mse: 0.0326 - mae: 0.1345 - val_loss: 0.0349 - val_mse: 0.0349 - val_mae: 0.1372\n",
            "Epoch 64/200\n",
            "400/400 [==============================] - 2s 4ms/step - loss: 0.0320 - mse: 0.0320 - mae: 0.1337 - val_loss: 0.0313 - val_mse: 0.0313 - val_mae: 0.1294\n",
            "Epoch 65/200\n",
            "400/400 [==============================] - 1s 4ms/step - loss: 0.0315 - mse: 0.0315 - mae: 0.1326 - val_loss: 0.0349 - val_mse: 0.0349 - val_mae: 0.1398\n",
            "Epoch 66/200\n",
            "400/400 [==============================] - 2s 4ms/step - loss: 0.0318 - mse: 0.0318 - mae: 0.1328 - val_loss: 0.0334 - val_mse: 0.0334 - val_mae: 0.1341\n",
            "Epoch 67/200\n",
            "400/400 [==============================] - 1s 3ms/step - loss: 0.0323 - mse: 0.0323 - mae: 0.1335 - val_loss: 0.0327 - val_mse: 0.0327 - val_mae: 0.1340\n",
            "Epoch 68/200\n",
            "400/400 [==============================] - 1s 3ms/step - loss: 0.0315 - mse: 0.0315 - mae: 0.1315 - val_loss: 0.0332 - val_mse: 0.0332 - val_mae: 0.1341\n",
            "Epoch 69/200\n",
            "400/400 [==============================] - 1s 4ms/step - loss: 0.0324 - mse: 0.0324 - mae: 0.1333 - val_loss: 0.0310 - val_mse: 0.0310 - val_mae: 0.1303\n",
            "Epoch 70/200\n",
            "400/400 [==============================] - 1s 3ms/step - loss: 0.0323 - mse: 0.0323 - mae: 0.1331 - val_loss: 0.0318 - val_mse: 0.0318 - val_mae: 0.1318\n",
            "Epoch 71/200\n",
            "400/400 [==============================] - 1s 4ms/step - loss: 0.0320 - mse: 0.0320 - mae: 0.1324 - val_loss: 0.0338 - val_mse: 0.0338 - val_mae: 0.1372\n",
            "Epoch 72/200\n",
            "400/400 [==============================] - 1s 4ms/step - loss: 0.0312 - mse: 0.0312 - mae: 0.1319 - val_loss: 0.0321 - val_mse: 0.0321 - val_mae: 0.1320\n",
            "Epoch 73/200\n",
            "400/400 [==============================] - 2s 4ms/step - loss: 0.0311 - mse: 0.0311 - mae: 0.1316 - val_loss: 0.0333 - val_mse: 0.0333 - val_mae: 0.1358\n",
            "Epoch 74/200\n",
            "400/400 [==============================] - 1s 3ms/step - loss: 0.0321 - mse: 0.0321 - mae: 0.1329 - val_loss: 0.0319 - val_mse: 0.0319 - val_mae: 0.1304\n",
            "Epoch 75/200\n",
            "400/400 [==============================] - 1s 3ms/step - loss: 0.0311 - mse: 0.0311 - mae: 0.1310 - val_loss: 0.0354 - val_mse: 0.0354 - val_mae: 0.1391\n",
            "Epoch 76/200\n",
            "400/400 [==============================] - 1s 3ms/step - loss: 0.0307 - mse: 0.0307 - mae: 0.1308 - val_loss: 0.0314 - val_mse: 0.0314 - val_mae: 0.1290\n",
            "Epoch 77/200\n",
            "400/400 [==============================] - 1s 3ms/step - loss: 0.0308 - mse: 0.0308 - mae: 0.1317 - val_loss: 0.0328 - val_mse: 0.0328 - val_mae: 0.1336\n",
            "Epoch 78/200\n",
            "400/400 [==============================] - 1s 3ms/step - loss: 0.0311 - mse: 0.0311 - mae: 0.1314 - val_loss: 0.0331 - val_mse: 0.0331 - val_mae: 0.1349\n",
            "Epoch 79/200\n",
            "400/400 [==============================] - 2s 4ms/step - loss: 0.0307 - mse: 0.0307 - mae: 0.1302 - val_loss: 0.0328 - val_mse: 0.0328 - val_mae: 0.1332\n",
            "Epoch 80/200\n",
            "400/400 [==============================] - 1s 3ms/step - loss: 0.0298 - mse: 0.0298 - mae: 0.1293 - val_loss: 0.0304 - val_mse: 0.0304 - val_mae: 0.1282\n",
            "Epoch 81/200\n",
            "400/400 [==============================] - 2s 4ms/step - loss: 0.0304 - mse: 0.0304 - mae: 0.1294 - val_loss: 0.0306 - val_mse: 0.0306 - val_mae: 0.1287\n",
            "Epoch 82/200\n",
            "400/400 [==============================] - 1s 3ms/step - loss: 0.0307 - mse: 0.0307 - mae: 0.1300 - val_loss: 0.0323 - val_mse: 0.0323 - val_mae: 0.1339\n",
            "Epoch 83/200\n",
            "400/400 [==============================] - 2s 4ms/step - loss: 0.0309 - mse: 0.0309 - mae: 0.1304 - val_loss: 0.0342 - val_mse: 0.0342 - val_mae: 0.1384\n",
            "Epoch 84/200\n",
            "400/400 [==============================] - 1s 3ms/step - loss: 0.0306 - mse: 0.0306 - mae: 0.1308 - val_loss: 0.0320 - val_mse: 0.0320 - val_mae: 0.1321\n",
            "Epoch 85/200\n",
            "400/400 [==============================] - 1s 3ms/step - loss: 0.0302 - mse: 0.0302 - mae: 0.1297 - val_loss: 0.0321 - val_mse: 0.0321 - val_mae: 0.1320\n",
            "Epoch 86/200\n",
            "400/400 [==============================] - 1s 4ms/step - loss: 0.0302 - mse: 0.0302 - mae: 0.1298 - val_loss: 0.0355 - val_mse: 0.0355 - val_mae: 0.1388\n",
            "Epoch 87/200\n",
            "400/400 [==============================] - 2s 4ms/step - loss: 0.0303 - mse: 0.0303 - mae: 0.1293 - val_loss: 0.0327 - val_mse: 0.0327 - val_mae: 0.1333\n",
            "Epoch 88/200\n",
            "400/400 [==============================] - 1s 3ms/step - loss: 0.0306 - mse: 0.0306 - mae: 0.1300 - val_loss: 0.0318 - val_mse: 0.0318 - val_mae: 0.1320\n",
            "Epoch 89/200\n",
            "400/400 [==============================] - 2s 4ms/step - loss: 0.0303 - mse: 0.0303 - mae: 0.1295 - val_loss: 0.0330 - val_mse: 0.0330 - val_mae: 0.1337\n",
            "Epoch 90/200\n",
            "400/400 [==============================] - 1s 3ms/step - loss: 0.0297 - mse: 0.0297 - mae: 0.1279 - val_loss: 0.0301 - val_mse: 0.0301 - val_mae: 0.1273\n",
            "Epoch 91/200\n",
            "400/400 [==============================] - 1s 3ms/step - loss: 0.0293 - mse: 0.0293 - mae: 0.1282 - val_loss: 0.0323 - val_mse: 0.0323 - val_mae: 0.1323\n",
            "Epoch 92/200\n",
            "400/400 [==============================] - 1s 4ms/step - loss: 0.0297 - mse: 0.0297 - mae: 0.1279 - val_loss: 0.0315 - val_mse: 0.0315 - val_mae: 0.1291\n",
            "Epoch 93/200\n",
            "400/400 [==============================] - 1s 4ms/step - loss: 0.0293 - mse: 0.0293 - mae: 0.1276 - val_loss: 0.0314 - val_mse: 0.0314 - val_mae: 0.1294\n",
            "Epoch 94/200\n",
            "400/400 [==============================] - 1s 4ms/step - loss: 0.0294 - mse: 0.0294 - mae: 0.1271 - val_loss: 0.0311 - val_mse: 0.0311 - val_mae: 0.1292\n",
            "Epoch 95/200\n",
            "400/400 [==============================] - 1s 3ms/step - loss: 0.0293 - mse: 0.0293 - mae: 0.1268 - val_loss: 0.0298 - val_mse: 0.0298 - val_mae: 0.1256\n",
            "Epoch 96/200\n",
            "400/400 [==============================] - 1s 4ms/step - loss: 0.0287 - mse: 0.0287 - mae: 0.1258 - val_loss: 0.0313 - val_mse: 0.0313 - val_mae: 0.1295\n",
            "Epoch 97/200\n",
            "400/400 [==============================] - 1s 3ms/step - loss: 0.0291 - mse: 0.0291 - mae: 0.1267 - val_loss: 0.0311 - val_mse: 0.0311 - val_mae: 0.1266\n",
            "Epoch 98/200\n",
            "400/400 [==============================] - 1s 4ms/step - loss: 0.0293 - mse: 0.0293 - mae: 0.1274 - val_loss: 0.0295 - val_mse: 0.0295 - val_mae: 0.1258\n",
            "Epoch 99/200\n",
            "400/400 [==============================] - 1s 4ms/step - loss: 0.0285 - mse: 0.0285 - mae: 0.1264 - val_loss: 0.0309 - val_mse: 0.0309 - val_mae: 0.1287\n",
            "Epoch 100/200\n",
            "400/400 [==============================] - 1s 3ms/step - loss: 0.0285 - mse: 0.0285 - mae: 0.1256 - val_loss: 0.0342 - val_mse: 0.0342 - val_mae: 0.1378\n",
            "Epoch 101/200\n",
            "400/400 [==============================] - 1s 3ms/step - loss: 0.0291 - mse: 0.0291 - mae: 0.1259 - val_loss: 0.0307 - val_mse: 0.0307 - val_mae: 0.1274\n",
            "Epoch 102/200\n",
            "400/400 [==============================] - 2s 4ms/step - loss: 0.0287 - mse: 0.0287 - mae: 0.1253 - val_loss: 0.0320 - val_mse: 0.0320 - val_mae: 0.1330\n",
            "Epoch 103/200\n",
            "400/400 [==============================] - 1s 4ms/step - loss: 0.0290 - mse: 0.0290 - mae: 0.1267 - val_loss: 0.0299 - val_mse: 0.0299 - val_mae: 0.1260\n",
            "Epoch 104/200\n",
            "400/400 [==============================] - 2s 4ms/step - loss: 0.0298 - mse: 0.0298 - mae: 0.1281 - val_loss: 0.0324 - val_mse: 0.0324 - val_mae: 0.1313\n",
            "Epoch 105/200\n",
            "400/400 [==============================] - 1s 3ms/step - loss: 0.0284 - mse: 0.0284 - mae: 0.1253 - val_loss: 0.0291 - val_mse: 0.0291 - val_mae: 0.1255\n",
            "Epoch 106/200\n",
            "400/400 [==============================] - 1s 4ms/step - loss: 0.0289 - mse: 0.0289 - mae: 0.1265 - val_loss: 0.0300 - val_mse: 0.0300 - val_mae: 0.1272\n",
            "Epoch 107/200\n",
            "400/400 [==============================] - 2s 4ms/step - loss: 0.0293 - mse: 0.0293 - mae: 0.1270 - val_loss: 0.0310 - val_mse: 0.0310 - val_mae: 0.1303\n",
            "Epoch 108/200\n",
            "400/400 [==============================] - 1s 4ms/step - loss: 0.0290 - mse: 0.0290 - mae: 0.1265 - val_loss: 0.0304 - val_mse: 0.0304 - val_mae: 0.1289\n",
            "Epoch 109/200\n",
            "400/400 [==============================] - 1s 4ms/step - loss: 0.0291 - mse: 0.0291 - mae: 0.1265 - val_loss: 0.0299 - val_mse: 0.0299 - val_mae: 0.1279\n",
            "Epoch 110/200\n",
            "400/400 [==============================] - 2s 4ms/step - loss: 0.0289 - mse: 0.0289 - mae: 0.1261 - val_loss: 0.0299 - val_mse: 0.0299 - val_mae: 0.1272\n",
            "Epoch 111/200\n",
            "400/400 [==============================] - 1s 4ms/step - loss: 0.0289 - mse: 0.0289 - mae: 0.1254 - val_loss: 0.0295 - val_mse: 0.0295 - val_mae: 0.1253\n",
            "Epoch 112/200\n",
            "400/400 [==============================] - 1s 4ms/step - loss: 0.0279 - mse: 0.0279 - mae: 0.1243 - val_loss: 0.0304 - val_mse: 0.0304 - val_mae: 0.1284\n",
            "Epoch 113/200\n",
            "400/400 [==============================] - 1s 4ms/step - loss: 0.0287 - mse: 0.0287 - mae: 0.1265 - val_loss: 0.0289 - val_mse: 0.0289 - val_mae: 0.1253\n",
            "Epoch 114/200\n",
            "400/400 [==============================] - 1s 4ms/step - loss: 0.0279 - mse: 0.0279 - mae: 0.1245 - val_loss: 0.0282 - val_mse: 0.0282 - val_mae: 0.1199\n",
            "Epoch 115/200\n",
            "400/400 [==============================] - 1s 3ms/step - loss: 0.0286 - mse: 0.0286 - mae: 0.1255 - val_loss: 0.0296 - val_mse: 0.0296 - val_mae: 0.1259\n",
            "Epoch 116/200\n",
            "400/400 [==============================] - 1s 4ms/step - loss: 0.0286 - mse: 0.0286 - mae: 0.1262 - val_loss: 0.0290 - val_mse: 0.0290 - val_mae: 0.1257\n",
            "Epoch 117/200\n",
            "400/400 [==============================] - 2s 4ms/step - loss: 0.0286 - mse: 0.0286 - mae: 0.1254 - val_loss: 0.0302 - val_mse: 0.0302 - val_mae: 0.1273\n",
            "Epoch 118/200\n",
            "400/400 [==============================] - 1s 4ms/step - loss: 0.0283 - mse: 0.0283 - mae: 0.1246 - val_loss: 0.0289 - val_mse: 0.0289 - val_mae: 0.1241\n",
            "Epoch 119/200\n",
            "400/400 [==============================] - 1s 4ms/step - loss: 0.0282 - mse: 0.0282 - mae: 0.1247 - val_loss: 0.0296 - val_mse: 0.0296 - val_mae: 0.1247\n",
            "Epoch 120/200\n",
            "400/400 [==============================] - 1s 3ms/step - loss: 0.0283 - mse: 0.0283 - mae: 0.1250 - val_loss: 0.0276 - val_mse: 0.0276 - val_mae: 0.1220\n",
            "Epoch 121/200\n",
            "400/400 [==============================] - 2s 4ms/step - loss: 0.0275 - mse: 0.0275 - mae: 0.1236 - val_loss: 0.0303 - val_mse: 0.0303 - val_mae: 0.1263\n",
            "Epoch 122/200\n",
            "400/400 [==============================] - 1s 3ms/step - loss: 0.0281 - mse: 0.0281 - mae: 0.1242 - val_loss: 0.0297 - val_mse: 0.0297 - val_mae: 0.1250\n",
            "Epoch 123/200\n",
            "400/400 [==============================] - 1s 4ms/step - loss: 0.0279 - mse: 0.0279 - mae: 0.1241 - val_loss: 0.0289 - val_mse: 0.0289 - val_mae: 0.1238\n",
            "Epoch 124/200\n",
            "400/400 [==============================] - 1s 4ms/step - loss: 0.0280 - mse: 0.0280 - mae: 0.1242 - val_loss: 0.0312 - val_mse: 0.0312 - val_mae: 0.1314\n",
            "Epoch 125/200\n",
            "400/400 [==============================] - 1s 3ms/step - loss: 0.0276 - mse: 0.0276 - mae: 0.1235 - val_loss: 0.0303 - val_mse: 0.0303 - val_mae: 0.1274\n",
            "Epoch 126/200\n",
            "400/400 [==============================] - 1s 3ms/step - loss: 0.0278 - mse: 0.0278 - mae: 0.1242 - val_loss: 0.0284 - val_mse: 0.0284 - val_mae: 0.1240\n",
            "Epoch 127/200\n",
            "400/400 [==============================] - 1s 4ms/step - loss: 0.0274 - mse: 0.0274 - mae: 0.1230 - val_loss: 0.0291 - val_mse: 0.0291 - val_mae: 0.1242\n",
            "Epoch 128/200\n",
            "400/400 [==============================] - 1s 4ms/step - loss: 0.0270 - mse: 0.0270 - mae: 0.1223 - val_loss: 0.0293 - val_mse: 0.0293 - val_mae: 0.1268\n",
            "Epoch 129/200\n",
            "400/400 [==============================] - 2s 4ms/step - loss: 0.0271 - mse: 0.0271 - mae: 0.1222 - val_loss: 0.0289 - val_mse: 0.0289 - val_mae: 0.1250\n",
            "Epoch 130/200\n",
            "400/400 [==============================] - 2s 4ms/step - loss: 0.0279 - mse: 0.0279 - mae: 0.1240 - val_loss: 0.0262 - val_mse: 0.0262 - val_mae: 0.1154\n",
            "Epoch 131/200\n",
            "400/400 [==============================] - 2s 4ms/step - loss: 0.0276 - mse: 0.0276 - mae: 0.1229 - val_loss: 0.0297 - val_mse: 0.0297 - val_mae: 0.1262\n",
            "Epoch 132/200\n",
            "400/400 [==============================] - 1s 3ms/step - loss: 0.0282 - mse: 0.0282 - mae: 0.1248 - val_loss: 0.0299 - val_mse: 0.0299 - val_mae: 0.1265\n",
            "Epoch 133/200\n",
            "400/400 [==============================] - 2s 4ms/step - loss: 0.0274 - mse: 0.0274 - mae: 0.1231 - val_loss: 0.0271 - val_mse: 0.0271 - val_mae: 0.1190\n",
            "Epoch 134/200\n",
            "400/400 [==============================] - 2s 4ms/step - loss: 0.0278 - mse: 0.0278 - mae: 0.1233 - val_loss: 0.0290 - val_mse: 0.0290 - val_mae: 0.1256\n",
            "Epoch 135/200\n",
            "400/400 [==============================] - 2s 4ms/step - loss: 0.0274 - mse: 0.0274 - mae: 0.1227 - val_loss: 0.0283 - val_mse: 0.0283 - val_mae: 0.1221\n",
            "Epoch 136/200\n",
            "400/400 [==============================] - 1s 4ms/step - loss: 0.0276 - mse: 0.0276 - mae: 0.1233 - val_loss: 0.0278 - val_mse: 0.0278 - val_mae: 0.1210\n",
            "Epoch 137/200\n",
            "400/400 [==============================] - 2s 4ms/step - loss: 0.0269 - mse: 0.0269 - mae: 0.1224 - val_loss: 0.0288 - val_mse: 0.0288 - val_mae: 0.1249\n",
            "Epoch 138/200\n",
            "400/400 [==============================] - 1s 3ms/step - loss: 0.0278 - mse: 0.0278 - mae: 0.1236 - val_loss: 0.0291 - val_mse: 0.0291 - val_mae: 0.1243\n",
            "Epoch 139/200\n",
            "400/400 [==============================] - 1s 3ms/step - loss: 0.0269 - mse: 0.0269 - mae: 0.1220 - val_loss: 0.0290 - val_mse: 0.0290 - val_mae: 0.1246\n",
            "Epoch 140/200\n",
            "400/400 [==============================] - 2s 4ms/step - loss: 0.0267 - mse: 0.0267 - mae: 0.1217 - val_loss: 0.0303 - val_mse: 0.0303 - val_mae: 0.1273\n",
            "Epoch 141/200\n",
            "400/400 [==============================] - 1s 3ms/step - loss: 0.0276 - mse: 0.0276 - mae: 0.1233 - val_loss: 0.0302 - val_mse: 0.0302 - val_mae: 0.1293\n",
            "Epoch 142/200\n",
            "400/400 [==============================] - 1s 4ms/step - loss: 0.0273 - mse: 0.0273 - mae: 0.1222 - val_loss: 0.0286 - val_mse: 0.0286 - val_mae: 0.1243\n",
            "Epoch 143/200\n",
            "400/400 [==============================] - 1s 4ms/step - loss: 0.0273 - mse: 0.0273 - mae: 0.1228 - val_loss: 0.0283 - val_mse: 0.0283 - val_mae: 0.1237\n",
            "Epoch 144/200\n",
            "400/400 [==============================] - 2s 4ms/step - loss: 0.0274 - mse: 0.0274 - mae: 0.1225 - val_loss: 0.0294 - val_mse: 0.0294 - val_mae: 0.1259\n",
            "Epoch 145/200\n",
            "400/400 [==============================] - 2s 4ms/step - loss: 0.0269 - mse: 0.0269 - mae: 0.1213 - val_loss: 0.0300 - val_mse: 0.0300 - val_mae: 0.1276\n",
            "Epoch 146/200\n",
            "400/400 [==============================] - 1s 4ms/step - loss: 0.0275 - mse: 0.0275 - mae: 0.1228 - val_loss: 0.0294 - val_mse: 0.0294 - val_mae: 0.1266\n",
            "Epoch 147/200\n",
            "400/400 [==============================] - 2s 4ms/step - loss: 0.0260 - mse: 0.0260 - mae: 0.1203 - val_loss: 0.0288 - val_mse: 0.0288 - val_mae: 0.1245\n",
            "Epoch 148/200\n",
            "400/400 [==============================] - 1s 3ms/step - loss: 0.0268 - mse: 0.0268 - mae: 0.1211 - val_loss: 0.0301 - val_mse: 0.0301 - val_mae: 0.1273\n",
            "Epoch 149/200\n",
            "400/400 [==============================] - 2s 4ms/step - loss: 0.0261 - mse: 0.0261 - mae: 0.1204 - val_loss: 0.0304 - val_mse: 0.0304 - val_mae: 0.1277\n",
            "Epoch 150/200\n",
            "400/400 [==============================] - 2s 4ms/step - loss: 0.0274 - mse: 0.0274 - mae: 0.1227 - val_loss: 0.0291 - val_mse: 0.0291 - val_mae: 0.1221\n",
            "Epoch 151/200\n",
            "400/400 [==============================] - 1s 3ms/step - loss: 0.0271 - mse: 0.0271 - mae: 0.1224 - val_loss: 0.0289 - val_mse: 0.0289 - val_mae: 0.1246\n",
            "Epoch 152/200\n",
            "400/400 [==============================] - 1s 4ms/step - loss: 0.0268 - mse: 0.0268 - mae: 0.1211 - val_loss: 0.0273 - val_mse: 0.0273 - val_mae: 0.1204\n",
            "Epoch 153/200\n",
            "400/400 [==============================] - 1s 4ms/step - loss: 0.0264 - mse: 0.0264 - mae: 0.1211 - val_loss: 0.0285 - val_mse: 0.0285 - val_mae: 0.1234\n",
            "Epoch 154/200\n",
            "400/400 [==============================] - 1s 3ms/step - loss: 0.0276 - mse: 0.0276 - mae: 0.1227 - val_loss: 0.0297 - val_mse: 0.0297 - val_mae: 0.1259\n",
            "Epoch 155/200\n",
            "400/400 [==============================] - 1s 4ms/step - loss: 0.0270 - mse: 0.0270 - mae: 0.1209 - val_loss: 0.0307 - val_mse: 0.0307 - val_mae: 0.1283\n",
            "Epoch 156/200\n",
            "400/400 [==============================] - 1s 4ms/step - loss: 0.0273 - mse: 0.0273 - mae: 0.1225 - val_loss: 0.0270 - val_mse: 0.0270 - val_mae: 0.1183\n",
            "Epoch 157/200\n",
            "400/400 [==============================] - 1s 4ms/step - loss: 0.0271 - mse: 0.0271 - mae: 0.1212 - val_loss: 0.0291 - val_mse: 0.0291 - val_mae: 0.1255\n",
            "Epoch 158/200\n",
            "400/400 [==============================] - 2s 4ms/step - loss: 0.0263 - mse: 0.0263 - mae: 0.1199 - val_loss: 0.0285 - val_mse: 0.0285 - val_mae: 0.1227\n",
            "Epoch 159/200\n",
            "400/400 [==============================] - 2s 4ms/step - loss: 0.0269 - mse: 0.0269 - mae: 0.1216 - val_loss: 0.0268 - val_mse: 0.0268 - val_mae: 0.1183\n",
            "Epoch 160/200\n",
            "400/400 [==============================] - 2s 4ms/step - loss: 0.0266 - mse: 0.0266 - mae: 0.1208 - val_loss: 0.0265 - val_mse: 0.0265 - val_mae: 0.1181\n",
            "Epoch 160: early stopping\n"
          ]
        },
        {
          "data": {
            "text/plain": [
              "<keras.callbacks.History at 0x7f62f83f0390>"
            ]
          },
          "execution_count": 90,
          "metadata": {},
          "output_type": "execute_result"
        }
      ],
      "source": [
        "model.fit(x=X_train, y=y_train, epochs=200,\n",
        "          validation_data=(X_test,y_test),\n",
        "          callbacks=[early_stop])"
      ]
    },
    {
      "cell_type": "code",
      "execution_count": null,
      "metadata": {
        "id": "YnfZTpuC0cvw"
      },
      "outputs": [],
      "source": [
        "test_predictions = model.predict(X_test)"
      ]
    },
    {
      "cell_type": "code",
      "execution_count": null,
      "metadata": {
        "colab": {
          "base_uri": "https://localhost:8080/"
        },
        "id": "e_ArzMqX1w2Y",
        "outputId": "17e2aabc-0037-421a-9bf2-7154c7216864"
      },
      "outputs": [
        {
          "data": {
            "text/plain": [
              "5475"
            ]
          },
          "execution_count": 100,
          "metadata": {},
          "output_type": "execute_result"
        }
      ],
      "source": [
        "len(test_predictions)"
      ]
    },
    {
      "cell_type": "code",
      "execution_count": null,
      "metadata": {
        "colab": {
          "base_uri": "https://localhost:8080/"
        },
        "id": "MNqxvrtPDzjK",
        "outputId": "d859f644-0763-40eb-df2b-4722fdcd4ac5"
      },
      "outputs": [
        {
          "data": {
            "text/plain": [
              "0       0.845466\n",
              "1       1.905341\n",
              "2       1.507795\n",
              "3       2.027539\n",
              "4       1.101372\n",
              "          ...   \n",
              "5470    1.092353\n",
              "5471    0.939143\n",
              "5472    1.857681\n",
              "5473    1.024021\n",
              "5474    1.779218\n",
              "Length: 5475, dtype: float32"
            ]
          },
          "execution_count": 101,
          "metadata": {},
          "output_type": "execute_result"
        }
      ],
      "source": [
        "test_predictions = pd.Series(test_predictions.reshape(5475,))\n",
        "test_predictions"
      ]
    },
    {
      "cell_type": "code",
      "execution_count": null,
      "metadata": {
        "id": "iAIsxGM-D12x"
      },
      "outputs": [],
      "source": [
        "pred_df = pd.DataFrame(y_test, columns=['Test True Y'])"
      ]
    },
    {
      "cell_type": "code",
      "execution_count": null,
      "metadata": {
        "colab": {
          "base_uri": "https://localhost:8080/",
          "height": 424
        },
        "id": "THbKwrnaD31b",
        "outputId": "3f5fbb16-8bba-45d7-f317-b47be77ebde8"
      },
      "outputs": [
        {
          "data": {
            "text/html": [
              "\n",
              "  <div id=\"df-8af97aa7-9963-4a45-99b5-9bfd39189f88\">\n",
              "    <div class=\"colab-df-container\">\n",
              "      <div>\n",
              "<style scoped>\n",
              "    .dataframe tbody tr th:only-of-type {\n",
              "        vertical-align: middle;\n",
              "    }\n",
              "\n",
              "    .dataframe tbody tr th {\n",
              "        vertical-align: top;\n",
              "    }\n",
              "\n",
              "    .dataframe thead th {\n",
              "        text-align: right;\n",
              "    }\n",
              "</style>\n",
              "<table border=\"1\" class=\"dataframe\">\n",
              "  <thead>\n",
              "    <tr style=\"text-align: right;\">\n",
              "      <th></th>\n",
              "      <th>Test True Y</th>\n",
              "      <th>0</th>\n",
              "    </tr>\n",
              "  </thead>\n",
              "  <tbody>\n",
              "    <tr>\n",
              "      <th>0</th>\n",
              "      <td>0.68</td>\n",
              "      <td>0.845466</td>\n",
              "    </tr>\n",
              "    <tr>\n",
              "      <th>1</th>\n",
              "      <td>1.94</td>\n",
              "      <td>1.905341</td>\n",
              "    </tr>\n",
              "    <tr>\n",
              "      <th>2</th>\n",
              "      <td>1.53</td>\n",
              "      <td>1.507795</td>\n",
              "    </tr>\n",
              "    <tr>\n",
              "      <th>3</th>\n",
              "      <td>2.25</td>\n",
              "      <td>2.027539</td>\n",
              "    </tr>\n",
              "    <tr>\n",
              "      <th>4</th>\n",
              "      <td>0.99</td>\n",
              "      <td>1.101372</td>\n",
              "    </tr>\n",
              "    <tr>\n",
              "      <th>...</th>\n",
              "      <td>...</td>\n",
              "      <td>...</td>\n",
              "    </tr>\n",
              "    <tr>\n",
              "      <th>5470</th>\n",
              "      <td>1.12</td>\n",
              "      <td>1.092353</td>\n",
              "    </tr>\n",
              "    <tr>\n",
              "      <th>5471</th>\n",
              "      <td>0.83</td>\n",
              "      <td>0.939143</td>\n",
              "    </tr>\n",
              "    <tr>\n",
              "      <th>5472</th>\n",
              "      <td>1.89</td>\n",
              "      <td>1.857681</td>\n",
              "    </tr>\n",
              "    <tr>\n",
              "      <th>5473</th>\n",
              "      <td>0.96</td>\n",
              "      <td>1.024021</td>\n",
              "    </tr>\n",
              "    <tr>\n",
              "      <th>5474</th>\n",
              "      <td>1.93</td>\n",
              "      <td>1.779218</td>\n",
              "    </tr>\n",
              "  </tbody>\n",
              "</table>\n",
              "<p>5475 rows × 2 columns</p>\n",
              "</div>\n",
              "      <button class=\"colab-df-convert\" onclick=\"convertToInteractive('df-8af97aa7-9963-4a45-99b5-9bfd39189f88')\"\n",
              "              title=\"Convert this dataframe to an interactive table.\"\n",
              "              style=\"display:none;\">\n",
              "        \n",
              "  <svg xmlns=\"http://www.w3.org/2000/svg\" height=\"24px\"viewBox=\"0 0 24 24\"\n",
              "       width=\"24px\">\n",
              "    <path d=\"M0 0h24v24H0V0z\" fill=\"none\"/>\n",
              "    <path d=\"M18.56 5.44l.94 2.06.94-2.06 2.06-.94-2.06-.94-.94-2.06-.94 2.06-2.06.94zm-11 1L8.5 8.5l.94-2.06 2.06-.94-2.06-.94L8.5 2.5l-.94 2.06-2.06.94zm10 10l.94 2.06.94-2.06 2.06-.94-2.06-.94-.94-2.06-.94 2.06-2.06.94z\"/><path d=\"M17.41 7.96l-1.37-1.37c-.4-.4-.92-.59-1.43-.59-.52 0-1.04.2-1.43.59L10.3 9.45l-7.72 7.72c-.78.78-.78 2.05 0 2.83L4 21.41c.39.39.9.59 1.41.59.51 0 1.02-.2 1.41-.59l7.78-7.78 2.81-2.81c.8-.78.8-2.07 0-2.86zM5.41 20L4 18.59l7.72-7.72 1.47 1.35L5.41 20z\"/>\n",
              "  </svg>\n",
              "      </button>\n",
              "      \n",
              "  <style>\n",
              "    .colab-df-container {\n",
              "      display:flex;\n",
              "      flex-wrap:wrap;\n",
              "      gap: 12px;\n",
              "    }\n",
              "\n",
              "    .colab-df-convert {\n",
              "      background-color: #E8F0FE;\n",
              "      border: none;\n",
              "      border-radius: 50%;\n",
              "      cursor: pointer;\n",
              "      display: none;\n",
              "      fill: #1967D2;\n",
              "      height: 32px;\n",
              "      padding: 0 0 0 0;\n",
              "      width: 32px;\n",
              "    }\n",
              "\n",
              "    .colab-df-convert:hover {\n",
              "      background-color: #E2EBFA;\n",
              "      box-shadow: 0px 1px 2px rgba(60, 64, 67, 0.3), 0px 1px 3px 1px rgba(60, 64, 67, 0.15);\n",
              "      fill: #174EA6;\n",
              "    }\n",
              "\n",
              "    [theme=dark] .colab-df-convert {\n",
              "      background-color: #3B4455;\n",
              "      fill: #D2E3FC;\n",
              "    }\n",
              "\n",
              "    [theme=dark] .colab-df-convert:hover {\n",
              "      background-color: #434B5C;\n",
              "      box-shadow: 0px 1px 3px 1px rgba(0, 0, 0, 0.15);\n",
              "      filter: drop-shadow(0px 1px 2px rgba(0, 0, 0, 0.3));\n",
              "      fill: #FFFFFF;\n",
              "    }\n",
              "  </style>\n",
              "\n",
              "      <script>\n",
              "        const buttonEl =\n",
              "          document.querySelector('#df-8af97aa7-9963-4a45-99b5-9bfd39189f88 button.colab-df-convert');\n",
              "        buttonEl.style.display =\n",
              "          google.colab.kernel.accessAllowed ? 'block' : 'none';\n",
              "\n",
              "        async function convertToInteractive(key) {\n",
              "          const element = document.querySelector('#df-8af97aa7-9963-4a45-99b5-9bfd39189f88');\n",
              "          const dataTable =\n",
              "            await google.colab.kernel.invokeFunction('convertToInteractive',\n",
              "                                                     [key], {});\n",
              "          if (!dataTable) return;\n",
              "\n",
              "          const docLinkHtml = 'Like what you see? Visit the ' +\n",
              "            '<a target=\"_blank\" href=https://colab.research.google.com/notebooks/data_table.ipynb>data table notebook</a>'\n",
              "            + ' to learn more about interactive tables.';\n",
              "          element.innerHTML = '';\n",
              "          dataTable['output_type'] = 'display_data';\n",
              "          await google.colab.output.renderOutput(dataTable, element);\n",
              "          const docLink = document.createElement('div');\n",
              "          docLink.innerHTML = docLinkHtml;\n",
              "          element.appendChild(docLink);\n",
              "        }\n",
              "      </script>\n",
              "    </div>\n",
              "  </div>\n",
              "  "
            ],
            "text/plain": [
              "      Test True Y         0\n",
              "0            0.68  0.845466\n",
              "1            1.94  1.905341\n",
              "2            1.53  1.507795\n",
              "3            2.25  2.027539\n",
              "4            0.99  1.101372\n",
              "...           ...       ...\n",
              "5470         1.12  1.092353\n",
              "5471         0.83  0.939143\n",
              "5472         1.89  1.857681\n",
              "5473         0.96  1.024021\n",
              "5474         1.93  1.779218\n",
              "\n",
              "[5475 rows x 2 columns]"
            ]
          },
          "execution_count": 103,
          "metadata": {},
          "output_type": "execute_result"
        }
      ],
      "source": [
        "pred_df = pd.concat([pred_df, test_predictions], axis=1)\n",
        "pred_df"
      ]
    },
    {
      "cell_type": "code",
      "execution_count": null,
      "metadata": {
        "id": "RNFFAY3sD9cy"
      },
      "outputs": [],
      "source": [
        "pred_df.columns = ['Test True Y', 'Model Predictions']"
      ]
    },
    {
      "cell_type": "code",
      "execution_count": null,
      "metadata": {
        "colab": {
          "base_uri": "https://localhost:8080/",
          "height": 296
        },
        "id": "IQN-ldI2EEDC",
        "outputId": "fe0a87fb-582f-4a1a-b7a2-2bcff4c8a398"
      },
      "outputs": [
        {
          "data": {
            "text/plain": [
              "<matplotlib.axes._subplots.AxesSubplot at 0x7f62fb678050>"
            ]
          },
          "execution_count": 105,
          "metadata": {},
          "output_type": "execute_result"
        },
        {
          "data": {
            "image/png": "[encoded data removed]",
            "text/plain": [
              "<Figure size 432x288 with 1 Axes>"
            ]
          },
          "metadata": {},
          "output_type": "display_data"
        }
      ],
      "source": [
        "sns.scatterplot(x='Test True Y', y='Model Predictions', data=pred_df)"
      ]
    },
    {
      "cell_type": "code",
      "execution_count": null,
      "metadata": {
        "id": "wzavaSX4EFla"
      },
      "outputs": [],
      "source": [
        "from sklearn.metrics import mean_absolute_error, mean_squared_error"
      ]
    },
    {
      "cell_type": "code",
      "execution_count": null,
      "metadata": {
        "colab": {
          "base_uri": "https://localhost:8080/"
        },
        "id": "yZjGQVdeENTq",
        "outputId": "f00e1aa1-74ab-435c-ee31-c25715484dda"
      },
      "outputs": [
        {
          "data": {
            "text/plain": [
              "0.11808860729339457"
            ]
          },
          "execution_count": 107,
          "metadata": {},
          "output_type": "execute_result"
        }
      ],
      "source": [
        "mean_absolute_error(pred_df['Test True Y'],pred_df['Model Predictions'])"
      ]
    },
    {
      "cell_type": "code",
      "execution_count": null,
      "metadata": {
        "colab": {
          "base_uri": "https://localhost:8080/"
        },
        "id": "zbDzeB-gEOWa",
        "outputId": "79859efa-eca9-4b01-8661-babb9b1de8d2"
      },
      "outputs": [
        {
          "data": {
            "text/plain": [
              "0.16289234327429203"
            ]
          },
          "execution_count": 108,
          "metadata": {},
          "output_type": "execute_result"
        }
      ],
      "source": [
        "mean_squared_error(pred_df['Test True Y'], pred_df['Model Predictions'])**0.5"
      ]
    },
    {
      "cell_type": "code",
      "execution_count": null,
      "metadata": {
        "id": "hodh6HV3EQor"
      },
      "outputs": [],
      "source": [
        "from sklearn.linear_model import LinearRegression"
      ]
    },
    {
      "cell_type": "code",
      "execution_count": null,
      "metadata": {
        "colab": {
          "base_uri": "https://localhost:8080/"
        },
        "id": "ZleFjFr8EpJ6",
        "outputId": "2d5b0f69-0343-4090-8165-a49c75ff73c3"
      },
      "outputs": [
        {
          "data": {
            "text/plain": [
              "LinearRegression()"
            ]
          },
          "execution_count": 110,
          "metadata": {},
          "output_type": "execute_result"
        }
      ],
      "source": [
        "regressor = LinearRegression()\n",
        "regressor.fit(X_test, y_test)"
      ]
    },
    {
      "cell_type": "code",
      "execution_count": null,
      "metadata": {
        "id": "eGBViUawE1To"
      },
      "outputs": [],
      "source": [
        "test_predictions = regressor.predict(X_test)"
      ]
    },
    {
      "cell_type": "code",
      "execution_count": null,
      "metadata": {
        "colab": {
          "base_uri": "https://localhost:8080/"
        },
        "id": "8A9uSa7zE1Tp",
        "outputId": "97be9967-b69e-40c0-854a-7e2c69ac9fd8"
      },
      "outputs": [
        {
          "data": {
            "text/plain": [
              "5475"
            ]
          },
          "execution_count": 112,
          "metadata": {},
          "output_type": "execute_result"
        }
      ],
      "source": [
        "len(test_predictions)"
      ]
    },
    {
      "cell_type": "code",
      "execution_count": null,
      "metadata": {
        "colab": {
          "base_uri": "https://localhost:8080/"
        },
        "id": "Haj-snVFE1Tq",
        "outputId": "cf13b740-dbba-417e-fc90-e7544c19e47a"
      },
      "outputs": [
        {
          "data": {
            "text/plain": [
              "0       1.015061\n",
              "1       1.642592\n",
              "2       1.551254\n",
              "3       1.867117\n",
              "4       1.302088\n",
              "          ...   \n",
              "5470    1.253755\n",
              "5471    0.816082\n",
              "5472    1.784951\n",
              "5473    1.174865\n",
              "5474    1.787473\n",
              "Length: 5475, dtype: float64"
            ]
          },
          "execution_count": 113,
          "metadata": {},
          "output_type": "execute_result"
        }
      ],
      "source": [
        "test_predictions = pd.Series(test_predictions.reshape(5475,))\n",
        "test_predictions"
      ]
    },
    {
      "cell_type": "code",
      "execution_count": null,
      "metadata": {
        "id": "WW6RQBj8E1Tq"
      },
      "outputs": [],
      "source": [
        "pred_df = pd.DataFrame(y_test, columns=['Test True Y'])"
      ]
    },
    {
      "cell_type": "code",
      "execution_count": null,
      "metadata": {
        "colab": {
          "base_uri": "https://localhost:8080/",
          "height": 424
        },
        "id": "0Fu1YI48E1Tq",
        "outputId": "e1705bd1-712c-4ff5-fe01-14325abffd2f"
      },
      "outputs": [
        {
          "data": {
            "text/html": [
              "\n",
              "  <div id=\"df-eb61aa84-9c19-421b-8174-3febaef8d9a4\">\n",
              "    <div class=\"colab-df-container\">\n",
              "      <div>\n",
              "<style scoped>\n",
              "    .dataframe tbody tr th:only-of-type {\n",
              "        vertical-align: middle;\n",
              "    }\n",
              "\n",
              "    .dataframe tbody tr th {\n",
              "        vertical-align: top;\n",
              "    }\n",
              "\n",
              "    .dataframe thead th {\n",
              "        text-align: right;\n",
              "    }\n",
              "</style>\n",
              "<table border=\"1\" class=\"dataframe\">\n",
              "  <thead>\n",
              "    <tr style=\"text-align: right;\">\n",
              "      <th></th>\n",
              "      <th>Test True Y</th>\n",
              "      <th>0</th>\n",
              "    </tr>\n",
              "  </thead>\n",
              "  <tbody>\n",
              "    <tr>\n",
              "      <th>0</th>\n",
              "      <td>0.68</td>\n",
              "      <td>1.015061</td>\n",
              "    </tr>\n",
              "    <tr>\n",
              "      <th>1</th>\n",
              "      <td>1.94</td>\n",
              "      <td>1.642592</td>\n",
              "    </tr>\n",
              "    <tr>\n",
              "      <th>2</th>\n",
              "      <td>1.53</td>\n",
              "      <td>1.551254</td>\n",
              "    </tr>\n",
              "    <tr>\n",
              "      <th>3</th>\n",
              "      <td>2.25</td>\n",
              "      <td>1.867117</td>\n",
              "    </tr>\n",
              "    <tr>\n",
              "      <th>4</th>\n",
              "      <td>0.99</td>\n",
              "      <td>1.302088</td>\n",
              "    </tr>\n",
              "    <tr>\n",
              "      <th>...</th>\n",
              "      <td>...</td>\n",
              "      <td>...</td>\n",
              "    </tr>\n",
              "    <tr>\n",
              "      <th>5470</th>\n",
              "      <td>1.12</td>\n",
              "      <td>1.253755</td>\n",
              "    </tr>\n",
              "    <tr>\n",
              "      <th>5471</th>\n",
              "      <td>0.83</td>\n",
              "      <td>0.816082</td>\n",
              "    </tr>\n",
              "    <tr>\n",
              "      <th>5472</th>\n",
              "      <td>1.89</td>\n",
              "      <td>1.784951</td>\n",
              "    </tr>\n",
              "    <tr>\n",
              "      <th>5473</th>\n",
              "      <td>0.96</td>\n",
              "      <td>1.174865</td>\n",
              "    </tr>\n",
              "    <tr>\n",
              "      <th>5474</th>\n",
              "      <td>1.93</td>\n",
              "      <td>1.787473</td>\n",
              "    </tr>\n",
              "  </tbody>\n",
              "</table>\n",
              "<p>5475 rows × 2 columns</p>\n",
              "</div>\n",
              "      <button class=\"colab-df-convert\" onclick=\"convertToInteractive('df-eb61aa84-9c19-421b-8174-3febaef8d9a4')\"\n",
              "              title=\"Convert this dataframe to an interactive table.\"\n",
              "              style=\"display:none;\">\n",
              "        \n",
              "  <svg xmlns=\"http://www.w3.org/2000/svg\" height=\"24px\"viewBox=\"0 0 24 24\"\n",
              "       width=\"24px\">\n",
              "    <path d=\"M0 0h24v24H0V0z\" fill=\"none\"/>\n",
              "    <path d=\"M18.56 5.44l.94 2.06.94-2.06 2.06-.94-2.06-.94-.94-2.06-.94 2.06-2.06.94zm-11 1L8.5 8.5l.94-2.06 2.06-.94-2.06-.94L8.5 2.5l-.94 2.06-2.06.94zm10 10l.94 2.06.94-2.06 2.06-.94-2.06-.94-.94-2.06-.94 2.06-2.06.94z\"/><path d=\"M17.41 7.96l-1.37-1.37c-.4-.4-.92-.59-1.43-.59-.52 0-1.04.2-1.43.59L10.3 9.45l-7.72 7.72c-.78.78-.78 2.05 0 2.83L4 21.41c.39.39.9.59 1.41.59.51 0 1.02-.2 1.41-.59l7.78-7.78 2.81-2.81c.8-.78.8-2.07 0-2.86zM5.41 20L4 18.59l7.72-7.72 1.47 1.35L5.41 20z\"/>\n",
              "  </svg>\n",
              "      </button>\n",
              "      \n",
              "  <style>\n",
              "    .colab-df-container {\n",
              "      display:flex;\n",
              "      flex-wrap:wrap;\n",
              "      gap: 12px;\n",
              "    }\n",
              "\n",
              "    .colab-df-convert {\n",
              "      background-color: #E8F0FE;\n",
              "      border: none;\n",
              "      border-radius: 50%;\n",
              "      cursor: pointer;\n",
              "      display: none;\n",
              "      fill: #1967D2;\n",
              "      height: 32px;\n",
              "      padding: 0 0 0 0;\n",
              "      width: 32px;\n",
              "    }\n",
              "\n",
              "    .colab-df-convert:hover {\n",
              "      background-color: #E2EBFA;\n",
              "      box-shadow: 0px 1px 2px rgba(60, 64, 67, 0.3), 0px 1px 3px 1px rgba(60, 64, 67, 0.15);\n",
              "      fill: #174EA6;\n",
              "    }\n",
              "\n",
              "    [theme=dark] .colab-df-convert {\n",
              "      background-color: #3B4455;\n",
              "      fill: #D2E3FC;\n",
              "    }\n",
              "\n",
              "    [theme=dark] .colab-df-convert:hover {\n",
              "      background-color: #434B5C;\n",
              "      box-shadow: 0px 1px 3px 1px rgba(0, 0, 0, 0.15);\n",
              "      filter: drop-shadow(0px 1px 2px rgba(0, 0, 0, 0.3));\n",
              "      fill: #FFFFFF;\n",
              "    }\n",
              "  </style>\n",
              "\n",
              "      <script>\n",
              "        const buttonEl =\n",
              "          document.querySelector('#df-eb61aa84-9c19-421b-8174-3febaef8d9a4 button.colab-df-convert');\n",
              "        buttonEl.style.display =\n",
              "          google.colab.kernel.accessAllowed ? 'block' : 'none';\n",
              "\n",
              "        async function convertToInteractive(key) {\n",
              "          const element = document.querySelector('#df-eb61aa84-9c19-421b-8174-3febaef8d9a4');\n",
              "          const dataTable =\n",
              "            await google.colab.kernel.invokeFunction('convertToInteractive',\n",
              "                                                     [key], {});\n",
              "          if (!dataTable) return;\n",
              "\n",
              "          const docLinkHtml = 'Like what you see? Visit the ' +\n",
              "            '<a target=\"_blank\" href=https://colab.research.google.com/notebooks/data_table.ipynb>data table notebook</a>'\n",
              "            + ' to learn more about interactive tables.';\n",
              "          element.innerHTML = '';\n",
              "          dataTable['output_type'] = 'display_data';\n",
              "          await google.colab.output.renderOutput(dataTable, element);\n",
              "          const docLink = document.createElement('div');\n",
              "          docLink.innerHTML = docLinkHtml;\n",
              "          element.appendChild(docLink);\n",
              "        }\n",
              "      </script>\n",
              "    </div>\n",
              "  </div>\n",
              "  "
            ],
            "text/plain": [
              "      Test True Y         0\n",
              "0            0.68  1.015061\n",
              "1            1.94  1.642592\n",
              "2            1.53  1.551254\n",
              "3            2.25  1.867117\n",
              "4            0.99  1.302088\n",
              "...           ...       ...\n",
              "5470         1.12  1.253755\n",
              "5471         0.83  0.816082\n",
              "5472         1.89  1.784951\n",
              "5473         0.96  1.174865\n",
              "5474         1.93  1.787473\n",
              "\n",
              "[5475 rows x 2 columns]"
            ]
          },
          "execution_count": 115,
          "metadata": {},
          "output_type": "execute_result"
        }
      ],
      "source": [
        "pred_df = pd.concat([pred_df, test_predictions], axis=1)\n",
        "pred_df"
      ]
    },
    {
      "cell_type": "code",
      "execution_count": null,
      "metadata": {
        "id": "V9NIWL7aE1Tr"
      },
      "outputs": [],
      "source": [
        "pred_df.columns = ['Test True Y', 'Model Predictions']"
      ]
    },
    {
      "cell_type": "code",
      "execution_count": null,
      "metadata": {
        "colab": {
          "base_uri": "https://localhost:8080/",
          "height": 296
        },
        "id": "YG4ziQxYE1Tr",
        "outputId": "a7b9c618-76e7-4c71-8a20-676fd098ae7a"
      },
      "outputs": [
        {
          "data": {
            "text/plain": [
              "<matplotlib.axes._subplots.AxesSubplot at 0x7f62fb75a1d0>"
            ]
          },
          "execution_count": 117,
          "metadata": {},
          "output_type": "execute_result"
        },
        {
          "data": {
            "image/png": "[encoded data removed]",
            "text/plain": [
              "<Figure size 432x288 with 1 Axes>"
            ]
          },
          "metadata": {},
          "output_type": "display_data"
        }
      ],
      "source": [
        "sns.scatterplot(x='Test True Y', y='Model Predictions', data=pred_df)"
      ]
    },
    {
      "cell_type": "code",
      "execution_count": null,
      "metadata": {
        "colab": {
          "base_uri": "https://localhost:8080/"
        },
        "id": "oq9X7uyHE9oa",
        "outputId": "7e5efa61-3224-4017-9221-8cf0134fe996"
      },
      "outputs": [
        {
          "data": {
            "text/plain": [
              "0.1966092199262178"
            ]
          },
          "execution_count": 118,
          "metadata": {},
          "output_type": "execute_result"
        }
      ],
      "source": [
        "mean_absolute_error(pred_df['Test True Y'],pred_df['Model Predictions'])"
      ]
    },
    {
      "cell_type": "code",
      "execution_count": null,
      "metadata": {
        "colab": {
          "base_uri": "https://localhost:8080/"
        },
        "id": "Zwlk6HyaFClS",
        "outputId": "d0e32278-2c10-4d22-a177-2895991204ca"
      },
      "outputs": [
        {
          "data": {
            "text/plain": [
              "0.2602456395130635"
            ]
          },
          "execution_count": 119,
          "metadata": {},
          "output_type": "execute_result"
        }
      ],
      "source": [
        "mean_squared_error(pred_df['Test True Y'], pred_df['Model Predictions'])**0.5"
      ]
    },
    {
      "cell_type": "code",
      "execution_count": null,
      "metadata": {
        "id": "yslXdYm5NUUV"
      },
      "outputs": [],
      "source": [
        "input_ = keras.layers.Input(shape=X_train.shape[1:])\n",
        "dropout1 = Dropout(0.2)(input_)\n",
        "hidden1 = keras.layers.Dense(39, activation=\"relu\")(dropout1)\n",
        "dropout2 = Dropout(0.2)(hidden1)\n",
        "hidden2 = keras.layers.Dense(19, activation=\"relu\")(dropout2)\n",
        "dropout3 = Dropout(0.2)(hidden2)\n",
        "concat = keras.layers.Concatenate()([dropout1, dropout3])\n",
        "dropout4 = Dropout(0.2)(concat)\n",
        "output = keras.layers.Dense(units=1, activation='linear')(dropout4)\n",
        "model = keras.Model(inputs=[input_], outputs=[output])\n",
        "\n",
        "model.compile(loss='mse', optimizer='adam', metrics=['mse', 'mae'])"
      ]
    },
    {
      "cell_type": "code",
      "execution_count": null,
      "metadata": {
        "id": "rOsvKgOKPHmD"
      },
      "outputs": [],
      "source": [
        "from tensorflow.keras.callbacks import EarlyStopping"
      ]
    },
    {
      "cell_type": "code",
      "execution_count": null,
      "metadata": {
        "id": "w3a2MiacPHmE"
      },
      "outputs": [],
      "source": [
        "early_stop = EarlyStopping(monitor='val_mse',\n",
        "                           mode='min', verbose=1, patience= 30)"
      ]
    },
    {
      "cell_type": "code",
      "execution_count": null,
      "metadata": {
        "colab": {
          "background_save": true
        },
        "id": "zJ_7r9q-Pcxu"
      },
      "outputs": [],
      "source": [
        ""
      ]
    }
  ],
  "metadata": {
    "colab": {
      "collapsed_sections": [],
      "name": "Avocado.ipynb",
      "provenance": [],
      "mount_file_id": "1AprZ9vhEYrutdFgeY3XOcqlUmFZT77kc",
      "authorship_tag": "ABX9TyMw6GFemh/aZE/70ph9/irY",
      "include_colab_link": true
    },
    "kernelspec": {
      "display_name": "Python 3",
      "name": "python3"
    },
    "language_info": {
      "name": "python"
    }
  },
  "nbformat": 4,
  "nbformat_minor": 0
}