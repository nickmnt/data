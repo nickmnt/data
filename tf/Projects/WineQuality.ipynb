{
  "nbformat": 4,
  "nbformat_minor": 0,
  "metadata": {
    "colab": {
      "name": "WineQuality.ipynb",
      "provenance": [],
      "mount_file_id": "1xBxvkj7R-tRk1LgIzlm89zPmnObpeRpx",
      "authorship_tag": "ABX9TyNG3PuMKrhyVxn5c/VAy8Gr",
      "include_colab_link": true
    },
    "kernelspec": {
      "name": "python3",
      "display_name": "Python 3"
    },
    "language_info": {
      "name": "python"
    }
  },
  "cells": [
    {
      "cell_type": "markdown",
      "metadata": {
        "id": "view-in-github",
        "colab_type": "text"
      },
      "source": [
        "<a href=\"https://colab.research.google.com/github/nimamt/machine_learning/blob/master/tf/Projects/WineQuality.ipynb\" target=\"_parent\"><img src=\"https://colab.research.google.com/assets/colab-badge.svg\" alt=\"Open In Colab\"/></a>"
      ]
    },
    {
      "cell_type": "markdown",
      "source": [
        "# Wine Quality Dataset\n",
        "\n",
        "https://www.kaggle.com/datasets/wine-quality-dataset"
      ],
      "metadata": {
        "id": "RZiaZJ-CZ5ii"
      }
    },
    {
      "cell_type": "markdown",
      "source": [
        "## Basics"
      ],
      "metadata": {
        "id": "vNCfT7mb_Vge"
      }
    },
    {
      "cell_type": "code",
      "execution_count": 32,
      "metadata": {
        "id": "hgW7E6UYsMKW"
      },
      "outputs": [],
      "source": [
        "import numpy as np\n",
        "import pandas as pd\n",
        "import matplotlib.pyplot as plt\n",
        "import seaborn as sns\n",
        "\n",
        "%matplotlib inline"
      ]
    },
    {
      "cell_type": "code",
      "source": [
        "from google.colab import drive\n",
        "drive.mount('/content/drive')"
      ],
      "metadata": {
        "colab": {
          "base_uri": "https://localhost:8080/"
        },
        "id": "CYqKlf7_-883",
        "outputId": "d78f739f-469b-4b5f-d876-bde835960173"
      },
      "execution_count": 33,
      "outputs": [
        {
          "output_type": "stream",
          "name": "stdout",
          "text": [
            "Drive already mounted at /content/drive; to attempt to forcibly remount, call drive.mount(\"/content/drive\", force_remount=True).\n"
          ]
        }
      ]
    },
    {
      "cell_type": "code",
      "source": [
        "! pip install kaggle\n",
        "! mkdir ~/.kaggle\n",
        "!cp /content/drive/MyDrive/kaggle.json ~/.kaggle/kaggle.json\n",
        "! chmod 600 ~/.kaggle/kaggle.json"
      ],
      "metadata": {
        "colab": {
          "base_uri": "https://localhost:8080/"
        },
        "id": "0pjEMmiUsfte",
        "outputId": "b9794668-072a-4800-efbd-9af1243db738"
      },
      "execution_count": 34,
      "outputs": [
        {
          "output_type": "stream",
          "name": "stdout",
          "text": [
            "Requirement already satisfied: kaggle in /usr/local/lib/python3.7/dist-packages (1.5.12)\n",
            "Requirement already satisfied: python-slugify in /usr/local/lib/python3.7/dist-packages (from kaggle) (6.1.2)\n",
            "Requirement already satisfied: tqdm in /usr/local/lib/python3.7/dist-packages (from kaggle) (4.64.0)\n",
            "Requirement already satisfied: python-dateutil in /usr/local/lib/python3.7/dist-packages (from kaggle) (2.8.2)\n",
            "Requirement already satisfied: urllib3 in /usr/local/lib/python3.7/dist-packages (from kaggle) (1.24.3)\n",
            "Requirement already satisfied: six>=1.10 in /usr/local/lib/python3.7/dist-packages (from kaggle) (1.15.0)\n",
            "Requirement already satisfied: certifi in /usr/local/lib/python3.7/dist-packages (from kaggle) (2021.10.8)\n",
            "Requirement already satisfied: requests in /usr/local/lib/python3.7/dist-packages (from kaggle) (2.23.0)\n",
            "Requirement already satisfied: text-unidecode>=1.3 in /usr/local/lib/python3.7/dist-packages (from python-slugify->kaggle) (1.3)\n",
            "Requirement already satisfied: idna<3,>=2.5 in /usr/local/lib/python3.7/dist-packages (from requests->kaggle) (2.10)\n",
            "Requirement already satisfied: chardet<4,>=3.0.2 in /usr/local/lib/python3.7/dist-packages (from requests->kaggle) (3.0.4)\n",
            "mkdir: cannot create directory ‘/root/.kaggle’: File exists\n"
          ]
        }
      ]
    },
    {
      "cell_type": "code",
      "source": [
        "! kaggle datasets download yasserh/wine-quality-dataset"
      ],
      "metadata": {
        "colab": {
          "base_uri": "https://localhost:8080/"
        },
        "id": "UtnGbcH7sgad",
        "outputId": "df503da2-b7ec-4857-f5b0-5c4aad025d29"
      },
      "execution_count": 35,
      "outputs": [
        {
          "output_type": "stream",
          "name": "stdout",
          "text": [
            "wine-quality-dataset.zip: Skipping, found more recently modified local copy (use --force to force download)\n"
          ]
        }
      ]
    },
    {
      "cell_type": "code",
      "source": [
        "! unzip -o wine-quality-dataset.zip"
      ],
      "metadata": {
        "colab": {
          "base_uri": "https://localhost:8080/"
        },
        "id": "peuQWmflsqW_",
        "outputId": "158d5fdf-d3c9-4b4d-c194-be554da671a0"
      },
      "execution_count": 36,
      "outputs": [
        {
          "output_type": "stream",
          "name": "stdout",
          "text": [
            "Archive:  wine-quality-dataset.zip\n",
            "  inflating: WineQT.csv              \n"
          ]
        }
      ]
    },
    {
      "cell_type": "code",
      "source": [
        "df.head()"
      ],
      "metadata": {
        "colab": {
          "base_uri": "https://localhost:8080/",
          "height": 268
        },
        "id": "arqNng9Ss46P",
        "outputId": "6e8c7085-4229-4432-a208-10dc206458ff"
      },
      "execution_count": 37,
      "outputs": [
        {
          "output_type": "execute_result",
          "data": {
            "text/plain": [
              "   fixed acidity  volatile acidity  citric acid  residual sugar  chlorides  \\\n",
              "0            7.4              0.70         0.00             1.9      0.076   \n",
              "1            7.8              0.88         0.00             2.6      0.098   \n",
              "2            7.8              0.76         0.04             2.3      0.092   \n",
              "3           11.2              0.28         0.56             1.9      0.075   \n",
              "4            7.4              0.70         0.00             1.9      0.076   \n",
              "\n",
              "   free sulfur dioxide  total sulfur dioxide  density    pH  sulphates  \\\n",
              "0                 11.0                  34.0   0.9978  3.51       0.56   \n",
              "1                 25.0                  67.0   0.9968  3.20       0.68   \n",
              "2                 15.0                  54.0   0.9970  3.26       0.65   \n",
              "3                 17.0                  60.0   0.9980  3.16       0.58   \n",
              "4                 11.0                  34.0   0.9978  3.51       0.56   \n",
              "\n",
              "   alcohol  quality  Id  \n",
              "0      9.4        5   0  \n",
              "1      9.8        5   1  \n",
              "2      9.8        5   2  \n",
              "3      9.8        6   3  \n",
              "4      9.4        5   4  "
            ],
            "text/html": [
              "\n",
              "  <div id=\"df-8bf10a22-3098-4d70-9a7d-bcebcbf44c01\">\n",
              "    <div class=\"colab-df-container\">\n",
              "      <div>\n",
              "<style scoped>\n",
              "    .dataframe tbody tr th:only-of-type {\n",
              "        vertical-align: middle;\n",
              "    }\n",
              "\n",
              "    .dataframe tbody tr th {\n",
              "        vertical-align: top;\n",
              "    }\n",
              "\n",
              "    .dataframe thead th {\n",
              "        text-align: right;\n",
              "    }\n",
              "</style>\n",
              "<table border=\"1\" class=\"dataframe\">\n",
              "  <thead>\n",
              "    <tr style=\"text-align: right;\">\n",
              "      <th></th>\n",
              "      <th>fixed acidity</th>\n",
              "      <th>volatile acidity</th>\n",
              "      <th>citric acid</th>\n",
              "      <th>residual sugar</th>\n",
              "      <th>chlorides</th>\n",
              "      <th>free sulfur dioxide</th>\n",
              "      <th>total sulfur dioxide</th>\n",
              "      <th>density</th>\n",
              "      <th>pH</th>\n",
              "      <th>sulphates</th>\n",
              "      <th>alcohol</th>\n",
              "      <th>quality</th>\n",
              "      <th>Id</th>\n",
              "    </tr>\n",
              "  </thead>\n",
              "  <tbody>\n",
              "    <tr>\n",
              "      <th>0</th>\n",
              "      <td>7.4</td>\n",
              "      <td>0.70</td>\n",
              "      <td>0.00</td>\n",
              "      <td>1.9</td>\n",
              "      <td>0.076</td>\n",
              "      <td>11.0</td>\n",
              "      <td>34.0</td>\n",
              "      <td>0.9978</td>\n",
              "      <td>3.51</td>\n",
              "      <td>0.56</td>\n",
              "      <td>9.4</td>\n",
              "      <td>5</td>\n",
              "      <td>0</td>\n",
              "    </tr>\n",
              "    <tr>\n",
              "      <th>1</th>\n",
              "      <td>7.8</td>\n",
              "      <td>0.88</td>\n",
              "      <td>0.00</td>\n",
              "      <td>2.6</td>\n",
              "      <td>0.098</td>\n",
              "      <td>25.0</td>\n",
              "      <td>67.0</td>\n",
              "      <td>0.9968</td>\n",
              "      <td>3.20</td>\n",
              "      <td>0.68</td>\n",
              "      <td>9.8</td>\n",
              "      <td>5</td>\n",
              "      <td>1</td>\n",
              "    </tr>\n",
              "    <tr>\n",
              "      <th>2</th>\n",
              "      <td>7.8</td>\n",
              "      <td>0.76</td>\n",
              "      <td>0.04</td>\n",
              "      <td>2.3</td>\n",
              "      <td>0.092</td>\n",
              "      <td>15.0</td>\n",
              "      <td>54.0</td>\n",
              "      <td>0.9970</td>\n",
              "      <td>3.26</td>\n",
              "      <td>0.65</td>\n",
              "      <td>9.8</td>\n",
              "      <td>5</td>\n",
              "      <td>2</td>\n",
              "    </tr>\n",
              "    <tr>\n",
              "      <th>3</th>\n",
              "      <td>11.2</td>\n",
              "      <td>0.28</td>\n",
              "      <td>0.56</td>\n",
              "      <td>1.9</td>\n",
              "      <td>0.075</td>\n",
              "      <td>17.0</td>\n",
              "      <td>60.0</td>\n",
              "      <td>0.9980</td>\n",
              "      <td>3.16</td>\n",
              "      <td>0.58</td>\n",
              "      <td>9.8</td>\n",
              "      <td>6</td>\n",
              "      <td>3</td>\n",
              "    </tr>\n",
              "    <tr>\n",
              "      <th>4</th>\n",
              "      <td>7.4</td>\n",
              "      <td>0.70</td>\n",
              "      <td>0.00</td>\n",
              "      <td>1.9</td>\n",
              "      <td>0.076</td>\n",
              "      <td>11.0</td>\n",
              "      <td>34.0</td>\n",
              "      <td>0.9978</td>\n",
              "      <td>3.51</td>\n",
              "      <td>0.56</td>\n",
              "      <td>9.4</td>\n",
              "      <td>5</td>\n",
              "      <td>4</td>\n",
              "    </tr>\n",
              "  </tbody>\n",
              "</table>\n",
              "</div>\n",
              "      <button class=\"colab-df-convert\" onclick=\"convertToInteractive('df-8bf10a22-3098-4d70-9a7d-bcebcbf44c01')\"\n",
              "              title=\"Convert this dataframe to an interactive table.\"\n",
              "              style=\"display:none;\">\n",
              "        \n",
              "  <svg xmlns=\"http://www.w3.org/2000/svg\" height=\"24px\"viewBox=\"0 0 24 24\"\n",
              "       width=\"24px\">\n",
              "    <path d=\"M0 0h24v24H0V0z\" fill=\"none\"/>\n",
              "    <path d=\"M18.56 5.44l.94 2.06.94-2.06 2.06-.94-2.06-.94-.94-2.06-.94 2.06-2.06.94zm-11 1L8.5 8.5l.94-2.06 2.06-.94-2.06-.94L8.5 2.5l-.94 2.06-2.06.94zm10 10l.94 2.06.94-2.06 2.06-.94-2.06-.94-.94-2.06-.94 2.06-2.06.94z\"/><path d=\"M17.41 7.96l-1.37-1.37c-.4-.4-.92-.59-1.43-.59-.52 0-1.04.2-1.43.59L10.3 9.45l-7.72 7.72c-.78.78-.78 2.05 0 2.83L4 21.41c.39.39.9.59 1.41.59.51 0 1.02-.2 1.41-.59l7.78-7.78 2.81-2.81c.8-.78.8-2.07 0-2.86zM5.41 20L4 18.59l7.72-7.72 1.47 1.35L5.41 20z\"/>\n",
              "  </svg>\n",
              "      </button>\n",
              "      \n",
              "  <style>\n",
              "    .colab-df-container {\n",
              "      display:flex;\n",
              "      flex-wrap:wrap;\n",
              "      gap: 12px;\n",
              "    }\n",
              "\n",
              "    .colab-df-convert {\n",
              "      background-color: #E8F0FE;\n",
              "      border: none;\n",
              "      border-radius: 50%;\n",
              "      cursor: pointer;\n",
              "      display: none;\n",
              "      fill: #1967D2;\n",
              "      height: 32px;\n",
              "      padding: 0 0 0 0;\n",
              "      width: 32px;\n",
              "    }\n",
              "\n",
              "    .colab-df-convert:hover {\n",
              "      background-color: #E2EBFA;\n",
              "      box-shadow: 0px 1px 2px rgba(60, 64, 67, 0.3), 0px 1px 3px 1px rgba(60, 64, 67, 0.15);\n",
              "      fill: #174EA6;\n",
              "    }\n",
              "\n",
              "    [theme=dark] .colab-df-convert {\n",
              "      background-color: #3B4455;\n",
              "      fill: #D2E3FC;\n",
              "    }\n",
              "\n",
              "    [theme=dark] .colab-df-convert:hover {\n",
              "      background-color: #434B5C;\n",
              "      box-shadow: 0px 1px 3px 1px rgba(0, 0, 0, 0.15);\n",
              "      filter: drop-shadow(0px 1px 2px rgba(0, 0, 0, 0.3));\n",
              "      fill: #FFFFFF;\n",
              "    }\n",
              "  </style>\n",
              "\n",
              "      <script>\n",
              "        const buttonEl =\n",
              "          document.querySelector('#df-8bf10a22-3098-4d70-9a7d-bcebcbf44c01 button.colab-df-convert');\n",
              "        buttonEl.style.display =\n",
              "          google.colab.kernel.accessAllowed ? 'block' : 'none';\n",
              "\n",
              "        async function convertToInteractive(key) {\n",
              "          const element = document.querySelector('#df-8bf10a22-3098-4d70-9a7d-bcebcbf44c01');\n",
              "          const dataTable =\n",
              "            await google.colab.kernel.invokeFunction('convertToInteractive',\n",
              "                                                     [key], {});\n",
              "          if (!dataTable) return;\n",
              "\n",
              "          const docLinkHtml = 'Like what you see? Visit the ' +\n",
              "            '<a target=\"_blank\" href=https://colab.research.google.com/notebooks/data_table.ipynb>data table notebook</a>'\n",
              "            + ' to learn more about interactive tables.';\n",
              "          element.innerHTML = '';\n",
              "          dataTable['output_type'] = 'display_data';\n",
              "          await google.colab.output.renderOutput(dataTable, element);\n",
              "          const docLink = document.createElement('div');\n",
              "          docLink.innerHTML = docLinkHtml;\n",
              "          element.appendChild(docLink);\n",
              "        }\n",
              "      </script>\n",
              "    </div>\n",
              "  </div>\n",
              "  "
            ]
          },
          "metadata": {},
          "execution_count": 37
        }
      ]
    },
    {
      "cell_type": "code",
      "source": [
        "df = pd.read_csv('/content/WineQT.csv')"
      ],
      "metadata": {
        "id": "8l6XQbsIsy5i"
      },
      "execution_count": 38,
      "outputs": []
    },
    {
      "cell_type": "code",
      "source": [
        "df.isnull().sum()"
      ],
      "metadata": {
        "colab": {
          "base_uri": "https://localhost:8080/"
        },
        "id": "nd-kzwGdvdu9",
        "outputId": "b630987a-0b15-4d38-a5e7-8838d922692d"
      },
      "execution_count": 39,
      "outputs": [
        {
          "output_type": "execute_result",
          "data": {
            "text/plain": [
              "fixed acidity           0\n",
              "volatile acidity        0\n",
              "citric acid             0\n",
              "residual sugar          0\n",
              "chlorides               0\n",
              "free sulfur dioxide     0\n",
              "total sulfur dioxide    0\n",
              "density                 0\n",
              "pH                      0\n",
              "sulphates               0\n",
              "alcohol                 0\n",
              "quality                 0\n",
              "Id                      0\n",
              "dtype: int64"
            ]
          },
          "metadata": {},
          "execution_count": 39
        }
      ]
    },
    {
      "cell_type": "code",
      "source": [
        "X = df.drop('quality', axis=1).values\n",
        "y = df['quality'].values\n",
        "\n",
        "from sklearn.model_selection import train_test_split\n",
        "\n",
        "X_train, X_test, y_train, y_test = train_test_split(X, y, test_size=0.2,\n",
        "                                                    random_state=101)"
      ],
      "metadata": {
        "id": "vCiuP2hfvnfz"
      },
      "execution_count": 40,
      "outputs": []
    },
    {
      "cell_type": "code",
      "source": [
        "from sklearn.preprocessing import MinMaxScaler"
      ],
      "metadata": {
        "id": "nS3Mg2ctvxAY"
      },
      "execution_count": 41,
      "outputs": []
    },
    {
      "cell_type": "code",
      "source": [
        "scaler = MinMaxScaler()\n",
        "\n",
        "X_train = scaler.fit_transform(X_train)\n",
        "X_test = scaler.transform(X_test)"
      ],
      "metadata": {
        "id": "hOvBlEqDv78D"
      },
      "execution_count": 42,
      "outputs": []
    },
    {
      "cell_type": "markdown",
      "source": [
        "## Tensorflow NN Model"
      ],
      "metadata": {
        "id": "z0U-8QkJ-oLk"
      }
    },
    {
      "cell_type": "code",
      "source": [
        "import tensorflow as tf\n",
        "from tensorflow import keras\n",
        "from tensorflow.keras.models import Sequential\n",
        "from tensorflow.keras.layers import Dense,Dropout"
      ],
      "metadata": {
        "id": "WxoJLN0Hv83E"
      },
      "execution_count": 43,
      "outputs": []
    },
    {
      "cell_type": "code",
      "source": [
        "X_train.shape[1:]"
      ],
      "metadata": {
        "colab": {
          "base_uri": "https://localhost:8080/"
        },
        "id": "37Vk8I0Bv9yX",
        "outputId": "866df2fb-c73f-4ab0-d349-f8fcaec03402"
      },
      "execution_count": 44,
      "outputs": [
        {
          "output_type": "execute_result",
          "data": {
            "text/plain": [
              "(12,)"
            ]
          },
          "metadata": {},
          "execution_count": 44
        }
      ]
    },
    {
      "cell_type": "code",
      "source": [
        "model = Sequential()\n",
        "\n",
        "model.add(keras.layers.Input(shape=X_train.shape[1:]))\n",
        "\n",
        "model.add(Dense(10, activation='relu'))\n",
        "model.add(Dropout(0.2))\n",
        "\n",
        "model.add(Dense(10, activation='relu'))\n",
        "model.add(Dropout(0.2))\n",
        "\n",
        "model.add(Dense(10, activation='relu'))\n",
        "model.add(Dropout(0.2))\n",
        "\n",
        "model.add(Dense(units=1, activation='linear'))\n",
        "\n",
        "opt = keras.optimizers.Adam(learning_rate=0.001)\n",
        "model.compile(loss='mse', optimizer=opt, metrics=['mse', 'mae'])"
      ],
      "metadata": {
        "id": "jmaK6fgRv-xw"
      },
      "execution_count": 45,
      "outputs": []
    },
    {
      "cell_type": "code",
      "source": [
        "from tensorflow.keras.callbacks import EarlyStopping\n",
        "\n",
        "early_stop = EarlyStopping(monitor='val_mse',\n",
        "                           mode='min', verbose=1, patience= 30)"
      ],
      "metadata": {
        "id": "ZuhJtEzAwrJ-"
      },
      "execution_count": 46,
      "outputs": []
    },
    {
      "cell_type": "code",
      "source": [
        "model.fit(x=X_train, y=y_train, epochs=600, batch_size=32,\n",
        "          validation_data=(X_test,y_test), callbacks=[early_stop])"
      ],
      "metadata": {
        "colab": {
          "base_uri": "https://localhost:8080/"
        },
        "id": "CE8h-VbHwbPw",
        "outputId": "b9f721bd-05ec-412e-b51a-b9b81ba5bc2e"
      },
      "execution_count": 47,
      "outputs": [
        {
          "output_type": "stream",
          "name": "stdout",
          "text": [
            "Epoch 1/600\n",
            "29/29 [==============================] - 1s 9ms/step - loss: 30.7586 - mse: 30.7586 - mae: 5.4821 - val_loss: 28.5488 - val_mse: 28.5488 - val_mae: 5.2879\n",
            "Epoch 2/600\n",
            "29/29 [==============================] - 0s 4ms/step - loss: 26.7380 - mse: 26.7380 - mae: 5.0977 - val_loss: 22.7864 - val_mse: 22.7864 - val_mae: 4.7127\n",
            "Epoch 3/600\n",
            "29/29 [==============================] - 0s 3ms/step - loss: 19.4083 - mse: 19.4083 - mae: 4.2671 - val_loss: 13.2879 - val_mse: 13.2879 - val_mae: 3.5660\n",
            "Epoch 4/600\n",
            "29/29 [==============================] - 0s 3ms/step - loss: 11.0239 - mse: 11.0239 - mae: 2.9567 - val_loss: 4.5508 - val_mse: 4.5508 - val_mae: 1.9877\n",
            "Epoch 5/600\n",
            "29/29 [==============================] - 0s 3ms/step - loss: 6.1813 - mse: 6.1813 - mae: 2.0528 - val_loss: 1.5873 - val_mse: 1.5873 - val_mae: 1.0297\n",
            "Epoch 6/600\n",
            "29/29 [==============================] - 0s 5ms/step - loss: 5.7388 - mse: 5.7388 - mae: 1.9765 - val_loss: 1.3076 - val_mse: 1.3076 - val_mae: 0.9071\n",
            "Epoch 7/600\n",
            "29/29 [==============================] - 0s 7ms/step - loss: 5.5357 - mse: 5.5357 - mae: 1.9330 - val_loss: 1.2815 - val_mse: 1.2815 - val_mae: 0.8973\n",
            "Epoch 8/600\n",
            "29/29 [==============================] - 0s 4ms/step - loss: 4.9431 - mse: 4.9431 - mae: 1.7974 - val_loss: 1.3754 - val_mse: 1.3754 - val_mae: 0.9402\n",
            "Epoch 9/600\n",
            "29/29 [==============================] - 0s 3ms/step - loss: 4.6984 - mse: 4.6984 - mae: 1.7661 - val_loss: 1.4697 - val_mse: 1.4697 - val_mae: 0.9877\n",
            "Epoch 10/600\n",
            "29/29 [==============================] - 0s 4ms/step - loss: 4.8363 - mse: 4.8363 - mae: 1.7976 - val_loss: 1.3548 - val_mse: 1.3548 - val_mae: 0.9376\n",
            "Epoch 11/600\n",
            "29/29 [==============================] - 0s 3ms/step - loss: 4.6892 - mse: 4.6892 - mae: 1.7523 - val_loss: 1.1854 - val_mse: 1.1854 - val_mae: 0.8580\n",
            "Epoch 12/600\n",
            "29/29 [==============================] - 0s 4ms/step - loss: 4.4463 - mse: 4.4463 - mae: 1.7144 - val_loss: 1.0725 - val_mse: 1.0725 - val_mae: 0.8034\n",
            "Epoch 13/600\n",
            "29/29 [==============================] - 0s 3ms/step - loss: 4.0399 - mse: 4.0399 - mae: 1.6139 - val_loss: 1.2158 - val_mse: 1.2158 - val_mae: 0.8807\n",
            "Epoch 14/600\n",
            "29/29 [==============================] - 0s 3ms/step - loss: 4.2254 - mse: 4.2254 - mae: 1.6822 - val_loss: 1.0315 - val_mse: 1.0315 - val_mae: 0.7873\n",
            "Epoch 15/600\n",
            "29/29 [==============================] - 0s 3ms/step - loss: 3.9452 - mse: 3.9452 - mae: 1.6062 - val_loss: 1.0497 - val_mse: 1.0497 - val_mae: 0.8017\n",
            "Epoch 16/600\n",
            "29/29 [==============================] - 0s 3ms/step - loss: 3.8181 - mse: 3.8181 - mae: 1.5947 - val_loss: 1.1755 - val_mse: 1.1755 - val_mae: 0.8722\n",
            "Epoch 17/600\n",
            "29/29 [==============================] - 0s 3ms/step - loss: 3.7504 - mse: 3.7504 - mae: 1.5611 - val_loss: 1.1024 - val_mse: 1.1024 - val_mae: 0.8325\n",
            "Epoch 18/600\n",
            "29/29 [==============================] - 0s 3ms/step - loss: 3.5338 - mse: 3.5338 - mae: 1.5164 - val_loss: 1.0345 - val_mse: 1.0345 - val_mae: 0.7998\n",
            "Epoch 19/600\n",
            "29/29 [==============================] - 0s 4ms/step - loss: 3.1493 - mse: 3.1493 - mae: 1.4114 - val_loss: 0.8658 - val_mse: 0.8658 - val_mae: 0.7080\n",
            "Epoch 20/600\n",
            "29/29 [==============================] - 0s 3ms/step - loss: 3.5425 - mse: 3.5425 - mae: 1.5108 - val_loss: 1.0030 - val_mse: 1.0030 - val_mae: 0.7900\n",
            "Epoch 21/600\n",
            "29/29 [==============================] - 0s 3ms/step - loss: 3.2393 - mse: 3.2393 - mae: 1.4547 - val_loss: 1.0413 - val_mse: 1.0413 - val_mae: 0.8178\n",
            "Epoch 22/600\n",
            "29/29 [==============================] - 0s 3ms/step - loss: 3.0322 - mse: 3.0322 - mae: 1.4015 - val_loss: 0.7732 - val_mse: 0.7732 - val_mae: 0.6611\n",
            "Epoch 23/600\n",
            "29/29 [==============================] - 0s 3ms/step - loss: 2.7409 - mse: 2.7409 - mae: 1.3074 - val_loss: 0.9652 - val_mse: 0.9652 - val_mae: 0.7753\n",
            "Epoch 24/600\n",
            "29/29 [==============================] - 0s 4ms/step - loss: 2.8046 - mse: 2.8046 - mae: 1.3430 - val_loss: 0.8605 - val_mse: 0.8605 - val_mae: 0.7118\n",
            "Epoch 25/600\n",
            "29/29 [==============================] - 0s 4ms/step - loss: 2.7391 - mse: 2.7391 - mae: 1.3386 - val_loss: 0.9258 - val_mse: 0.9258 - val_mae: 0.7524\n",
            "Epoch 26/600\n",
            "29/29 [==============================] - 0s 5ms/step - loss: 2.9044 - mse: 2.9044 - mae: 1.3778 - val_loss: 1.1487 - val_mse: 1.1487 - val_mae: 0.8763\n",
            "Epoch 27/600\n",
            "29/29 [==============================] - 0s 5ms/step - loss: 2.5864 - mse: 2.5864 - mae: 1.3077 - val_loss: 0.7714 - val_mse: 0.7714 - val_mae: 0.6539\n",
            "Epoch 28/600\n",
            "29/29 [==============================] - 0s 3ms/step - loss: 2.6737 - mse: 2.6737 - mae: 1.3052 - val_loss: 0.8963 - val_mse: 0.8963 - val_mae: 0.7219\n",
            "Epoch 29/600\n",
            "29/29 [==============================] - 0s 3ms/step - loss: 2.7873 - mse: 2.7873 - mae: 1.3196 - val_loss: 0.7239 - val_mse: 0.7239 - val_mae: 0.6282\n",
            "Epoch 30/600\n",
            "29/29 [==============================] - 0s 4ms/step - loss: 2.5341 - mse: 2.5341 - mae: 1.3006 - val_loss: 0.7947 - val_mse: 0.7947 - val_mae: 0.6673\n",
            "Epoch 31/600\n",
            "29/29 [==============================] - 0s 3ms/step - loss: 2.4946 - mse: 2.4946 - mae: 1.2688 - val_loss: 0.7032 - val_mse: 0.7032 - val_mae: 0.6208\n",
            "Epoch 32/600\n",
            "29/29 [==============================] - 0s 3ms/step - loss: 2.2526 - mse: 2.2526 - mae: 1.2196 - val_loss: 0.6565 - val_mse: 0.6565 - val_mae: 0.5978\n",
            "Epoch 33/600\n",
            "29/29 [==============================] - 0s 3ms/step - loss: 2.5262 - mse: 2.5262 - mae: 1.2767 - val_loss: 0.5695 - val_mse: 0.5695 - val_mae: 0.5602\n",
            "Epoch 34/600\n",
            "29/29 [==============================] - 0s 3ms/step - loss: 2.3743 - mse: 2.3743 - mae: 1.2328 - val_loss: 0.5434 - val_mse: 0.5434 - val_mae: 0.5499\n",
            "Epoch 35/600\n",
            "29/29 [==============================] - 0s 3ms/step - loss: 2.2280 - mse: 2.2280 - mae: 1.1829 - val_loss: 0.7731 - val_mse: 0.7731 - val_mae: 0.6670\n",
            "Epoch 36/600\n",
            "29/29 [==============================] - 0s 4ms/step - loss: 2.2099 - mse: 2.2099 - mae: 1.1849 - val_loss: 0.5543 - val_mse: 0.5543 - val_mae: 0.5511\n",
            "Epoch 37/600\n",
            "29/29 [==============================] - 0s 3ms/step - loss: 2.1489 - mse: 2.1489 - mae: 1.1632 - val_loss: 0.5613 - val_mse: 0.5613 - val_mae: 0.5531\n",
            "Epoch 38/600\n",
            "29/29 [==============================] - 0s 3ms/step - loss: 2.0363 - mse: 2.0363 - mae: 1.1346 - val_loss: 0.6579 - val_mse: 0.6579 - val_mae: 0.6058\n",
            "Epoch 39/600\n",
            "29/29 [==============================] - 0s 3ms/step - loss: 2.1143 - mse: 2.1143 - mae: 1.1455 - val_loss: 0.5859 - val_mse: 0.5859 - val_mae: 0.5628\n",
            "Epoch 40/600\n",
            "29/29 [==============================] - 0s 3ms/step - loss: 2.0778 - mse: 2.0778 - mae: 1.1504 - val_loss: 0.6194 - val_mse: 0.6194 - val_mae: 0.5827\n",
            "Epoch 41/600\n",
            "29/29 [==============================] - 0s 3ms/step - loss: 1.9903 - mse: 1.9903 - mae: 1.1237 - val_loss: 0.5875 - val_mse: 0.5875 - val_mae: 0.5652\n",
            "Epoch 42/600\n",
            "29/29 [==============================] - 0s 3ms/step - loss: 2.0599 - mse: 2.0599 - mae: 1.1360 - val_loss: 0.5212 - val_mse: 0.5212 - val_mae: 0.5323\n",
            "Epoch 43/600\n",
            "29/29 [==============================] - 0s 3ms/step - loss: 2.0637 - mse: 2.0637 - mae: 1.1371 - val_loss: 0.5317 - val_mse: 0.5317 - val_mae: 0.5386\n",
            "Epoch 44/600\n",
            "29/29 [==============================] - 0s 3ms/step - loss: 1.9719 - mse: 1.9719 - mae: 1.1207 - val_loss: 0.4990 - val_mse: 0.4990 - val_mae: 0.5239\n",
            "Epoch 45/600\n",
            "29/29 [==============================] - 0s 4ms/step - loss: 1.9674 - mse: 1.9674 - mae: 1.1178 - val_loss: 0.5107 - val_mse: 0.5107 - val_mae: 0.5269\n",
            "Epoch 46/600\n",
            "29/29 [==============================] - 0s 3ms/step - loss: 1.9591 - mse: 1.9591 - mae: 1.1104 - val_loss: 0.5176 - val_mse: 0.5176 - val_mae: 0.5290\n",
            "Epoch 47/600\n",
            "29/29 [==============================] - 0s 6ms/step - loss: 1.9622 - mse: 1.9622 - mae: 1.1064 - val_loss: 0.5270 - val_mse: 0.5270 - val_mae: 0.5353\n",
            "Epoch 48/600\n",
            "29/29 [==============================] - 0s 6ms/step - loss: 1.8913 - mse: 1.8913 - mae: 1.0969 - val_loss: 0.4838 - val_mse: 0.4838 - val_mae: 0.5139\n",
            "Epoch 49/600\n",
            "29/29 [==============================] - 0s 5ms/step - loss: 1.9750 - mse: 1.9750 - mae: 1.1167 - val_loss: 0.5428 - val_mse: 0.5428 - val_mae: 0.5439\n",
            "Epoch 50/600\n",
            "29/29 [==============================] - 0s 5ms/step - loss: 1.7945 - mse: 1.7945 - mae: 1.0401 - val_loss: 0.5256 - val_mse: 0.5256 - val_mae: 0.5353\n",
            "Epoch 51/600\n",
            "29/29 [==============================] - 0s 6ms/step - loss: 1.8282 - mse: 1.8282 - mae: 1.0652 - val_loss: 0.5549 - val_mse: 0.5549 - val_mae: 0.5525\n",
            "Epoch 52/600\n",
            "29/29 [==============================] - 0s 5ms/step - loss: 1.8156 - mse: 1.8156 - mae: 1.0748 - val_loss: 0.5449 - val_mse: 0.5449 - val_mae: 0.5458\n",
            "Epoch 53/600\n",
            "29/29 [==============================] - 0s 5ms/step - loss: 1.9034 - mse: 1.9034 - mae: 1.0915 - val_loss: 0.5545 - val_mse: 0.5545 - val_mae: 0.5522\n",
            "Epoch 54/600\n",
            "29/29 [==============================] - 0s 6ms/step - loss: 1.6421 - mse: 1.6421 - mae: 1.0102 - val_loss: 0.5232 - val_mse: 0.5232 - val_mae: 0.5310\n",
            "Epoch 55/600\n",
            "29/29 [==============================] - 0s 7ms/step - loss: 1.9559 - mse: 1.9559 - mae: 1.1089 - val_loss: 0.5999 - val_mse: 0.5999 - val_mae: 0.5721\n",
            "Epoch 56/600\n",
            "29/29 [==============================] - 0s 5ms/step - loss: 1.7442 - mse: 1.7442 - mae: 1.0440 - val_loss: 0.5720 - val_mse: 0.5720 - val_mae: 0.5537\n",
            "Epoch 57/600\n",
            "29/29 [==============================] - 0s 5ms/step - loss: 1.8096 - mse: 1.8096 - mae: 1.0530 - val_loss: 0.5370 - val_mse: 0.5370 - val_mae: 0.5353\n",
            "Epoch 58/600\n",
            "29/29 [==============================] - 0s 7ms/step - loss: 1.7066 - mse: 1.7066 - mae: 1.0169 - val_loss: 0.4626 - val_mse: 0.4626 - val_mae: 0.5064\n",
            "Epoch 59/600\n",
            "29/29 [==============================] - 0s 8ms/step - loss: 1.5934 - mse: 1.5934 - mae: 1.0194 - val_loss: 0.5132 - val_mse: 0.5132 - val_mae: 0.5232\n",
            "Epoch 60/600\n",
            "29/29 [==============================] - 0s 5ms/step - loss: 1.7113 - mse: 1.7113 - mae: 1.0383 - val_loss: 0.5386 - val_mse: 0.5386 - val_mae: 0.5338\n",
            "Epoch 61/600\n",
            "29/29 [==============================] - 0s 6ms/step - loss: 1.6564 - mse: 1.6564 - mae: 1.0384 - val_loss: 0.4756 - val_mse: 0.4756 - val_mae: 0.5051\n",
            "Epoch 62/600\n",
            "29/29 [==============================] - 0s 5ms/step - loss: 1.6012 - mse: 1.6012 - mae: 1.0134 - val_loss: 0.4600 - val_mse: 0.4600 - val_mae: 0.5041\n",
            "Epoch 63/600\n",
            "29/29 [==============================] - 0s 7ms/step - loss: 1.7082 - mse: 1.7082 - mae: 1.0311 - val_loss: 0.4530 - val_mse: 0.4530 - val_mae: 0.5012\n",
            "Epoch 64/600\n",
            "29/29 [==============================] - 0s 7ms/step - loss: 1.7680 - mse: 1.7680 - mae: 1.0476 - val_loss: 0.4694 - val_mse: 0.4694 - val_mae: 0.5025\n",
            "Epoch 65/600\n",
            "29/29 [==============================] - 0s 6ms/step - loss: 1.6545 - mse: 1.6545 - mae: 1.0016 - val_loss: 0.4726 - val_mse: 0.4726 - val_mae: 0.5010\n",
            "Epoch 66/600\n",
            "29/29 [==============================] - 0s 7ms/step - loss: 1.6417 - mse: 1.6417 - mae: 1.0100 - val_loss: 0.4958 - val_mse: 0.4958 - val_mae: 0.5102\n",
            "Epoch 67/600\n",
            "29/29 [==============================] - 0s 6ms/step - loss: 1.6252 - mse: 1.6252 - mae: 0.9976 - val_loss: 0.4432 - val_mse: 0.4432 - val_mae: 0.4863\n",
            "Epoch 68/600\n",
            "29/29 [==============================] - 0s 10ms/step - loss: 1.6553 - mse: 1.6553 - mae: 1.0184 - val_loss: 0.4547 - val_mse: 0.4547 - val_mae: 0.4909\n",
            "Epoch 69/600\n",
            "29/29 [==============================] - 0s 8ms/step - loss: 1.6457 - mse: 1.6457 - mae: 1.0168 - val_loss: 0.4844 - val_mse: 0.4844 - val_mae: 0.5032\n",
            "Epoch 70/600\n",
            "29/29 [==============================] - 0s 9ms/step - loss: 1.5541 - mse: 1.5541 - mae: 0.9868 - val_loss: 0.4738 - val_mse: 0.4738 - val_mae: 0.4985\n",
            "Epoch 71/600\n",
            "29/29 [==============================] - 0s 7ms/step - loss: 1.6911 - mse: 1.6911 - mae: 1.0278 - val_loss: 0.4476 - val_mse: 0.4476 - val_mae: 0.4908\n",
            "Epoch 72/600\n",
            "29/29 [==============================] - 0s 8ms/step - loss: 1.5391 - mse: 1.5391 - mae: 0.9635 - val_loss: 0.4238 - val_mse: 0.4238 - val_mae: 0.4870\n",
            "Epoch 73/600\n",
            "29/29 [==============================] - 0s 5ms/step - loss: 1.5435 - mse: 1.5435 - mae: 0.9758 - val_loss: 0.5135 - val_mse: 0.5135 - val_mae: 0.5182\n",
            "Epoch 74/600\n",
            "29/29 [==============================] - 0s 7ms/step - loss: 1.5577 - mse: 1.5577 - mae: 0.9949 - val_loss: 0.4566 - val_mse: 0.4566 - val_mae: 0.4949\n",
            "Epoch 75/600\n",
            "29/29 [==============================] - 0s 4ms/step - loss: 1.6131 - mse: 1.6131 - mae: 1.0042 - val_loss: 0.5068 - val_mse: 0.5068 - val_mae: 0.5144\n",
            "Epoch 76/600\n",
            "29/29 [==============================] - 0s 9ms/step - loss: 1.5030 - mse: 1.5030 - mae: 0.9725 - val_loss: 0.4624 - val_mse: 0.4624 - val_mae: 0.5029\n",
            "Epoch 77/600\n",
            "29/29 [==============================] - 0s 6ms/step - loss: 1.4851 - mse: 1.4851 - mae: 0.9524 - val_loss: 0.4741 - val_mse: 0.4741 - val_mae: 0.5033\n",
            "Epoch 78/600\n",
            "29/29 [==============================] - 0s 6ms/step - loss: 1.5181 - mse: 1.5181 - mae: 0.9842 - val_loss: 0.4620 - val_mse: 0.4620 - val_mae: 0.4974\n",
            "Epoch 79/600\n",
            "29/29 [==============================] - 0s 5ms/step - loss: 1.4786 - mse: 1.4786 - mae: 0.9657 - val_loss: 0.5097 - val_mse: 0.5097 - val_mae: 0.5149\n",
            "Epoch 80/600\n",
            "29/29 [==============================] - 0s 6ms/step - loss: 1.4784 - mse: 1.4784 - mae: 0.9674 - val_loss: 0.4535 - val_mse: 0.4535 - val_mae: 0.4890\n",
            "Epoch 81/600\n",
            "29/29 [==============================] - 0s 7ms/step - loss: 1.3941 - mse: 1.3941 - mae: 0.9353 - val_loss: 0.4530 - val_mse: 0.4530 - val_mae: 0.4857\n",
            "Epoch 82/600\n",
            "29/29 [==============================] - 0s 5ms/step - loss: 1.4350 - mse: 1.4350 - mae: 0.9501 - val_loss: 0.4755 - val_mse: 0.4755 - val_mae: 0.4979\n",
            "Epoch 83/600\n",
            "29/29 [==============================] - 0s 6ms/step - loss: 1.5547 - mse: 1.5547 - mae: 0.9809 - val_loss: 0.4367 - val_mse: 0.4367 - val_mae: 0.4812\n",
            "Epoch 84/600\n",
            "29/29 [==============================] - 0s 5ms/step - loss: 1.3484 - mse: 1.3484 - mae: 0.9154 - val_loss: 0.4465 - val_mse: 0.4465 - val_mae: 0.4822\n",
            "Epoch 85/600\n",
            "29/29 [==============================] - 0s 7ms/step - loss: 1.5714 - mse: 1.5714 - mae: 0.9981 - val_loss: 0.4275 - val_mse: 0.4275 - val_mae: 0.4812\n",
            "Epoch 86/600\n",
            "29/29 [==============================] - 0s 5ms/step - loss: 1.4656 - mse: 1.4656 - mae: 0.9600 - val_loss: 0.4214 - val_mse: 0.4214 - val_mae: 0.4760\n",
            "Epoch 87/600\n",
            "29/29 [==============================] - 0s 8ms/step - loss: 1.4621 - mse: 1.4621 - mae: 0.9534 - val_loss: 0.4738 - val_mse: 0.4738 - val_mae: 0.4939\n",
            "Epoch 88/600\n",
            "29/29 [==============================] - 0s 5ms/step - loss: 1.6200 - mse: 1.6200 - mae: 0.9867 - val_loss: 0.4474 - val_mse: 0.4474 - val_mae: 0.4872\n",
            "Epoch 89/600\n",
            "29/29 [==============================] - 0s 5ms/step - loss: 1.4048 - mse: 1.4048 - mae: 0.9303 - val_loss: 0.4072 - val_mse: 0.4072 - val_mae: 0.4798\n",
            "Epoch 90/600\n",
            "29/29 [==============================] - 0s 5ms/step - loss: 1.3652 - mse: 1.3652 - mae: 0.9251 - val_loss: 0.4638 - val_mse: 0.4638 - val_mae: 0.4864\n",
            "Epoch 91/600\n",
            "29/29 [==============================] - 0s 7ms/step - loss: 1.4266 - mse: 1.4266 - mae: 0.9533 - val_loss: 0.4256 - val_mse: 0.4256 - val_mae: 0.4703\n",
            "Epoch 92/600\n",
            "29/29 [==============================] - 0s 6ms/step - loss: 1.4586 - mse: 1.4586 - mae: 0.9682 - val_loss: 0.4537 - val_mse: 0.4537 - val_mae: 0.4831\n",
            "Epoch 93/600\n",
            "29/29 [==============================] - 0s 5ms/step - loss: 1.3918 - mse: 1.3918 - mae: 0.9376 - val_loss: 0.4211 - val_mse: 0.4211 - val_mae: 0.4798\n",
            "Epoch 94/600\n",
            "29/29 [==============================] - 0s 6ms/step - loss: 1.3532 - mse: 1.3532 - mae: 0.9098 - val_loss: 0.4207 - val_mse: 0.4207 - val_mae: 0.4770\n",
            "Epoch 95/600\n",
            "29/29 [==============================] - 0s 4ms/step - loss: 1.3484 - mse: 1.3484 - mae: 0.9104 - val_loss: 0.4565 - val_mse: 0.4565 - val_mae: 0.4863\n",
            "Epoch 96/600\n",
            "29/29 [==============================] - 0s 7ms/step - loss: 1.2372 - mse: 1.2372 - mae: 0.8662 - val_loss: 0.4551 - val_mse: 0.4551 - val_mae: 0.4886\n",
            "Epoch 97/600\n",
            "29/29 [==============================] - 0s 7ms/step - loss: 1.3206 - mse: 1.3206 - mae: 0.9140 - val_loss: 0.4152 - val_mse: 0.4152 - val_mae: 0.4801\n",
            "Epoch 98/600\n",
            "29/29 [==============================] - 0s 5ms/step - loss: 1.3000 - mse: 1.3000 - mae: 0.9130 - val_loss: 0.4662 - val_mse: 0.4662 - val_mae: 0.4909\n",
            "Epoch 99/600\n",
            "29/29 [==============================] - 0s 6ms/step - loss: 1.3123 - mse: 1.3123 - mae: 0.8971 - val_loss: 0.4184 - val_mse: 0.4184 - val_mae: 0.4791\n",
            "Epoch 100/600\n",
            "29/29 [==============================] - 0s 7ms/step - loss: 1.3278 - mse: 1.3278 - mae: 0.9082 - val_loss: 0.4172 - val_mse: 0.4172 - val_mae: 0.4760\n",
            "Epoch 101/600\n",
            "29/29 [==============================] - 0s 5ms/step - loss: 1.3346 - mse: 1.3346 - mae: 0.9152 - val_loss: 0.4512 - val_mse: 0.4512 - val_mae: 0.4849\n",
            "Epoch 102/600\n",
            "29/29 [==============================] - 0s 5ms/step - loss: 1.4218 - mse: 1.4218 - mae: 0.9499 - val_loss: 0.4189 - val_mse: 0.4189 - val_mae: 0.4765\n",
            "Epoch 103/600\n",
            "29/29 [==============================] - 0s 5ms/step - loss: 1.3212 - mse: 1.3212 - mae: 0.9092 - val_loss: 0.4389 - val_mse: 0.4389 - val_mae: 0.4804\n",
            "Epoch 104/600\n",
            "29/29 [==============================] - 0s 9ms/step - loss: 1.2941 - mse: 1.2941 - mae: 0.8880 - val_loss: 0.4250 - val_mse: 0.4250 - val_mae: 0.4736\n",
            "Epoch 105/600\n",
            "29/29 [==============================] - 0s 6ms/step - loss: 1.2625 - mse: 1.2625 - mae: 0.8883 - val_loss: 0.4463 - val_mse: 0.4463 - val_mae: 0.4789\n",
            "Epoch 106/600\n",
            "29/29 [==============================] - 0s 5ms/step - loss: 1.2043 - mse: 1.2043 - mae: 0.8768 - val_loss: 0.4227 - val_mse: 0.4227 - val_mae: 0.4756\n",
            "Epoch 107/600\n",
            "29/29 [==============================] - 0s 7ms/step - loss: 1.2635 - mse: 1.2635 - mae: 0.9004 - val_loss: 0.4177 - val_mse: 0.4177 - val_mae: 0.4727\n",
            "Epoch 108/600\n",
            "29/29 [==============================] - 0s 8ms/step - loss: 1.3014 - mse: 1.3014 - mae: 0.8945 - val_loss: 0.4194 - val_mse: 0.4194 - val_mae: 0.4730\n",
            "Epoch 109/600\n",
            "29/29 [==============================] - 0s 6ms/step - loss: 1.2348 - mse: 1.2348 - mae: 0.8811 - val_loss: 0.4069 - val_mse: 0.4069 - val_mae: 0.4686\n",
            "Epoch 110/600\n",
            "29/29 [==============================] - 0s 7ms/step - loss: 1.3055 - mse: 1.3055 - mae: 0.9021 - val_loss: 0.4134 - val_mse: 0.4134 - val_mae: 0.4638\n",
            "Epoch 111/600\n",
            "29/29 [==============================] - 0s 5ms/step - loss: 1.3098 - mse: 1.3098 - mae: 0.9052 - val_loss: 0.4060 - val_mse: 0.4060 - val_mae: 0.4665\n",
            "Epoch 112/600\n",
            "29/29 [==============================] - 0s 5ms/step - loss: 1.2012 - mse: 1.2012 - mae: 0.8623 - val_loss: 0.4146 - val_mse: 0.4146 - val_mae: 0.4679\n",
            "Epoch 113/600\n",
            "29/29 [==============================] - 0s 6ms/step - loss: 1.2798 - mse: 1.2798 - mae: 0.8886 - val_loss: 0.4351 - val_mse: 0.4351 - val_mae: 0.4749\n",
            "Epoch 114/600\n",
            "29/29 [==============================] - 0s 5ms/step - loss: 1.2790 - mse: 1.2790 - mae: 0.8909 - val_loss: 0.4063 - val_mse: 0.4063 - val_mae: 0.4730\n",
            "Epoch 115/600\n",
            "29/29 [==============================] - 0s 9ms/step - loss: 1.2491 - mse: 1.2491 - mae: 0.8827 - val_loss: 0.4157 - val_mse: 0.4157 - val_mae: 0.4747\n",
            "Epoch 116/600\n",
            "29/29 [==============================] - 0s 8ms/step - loss: 1.2660 - mse: 1.2660 - mae: 0.8825 - val_loss: 0.4165 - val_mse: 0.4165 - val_mae: 0.4749\n",
            "Epoch 117/600\n",
            "29/29 [==============================] - 0s 8ms/step - loss: 1.1744 - mse: 1.1744 - mae: 0.8562 - val_loss: 0.4120 - val_mse: 0.4120 - val_mae: 0.4727\n",
            "Epoch 118/600\n",
            "29/29 [==============================] - 0s 12ms/step - loss: 1.2909 - mse: 1.2909 - mae: 0.8843 - val_loss: 0.4185 - val_mse: 0.4185 - val_mae: 0.4788\n",
            "Epoch 119/600\n",
            "29/29 [==============================] - 0s 8ms/step - loss: 1.2799 - mse: 1.2799 - mae: 0.8949 - val_loss: 0.4250 - val_mse: 0.4250 - val_mae: 0.4772\n",
            "Epoch 120/600\n",
            "29/29 [==============================] - 0s 7ms/step - loss: 1.1810 - mse: 1.1810 - mae: 0.8661 - val_loss: 0.4248 - val_mse: 0.4248 - val_mae: 0.4742\n",
            "Epoch 121/600\n",
            "29/29 [==============================] - 0s 8ms/step - loss: 1.3316 - mse: 1.3316 - mae: 0.9050 - val_loss: 0.4173 - val_mse: 0.4173 - val_mae: 0.4689\n",
            "Epoch 122/600\n",
            "29/29 [==============================] - 0s 14ms/step - loss: 1.2693 - mse: 1.2693 - mae: 0.8811 - val_loss: 0.4315 - val_mse: 0.4315 - val_mae: 0.4743\n",
            "Epoch 123/600\n",
            "29/29 [==============================] - 0s 12ms/step - loss: 1.1799 - mse: 1.1799 - mae: 0.8507 - val_loss: 0.3884 - val_mse: 0.3884 - val_mae: 0.4767\n",
            "Epoch 124/600\n",
            "29/29 [==============================] - 0s 10ms/step - loss: 1.1411 - mse: 1.1411 - mae: 0.8568 - val_loss: 0.4188 - val_mse: 0.4188 - val_mae: 0.4729\n",
            "Epoch 125/600\n",
            "29/29 [==============================] - 0s 11ms/step - loss: 1.1811 - mse: 1.1811 - mae: 0.8605 - val_loss: 0.3958 - val_mse: 0.3958 - val_mae: 0.4684\n",
            "Epoch 126/600\n",
            "29/29 [==============================] - 0s 12ms/step - loss: 1.1831 - mse: 1.1831 - mae: 0.8601 - val_loss: 0.4294 - val_mse: 0.4294 - val_mae: 0.4738\n",
            "Epoch 127/600\n",
            "29/29 [==============================] - 0s 7ms/step - loss: 1.1839 - mse: 1.1839 - mae: 0.8664 - val_loss: 0.4135 - val_mse: 0.4135 - val_mae: 0.4829\n",
            "Epoch 128/600\n",
            "29/29 [==============================] - 0s 11ms/step - loss: 1.2083 - mse: 1.2083 - mae: 0.8639 - val_loss: 0.4033 - val_mse: 0.4033 - val_mae: 0.4828\n",
            "Epoch 129/600\n",
            "29/29 [==============================] - 0s 11ms/step - loss: 1.1481 - mse: 1.1481 - mae: 0.8456 - val_loss: 0.4106 - val_mse: 0.4106 - val_mae: 0.4798\n",
            "Epoch 130/600\n",
            "29/29 [==============================] - 0s 9ms/step - loss: 1.1678 - mse: 1.1678 - mae: 0.8495 - val_loss: 0.4151 - val_mse: 0.4151 - val_mae: 0.4749\n",
            "Epoch 131/600\n",
            "29/29 [==============================] - 0s 15ms/step - loss: 1.1305 - mse: 1.1305 - mae: 0.8523 - val_loss: 0.4015 - val_mse: 0.4015 - val_mae: 0.4698\n",
            "Epoch 132/600\n",
            "29/29 [==============================] - 0s 10ms/step - loss: 1.1410 - mse: 1.1410 - mae: 0.8464 - val_loss: 0.4082 - val_mse: 0.4082 - val_mae: 0.4668\n",
            "Epoch 133/600\n",
            "29/29 [==============================] - 0s 11ms/step - loss: 1.3319 - mse: 1.3319 - mae: 0.9012 - val_loss: 0.3985 - val_mse: 0.3985 - val_mae: 0.4701\n",
            "Epoch 134/600\n",
            "29/29 [==============================] - 0s 8ms/step - loss: 1.1427 - mse: 1.1427 - mae: 0.8344 - val_loss: 0.3967 - val_mse: 0.3967 - val_mae: 0.4689\n",
            "Epoch 135/600\n",
            "29/29 [==============================] - 0s 5ms/step - loss: 1.1368 - mse: 1.1368 - mae: 0.8412 - val_loss: 0.3966 - val_mse: 0.3966 - val_mae: 0.4698\n",
            "Epoch 136/600\n",
            "29/29 [==============================] - 0s 5ms/step - loss: 1.2013 - mse: 1.2013 - mae: 0.8690 - val_loss: 0.4143 - val_mse: 0.4143 - val_mae: 0.4748\n",
            "Epoch 137/600\n",
            "29/29 [==============================] - 0s 6ms/step - loss: 1.1621 - mse: 1.1621 - mae: 0.8464 - val_loss: 0.4185 - val_mse: 0.4185 - val_mae: 0.4734\n",
            "Epoch 138/600\n",
            "29/29 [==============================] - 0s 7ms/step - loss: 1.1593 - mse: 1.1593 - mae: 0.8427 - val_loss: 0.4298 - val_mse: 0.4298 - val_mae: 0.4796\n",
            "Epoch 139/600\n",
            "29/29 [==============================] - 0s 7ms/step - loss: 1.1033 - mse: 1.1033 - mae: 0.8170 - val_loss: 0.4222 - val_mse: 0.4222 - val_mae: 0.4850\n",
            "Epoch 140/600\n",
            "29/29 [==============================] - 0s 7ms/step - loss: 1.1191 - mse: 1.1191 - mae: 0.8326 - val_loss: 0.4236 - val_mse: 0.4236 - val_mae: 0.4778\n",
            "Epoch 141/600\n",
            "29/29 [==============================] - 0s 7ms/step - loss: 1.0803 - mse: 1.0803 - mae: 0.8198 - val_loss: 0.4131 - val_mse: 0.4131 - val_mae: 0.4774\n",
            "Epoch 142/600\n",
            "29/29 [==============================] - 0s 11ms/step - loss: 1.0675 - mse: 1.0675 - mae: 0.8089 - val_loss: 0.4126 - val_mse: 0.4126 - val_mae: 0.4829\n",
            "Epoch 143/600\n",
            "29/29 [==============================] - 0s 10ms/step - loss: 1.0609 - mse: 1.0609 - mae: 0.8116 - val_loss: 0.4224 - val_mse: 0.4224 - val_mae: 0.4897\n",
            "Epoch 144/600\n",
            "29/29 [==============================] - 0s 7ms/step - loss: 1.1927 - mse: 1.1927 - mae: 0.8526 - val_loss: 0.4121 - val_mse: 0.4121 - val_mae: 0.4847\n",
            "Epoch 145/600\n",
            "29/29 [==============================] - 0s 8ms/step - loss: 1.0665 - mse: 1.0665 - mae: 0.8056 - val_loss: 0.4022 - val_mse: 0.4022 - val_mae: 0.4800\n",
            "Epoch 146/600\n",
            "29/29 [==============================] - 0s 9ms/step - loss: 1.1267 - mse: 1.1267 - mae: 0.8498 - val_loss: 0.4243 - val_mse: 0.4243 - val_mae: 0.4746\n",
            "Epoch 147/600\n",
            "29/29 [==============================] - 0s 7ms/step - loss: 1.1807 - mse: 1.1807 - mae: 0.8569 - val_loss: 0.4235 - val_mse: 0.4235 - val_mae: 0.4696\n",
            "Epoch 148/600\n",
            "29/29 [==============================] - 0s 7ms/step - loss: 1.0106 - mse: 1.0106 - mae: 0.7996 - val_loss: 0.4080 - val_mse: 0.4080 - val_mae: 0.4695\n",
            "Epoch 149/600\n",
            "29/29 [==============================] - 0s 7ms/step - loss: 1.1051 - mse: 1.1051 - mae: 0.8369 - val_loss: 0.4144 - val_mse: 0.4144 - val_mae: 0.4673\n",
            "Epoch 150/600\n",
            "29/29 [==============================] - 0s 8ms/step - loss: 1.0418 - mse: 1.0418 - mae: 0.8030 - val_loss: 0.4040 - val_mse: 0.4040 - val_mae: 0.4689\n",
            "Epoch 151/600\n",
            "29/29 [==============================] - 0s 5ms/step - loss: 1.0066 - mse: 1.0066 - mae: 0.8021 - val_loss: 0.4104 - val_mse: 0.4104 - val_mae: 0.4681\n",
            "Epoch 152/600\n",
            "29/29 [==============================] - 0s 7ms/step - loss: 1.0752 - mse: 1.0752 - mae: 0.8220 - val_loss: 0.4021 - val_mse: 0.4021 - val_mae: 0.4709\n",
            "Epoch 153/600\n",
            "29/29 [==============================] - 0s 7ms/step - loss: 1.1040 - mse: 1.1040 - mae: 0.8358 - val_loss: 0.4029 - val_mse: 0.4029 - val_mae: 0.4750\n",
            "Epoch 153: early stopping\n"
          ]
        },
        {
          "output_type": "execute_result",
          "data": {
            "text/plain": [
              "<keras.callbacks.History at 0x7fe5b195ef10>"
            ]
          },
          "metadata": {},
          "execution_count": 47
        }
      ]
    },
    {
      "cell_type": "markdown",
      "source": [
        "## Regression using Scikit-learn"
      ],
      "metadata": {
        "id": "L4k2PVMK-Aop"
      }
    },
    {
      "cell_type": "markdown",
      "source": [
        "https://scikit-learn.org/stable/supervised_learning.html  \n",
        "We're just gonna use the linear regression, ridge and lasso models for now. "
      ],
      "metadata": {
        "id": "_Wc19pjA-iA4"
      }
    },
    {
      "cell_type": "code",
      "source": [
        "from sklearn import linear_model\n",
        "reg = linear_model.LinearRegression()"
      ],
      "metadata": {
        "id": "dfxUqHG_wwyW"
      },
      "execution_count": 51,
      "outputs": []
    },
    {
      "cell_type": "code",
      "source": [
        "reg.fit(X_train, y_train)"
      ],
      "metadata": {
        "colab": {
          "base_uri": "https://localhost:8080/"
        },
        "id": "S1gWTBxe_sdm",
        "outputId": "7c74193f-79ca-4b27-9414-a4a826cdd41f"
      },
      "execution_count": 52,
      "outputs": [
        {
          "output_type": "execute_result",
          "data": {
            "text/plain": [
              "LinearRegression()"
            ]
          },
          "metadata": {},
          "execution_count": 52
        }
      ]
    },
    {
      "cell_type": "code",
      "source": [
        "from sklearn.metrics import mean_absolute_error, mean_squared_error\n",
        "\n",
        "print(mean_absolute_error(y_test, reg.predict(X_test)))\n",
        "print('\\n')\n",
        "print(mean_squared_error(y_test, reg.predict(X_test)))"
      ],
      "metadata": {
        "colab": {
          "base_uri": "https://localhost:8080/"
        },
        "id": "RWr2yjtE_vyd",
        "outputId": "9e5ec7c8-6e52-4d17-fd0e-8632714313db"
      },
      "execution_count": 53,
      "outputs": [
        {
          "output_type": "stream",
          "name": "stdout",
          "text": [
            "0.4597472217028208\n",
            "\n",
            "\n",
            "0.35523758539182276\n"
          ]
        }
      ]
    },
    {
      "cell_type": "code",
      "source": [
        "reg = linear_model.Ridge(alpha=.5)"
      ],
      "metadata": {
        "id": "Fxl4JSv-ATaF"
      },
      "execution_count": 54,
      "outputs": []
    },
    {
      "cell_type": "code",
      "source": [
        "reg.fit(X_train, y_train)\n",
        "\n",
        "print(mean_absolute_error(y_test, reg.predict(X_test)))\n",
        "print('\\n')\n",
        "print(mean_squared_error(y_test, reg.predict(X_test)))"
      ],
      "metadata": {
        "id": "VxQjvWVjGPUP",
        "outputId": "88f7b808-9773-4a1d-c674-c507539159cb",
        "colab": {
          "base_uri": "https://localhost:8080/"
        }
      },
      "execution_count": 55,
      "outputs": [
        {
          "output_type": "stream",
          "name": "stdout",
          "text": [
            "0.462000049944345\n",
            "\n",
            "\n",
            "0.35603091856517594\n"
          ]
        }
      ]
    },
    {
      "cell_type": "code",
      "source": [
        "reg = linear_model.RidgeCV(alphas=np.logspace(-6, 6, 13))"
      ],
      "metadata": {
        "id": "98CF2FbWGRaP"
      },
      "execution_count": 56,
      "outputs": []
    },
    {
      "cell_type": "code",
      "source": [
        "reg.fit(X_train, y_train)"
      ],
      "metadata": {
        "id": "-hA8gn3mGden",
        "outputId": "f3ac2d98-7cd3-4c39-bd94-92e5df5b56ae",
        "colab": {
          "base_uri": "https://localhost:8080/"
        }
      },
      "execution_count": 57,
      "outputs": [
        {
          "output_type": "execute_result",
          "data": {
            "text/plain": [
              "RidgeCV(alphas=array([1.e-06, 1.e-05, 1.e-04, 1.e-03, 1.e-02, 1.e-01, 1.e+00, 1.e+01,\n",
              "       1.e+02, 1.e+03, 1.e+04, 1.e+05, 1.e+06]))"
            ]
          },
          "metadata": {},
          "execution_count": 57
        }
      ]
    },
    {
      "cell_type": "code",
      "source": [
        "reg.alpha_"
      ],
      "metadata": {
        "id": "rK8xL3FvGgIH",
        "outputId": "3982d774-d6cf-4a79-bf59-4d8451b8c413",
        "colab": {
          "base_uri": "https://localhost:8080/"
        }
      },
      "execution_count": 58,
      "outputs": [
        {
          "output_type": "execute_result",
          "data": {
            "text/plain": [
              "1.0"
            ]
          },
          "metadata": {},
          "execution_count": 58
        }
      ]
    },
    {
      "cell_type": "code",
      "source": [
        "reg = linear_model.Ridge(alpha=0.1)"
      ],
      "metadata": {
        "id": "v0NnxS5vGht2"
      },
      "execution_count": 65,
      "outputs": []
    },
    {
      "cell_type": "code",
      "source": [
        "reg.fit(X_train, y_train)\n",
        "\n",
        "print(mean_absolute_error(y_test, reg.predict(X_test)))\n",
        "print('\\n')\n",
        "print(mean_squared_error(y_test, reg.predict(X_test)))"
      ],
      "metadata": {
        "id": "eFYr1k-BG27P",
        "outputId": "0148fda7-d51e-46e1-9f78-c861eb93328e",
        "colab": {
          "base_uri": "https://localhost:8080/"
        }
      },
      "execution_count": 66,
      "outputs": [
        {
          "output_type": "stream",
          "name": "stdout",
          "text": [
            "0.46016464571386356\n",
            "\n",
            "\n",
            "0.3553706000236892\n"
          ]
        }
      ]
    },
    {
      "cell_type": "code",
      "source": [
        "reg = linear_model.Lasso(alpha=0.5)"
      ],
      "metadata": {
        "id": "8GrSnPehG3wv"
      },
      "execution_count": 61,
      "outputs": []
    },
    {
      "cell_type": "code",
      "source": [
        "reg.fit(X_train, y_train)\n",
        "\n",
        "print(mean_absolute_error(y_test, reg.predict(X_test)))\n",
        "print('\\n')\n",
        "print(mean_squared_error(y_test, reg.predict(X_test)))"
      ],
      "metadata": {
        "id": "vlTxLZkCHYEX",
        "outputId": "cd02b36d-366e-412b-9a22-6bfc5b0e9313",
        "colab": {
          "base_uri": "https://localhost:8080/"
        }
      },
      "execution_count": 62,
      "outputs": [
        {
          "output_type": "stream",
          "name": "stdout",
          "text": [
            "0.6623699272834989\n",
            "\n",
            "\n",
            "0.6029842584290386\n"
          ]
        }
      ]
    },
    {
      "cell_type": "code",
      "source": [
        "reg = linear_model.Lasso(alpha=1)"
      ],
      "metadata": {
        "id": "4LCZYKHPHZRX"
      },
      "execution_count": 63,
      "outputs": []
    },
    {
      "cell_type": "code",
      "source": [
        "reg.fit(X_train, y_train)\n",
        "\n",
        "print(mean_absolute_error(y_test, reg.predict(X_test)))\n",
        "print('\\n')\n",
        "print(mean_squared_error(y_test, reg.predict(X_test)))"
      ],
      "metadata": {
        "id": "gS4DlEGGHb8X",
        "outputId": "39611e03-f7c7-4321-dfd5-4d2bc9ba53e8",
        "colab": {
          "base_uri": "https://localhost:8080/"
        }
      },
      "execution_count": 64,
      "outputs": [
        {
          "output_type": "stream",
          "name": "stdout",
          "text": [
            "0.6623699272834989\n",
            "\n",
            "\n",
            "0.6029842584290386\n"
          ]
        }
      ]
    },
    {
      "cell_type": "code",
      "source": [
        "reg = linear_model.Ridge(alpha=0.05)"
      ],
      "metadata": {
        "id": "ioC9JnDWHclf"
      },
      "execution_count": 67,
      "outputs": []
    },
    {
      "cell_type": "code",
      "source": [
        "reg.fit(X_train, y_train)\n",
        "\n",
        "print(mean_absolute_error(y_test, reg.predict(X_test)))\n",
        "print('\\n')\n",
        "print(mean_squared_error(y_test, reg.predict(X_test)))"
      ],
      "metadata": {
        "id": "vqjvZ54HHnfX",
        "outputId": "2ae44933-71d3-4a47-ef3c-30e75222340b",
        "colab": {
          "base_uri": "https://localhost:8080/"
        }
      },
      "execution_count": 68,
      "outputs": [
        {
          "output_type": "stream",
          "name": "stdout",
          "text": [
            "0.4599572540616807\n",
            "\n",
            "\n",
            "0.35530205588728986\n"
          ]
        }
      ]
    },
    {
      "cell_type": "code",
      "source": [
        ""
      ],
      "metadata": {
        "id": "t6ZMtydQHoD3"
      },
      "execution_count": null,
      "outputs": []
    }
  ]
}