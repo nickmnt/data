{
  "cells": [
    {
      "cell_type": "markdown",
      "source": [
        "<font color='#77C66E'><center><h1><strong>❇ ❇ Final Project ❇ ❇</strong></h1></center>\n",
        "</font> \n",
        "\n",
        "<h3><strong>Name:</strong> Seid Nima Moein Taghavi</h3>\n",
        "\n",
        "<h3><strong>StudentId:</strong> 9822762211</h3>\n",
        "\n",
        "<font color='#77C66E'><h2><strong>Introduction</strong></h2></font>  \n",
        "<center><img src=\"https://www.iconpacks.net/icons/2/free-reddit-logo-icon-2436-thumb.png\" width=\"100\" height=\"100\" style=\"object-fit: cover;\"/>\n",
        "<img src=\"https://cdn3.iconfinder.com/data/icons/logos-and-brands-adobe/512/267_Python-512.png\" width=\"100\" height=\"100\" style=\"object-fit: cover;\"/>\n",
        "<img src=\"https://upload.wikimedia.org/wikipedia/commons/thumb/e/ed/Pandas_logo.svg/1200px-Pandas_logo.svg.png\" width=\"200\" height=\"100\" style=\"object-fit: cover;\"/>\n",
        "<img src=\"https://img.icons8.com/color/480/tensorflow.png\" width=\"100\" height=\"100\" style=\"object-fit: cover;\"/>\n",
        "<img src=\"https://devocean.sk.com/CKFinderJava/userfiles/images/numpy(1).png\" width=\"100\" height=\"100\" style=\"object-fit: cover;\"/>\n",
        "<img src=\"https://media.slid.es/uploads/465821/images/5836629/pasted-from-clipboard.png\" width=\"100\" height=\"100\" style=\"object-fit: cover;\"/>\n",
        "<img src=\"https://upload.wikimedia.org/wikipedia/commons/thumb/0/05/Scikit_learn_logo_small.svg/1200px-Scikit_learn_logo_small.svg.png\" width=\"210\" height=\"100\" style=\"object-fit: cover;\"/>\n",
        "</center>\n",
        "<h4>In this project, we are given comments of reddit users and the topic that they are related to. To be more specific, these topics are Biology, Chemistry and physics. Firstly, we will implement an optimized version of the given paper's clustering algorithm.in the next section, we will preprocess the train and test datasets that have been given to us, then we will provide and explore some popular bag of words neural network models that deal with this problem. And finally, as expected, we will provide models that combine the bag of words and the word2vec models. To clarify, the bag of words model does not take the semantic relations of words into account, and by combining it with a word2vec model we can remedy this.</h4>"
      ],
      "metadata": {
        "id": "YWPzBsZP-292"
      }
    },
    {
      "cell_type": "markdown",
      "metadata": {
        "id": "bIeS6EszvBNo"
      },
      "source": [
        "#<font color='#77C66E'>**Clustering Algorithm**</font>\n",
        "---"
      ]
    },
    {
      "cell_type": "markdown",
      "source": [
        "<h4>We will implement an optimized version of the clustering algorithm. To shed light on this, we use sklearn, numpy and programming best practices to significantly speed up the processes in different stages of the algorithm.</h4>"
      ],
      "metadata": {
        "id": "TMZXP89IHp2Y"
      }
    },
    {
      "cell_type": "code",
      "execution_count": 21,
      "metadata": {
        "id": "vNJuqJnwJpAc"
      },
      "outputs": [],
      "source": [
        "from sklearn.metrics.pairwise import euclidean_distances\n",
        "from math import floor\n",
        "import numpy as np\n",
        "\n",
        "def calculate_distance_matrix(N, data):\n",
        "  mat = np.array([np.array([0 for x in range(N)]) for y in range(N)])\n",
        "  distances = euclidean_distances(data,data)\n",
        "  return distances\n",
        "\n",
        "def calculate_R_k(i, D, k):\n",
        "  return np.argsort(D[i])[1:k+1] + 1\n",
        "\n",
        "def calculate_R_k_all(N, D, k):\n",
        "  arr = [0 for y in range(N)]\n",
        "  for i in range(0, N):\n",
        "      arr[i] = calculate_R_k(i, D, k)\n",
        "  return np.array(arr)\n",
        "\n",
        "def append_with_duplicate_check(l, item):\n",
        "  if not item in l:\n",
        "    np.append(l, item)\n",
        "  return l\n",
        "\n",
        "def calculate_D_current(N, D_original, R_k_arr, k):\n",
        "  mat = np.array([np.array([-1 for x in range(N)]) for y in range(N)])\n",
        "  first_part = (1/((k+1)**2))\n",
        "\n",
        "  # Cache the P array so that we won't have to repeatedly calculate it's values\n",
        "  cache = [0 for x in range(N)]\n",
        "\n",
        "  for i in range(N):\n",
        "    arr = R_k_arr[i].copy() - 1\n",
        "    np.add(arr, i)\n",
        "    cache[i] = arr\n",
        "\n",
        "  # Use the symmetric property of the matrix and the numpy outer function \n",
        "  # (C code) to significantly speed up the process\n",
        "  def calculate_cell(i, j):\n",
        "    mat[i][j] = first_part * D_original[(cache[i], cache[j])].sum()\n",
        "    mat[j][i] = mat[i][j]\n",
        "\n",
        "  # def calculate_cell1(i, j):\n",
        "  #   mat[i][j] = mat[j][i]\n",
        "\n",
        "  f_ufunc = np.frompyfunc(calculate_cell, 2, 0)\n",
        "  # f_ufunc2 = np.frompyfunc(calculate_cell1, 2, 0)\n",
        "\n",
        "  def calculate_col(col, _):\n",
        "    f_ufunc.outer(list(range(col+1)), [col])\n",
        "  # def calculate_col1(col, _):\n",
        "  #   f_ufunc2.outer(list(range(col+1, N)), [col])\n",
        "  f_ufunc1 = np.frompyfunc(calculate_col, 2, 0)\n",
        "  # f_ufunc3 = np.frompyfunc(calculate_col1, 2, 0)\n",
        "  \n",
        "  f_ufunc1.outer(list(range(N)), [1])\n",
        "  # f_ufunc3.outer(list(range(N)), [1])\n",
        "\n",
        "  return mat\n",
        "\n",
        "def find_key_clusters(D, c):\n",
        "  m = len(D)\n",
        "  I = []\n",
        "  argmin_i = -1\n",
        "  argmin_val = float('inf')\n",
        "  for i in range(m):\n",
        "    sum = D[i][list(range(m))].sum()\n",
        "    avg = sum / m\n",
        "    if avg < argmin_val:\n",
        "      argmin_val = avg\n",
        "      argmin_i = i + 1\n",
        "  I_1 = argmin_i\n",
        "  I.append(I_1)\n",
        "  \n",
        "  K_n = list(range(1,m+1))\n",
        "  K_n.remove(I_1)\n",
        "  S_n = [I_1]\n",
        "  n = 1\n",
        "\n",
        "  cache = np.array([-1 for y in range(m)])\n",
        "\n",
        "  while n != c:\n",
        "    # I_n_plus_1 \n",
        "    for I_k in K_n:\n",
        "      distance = D[I_k-1][I[-1]-1]\n",
        "      if distance < cache[I_k-1] or cache[I_k-1] == -1:\n",
        "        cache[I_k-1] = distance\n",
        "    argmax_i = cache.argmax()\n",
        "    I_n_plus_1 = argmax_i+1\n",
        "    I.append(I_n_plus_1)\n",
        "    K_n_plus_1 = K_n.copy()\n",
        "    K_n_plus_1.remove(I_n_plus_1)\n",
        "    cache[I_n_plus_1 - 1] = -1\n",
        "    S_n_plus_1 = S_n.copy()\n",
        "    if not I_n_plus_1 in S_n_plus_1:\n",
        "      S_n_plus_1.append(I_n_plus_1)\n",
        "    n = n + 1\n",
        "    K_n = K_n_plus_1\n",
        "    S_n = S_n_plus_1\n",
        "  return I\n",
        "\n",
        "def update_labels(N, S_current, D_current, L):\n",
        "  for i in range(1, N+1):\n",
        "      if i not in S_current:\n",
        "        argmin_i = -1\n",
        "        argmin_val = float('inf')\n",
        "        length = len(S_current)\n",
        "        for j in range(length):\n",
        "          dist = D_current[L[i-1]-1, S_current[j]-1]\n",
        "          if dist < argmin_val:\n",
        "            argmin_val = dist\n",
        "            argmin_i = j\n",
        "        L[i-1] = argmin_i + 1\n",
        "        # print(\"i: \" + str(argmin_i + 1))\n",
        "      else:\n",
        "        L[i-1] = S_current.index(i) + 1\n",
        "        # print(\"i: \" + str(S_current.index(i)))\n",
        "\n",
        "def calc_P_i(i, N, L, R_k_arr):\n",
        "  P_i = []\n",
        "  for j in range(N):\n",
        "    if L[j] == i:\n",
        "      P_i.append(j+1)\n",
        "  first_part = P_i.copy()\n",
        "\n",
        "  for j in first_part:\n",
        "    for a in R_k_arr[j-1]:\n",
        "      if not a in P_i:\n",
        "        P_i.append(a)\n",
        "\n",
        "  return np.array(P_i)\n",
        "\n",
        "def calculate_P_i_all(C_current, N, L, R_k_arr):\n",
        "  arr = [0 for y in range(C_current+1)]\n",
        "  for i in range(1, C_current+1):\n",
        "      arr[i-1] = calc_P_i(i, N, L, R_k_arr)\n",
        "  return np.array(arr, dtype=object)\n",
        "\n",
        "def calculate_new_D_current(N, P_i_arr, D_original):\n",
        "  mat = np.array([np.array([0 for x in range(N)]) for y in range(N)])\n",
        "  for i in range(0, N):\n",
        "    for j in range(0, N):\n",
        "      len1 = len(P_i_arr[i])\n",
        "      len2 = len(P_i_arr[j])\n",
        "      # if len1 > 0 and len2 > 0:\n",
        "      sum = 0\n",
        "      for a in P_i_arr[i]-1:\n",
        "        sum = sum + D_original[a][P_i_arr[j]-1].sum()\n",
        "      mat[i][j] = (1/ (len1 * len2)) * sum\n",
        "  return mat\n",
        "\n",
        "def cluster(data, C_target):\n",
        "  N = len(data)\n",
        "  k = 2\n",
        "  D_original = calculate_distance_matrix(N, data)  \n",
        "  R_k_arr = calculate_R_k_all(N, D_original, k)\n",
        "  g = C_target\n",
        "  L = list(range(1, N+1))\n",
        "  C_previous = N\n",
        "  C_current = floor(N/g) \n",
        "  D_current = calculate_D_current(N, D_original, R_k_arr, k)\n",
        "  while C_current > C_target:\n",
        "    S_current = find_key_clusters(D_current, C_current)\n",
        "    update_labels(N, S_current, D_current, L)\n",
        "    P_i_arr = calculate_P_i_all(C_current, N, L, R_k_arr)\n",
        "    D_current = calculate_new_D_current(C_current, P_i_arr, D_original)\n",
        "    C_previous = C_current\n",
        "    C_current = floor(C_current / g)\n",
        "  if C_current != C_target:\n",
        "    S_final = find_key_clusters(D_current, C_target)\n",
        "    update_labels(N, S_final, D_current, L)\n",
        "  return L"
      ]
    },
    {
      "cell_type": "code",
      "execution_count": 7,
      "metadata": {
        "id": "BMcgpBjc2iTh"
      },
      "outputs": [],
      "source": [
        "from sklearn.datasets import load_digits\n",
        "\n",
        "data, labels = load_digits(return_X_y=True)"
      ]
    },
    {
      "cell_type": "code",
      "execution_count": 23,
      "metadata": {
        "id": "uUh7gaTUXwbT",
        "colab": {
          "base_uri": "https://localhost:8080/"
        },
        "outputId": "de155960-495a-4a73-c481-a75605e41d6b"
      },
      "outputs": [
        {
          "output_type": "execute_result",
          "data": {
            "text/plain": [
              "0.9257987514454306"
            ]
          },
          "metadata": {},
          "execution_count": 23
        }
      ],
      "source": [
        "from sklearn.metrics.cluster import rand_score\n",
        "\n",
        "rand_score(labels, cluster(data, 10))"
      ]
    },
    {
      "cell_type": "code",
      "execution_count": null,
      "metadata": {
        "id": "E0ybAYzCLvai"
      },
      "outputs": [],
      "source": [
        ""
      ]
    },
    {
      "cell_type": "code",
      "execution_count": null,
      "metadata": {
        "id": "GIBXtNYU0sHm"
      },
      "outputs": [],
      "source": [
        "# from sklearn.cluster import KMeans\n",
        "# kmeans = KMeans(n_clusters = 10, random_state = 0)\n",
        "# clusters = kmeans.fit_predict(data)\n",
        "# rand_score(labels, clusters)"
      ]
    },
    {
      "cell_type": "markdown",
      "metadata": {
        "id": "0HVukk_LvF3G"
      },
      "source": [
        "#<font color='#77C66E'>**Preprocessing**</font>\n",
        "---\n",
        "At this stage, we use libraries such as pandas and nltk which is one of the most popular and professional NLP python libraries to clean our data."
      ]
    },
    {
      "cell_type": "code",
      "execution_count": 38,
      "metadata": {
        "id": "1V6GMbwcam68"
      },
      "outputs": [],
      "source": [
        "import numpy as np\n",
        "import pandas as pd\n",
        "import matplotlib.pyplot as plt\n",
        "import seaborn as sns\n",
        "\n",
        "%matplotlib inline"
      ]
    },
    {
      "cell_type": "code",
      "execution_count": 25,
      "metadata": {
        "id": "fG3oE8t0-5p8"
      },
      "outputs": [],
      "source": [
        "train = pd.read_csv('/content/drive/MyDrive/finalProject/train.csv')\n",
        "test = pd.read_csv('/content/drive/MyDrive/finalProject/test.csv')"
      ]
    },
    {
      "cell_type": "code",
      "execution_count": 27,
      "metadata": {
        "colab": {
          "base_uri": "https://localhost:8080/"
        },
        "id": "Ly3ES0snjpsa",
        "outputId": "6e420737-af6a-4a4e-f716-df928d8bf873"
      },
      "outputs": [
        {
          "name": "stdout",
          "output_type": "stream",
          "text": [
            "NLTK Downloader\n",
            "---------------------------------------------------------------------------\n",
            "    d) Download   l) List    u) Update   c) Config   h) Help   q) Quit\n",
            "---------------------------------------------------------------------------\n",
            "Downloader> d\n",
            "\n",
            "Download which package (l=list; x=cancel)?\n",
            "  Identifier> stopwords\n"
          ]
        },
        {
          "output_type": "stream",
          "name": "stderr",
          "text": [
            "    Downloading package stopwords to /root/nltk_data...\n",
            "      Unzipping corpora/stopwords.zip.\n"
          ]
        },
        {
          "name": "stdout",
          "output_type": "stream",
          "text": [
            "\n",
            "---------------------------------------------------------------------------\n",
            "    d) Download   l) List    u) Update   c) Config   h) Help   q) Quit\n",
            "---------------------------------------------------------------------------\n",
            "Downloader> q\n"
          ]
        },
        {
          "output_type": "execute_result",
          "data": {
            "text/plain": [
              "True"
            ]
          },
          "metadata": {},
          "execution_count": 27
        }
      ],
      "source": [
        "import nltk\n",
        "nltk.download()"
      ]
    },
    {
      "cell_type": "code",
      "execution_count": 28,
      "metadata": {
        "id": "LlfJodVv7vgT"
      },
      "outputs": [],
      "source": [
        "# CLEANING DATA\n",
        "\n",
        "from nltk.corpus import stopwords\n",
        "import string\n",
        "\n",
        "\n",
        "def clean_doc(doc):\n",
        "\t# split into tokens by white space\n",
        "\ttokens = doc.split()\n",
        "\t# remove punctuation from each token\n",
        "\ttable = str.maketrans('', '', string.punctuation)\n",
        "\ttokens = [w.translate(table) for w in tokens]\n",
        "\t# remove remaining tokens that are not alphabetic\n",
        "\ttokens = [word for word in tokens if word.isalpha()]\n",
        "\t# filter out stop words\n",
        "\tstop_words = set(stopwords.words('english'))\n",
        "\ttokens = [w for w in tokens if not w in stop_words]\n",
        "\t# filter out short tokens\n",
        "\ttokens = [word for word in tokens if len(word) > 1]\n",
        "\treturn ' '.join(tokens)\n",
        "\n",
        "train['Comment'] = train['Comment'].apply(clean_doc)"
      ]
    },
    {
      "cell_type": "code",
      "source": [
        "!pip install wordcloud\n",
        "from wordcloud import WordCloud\n",
        "text = \" \".join(x for x in train['Comment'])\n",
        "\n",
        "wordcloud = WordCloud(width=1200, height=600, max_font_size=200, background_color=\"black\").generate(text)\n",
        "plt.imshow(wordcloud, interpolation='bilinear')\n",
        "plt.axis(\"off\")\n",
        "plt.show()"
      ],
      "metadata": {
        "colab": {
          "base_uri": "https://localhost:8080/",
          "height": 267
        },
        "id": "a_8fF778Ru9S",
        "outputId": "514681ec-cbc5-4192-d158-881b581dc9da"
      },
      "execution_count": 41,
      "outputs": [
        {
          "output_type": "stream",
          "name": "stdout",
          "text": [
            "Looking in indexes: https://pypi.org/simple, https://us-python.pkg.dev/colab-wheels/public/simple/\n",
            "Requirement already satisfied: wordcloud in /usr/local/lib/python3.7/dist-packages (1.5.0)\n",
            "Requirement already satisfied: pillow in /usr/local/lib/python3.7/dist-packages (from wordcloud) (7.1.2)\n",
            "Requirement already satisfied: numpy>=1.6.1 in /usr/local/lib/python3.7/dist-packages (from wordcloud) (1.21.6)\n"
          ]
        },
        {
          "output_type": "display_data",
          "data": {
            "text/plain": [
              "<Figure size 432x288 with 1 Axes>"
            ],
            "image/png": "[encoded data removed]"
          },
          "metadata": {
            "needs_background": "light"
          }
        }
      ]
    },
    {
      "cell_type": "code",
      "execution_count": null,
      "metadata": {
        "colab": {
          "base_uri": "https://localhost:8080/"
        },
        "id": "yxkGolSjAuZe",
        "outputId": "f6ebed9f-73f3-454b-9017-32df7e475bac"
      },
      "outputs": [
        {
          "output_type": "stream",
          "name": "stdout",
          "text": [
            "<class 'pandas.core.frame.DataFrame'>\n",
            "RangeIndex: 8695 entries, 0 to 8694\n",
            "Data columns (total 3 columns):\n",
            " #   Column   Non-Null Count  Dtype \n",
            "---  ------   --------------  ----- \n",
            " 0   Id       8695 non-null   object\n",
            " 1   Comment  8695 non-null   object\n",
            " 2   Topic    8695 non-null   object\n",
            "dtypes: object(3)\n",
            "memory usage: 203.9+ KB\n"
          ]
        }
      ],
      "source": [
        "train.info()"
      ]
    },
    {
      "cell_type": "code",
      "execution_count": null,
      "metadata": {
        "colab": {
          "base_uri": "https://localhost:8080/"
        },
        "id": "mVb0ImnXKbpN",
        "outputId": "972a143e-a691-497c-e628-80744d24b2cb"
      },
      "outputs": [
        {
          "output_type": "execute_result",
          "data": {
            "text/plain": [
              "Biology      3591\n",
              "Chemistry    2920\n",
              "Physics      2184\n",
              "Name: Topic, dtype: int64"
            ]
          },
          "metadata": {},
          "execution_count": 81
        }
      ],
      "source": [
        "train['Topic'].value_counts()"
      ]
    },
    {
      "cell_type": "code",
      "execution_count": null,
      "metadata": {
        "id": "rOFmz-HIKeAZ"
      },
      "outputs": [],
      "source": [
        "# Transforming the labels to a numerical form\n",
        "\n",
        "def transform_fun(x):\n",
        "  if x == 'Biology':\n",
        "    return 0\n",
        "  elif x == 'Chemistry':\n",
        "    return 1\n",
        "  else:\n",
        "    return 2\n",
        "\n",
        "train['Topic'] = train['Topic'].apply(transform_fun)\n",
        "y_train = pd.get_dummies(train['Topic'])\n",
        "test['Topic'] = test['Topic'].apply(transform_fun)\n",
        "y_test = pd.get_dummies(test['Topic'])"
      ]
    },
    {
      "cell_type": "code",
      "execution_count": null,
      "metadata": {
        "colab": {
          "base_uri": "https://localhost:8080/"
        },
        "id": "nrt8B-sOCRsR",
        "outputId": "c3b1cab9-6e1a-4a13-85ea-bf6b0bf89893"
      },
      "outputs": [
        {
          "output_type": "stream",
          "name": "stdout",
          "text": [
            "<class 'pandas.core.frame.DataFrame'>\n",
            "RangeIndex: 1586 entries, 0 to 1585\n",
            "Data columns (total 3 columns):\n",
            " #   Column   Non-Null Count  Dtype \n",
            "---  ------   --------------  ----- \n",
            " 0   Id       1586 non-null   object\n",
            " 1   Comment  1586 non-null   object\n",
            " 2   Topic    1586 non-null   int64 \n",
            "dtypes: int64(1), object(2)\n",
            "memory usage: 37.3+ KB\n"
          ]
        }
      ],
      "source": [
        "test.info()"
      ]
    },
    {
      "cell_type": "code",
      "execution_count": 42,
      "metadata": {
        "id": "hflciod-ENr1"
      },
      "outputs": [],
      "source": [
        "from tensorflow.keras.preprocessing.text import Tokenizer\n",
        "from tensorflow import keras"
      ]
    },
    {
      "cell_type": "code",
      "execution_count": null,
      "metadata": {
        "id": "Ppf7yQ7GGkN5"
      },
      "outputs": [],
      "source": [
        "# Tokenization for NLP\n",
        "tk = Tokenizer()"
      ]
    },
    {
      "cell_type": "code",
      "execution_count": null,
      "metadata": {
        "id": "OI9zFuFpGwC-"
      },
      "outputs": [],
      "source": [
        "tk.fit_on_texts(train['Comment'])"
      ]
    },
    {
      "cell_type": "code",
      "execution_count": null,
      "metadata": {
        "colab": {
          "base_uri": "https://localhost:8080/"
        },
        "id": "1TtxpIOH1KJ8",
        "outputId": "e67609b2-2237-4dae-bd7a-0580328feec7"
      },
      "outputs": [
        {
          "output_type": "execute_result",
          "data": {
            "text/plain": [
              "{'like': 1,\n",
              " 'would': 2,\n",
              " 'one': 3,\n",
              " 'the': 4,\n",
              " 'get': 5,\n",
              " 'think': 6,\n",
              " 'also': 7,\n",
              " 'know': 8,\n",
              " 'dont': 9,\n",
              " 'it': 10,\n",
              " 'if': 11,\n",
              " 'time': 12,\n",
              " 'could': 13,\n",
              " 'much': 14,\n",
              " 'people': 15,\n",
              " 'you': 16,\n",
              " 'im': 17,\n",
              " 'make': 18,\n",
              " 'even': 19,\n",
              " 'good': 20,\n",
              " 'really': 21,\n",
              " 'see': 22,\n",
              " 'way': 23,\n",
              " 'this': 24,\n",
              " 'need': 25,\n",
              " 'water': 26,\n",
              " 'use': 27,\n",
              " 'its': 28,\n",
              " 'thats': 29,\n",
              " 'well': 30,\n",
              " 'something': 31,\n",
              " 'energy': 32,\n",
              " 'work': 33,\n",
              " 'sure': 34,\n",
              " 'go': 35,\n",
              " 'lot': 36,\n",
              " 'different': 37,\n",
              " 'but': 38,\n",
              " 'want': 39,\n",
              " 'things': 40,\n",
              " 'first': 41,\n",
              " 'so': 42,\n",
              " 'probably': 43,\n",
              " 'say': 44,\n",
              " 'still': 45,\n",
              " 'chemistry': 46,\n",
              " 'yes': 47,\n",
              " 'thanks': 48,\n",
              " 'right': 49,\n",
              " 'actually': 50,\n",
              " 'youre': 51,\n",
              " 'physics': 52,\n",
              " 'question': 53,\n",
              " 'what': 54,\n",
              " 'many': 55,\n",
              " 'and': 56,\n",
              " 'going': 57,\n",
              " 'light': 58,\n",
              " 'used': 59,\n",
              " 'they': 60,\n",
              " 'look': 61,\n",
              " 'pretty': 62,\n",
              " 'made': 63,\n",
              " 'enough': 64,\n",
              " 'thing': 65,\n",
              " 'thank': 66,\n",
              " 'may': 67,\n",
              " 'find': 68,\n",
              " 'might': 69,\n",
              " 'doesnt': 70,\n",
              " 'mean': 71,\n",
              " 'body': 72,\n",
              " 'acid': 73,\n",
              " 'two': 74,\n",
              " 'never': 75,\n",
              " 'said': 76,\n",
              " 'maybe': 77,\n",
              " 'since': 78,\n",
              " 'try': 79,\n",
              " 'though': 80,\n",
              " 'take': 81,\n",
              " 'new': 82,\n",
              " 'point': 83,\n",
              " 'there': 84,\n",
              " 'better': 85,\n",
              " 'years': 86,\n",
              " 'help': 87,\n",
              " 'that': 88,\n",
              " 'around': 89,\n",
              " 'got': 90,\n",
              " 'matter': 91,\n",
              " 'long': 92,\n",
              " 'theres': 93,\n",
              " 'no': 94,\n",
              " 'in': 95,\n",
              " 'less': 96,\n",
              " 'life': 97,\n",
              " 'understand': 98,\n",
              " 'anything': 99,\n",
              " 'isnt': 100,\n",
              " 'read': 101,\n",
              " 'little': 102,\n",
              " 'thought': 103,\n",
              " 'not': 104,\n",
              " 'someone': 105,\n",
              " 'looks': 106,\n",
              " 'us': 107,\n",
              " 'air': 108,\n",
              " 'makes': 109,\n",
              " 'answer': 110,\n",
              " 'back': 111,\n",
              " 'mass': 112,\n",
              " 'cant': 113,\n",
              " 'force': 114,\n",
              " 'high': 115,\n",
              " 'alan': 116,\n",
              " 'wrong': 117,\n",
              " 'research': 118,\n",
              " 'using': 119,\n",
              " 'always': 120,\n",
              " 'bad': 121,\n",
              " 'every': 122,\n",
              " 'data': 123,\n",
              " 'cells': 124,\n",
              " 'example': 125,\n",
              " 'give': 126,\n",
              " 'part': 127,\n",
              " 'ive': 128,\n",
              " 'problem': 129,\n",
              " 'least': 130,\n",
              " 'kind': 131,\n",
              " 'without': 132,\n",
              " 'guess': 133,\n",
              " 'removed': 134,\n",
              " 'small': 135,\n",
              " 'we': 136,\n",
              " 'trying': 137,\n",
              " 'bit': 138,\n",
              " 'put': 139,\n",
              " 'system': 140,\n",
              " 'case': 141,\n",
              " 'yeah': 142,\n",
              " 'field': 143,\n",
              " 'possible': 144,\n",
              " 'hard': 145,\n",
              " 'lol': 146,\n",
              " 'science': 147,\n",
              " 'job': 148,\n",
              " 'either': 149,\n",
              " 'change': 150,\n",
              " 'idea': 151,\n",
              " 'found': 152,\n",
              " 'tell': 153,\n",
              " 'amount': 154,\n",
              " 'another': 155,\n",
              " 'stuff': 156,\n",
              " 'eat': 157,\n",
              " 'getting': 158,\n",
              " 'saying': 159,\n",
              " 'year': 160,\n",
              " 'school': 161,\n",
              " 'far': 162,\n",
              " 'quantum': 163,\n",
              " 'believe': 164,\n",
              " 'best': 165,\n",
              " 'lab': 166,\n",
              " 'side': 167,\n",
              " 'looking': 168,\n",
              " 'just': 169,\n",
              " 'paper': 170,\n",
              " 'real': 171,\n",
              " 'species': 172,\n",
              " 'away': 173,\n",
              " 'interesting': 174,\n",
              " 'likely': 175,\n",
              " 'nothing': 176,\n",
              " 'solution': 177,\n",
              " 'end': 178,\n",
              " 'start': 179,\n",
              " 'means': 180,\n",
              " 'great': 181,\n",
              " 'my': 182,\n",
              " 'for': 183,\n",
              " 'sense': 184,\n",
              " 'making': 185,\n",
              " 'carbon': 186,\n",
              " 'is': 187,\n",
              " 'fact': 188,\n",
              " 'already': 189,\n",
              " 'able': 190,\n",
              " 'seems': 191,\n",
              " 'everything': 192,\n",
              " 'usually': 193,\n",
              " 'phd': 194,\n",
              " 'similar': 195,\n",
              " 'day': 196,\n",
              " 'gas': 197,\n",
              " 'keep': 198,\n",
              " 'second': 199,\n",
              " 'food': 200,\n",
              " 'didnt': 201,\n",
              " 'speed': 202,\n",
              " 'definitely': 203,\n",
              " 'correct': 204,\n",
              " 'post': 205,\n",
              " 'feel': 206,\n",
              " 'etc': 207,\n",
              " 'form': 208,\n",
              " 'cool': 209,\n",
              " 'come': 210,\n",
              " 'big': 211,\n",
              " 'level': 212,\n",
              " 'quite': 213,\n",
              " 'however': 214,\n",
              " 'called': 215,\n",
              " 'oh': 216,\n",
              " 'biology': 217,\n",
              " 'covid': 218,\n",
              " 'ok': 219,\n",
              " 'rather': 220,\n",
              " 'last': 221,\n",
              " 'cell': 222,\n",
              " 'as': 223,\n",
              " 'process': 224,\n",
              " 'course': 225,\n",
              " 'experience': 226,\n",
              " 'how': 227,\n",
              " 'wouldnt': 228,\n",
              " 'often': 229,\n",
              " 'ever': 230,\n",
              " 'bug': 231,\n",
              " 'wont': 232,\n",
              " 'id': 233,\n",
              " 'theory': 234,\n",
              " 'theyre': 235,\n",
              " 'based': 236,\n",
              " 'bullet': 237,\n",
              " 'number': 238,\n",
              " 'true': 239,\n",
              " 'video': 240,\n",
              " 'else': 241,\n",
              " 'anyone': 242,\n",
              " 'done': 243,\n",
              " 'op': 244,\n",
              " 'questions': 245,\n",
              " 'seen': 246,\n",
              " 'specific': 247,\n",
              " 'love': 248,\n",
              " 'degree': 249,\n",
              " 'instead': 250,\n",
              " 'chemical': 251,\n",
              " 'reason': 252,\n",
              " 'dark': 253,\n",
              " 'protein': 254,\n",
              " 'times': 255,\n",
              " 'concentration': 256,\n",
              " 'low': 257,\n",
              " 'higher': 258,\n",
              " 'live': 259,\n",
              " 'asking': 260,\n",
              " 'understanding': 261,\n",
              " 'why': 262,\n",
              " 'ask': 263,\n",
              " 'add': 264,\n",
              " 'common': 265,\n",
              " 'depends': 266,\n",
              " 'exactly': 267,\n",
              " 'cause': 268,\n",
              " 'particles': 269,\n",
              " 'reaction': 270,\n",
              " 'please': 271,\n",
              " 'mrna': 272,\n",
              " 'dna': 273,\n",
              " 'surface': 274,\n",
              " 'learn': 275,\n",
              " 'comment': 276,\n",
              " 'or': 277,\n",
              " 'let': 278,\n",
              " 'blood': 279,\n",
              " 'next': 280,\n",
              " 'move': 281,\n",
              " 'basically': 282,\n",
              " 'world': 283,\n",
              " 'molecules': 284,\n",
              " 'kill': 285,\n",
              " 'agree': 286,\n",
              " 'arent': 287,\n",
              " 'hydrogen': 288,\n",
              " 'pressure': 289,\n",
              " 'free': 290,\n",
              " 'temperature': 291,\n",
              " 'completely': 292,\n",
              " 'place': 293,\n",
              " 'whole': 294,\n",
              " 'certain': 295,\n",
              " 'gets': 296,\n",
              " 'heat': 297,\n",
              " 'do': 298,\n",
              " 'important': 299,\n",
              " 'structure': 300,\n",
              " 'working': 301,\n",
              " 'mind': 302,\n",
              " 'others': 303,\n",
              " 'space': 304,\n",
              " 'source': 305,\n",
              " 'person': 306,\n",
              " 'humans': 307,\n",
              " 'almost': 308,\n",
              " 'due': 309,\n",
              " 'fine': 310,\n",
              " 'sounds': 311,\n",
              " 'some': 312,\n",
              " 'comes': 313,\n",
              " 'oxygen': 314,\n",
              " 'are': 315,\n",
              " 'single': 316,\n",
              " 'easy': 317,\n",
              " 'deleted': 318,\n",
              " 'yet': 319,\n",
              " 'human': 320,\n",
              " 'ones': 321,\n",
              " 'earth': 322,\n",
              " 'fun': 323,\n",
              " 'seem': 324,\n",
              " 'general': 325,\n",
              " 'unless': 326,\n",
              " 'type': 327,\n",
              " 'organic': 328,\n",
              " 'short': 329,\n",
              " 'die': 330,\n",
              " 'days': 331,\n",
              " 'left': 332,\n",
              " 'happen': 333,\n",
              " 'viruses': 334,\n",
              " 'check': 335,\n",
              " 'explanation': 336,\n",
              " 'when': 337,\n",
              " 'explain': 338,\n",
              " 'electrons': 339,\n",
              " 'whatever': 340,\n",
              " 'experiment': 341,\n",
              " 'gravity': 342,\n",
              " 'talk': 343,\n",
              " 'brain': 344,\n",
              " 'bottle': 345,\n",
              " 'effect': 346,\n",
              " 'goes': 347,\n",
              " 'large': 348,\n",
              " 'youll': 349,\n",
              " 'then': 350,\n",
              " 'liquid': 351,\n",
              " 'ice': 352,\n",
              " 'material': 353,\n",
              " 'shit': 354,\n",
              " 'hand': 355,\n",
              " 'hope': 356,\n",
              " 'difference': 357,\n",
              " 'immune': 358,\n",
              " 'study': 359,\n",
              " 'ill': 360,\n",
              " 'universe': 361,\n",
              " 'safe': 362,\n",
              " 'mostly': 363,\n",
              " 'happens': 364,\n",
              " 'sometimes': 365,\n",
              " 'atoms': 366,\n",
              " 'particle': 367,\n",
              " 'name': 368,\n",
              " 'everyone': 369,\n",
              " 'virus': 370,\n",
              " 'capture': 371,\n",
              " 'molecule': 372,\n",
              " 'works': 373,\n",
              " 'top': 374,\n",
              " 'stop': 375,\n",
              " 'lead': 376,\n",
              " 'especially': 377,\n",
              " 'amino': 378,\n",
              " 'effects': 379,\n",
              " 'literally': 380,\n",
              " 'information': 381,\n",
              " 'complex': 382,\n",
              " 'given': 383,\n",
              " 'talking': 384,\n",
              " 'interested': 385,\n",
              " 'call': 386,\n",
              " 'super': 387,\n",
              " 'black': 388,\n",
              " 'chem': 389,\n",
              " 'actual': 390,\n",
              " 'leave': 391,\n",
              " 'area': 392,\n",
              " 'result': 393,\n",
              " 'ago': 394,\n",
              " 'natural': 395,\n",
              " 'old': 396,\n",
              " 'therefore': 397,\n",
              " 'sorry': 398,\n",
              " 'whether': 399,\n",
              " 'consciousness': 400,\n",
              " 'produce': 401,\n",
              " 'nice': 402,\n",
              " 'normal': 403,\n",
              " 'acids': 404,\n",
              " 'took': 405,\n",
              " 'vaccine': 406,\n",
              " 'can': 407,\n",
              " 'needs': 408,\n",
              " 'must': 409,\n",
              " 'class': 410,\n",
              " 'rate': 411,\n",
              " 'state': 412,\n",
              " 'death': 413,\n",
              " 'close': 414,\n",
              " 'major': 415,\n",
              " 'useful': 416,\n",
              " 'seconds': 417,\n",
              " 'chance': 418,\n",
              " 'scientific': 419,\n",
              " 'group': 420,\n",
              " 'cannot': 421,\n",
              " 'known': 422,\n",
              " 'test': 423,\n",
              " 'magic': 424,\n",
              " 'remember': 425,\n",
              " 'living': 426,\n",
              " 'thinking': 427,\n",
              " 'particular': 428,\n",
              " 'heard': 429,\n",
              " 'current': 430,\n",
              " 'show': 431,\n",
              " 'proteins': 432,\n",
              " 'measure': 433,\n",
              " 'simple': 434,\n",
              " 'because': 435,\n",
              " 'couple': 436,\n",
              " 'distance': 437,\n",
              " 'fast': 438,\n",
              " 'guy': 439,\n",
              " 'vaccines': 440,\n",
              " 'sub': 441,\n",
              " 'recommend': 442,\n",
              " 'all': 443,\n",
              " 'exist': 444,\n",
              " 'fly': 445,\n",
              " 'inside': 446,\n",
              " 'worked': 447,\n",
              " 'easily': 448,\n",
              " 'basic': 449,\n",
              " 'compounds': 450,\n",
              " 'solid': 451,\n",
              " 'compound': 452,\n",
              " 'says': 453,\n",
              " 'grow': 454,\n",
              " 'have': 455,\n",
              " 'object': 456,\n",
              " 'standard': 457,\n",
              " 'nature': 458,\n",
              " 'salt': 459,\n",
              " 'electron': 460,\n",
              " 'perhaps': 461,\n",
              " 'dry': 462,\n",
              " 'care': 463,\n",
              " 'terms': 464,\n",
              " 'become': 465,\n",
              " 'along': 466,\n",
              " 'white': 467,\n",
              " 'half': 468,\n",
              " 'smell': 469,\n",
              " 'he': 470,\n",
              " 'nni': 471,\n",
              " 'imagine': 472,\n",
              " 'sort': 473,\n",
              " 'power': 474,\n",
              " 'longer': 475,\n",
              " 'atom': 476,\n",
              " 'travel': 477,\n",
              " 'math': 478,\n",
              " 'google': 479,\n",
              " 'wanted': 480,\n",
              " 'mushroom': 481,\n",
              " 'model': 482,\n",
              " 'word': 483,\n",
              " 'sound': 484,\n",
              " 'lower': 485,\n",
              " 'words': 486,\n",
              " 'your': 487,\n",
              " 'mushrooms': 488,\n",
              " 'worth': 489,\n",
              " 'physical': 490,\n",
              " 'certainly': 491,\n",
              " 'man': 492,\n",
              " 'fuck': 493,\n",
              " 'eating': 494,\n",
              " 'head': 495,\n",
              " 'went': 496,\n",
              " 'wave': 497,\n",
              " 'skin': 498,\n",
              " 'including': 499,\n",
              " 'assume': 500,\n",
              " 'available': 501,\n",
              " 'red': 502,\n",
              " 'university': 503,\n",
              " 'hours': 504,\n",
              " 'book': 505,\n",
              " 'required': 506,\n",
              " 'ph': 507,\n",
              " 'taking': 508,\n",
              " 'scale': 509,\n",
              " 'reddit': 510,\n",
              " 'experiments': 511,\n",
              " 'youve': 512,\n",
              " 'issue': 513,\n",
              " 'easier': 514,\n",
              " 'saw': 515,\n",
              " 'money': 516,\n",
              " 'results': 517,\n",
              " 'dangerous': 518,\n",
              " 'states': 519,\n",
              " 'product': 520,\n",
              " 'generally': 521,\n",
              " 'future': 522,\n",
              " 'engineering': 523,\n",
              " 'outside': 524,\n",
              " 'shot': 525,\n",
              " 'absolutely': 526,\n",
              " 'neutrinos': 527,\n",
              " 'drink': 528,\n",
              " 'reading': 529,\n",
              " 'several': 530,\n",
              " 'fire': 531,\n",
              " 'tried': 532,\n",
              " 'solvent': 533,\n",
              " 'at': 534,\n",
              " 'hands': 535,\n",
              " 'reference': 536,\n",
              " 'law': 537,\n",
              " 'jobs': 538,\n",
              " 'order': 539,\n",
              " 'term': 540,\n",
              " 'specifically': 541,\n",
              " 'function': 542,\n",
              " 'knowledge': 543,\n",
              " 'together': 544,\n",
              " 'came': 545,\n",
              " 'lots': 546,\n",
              " 'helps': 547,\n",
              " 'run': 548,\n",
              " 'students': 549,\n",
              " 'difficult': 550,\n",
              " 'highly': 551,\n",
              " 'later': 552,\n",
              " 'points': 553,\n",
              " 'cold': 554,\n",
              " 'stupid': 555,\n",
              " 'okay': 556,\n",
              " 'clearly': 557,\n",
              " 'atmosphere': 558,\n",
              " 'intelligence': 559,\n",
              " 'any': 560,\n",
              " 'simply': 561,\n",
              " 'student': 562,\n",
              " 'plants': 563,\n",
              " 'charge': 564,\n",
              " 'company': 565,\n",
              " 'turn': 566,\n",
              " 'open': 567,\n",
              " 'set': 568,\n",
              " 'rest': 569,\n",
              " 'average': 570,\n",
              " 'neutron': 571,\n",
              " 'within': 572,\n",
              " 'weird': 573,\n",
              " 'meaning': 574,\n",
              " 'constant': 575,\n",
              " 'heart': 576,\n",
              " 'metal': 577,\n",
              " 'towards': 578,\n",
              " 'article': 579,\n",
              " 'weight': 580,\n",
              " 'moving': 581,\n",
              " 'gonna': 582,\n",
              " 'needed': 583,\n",
              " 'youd': 584,\n",
              " 'learned': 585,\n",
              " 'depending': 586,\n",
              " 'nuclear': 587,\n",
              " 'family': 588,\n",
              " 'cancer': 589,\n",
              " 'currently': 590,\n",
              " 'sodium': 591,\n",
              " 'bacteria': 592,\n",
              " 'assassin': 593,\n",
              " 'chlorine': 594,\n",
              " 'chemist': 595,\n",
              " 'friend': 596,\n",
              " 'main': 597,\n",
              " 'negative': 598,\n",
              " 'response': 599,\n",
              " 'chemicals': 600,\n",
              " 'considered': 601,\n",
              " 'huge': 602,\n",
              " 'home': 603,\n",
              " 'direction': 604,\n",
              " 'apply': 605,\n",
              " 'started': 606,\n",
              " 'extremely': 607,\n",
              " 'size': 608,\n",
              " 'risk': 609,\n",
              " 'wonder': 610,\n",
              " 'plus': 611,\n",
              " 'totally': 612,\n",
              " 'create': 613,\n",
              " 'dude': 614,\n",
              " 'photons': 615,\n",
              " 'most': 616,\n",
              " 'burn': 617,\n",
              " 'genome': 618,\n",
              " 'cream': 619,\n",
              " 'per': 620,\n",
              " 'hell': 621,\n",
              " 'grade': 622,\n",
              " 'link': 623,\n",
              " 'causes': 624,\n",
              " 'glass': 625,\n",
              " 'entirely': 626,\n",
              " 'quickly': 627,\n",
              " 'joke': 628,\n",
              " 'although': 629,\n",
              " 'haha': 630,\n",
              " 'hey': 631,\n",
              " 'animals': 632,\n",
              " 'ground': 633,\n",
              " 'total': 634,\n",
              " 'production': 635,\n",
              " 'very': 636,\n",
              " 'past': 637,\n",
              " 'alcohol': 638,\n",
              " 'knows': 639,\n",
              " 'homework': 640,\n",
              " 'elements': 641,\n",
              " 'argument': 642,\n",
              " 'materials': 643,\n",
              " 'line': 644,\n",
              " 'bugs': 645,\n",
              " 'health': 646,\n",
              " 'active': 647,\n",
              " 'increase': 648,\n",
              " 'takes': 649,\n",
              " 'meant': 650,\n",
              " 'pair': 651,\n",
              " 'bonds': 652,\n",
              " 'mix': 653,\n",
              " 'whats': 654,\n",
              " 'somewhere': 655,\n",
              " 'color': 656,\n",
              " 'which': 657,\n",
              " 'detector': 658,\n",
              " 'break': 659,\n",
              " 'dead': 660,\n",
              " 'studies': 661,\n",
              " 'zero': 662,\n",
              " 'decay': 663,\n",
              " 'coming': 664,\n",
              " 'consider': 665,\n",
              " 'copper': 666,\n",
              " 'directly': 667,\n",
              " 'otherwise': 668,\n",
              " 'table': 669,\n",
              " 'synthesis': 670,\n",
              " 'random': 671,\n",
              " 'luck': 672,\n",
              " 'rule': 673,\n",
              " 'definition': 674,\n",
              " 'three': 675,\n",
              " 'positive': 676,\n",
              " 'equation': 677,\n",
              " 'accurate': 678,\n",
              " 'animal': 679,\n",
              " 'conditions': 680,\n",
              " 'clear': 681,\n",
              " 'advice': 682,\n",
              " 'industry': 683,\n",
              " 'starting': 684,\n",
              " 'undergrad': 685,\n",
              " 'strong': 686,\n",
              " 'forbidden': 687,\n",
              " 'weak': 688,\n",
              " 'parts': 689,\n",
              " 'nnthe': 690,\n",
              " 'position': 691,\n",
              " 'papers': 692,\n",
              " 'moment': 693,\n",
              " 'alone': 694,\n",
              " 'giving': 695,\n",
              " 'reactions': 696,\n",
              " 'limit': 697,\n",
              " 'relevant': 698,\n",
              " 'phase': 699,\n",
              " 'slightly': 700,\n",
              " 'car': 701,\n",
              " 'disease': 702,\n",
              " 'entire': 703,\n",
              " 'bond': 704,\n",
              " 'to': 705,\n",
              " 'told': 706,\n",
              " 'flame': 707,\n",
              " 'adding': 708,\n",
              " 'seeing': 709,\n",
              " 'problems': 710,\n",
              " 'ie': 711,\n",
              " 'appreciate': 712,\n",
              " 'assuming': 713,\n",
              " 'remove': 714,\n",
              " 'reality': 715,\n",
              " 'lets': 716,\n",
              " 'ah': 717,\n",
              " 'posts': 718,\n",
              " 'across': 719,\n",
              " 'these': 720,\n",
              " 'gravitational': 721,\n",
              " 'running': 722,\n",
              " 'potential': 723,\n",
              " 'plant': 724,\n",
              " 'tho': 725,\n",
              " 'produced': 726,\n",
              " 'aware': 727,\n",
              " 'funny': 728,\n",
              " 'worry': 729,\n",
              " 'healthy': 730,\n",
              " 'write': 731,\n",
              " 'numbers': 732,\n",
              " 'tiny': 733,\n",
              " 'hot': 734,\n",
              " 'havent': 735,\n",
              " 'missing': 736,\n",
              " 'slow': 737,\n",
              " 'oxidation': 738,\n",
              " 'straight': 739,\n",
              " 'neutrons': 740,\n",
              " 'glucose': 741,\n",
              " 'evidence': 742,\n",
              " 'ball': 743,\n",
              " 'today': 744,\n",
              " 'frame': 745,\n",
              " 'god': 746,\n",
              " 'eyes': 747,\n",
              " 'doctor': 748,\n",
              " 'mechanics': 749,\n",
              " 'defined': 750,\n",
              " 'changes': 751,\n",
              " 'ls': 752,\n",
              " 'clean': 753,\n",
              " 'provide': 754,\n",
              " 'curious': 755,\n",
              " 'uses': 756,\n",
              " 'stick': 757,\n",
              " 'room': 758,\n",
              " 'suggest': 759,\n",
              " 'multiple': 760,\n",
              " 'cost': 761,\n",
              " 'technology': 762,\n",
              " 'eg': 763,\n",
              " 'green': 764,\n",
              " 'damn': 765,\n",
              " 'idk': 766,\n",
              " 'honestly': 767,\n",
              " 'obviously': 768,\n",
              " 'individual': 769,\n",
              " 'calculate': 770,\n",
              " 'answers': 771,\n",
              " 'tend': 772,\n",
              " 'bio': 773,\n",
              " 'crystal': 774,\n",
              " 'levels': 775,\n",
              " 'stable': 776,\n",
              " 'volume': 777,\n",
              " 'pure': 778,\n",
              " 'subreddit': 779,\n",
              " 'fall': 780,\n",
              " 'did': 781,\n",
              " 'damage': 782,\n",
              " 'personal': 783,\n",
              " 'lungs': 784,\n",
              " 'from': 785,\n",
              " 'learning': 786,\n",
              " 'viral': 787,\n",
              " 'mentioned': 788,\n",
              " 'pattern': 789,\n",
              " 'professor': 790,\n",
              " 'infection': 791,\n",
              " 'fields': 792,\n",
              " 'equal': 793,\n",
              " 'wow': 794,\n",
              " 'separate': 795,\n",
              " 'apparently': 796,\n",
              " 'bleach': 797,\n",
              " 'classes': 798,\n",
              " 'thus': 799,\n",
              " 'blue': 800,\n",
              " 'videos': 801,\n",
              " 'quality': 802,\n",
              " 'now': 803,\n",
              " 'present': 804,\n",
              " 'velocity': 805,\n",
              " 'self': 806,\n",
              " 'molecular': 807,\n",
              " 'mention': 808,\n",
              " 'burning': 809,\n",
              " 'exact': 810,\n",
              " 'experimental': 811,\n",
              " 'more': 812,\n",
              " 'topic': 813,\n",
              " 'fully': 814,\n",
              " 'analysis': 815,\n",
              " 'various': 816,\n",
              " 'pay': 817,\n",
              " 'considering': 818,\n",
              " 'added': 819,\n",
              " 'grad': 820,\n",
              " 'deep': 821,\n",
              " 'vacuum': 822,\n",
              " 'contain': 823,\n",
              " 'failed': 824,\n",
              " 'products': 825,\n",
              " 'types': 826,\n",
              " 'thermodynamics': 827,\n",
              " 'ability': 828,\n",
              " 'week': 829,\n",
              " 'beyond': 830,\n",
              " 'months': 831,\n",
              " 'lack': 832,\n",
              " 'typically': 833,\n",
              " 'career': 834,\n",
              " 'beer': 835,\n",
              " 'worse': 836,\n",
              " 'impossible': 837,\n",
              " 'waves': 838,\n",
              " 'full': 839,\n",
              " 'buy': 840,\n",
              " 'careful': 841,\n",
              " 'play': 842,\n",
              " 'expensive': 843,\n",
              " 'related': 844,\n",
              " 'walk': 845,\n",
              " 'figure': 846,\n",
              " 'properties': 847,\n",
              " 'tests': 848,\n",
              " 'forward': 849,\n",
              " 'spider': 850,\n",
              " 'confused': 851,\n",
              " 'systems': 852,\n",
              " 'reach': 853,\n",
              " 'medical': 854,\n",
              " 'drugs': 855,\n",
              " 'essentially': 856,\n",
              " 'wait': 857,\n",
              " 'double': 858,\n",
              " 'government': 859,\n",
              " 'indeed': 860,\n",
              " 'share': 861,\n",
              " 'fit': 862,\n",
              " 'beautiful': 863,\n",
              " 'gone': 864,\n",
              " 'with': 865,\n",
              " 'sterile': 866,\n",
              " 'sun': 867,\n",
              " 'immunity': 868,\n",
              " 'wasnt': 869,\n",
              " 'bunch': 870,\n",
              " 'amounts': 871,\n",
              " 'heavy': 872,\n",
              " 'rules': 873,\n",
              " 'vaccinated': 874,\n",
              " 'happening': 875,\n",
              " 'design': 876,\n",
              " 'issues': 877,\n",
              " 'antibodies': 878,\n",
              " 'via': 879,\n",
              " 'compared': 880,\n",
              " 'wish': 881,\n",
              " 'looked': 882,\n",
              " 'require': 883,\n",
              " 'genetic': 884,\n",
              " 'yellow': 885,\n",
              " 'kinetic': 886,\n",
              " 'testosterone': 887,\n",
              " 'contact': 888,\n",
              " 'piece': 889,\n",
              " 'radiation': 890,\n",
              " 'hence': 891,\n",
              " 'lone': 892,\n",
              " 'hate': 893,\n",
              " 'measurements': 894,\n",
              " 'deal': 895,\n",
              " 'picture': 896,\n",
              " 'youtube': 897,\n",
              " 'touch': 898,\n",
              " 'story': 899,\n",
              " 'drop': 900,\n",
              " 'fucking': 901,\n",
              " 'plastic': 902,\n",
              " 'taken': 903,\n",
              " 'ways': 904,\n",
              " 'behind': 905,\n",
              " 'physicists': 906,\n",
              " 'fat': 907,\n",
              " 'reply': 908,\n",
              " 'producing': 909,\n",
              " 'vs': 910,\n",
              " 'supposed': 911,\n",
              " 'eventually': 912,\n",
              " 'graduate': 913,\n",
              " 'weeks': 914,\n",
              " 'wax': 915,\n",
              " 'smaller': 916,\n",
              " 'onto': 917,\n",
              " 'cleaning': 918,\n",
              " 'joints': 919,\n",
              " 'doubt': 920,\n",
              " 'evolution': 921,\n",
              " 'applied': 922,\n",
              " 'solutions': 923,\n",
              " 'drug': 924,\n",
              " 'guys': 925,\n",
              " 'recent': 926,\n",
              " 'pick': 927,\n",
              " 'ethanol': 928,\n",
              " 'environment': 929,\n",
              " 'nucleus': 930,\n",
              " 'value': 931,\n",
              " 'awesome': 932,\n",
              " 'context': 933,\n",
              " 'control': 934,\n",
              " 'method': 935,\n",
              " 'masters': 936,\n",
              " 'theoretical': 937,\n",
              " 'sources': 938,\n",
              " 'speak': 939,\n",
              " 'fair': 940,\n",
              " 'react': 941,\n",
              " 'bike': 942,\n",
              " 'hurt': 943,\n",
              " 'unfortunately': 944,\n",
              " 'stay': 945,\n",
              " 'requires': 946,\n",
              " 'cases': 947,\n",
              " 'hit': 948,\n",
              " 'quick': 949,\n",
              " 'turns': 950,\n",
              " 'choice': 951,\n",
              " 'created': 952,\n",
              " 'wants': 953,\n",
              " 'photon': 954,\n",
              " 'acceleration': 955,\n",
              " 'resistance': 956,\n",
              " 'machine': 957,\n",
              " 'build': 958,\n",
              " 'friction': 959,\n",
              " 'recently': 960,\n",
              " 'review': 961,\n",
              " 'hcl': 962,\n",
              " 'degrees': 963,\n",
              " 'poisonous': 964,\n",
              " 'biochemistry': 965,\n",
              " 'cut': 966,\n",
              " 'those': 967,\n",
              " 'content': 968,\n",
              " 'wheel': 969,\n",
              " 'bite': 970,\n",
              " 'density': 971,\n",
              " 'nmr': 972,\n",
              " 'oxide': 973,\n",
              " 'observer': 974,\n",
              " 'unlikely': 975,\n",
              " 'allow': 976,\n",
              " 'vinegar': 977,\n",
              " 'fish': 978,\n",
              " 'focus': 979,\n",
              " 'writing': 980,\n",
              " 'minutes': 981,\n",
              " 'strawberry': 982,\n",
              " 'project': 983,\n",
              " 'dissolve': 984,\n",
              " 'argue': 985,\n",
              " 'million': 986,\n",
              " 'legs': 987,\n",
              " 'faster': 988,\n",
              " 'plenty': 989,\n",
              " 'non': 990,\n",
              " 'organisms': 991,\n",
              " 'changing': 992,\n",
              " 'companies': 993,\n",
              " 'toxic': 994,\n",
              " 'bs': 995,\n",
              " 'shape': 996,\n",
              " 'practice': 997,\n",
              " 'initial': 998,\n",
              " 'does': 999,\n",
              " 'none': 1000,\n",
              " ...}"
            ]
          },
          "metadata": {},
          "execution_count": 87
        }
      ],
      "source": [
        "tk.word_index"
      ]
    },
    {
      "cell_type": "code",
      "execution_count": null,
      "metadata": {
        "id": "f_CiEXoXG1Gt"
      },
      "outputs": [],
      "source": [
        "# Different modes: binary, count, freq, tf-idf\n",
        "vectors = tk.texts_to_matrix(train['Comment'], mode='count')"
      ]
    },
    {
      "cell_type": "code",
      "execution_count": null,
      "metadata": {
        "id": "ffl8ELGeScjR"
      },
      "outputs": [],
      "source": [
        "vectors1 = tk.texts_to_matrix(test['Comment'], mode='count')"
      ]
    },
    {
      "cell_type": "code",
      "execution_count": null,
      "metadata": {
        "id": "fckJY8twG7QJ"
      },
      "outputs": [],
      "source": [
        "X_train = pd.DataFrame(vectors)"
      ]
    },
    {
      "cell_type": "code",
      "execution_count": null,
      "metadata": {
        "id": "EEzMnQIrSfGe"
      },
      "outputs": [],
      "source": [
        "X_test = pd.DataFrame(vectors1)"
      ]
    },
    {
      "cell_type": "markdown",
      "metadata": {
        "id": "xbgYr5VEm0U-"
      },
      "source": [
        "#<font color='#77C66E'>**Bag of words models**</font>\n",
        "---\n",
        "We explore some models that use the bag of words method, and are not in combination in any way with any word2vec model. Later on, we will compare the results of these models with combined models."
      ]
    },
    {
      "cell_type": "markdown",
      "metadata": {
        "id": "rcPhoEZC3L1Q"
      },
      "source": [
        "##<font color='#77C66E'>**Model 1**</font>\n",
        "---\n",
        "This model is a bag of words model with mode='count'. This model will not be used in future comparisons."
      ]
    },
    {
      "cell_type": "code",
      "execution_count": null,
      "metadata": {
        "id": "QCdpOz0DHHP9"
      },
      "outputs": [],
      "source": [
        "model = keras.Sequential()\n",
        "model.add(keras.layers.Input(shape=X_train.shape[1:]))\n",
        "# model.add(keras.layers.Dense(100, activation='relu'))\n",
        "model.add(keras.layers.Dense(3, activation='softmax'))\n",
        "\n",
        "opt = keras.optimizers.Adam(learning_rate=0.001)\n",
        "\n",
        "model.compile(loss='categorical_crossentropy', optimizer=opt, metrics=['accuracy'])"
      ]
    },
    {
      "cell_type": "code",
      "execution_count": null,
      "metadata": {
        "colab": {
          "base_uri": "https://localhost:8080/"
        },
        "id": "-MdXrTVsxAUE",
        "outputId": "e4c2effc-23b6-468c-e91d-70a729978b41"
      },
      "outputs": [
        {
          "name": "stdout",
          "output_type": "stream",
          "text": [
            "Model: \"sequential\"\n",
            "_________________________________________________________________\n",
            " Layer (type)                Output Shape              Param #   \n",
            "=================================================================\n",
            " dense (Dense)               (None, 3)                 56583     \n",
            "                                                                 \n",
            "=================================================================\n",
            "Total params: 56,583\n",
            "Trainable params: 56,583\n",
            "Non-trainable params: 0\n",
            "_________________________________________________________________\n"
          ]
        }
      ],
      "source": [
        "model.summary()"
      ]
    },
    {
      "cell_type": "code",
      "execution_count": null,
      "metadata": {
        "colab": {
          "base_uri": "https://localhost:8080/"
        },
        "id": "w_pFIeHOJRu0",
        "outputId": "6de37533-b0cf-426b-bf3b-cd236bd4674d"
      },
      "outputs": [
        {
          "name": "stdout",
          "output_type": "stream",
          "text": [
            "Epoch 1/10\n",
            "544/544 [==============================] - 4s 6ms/step - loss: 0.9865 - accuracy: 0.5683 - val_loss: 0.7068 - val_accuracy: 0.7188\n",
            "Epoch 2/10\n",
            "544/544 [==============================] - 3s 6ms/step - loss: 0.8084 - accuracy: 0.7110 - val_loss: 0.6201 - val_accuracy: 0.7427\n",
            "Epoch 3/10\n",
            "544/544 [==============================] - 4s 6ms/step - loss: 0.7079 - accuracy: 0.7693 - val_loss: 0.5778 - val_accuracy: 0.7604\n",
            "Epoch 4/10\n",
            "544/544 [==============================] - 3s 6ms/step - loss: 0.6366 - accuracy: 0.8051 - val_loss: 0.5711 - val_accuracy: 0.7667\n",
            "Epoch 5/10\n",
            "544/544 [==============================] - 3s 6ms/step - loss: 0.5811 - accuracy: 0.8314 - val_loss: 0.5612 - val_accuracy: 0.7762\n",
            "Epoch 6/10\n",
            "544/544 [==============================] - 3s 6ms/step - loss: 0.5361 - accuracy: 0.8515 - val_loss: 0.5674 - val_accuracy: 0.7768\n",
            "Epoch 7/10\n",
            "544/544 [==============================] - 3s 6ms/step - loss: 0.4984 - accuracy: 0.8641 - val_loss: 0.5695 - val_accuracy: 0.7818\n",
            "Epoch 8/10\n",
            "544/544 [==============================] - 3s 6ms/step - loss: 0.4661 - accuracy: 0.8760 - val_loss: 0.5926 - val_accuracy: 0.7768\n",
            "Epoch 9/10\n",
            "544/544 [==============================] - 3s 6ms/step - loss: 0.4380 - accuracy: 0.8818 - val_loss: 0.5899 - val_accuracy: 0.7825\n",
            "Epoch 10/10\n",
            "544/544 [==============================] - 3s 6ms/step - loss: 0.4133 - accuracy: 0.8915 - val_loss: 0.6104 - val_accuracy: 0.7806\n"
          ]
        },
        {
          "data": {
            "text/plain": [
              "<keras.callbacks.History at 0x7fa9fc8e0890>"
            ]
          },
          "execution_count": 48,
          "metadata": {},
          "output_type": "execute_result"
        }
      ],
      "source": [
        "model.fit(x=X_train, y=y_train, epochs=10, batch_size=16,\n",
        "          validation_data=(X_test,y_test))"
      ]
    },
    {
      "cell_type": "markdown",
      "metadata": {
        "id": "_aEk-J8i3ODR"
      },
      "source": [
        "##<font color='#77C66E'>**Model 2**</font>\n",
        "---\n",
        "This model is a tf-idf bag of words model, which we will use in all comparisons. Furthermore, multiple tf-idf models are presented, but the base one will be used throughout this research, because of the lack of a major difference in results."
      ]
    },
    {
      "cell_type": "markdown",
      "source": [
        "###<font color='#77C66E'>**TFIDF - Base**</font>\n",
        "---"
      ],
      "metadata": {
        "id": "Nc7biIMSFvQl"
      }
    },
    {
      "cell_type": "code",
      "execution_count": null,
      "metadata": {
        "id": "4DgGOJq63YTR"
      },
      "outputs": [],
      "source": [
        "vectors = tk.texts_to_matrix(train['Comment'], mode='count')"
      ]
    },
    {
      "cell_type": "code",
      "execution_count": null,
      "metadata": {
        "id": "JTiis9GG3YTR"
      },
      "outputs": [],
      "source": [
        "vectors1 = tk.texts_to_matrix(test['Comment'], mode='count')"
      ]
    },
    {
      "cell_type": "code",
      "execution_count": null,
      "metadata": {
        "id": "IInAccdr3YTR"
      },
      "outputs": [],
      "source": [
        "X_train = pd.DataFrame(vectors)"
      ]
    },
    {
      "cell_type": "code",
      "execution_count": null,
      "metadata": {
        "id": "y9U4i3w13YTR"
      },
      "outputs": [],
      "source": [
        "X_test = pd.DataFrame(vectors1)"
      ]
    },
    {
      "cell_type": "markdown",
      "source": [
        "We use sklearn the Tfidf transformer to turn our mode='count' bag of words to a bag of words that uses tfidf.  \n",
        "**NOTE:** This is different from the keras mode='tfidf' transformer. The keras library uses a unique method which I believe works better than methods in other libraries, but rather than looking for the best results, it is only important that we are **consistent** and use the **same method** throughout our research. Otherwise, our findings would lack legitimacy."
      ],
      "metadata": {
        "id": "Myg6hbB8VEa-"
      }
    },
    {
      "cell_type": "code",
      "source": [
        "from sklearn.feature_extraction.text import TfidfTransformer\n",
        "from sklearn.pipeline import Pipeline\n",
        "\n",
        "pipe = Pipeline([('tfid', TfidfTransformer())]).fit(X_train)\n",
        "X_train_resultt = pipe.transform(X_train)\n",
        "X_test_resultt = pipe.transform(X_test)"
      ],
      "metadata": {
        "id": "Ya4FOg1b1qEg"
      },
      "execution_count": null,
      "outputs": []
    },
    {
      "cell_type": "code",
      "source": [
        "X_train_resultt = pd.DataFrame.sparse.from_spmatrix(X_train_resultt)\n",
        "X_test_resultt = pd.DataFrame.sparse.from_spmatrix(X_test_resultt)"
      ],
      "metadata": {
        "id": "cWgpQZwP12lF"
      },
      "execution_count": null,
      "outputs": []
    },
    {
      "cell_type": "code",
      "execution_count": null,
      "metadata": {
        "id": "Ro-D8ueL3lwZ"
      },
      "outputs": [],
      "source": [
        "model = keras.Sequential()\n",
        "model.add(keras.layers.Input(shape=X_train.shape[1:]))\n",
        "model.add(keras.layers.Dense(3, activation='softmax'))\n",
        "\n",
        "opt = keras.optimizers.Adam(learning_rate=0.001)\n",
        "\n",
        "model.compile(loss='categorical_crossentropy', optimizer=opt, metrics=['accuracy'])"
      ]
    },
    {
      "cell_type": "code",
      "execution_count": null,
      "metadata": {
        "colab": {
          "base_uri": "https://localhost:8080/"
        },
        "id": "a1dJ2MZS3oVQ",
        "outputId": "c555f4f2-4ee0-4bae-b7a9-699d4c57cb32"
      },
      "outputs": [
        {
          "output_type": "stream",
          "name": "stdout",
          "text": [
            "Epoch 1/10\n",
            "544/544 [==============================] - 5s 8ms/step - loss: 1.0577 - accuracy: 0.4496 - val_loss: 1.0267 - val_accuracy: 0.4010\n",
            "Epoch 2/10\n",
            "544/544 [==============================] - 3s 5ms/step - loss: 0.9776 - accuracy: 0.5469 - val_loss: 0.9669 - val_accuracy: 0.4931\n",
            "Epoch 3/10\n",
            "544/544 [==============================] - 3s 5ms/step - loss: 0.9089 - accuracy: 0.6698 - val_loss: 0.9123 - val_accuracy: 0.6059\n",
            "Epoch 4/10\n",
            "544/544 [==============================] - 3s 5ms/step - loss: 0.8483 - accuracy: 0.7341 - val_loss: 0.8634 - val_accuracy: 0.6797\n",
            "Epoch 5/10\n",
            "544/544 [==============================] - 3s 5ms/step - loss: 0.7948 - accuracy: 0.7819 - val_loss: 0.8214 - val_accuracy: 0.7087\n",
            "Epoch 6/10\n",
            "544/544 [==============================] - 3s 5ms/step - loss: 0.7477 - accuracy: 0.8074 - val_loss: 0.7836 - val_accuracy: 0.7421\n",
            "Epoch 7/10\n",
            "544/544 [==============================] - 3s 5ms/step - loss: 0.7057 - accuracy: 0.8281 - val_loss: 0.7507 - val_accuracy: 0.7598\n",
            "Epoch 8/10\n",
            "544/544 [==============================] - 3s 5ms/step - loss: 0.6682 - accuracy: 0.8470 - val_loss: 0.7221 - val_accuracy: 0.7661\n",
            "Epoch 9/10\n",
            "544/544 [==============================] - 3s 5ms/step - loss: 0.6344 - accuracy: 0.8560 - val_loss: 0.6965 - val_accuracy: 0.7755\n",
            "Epoch 10/10\n",
            "544/544 [==============================] - 3s 6ms/step - loss: 0.6039 - accuracy: 0.8650 - val_loss: 0.6752 - val_accuracy: 0.7774\n"
          ]
        },
        {
          "output_type": "execute_result",
          "data": {
            "text/plain": [
              "<keras.callbacks.History at 0x7f4ec6f52690>"
            ]
          },
          "metadata": {},
          "execution_count": 141
        }
      ],
      "source": [
        "model.fit(x=X_train_resultt, y=y_train, epochs=10, batch_size=16,\n",
        "          validation_data=(X_test_resultt,y_test))"
      ]
    },
    {
      "cell_type": "code",
      "execution_count": null,
      "metadata": {
        "colab": {
          "base_uri": "https://localhost:8080/"
        },
        "id": "Gc16VZP8dG_V",
        "outputId": "1e3e2dd4-d71a-482d-b9fe-25151672fbed"
      },
      "outputs": [
        {
          "output_type": "stream",
          "name": "stdout",
          "text": [
            "Epoch 1/10\n",
            "544/544 [==============================] - 3s 5ms/step - loss: 0.3902 - accuracy: 0.8620 - val_loss: 0.9398 - val_accuracy: 0.7768\n",
            "Epoch 2/10\n",
            "544/544 [==============================] - 3s 5ms/step - loss: 0.3521 - accuracy: 0.8853 - val_loss: 0.8927 - val_accuracy: 0.7799\n",
            "Epoch 3/10\n",
            "544/544 [==============================] - 3s 5ms/step - loss: 0.3309 - accuracy: 0.8963 - val_loss: 0.8441 - val_accuracy: 0.7837\n",
            "Epoch 4/10\n",
            "544/544 [==============================] - 3s 5ms/step - loss: 0.3148 - accuracy: 0.9045 - val_loss: 0.8278 - val_accuracy: 0.7850\n",
            "Epoch 5/10\n",
            "544/544 [==============================] - 3s 5ms/step - loss: 0.3012 - accuracy: 0.9098 - val_loss: 0.8059 - val_accuracy: 0.7907\n",
            "Epoch 6/10\n",
            "544/544 [==============================] - 3s 5ms/step - loss: 0.2891 - accuracy: 0.9158 - val_loss: 0.8029 - val_accuracy: 0.7951\n",
            "Epoch 7/10\n",
            "544/544 [==============================] - 3s 5ms/step - loss: 0.2781 - accuracy: 0.9196 - val_loss: 0.7984 - val_accuracy: 0.7932\n",
            "Epoch 8/10\n",
            "544/544 [==============================] - 3s 5ms/step - loss: 0.2680 - accuracy: 0.9240 - val_loss: 0.8034 - val_accuracy: 0.7970\n",
            "Epoch 9/10\n",
            "544/544 [==============================] - 3s 5ms/step - loss: 0.2589 - accuracy: 0.9272 - val_loss: 0.8038 - val_accuracy: 0.7976\n",
            "Epoch 10/10\n",
            "544/544 [==============================] - 3s 6ms/step - loss: 0.2503 - accuracy: 0.9306 - val_loss: 0.8149 - val_accuracy: 0.7951\n"
          ]
        },
        {
          "output_type": "execute_result",
          "data": {
            "text/plain": [
              "<keras.callbacks.History at 0x7f4ebd25ee90>"
            ]
          },
          "metadata": {},
          "execution_count": 142
        }
      ],
      "source": [
        "model.fit(x=X_train, y=y_train, epochs=10, batch_size=16,\n",
        "          validation_data=(X_test,y_test))"
      ]
    },
    {
      "cell_type": "markdown",
      "source": [
        "###<font color='#77C66E'>**TFIDF - Sublinear TF**</font>\n",
        "---"
      ],
      "metadata": {
        "id": "n68lztQBFdwF"
      }
    },
    {
      "cell_type": "code",
      "source": [
        "vectors = tk.texts_to_matrix(train['Comment'], mode='count')\n",
        "vectors1 = tk.texts_to_matrix(test['Comment'], mode='count')\n",
        "X_train = pd.DataFrame(vectors)\n",
        "X_test = pd.DataFrame(vectors1)\n",
        "\n",
        "from sklearn.feature_extraction.text import TfidfTransformer\n",
        "from sklearn.pipeline import Pipeline\n",
        "\n",
        "pipe = Pipeline([('tfid', TfidfTransformer(sublinear_tf=True))]).fit(X_train)\n",
        "X_train_resultt = pipe.transform(X_train)\n",
        "X_test_resultt = pipe.transform(X_test)\n",
        "\n",
        "X_train_resultt = pd.DataFrame.sparse.from_spmatrix(X_train_resultt)\n",
        "X_test_resultt = pd.DataFrame.sparse.from_spmatrix(X_test_resultt)"
      ],
      "metadata": {
        "id": "ypn-PvIWFdb1"
      },
      "execution_count": null,
      "outputs": []
    },
    {
      "cell_type": "code",
      "source": [
        "model = keras.Sequential()\n",
        "model.add(keras.layers.Input(shape=X_train.shape[1:]))\n",
        "model.add(keras.layers.Dense(3, activation='softmax'))\n",
        "\n",
        "opt = keras.optimizers.Adam(learning_rate=0.001)\n",
        "\n",
        "model.compile(loss='categorical_crossentropy', optimizer=opt, metrics=['accuracy'])"
      ],
      "metadata": {
        "id": "uyhR6rYCFsr0"
      },
      "execution_count": null,
      "outputs": []
    },
    {
      "cell_type": "code",
      "source": [
        "model.fit(x=X_train, y=y_train, epochs=10, batch_size=16,\n",
        "          validation_data=(X_test,y_test))"
      ],
      "metadata": {
        "colab": {
          "base_uri": "https://localhost:8080/"
        },
        "id": "oHc45tSPFtyl",
        "outputId": "bee1f604-5a5e-4ebc-b815-3df48955b19f"
      },
      "execution_count": null,
      "outputs": [
        {
          "output_type": "stream",
          "name": "stdout",
          "text": [
            "Epoch 1/10\n",
            "544/544 [==============================] - 4s 7ms/step - loss: 0.9880 - accuracy: 0.5594 - val_loss: 0.7127 - val_accuracy: 0.7137\n",
            "Epoch 2/10\n",
            "544/544 [==============================] - 4s 7ms/step - loss: 0.8095 - accuracy: 0.7140 - val_loss: 0.6275 - val_accuracy: 0.7371\n",
            "Epoch 3/10\n",
            "544/544 [==============================] - 3s 5ms/step - loss: 0.7085 - accuracy: 0.7730 - val_loss: 0.5864 - val_accuracy: 0.7610\n",
            "Epoch 4/10\n",
            "544/544 [==============================] - 4s 8ms/step - loss: 0.6367 - accuracy: 0.8063 - val_loss: 0.5654 - val_accuracy: 0.7711\n",
            "Epoch 5/10\n",
            "544/544 [==============================] - 3s 5ms/step - loss: 0.5811 - accuracy: 0.8334 - val_loss: 0.5709 - val_accuracy: 0.7711\n",
            "Epoch 6/10\n",
            "544/544 [==============================] - 3s 5ms/step - loss: 0.5362 - accuracy: 0.8484 - val_loss: 0.5730 - val_accuracy: 0.7793\n",
            "Epoch 7/10\n",
            "544/544 [==============================] - 3s 5ms/step - loss: 0.4984 - accuracy: 0.8634 - val_loss: 0.5713 - val_accuracy: 0.7850\n",
            "Epoch 8/10\n",
            "544/544 [==============================] - 3s 5ms/step - loss: 0.4661 - accuracy: 0.8737 - val_loss: 0.5969 - val_accuracy: 0.7762\n",
            "Epoch 9/10\n",
            "544/544 [==============================] - 3s 5ms/step - loss: 0.4380 - accuracy: 0.8829 - val_loss: 0.6094 - val_accuracy: 0.7774\n",
            "Epoch 10/10\n",
            "544/544 [==============================] - 4s 8ms/step - loss: 0.4132 - accuracy: 0.8910 - val_loss: 0.6189 - val_accuracy: 0.7774\n"
          ]
        },
        {
          "output_type": "execute_result",
          "data": {
            "text/plain": [
              "<keras.callbacks.History at 0x7f4ec6707750>"
            ]
          },
          "metadata": {},
          "execution_count": 146
        }
      ]
    },
    {
      "cell_type": "markdown",
      "source": [
        "###<font color='#77C66E'>**TFIDF - Smooth Idf**</font>\n",
        "---"
      ],
      "metadata": {
        "id": "gs6C5u2sF5CH"
      }
    },
    {
      "cell_type": "code",
      "source": [
        "vectors = tk.texts_to_matrix(train['Comment'], mode='count')\n",
        "vectors1 = tk.texts_to_matrix(test['Comment'], mode='count')\n",
        "X_train = pd.DataFrame(vectors)\n",
        "X_test = pd.DataFrame(vectors1)\n",
        "\n",
        "from sklearn.feature_extraction.text import TfidfTransformer\n",
        "from sklearn.pipeline import Pipeline\n",
        "\n",
        "pipe = Pipeline([('tfid', TfidfTransformer(smooth_idf=True))]).fit(X_train)\n",
        "X_train_resultt = pipe.transform(X_train)\n",
        "X_test_resultt = pipe.transform(X_test)\n",
        "\n",
        "X_train_resultt = pd.DataFrame.sparse.from_spmatrix(X_train_resultt)\n",
        "X_test_resultt = pd.DataFrame.sparse.from_spmatrix(X_test_resultt)"
      ],
      "metadata": {
        "id": "wQXB23sNF_uF"
      },
      "execution_count": null,
      "outputs": []
    },
    {
      "cell_type": "code",
      "source": [
        "model = keras.Sequential()\n",
        "model.add(keras.layers.Input(shape=X_train.shape[1:]))\n",
        "model.add(keras.layers.Dense(3, activation='softmax'))\n",
        "\n",
        "opt = keras.optimizers.Adam(learning_rate=0.001)\n",
        "\n",
        "model.compile(loss='categorical_crossentropy', optimizer=opt, metrics=['accuracy'])"
      ],
      "metadata": {
        "id": "ktDWn9GAGGPF"
      },
      "execution_count": null,
      "outputs": []
    },
    {
      "cell_type": "code",
      "source": [
        "model.fit(x=X_train, y=y_train, epochs=10, batch_size=16,\n",
        "          validation_data=(X_test,y_test))"
      ],
      "metadata": {
        "colab": {
          "base_uri": "https://localhost:8080/"
        },
        "id": "qHyIERjLGHln",
        "outputId": "4f34943a-8669-4784-eca5-836960ef7a1f"
      },
      "execution_count": null,
      "outputs": [
        {
          "output_type": "stream",
          "name": "stdout",
          "text": [
            "Epoch 1/10\n",
            "544/544 [==============================] - 4s 7ms/step - loss: 0.9864 - accuracy: 0.5649 - val_loss: 0.7297 - val_accuracy: 0.6923\n",
            "Epoch 2/10\n",
            "544/544 [==============================] - 3s 5ms/step - loss: 0.8085 - accuracy: 0.7063 - val_loss: 0.6207 - val_accuracy: 0.7446\n",
            "Epoch 3/10\n",
            "544/544 [==============================] - 3s 5ms/step - loss: 0.7081 - accuracy: 0.7642 - val_loss: 0.5766 - val_accuracy: 0.7686\n",
            "Epoch 4/10\n",
            "544/544 [==============================] - 2s 5ms/step - loss: 0.6365 - accuracy: 0.8054 - val_loss: 0.5650 - val_accuracy: 0.7724\n",
            "Epoch 5/10\n",
            "544/544 [==============================] - 2s 4ms/step - loss: 0.5812 - accuracy: 0.8301 - val_loss: 0.5674 - val_accuracy: 0.7768\n",
            "Epoch 6/10\n",
            "544/544 [==============================] - 3s 5ms/step - loss: 0.5361 - accuracy: 0.8514 - val_loss: 0.5612 - val_accuracy: 0.7831\n",
            "Epoch 7/10\n",
            "544/544 [==============================] - 3s 5ms/step - loss: 0.4984 - accuracy: 0.8647 - val_loss: 0.5735 - val_accuracy: 0.7825\n",
            "Epoch 8/10\n",
            "544/544 [==============================] - 3s 5ms/step - loss: 0.4661 - accuracy: 0.8761 - val_loss: 0.5866 - val_accuracy: 0.7768\n",
            "Epoch 9/10\n",
            "544/544 [==============================] - 2s 4ms/step - loss: 0.4380 - accuracy: 0.8825 - val_loss: 0.6064 - val_accuracy: 0.7762\n",
            "Epoch 10/10\n",
            "544/544 [==============================] - 3s 5ms/step - loss: 0.4133 - accuracy: 0.8902 - val_loss: 0.6156 - val_accuracy: 0.7774\n"
          ]
        },
        {
          "output_type": "execute_result",
          "data": {
            "text/plain": [
              "<keras.callbacks.History at 0x7f4ebd9f6610>"
            ]
          },
          "metadata": {},
          "execution_count": 149
        }
      ]
    },
    {
      "cell_type": "markdown",
      "source": [
        "###<font color='#77C66E'>**TFIDF - Sublinear TF & Smooth Idf**</font>\n",
        "---"
      ],
      "metadata": {
        "id": "NRlARckXGPP-"
      }
    },
    {
      "cell_type": "code",
      "source": [
        "vectors = tk.texts_to_matrix(train['Comment'], mode='count')\n",
        "vectors1 = tk.texts_to_matrix(test['Comment'], mode='count')\n",
        "X_train = pd.DataFrame(vectors)\n",
        "X_test = pd.DataFrame(vectors1)\n",
        "\n",
        "from sklearn.feature_extraction.text import TfidfTransformer\n",
        "from sklearn.pipeline import Pipeline\n",
        "\n",
        "pipe = Pipeline([('tfid', TfidfTransformer(sublinear_tf=True, smooth_idf=True))]).fit(X_train)\n",
        "X_train_resultt = pipe.transform(X_train)\n",
        "X_test_resultt = pipe.transform(X_test)\n",
        "\n",
        "X_train_resultt = pd.DataFrame.sparse.from_spmatrix(X_train_resultt)\n",
        "X_test_resultt = pd.DataFrame.sparse.from_spmatrix(X_test_resultt)"
      ],
      "metadata": {
        "id": "3d5qlYjXGVZ0"
      },
      "execution_count": null,
      "outputs": []
    },
    {
      "cell_type": "code",
      "source": [
        "model = keras.Sequential()\n",
        "model.add(keras.layers.Input(shape=X_train.shape[1:]))\n",
        "model.add(keras.layers.Dense(3, activation='softmax'))\n",
        "\n",
        "opt = keras.optimizers.Adam(learning_rate=0.001)\n",
        "\n",
        "model.compile(loss='categorical_crossentropy', optimizer=opt, metrics=['accuracy'])"
      ],
      "metadata": {
        "id": "IkvNzDynGVZ0"
      },
      "execution_count": null,
      "outputs": []
    },
    {
      "cell_type": "code",
      "source": [
        "model.fit(x=X_train, y=y_train, epochs=10, batch_size=16,\n",
        "          validation_data=(X_test,y_test))"
      ],
      "metadata": {
        "colab": {
          "base_uri": "https://localhost:8080/"
        },
        "outputId": "806bd48e-9715-48b0-a01c-23de7f2e679f",
        "id": "gydOX_tGGVZ0"
      },
      "execution_count": null,
      "outputs": [
        {
          "output_type": "stream",
          "name": "stdout",
          "text": [
            "Epoch 1/10\n",
            "544/544 [==============================] - 3s 5ms/step - loss: 0.9863 - accuracy: 0.5608 - val_loss: 0.7135 - val_accuracy: 0.7238\n",
            "Epoch 2/10\n",
            "544/544 [==============================] - 3s 5ms/step - loss: 0.8086 - accuracy: 0.7129 - val_loss: 0.6199 - val_accuracy: 0.7377\n",
            "Epoch 3/10\n",
            "544/544 [==============================] - 2s 5ms/step - loss: 0.7082 - accuracy: 0.7627 - val_loss: 0.5661 - val_accuracy: 0.7724\n",
            "Epoch 4/10\n",
            "544/544 [==============================] - 3s 5ms/step - loss: 0.6367 - accuracy: 0.8067 - val_loss: 0.5644 - val_accuracy: 0.7718\n",
            "Epoch 5/10\n",
            "544/544 [==============================] - 3s 5ms/step - loss: 0.5811 - accuracy: 0.8270 - val_loss: 0.5592 - val_accuracy: 0.7774\n",
            "Epoch 6/10\n",
            "544/544 [==============================] - 2s 5ms/step - loss: 0.5361 - accuracy: 0.8542 - val_loss: 0.5717 - val_accuracy: 0.7774\n",
            "Epoch 7/10\n",
            "544/544 [==============================] - 3s 5ms/step - loss: 0.4985 - accuracy: 0.8641 - val_loss: 0.5767 - val_accuracy: 0.7762\n",
            "Epoch 8/10\n",
            "544/544 [==============================] - 3s 5ms/step - loss: 0.4662 - accuracy: 0.8736 - val_loss: 0.5799 - val_accuracy: 0.7799\n",
            "Epoch 9/10\n",
            "544/544 [==============================] - 3s 5ms/step - loss: 0.4381 - accuracy: 0.8828 - val_loss: 0.5932 - val_accuracy: 0.7818\n",
            "Epoch 10/10\n",
            "544/544 [==============================] - 3s 5ms/step - loss: 0.4134 - accuracy: 0.8899 - val_loss: 0.6135 - val_accuracy: 0.7768\n"
          ]
        },
        {
          "output_type": "execute_result",
          "data": {
            "text/plain": [
              "<keras.callbacks.History at 0x7f4ec51a0f50>"
            ]
          },
          "metadata": {},
          "execution_count": 152
        }
      ]
    },
    {
      "cell_type": "markdown",
      "metadata": {
        "id": "IvxB5zvqmGQ-"
      },
      "source": [
        "#<font color='#77C66E'>**Loading our Word2Vec Model**</font>\n",
        "---\n",
        "We use the gensim library, which is one of the best and most popular Word2Vec implementations for python. We use the pretrained glove-twitter-25 library which shares 13745 words with our training dataset's vocabulary. This is one of the lighter models, but even this model is over 100MB's, some models even have a size close to a GB."
      ]
    },
    {
      "cell_type": "code",
      "execution_count": null,
      "metadata": {
        "id": "3O9DoIUPShYk"
      },
      "outputs": [],
      "source": [
        "import gensim.downloader"
      ]
    },
    {
      "cell_type": "code",
      "execution_count": null,
      "metadata": {
        "id": "jlsXOQZi44bs"
      },
      "outputs": [],
      "source": [
        "glove_vectors = gensim.downloader.load('glove-twitter-25')"
      ]
    },
    {
      "cell_type": "code",
      "execution_count": null,
      "metadata": {
        "id": "4PUqWgh35oeD"
      },
      "outputs": [],
      "source": [
        "vocab = tk.word_index.keys()"
      ]
    },
    {
      "cell_type": "code",
      "execution_count": null,
      "metadata": {
        "colab": {
          "base_uri": "https://localhost:8080/"
        },
        "id": "CmS4APWd9bIs",
        "outputId": "c57ffd5b-e574-4d35-9276-460c9e68c6d1"
      },
      "outputs": [
        {
          "output_type": "stream",
          "name": "stderr",
          "text": [
            "/usr/local/lib/python3.7/dist-packages/ipykernel_launcher.py:1: DeprecationWarning: Call to deprecated `wv` (Attribute will be removed in 4.0.0, use self instead).\n",
            "  \"\"\"Entry point for launching an IPython kernel.\n"
          ]
        }
      ],
      "source": [
        "shared = list(set.intersection(set(vocab), set(glove_vectors.wv.vocab)))"
      ]
    },
    {
      "cell_type": "code",
      "execution_count": null,
      "metadata": {
        "colab": {
          "base_uri": "https://localhost:8080/"
        },
        "id": "Xv5Z0WuKmcQF",
        "outputId": "9dba1220-2d9a-4e01-bbc8-6a712ecad3e7"
      },
      "outputs": [
        {
          "output_type": "execute_result",
          "data": {
            "text/plain": [
              "13745"
            ]
          },
          "metadata": {},
          "execution_count": 96
        }
      ],
      "source": [
        "len(shared)"
      ]
    },
    {
      "cell_type": "code",
      "execution_count": null,
      "metadata": {
        "colab": {
          "base_uri": "https://localhost:8080/"
        },
        "id": "p9L9D-dMSBBr",
        "outputId": "862a326a-68e4-47a6-c711-9b4969b6f0a0"
      },
      "outputs": [
        {
          "output_type": "execute_result",
          "data": {
            "text/plain": [
              "[('facebook', 0.9480051398277283),\n",
              " ('tweet', 0.9403422474861145),\n",
              " ('fb', 0.9342358708381653),\n",
              " ('instagram', 0.9104823470115662),\n",
              " ('chat', 0.8964964747428894),\n",
              " ('hashtag', 0.8885936141014099),\n",
              " ('tweets', 0.8878157734870911),\n",
              " ('tl', 0.8778461813926697),\n",
              " ('link', 0.877821147441864),\n",
              " ('internet', 0.8753897547721863)]"
            ]
          },
          "metadata": {},
          "execution_count": 97
        }
      ],
      "source": [
        "glove_vectors.most_similar('twitter')"
      ]
    },
    {
      "cell_type": "markdown",
      "metadata": {
        "id": "dVJFQTH_mJn-"
      },
      "source": [
        "#<font color='#77C66E'>**Model 1**</font>\n",
        "---\n",
        "Both models are based on the idea of turning our bag of words into a bag of clusters. Meaning, instead of words, we should deal with clusters, but this does not mean that we can't have clusters with only one word. What this does is, we are grouping semantically related words together in clusters. This model uses the clustering algorithm provided in the **paper**, we provided an optimized implementation of it in the first section of this notebook."
      ]
    },
    {
      "cell_type": "code",
      "execution_count": null,
      "metadata": {
        "id": "RaKgd4jXSsNO"
      },
      "outputs": [],
      "source": [
        "vectors = tk.texts_to_matrix(train['Comment'], mode='count')"
      ]
    },
    {
      "cell_type": "code",
      "execution_count": null,
      "metadata": {
        "id": "cQ6CRJfrSsNP"
      },
      "outputs": [],
      "source": [
        "vectors1 = tk.texts_to_matrix(test['Comment'], mode='count')"
      ]
    },
    {
      "cell_type": "code",
      "execution_count": null,
      "metadata": {
        "id": "lrC80r13SsNP"
      },
      "outputs": [],
      "source": [
        "X_train = pd.DataFrame(vectors)"
      ]
    },
    {
      "cell_type": "code",
      "execution_count": null,
      "metadata": {
        "id": "ZaEDIn8uSsNQ"
      },
      "outputs": [],
      "source": [
        "X_test = pd.DataFrame(vectors1)"
      ]
    },
    {
      "cell_type": "code",
      "execution_count": null,
      "metadata": {
        "id": "i0aou7Bv_nVk"
      },
      "outputs": [],
      "source": [
        "N_Clusters = 10000"
      ]
    },
    {
      "cell_type": "code",
      "execution_count": null,
      "metadata": {
        "id": "CVXdqZ97u3GD"
      },
      "outputs": [],
      "source": [
        "labels = cluster(glove_vectors[shared], N_Clusters)"
      ]
    },
    {
      "cell_type": "code",
      "execution_count": null,
      "metadata": {
        "id": "cLu8fMht4hl6"
      },
      "outputs": [],
      "source": [
        "N = len(labels)\n",
        "train_series_list = [None for x in range(N_Clusters)]\n",
        "test_series_list = [None for x in range(N_Clusters)]\n",
        "indices = list()\n",
        "for i in range(N):\n",
        "  label = labels[i] - 1\n",
        "  real_index = tk.word_index[shared[i]]\n",
        "  indices.append(real_index)\n",
        "  if train_series_list[label] is None:\n",
        "    train_series_list[label] = X_train[real_index]\n",
        "    test_series_list[label] = X_test[real_index]\n",
        "  else:\n",
        "    train_series_list[label] = train_series_list[label] + X_train[real_index]\n",
        "    test_series_list[label] = test_series_list[label] + X_test[real_index]\n",
        "  \n",
        "# for i in train_series_list:\n",
        "#   i.apply(lambda x : 1 if x > 0 else 0)\n",
        "# for i in test_series_list:\n",
        "#   i.apply(lambda x : 1 if x > 0 else 0)\n",
        "\n",
        "X_train_result = X_train.drop(indices, axis=1)\n",
        "X_test_result = X_test.drop(indices, axis=1)\n",
        "\n",
        "X_train_result = pd.concat(\n",
        "    [\n",
        "        X_train_result,\n",
        "        pd.concat(train_series_list, axis=1)\n",
        "    ], axis=1\n",
        ")\n",
        "\n",
        "X_test_result = pd.concat(\n",
        "    [\n",
        "        X_test_result,\n",
        "        pd.concat(test_series_list, axis=1)\n",
        "    ], axis=1\n",
        ")"
      ]
    },
    {
      "cell_type": "code",
      "execution_count": null,
      "metadata": {
        "id": "Dlw36sn5apjc"
      },
      "outputs": [],
      "source": [
        "from sklearn.feature_extraction.text import TfidfTransformer\n",
        "from sklearn.pipeline import Pipeline\n",
        "\n",
        "pipe = Pipeline([('tfid', TfidfTransformer())]).fit(X_train_result)\n",
        "X_train_resultt = pipe.transform(X_train_result)\n",
        "X_test_resultt = pipe.transform(X_test_result)"
      ]
    },
    {
      "cell_type": "code",
      "execution_count": null,
      "metadata": {
        "id": "NxNONGOCbWbk"
      },
      "outputs": [],
      "source": [
        "X_train_resultt = pd.DataFrame.sparse.from_spmatrix(X_train_resultt)"
      ]
    },
    {
      "cell_type": "code",
      "execution_count": null,
      "metadata": {
        "id": "z9TpHdw5cBLs"
      },
      "outputs": [],
      "source": [
        "X_test_resultt = pd.DataFrame.sparse.from_spmatrix(X_test_resultt)"
      ]
    },
    {
      "cell_type": "code",
      "execution_count": null,
      "metadata": {
        "id": "Wtb9duK5uZYe"
      },
      "outputs": [],
      "source": [
        "labels = None"
      ]
    },
    {
      "cell_type": "code",
      "execution_count": null,
      "metadata": {
        "colab": {
          "base_uri": "https://localhost:8080/"
        },
        "id": "BAtRkCfptcov",
        "outputId": "f2ce22aa-2ac8-49ee-93ab-850f45209fab"
      },
      "outputs": [
        {
          "data": {
            "text/plain": [
              "(8695, 33975)"
            ]
          },
          "execution_count": 44,
          "metadata": {},
          "output_type": "execute_result"
        }
      ],
      "source": [
        "X_train_result.shape"
      ]
    },
    {
      "cell_type": "code",
      "execution_count": null,
      "metadata": {
        "id": "RgkDaGrttRPo"
      },
      "outputs": [],
      "source": [
        "from tensorflow.keras.layers import Dropout\n",
        "\n",
        "model = keras.Sequential()\n",
        "model.add(keras.layers.Input(shape=X_train_resultt.shape[1:]))\n",
        "model.add(keras.layers.Dense(3, activation='softmax'))\n",
        "\n",
        "opt = keras.optimizers.Adam(learning_rate=0.001)\n",
        "\n",
        "model.compile(loss='categorical_crossentropy', optimizer=opt, metrics=['accuracy'])"
      ]
    },
    {
      "cell_type": "code",
      "execution_count": null,
      "metadata": {
        "colab": {
          "base_uri": "https://localhost:8080/"
        },
        "id": "Pq3R263DtRPp",
        "outputId": "ae371166-a1be-42e5-f7a2-29fd99f63687"
      },
      "outputs": [
        {
          "name": "stdout",
          "output_type": "stream",
          "text": [
            "Epoch 1/10\n",
            "544/544 [==============================] - 5s 8ms/step - loss: 1.0616 - accuracy: 0.4182 - val_loss: 1.0249 - val_accuracy: 0.4540\n",
            "Epoch 2/10\n",
            "544/544 [==============================] - 3s 5ms/step - loss: 0.9956 - accuracy: 0.5265 - val_loss: 0.9624 - val_accuracy: 0.5813\n",
            "Epoch 3/10\n",
            "544/544 [==============================] - 3s 5ms/step - loss: 0.9384 - accuracy: 0.6243 - val_loss: 0.9054 - val_accuracy: 0.6873\n",
            "Epoch 4/10\n",
            "544/544 [==============================] - 8s 15ms/step - loss: 0.8875 - accuracy: 0.6951 - val_loss: 0.8561 - val_accuracy: 0.7434\n",
            "Epoch 5/10\n",
            "544/544 [==============================] - 3s 6ms/step - loss: 0.8420 - accuracy: 0.7384 - val_loss: 0.8107 - val_accuracy: 0.7749\n",
            "Epoch 6/10\n",
            "544/544 [==============================] - 3s 5ms/step - loss: 0.8016 - accuracy: 0.7663 - val_loss: 0.7728 - val_accuracy: 0.7888\n",
            "Epoch 7/10\n",
            "544/544 [==============================] - 3s 5ms/step - loss: 0.7652 - accuracy: 0.7887 - val_loss: 0.7395 - val_accuracy: 0.7926\n",
            "Epoch 8/10\n",
            "544/544 [==============================] - 3s 5ms/step - loss: 0.7325 - accuracy: 0.7987 - val_loss: 0.7098 - val_accuracy: 0.8058\n",
            "Epoch 9/10\n",
            "544/544 [==============================] - 3s 5ms/step - loss: 0.7029 - accuracy: 0.8109 - val_loss: 0.6838 - val_accuracy: 0.8090\n",
            "Epoch 10/10\n",
            "544/544 [==============================] - 4s 7ms/step - loss: 0.6758 - accuracy: 0.8152 - val_loss: 0.6601 - val_accuracy: 0.8190\n"
          ]
        },
        {
          "data": {
            "text/plain": [
              "<keras.callbacks.History at 0x7f96ee6ccf90>"
            ]
          },
          "execution_count": 115,
          "metadata": {},
          "output_type": "execute_result"
        }
      ],
      "source": [
        "model.fit(x=X_train_resultt, y=y_train, epochs=10, batch_size=16,\n",
        "          validation_data=(X_test_resultt,y_test))"
      ]
    },
    {
      "cell_type": "code",
      "execution_count": null,
      "metadata": {
        "colab": {
          "base_uri": "https://localhost:8080/"
        },
        "id": "hIVA7iGecjpL",
        "outputId": "8af3e290-eb5f-439b-8731-b84a1447f5bc"
      },
      "outputs": [
        {
          "name": "stdout",
          "output_type": "stream",
          "text": [
            "Epoch 1/10\n",
            "544/544 [==============================] - 4s 7ms/step - loss: 0.6511 - accuracy: 0.8263 - val_loss: 0.6396 - val_accuracy: 0.8172\n",
            "Epoch 2/10\n",
            "544/544 [==============================] - 3s 5ms/step - loss: 0.6284 - accuracy: 0.8305 - val_loss: 0.6206 - val_accuracy: 0.8165\n",
            "Epoch 3/10\n",
            "544/544 [==============================] - 3s 5ms/step - loss: 0.6075 - accuracy: 0.8407 - val_loss: 0.6041 - val_accuracy: 0.8178\n",
            "Epoch 4/10\n",
            "544/544 [==============================] - 3s 5ms/step - loss: 0.5881 - accuracy: 0.8438 - val_loss: 0.5895 - val_accuracy: 0.8209\n",
            "Epoch 5/10\n",
            "544/544 [==============================] - 3s 5ms/step - loss: 0.5701 - accuracy: 0.8475 - val_loss: 0.5752 - val_accuracy: 0.8216\n",
            "Epoch 6/10\n",
            "544/544 [==============================] - 3s 6ms/step - loss: 0.5533 - accuracy: 0.8539 - val_loss: 0.5633 - val_accuracy: 0.8247\n",
            "Epoch 7/10\n",
            "544/544 [==============================] - 3s 6ms/step - loss: 0.5377 - accuracy: 0.8559 - val_loss: 0.5521 - val_accuracy: 0.8253\n",
            "Epoch 8/10\n",
            "544/544 [==============================] - 3s 5ms/step - loss: 0.5230 - accuracy: 0.8600 - val_loss: 0.5418 - val_accuracy: 0.8260\n",
            "Epoch 9/10\n",
            "544/544 [==============================] - 3s 6ms/step - loss: 0.5091 - accuracy: 0.8611 - val_loss: 0.5324 - val_accuracy: 0.8266\n",
            "Epoch 10/10\n",
            "544/544 [==============================] - 5s 8ms/step - loss: 0.4962 - accuracy: 0.8652 - val_loss: 0.5243 - val_accuracy: 0.8298\n"
          ]
        },
        {
          "data": {
            "text/plain": [
              "<keras.callbacks.History at 0x7f96ee9df8d0>"
            ]
          },
          "execution_count": 116,
          "metadata": {},
          "output_type": "execute_result"
        }
      ],
      "source": [
        "model.fit(x=X_train_resultt, y=y_train, epochs=10, batch_size=16,\n",
        "          validation_data=(X_test_resultt,y_test))"
      ]
    },
    {
      "cell_type": "code",
      "execution_count": null,
      "metadata": {
        "colab": {
          "base_uri": "https://localhost:8080/"
        },
        "id": "3rFOf7RocslT",
        "outputId": "ffb4f06e-b658-4f20-ec10-52d93e80d503"
      },
      "outputs": [
        {
          "name": "stdout",
          "output_type": "stream",
          "text": [
            "Epoch 1/10\n",
            "544/544 [==============================] - 4s 7ms/step - loss: 0.4840 - accuracy: 0.8687 - val_loss: 0.5165 - val_accuracy: 0.8304\n",
            "Epoch 2/10\n",
            "544/544 [==============================] - 3s 6ms/step - loss: 0.4724 - accuracy: 0.8706 - val_loss: 0.5093 - val_accuracy: 0.8335\n",
            "Epoch 3/10\n",
            "544/544 [==============================] - 3s 5ms/step - loss: 0.4615 - accuracy: 0.8744 - val_loss: 0.5031 - val_accuracy: 0.8323\n",
            "Epoch 4/10\n",
            "544/544 [==============================] - 3s 6ms/step - loss: 0.4511 - accuracy: 0.8763 - val_loss: 0.4973 - val_accuracy: 0.8323\n",
            "Epoch 5/10\n",
            "544/544 [==============================] - 3s 5ms/step - loss: 0.4412 - accuracy: 0.8795 - val_loss: 0.4916 - val_accuracy: 0.8335\n",
            "Epoch 6/10\n",
            "544/544 [==============================] - 4s 7ms/step - loss: 0.4318 - accuracy: 0.8804 - val_loss: 0.4867 - val_accuracy: 0.8323\n",
            "Epoch 7/10\n",
            "544/544 [==============================] - 3s 5ms/step - loss: 0.4229 - accuracy: 0.8825 - val_loss: 0.4821 - val_accuracy: 0.8304\n",
            "Epoch 8/10\n",
            "544/544 [==============================] - 3s 5ms/step - loss: 0.4145 - accuracy: 0.8843 - val_loss: 0.4781 - val_accuracy: 0.8310\n",
            "Epoch 9/10\n",
            "544/544 [==============================] - 3s 5ms/step - loss: 0.4063 - accuracy: 0.8867 - val_loss: 0.4743 - val_accuracy: 0.8291\n",
            "Epoch 10/10\n",
            "544/544 [==============================] - 3s 5ms/step - loss: 0.3986 - accuracy: 0.8868 - val_loss: 0.4710 - val_accuracy: 0.8298\n"
          ]
        },
        {
          "data": {
            "text/plain": [
              "<keras.callbacks.History at 0x7f96eea51710>"
            ]
          },
          "execution_count": 117,
          "metadata": {},
          "output_type": "execute_result"
        }
      ],
      "source": [
        "model.fit(x=X_train_resultt, y=y_train, epochs=10, batch_size=16,\n",
        "          validation_data=(X_test_resultt,y_test))"
      ]
    },
    {
      "cell_type": "code",
      "execution_count": null,
      "metadata": {
        "colab": {
          "base_uri": "https://localhost:8080/"
        },
        "id": "HhcZwJWgc4B0",
        "outputId": "156441af-424a-4a30-a1d5-c9b995d16f2b"
      },
      "outputs": [
        {
          "name": "stdout",
          "output_type": "stream",
          "text": [
            "Epoch 1/10\n",
            "544/544 [==============================] - 7s 13ms/step - loss: 0.3912 - accuracy: 0.8897 - val_loss: 0.4678 - val_accuracy: 0.8304\n",
            "Epoch 2/10\n",
            "544/544 [==============================] - 3s 5ms/step - loss: 0.3841 - accuracy: 0.8907 - val_loss: 0.4646 - val_accuracy: 0.8298\n",
            "Epoch 3/10\n",
            "544/544 [==============================] - 3s 5ms/step - loss: 0.3773 - accuracy: 0.8925 - val_loss: 0.4621 - val_accuracy: 0.8272\n",
            "Epoch 4/10\n",
            "544/544 [==============================] - 3s 5ms/step - loss: 0.3707 - accuracy: 0.8944 - val_loss: 0.4597 - val_accuracy: 0.8272\n",
            "Epoch 5/10\n",
            "544/544 [==============================] - 3s 5ms/step - loss: 0.3644 - accuracy: 0.8947 - val_loss: 0.4576 - val_accuracy: 0.8272\n",
            "Epoch 6/10\n",
            "544/544 [==============================] - 3s 5ms/step - loss: 0.3585 - accuracy: 0.8956 - val_loss: 0.4557 - val_accuracy: 0.8272\n",
            "Epoch 7/10\n",
            "544/544 [==============================] - 4s 7ms/step - loss: 0.3526 - accuracy: 0.8981 - val_loss: 0.4542 - val_accuracy: 0.8266\n",
            "Epoch 8/10\n",
            "544/544 [==============================] - 3s 6ms/step - loss: 0.3471 - accuracy: 0.8998 - val_loss: 0.4521 - val_accuracy: 0.8260\n",
            "Epoch 9/10\n",
            "544/544 [==============================] - 3s 5ms/step - loss: 0.3417 - accuracy: 0.9003 - val_loss: 0.4509 - val_accuracy: 0.8260\n",
            "Epoch 10/10\n",
            "544/544 [==============================] - 3s 5ms/step - loss: 0.3365 - accuracy: 0.9012 - val_loss: 0.4500 - val_accuracy: 0.8253\n"
          ]
        },
        {
          "data": {
            "text/plain": [
              "<keras.callbacks.History at 0x7f96eeabc110>"
            ]
          },
          "execution_count": 118,
          "metadata": {},
          "output_type": "execute_result"
        }
      ],
      "source": [
        "model.fit(x=X_train_resultt, y=y_train, epochs=10, batch_size=16,\n",
        "          validation_data=(X_test_resultt,y_test))"
      ]
    },
    {
      "cell_type": "markdown",
      "metadata": {
        "id": "r9pJro5cdWqM"
      },
      "source": [
        "#<font color='#77C66E'>**Keeping previous data**</font>\n",
        "---\n",
        "We would explore what happens if we keep the previous data that are related to words, and add the data of clusters.  \n",
        "The result is not satisfactory. But this method has been successful in some cases, I will explain this further in the conclusion."
      ]
    },
    {
      "cell_type": "code",
      "execution_count": null,
      "metadata": {
        "id": "8EEVFr7bmVZG"
      },
      "outputs": [],
      "source": [
        "N_Clusters = 12000"
      ]
    },
    {
      "cell_type": "code",
      "execution_count": null,
      "metadata": {
        "id": "l-uGOfYzmVZe"
      },
      "outputs": [],
      "source": [
        "labels = cluster(glove_vectors[shared], N_Clusters)"
      ]
    },
    {
      "cell_type": "code",
      "execution_count": null,
      "metadata": {
        "id": "15lvZ0OMmVZe"
      },
      "outputs": [],
      "source": [
        "N = len(labels)\n",
        "train_series_list = [None for x in range(N_Clusters)]\n",
        "test_series_list = [None for x in range(N_Clusters)]\n",
        "indices = list()\n",
        "for i in range(N):\n",
        "  label = labels[i] - 1\n",
        "  real_index = tk.word_index[shared[i]]\n",
        "  indices.append(real_index)\n",
        "  if train_series_list[label] is None:\n",
        "    train_series_list[label] = X_train[real_index]\n",
        "    test_series_list[label] = X_test[real_index]\n",
        "  else:\n",
        "    train_series_list[label] = train_series_list[label] + X_train[real_index]\n",
        "    test_series_list[label] = test_series_list[label] + X_test[real_index]\n",
        "  \n",
        "# for i in train_series_list:\n",
        "#   i.apply(lambda x : 1 if x > 0 else 0)\n",
        "# for i in test_series_list:\n",
        "#   i.apply(lambda x : 1 if x > 0 else 0)\n",
        "\n",
        "X_train_result = X_train.drop(indices, axis=1)\n",
        "X_test_result = X_test.drop(indices, axis=1)\n",
        "\n",
        "X_train_result = pd.concat(\n",
        "    [\n",
        "        X_train_result,\n",
        "        pd.concat(train_series_list, axis=1)\n",
        "    ], axis=1\n",
        ")\n",
        "\n",
        "X_test_result = pd.concat(\n",
        "    [\n",
        "        X_test_result,\n",
        "        pd.concat(test_series_list, axis=1)\n",
        "    ], axis=1\n",
        ")"
      ]
    },
    {
      "cell_type": "code",
      "execution_count": null,
      "metadata": {
        "id": "JcyToHZimVZf"
      },
      "outputs": [],
      "source": [
        "from sklearn.feature_extraction.text import TfidfTransformer\n",
        "from sklearn.pipeline import Pipeline\n",
        "\n",
        "pipe = Pipeline([('tfid', TfidfTransformer())]).fit(X_train_result)\n",
        "X_train_resultt = pipe.transform(X_train_result)\n",
        "X_test_resultt = pipe.transform(X_test_result)"
      ]
    },
    {
      "cell_type": "code",
      "execution_count": null,
      "metadata": {
        "id": "IwLPy5ExmVZf"
      },
      "outputs": [],
      "source": [
        "X_train_resultt = pd.DataFrame.sparse.from_spmatrix(X_train_resultt)\n",
        "X_test_resultt = pd.DataFrame.sparse.from_spmatrix(X_test_resultt)"
      ]
    },
    {
      "cell_type": "code",
      "execution_count": null,
      "metadata": {
        "id": "AHoUY-EKmVZg"
      },
      "outputs": [],
      "source": [
        "labels = None"
      ]
    },
    {
      "cell_type": "code",
      "execution_count": null,
      "metadata": {
        "colab": {
          "base_uri": "https://localhost:8080/"
        },
        "id": "bATDnEzemVZg",
        "outputId": "2ed71bbd-a3f3-49ed-bb21-bdfa61a57bf0"
      },
      "outputs": [
        {
          "data": {
            "text/plain": [
              "(8695, 17115)"
            ]
          },
          "execution_count": 34,
          "metadata": {},
          "output_type": "execute_result"
        }
      ],
      "source": [
        "X_train_result.shape"
      ]
    },
    {
      "cell_type": "code",
      "execution_count": null,
      "metadata": {
        "id": "qYz4BiFamVZg"
      },
      "outputs": [],
      "source": [
        "from tensorflow.keras.layers import Dropout\n",
        "\n",
        "model = keras.Sequential()\n",
        "model.add(keras.layers.Input(shape=X_train_resultt.shape[1:]))\n",
        "model.add(keras.layers.Dense(3, activation='softmax'))\n",
        "\n",
        "opt = keras.optimizers.Adam(learning_rate=0.001)\n",
        "\n",
        "model.compile(loss='categorical_crossentropy', optimizer=opt, metrics=['accuracy'])"
      ]
    },
    {
      "cell_type": "code",
      "execution_count": null,
      "metadata": {
        "colab": {
          "background_save": true,
          "base_uri": "https://localhost:8080/"
        },
        "id": "F_gMLVwYmVZh",
        "outputId": "1d0b3f98-50cd-4d26-b564-f53d3de02e55"
      },
      "outputs": [
        {
          "name": "stdout",
          "output_type": "stream",
          "text": [
            "Epoch 1/10\n",
            "544/544 [==============================] - 5s 7ms/step - loss: 1.0592 - accuracy: 0.4345 - val_loss: 1.0318 - val_accuracy: 0.4048\n",
            "Epoch 2/10\n",
            "544/544 [==============================] - 4s 7ms/step - loss: 0.9841 - accuracy: 0.5422 - val_loss: 0.9753 - val_accuracy: 0.4855\n",
            "Epoch 3/10\n",
            "544/544 [==============================] - 4s 7ms/step - loss: 0.9195 - accuracy: 0.6427 - val_loss: 0.9236 - val_accuracy: 0.5927\n",
            "Epoch 4/10\n",
            "544/544 [==============================] - 3s 5ms/step - loss: 0.8623 - accuracy: 0.7202 - val_loss: 0.8787 - val_accuracy: 0.6551\n",
            "Epoch 5/10\n",
            "544/544 [==============================] - 3s 6ms/step - loss: 0.8118 - accuracy: 0.7617 - val_loss: 0.8380 - val_accuracy: 0.6923\n",
            "Epoch 6/10\n",
            "544/544 [==============================] - 3s 5ms/step - loss: 0.7669 - accuracy: 0.7925 - val_loss: 0.8030 - val_accuracy: 0.7150\n",
            "Epoch 7/10\n",
            "544/544 [==============================] - 3s 6ms/step - loss: 0.7269 - accuracy: 0.8123 - val_loss: 0.7718 - val_accuracy: 0.7320\n",
            "Epoch 8/10\n",
            "544/544 [==============================] - 3s 6ms/step - loss: 0.6909 - accuracy: 0.8263 - val_loss: 0.7452 - val_accuracy: 0.7390\n",
            "Epoch 9/10\n",
            "544/544 [==============================] - 3s 5ms/step - loss: 0.6585 - accuracy: 0.8373 - val_loss: 0.7221 - val_accuracy: 0.7427\n",
            "Epoch 10/10\n",
            "544/544 [==============================] - 3s 5ms/step - loss: 0.6291 - accuracy: 0.8476 - val_loss: 0.6996 - val_accuracy: 0.7528\n"
          ]
        },
        {
          "data": {
            "text/plain": [
              "<keras.callbacks.History at 0x7efc00370a10>"
            ]
          },
          "execution_count": null,
          "metadata": {},
          "output_type": "execute_result"
        }
      ],
      "source": [
        "model.fit(x=X_train_resultt, y=y_train, epochs=10, batch_size=16,\n",
        "          validation_data=(X_test_resultt,y_test))"
      ]
    },
    {
      "cell_type": "markdown",
      "source": [
        "#<font color='#77C66E'>**Lowering the # of clusters**</font>\n",
        "---\n",
        "We would explore what happens if we keep we lower the # of clusters.  \n",
        "Again, the result is not satisfactory.  \n",
        "Also, increasing the # of clusters is not necessarily helpful either."
      ],
      "metadata": {
        "id": "Teuq4NSUsGd2"
      }
    },
    {
      "cell_type": "code",
      "execution_count": null,
      "metadata": {
        "id": "_IefszTnsMoa"
      },
      "outputs": [],
      "source": [
        "N_Clusters = 2000"
      ]
    },
    {
      "cell_type": "code",
      "execution_count": null,
      "metadata": {
        "id": "UB0oXobNsMob"
      },
      "outputs": [],
      "source": [
        "labels = cluster(glove_vectors[shared], N_Clusters)"
      ]
    },
    {
      "cell_type": "code",
      "execution_count": null,
      "metadata": {
        "id": "0P1obVYxsMoc"
      },
      "outputs": [],
      "source": [
        "N = len(labels)\n",
        "train_series_list = [None for x in range(N_Clusters)]\n",
        "test_series_list = [None for x in range(N_Clusters)]\n",
        "indices = list()\n",
        "for i in range(N):\n",
        "  label = labels[i] - 1\n",
        "  real_index = tk.word_index[shared[i]]\n",
        "  indices.append(real_index)\n",
        "  if train_series_list[label] is None:\n",
        "    train_series_list[label] = X_train[real_index]\n",
        "    test_series_list[label] = X_test[real_index]\n",
        "  else:\n",
        "    train_series_list[label] = train_series_list[label] + X_train[real_index]\n",
        "    test_series_list[label] = test_series_list[label] + X_test[real_index]\n",
        "  \n",
        "# for i in train_series_list:\n",
        "#   i.apply(lambda x : 1 if x > 0 else 0)\n",
        "# for i in test_series_list:\n",
        "#   i.apply(lambda x : 1 if x > 0 else 0)\n",
        "\n",
        "X_train_result = X_train.drop(indices, axis=1)\n",
        "X_test_result = X_test.drop(indices, axis=1)\n",
        "\n",
        "X_train_result = pd.concat(\n",
        "    [\n",
        "        X_train_result,\n",
        "        pd.concat(train_series_list, axis=1)\n",
        "    ], axis=1\n",
        ")\n",
        "\n",
        "X_test_result = pd.concat(\n",
        "    [\n",
        "        X_test_result,\n",
        "        pd.concat(test_series_list, axis=1)\n",
        "    ], axis=1\n",
        ")"
      ]
    },
    {
      "cell_type": "code",
      "execution_count": null,
      "metadata": {
        "id": "Jk5SlFsFsMod"
      },
      "outputs": [],
      "source": [
        "from sklearn.feature_extraction.text import TfidfTransformer\n",
        "from sklearn.pipeline import Pipeline\n",
        "\n",
        "pipe = Pipeline([('tfid', TfidfTransformer())]).fit(X_train_result)\n",
        "X_train_resultt = pipe.transform(X_train_result)\n",
        "X_test_resultt = pipe.transform(X_test_result)"
      ]
    },
    {
      "cell_type": "code",
      "execution_count": null,
      "metadata": {
        "id": "OeJ32JAcsMoe"
      },
      "outputs": [],
      "source": [
        "X_train_resultt = pd.DataFrame.sparse.from_spmatrix(X_train_resultt)\n",
        "X_test_resultt = pd.DataFrame.sparse.from_spmatrix(X_test_resultt)"
      ]
    },
    {
      "cell_type": "code",
      "execution_count": null,
      "metadata": {
        "id": "TwpG9s6FsMoe"
      },
      "outputs": [],
      "source": [
        "labels = None"
      ]
    },
    {
      "cell_type": "code",
      "execution_count": null,
      "metadata": {
        "colab": {
          "base_uri": "https://localhost:8080/"
        },
        "outputId": "5ae3d75c-51a8-479c-afb4-399e118db223",
        "id": "WanVtqc1sMof"
      },
      "outputs": [
        {
          "output_type": "execute_result",
          "data": {
            "text/plain": [
              "(8695, 7115)"
            ]
          },
          "metadata": {},
          "execution_count": 126
        }
      ],
      "source": [
        "X_train_result.shape"
      ]
    },
    {
      "cell_type": "code",
      "execution_count": null,
      "metadata": {
        "id": "G7FJxSgWsMog"
      },
      "outputs": [],
      "source": [
        "from tensorflow.keras.layers import Dropout\n",
        "\n",
        "model = keras.Sequential()\n",
        "model.add(keras.layers.Input(shape=X_train_resultt.shape[1:]))\n",
        "model.add(keras.layers.Dense(3, activation='softmax'))\n",
        "\n",
        "opt = keras.optimizers.Adam(learning_rate=0.001)\n",
        "\n",
        "model.compile(loss='categorical_crossentropy', optimizer=opt, metrics=['accuracy'])"
      ]
    },
    {
      "cell_type": "code",
      "source": [
        "model.fit(x=X_train_resultt, y=y_train, epochs=10, batch_size=16,\n",
        "          validation_data=(X_test_resultt,y_test))"
      ],
      "metadata": {
        "colab": {
          "base_uri": "https://localhost:8080/"
        },
        "id": "GTijh-IosQA8",
        "outputId": "dfc6e1d1-de77-40fb-db4b-69b85d7b930a"
      },
      "execution_count": null,
      "outputs": [
        {
          "output_type": "stream",
          "name": "stdout",
          "text": [
            "Epoch 1/10\n",
            "544/544 [==============================] - 3s 4ms/step - loss: 1.0746 - accuracy: 0.4136 - val_loss: 1.0807 - val_accuracy: 0.3884\n",
            "Epoch 2/10\n",
            "544/544 [==============================] - 2s 3ms/step - loss: 1.0443 - accuracy: 0.4362 - val_loss: 1.0632 - val_accuracy: 0.3979\n",
            "Epoch 3/10\n",
            "544/544 [==============================] - 2s 3ms/step - loss: 1.0183 - accuracy: 0.4758 - val_loss: 1.0478 - val_accuracy: 0.4187\n",
            "Epoch 4/10\n",
            "544/544 [==============================] - 2s 3ms/step - loss: 0.9949 - accuracy: 0.5323 - val_loss: 1.0329 - val_accuracy: 0.4224\n",
            "Epoch 5/10\n",
            "544/544 [==============================] - 2s 3ms/step - loss: 0.9731 - accuracy: 0.5603 - val_loss: 1.0182 - val_accuracy: 0.4691\n",
            "Epoch 6/10\n",
            "544/544 [==============================] - 2s 3ms/step - loss: 0.9533 - accuracy: 0.5991 - val_loss: 1.0058 - val_accuracy: 0.4811\n",
            "Epoch 7/10\n",
            "544/544 [==============================] - 2s 3ms/step - loss: 0.9348 - accuracy: 0.6168 - val_loss: 0.9951 - val_accuracy: 0.5063\n",
            "Epoch 8/10\n",
            "544/544 [==============================] - 2s 3ms/step - loss: 0.9178 - accuracy: 0.6293 - val_loss: 0.9827 - val_accuracy: 0.5309\n",
            "Epoch 9/10\n",
            "544/544 [==============================] - 2s 3ms/step - loss: 0.9017 - accuracy: 0.6454 - val_loss: 0.9722 - val_accuracy: 0.5347\n",
            "Epoch 10/10\n",
            "544/544 [==============================] - 2s 3ms/step - loss: 0.8868 - accuracy: 0.6554 - val_loss: 0.9634 - val_accuracy: 0.5359\n"
          ]
        },
        {
          "output_type": "execute_result",
          "data": {
            "text/plain": [
              "<keras.callbacks.History at 0x7f4ea638a950>"
            ]
          },
          "metadata": {},
          "execution_count": 128
        }
      ]
    },
    {
      "cell_type": "code",
      "source": [
        "model.fit(x=X_train_resultt, y=y_train, epochs=10, batch_size=16,\n",
        "          validation_data=(X_test_resultt,y_test))"
      ],
      "metadata": {
        "colab": {
          "base_uri": "https://localhost:8080/"
        },
        "id": "PyWqFQFC0a62",
        "outputId": "523ae376-90d9-4b71-9d27-9404f94fcec8"
      },
      "execution_count": null,
      "outputs": [
        {
          "output_type": "stream",
          "name": "stdout",
          "text": [
            "Epoch 1/10\n",
            "544/544 [==============================] - 3s 6ms/step - loss: 0.8727 - accuracy: 0.6597 - val_loss: 0.9528 - val_accuracy: 0.5567\n",
            "Epoch 2/10\n",
            "544/544 [==============================] - 3s 5ms/step - loss: 0.8595 - accuracy: 0.6690 - val_loss: 0.9437 - val_accuracy: 0.5719\n",
            "Epoch 3/10\n",
            "544/544 [==============================] - 2s 4ms/step - loss: 0.8470 - accuracy: 0.6737 - val_loss: 0.9358 - val_accuracy: 0.5889\n",
            "Epoch 4/10\n",
            "544/544 [==============================] - 2s 4ms/step - loss: 0.8352 - accuracy: 0.6777 - val_loss: 0.9282 - val_accuracy: 0.5895\n",
            "Epoch 5/10\n",
            "544/544 [==============================] - 2s 3ms/step - loss: 0.8238 - accuracy: 0.6835 - val_loss: 0.9222 - val_accuracy: 0.5851\n",
            "Epoch 6/10\n",
            "544/544 [==============================] - 2s 3ms/step - loss: 0.8132 - accuracy: 0.6841 - val_loss: 0.9125 - val_accuracy: 0.6110\n",
            "Epoch 7/10\n",
            "544/544 [==============================] - 2s 3ms/step - loss: 0.8032 - accuracy: 0.6924 - val_loss: 0.9062 - val_accuracy: 0.6129\n",
            "Epoch 8/10\n",
            "544/544 [==============================] - 2s 3ms/step - loss: 0.7935 - accuracy: 0.6942 - val_loss: 0.8998 - val_accuracy: 0.6166\n",
            "Epoch 9/10\n",
            "544/544 [==============================] - 2s 3ms/step - loss: 0.7843 - accuracy: 0.6980 - val_loss: 0.8944 - val_accuracy: 0.6192\n",
            "Epoch 10/10\n",
            "544/544 [==============================] - 2s 3ms/step - loss: 0.7755 - accuracy: 0.6986 - val_loss: 0.8889 - val_accuracy: 0.6223\n"
          ]
        },
        {
          "output_type": "execute_result",
          "data": {
            "text/plain": [
              "<keras.callbacks.History at 0x7f4ec6332a90>"
            ]
          },
          "metadata": {},
          "execution_count": 129
        }
      ]
    },
    {
      "cell_type": "code",
      "source": [
        "model.fit(x=X_train_resultt, y=y_train, epochs=10, batch_size=16,\n",
        "          validation_data=(X_test_resultt,y_test))"
      ],
      "metadata": {
        "colab": {
          "base_uri": "https://localhost:8080/"
        },
        "id": "-8fTKN500blQ",
        "outputId": "24b60d4f-ad51-4b87-b747-d809b7770354"
      },
      "execution_count": null,
      "outputs": [
        {
          "output_type": "stream",
          "name": "stdout",
          "text": [
            "Epoch 1/10\n",
            "544/544 [==============================] - 2s 4ms/step - loss: 0.7670 - accuracy: 0.7019 - val_loss: 0.8833 - val_accuracy: 0.6236\n",
            "Epoch 2/10\n",
            "544/544 [==============================] - 2s 3ms/step - loss: 0.7588 - accuracy: 0.7034 - val_loss: 0.8796 - val_accuracy: 0.6166\n",
            "Epoch 3/10\n",
            "544/544 [==============================] - 2s 3ms/step - loss: 0.7511 - accuracy: 0.7053 - val_loss: 0.8722 - val_accuracy: 0.6299\n",
            "Epoch 4/10\n",
            "544/544 [==============================] - 2s 3ms/step - loss: 0.7438 - accuracy: 0.7088 - val_loss: 0.8690 - val_accuracy: 0.6299\n",
            "Epoch 5/10\n",
            "544/544 [==============================] - 1s 3ms/step - loss: 0.7367 - accuracy: 0.7102 - val_loss: 0.8649 - val_accuracy: 0.6267\n",
            "Epoch 6/10\n",
            "544/544 [==============================] - 2s 3ms/step - loss: 0.7299 - accuracy: 0.7113 - val_loss: 0.8604 - val_accuracy: 0.6318\n",
            "Epoch 7/10\n",
            "544/544 [==============================] - 2s 3ms/step - loss: 0.7233 - accuracy: 0.7116 - val_loss: 0.8562 - val_accuracy: 0.6318\n",
            "Epoch 8/10\n",
            "544/544 [==============================] - 1s 3ms/step - loss: 0.7170 - accuracy: 0.7127 - val_loss: 0.8527 - val_accuracy: 0.6356\n",
            "Epoch 9/10\n",
            "544/544 [==============================] - 2s 3ms/step - loss: 0.7109 - accuracy: 0.7135 - val_loss: 0.8482 - val_accuracy: 0.6400\n",
            "Epoch 10/10\n",
            "544/544 [==============================] - 2s 3ms/step - loss: 0.7051 - accuracy: 0.7141 - val_loss: 0.8442 - val_accuracy: 0.6406\n"
          ]
        },
        {
          "output_type": "execute_result",
          "data": {
            "text/plain": [
              "<keras.callbacks.History at 0x7f4ec54684d0>"
            ]
          },
          "metadata": {},
          "execution_count": 130
        }
      ]
    },
    {
      "cell_type": "code",
      "source": [
        "model.fit(x=X_train_resultt, y=y_train, epochs=20, batch_size=16,\n",
        "          validation_data=(X_test_resultt,y_test))"
      ],
      "metadata": {
        "colab": {
          "base_uri": "https://localhost:8080/"
        },
        "id": "MyejyB6g0tXA",
        "outputId": "137a57c2-668b-4b99-a748-a7e4dbb7932e"
      },
      "execution_count": null,
      "outputs": [
        {
          "output_type": "stream",
          "name": "stdout",
          "text": [
            "Epoch 1/20\n",
            "544/544 [==============================] - 4s 8ms/step - loss: 0.6994 - accuracy: 0.7162 - val_loss: 0.8427 - val_accuracy: 0.6393\n",
            "Epoch 2/20\n",
            "544/544 [==============================] - 3s 5ms/step - loss: 0.6940 - accuracy: 0.7166 - val_loss: 0.8378 - val_accuracy: 0.6393\n",
            "Epoch 3/20\n",
            "544/544 [==============================] - 2s 4ms/step - loss: 0.6888 - accuracy: 0.7187 - val_loss: 0.8356 - val_accuracy: 0.6406\n",
            "Epoch 4/20\n",
            "544/544 [==============================] - 2s 3ms/step - loss: 0.6837 - accuracy: 0.7187 - val_loss: 0.8323 - val_accuracy: 0.6425\n",
            "Epoch 5/20\n",
            "544/544 [==============================] - 2s 3ms/step - loss: 0.6788 - accuracy: 0.7204 - val_loss: 0.8292 - val_accuracy: 0.6456\n",
            "Epoch 6/20\n",
            "544/544 [==============================] - 2s 3ms/step - loss: 0.6741 - accuracy: 0.7212 - val_loss: 0.8271 - val_accuracy: 0.6425\n",
            "Epoch 7/20\n",
            "544/544 [==============================] - 2s 3ms/step - loss: 0.6695 - accuracy: 0.7225 - val_loss: 0.8238 - val_accuracy: 0.6501\n",
            "Epoch 8/20\n",
            "544/544 [==============================] - 2s 3ms/step - loss: 0.6652 - accuracy: 0.7218 - val_loss: 0.8213 - val_accuracy: 0.6475\n",
            "Epoch 9/20\n",
            "544/544 [==============================] - 2s 3ms/step - loss: 0.6609 - accuracy: 0.7229 - val_loss: 0.8184 - val_accuracy: 0.6520\n",
            "Epoch 10/20\n",
            "544/544 [==============================] - 2s 3ms/step - loss: 0.6568 - accuracy: 0.7240 - val_loss: 0.8178 - val_accuracy: 0.6469\n",
            "Epoch 11/20\n",
            "544/544 [==============================] - 2s 3ms/step - loss: 0.6528 - accuracy: 0.7236 - val_loss: 0.8143 - val_accuracy: 0.6545\n",
            "Epoch 12/20\n",
            "544/544 [==============================] - 2s 3ms/step - loss: 0.6490 - accuracy: 0.7244 - val_loss: 0.8129 - val_accuracy: 0.6513\n",
            "Epoch 13/20\n",
            "544/544 [==============================] - 2s 3ms/step - loss: 0.6452 - accuracy: 0.7236 - val_loss: 0.8118 - val_accuracy: 0.6482\n",
            "Epoch 14/20\n",
            "544/544 [==============================] - 2s 3ms/step - loss: 0.6416 - accuracy: 0.7254 - val_loss: 0.8105 - val_accuracy: 0.6450\n",
            "Epoch 15/20\n",
            "544/544 [==============================] - 2s 3ms/step - loss: 0.6382 - accuracy: 0.7257 - val_loss: 0.8080 - val_accuracy: 0.6488\n",
            "Epoch 16/20\n",
            "544/544 [==============================] - 2s 3ms/step - loss: 0.6347 - accuracy: 0.7255 - val_loss: 0.8059 - val_accuracy: 0.6526\n",
            "Epoch 17/20\n",
            "544/544 [==============================] - 2s 3ms/step - loss: 0.6314 - accuracy: 0.7274 - val_loss: 0.8042 - val_accuracy: 0.6526\n",
            "Epoch 18/20\n",
            "544/544 [==============================] - 2s 3ms/step - loss: 0.6282 - accuracy: 0.7263 - val_loss: 0.8018 - val_accuracy: 0.6570\n",
            "Epoch 19/20\n",
            "544/544 [==============================] - 2s 3ms/step - loss: 0.6252 - accuracy: 0.7267 - val_loss: 0.8002 - val_accuracy: 0.6570\n",
            "Epoch 20/20\n",
            "544/544 [==============================] - 2s 3ms/step - loss: 0.6221 - accuracy: 0.7269 - val_loss: 0.8000 - val_accuracy: 0.6520\n"
          ]
        },
        {
          "output_type": "execute_result",
          "data": {
            "text/plain": [
              "<keras.callbacks.History at 0x7f4ec6602110>"
            ]
          },
          "metadata": {},
          "execution_count": 131
        }
      ]
    },
    {
      "cell_type": "code",
      "source": [
        "model.fit(x=X_train_resultt, y=y_train, epochs=50, batch_size=16,\n",
        "          validation_data=(X_test_resultt,y_test))"
      ],
      "metadata": {
        "colab": {
          "base_uri": "https://localhost:8080/"
        },
        "id": "UJkFZCKn06Bd",
        "outputId": "07ad933b-4083-47fe-9b31-1ad591b1b384"
      },
      "execution_count": null,
      "outputs": [
        {
          "output_type": "stream",
          "name": "stdout",
          "text": [
            "Epoch 1/50\n",
            "544/544 [==============================] - 3s 5ms/step - loss: 0.6193 - accuracy: 0.7278 - val_loss: 0.7990 - val_accuracy: 0.6532\n",
            "Epoch 2/50\n",
            "544/544 [==============================] - 2s 3ms/step - loss: 0.6164 - accuracy: 0.7272 - val_loss: 0.7973 - val_accuracy: 0.6545\n",
            "Epoch 3/50\n",
            "544/544 [==============================] - 2s 3ms/step - loss: 0.6136 - accuracy: 0.7280 - val_loss: 0.7968 - val_accuracy: 0.6520\n",
            "Epoch 4/50\n",
            "544/544 [==============================] - 2s 3ms/step - loss: 0.6110 - accuracy: 0.7306 - val_loss: 0.7938 - val_accuracy: 0.6608\n",
            "Epoch 5/50\n",
            "544/544 [==============================] - 2s 3ms/step - loss: 0.6083 - accuracy: 0.7289 - val_loss: 0.7922 - val_accuracy: 0.6602\n",
            "Epoch 6/50\n",
            "544/544 [==============================] - 2s 3ms/step - loss: 0.6058 - accuracy: 0.7286 - val_loss: 0.7932 - val_accuracy: 0.6513\n",
            "Epoch 7/50\n",
            "544/544 [==============================] - 2s 3ms/step - loss: 0.6035 - accuracy: 0.7309 - val_loss: 0.7911 - val_accuracy: 0.6564\n",
            "Epoch 8/50\n",
            "544/544 [==============================] - 2s 3ms/step - loss: 0.6010 - accuracy: 0.7306 - val_loss: 0.7912 - val_accuracy: 0.6576\n",
            "Epoch 9/50\n",
            "544/544 [==============================] - 2s 3ms/step - loss: 0.5987 - accuracy: 0.7324 - val_loss: 0.7892 - val_accuracy: 0.6608\n",
            "Epoch 10/50\n",
            "544/544 [==============================] - 2s 3ms/step - loss: 0.5965 - accuracy: 0.7324 - val_loss: 0.7883 - val_accuracy: 0.6602\n",
            "Epoch 11/50\n",
            "544/544 [==============================] - 2s 3ms/step - loss: 0.5942 - accuracy: 0.7331 - val_loss: 0.7858 - val_accuracy: 0.6608\n",
            "Epoch 12/50\n",
            "544/544 [==============================] - 2s 4ms/step - loss: 0.5922 - accuracy: 0.7325 - val_loss: 0.7860 - val_accuracy: 0.6576\n",
            "Epoch 13/50\n",
            "544/544 [==============================] - 2s 3ms/step - loss: 0.5901 - accuracy: 0.7317 - val_loss: 0.7863 - val_accuracy: 0.6583\n",
            "Epoch 14/50\n",
            "544/544 [==============================] - 2s 3ms/step - loss: 0.5881 - accuracy: 0.7338 - val_loss: 0.7851 - val_accuracy: 0.6583\n",
            "Epoch 15/50\n",
            "544/544 [==============================] - 2s 3ms/step - loss: 0.5861 - accuracy: 0.7323 - val_loss: 0.7849 - val_accuracy: 0.6583\n",
            "Epoch 16/50\n",
            "544/544 [==============================] - 2s 3ms/step - loss: 0.5842 - accuracy: 0.7323 - val_loss: 0.7842 - val_accuracy: 0.6576\n",
            "Epoch 17/50\n",
            "544/544 [==============================] - 2s 3ms/step - loss: 0.5823 - accuracy: 0.7355 - val_loss: 0.7824 - val_accuracy: 0.6526\n",
            "Epoch 18/50\n",
            "544/544 [==============================] - 2s 3ms/step - loss: 0.5805 - accuracy: 0.7334 - val_loss: 0.7818 - val_accuracy: 0.6570\n",
            "Epoch 19/50\n",
            "544/544 [==============================] - 2s 3ms/step - loss: 0.5787 - accuracy: 0.7327 - val_loss: 0.7826 - val_accuracy: 0.6583\n",
            "Epoch 20/50\n",
            "544/544 [==============================] - 2s 3ms/step - loss: 0.5769 - accuracy: 0.7329 - val_loss: 0.7803 - val_accuracy: 0.6526\n",
            "Epoch 21/50\n",
            "544/544 [==============================] - 2s 3ms/step - loss: 0.5753 - accuracy: 0.7335 - val_loss: 0.7816 - val_accuracy: 0.6589\n",
            "Epoch 22/50\n",
            "544/544 [==============================] - 2s 3ms/step - loss: 0.5737 - accuracy: 0.7341 - val_loss: 0.7819 - val_accuracy: 0.6564\n",
            "Epoch 23/50\n",
            "544/544 [==============================] - 2s 3ms/step - loss: 0.5721 - accuracy: 0.7336 - val_loss: 0.7799 - val_accuracy: 0.6551\n",
            "Epoch 24/50\n",
            "544/544 [==============================] - 2s 3ms/step - loss: 0.5705 - accuracy: 0.7344 - val_loss: 0.7806 - val_accuracy: 0.6576\n",
            "Epoch 25/50\n",
            "544/544 [==============================] - 2s 3ms/step - loss: 0.5690 - accuracy: 0.7340 - val_loss: 0.7788 - val_accuracy: 0.6494\n",
            "Epoch 26/50\n",
            "544/544 [==============================] - 2s 3ms/step - loss: 0.5676 - accuracy: 0.7334 - val_loss: 0.7799 - val_accuracy: 0.6513\n",
            "Epoch 27/50\n",
            "544/544 [==============================] - 2s 3ms/step - loss: 0.5661 - accuracy: 0.7362 - val_loss: 0.7777 - val_accuracy: 0.6513\n",
            "Epoch 28/50\n",
            "544/544 [==============================] - 2s 3ms/step - loss: 0.5648 - accuracy: 0.7351 - val_loss: 0.7785 - val_accuracy: 0.6507\n",
            "Epoch 29/50\n",
            "544/544 [==============================] - 2s 3ms/step - loss: 0.5633 - accuracy: 0.7358 - val_loss: 0.7784 - val_accuracy: 0.6513\n",
            "Epoch 30/50\n",
            "544/544 [==============================] - 2s 3ms/step - loss: 0.5620 - accuracy: 0.7354 - val_loss: 0.7780 - val_accuracy: 0.6494\n",
            "Epoch 31/50\n",
            "544/544 [==============================] - 2s 4ms/step - loss: 0.5607 - accuracy: 0.7356 - val_loss: 0.7792 - val_accuracy: 0.6545\n",
            "Epoch 32/50\n",
            "544/544 [==============================] - 3s 6ms/step - loss: 0.5595 - accuracy: 0.7354 - val_loss: 0.7776 - val_accuracy: 0.6520\n",
            "Epoch 33/50\n",
            "544/544 [==============================] - 3s 5ms/step - loss: 0.5581 - accuracy: 0.7358 - val_loss: 0.7785 - val_accuracy: 0.6520\n",
            "Epoch 34/50\n",
            "544/544 [==============================] - 2s 3ms/step - loss: 0.5570 - accuracy: 0.7363 - val_loss: 0.7774 - val_accuracy: 0.6513\n",
            "Epoch 35/50\n",
            "544/544 [==============================] - 2s 3ms/step - loss: 0.5558 - accuracy: 0.7362 - val_loss: 0.7769 - val_accuracy: 0.6507\n",
            "Epoch 36/50\n",
            "544/544 [==============================] - 2s 4ms/step - loss: 0.5546 - accuracy: 0.7355 - val_loss: 0.7775 - val_accuracy: 0.6520\n",
            "Epoch 37/50\n",
            "544/544 [==============================] - 2s 5ms/step - loss: 0.5535 - accuracy: 0.7361 - val_loss: 0.7774 - val_accuracy: 0.6520\n",
            "Epoch 38/50\n",
            "544/544 [==============================] - 3s 6ms/step - loss: 0.5523 - accuracy: 0.7373 - val_loss: 0.7763 - val_accuracy: 0.6526\n",
            "Epoch 39/50\n",
            "544/544 [==============================] - 3s 6ms/step - loss: 0.5513 - accuracy: 0.7367 - val_loss: 0.7767 - val_accuracy: 0.6532\n",
            "Epoch 40/50\n",
            "544/544 [==============================] - 2s 4ms/step - loss: 0.5503 - accuracy: 0.7365 - val_loss: 0.7785 - val_accuracy: 0.6532\n",
            "Epoch 41/50\n",
            "544/544 [==============================] - 2s 3ms/step - loss: 0.5492 - accuracy: 0.7370 - val_loss: 0.7775 - val_accuracy: 0.6551\n",
            "Epoch 42/50\n",
            "544/544 [==============================] - 2s 3ms/step - loss: 0.5482 - accuracy: 0.7361 - val_loss: 0.7771 - val_accuracy: 0.6538\n",
            "Epoch 43/50\n",
            "544/544 [==============================] - 2s 3ms/step - loss: 0.5472 - accuracy: 0.7378 - val_loss: 0.7776 - val_accuracy: 0.6538\n",
            "Epoch 44/50\n",
            "544/544 [==============================] - 2s 3ms/step - loss: 0.5462 - accuracy: 0.7362 - val_loss: 0.7768 - val_accuracy: 0.6532\n",
            "Epoch 45/50\n",
            "544/544 [==============================] - 2s 3ms/step - loss: 0.5453 - accuracy: 0.7371 - val_loss: 0.7769 - val_accuracy: 0.6545\n",
            "Epoch 46/50\n",
            "544/544 [==============================] - 2s 3ms/step - loss: 0.5444 - accuracy: 0.7373 - val_loss: 0.7763 - val_accuracy: 0.6532\n",
            "Epoch 47/50\n",
            "544/544 [==============================] - 2s 3ms/step - loss: 0.5435 - accuracy: 0.7376 - val_loss: 0.7782 - val_accuracy: 0.6551\n",
            "Epoch 48/50\n",
            "544/544 [==============================] - 2s 3ms/step - loss: 0.5426 - accuracy: 0.7372 - val_loss: 0.7781 - val_accuracy: 0.6545\n",
            "Epoch 49/50\n",
            "544/544 [==============================] - 2s 3ms/step - loss: 0.5417 - accuracy: 0.7390 - val_loss: 0.7787 - val_accuracy: 0.6551\n",
            "Epoch 50/50\n",
            "544/544 [==============================] - 2s 3ms/step - loss: 0.5409 - accuracy: 0.7388 - val_loss: 0.7793 - val_accuracy: 0.6570\n"
          ]
        },
        {
          "output_type": "execute_result",
          "data": {
            "text/plain": [
              "<keras.callbacks.History at 0x7f4ec7234810>"
            ]
          },
          "metadata": {},
          "execution_count": 132
        }
      ]
    },
    {
      "cell_type": "markdown",
      "metadata": {
        "id": "5AzfVVtGgXkm"
      },
      "source": [
        "#<font color='#77C66E'>**Model 2**</font>\n",
        "---\n",
        "This model uses a custom function instead. Which is **not really a clustering algorithm**, but it is rather a simple function that uses gensim's functions to group the words.  \n",
        "Obvious **benefits**: Speed, Simple to understand  \n",
        "To clarify the speed benefit, the function is very simple, it has no complex logic, again it is not a clustering algorithm. Secondly, it uses gensim's functions which are rather quick.  \n",
        "To explain the simplicity of this function, we can change the threshold of similarity between words. (like combine words only if they are more than 90% similar)\n",
        "\n",
        "The basic idea is that every word takes similar words into their group, and if those words are already in a group, it takes them only if it is more similar to them than the word that has took them into their current group. "
      ]
    },
    {
      "cell_type": "markdown",
      "metadata": {
        "id": "KdClUbLkuq_Y"
      },
      "source": [
        "##<font color='#77C66E'>**Base**</font>\n",
        "---\n",
        "This code has to be used before all of the variations of Model 2 that are presented later on. The code restricts the Word2Vec model to the shared words. So that when the most similar method is called, we would only get the similar words that are in the training dataset's vocabulary. Also, there would probably be a performance boost, the minimum and the most immediate benefit being that we would not have to check whether the similar word is in the shared vocabulary or not. "
      ]
    },
    {
      "cell_type": "code",
      "execution_count": null,
      "metadata": {
        "id": "Rm82jx5sOENU"
      },
      "outputs": [],
      "source": [
        "def restrict_w2v(w2v, restricted_word_set):\n",
        "    new_vectors = []\n",
        "    new_vocab = {}\n",
        "    new_index2entity = []\n",
        "    new_vectors_norm = []\n",
        "\n",
        "    for i in range(len(w2v.vocab)):\n",
        "        word = w2v.index2entity[i]\n",
        "        vec = w2v.vectors[i]\n",
        "        vocab = w2v.vocab[word]\n",
        "        vec_norm = w2v.vectors_norm[i]\n",
        "        if word in restricted_word_set:\n",
        "            vocab.index = len(new_index2entity)\n",
        "            new_index2entity.append(word)\n",
        "            new_vocab[word] = vocab\n",
        "            new_vectors.append(vec)\n",
        "            new_vectors_norm.append(vec_norm)\n",
        "\n",
        "    w2v.vocab = new_vocab\n",
        "    w2v.vectors = new_vectors\n",
        "    w2v.index2entity = new_index2entity\n",
        "    w2v.index2word = new_index2entity\n",
        "    w2v.vectors_norm = new_vectors_norm\n",
        "\n",
        "restrict_w2v(glove_vectors, shared)"
      ]
    },
    {
      "cell_type": "markdown",
      "metadata": {
        "id": "zIELDTx3us6X"
      },
      "source": [
        "##<font color='#77C66E'>**0.9 Threshold**</font>\n",
        "---\n",
        "We examine the model's performance using a threshold of 90% similarity.  \n",
        "Also, remember the model's logic has been explained concisely in the introduction to this section.  "
      ]
    },
    {
      "cell_type": "code",
      "execution_count": null,
      "metadata": {
        "id": "aNfBSnENMYl-"
      },
      "outputs": [],
      "source": [
        "# Combine similar words\n",
        "# vocab = tk.word_index.keys()\n",
        "# shared = set.intersection(set(vocab), set(glove_vectors.wv.vocab))\n",
        "threshold = 0.9\n",
        "\n",
        "keys = X_train.columns\n",
        "combine_records = [-1 for key in keys]\n",
        "last_combine_records = [0 for key in keys]\n",
        "key_list = [[] for key in keys]\n",
        "\n",
        "k = 1\n",
        "\n",
        "for word in shared:\n",
        "  i = tk.word_index[word]\n",
        "  \n",
        "  if combine_records[i] == -1:\n",
        "    combine_records[i] = k\n",
        "    key_list[k-1].append(i)\n",
        "    k = k + 1\n",
        "  \n",
        "  for similar in glove_vectors.most_similar(word):\n",
        "    percent = similar[1]\n",
        "\n",
        "    if percent >= threshold:\n",
        "      # COMBINE!\n",
        "      similar_word = similar[0]\n",
        "      j = tk.word_index[similar_word]\n",
        "      if combine_records[j] != -1:\n",
        "        if last_combine_records[j] > percent:\n",
        "          break\n",
        "        key_list[combine_records[j]-1].remove(j)\n",
        "      # print('COMBINING ' + word + ' & ' + similar_word + ' ' + str(percent))\n",
        "      combine_records[j] = combine_records[i]\n",
        "      last_combine_records[j] = percent\n",
        "      key_list[combine_records[i]-1].append(j)\n",
        "\n",
        "k = 1\n",
        "useful = [] # Used in Keeping previous data\n",
        "for l in key_list:\n",
        "  if len(l) == 0:\n",
        "    continue\n",
        "  if len(l) > 1:\n",
        "    useful.append(k-1)\n",
        "  for item in l:\n",
        "    combine_records[item] = k\n",
        "  k = k + 1\n",
        "for i in range(len(keys)):\n",
        "  if combine_records[i] == -1:\n",
        "    combine_records[i] = k\n",
        "    k = k + 1\n",
        "\n",
        "labels = combine_records"
      ]
    },
    {
      "cell_type": "code",
      "execution_count": null,
      "metadata": {
        "id": "XCMkC06zWJ_O"
      },
      "outputs": [],
      "source": [
        "# for i in range(1, 14938+1):\n",
        "#   if i not in set(labels):\n",
        "#     print(i)"
      ]
    },
    {
      "cell_type": "code",
      "execution_count": null,
      "metadata": {
        "id": "LxoM0Q0sN57U"
      },
      "outputs": [],
      "source": [
        "N = len(X_train.columns)\n",
        "N_Clusters=len(set(labels))\n",
        "train_series_list = [None for x in range(N_Clusters)]\n",
        "test_series_list = [None for x in range(N_Clusters)]\n",
        "for i in range(N):\n",
        "  # If the label (group) is already in the list\n",
        "  # Add it to the group\n",
        "  # If it is the first time this label (group) has appeared - add it\n",
        "  label = labels[i] - 1\n",
        "  real_index = i\n",
        "  if train_series_list[label] is None:\n",
        "    train_series_list[label] = X_train[real_index]\n",
        "    test_series_list[label] = X_test[real_index]\n",
        "  else:\n",
        "    train_series_list[label] = train_series_list[label] + X_train[real_index]\n",
        "    test_series_list[label] = test_series_list[label] + X_test[real_index]\n",
        "  \n",
        "# for i in train_series_list:\n",
        "#   i.apply(lambda x : 1 if x > 0 else 0)\n",
        "# for i in test_series_list:\n",
        "#   i.apply(lambda x : 1 if x > 0 else 0)\n",
        "\n",
        "# X_train_result = pd.concat([train_series_list[i] for i in useful], axis=1)\n",
        "X_train_result = pd.concat(train_series_list, axis=1)\n",
        "\n",
        "# X_test_result = pd.concat([test_series_list[i] for i in useful], axis=1)\n",
        "X_test_result = pd.concat(test_series_list, axis=1)"
      ]
    },
    {
      "cell_type": "code",
      "execution_count": null,
      "metadata": {
        "id": "FfTHzr4tjbKl"
      },
      "outputs": [],
      "source": [
        "labels = None"
      ]
    },
    {
      "cell_type": "markdown",
      "source": [
        "A previous method for combining words. The current method shares code (combination phase) with\n",
        "Model 1 and is preferred."
      ],
      "metadata": {
        "id": "j1kOkeDxi7bo"
      }
    },
    {
      "cell_type": "code",
      "execution_count": null,
      "metadata": {
        "id": "N3wvinYw96rD"
      },
      "outputs": [],
      "source": [
        "# # Combine similar words\n",
        "# # vocab = tk.word_index.keys()\n",
        "# # shared = set.intersection(set(vocab), set(glove_vectors.wv.vocab))\n",
        "# threshold = 0.96\n",
        "\n",
        "# from ipywidgets import IntProgress\n",
        "# from IPython.display import display\n",
        "# import time\n",
        "\n",
        "# max_count = 100\n",
        "\n",
        "# f = IntProgress(min=0, max=len(shared)) # instantiate the bar\n",
        "# display(f) # display the bar\n",
        "\n",
        "# X_train_result = pd.DataFrame(X_train[0])\n",
        "# X_test_result = pd.DataFrame(X_test[0])\n",
        "# length = 0\n",
        "# keys = X_train.columns\n",
        "# combine_records = {key: -1 for key in keys}\n",
        "\n",
        "# xx = 0\n",
        "\n",
        "# for word in shared:\n",
        "#   f.value += 1\n",
        "#   i = tk.word_index[word]\n",
        "#   if combine_records[i] != -1:\n",
        "#     continue\n",
        "#   # for similar in glove_vectors.most_similar(word):\n",
        "#   similar = glove_vectors.most_similar(word)[0]\n",
        "#   similar_word = similar[0]\n",
        "#   percent = similar[1]\n",
        "\n",
        "#   if percent >= threshold:\n",
        "#     # COMBINE!\n",
        "#     xx = xx + 1\n",
        "#     # print('COMBINING ' + word + ' & ' + similar_word)\n",
        "#     j = tk.word_index[similar_word]\n",
        "#     if combine_records[j] != -1:\n",
        "#       target = combine_records[j]\n",
        "#       X_train_result[target] = X_train_result[target] + X_train[i]\n",
        "#       X_test_result[target] = X_test_result[target] + X_test[i] \n",
        "#       combine_records[i] = target\n",
        "#       continue\n",
        "#     X_train_result[length] = X_train[i] + X_train[j]\n",
        "#     X_test_result[length] = X_test[i] + X_test[j]\n",
        "#     combine_records[i] = length\n",
        "#     combine_records[j] = length\n",
        "#     length = length + 1\n",
        "\n",
        "# unchanged_list = [key for key in combine_records if (combine_records[key] == -1)]\n",
        "# X_train_result = pd.concat(\n",
        "#     [\n",
        "#         X_train_result,\n",
        "#         X_train[unchanged_list]\n",
        "#     ], axis=1\n",
        "# )\n",
        "\n",
        "# X_test_result = pd.concat(\n",
        "#     [\n",
        "#         X_test_result,\n",
        "#         X_test[unchanged_list]\n",
        "#     ], axis=1\n",
        "# )"
      ]
    },
    {
      "cell_type": "code",
      "execution_count": null,
      "metadata": {
        "id": "Xe3wwEaiiSgP"
      },
      "outputs": [],
      "source": [
        "X_train_result = pd.concat(\n",
        "    [\n",
        "        X_train_result,\n",
        "        X_train\n",
        "    ], axis=1\n",
        ")\n",
        "\n",
        "X_test_result = pd.concat(\n",
        "    [\n",
        "        X_test_result,\n",
        "        X_test\n",
        "    ], axis=1\n",
        ")"
      ]
    },
    {
      "cell_type": "code",
      "execution_count": null,
      "metadata": {
        "colab": {
          "base_uri": "https://localhost:8080/"
        },
        "id": "Nvwpiz0Bb6P1",
        "outputId": "faf034ea-2130-4e9b-fb15-89545f78365f"
      },
      "outputs": [
        {
          "data": {
            "text/plain": [
              "(8695, 34495)"
            ]
          },
          "execution_count": 102,
          "metadata": {},
          "output_type": "execute_result"
        }
      ],
      "source": [
        "X_train_result.shape"
      ]
    },
    {
      "cell_type": "code",
      "execution_count": null,
      "metadata": {
        "id": "4YIFUMdAbRW7"
      },
      "outputs": [],
      "source": [
        "from tensorflow.keras.layers import Dropout\n",
        "\n",
        "model = keras.Sequential()\n",
        "model.add(keras.layers.Input(shape=X_train_result.shape[1:]))\n",
        "model.add(keras.layers.Dense(3, activation='softmax'))\n",
        "\n",
        "opt = keras.optimizers.Adam(learning_rate=0.001)\n",
        "\n",
        "model.compile(loss='categorical_crossentropy', optimizer=opt, metrics=['accuracy'])"
      ]
    },
    {
      "cell_type": "code",
      "execution_count": null,
      "metadata": {
        "colab": {
          "base_uri": "https://localhost:8080/"
        },
        "id": "dgLTqOu8oWgK",
        "outputId": "d6251db5-df77-48b4-813f-6fdb06f3631a"
      },
      "outputs": [
        {
          "name": "stdout",
          "output_type": "stream",
          "text": [
            "Epoch 1/10\n",
            "544/544 [==============================] - 8s 13ms/step - loss: 0.9339 - accuracy: 0.6143 - val_loss: 0.6246 - val_accuracy: 0.7459\n",
            "Epoch 2/10\n",
            "544/544 [==============================] - 5s 9ms/step - loss: 0.7102 - accuracy: 0.7581 - val_loss: 0.5497 - val_accuracy: 0.7837\n",
            "Epoch 3/10\n",
            "544/544 [==============================] - 5s 9ms/step - loss: 0.5991 - accuracy: 0.8145 - val_loss: 0.5357 - val_accuracy: 0.7907\n",
            "Epoch 4/10\n",
            "544/544 [==============================] - 5s 9ms/step - loss: 0.5245 - accuracy: 0.8460 - val_loss: 0.5789 - val_accuracy: 0.7774\n",
            "Epoch 5/10\n",
            "544/544 [==============================] - 5s 9ms/step - loss: 0.4690 - accuracy: 0.8667 - val_loss: 0.5430 - val_accuracy: 0.7951\n",
            "Epoch 6/10\n",
            "544/544 [==============================] - 5s 9ms/step - loss: 0.4256 - accuracy: 0.8795 - val_loss: 0.5934 - val_accuracy: 0.7831\n",
            "Epoch 7/10\n",
            "544/544 [==============================] - 5s 9ms/step - loss: 0.3897 - accuracy: 0.8934 - val_loss: 0.5997 - val_accuracy: 0.7875\n",
            "Epoch 8/10\n",
            "544/544 [==============================] - 5s 8ms/step - loss: 0.3598 - accuracy: 0.9030 - val_loss: 0.6301 - val_accuracy: 0.7837\n",
            "Epoch 9/10\n",
            "544/544 [==============================] - 5s 9ms/step - loss: 0.3339 - accuracy: 0.9114 - val_loss: 0.6233 - val_accuracy: 0.7926\n",
            "Epoch 10/10\n",
            "544/544 [==============================] - 5s 9ms/step - loss: 0.3116 - accuracy: 0.9166 - val_loss: 0.6780 - val_accuracy: 0.7812\n"
          ]
        },
        {
          "data": {
            "text/plain": [
              "<keras.callbacks.History at 0x7faa009a6890>"
            ]
          },
          "execution_count": 104,
          "metadata": {},
          "output_type": "execute_result"
        }
      ],
      "source": [
        "model.fit(x=X_train_result, y=y_train, epochs=10, batch_size=16,\n",
        "          validation_data=(X_test_result,y_test))"
      ]
    },
    {
      "cell_type": "markdown",
      "source": [
        "##<font color='#77C66E'>**TF-IDF**</font>\n",
        "---\n",
        "We examine the model's performance using a threshold of 90% similarity and using the TF-IDF method. "
      ],
      "metadata": {
        "id": "IwEOGWTknGbt"
      }
    },
    {
      "cell_type": "code",
      "execution_count": null,
      "metadata": {
        "id": "2mu--DhfqqBz"
      },
      "outputs": [],
      "source": [
        "# Combine similar words\n",
        "# vocab = tk.word_index.keys()\n",
        "# shared = set.intersection(set(vocab), set(glove_vectors.wv.vocab))\n",
        "threshold = 0.9\n",
        "\n",
        "keys = X_train.columns\n",
        "combine_records = [-1 for key in keys]\n",
        "last_combine_records = [0 for key in keys]\n",
        "key_list = [[] for key in keys]\n",
        "\n",
        "k = 1\n",
        "\n",
        "for word in shared:\n",
        "  i = tk.word_index[word]\n",
        "  \n",
        "  if combine_records[i] == -1:\n",
        "    combine_records[i] = k\n",
        "    key_list[k-1].append(i)\n",
        "    k = k + 1\n",
        "  \n",
        "  for similar in glove_vectors.most_similar(word):\n",
        "    percent = similar[1]\n",
        "\n",
        "    if percent >= threshold:\n",
        "      # COMBINE!\n",
        "      similar_word = similar[0]\n",
        "      j = tk.word_index[similar_word]\n",
        "      if combine_records[j] != -1:\n",
        "        if last_combine_records[j] > percent:\n",
        "          break\n",
        "        key_list[combine_records[j]-1].remove(j)\n",
        "      # print('COMBINING ' + word + ' & ' + similar_word + ' ' + str(percent))\n",
        "      combine_records[j] = combine_records[i]\n",
        "      last_combine_records[j] = percent\n",
        "      key_list[combine_records[i]-1].append(j)\n",
        "\n",
        "k = 1\n",
        "useful = []\n",
        "for l in key_list:\n",
        "  if len(l) == 0:\n",
        "    continue\n",
        "  if len(l) > 1:\n",
        "    useful.append(k-1)\n",
        "  for item in l:\n",
        "    combine_records[item] = k\n",
        "  k = k + 1\n",
        "for i in range(len(keys)):\n",
        "  if combine_records[i] == -1:\n",
        "    combine_records[i] = k\n",
        "    k = k + 1\n",
        "\n",
        "labels = combine_records"
      ]
    },
    {
      "cell_type": "code",
      "execution_count": null,
      "metadata": {
        "id": "XOLkLk4lqqB1"
      },
      "outputs": [],
      "source": [
        "# for i in range(1, 14938+1):\n",
        "#   if i not in set(labels):\n",
        "#     print(i)"
      ]
    },
    {
      "cell_type": "code",
      "execution_count": null,
      "metadata": {
        "id": "mrysTGBGqqB1"
      },
      "outputs": [],
      "source": [
        "N = len(X_train.columns)\n",
        "N_Clusters=len(set(labels))\n",
        "train_series_list = [None for x in range(N_Clusters)]\n",
        "test_series_list = [None for x in range(N_Clusters)]\n",
        "for i in range(N):\n",
        "  # If the label (group) is already in the list\n",
        "  # Add it to the group\n",
        "  # If it is the first time this label (group) has appeared - add it\n",
        "  label = labels[i] - 1\n",
        "  real_index = i\n",
        "  if train_series_list[label] is None:\n",
        "    train_series_list[label] = X_train[real_index]\n",
        "    test_series_list[label] = X_test[real_index]\n",
        "  else:\n",
        "    train_series_list[label] = train_series_list[label] + X_train[real_index]\n",
        "    test_series_list[label] = test_series_list[label] + X_test[real_index]\n",
        "  \n",
        "# for i in train_series_list:\n",
        "#   i.apply(lambda x : 1 if x > 0 else 0)\n",
        "# for i in test_series_list:\n",
        "#   i.apply(lambda x : 1 if x > 0 else 0)\n",
        "\n",
        "# X_train_result = pd.concat([train_series_list[i] for i in useful], axis=1)\n",
        "X_train_result = pd.concat(train_series_list, axis=1)\n",
        "\n",
        "# X_test_result = pd.concat([test_series_list[i] for i in useful], axis=1)\n",
        "X_test_result = pd.concat(test_series_list, axis=1)"
      ]
    },
    {
      "cell_type": "code",
      "execution_count": null,
      "metadata": {
        "id": "qDYkkAAdnKuI"
      },
      "outputs": [],
      "source": [
        "from sklearn.feature_extraction.text import TfidfTransformer\n",
        "from sklearn.pipeline import Pipeline\n",
        "\n",
        "pipe = Pipeline([('tfid', TfidfTransformer())]).fit(X_train_result)\n",
        "X_train_resultt = pipe.transform(X_train_result)\n",
        "X_test_resultt = pipe.transform(X_test_result)"
      ]
    },
    {
      "cell_type": "code",
      "execution_count": null,
      "metadata": {
        "id": "ueYsdiyXnKuJ"
      },
      "outputs": [],
      "source": [
        "X_train_resultt = pd.DataFrame.sparse.from_spmatrix(X_train_resultt)\n",
        "X_test_resultt = pd.DataFrame.sparse.from_spmatrix(X_test_resultt)"
      ]
    },
    {
      "cell_type": "code",
      "execution_count": null,
      "metadata": {
        "id": "6gDhXt6JnIgH"
      },
      "outputs": [],
      "source": [
        "from tensorflow.keras.layers import Dropout\n",
        "\n",
        "model = keras.Sequential()\n",
        "model.add(keras.layers.Input(shape=X_train_resultt.shape[1:]))\n",
        "model.add(keras.layers.Dense(3, activation='softmax'))\n",
        "\n",
        "opt = keras.optimizers.Adam(learning_rate=0.001)\n",
        "\n",
        "model.compile(loss='categorical_crossentropy', optimizer=opt, metrics=['accuracy'])"
      ]
    },
    {
      "cell_type": "code",
      "execution_count": null,
      "metadata": {
        "colab": {
          "base_uri": "https://localhost:8080/"
        },
        "outputId": "064cc1e1-c0e2-4bc3-d02a-374925f3d2f9",
        "id": "pwnXCMuOnIgI"
      },
      "outputs": [
        {
          "output_type": "stream",
          "name": "stdout",
          "text": [
            "Epoch 1/10\n",
            "544/544 [==============================] - 5s 8ms/step - loss: 1.0577 - accuracy: 0.4443 - val_loss: 1.0284 - val_accuracy: 0.4035\n",
            "Epoch 2/10\n",
            "544/544 [==============================] - 2s 5ms/step - loss: 0.9817 - accuracy: 0.5516 - val_loss: 0.9715 - val_accuracy: 0.4817\n",
            "Epoch 3/10\n",
            "544/544 [==============================] - 2s 4ms/step - loss: 0.9178 - accuracy: 0.6543 - val_loss: 0.9171 - val_accuracy: 0.6122\n",
            "Epoch 4/10\n",
            "544/544 [==============================] - 2s 4ms/step - loss: 0.8618 - accuracy: 0.7112 - val_loss: 0.8705 - val_accuracy: 0.6955\n",
            "Epoch 5/10\n",
            "544/544 [==============================] - 2s 4ms/step - loss: 0.8126 - accuracy: 0.7556 - val_loss: 0.8291 - val_accuracy: 0.7459\n",
            "Epoch 6/10\n",
            "544/544 [==============================] - 2s 4ms/step - loss: 0.7692 - accuracy: 0.7862 - val_loss: 0.7943 - val_accuracy: 0.7585\n",
            "Epoch 7/10\n",
            "544/544 [==============================] - 2s 4ms/step - loss: 0.7308 - accuracy: 0.8017 - val_loss: 0.7630 - val_accuracy: 0.7692\n",
            "Epoch 8/10\n",
            "544/544 [==============================] - 2s 4ms/step - loss: 0.6965 - accuracy: 0.8115 - val_loss: 0.7347 - val_accuracy: 0.7869\n",
            "Epoch 9/10\n",
            "544/544 [==============================] - 2s 4ms/step - loss: 0.6657 - accuracy: 0.8227 - val_loss: 0.7102 - val_accuracy: 0.7945\n",
            "Epoch 10/10\n",
            "544/544 [==============================] - 2s 5ms/step - loss: 0.6378 - accuracy: 0.8313 - val_loss: 0.6883 - val_accuracy: 0.7919\n"
          ]
        },
        {
          "output_type": "execute_result",
          "data": {
            "text/plain": [
              "<keras.callbacks.History at 0x7f4ec9f421d0>"
            ]
          },
          "metadata": {},
          "execution_count": 114
        }
      ],
      "source": [
        "model.fit(x=X_train_resultt, y=y_train, epochs=10, batch_size=16,\n",
        "          validation_data=(X_test_resultt,y_test))"
      ]
    },
    {
      "cell_type": "code",
      "source": [
        "model.fit(x=X_train_resultt, y=y_train, epochs=10, batch_size=16,\n",
        "          validation_data=(X_test_resultt,y_test))"
      ],
      "metadata": {
        "colab": {
          "base_uri": "https://localhost:8080/"
        },
        "id": "8bqUExiNpeZn",
        "outputId": "36a6219a-be6d-4876-b685-0ac23bc6eac1"
      },
      "execution_count": null,
      "outputs": [
        {
          "output_type": "stream",
          "name": "stdout",
          "text": [
            "Epoch 1/10\n",
            "544/544 [==============================] - 4s 7ms/step - loss: 0.6124 - accuracy: 0.8370 - val_loss: 0.6688 - val_accuracy: 0.7976\n",
            "Epoch 2/10\n",
            "544/544 [==============================] - 2s 5ms/step - loss: 0.5893 - accuracy: 0.8469 - val_loss: 0.6512 - val_accuracy: 0.7995\n",
            "Epoch 3/10\n",
            "544/544 [==============================] - 3s 5ms/step - loss: 0.5680 - accuracy: 0.8514 - val_loss: 0.6357 - val_accuracy: 0.8045\n",
            "Epoch 4/10\n",
            "544/544 [==============================] - 2s 5ms/step - loss: 0.5483 - accuracy: 0.8572 - val_loss: 0.6205 - val_accuracy: 0.8083\n",
            "Epoch 5/10\n",
            "544/544 [==============================] - 3s 5ms/step - loss: 0.5301 - accuracy: 0.8615 - val_loss: 0.6089 - val_accuracy: 0.8058\n",
            "Epoch 6/10\n",
            "544/544 [==============================] - 2s 5ms/step - loss: 0.5132 - accuracy: 0.8680 - val_loss: 0.5963 - val_accuracy: 0.8083\n",
            "Epoch 7/10\n",
            "544/544 [==============================] - 2s 4ms/step - loss: 0.4974 - accuracy: 0.8704 - val_loss: 0.5838 - val_accuracy: 0.8127\n",
            "Epoch 8/10\n",
            "544/544 [==============================] - 3s 5ms/step - loss: 0.4826 - accuracy: 0.8743 - val_loss: 0.5748 - val_accuracy: 0.8115\n",
            "Epoch 9/10\n",
            "544/544 [==============================] - 3s 5ms/step - loss: 0.4688 - accuracy: 0.8774 - val_loss: 0.5646 - val_accuracy: 0.8165\n",
            "Epoch 10/10\n",
            "544/544 [==============================] - 3s 5ms/step - loss: 0.4557 - accuracy: 0.8804 - val_loss: 0.5550 - val_accuracy: 0.8159\n"
          ]
        },
        {
          "output_type": "execute_result",
          "data": {
            "text/plain": [
              "<keras.callbacks.History at 0x7f4ecaeddd90>"
            ]
          },
          "metadata": {},
          "execution_count": 115
        }
      ]
    },
    {
      "cell_type": "code",
      "source": [
        "model.fit(x=X_train_resultt, y=y_train, epochs=10, batch_size=16,\n",
        "          validation_data=(X_test_resultt,y_test))"
      ],
      "metadata": {
        "colab": {
          "base_uri": "https://localhost:8080/"
        },
        "id": "cI5YMwCaqSqu",
        "outputId": "ef6c3642-194e-4777-dd51-860e0822755a"
      },
      "execution_count": null,
      "outputs": [
        {
          "output_type": "stream",
          "name": "stdout",
          "text": [
            "Epoch 1/10\n",
            "544/544 [==============================] - 4s 8ms/step - loss: 0.4435 - accuracy: 0.8837 - val_loss: 0.5481 - val_accuracy: 0.8146\n",
            "Epoch 2/10\n",
            "544/544 [==============================] - 3s 5ms/step - loss: 0.4319 - accuracy: 0.8850 - val_loss: 0.5400 - val_accuracy: 0.8184\n",
            "Epoch 3/10\n",
            "544/544 [==============================] - 3s 5ms/step - loss: 0.4210 - accuracy: 0.8871 - val_loss: 0.5327 - val_accuracy: 0.8178\n",
            "Epoch 4/10\n",
            "544/544 [==============================] - 2s 5ms/step - loss: 0.4106 - accuracy: 0.8889 - val_loss: 0.5265 - val_accuracy: 0.8178\n",
            "Epoch 5/10\n",
            "544/544 [==============================] - 3s 5ms/step - loss: 0.4008 - accuracy: 0.8907 - val_loss: 0.5205 - val_accuracy: 0.8184\n",
            "Epoch 6/10\n",
            "544/544 [==============================] - 3s 5ms/step - loss: 0.3915 - accuracy: 0.8936 - val_loss: 0.5146 - val_accuracy: 0.8165\n",
            "Epoch 7/10\n",
            "544/544 [==============================] - 3s 5ms/step - loss: 0.3826 - accuracy: 0.8956 - val_loss: 0.5091 - val_accuracy: 0.8165\n",
            "Epoch 8/10\n",
            "544/544 [==============================] - 3s 6ms/step - loss: 0.3741 - accuracy: 0.8981 - val_loss: 0.5027 - val_accuracy: 0.8203\n",
            "Epoch 9/10\n",
            "544/544 [==============================] - 3s 5ms/step - loss: 0.3661 - accuracy: 0.8987 - val_loss: 0.4992 - val_accuracy: 0.8178\n",
            "Epoch 10/10\n",
            "544/544 [==============================] - 3s 5ms/step - loss: 0.3584 - accuracy: 0.9011 - val_loss: 0.4943 - val_accuracy: 0.8184\n"
          ]
        },
        {
          "output_type": "execute_result",
          "data": {
            "text/plain": [
              "<keras.callbacks.History at 0x7f4ecb199510>"
            ]
          },
          "metadata": {},
          "execution_count": 116
        }
      ]
    },
    {
      "cell_type": "code",
      "source": [
        "model.fit(x=X_train_resultt, y=y_train, epochs=10, batch_size=16,\n",
        "          validation_data=(X_test_resultt,y_test))"
      ],
      "metadata": {
        "colab": {
          "base_uri": "https://localhost:8080/"
        },
        "id": "cFNOK0hRqcvQ",
        "outputId": "b8a011cd-33ad-434e-c452-6e3738157077"
      },
      "execution_count": null,
      "outputs": [
        {
          "output_type": "stream",
          "name": "stdout",
          "text": [
            "Epoch 1/10\n",
            "544/544 [==============================] - 4s 7ms/step - loss: 0.3510 - accuracy: 0.9026 - val_loss: 0.4895 - val_accuracy: 0.8203\n",
            "Epoch 2/10\n",
            "544/544 [==============================] - 2s 4ms/step - loss: 0.3440 - accuracy: 0.9037 - val_loss: 0.4856 - val_accuracy: 0.8203\n",
            "Epoch 3/10\n",
            "544/544 [==============================] - 3s 5ms/step - loss: 0.3372 - accuracy: 0.9057 - val_loss: 0.4807 - val_accuracy: 0.8203\n",
            "Epoch 4/10\n",
            "544/544 [==============================] - 2s 4ms/step - loss: 0.3308 - accuracy: 0.9059 - val_loss: 0.4778 - val_accuracy: 0.8209\n",
            "Epoch 5/10\n",
            "544/544 [==============================] - 2s 5ms/step - loss: 0.3246 - accuracy: 0.9078 - val_loss: 0.4747 - val_accuracy: 0.8197\n",
            "Epoch 6/10\n",
            "544/544 [==============================] - 2s 5ms/step - loss: 0.3187 - accuracy: 0.9093 - val_loss: 0.4712 - val_accuracy: 0.8209\n",
            "Epoch 7/10\n",
            "544/544 [==============================] - 2s 5ms/step - loss: 0.3130 - accuracy: 0.9101 - val_loss: 0.4687 - val_accuracy: 0.8190\n",
            "Epoch 8/10\n",
            "544/544 [==============================] - 2s 4ms/step - loss: 0.3075 - accuracy: 0.9108 - val_loss: 0.4658 - val_accuracy: 0.8172\n",
            "Epoch 9/10\n",
            "544/544 [==============================] - 2s 4ms/step - loss: 0.3023 - accuracy: 0.9125 - val_loss: 0.4635 - val_accuracy: 0.8178\n",
            "Epoch 10/10\n",
            "544/544 [==============================] - 3s 5ms/step - loss: 0.2971 - accuracy: 0.9129 - val_loss: 0.4610 - val_accuracy: 0.8209\n"
          ]
        },
        {
          "output_type": "execute_result",
          "data": {
            "text/plain": [
              "<keras.callbacks.History at 0x7f4ecbafed90>"
            ]
          },
          "metadata": {},
          "execution_count": 117
        }
      ]
    },
    {
      "cell_type": "markdown",
      "source": [
        "##<font color='#77C66E'>**Keeping previous data (and adding less columns)**</font>\n",
        "---\n",
        "We examine the model's performance using a threshold of 90% similarity and keeping previous data aswell. Furthermore, pay attention to the fact that this time we only add clusters with more than one word as columns. In contrast, we added all clusters as columns when examining Model1 data. This way we can examine how adding less columns that I believe are the more important ones, because info about clusters with a single word are already present in the data.  \n",
        "Again, the result is not satisfactory in this case either.  \n",
        "We used more processing power (we have more columns) to get worse results.  \n",
        "Also note that the \"keeping previous data\" section in the Model 1 section is not intended to be related in any way to the \"keeping previous data\" section in the Model 2 section."
      ],
      "metadata": {
        "id": "eI308o9Lh6Qf"
      }
    },
    {
      "cell_type": "code",
      "execution_count": null,
      "metadata": {
        "id": "J1nCTyFFqwGT"
      },
      "outputs": [],
      "source": [
        "# Combine similar words\n",
        "# vocab = tk.word_index.keys()\n",
        "# shared = set.intersection(set(vocab), set(glove_vectors.wv.vocab))\n",
        "threshold = 0.9\n",
        "\n",
        "keys = X_train.columns\n",
        "combine_records = [-1 for key in keys]\n",
        "last_combine_records = [0 for key in keys]\n",
        "key_list = [[] for key in keys]\n",
        "\n",
        "k = 1\n",
        "\n",
        "for word in shared:\n",
        "  i = tk.word_index[word]\n",
        "  \n",
        "  if combine_records[i] == -1:\n",
        "    combine_records[i] = k\n",
        "    key_list[k-1].append(i)\n",
        "    k = k + 1\n",
        "  \n",
        "  for similar in glove_vectors.most_similar(word):\n",
        "    percent = similar[1]\n",
        "\n",
        "    if percent >= threshold:\n",
        "      # COMBINE!\n",
        "      similar_word = similar[0]\n",
        "      j = tk.word_index[similar_word]\n",
        "      if combine_records[j] != -1:\n",
        "        if last_combine_records[j] > percent:\n",
        "          break\n",
        "        key_list[combine_records[j]-1].remove(j)\n",
        "      # print('COMBINING ' + word + ' & ' + similar_word + ' ' + str(percent))\n",
        "      combine_records[j] = combine_records[i]\n",
        "      last_combine_records[j] = percent\n",
        "      key_list[combine_records[i]-1].append(j)\n",
        "\n",
        "k = 1\n",
        "useful = []\n",
        "for l in key_list:\n",
        "  if len(l) == 0:\n",
        "    continue\n",
        "  if len(l) > 1:\n",
        "    useful.append(k-1)\n",
        "  for item in l:\n",
        "    combine_records[item] = k\n",
        "  k = k + 1\n",
        "for i in range(len(keys)):\n",
        "  if combine_records[i] == -1:\n",
        "    combine_records[i] = k\n",
        "    k = k + 1\n",
        "\n",
        "labels = combine_records"
      ]
    },
    {
      "cell_type": "code",
      "execution_count": null,
      "metadata": {
        "id": "27Xb1DExqwGU"
      },
      "outputs": [],
      "source": [
        "# for i in range(1, 14938+1):\n",
        "#   if i not in set(labels):\n",
        "#     print(i)"
      ]
    },
    {
      "cell_type": "code",
      "execution_count": null,
      "metadata": {
        "id": "uqfPUe6GqwGV"
      },
      "outputs": [],
      "source": [
        "N = len(X_train.columns)\n",
        "N_Clusters=len(set(labels))\n",
        "train_series_list = [None for x in range(N_Clusters)]\n",
        "test_series_list = [None for x in range(N_Clusters)]\n",
        "for i in range(N):\n",
        "  # If the label (group) is already in the list\n",
        "  # Add it to the group\n",
        "  # If it is the first time this label (group) has appeared - add it\n",
        "  label = labels[i] - 1\n",
        "  real_index = i\n",
        "  if train_series_list[label] is None:\n",
        "    train_series_list[label] = X_train[real_index]\n",
        "    test_series_list[label] = X_test[real_index]\n",
        "  else:\n",
        "    train_series_list[label] = train_series_list[label] + X_train[real_index]\n",
        "    test_series_list[label] = test_series_list[label] + X_test[real_index]\n",
        "  \n",
        "# for i in train_series_list:\n",
        "#   i.apply(lambda x : 1 if x > 0 else 0)\n",
        "# for i in test_series_list:\n",
        "#   i.apply(lambda x : 1 if x > 0 else 0)\n",
        "\n",
        "X_train_result = pd.concat([train_series_list[i] for i in useful], axis=1)\n",
        "\n",
        "X_test_result = pd.concat([test_series_list[i] for i in useful], axis=1)"
      ]
    },
    {
      "cell_type": "code",
      "source": [
        "X_train_result.shape"
      ],
      "metadata": {
        "colab": {
          "base_uri": "https://localhost:8080/"
        },
        "id": "B1j6MlPcjitI",
        "outputId": "d0795c37-77eb-40f8-8b12-36759c9e6e2c"
      },
      "execution_count": null,
      "outputs": [
        {
          "output_type": "execute_result",
          "data": {
            "text/plain": [
              "(8695, 20191)"
            ]
          },
          "metadata": {},
          "execution_count": 36
        }
      ]
    },
    {
      "cell_type": "code",
      "source": [
        "X_test_result.shape"
      ],
      "metadata": {
        "colab": {
          "base_uri": "https://localhost:8080/"
        },
        "id": "C_1i9sXrjwB_",
        "outputId": "f313292e-64b3-46eb-8d97-8bc8654a8b74"
      },
      "execution_count": null,
      "outputs": [
        {
          "output_type": "execute_result",
          "data": {
            "text/plain": [
              "(1586, 20191)"
            ]
          },
          "metadata": {},
          "execution_count": 35
        }
      ]
    },
    {
      "cell_type": "code",
      "source": [
        "X_train_result = pd.concat(\n",
        "    [\n",
        "        X_train_result,\n",
        "        X_train\n",
        "    ], axis=1\n",
        ")\n",
        "\n",
        "X_test_result = pd.concat(\n",
        "    [\n",
        "        X_test_result,\n",
        "        X_test\n",
        "    ], axis=1\n",
        ")"
      ],
      "metadata": {
        "id": "sXRfBufvjote"
      },
      "execution_count": null,
      "outputs": []
    },
    {
      "cell_type": "code",
      "execution_count": null,
      "metadata": {
        "id": "-D3u_Atrj_Yj"
      },
      "outputs": [],
      "source": [
        "from sklearn.feature_extraction.text import TfidfTransformer\n",
        "from sklearn.pipeline import Pipeline\n",
        "\n",
        "pipe = Pipeline([('tfid', TfidfTransformer())]).fit(X_train_result)\n",
        "X_train_resultt = pipe.transform(X_train_result)\n",
        "X_test_resultt = pipe.transform(X_test_result)"
      ]
    },
    {
      "cell_type": "code",
      "execution_count": null,
      "metadata": {
        "id": "LZsu-4FMj_Yl"
      },
      "outputs": [],
      "source": [
        "X_train_resultt = pd.DataFrame.sparse.from_spmatrix(X_train_resultt)\n",
        "X_test_resultt = pd.DataFrame.sparse.from_spmatrix(X_test_resultt)"
      ]
    },
    {
      "cell_type": "code",
      "source": [
        "X_train_resultt.shape"
      ],
      "metadata": {
        "colab": {
          "base_uri": "https://localhost:8080/"
        },
        "id": "3LZGNxzsjppR",
        "outputId": "1dff0428-840c-4e1b-da16-9aacfeee928f"
      },
      "execution_count": null,
      "outputs": [
        {
          "output_type": "execute_result",
          "data": {
            "text/plain": [
              "(8695, 20191)"
            ]
          },
          "metadata": {},
          "execution_count": 44
        }
      ]
    },
    {
      "cell_type": "code",
      "source": [
        "X_test_resultt.shape"
      ],
      "metadata": {
        "colab": {
          "base_uri": "https://localhost:8080/"
        },
        "id": "yZQh4rMgksqG",
        "outputId": "0942f90b-41db-404d-d400-d3a3d27b501c"
      },
      "execution_count": null,
      "outputs": [
        {
          "output_type": "execute_result",
          "data": {
            "text/plain": [
              "(1586, 20191)"
            ]
          },
          "metadata": {},
          "execution_count": 45
        }
      ]
    },
    {
      "cell_type": "code",
      "source": [
        "X_train_resultt.shape[1:]"
      ],
      "metadata": {
        "colab": {
          "base_uri": "https://localhost:8080/"
        },
        "id": "VPLJM4fxlGcu",
        "outputId": "17a33fd5-53f8-4d4f-bc14-d7a386941fb4"
      },
      "execution_count": null,
      "outputs": [
        {
          "output_type": "execute_result",
          "data": {
            "text/plain": [
              "(20191,)"
            ]
          },
          "metadata": {},
          "execution_count": 47
        }
      ]
    },
    {
      "cell_type": "code",
      "execution_count": null,
      "metadata": {
        "id": "MzIDlcrpjSl_"
      },
      "outputs": [],
      "source": [
        "from tensorflow.keras.layers import Dropout\n",
        "\n",
        "model = keras.Sequential()\n",
        "model.add(keras.layers.Input(shape=X_train_resultt.shape[1:]))\n",
        "model.add(keras.layers.Dense(3, activation='softmax'))\n",
        "\n",
        "opt = keras.optimizers.Adam(learning_rate=0.001)\n",
        "\n",
        "model.compile(loss='categorical_crossentropy', optimizer=opt, metrics=['accuracy'])"
      ]
    },
    {
      "cell_type": "code",
      "execution_count": null,
      "metadata": {
        "colab": {
          "base_uri": "https://localhost:8080/"
        },
        "outputId": "616d9e82-f40e-4325-bc80-da7f6ac1f527",
        "id": "iH1jcyXsjSl_"
      },
      "outputs": [
        {
          "output_type": "stream",
          "name": "stdout",
          "text": [
            "Epoch 1/10\n",
            "544/544 [==============================] - 5s 8ms/step - loss: 1.0525 - accuracy: 0.4591 - val_loss: 1.0225 - val_accuracy: 0.3991\n",
            "Epoch 2/10\n",
            "544/544 [==============================] - 3s 6ms/step - loss: 0.9660 - accuracy: 0.5741 - val_loss: 0.9586 - val_accuracy: 0.5019\n",
            "Epoch 3/10\n",
            "544/544 [==============================] - 3s 6ms/step - loss: 0.8939 - accuracy: 0.6861 - val_loss: 0.9031 - val_accuracy: 0.6078\n",
            "Epoch 4/10\n",
            "544/544 [==============================] - 3s 5ms/step - loss: 0.8320 - accuracy: 0.7402 - val_loss: 0.8547 - val_accuracy: 0.6765\n",
            "Epoch 5/10\n",
            "544/544 [==============================] - 3s 5ms/step - loss: 0.7786 - accuracy: 0.7791 - val_loss: 0.8142 - val_accuracy: 0.7112\n",
            "Epoch 6/10\n",
            "544/544 [==============================] - 3s 5ms/step - loss: 0.7322 - accuracy: 0.8013 - val_loss: 0.7800 - val_accuracy: 0.7308\n",
            "Epoch 7/10\n",
            "544/544 [==============================] - 3s 5ms/step - loss: 0.6916 - accuracy: 0.8138 - val_loss: 0.7490 - val_accuracy: 0.7446\n",
            "Epoch 8/10\n",
            "544/544 [==============================] - 3s 5ms/step - loss: 0.6557 - accuracy: 0.8275 - val_loss: 0.7222 - val_accuracy: 0.7566\n",
            "Epoch 9/10\n",
            "544/544 [==============================] - 3s 5ms/step - loss: 0.6235 - accuracy: 0.8412 - val_loss: 0.6989 - val_accuracy: 0.7680\n",
            "Epoch 10/10\n",
            "544/544 [==============================] - 3s 5ms/step - loss: 0.5944 - accuracy: 0.8482 - val_loss: 0.6776 - val_accuracy: 0.7806\n"
          ]
        },
        {
          "output_type": "execute_result",
          "data": {
            "text/plain": [
              "<keras.callbacks.History at 0x7f4ecf158fd0>"
            ]
          },
          "metadata": {},
          "execution_count": 68
        }
      ],
      "source": [
        "model.fit(x=X_train_resultt, y=y_train, epochs=10, batch_size=16,\n",
        "          validation_data=(X_test_resultt,y_test))"
      ]
    },
    {
      "cell_type": "code",
      "source": [
        "model.fit(x=X_train_resultt, y=y_train, epochs=20, batch_size=16,\n",
        "          validation_data=(X_test_resultt,y_test))"
      ],
      "metadata": {
        "colab": {
          "base_uri": "https://localhost:8080/"
        },
        "id": "ye9-6bMJmZMe",
        "outputId": "eacc1264-5552-46d8-873d-f24a6f271687"
      },
      "execution_count": null,
      "outputs": [
        {
          "output_type": "stream",
          "name": "stdout",
          "text": [
            "Epoch 1/20\n",
            "544/544 [==============================] - 4s 7ms/step - loss: 0.5682 - accuracy: 0.8614 - val_loss: 0.6604 - val_accuracy: 0.7755\n",
            "Epoch 2/20\n",
            "544/544 [==============================] - 3s 5ms/step - loss: 0.5441 - accuracy: 0.8683 - val_loss: 0.6443 - val_accuracy: 0.7787\n",
            "Epoch 3/20\n",
            "544/544 [==============================] - 3s 5ms/step - loss: 0.5221 - accuracy: 0.8733 - val_loss: 0.6297 - val_accuracy: 0.7812\n",
            "Epoch 4/20\n",
            "544/544 [==============================] - 3s 5ms/step - loss: 0.5018 - accuracy: 0.8772 - val_loss: 0.6156 - val_accuracy: 0.7831\n",
            "Epoch 5/20\n",
            "544/544 [==============================] - 3s 5ms/step - loss: 0.4830 - accuracy: 0.8837 - val_loss: 0.6048 - val_accuracy: 0.7856\n",
            "Epoch 6/20\n",
            "544/544 [==============================] - 3s 5ms/step - loss: 0.4655 - accuracy: 0.8878 - val_loss: 0.5939 - val_accuracy: 0.7869\n",
            "Epoch 7/20\n",
            "544/544 [==============================] - 3s 5ms/step - loss: 0.4492 - accuracy: 0.8940 - val_loss: 0.5812 - val_accuracy: 0.7932\n",
            "Epoch 8/20\n",
            "544/544 [==============================] - 3s 5ms/step - loss: 0.4340 - accuracy: 0.8968 - val_loss: 0.5728 - val_accuracy: 0.7919\n",
            "Epoch 9/20\n",
            "544/544 [==============================] - 3s 6ms/step - loss: 0.4198 - accuracy: 0.9010 - val_loss: 0.5656 - val_accuracy: 0.7913\n",
            "Epoch 10/20\n",
            "544/544 [==============================] - 3s 6ms/step - loss: 0.4063 - accuracy: 0.9050 - val_loss: 0.5565 - val_accuracy: 0.7919\n",
            "Epoch 11/20\n",
            "544/544 [==============================] - 3s 6ms/step - loss: 0.3937 - accuracy: 0.9067 - val_loss: 0.5486 - val_accuracy: 0.7945\n",
            "Epoch 12/20\n",
            "544/544 [==============================] - 3s 5ms/step - loss: 0.3818 - accuracy: 0.9099 - val_loss: 0.5407 - val_accuracy: 0.8008\n",
            "Epoch 13/20\n",
            "544/544 [==============================] - 3s 5ms/step - loss: 0.3706 - accuracy: 0.9126 - val_loss: 0.5369 - val_accuracy: 0.7963\n",
            "Epoch 14/20\n",
            "544/544 [==============================] - 3s 5ms/step - loss: 0.3499 - accuracy: 0.9174 - val_loss: 0.5258 - val_accuracy: 0.7995\n",
            "Epoch 16/20\n",
            "544/544 [==============================] - 3s 5ms/step - loss: 0.3403 - accuracy: 0.9196 - val_loss: 0.5200 - val_accuracy: 0.8026\n",
            "Epoch 17/20\n",
            "544/544 [==============================] - 3s 5ms/step - loss: 0.3312 - accuracy: 0.9216 - val_loss: 0.5153 - val_accuracy: 0.8045\n",
            "Epoch 18/20\n",
            "544/544 [==============================] - 3s 5ms/step - loss: 0.3226 - accuracy: 0.9247 - val_loss: 0.5106 - val_accuracy: 0.8045\n",
            "Epoch 19/20\n",
            "544/544 [==============================] - 3s 5ms/step - loss: 0.3143 - accuracy: 0.9250 - val_loss: 0.5075 - val_accuracy: 0.8064\n",
            "Epoch 20/20\n",
            "544/544 [==============================] - 3s 5ms/step - loss: 0.3064 - accuracy: 0.9281 - val_loss: 0.5047 - val_accuracy: 0.8039\n"
          ]
        },
        {
          "output_type": "execute_result",
          "data": {
            "text/plain": [
              "<keras.callbacks.History at 0x7f4ecf373350>"
            ]
          },
          "metadata": {},
          "execution_count": 69
        }
      ]
    },
    {
      "cell_type": "markdown",
      "metadata": {
        "id": "IYU41F2MuclQ"
      },
      "source": [
        "##<font color='#77C66E'>**Low Threshold**</font>\n",
        "---\n",
        "This time we use a lower threshold (70% similarity).  \n",
        "The results are not that different."
      ]
    },
    {
      "cell_type": "code",
      "execution_count": null,
      "metadata": {
        "id": "m1SuAThrvTBP"
      },
      "outputs": [],
      "source": [
        "# Combine similar words\n",
        "# vocab = tk.word_index.keys()\n",
        "# shared = set.intersection(set(vocab), set(glove_vectors.wv.vocab))\n",
        "threshold = 0.7\n",
        "\n",
        "keys = X_train.columns\n",
        "combine_records = [-1 for key in keys]\n",
        "last_combine_records = [0 for key in keys]\n",
        "key_list = [[] for key in keys]\n",
        "\n",
        "k = 1\n",
        "\n",
        "for word in shared:\n",
        "  i = tk.word_index[word]\n",
        "  \n",
        "  if combine_records[i] == -1:\n",
        "    combine_records[i] = k\n",
        "    key_list[k-1].append(i)\n",
        "    k = k + 1\n",
        "  \n",
        "  for similar in glove_vectors.most_similar(word):\n",
        "    percent = similar[1]\n",
        "\n",
        "    if percent >= threshold:\n",
        "      # COMBINE!\n",
        "      similar_word = similar[0]\n",
        "      j = tk.word_index[similar_word]\n",
        "      if combine_records[j] != -1:\n",
        "        if last_combine_records[j] > percent:\n",
        "          break\n",
        "        key_list[combine_records[j]-1].remove(j)\n",
        "      # print('COMBINING ' + word + ' & ' + similar_word + ' ' + str(percent))\n",
        "      combine_records[j] = combine_records[i]\n",
        "      last_combine_records[j] = percent\n",
        "      key_list[combine_records[i]-1].append(j)\n",
        "\n",
        "k = 1\n",
        "for l in key_list:\n",
        "  if len(l) == 0:\n",
        "    continue\n",
        "  for item in l:\n",
        "    combine_records[item] = k\n",
        "  k = k + 1\n",
        "for i in range(len(keys)):\n",
        "  if combine_records[i] == -1:\n",
        "    combine_records[i] = k\n",
        "    k = k + 1\n",
        "\n",
        "labels = combine_records"
      ]
    },
    {
      "cell_type": "code",
      "execution_count": null,
      "metadata": {
        "id": "Rg7X2rNcvce_"
      },
      "outputs": [],
      "source": [
        "N = len(X_train.columns)\n",
        "N_Clusters=len(set(labels))\n",
        "train_series_list = [None for x in range(N_Clusters)]\n",
        "test_series_list = [None for x in range(N_Clusters)]\n",
        "for i in range(N):\n",
        "  # If the label (group) is already in the list\n",
        "  # Add it to the group\n",
        "  # If it is the first time this label (group) has appeared - add it\n",
        "  label = labels[i] - 1\n",
        "  real_index = i\n",
        "  if train_series_list[label] is None:\n",
        "    train_series_list[label] = X_train[real_index]\n",
        "    test_series_list[label] = X_test[real_index]\n",
        "  else:\n",
        "    train_series_list[label] = train_series_list[label] + X_train[real_index]\n",
        "    test_series_list[label] = test_series_list[label] + X_test[real_index]\n",
        "  \n",
        "# for i in train_series_list:\n",
        "#   i.apply(lambda x : 1 if x > 0 else 0)\n",
        "# for i in test_series_list:\n",
        "#   i.apply(lambda x : 1 if x > 0 else 0)\n",
        "\n",
        "X_train_result = pd.concat(train_series_list, axis=1)\n",
        "    \n",
        "X_test_result = pd.concat(test_series_list, axis=1)\n",
        "\n",
        "labels = None"
      ]
    },
    {
      "cell_type": "code",
      "execution_count": null,
      "metadata": {
        "id": "Y2m8fsBrx6HH"
      },
      "outputs": [],
      "source": [
        "X_train_result = pd.concat(\n",
        "    [\n",
        "        X_train_result,\n",
        "        X_train\n",
        "    ], axis=1\n",
        ")\n",
        "\n",
        "X_test_result = pd.concat(\n",
        "    [\n",
        "        X_test_result,\n",
        "        X_test\n",
        "    ], axis=1\n",
        ")"
      ]
    },
    {
      "cell_type": "code",
      "execution_count": null,
      "metadata": {
        "id": "-Gk9LSAqx-eS"
      },
      "outputs": [],
      "source": [
        "from tensorflow.keras.layers import Dropout\n",
        "\n",
        "model = keras.Sequential()\n",
        "model.add(keras.layers.Input(shape=X_train_result.shape[1:]))\n",
        "model.add(keras.layers.Dense(3, activation='softmax'))\n",
        "\n",
        "opt = keras.optimizers.Adam(learning_rate=0.001)\n",
        "\n",
        "model.compile(loss='categorical_crossentropy', optimizer=opt, metrics=['accuracy'])"
      ]
    },
    {
      "cell_type": "code",
      "execution_count": null,
      "metadata": {
        "colab": {
          "base_uri": "https://localhost:8080/"
        },
        "id": "hA4nAbG3x-eS",
        "outputId": "3c2f91a9-742b-47ca-9195-0aa2c3ed7986"
      },
      "outputs": [
        {
          "name": "stdout",
          "output_type": "stream",
          "text": [
            "Epoch 1/10\n",
            "544/544 [==============================] - 6s 10ms/step - loss: 0.9377 - accuracy: 0.6092 - val_loss: 0.6800 - val_accuracy: 0.7049\n",
            "Epoch 2/10\n",
            "544/544 [==============================] - 4s 7ms/step - loss: 0.7256 - accuracy: 0.7480 - val_loss: 0.5952 - val_accuracy: 0.7585\n",
            "Epoch 3/10\n",
            "544/544 [==============================] - 4s 8ms/step - loss: 0.6198 - accuracy: 0.8009 - val_loss: 0.6062 - val_accuracy: 0.7642\n",
            "Epoch 4/10\n",
            "544/544 [==============================] - 4s 7ms/step - loss: 0.5480 - accuracy: 0.8311 - val_loss: 0.6012 - val_accuracy: 0.7692\n",
            "Epoch 5/10\n",
            "544/544 [==============================] - 6s 10ms/step - loss: 0.4936 - accuracy: 0.8545 - val_loss: 0.6230 - val_accuracy: 0.7692\n",
            "Epoch 6/10\n",
            "544/544 [==============================] - 4s 7ms/step - loss: 0.4507 - accuracy: 0.8702 - val_loss: 0.6404 - val_accuracy: 0.7667\n",
            "Epoch 7/10\n",
            "544/544 [==============================] - 4s 8ms/step - loss: 0.4152 - accuracy: 0.8805 - val_loss: 0.6308 - val_accuracy: 0.7749\n",
            "Epoch 8/10\n",
            "544/544 [==============================] - 4s 8ms/step - loss: 0.3850 - accuracy: 0.8925 - val_loss: 0.6142 - val_accuracy: 0.7844\n",
            "Epoch 9/10\n",
            "544/544 [==============================] - 4s 7ms/step - loss: 0.3591 - accuracy: 0.8979 - val_loss: 0.6667 - val_accuracy: 0.7730\n",
            "Epoch 10/10\n",
            "544/544 [==============================] - 4s 8ms/step - loss: 0.3365 - accuracy: 0.9064 - val_loss: 0.6463 - val_accuracy: 0.7844\n"
          ]
        },
        {
          "data": {
            "text/plain": [
              "<keras.callbacks.History at 0x7f3d53eed750>"
            ]
          },
          "execution_count": 67,
          "metadata": {},
          "output_type": "execute_result"
        }
      ],
      "source": [
        "model.fit(x=X_train_result, y=y_train, epochs=10, batch_size=16,\n",
        "          validation_data=(X_test_result,y_test))"
      ]
    },
    {
      "cell_type": "markdown",
      "metadata": {
        "id": "LmXSlHBoukQX"
      },
      "source": [
        "##<font color='#77C66E'>**Low Threshold**</font>\n",
        "---\n",
        "This time we use a lower threshold (98% similarity).  \n",
        "The results are not that different."
      ]
    },
    {
      "cell_type": "code",
      "execution_count": null,
      "metadata": {
        "id": "p5Hj2GcmvRU3"
      },
      "outputs": [],
      "source": [
        "# Combine similar words\n",
        "# vocab = tk.word_index.keys()\n",
        "# shared = set.intersection(set(vocab), set(glove_vectors.wv.vocab))\n",
        "threshold = 0.98\n",
        "\n",
        "keys = X_train.columns\n",
        "combine_records = [-1 for key in keys]\n",
        "last_combine_records = [0 for key in keys]\n",
        "key_list = [[] for key in keys]\n",
        "\n",
        "k = 1\n",
        "\n",
        "for word in shared:\n",
        "  i = tk.word_index[word]\n",
        "  \n",
        "  if combine_records[i] == -1:\n",
        "    combine_records[i] = k\n",
        "    key_list[k-1].append(i)\n",
        "    k = k + 1\n",
        "  \n",
        "  for similar in glove_vectors.most_similar(word):\n",
        "    percent = similar[1]\n",
        "\n",
        "    if percent >= threshold:\n",
        "      # COMBINE!\n",
        "      similar_word = similar[0]\n",
        "      j = tk.word_index[similar_word]\n",
        "      if combine_records[j] != -1:\n",
        "        if last_combine_records[j] > percent:\n",
        "          break\n",
        "        key_list[combine_records[j]-1].remove(j)\n",
        "      # print('COMBINING ' + word + ' & ' + similar_word + ' ' + str(percent))\n",
        "      combine_records[j] = combine_records[i]\n",
        "      last_combine_records[j] = percent\n",
        "      key_list[combine_records[i]-1].append(j)\n",
        "\n",
        "k = 1\n",
        "for l in key_list:\n",
        "  if len(l) == 0:\n",
        "    continue\n",
        "  for item in l:\n",
        "    combine_records[item] = k\n",
        "  k = k + 1\n",
        "for i in range(len(keys)):\n",
        "  if combine_records[i] == -1:\n",
        "    combine_records[i] = k\n",
        "    k = k + 1\n",
        "\n",
        "labels = combine_records"
      ]
    },
    {
      "cell_type": "code",
      "execution_count": null,
      "metadata": {
        "id": "T8d4wleCwRc7"
      },
      "outputs": [],
      "source": [
        "N = len(X_train.columns)\n",
        "N_Clusters=len(set(labels))\n",
        "train_series_list = [None for x in range(N_Clusters)]\n",
        "test_series_list = [None for x in range(N_Clusters)]\n",
        "for i in range(N):\n",
        "  # If the label (group) is already in the list\n",
        "  # Add it to the group\n",
        "  # If it is the first time this label (group) has appeared - add it\n",
        "  label = labels[i] - 1\n",
        "  real_index = i\n",
        "  if train_series_list[label] is None:\n",
        "    train_series_list[label] = X_train[real_index]\n",
        "    test_series_list[label] = X_test[real_index]\n",
        "  else:\n",
        "    train_series_list[label] = train_series_list[label] + X_train[real_index]\n",
        "    test_series_list[label] = test_series_list[label] + X_test[real_index]\n",
        "  \n",
        "# for i in train_series_list:\n",
        "#   i.apply(lambda x : 1 if x > 0 else 0)\n",
        "# for i in test_series_list:\n",
        "#   i.apply(lambda x : 1 if x > 0 else 0)\n",
        "\n",
        "X_train_result = pd.concat(train_series_list, axis=1)\n",
        "    \n",
        "X_test_result = pd.concat(test_series_list, axis=1)\n",
        "\n",
        "labels = None"
      ]
    },
    {
      "cell_type": "code",
      "execution_count": null,
      "metadata": {
        "id": "KMkFsVAWwRc8"
      },
      "outputs": [],
      "source": [
        "from tensorflow.keras.layers import Dropout\n",
        "\n",
        "model = keras.Sequential()\n",
        "model.add(keras.layers.Input(shape=X_train_result.shape[1:]))\n",
        "model.add(keras.layers.Dense(3, activation='softmax'))\n",
        "\n",
        "opt = keras.optimizers.Adam(learning_rate=0.001)\n",
        "\n",
        "model.compile(loss='categorical_crossentropy', optimizer=opt, metrics=['accuracy'])"
      ]
    },
    {
      "cell_type": "code",
      "execution_count": null,
      "metadata": {
        "colab": {
          "base_uri": "https://localhost:8080/"
        },
        "id": "X27PyYPfwRc8",
        "outputId": "4122f3a3-9579-457a-b767-39a37083c01b"
      },
      "outputs": [
        {
          "name": "stdout",
          "output_type": "stream",
          "text": [
            "Epoch 1/10\n",
            "544/544 [==============================] - 4s 7ms/step - loss: 0.9895 - accuracy: 0.5675 - val_loss: 0.7597 - val_accuracy: 0.6614\n",
            "Epoch 2/10\n",
            "544/544 [==============================] - 3s 6ms/step - loss: 0.8127 - accuracy: 0.7063 - val_loss: 0.6442 - val_accuracy: 0.7251\n",
            "Epoch 3/10\n",
            "544/544 [==============================] - 3s 6ms/step - loss: 0.7122 - accuracy: 0.7652 - val_loss: 0.5755 - val_accuracy: 0.7667\n",
            "Epoch 4/10\n",
            "544/544 [==============================] - 3s 6ms/step - loss: 0.6411 - accuracy: 0.8044 - val_loss: 0.5746 - val_accuracy: 0.7648\n",
            "Epoch 5/10\n",
            "544/544 [==============================] - 4s 6ms/step - loss: 0.5857 - accuracy: 0.8313 - val_loss: 0.5786 - val_accuracy: 0.7673\n",
            "Epoch 6/10\n",
            "544/544 [==============================] - 3s 6ms/step - loss: 0.5407 - accuracy: 0.8459 - val_loss: 0.5707 - val_accuracy: 0.7774\n",
            "Epoch 7/10\n",
            "544/544 [==============================] - 3s 6ms/step - loss: 0.5030 - accuracy: 0.8621 - val_loss: 0.5895 - val_accuracy: 0.7699\n",
            "Epoch 8/10\n",
            "544/544 [==============================] - 3s 6ms/step - loss: 0.4707 - accuracy: 0.8708 - val_loss: 0.5980 - val_accuracy: 0.7774\n",
            "Epoch 9/10\n",
            "544/544 [==============================] - 3s 6ms/step - loss: 0.4424 - accuracy: 0.8804 - val_loss: 0.6106 - val_accuracy: 0.7781\n",
            "Epoch 10/10\n",
            "544/544 [==============================] - 3s 6ms/step - loss: 0.4177 - accuracy: 0.8869 - val_loss: 0.6223 - val_accuracy: 0.7818\n"
          ]
        },
        {
          "data": {
            "text/plain": [
              "<keras.callbacks.History at 0x7f3d423a3150>"
            ]
          },
          "execution_count": 72,
          "metadata": {},
          "output_type": "execute_result"
        }
      ],
      "source": [
        "model.fit(x=X_train_result, y=y_train, epochs=10, batch_size=16,\n",
        "          validation_data=(X_test_result,y_test))"
      ]
    },
    {
      "cell_type": "markdown",
      "source": [
        "#<font color='#77C66E'>**Garbabe Collection**</font>\n",
        "---\n",
        "We often face the problem of running out of RAM when researching this dataset. Therefore using this code regularly is advised. As you probably expect based on the header, this code manually calls python's garbabe collector to clear the garbage variables of data that we don't use anymore. It is very helpful and it's benefits are in my experience impossible to ignore."
      ],
      "metadata": {
        "id": "Sljb6_9prjAR"
      }
    },
    {
      "cell_type": "code",
      "source": [
        "import gc\n",
        "\n",
        "gc.collect()"
      ],
      "metadata": {
        "id": "AjXXZOvhrkkF"
      },
      "execution_count": null,
      "outputs": []
    },
    {
      "cell_type": "markdown",
      "source": [
        "#<font color='#77C66E'>**Conclusion**</font>\n",
        "---\n",
        "We provided an optimized version of the paper's algorithm (which uses more caching than provided in the paper's text) and used it in one our suggested models in this notebook. (Model 1)  \n",
        "Furthermore, we provided the preprocessing and observed some bag of words models. We used Model 2-Base in our later comparisons between the bag of words and suggested models.  \n",
        "Finally we provided some suggested models, these models that used Word2Vec(W2V) to enhance Bag of Words (BoW) were better than Bag of Words alone.  \n",
        "\n",
        "## <font color='#77C66E'>Best Scores (on test data)</font>\n",
        "**BoW Alone:**  \n",
        "**Model 2- TFIDF-Base:** ≈0.7976  \n",
        "BoW enhanced with W2V:  \n",
        "**Suggested Model 1:** ≈0.8335  \n",
        "**Suggested Model 2:** ≈0.8209"
      ],
      "metadata": {
        "id": "CDuOtynjnMs1"
      }
    },
    {
      "cell_type": "markdown",
      "source": [
        "## <font color='#77C66E'>Other findings</font>\n",
        "<font color='#77C66E'>**1-**</font> Obvious **benefits** of suggested model 2: Speed, Simple to understand  \n",
        "To clarify the speed benefit, the function is very simple, it has no complex logic, again it is not a clustering algorithm. Secondly, it uses gensim's functions which are rather quick.  \n",
        "To explain the simplicity of this function, we can change the threshold of similarity between words. (like combine words only if they are more than 90% similar)  \n",
        "<font color='#77C66E'>**2-**</font> Using a bigger pre-trained Word2Vec model from genism, I have observed that the similar words that are returned have a lower threshold and using thresholds like 90% would probably be strict in many cases. Also, testing the model, I believe it is overkill, and the model we use offers comparable accuracy.  \n",
        "<font color='#77C66E'>**3-**</font> Between the modes for BoW provided by keras I believe this order was observed for their accuracy: 1-Tf-Idf 2- Binary/Count 3- Freq  \n",
        "<font color='#77C66E'>**4-**</font> Keeping previous data has been observed to improve accuracy in some cases with count and binary modes. But I have not seen any benefit using Tf-Idf.\n"
      ],
      "metadata": {
        "id": "ZjIWFqYFpwH8"
      }
    },
    {
      "cell_type": "code",
      "source": [
        ""
      ],
      "metadata": {
        "id": "BoXGP7OMnN_J"
      },
      "execution_count": null,
      "outputs": []
    }
  ],
  "metadata": {
    "colab": {
      "collapsed_sections": [],
      "name": "FinalProject.ipynb",
      "toc_visible": true,
      "provenance": []
    },
    "gpuClass": "standard",
    "kernelspec": {
      "display_name": "Python 3",
      "name": "python3"
    },
    "language_info": {
      "name": "python"
    }
  },
  "nbformat": 4,
  "nbformat_minor": 0
}