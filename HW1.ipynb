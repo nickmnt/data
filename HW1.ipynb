{
  "nbformat": 4,
  "nbformat_minor": 0,
  "metadata": {
    "colab": {
      "name": "HW1.ipynb",
      "provenance": [],
      "collapsed_sections": [],
      "toc_visible": true
    },
    "kernelspec": {
      "name": "python3",
      "display_name": "Python 3"
    },
    "language_info": {
      "name": "python"
    }
  },
  "cells": [
    {
      "cell_type": "markdown",
      "source": [
        "<div dir=\"rtl\">\n",
        "<span> \n",
        "\n",
        "# **پروژه اول درس مبانی هوش محاسباتی**\n",
        "\n",
        "*   شماره دانشجویی: **9822762211**\n",
        "*   نام و نام خانوادگی: **سیدنیما معین تقوی**\n",
        "</span>\n",
        "</div>"
      ],
      "metadata": {
        "id": "nJcMbnd2lCWy"
      }
    },
    {
      "cell_type": "markdown",
      "source": [
        "<div dir=\"rtl\">\n",
        "<span> \n",
        "\n",
        "## مراحل اولیه\n",
        "\n",
        "</span>\n",
        "</div>"
      ],
      "metadata": {
        "id": "YEnirrilESkv"
      }
    },
    {
      "cell_type": "markdown",
      "source": [
        "<div dir=\"rtl\">\n",
        "<span> \n",
        "\n",
        "### Mount google drive\n",
        "چون از محیط google colab استفاده شده است پس از google drive برای استفاده از دیتاست ORL استفاده می نماییم.\n",
        "</span>\n",
        "</div>"
      ],
      "metadata": {
        "id": "EJrH3N0nmeFw"
      }
    },
    {
      "cell_type": "code",
      "source": [
        "from google.colab import drive\n",
        "drive.mount('/content/drive')"
      ],
      "metadata": {
        "colab": {
          "base_uri": "https://localhost:8080/"
        },
        "id": "AADeeGzbntJM",
        "outputId": "11a9469c-aa26-4c78-fef3-4d178a2f878e"
      },
      "execution_count": 108,
      "outputs": [
        {
          "output_type": "stream",
          "name": "stdout",
          "text": [
            "Drive already mounted at /content/drive; to attempt to forcibly remount, call drive.mount(\"/content/drive\", force_remount=True).\n"
          ]
        }
      ]
    },
    {
      "cell_type": "markdown",
      "source": [
        "<div dir=\"rtl\">\n",
        "<span> \n",
        "\n",
        "### Import library to process files\n",
        "در مرحله اول کتاب خانه های مورد نیاز برای پردازش فایل های خام را import می کنیم\n",
        "</span>\n",
        "</div>"
      ],
      "metadata": {
        "id": "pOeT3SG0mwfi"
      }
    },
    {
      "cell_type": "code",
      "source": [
        "from os import listdir\n",
        "from matplotlib import image, pyplot\n",
        "import cv2\n",
        "import numpy as np"
      ],
      "metadata": {
        "id": "UUqzT-4goKO_"
      },
      "execution_count": 109,
      "outputs": []
    },
    {
      "cell_type": "markdown",
      "source": [
        "<div dir=\"rtl\">\n",
        "<span> \n",
        "\n",
        "### Data preprocessing\n",
        "با استفاده از کتابخانه هایی که import کردیم عملیات preprocess کردن را انجام می دهیم. \n",
        " \n",
        "<strong>loaded_images</strong>: لیستی از عکس ها است که به صورت grayscale یعنی سیاه و سفید آنها را می خوانیم و به این لیست اضافه می کنیم. \n",
        "\n",
        "<strong>file_names:</strong> نام هر یک از عکس ها است، همزمان که عکس ها را به loaded_images اضافه می کنیم نام آن عکس را به این لیست اضافه می کنیم (اندیس های دو لیست منطبق هستند)\n",
        " \n",
        "<strong>labels:</strong> لیستی از لیبل درست و ایده آل عکس ها است، همزمان که عکس ها را به file_names اضافه می کنیم، لیبل ایده آل آن عکس را به این لیست اضافه می کنیم (اندیس های هر سه لیست با هم منطبق هستند)\n",
        "\n",
        "در نهایت image ها را با استفاده از numpy برای استفاده در توابع الگوریتم ها reshape می کنیم.\n",
        "</span>\n",
        "</div>"
      ],
      "metadata": {
        "id": "HQbeceJ4nOZI"
      }
    },
    {
      "cell_type": "code",
      "source": [
        "loaded_images = list()\n",
        "file_names = list()\n",
        "labels = list()\n",
        "for filename in listdir('./drive/MyDrive/ORL/'):\n",
        "  img_data = cv2.imread('./drive/MyDrive/ORL/' + filename, cv2.IMREAD_GRAYSCALE)\n",
        "\t# append\n",
        "  loaded_images.append(img_data)\n",
        "  file_names.append(filename)\n",
        "  labels.append(int(filename.split('.')[0].split('_')[1]))\n",
        "\n",
        "reshaped_images = np.array(loaded_images).reshape(410, 80*70)"
      ],
      "metadata": {
        "id": "5tdf1JKhoRTA"
      },
      "execution_count": 110,
      "outputs": []
    },
    {
      "cell_type": "code",
      "source": [
        "loaded_images[0]"
      ],
      "metadata": {
        "colab": {
          "base_uri": "https://localhost:8080/"
        },
        "id": "DQLYLflyo2Qe",
        "outputId": "8ecee516-e0c4-485f-c4b7-9f61cca3e076"
      },
      "execution_count": 111,
      "outputs": [
        {
          "output_type": "execute_result",
          "data": {
            "text/plain": [
              "array([[ 46,  56,  45, ...,  31,  44,  35],\n",
              "       [ 60,  72,  63, ...,  49,  46,  46],\n",
              "       [ 66,  76,  63, ...,  61,  43,  47],\n",
              "       ...,\n",
              "       [ 29, 144, 165, ...,  33,  37,  29],\n",
              "       [ 34, 143, 170, ...,  35,  38,  31],\n",
              "       [ 12, 112, 147, ...,  28,  31,  24]], dtype=uint8)"
            ]
          },
          "metadata": {},
          "execution_count": 111
        }
      ]
    },
    {
      "cell_type": "code",
      "source": [
        "pyplot.subplot(311)\n",
        "pyplot.imshow(loaded_images[0])"
      ],
      "metadata": {
        "colab": {
          "base_uri": "https://localhost:8080/",
          "height": 132
        },
        "id": "eBGorhdvpFfw",
        "outputId": "b8c5fbd8-6d49-4632-bf9a-e24796dc8f88"
      },
      "execution_count": 112,
      "outputs": [
        {
          "output_type": "execute_result",
          "data": {
            "text/plain": [
              "<matplotlib.image.AxesImage at 0x7f2b9fe36890>"
            ]
          },
          "metadata": {},
          "execution_count": 112
        },
        {
          "output_type": "display_data",
          "data": {
            "text/plain": [
              "<Figure size 432x288 with 1 Axes>"
            ],
            "image/png": "[encoded data removed]"
          },
          "metadata": {
            "needs_background": "light"
          }
        }
      ]
    },
    {
      "cell_type": "markdown",
      "source": [
        "<div dir=\"rtl\">\n",
        "<span> \n",
        "\n",
        "### مشاهده داده ها با Seaborn، داده های Noise\n",
        "طبیعتا باید داده های Noise را حذف کنیم ولی اینکه اینکار رو بکنیم یا نکنیم با توجه هدف تمرین مشخص نیست.\n",
        "\n",
        "(کار درست این هست که حذف کنیم، و من میدونم)\n",
        "\n",
        "</span>\n",
        "</div>"
      ],
      "metadata": {
        "id": "CklaDdO0BqSs"
      }
    },
    {
      "cell_type": "code",
      "source": [
        "import seaborn as sns\n",
        "\n",
        "sns.scatterplot(x=reshaped_images[:,0], y=reshaped_images[:,1], c =[\"green\"])"
      ],
      "metadata": {
        "colab": {
          "base_uri": "https://localhost:8080/",
          "height": 282
        },
        "id": "jGdypqokBtGL",
        "outputId": "954c0d71-fa90-4ab7-a766-e7232bdd026f"
      },
      "execution_count": 113,
      "outputs": [
        {
          "output_type": "execute_result",
          "data": {
            "text/plain": [
              "<matplotlib.axes._subplots.AxesSubplot at 0x7f2b9fdf2ad0>"
            ]
          },
          "metadata": {},
          "execution_count": 113
        },
        {
          "output_type": "display_data",
          "data": {
            "text/plain": [
              "<Figure size 432x288 with 1 Axes>"
            ],
            "image/png": "[encoded data removed]"
          },
          "metadata": {
            "needs_background": "light"
          }
        }
      ]
    },
    {
      "cell_type": "markdown",
      "source": [
        "<div dir=\"rtl\">\n",
        "<span> \n",
        "\n",
        "## بررسی KMeans, Custom rand score\n",
        "\n",
        "</span>\n",
        "</div>\n",
        "\n"
      ],
      "metadata": {
        "id": "j5V7ijHbEkmC"
      }
    },
    {
      "cell_type": "markdown",
      "source": [
        "<div dir=\"rtl\">\n",
        "<span> \n",
        "\n",
        "### بررسی KMeans\n",
        "از تابع موجود در کتابخانه sklearn استفاده می کنیم.\n",
        "\n",
        "</span>\n",
        "</div>"
      ],
      "metadata": {
        "id": "XFeiSdFAsk9K"
      }
    },
    {
      "cell_type": "code",
      "source": [
        "from sklearn.cluster import KMeans\n",
        "\n",
        "kmeans = KMeans(random_state=0).fit(reshaped_images) # Default is 8 clusters\n",
        "\n",
        "# Other numbers of clusters observed in the improvement (last) section "
      ],
      "metadata": {
        "id": "C5PvLLfBpF_V"
      },
      "execution_count": 114,
      "outputs": []
    },
    {
      "cell_type": "markdown",
      "source": [
        "<div dir=\"rtl\">\n",
        "<span> \n",
        "\n",
        "### پیاده سازی rand index\n",
        "با استفاده از تابعی که برای rand index در اسلاید های درس و کلاس مطرح شد و روش به دست آوردن بخش های مختلف آن به صورت تک به تک و جایگذاری در فرمول در مرحله نهایی، این تابع را به صورت دستی پیاده سازی می کنیم.\n",
        "\n",
        "تابع را برای بررسی نتیجه اجرای الگوریتم KMeans استفاده می کنیم.\n",
        "</span>\n",
        "</div>"
      ],
      "metadata": {
        "id": "zUMJZz-BtQhp"
      }
    },
    {
      "cell_type": "code",
      "source": [
        "from scipy.special import comb\n",
        "\n",
        "def rand_score_custom(labels_pred, labels_true):\n",
        "  tp_fn = comb(np.bincount(labels_true), 2).sum()\n",
        "  tp_fp = comb(np.bincount(labels_pred), 2).sum()\n",
        "  x = np.c_[(labels_pred, labels_true)]\n",
        "  tp = sum(comb(np.bincount(x[x[:, 0] == i, 1]), 2)\n",
        "    .sum() for i in set(labels_pred))\n",
        "  fn = tp_fn - tp\n",
        "  fp = tp_fp - tp\n",
        "  tn = comb(len(x), 2) - tp - fp - fn\n",
        "  result = (tp + tn) / (tp + fp + fn + tn)\n",
        "  return result\n",
        "\n",
        "rand_score_custom(kmeans.labels_, labels)"
      ],
      "metadata": {
        "colab": {
          "base_uri": "https://localhost:8080/"
        },
        "id": "otjb0-qNrS1h",
        "outputId": "27a2e885-2d0b-4548-8389-63481d31a45c"
      },
      "execution_count": 115,
      "outputs": [
        {
          "output_type": "execute_result",
          "data": {
            "text/plain": [
              "0.8548869938577136"
            ]
          },
          "metadata": {},
          "execution_count": 115
        }
      ]
    },
    {
      "cell_type": "markdown",
      "source": [
        "<div dir=\"rtl\">\n",
        "<span> \n",
        "\n",
        "### بررسی درستی rand index\n",
        "از تابع rand_score که در کتابخانه sklearn موجود است استفاده می کنیم تا درستی تابعی که خودمان به صورت custom پیاده سازی کردیم را بررسی کنیم. این تابع را برای بررسی نتیجه KMeans استفاده می کنیم و همانطور که می بینید این مقدار با مقدار قبلی ای که با تابع custom به دست آورده ایم مطابقت دارد.\n",
        "</span>\n",
        "</div>"
      ],
      "metadata": {
        "id": "HqI1em8rt5ia"
      }
    },
    {
      "cell_type": "code",
      "source": [
        "from sklearn.metrics.cluster import rand_score\n",
        "rand_score(kmeans.labels_, labels)"
      ],
      "metadata": {
        "colab": {
          "base_uri": "https://localhost:8080/"
        },
        "id": "Z9BuKklAwzsB",
        "outputId": "8f1fa90b-798b-481d-bd8c-36fac2133801"
      },
      "execution_count": 116,
      "outputs": [
        {
          "output_type": "execute_result",
          "data": {
            "text/plain": [
              "0.8548869938577136"
            ]
          },
          "metadata": {},
          "execution_count": 116
        }
      ]
    },
    {
      "cell_type": "markdown",
      "source": [
        "<div dir=\"rtl\">\n",
        "<span> \n",
        "\n",
        "### Seaborn plot\n",
        "</span>\n",
        "</div>"
      ],
      "metadata": {
        "id": "LNtk9MYyC5GH"
      }
    },
    {
      "cell_type": "code",
      "source": [
        "sns.scatterplot(x=reshaped_images[:,0], y=reshaped_images[:,1], c =kmeans.labels_)"
      ],
      "metadata": {
        "colab": {
          "base_uri": "https://localhost:8080/",
          "height": 282
        },
        "id": "tSruBmqQC5oG",
        "outputId": "b16e2543-bbac-4093-b6b5-0b9dce14d158"
      },
      "execution_count": 117,
      "outputs": [
        {
          "output_type": "execute_result",
          "data": {
            "text/plain": [
              "<matplotlib.axes._subplots.AxesSubplot at 0x7f2ba0231110>"
            ]
          },
          "metadata": {},
          "execution_count": 117
        },
        {
          "output_type": "display_data",
          "data": {
            "text/plain": [
              "<Figure size 432x288 with 1 Axes>"
            ],
            "image/png": "[encoded data removed]"
          },
          "metadata": {
            "needs_background": "light"
          }
        }
      ]
    },
    {
      "cell_type": "markdown",
      "source": [
        "<div dir=\"rtl\">\n",
        "<span> \n",
        "\n",
        "## بررسی DBSCAN\n",
        "از تابع موجود در کتابخانه sklearn استفاده می کنیم.\n",
        "\n",
        "</span>\n",
        "</div>"
      ],
      "metadata": {
        "id": "EADlDc2MvGJl"
      }
    },
    {
      "cell_type": "code",
      "source": [
        "from sklearn.cluster import DBSCAN\n",
        "\n",
        "dbscan = DBSCAN(eps=2000, min_samples=1).fit(reshaped_images)"
      ],
      "metadata": {
        "id": "1twdFrKXxzMn"
      },
      "execution_count": 118,
      "outputs": []
    },
    {
      "cell_type": "code",
      "source": [
        "rand_score_custom(dbscan.labels_, labels)"
      ],
      "metadata": {
        "colab": {
          "base_uri": "https://localhost:8080/"
        },
        "id": "F9LwYqe1yeKA",
        "outputId": "fb59f264-d710-416e-dd8e-ab6f4f92fcf6"
      },
      "execution_count": 119,
      "outputs": [
        {
          "output_type": "execute_result",
          "data": {
            "text/plain": [
              "0.98518695211402"
            ]
          },
          "metadata": {},
          "execution_count": 119
        }
      ]
    },
    {
      "cell_type": "markdown",
      "source": [
        "<div dir=\"rtl\">\n",
        "<span> \n",
        "\n",
        "### Seaborn plot\n",
        "</span>\n",
        "</div>"
      ],
      "metadata": {
        "id": "xRUT_l17DXrJ"
      }
    },
    {
      "cell_type": "code",
      "source": [
        "sns.scatterplot(x=reshaped_images[:,0], y=reshaped_images[:,1], c =dbscan.labels_)"
      ],
      "metadata": {
        "colab": {
          "base_uri": "https://localhost:8080/",
          "height": 282
        },
        "outputId": "2249e385-242d-46da-88cc-ec58490135f7",
        "id": "ZnyIb7aRDXrL"
      },
      "execution_count": 120,
      "outputs": [
        {
          "output_type": "execute_result",
          "data": {
            "text/plain": [
              "<matplotlib.axes._subplots.AxesSubplot at 0x7f2b9fdfc7d0>"
            ]
          },
          "metadata": {},
          "execution_count": 120
        },
        {
          "output_type": "display_data",
          "data": {
            "text/plain": [
              "<Figure size 432x288 with 1 Axes>"
            ],
            "image/png": "[encoded data removed]"
          },
          "metadata": {
            "needs_background": "light"
          }
        }
      ]
    },
    {
      "cell_type": "markdown",
      "source": [
        "<div dir=\"rtl\">\n",
        "<span> \n",
        "\n",
        "## بررسی Agglomerative (average linkage)\n",
        "از تابع موجود در کتابخانه sklearn استفاده می کنیم.\n",
        "\n",
        "</span>\n",
        "</div>"
      ],
      "metadata": {
        "id": "vKbI-3ukvLz_"
      }
    },
    {
      "cell_type": "code",
      "source": [
        "from sklearn.cluster import AgglomerativeClustering\n",
        "\n",
        "agg_average = AgglomerativeClustering(affinity='euclidean',linkage='average', distance_threshold=2900, n_clusters=None, compute_full_tree= True).fit(reshaped_images)\n",
        "rand_score_custom(agg_average.labels_, labels)"
      ],
      "metadata": {
        "id": "tgK3rjKvzpme",
        "colab": {
          "base_uri": "https://localhost:8080/"
        },
        "outputId": "ea91bf6f-9674-4164-83c3-fbd4496025ba"
      },
      "execution_count": 121,
      "outputs": [
        {
          "output_type": "execute_result",
          "data": {
            "text/plain": [
              "0.9852108056532888"
            ]
          },
          "metadata": {},
          "execution_count": 121
        }
      ]
    },
    {
      "cell_type": "markdown",
      "source": [
        "<div dir=\"rtl\">\n",
        "<span> \n",
        "\n",
        "### Seaborn plot\n",
        "</span>\n",
        "</div>"
      ],
      "metadata": {
        "id": "ELQ0888lDgsL"
      }
    },
    {
      "cell_type": "code",
      "source": [
        "sns.scatterplot(x=reshaped_images[:,0], y=reshaped_images[:,1], c =agg_average.labels_)"
      ],
      "metadata": {
        "colab": {
          "base_uri": "https://localhost:8080/",
          "height": 282
        },
        "outputId": "fa7cc436-8098-4250-9bc2-757975bb7ed6",
        "id": "CUPqhbV3DgsN"
      },
      "execution_count": 122,
      "outputs": [
        {
          "output_type": "execute_result",
          "data": {
            "text/plain": [
              "<matplotlib.axes._subplots.AxesSubplot at 0x7f2b9fd12ed0>"
            ]
          },
          "metadata": {},
          "execution_count": 122
        },
        {
          "output_type": "display_data",
          "data": {
            "text/plain": [
              "<Figure size 432x288 with 1 Axes>"
            ],
            "image/png": "[encoded data removed]"
          },
          "metadata": {
            "needs_background": "light"
          }
        }
      ]
    },
    {
      "cell_type": "markdown",
      "source": [
        "<div dir=\"rtl\">\n",
        "<span> \n",
        "\n",
        "## بررسی Agglomerative (single linkage)\n",
        "از تابع موجود در کتابخانه sklearn استفاده می کنیم.\n",
        "\n",
        "</span>\n",
        "</div>"
      ],
      "metadata": {
        "id": "x3g5i_rBvSTn"
      }
    },
    {
      "cell_type": "code",
      "source": [
        "agg_single = AgglomerativeClustering(affinity='euclidean',linkage='single', distance_threshold=2000, n_clusters=None, compute_full_tree= True).fit(reshaped_images)\n",
        "rand_score_custom(agg_single.labels_, labels)"
      ],
      "metadata": {
        "colab": {
          "base_uri": "https://localhost:8080/"
        },
        "id": "_2igUa1dJo34",
        "outputId": "9ba1e160-41fd-456d-8abd-c14fac5d281a"
      },
      "execution_count": 123,
      "outputs": [
        {
          "output_type": "execute_result",
          "data": {
            "text/plain": [
              "0.98518695211402"
            ]
          },
          "metadata": {},
          "execution_count": 123
        }
      ]
    },
    {
      "cell_type": "markdown",
      "source": [
        "<div dir=\"rtl\">\n",
        "<span> \n",
        "\n",
        "### Seaborn plot\n",
        "</span>\n",
        "</div>"
      ],
      "metadata": {
        "id": "7kn7LvFODjcU"
      }
    },
    {
      "cell_type": "code",
      "source": [
        "sns.scatterplot(x=reshaped_images[:,0], y=reshaped_images[:,1], c =agg_single.labels_)"
      ],
      "metadata": {
        "colab": {
          "base_uri": "https://localhost:8080/",
          "height": 282
        },
        "outputId": "f17b8620-9279-461c-c5cd-267fc48a0ee0",
        "id": "6JZmbOx3DjcV"
      },
      "execution_count": 124,
      "outputs": [
        {
          "output_type": "execute_result",
          "data": {
            "text/plain": [
              "<matplotlib.axes._subplots.AxesSubplot at 0x7f2b9fc99dd0>"
            ]
          },
          "metadata": {},
          "execution_count": 124
        },
        {
          "output_type": "display_data",
          "data": {
            "text/plain": [
              "<Figure size 432x288 with 1 Axes>"
            ],
            "image/png": "[encoded data removed]"
          },
          "metadata": {
            "needs_background": "light"
          }
        }
      ]
    },
    {
      "cell_type": "markdown",
      "source": [
        "<div dir=\"rtl\">\n",
        "<span> \n",
        "\n",
        "## بررسی Agglomerative (complete linkage)\n",
        "از تابع موجود در کتابخانه sklearn استفاده می کنیم.\n",
        "\n",
        "</span>\n",
        "</div>"
      ],
      "metadata": {
        "id": "Yn28Jl1ovYJr"
      }
    },
    {
      "cell_type": "code",
      "source": [
        "agg_complete = AgglomerativeClustering(affinity='euclidean',linkage='complete', distance_threshold=2900, n_clusters=None, compute_full_tree= True).fit(reshaped_images)\n",
        "rand_score_custom(agg_complete.labels_, labels)"
      ],
      "metadata": {
        "id": "982fXsrYJ3Iu",
        "colab": {
          "base_uri": "https://localhost:8080/"
        },
        "outputId": "fa928138-819d-46e4-a680-b82082226612"
      },
      "execution_count": 125,
      "outputs": [
        {
          "output_type": "execute_result",
          "data": {
            "text/plain": [
              "0.9863319219989266"
            ]
          },
          "metadata": {},
          "execution_count": 125
        }
      ]
    },
    {
      "cell_type": "markdown",
      "source": [
        "<div dir=\"rtl\">\n",
        "<span> \n",
        "\n",
        "### Seaborn plot\n",
        "</span>\n",
        "</div>"
      ],
      "metadata": {
        "id": "4_a81paSDuLA"
      }
    },
    {
      "cell_type": "code",
      "source": [
        "sns.scatterplot(x=reshaped_images[:,0], y=reshaped_images[:,1], c =agg_complete.labels_)"
      ],
      "metadata": {
        "colab": {
          "base_uri": "https://localhost:8080/",
          "height": 282
        },
        "outputId": "b8aa5ccb-4048-4830-ef3c-f8dcb028a251",
        "id": "M_NP6M1DDuLB"
      },
      "execution_count": 126,
      "outputs": [
        {
          "output_type": "execute_result",
          "data": {
            "text/plain": [
              "<matplotlib.axes._subplots.AxesSubplot at 0x7f2b9fc18f50>"
            ]
          },
          "metadata": {},
          "execution_count": 126
        },
        {
          "output_type": "display_data",
          "data": {
            "text/plain": [
              "<Figure size 432x288 with 1 Axes>"
            ],
            "image/png": "[encoded data removed]"
          },
          "metadata": {
            "needs_background": "light"
          }
        }
      ]
    },
    {
      "cell_type": "markdown",
      "source": [
        "<div dir=\"rtl\">\n",
        "<span> \n",
        "\n",
        "## بهبود الگوریتم KMeans\n",
        "از تابع موجود در کتابخانه sklearn استفاده می کنیم.\n",
        "\n",
        "همانطور که در درس هم گفته شد یکی از نقاط ضعف الگوریتم KMeans دردسر تعیین پارامتر k هست که در الگوریتم های دیگری که معرفی شد این دردسر کمتر مشاهده می شود و تعیین پارامتر های آنها آسان تر است. \n",
        "\n",
        "راه حل پیشنهادی برای حل این مشکل تعیین پارامتر ها برای الگوریتمی دیگر مانند الگوریتم agglomerative و سپس استفاده از تعداد کلاستر برای اجرای الگوریتم KMeans است.\n",
        "با بررسی داده های مختلف موفق بودن این روش را در شرایط گوناگون بررسی می کنیم.\n",
        "\n",
        "انجام Overclustering به دلیل تاکید مرتب استاد بر استفاده از آن است.</span>\n",
        "</div>"
      ],
      "metadata": {
        "id": "8eUn2fvq9b7U"
      }
    },
    {
      "cell_type": "markdown",
      "source": [
        "<div dir=\"rtl\">\n",
        "<span> \n",
        "\n",
        "### اجرای الگوریتم KMeans با 8 کلاستر که مقدار default است\n",
        "\n",
        "</span>\n",
        "</div>"
      ],
      "metadata": {
        "id": "cS3vbaZs-2f4"
      }
    },
    {
      "cell_type": "code",
      "source": [
        "kmeans = KMeans(random_state=0).fit(reshaped_images)\n",
        "rand_score_custom(kmeans.labels_, labels)"
      ],
      "metadata": {
        "colab": {
          "base_uri": "https://localhost:8080/"
        },
        "id": "4w2C-ybk-Cu-",
        "outputId": "c6bbe5a6-ae3c-4ec2-dc51-aeca220c7d20"
      },
      "execution_count": 127,
      "outputs": [
        {
          "output_type": "execute_result",
          "data": {
            "text/plain": [
              "0.8548869938577136"
            ]
          },
          "metadata": {},
          "execution_count": 127
        }
      ]
    },
    {
      "cell_type": "markdown",
      "source": [
        "<div dir=\"rtl\">\n",
        "<span> \n",
        "\n",
        "### روش پیشنهادی\n",
        "\n",
        "</span>\n",
        "</div>"
      ],
      "metadata": {
        "id": "wrXxGdOF_JXG"
      }
    },
    {
      "cell_type": "code",
      "source": [
        "agg_complete = AgglomerativeClustering(affinity='euclidean',linkage='complete', distance_threshold=4000, n_clusters=None, compute_full_tree= True).fit(reshaped_images)\n",
        "\n",
        "kmeans = KMeans(n_clusters = agg_complete.n_clusters_ * 2, random_state=0).fit(reshaped_images)\n",
        "rand_score_custom(kmeans.labels_, labels)"
      ],
      "metadata": {
        "colab": {
          "base_uri": "https://localhost:8080/"
        },
        "id": "kge_3IAl46EY",
        "outputId": "1f8461ed-d48f-4e3b-cccd-4a4894ee699f"
      },
      "execution_count": 128,
      "outputs": [
        {
          "output_type": "execute_result",
          "data": {
            "text/plain": [
              "0.9859025582920866"
            ]
          },
          "metadata": {},
          "execution_count": 128
        }
      ]
    },
    {
      "cell_type": "markdown",
      "source": [
        "<div dir=\"rtl\">\n",
        "<span> \n",
        "\n",
        "### روش بهینه (با دانستن عدد 41)\n",
        "\n",
        "</span>\n",
        "</div>"
      ],
      "metadata": {
        "id": "s_fvTF5w_k-F"
      }
    },
    {
      "cell_type": "code",
      "source": [
        "kmeans = KMeans(82, random_state=0).fit(reshaped_images)\n",
        "rand_score_custom(kmeans.labels_, labels)"
      ],
      "metadata": {
        "colab": {
          "base_uri": "https://localhost:8080/"
        },
        "id": "2dFO5PSj4N3T",
        "outputId": "a5dd6631-371f-4184-a854-96a8adf9cf15"
      },
      "execution_count": 129,
      "outputs": [
        {
          "output_type": "execute_result",
          "data": {
            "text/plain": [
              "0.9876080863498121"
            ]
          },
          "metadata": {},
          "execution_count": 129
        }
      ]
    },
    {
      "cell_type": "markdown",
      "source": [
        "<div dir=\"rtl\">\n",
        "<span> \n",
        "\n",
        "### روش پیشنهادی n_clusters\n",
        "\n",
        "</span>\n",
        "</div>"
      ],
      "metadata": {
        "id": "bhGB-eqDGR_W"
      }
    },
    {
      "cell_type": "code",
      "source": [
        "agg_complete.n_clusters_ * 2"
      ],
      "metadata": {
        "colab": {
          "base_uri": "https://localhost:8080/"
        },
        "id": "9OzvpUdnFlA3",
        "outputId": "bfb63827-3afb-4be8-af4d-8f345181550a"
      },
      "execution_count": 130,
      "outputs": [
        {
          "output_type": "execute_result",
          "data": {
            "text/plain": [
              "62"
            ]
          },
          "metadata": {},
          "execution_count": 130
        }
      ]
    },
    {
      "cell_type": "markdown",
      "source": [
        "<div dir=\"rtl\">\n",
        "<span> \n",
        "\n",
        "### روش بهینه n_clusters\n",
        "\n",
        "</span>\n",
        "</div>"
      ],
      "metadata": {
        "id": "JdI0vObeGVWI"
      }
    },
    {
      "cell_type": "code",
      "source": [
        "82"
      ],
      "metadata": {
        "colab": {
          "base_uri": "https://localhost:8080/"
        },
        "id": "YZxS1COmGMz5",
        "outputId": "54c41339-16a2-48f4-b3bf-fa511cd500ce"
      },
      "execution_count": 131,
      "outputs": [
        {
          "output_type": "execute_result",
          "data": {
            "text/plain": [
              "82"
            ]
          },
          "metadata": {},
          "execution_count": 131
        }
      ]
    },
    {
      "cell_type": "markdown",
      "source": [
        "<div dir=\"rtl\">\n",
        "<span> \n",
        "\n",
        "### Agglomerativeی که اجرا کردیم به تنهایی\n",
        "\n",
        "</span>\n",
        "</div>"
      ],
      "metadata": {
        "id": "5n1ISf-2GZ38"
      }
    },
    {
      "cell_type": "code",
      "source": [
        "agg_complete = AgglomerativeClustering(affinity='euclidean',linkage='complete', distance_threshold=4000, n_clusters=None, compute_full_tree= True).fit(reshaped_images)\n",
        "rand_score_custom(agg_complete.labels_, labels)"
      ],
      "metadata": {
        "colab": {
          "base_uri": "https://localhost:8080/"
        },
        "id": "9EA54BHBGpMR",
        "outputId": "9ae90d1f-abbe-46db-e91d-681a4e288ba1"
      },
      "execution_count": 132,
      "outputs": [
        {
          "output_type": "execute_result",
          "data": {
            "text/plain": [
              "0.9591865943109309"
            ]
          },
          "metadata": {},
          "execution_count": 132
        }
      ]
    },
    {
      "cell_type": "markdown",
      "source": [
        "<div dir=\"rtl\">\n",
        "<span> \n",
        "\n",
        "### آزمایش با Agglomerative های مختلف (پارامتر های متنوع)\n",
        "\n",
        "</span>\n",
        "</div>"
      ],
      "metadata": {
        "id": "9Ixn4ViGGzoB"
      }
    },
    {
      "cell_type": "code",
      "source": [
        "agg_complete = AgglomerativeClustering(affinity='euclidean',linkage='complete', distance_threshold=7000, n_clusters=None, compute_full_tree= True).fit(reshaped_images)\n",
        "kmeans = KMeans(n_clusters = agg_complete.n_clusters_ * 2, random_state=0).fit(reshaped_images)\n",
        "rand_score_custom(kmeans.labels_, labels)"
      ],
      "metadata": {
        "colab": {
          "base_uri": "https://localhost:8080/"
        },
        "id": "TjipFDIMHN2R",
        "outputId": "06694067-0967-48ef-dcea-e47002a58abc"
      },
      "execution_count": 133,
      "outputs": [
        {
          "output_type": "execute_result",
          "data": {
            "text/plain": [
              "0.6439024390243903"
            ]
          },
          "metadata": {},
          "execution_count": 133
        }
      ]
    },
    {
      "cell_type": "code",
      "source": [
        "agg_complete = AgglomerativeClustering(affinity='euclidean',linkage='complete', distance_threshold=6000, n_clusters=None, compute_full_tree= True).fit(reshaped_images)\n",
        "kmeans = KMeans(n_clusters = agg_complete.n_clusters_ * 2, random_state=0).fit(reshaped_images)\n",
        "rand_score_custom(kmeans.labels_, labels)"
      ],
      "metadata": {
        "colab": {
          "base_uri": "https://localhost:8080/"
        },
        "id": "dnBw-MUsHLyV",
        "outputId": "0e0a9fba-8bfc-4ad4-f4ae-4e9de448cda9"
      },
      "execution_count": 134,
      "outputs": [
        {
          "output_type": "execute_result",
          "data": {
            "text/plain": [
              "0.8859562287554416"
            ]
          },
          "metadata": {},
          "execution_count": 134
        }
      ]
    },
    {
      "cell_type": "code",
      "source": [
        "agg_complete = AgglomerativeClustering(affinity='euclidean',linkage='complete', distance_threshold=5000, n_clusters=None, compute_full_tree= True).fit(reshaped_images)\n",
        "kmeans = KMeans(n_clusters = agg_complete.n_clusters_ * 2, random_state=0).fit(reshaped_images)\n",
        "rand_score_custom(kmeans.labels_, labels)"
      ],
      "metadata": {
        "colab": {
          "base_uri": "https://localhost:8080/"
        },
        "id": "wPdAJfhTHKJi",
        "outputId": "8696562c-e2cf-419a-d52c-dc39d8a9efc5"
      },
      "execution_count": 135,
      "outputs": [
        {
          "output_type": "execute_result",
          "data": {
            "text/plain": [
              "0.9563599499075676"
            ]
          },
          "metadata": {},
          "execution_count": 135
        }
      ]
    },
    {
      "cell_type": "code",
      "source": [
        "agg_complete = AgglomerativeClustering(affinity='euclidean',linkage='complete', distance_threshold=3000, n_clusters=None, compute_full_tree= True).fit(reshaped_images)\n",
        "kmeans = KMeans(n_clusters = agg_complete.n_clusters_ * 2, random_state=0).fit(reshaped_images)\n",
        "rand_score_custom(kmeans.labels_, labels)"
      ],
      "metadata": {
        "colab": {
          "base_uri": "https://localhost:8080/"
        },
        "id": "ReoniKytG9tG",
        "outputId": "19047f54-8094-415c-e734-8754cfd3e4c2"
      },
      "execution_count": 136,
      "outputs": [
        {
          "output_type": "execute_result",
          "data": {
            "text/plain": [
              "0.9818951636949133"
            ]
          },
          "metadata": {},
          "execution_count": 136
        }
      ]
    },
    {
      "cell_type": "markdown",
      "source": [
        "<div dir=\"rtl\">\n",
        "<span> \n",
        "\n",
        "### آزمایش با Agglomerative های مختلف (پارامتر های متنوع) - خود Agglomerative به تنهایی\n",
        "\n",
        "</span>\n",
        "</div>"
      ],
      "metadata": {
        "id": "LAAGF0IyHWbC"
      }
    },
    {
      "cell_type": "code",
      "source": [
        "agg_complete = AgglomerativeClustering(affinity='euclidean',linkage='complete', distance_threshold=7000, n_clusters=None, compute_full_tree= True).fit(reshaped_images)\n",
        "rand_score_custom(agg_complete.labels_, labels)"
      ],
      "metadata": {
        "colab": {
          "base_uri": "https://localhost:8080/"
        },
        "outputId": "e09f29fe-4663-4224-cea9-4b7bda9eb5f8",
        "id": "-fAmbehRHdbr"
      },
      "execution_count": 137,
      "outputs": [
        {
          "output_type": "execute_result",
          "data": {
            "text/plain": [
              "0.06971196851332817"
            ]
          },
          "metadata": {},
          "execution_count": 137
        }
      ]
    },
    {
      "cell_type": "code",
      "source": [
        "agg_complete = AgglomerativeClustering(affinity='euclidean',linkage='complete', distance_threshold=6000, n_clusters=None, compute_full_tree= True).fit(reshaped_images)\n",
        "rand_score_custom(agg_complete.labels_, labels)"
      ],
      "metadata": {
        "colab": {
          "base_uri": "https://localhost:8080/"
        },
        "outputId": "ac4ddf4b-4b90-4db3-ed81-0627c9a5a788",
        "id": "6ky8ZtlqHdbs"
      },
      "execution_count": 138,
      "outputs": [
        {
          "output_type": "execute_result",
          "data": {
            "text/plain": [
              "0.6587154869103703"
            ]
          },
          "metadata": {},
          "execution_count": 138
        }
      ]
    },
    {
      "cell_type": "code",
      "source": [
        "agg_complete = AgglomerativeClustering(affinity='euclidean',linkage='complete', distance_threshold=5000, n_clusters=None, compute_full_tree= True).fit(reshaped_images)\n",
        "rand_score_custom(agg_complete.labels_, labels)"
      ],
      "metadata": {
        "colab": {
          "base_uri": "https://localhost:8080/"
        },
        "outputId": "2d09af79-1eed-43c7-b990-6ed1af3a488f",
        "id": "NUAmm8HYHdbs"
      },
      "execution_count": 139,
      "outputs": [
        {
          "output_type": "execute_result",
          "data": {
            "text/plain": [
              "0.8361261852227324"
            ]
          },
          "metadata": {},
          "execution_count": 139
        }
      ]
    },
    {
      "cell_type": "code",
      "source": [
        "agg_complete = AgglomerativeClustering(affinity='euclidean',linkage='complete', distance_threshold=3000, n_clusters=None, compute_full_tree= True).fit(reshaped_images)\n",
        "rand_score_custom(agg_complete.labels_, labels)"
      ],
      "metadata": {
        "colab": {
          "base_uri": "https://localhost:8080/"
        },
        "outputId": "36874758-cccf-4a97-e908-239a9ef22b77",
        "id": "QV99LP1gHdbt"
      },
      "execution_count": 140,
      "outputs": [
        {
          "output_type": "execute_result",
          "data": {
            "text/plain": [
              "0.9866897250879599"
            ]
          },
          "metadata": {},
          "execution_count": 140
        }
      ]
    },
    {
      "cell_type": "markdown",
      "source": [
        "<div dir=\"rtl\">\n",
        "<span> \n",
        "\n",
        "### نتیجه نهایی\n",
        "\n",
        "**نتیجه 1:** توانستیم با تعیین پارامتر های الگوریتم Agglomerative که مشخص کردنشان ساده تر از تعیین k است به نتیجه ای با دقت **بسیار نزدیک** به نتیجه اجرای الگوریتم با kیی بهینه (41*2) که 2 برای overclustering است برسیم.\n",
        "\n",
        "**یاداوری**: انجام overclustering بخاطر توصیه های مرتب استاد به انجام آن است.\n",
        "\n",
        "**نتیجه 2**: با آزمایش کردن پارامتر های متعدد برای الگوریتم Agglomerative به این نتیجه رسیدیم که در اغلب موارد به نتیجه بهتری نسبت به اجرای الگوریتم Agglomerative به تنهایی می رسیم (در بسیاری موارد با اختلاف بسیار).\n",
        "همچنین در مواقعی که به نتیجه بدتری رسیدیم با اختلاف بسیار ناچیزی بود.\n",
        "\n",
        "برای **جمعبندی**، مشخص شد استفاده از این روش بسیار به صرفه تر از تعیین مستقیم K است (با توجه به وقت صرفه جویی شده و نزدیکی نتیجه به نتیجه ای با دانستن تعداد کلاستر واقعی یعنی 41).\n",
        "همچنین نشان داده شد با پارامتر های متعدد برای الگوریتم Agglomerative به جواب های بسیار خوبی رسیدیم که به طور کلی بهتر از استفاده از روش Agglomerative به صورت تنها بود.\n",
        "\n",
        "**توجه**: این مطالعات با توجه به اینکه باید در چارچوب دیتاست تمرین باشند روی یک دیتاست انجام شده و ممکن است مطالعات دیگر روی دیتاست هایی که ساختار متفاوتی دارند به نتیجه های متفاوت (عملکرد بهتر یا بدتر) برسند.\n",
        "</span>\n",
        "</div>"
      ],
      "metadata": {
        "id": "haOy4YmHIQaW"
      }
    }
  ]
}